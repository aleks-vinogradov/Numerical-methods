{
 "cells": [
  {
   "cell_type": "markdown",
   "metadata": {},
   "source": [
    "# Определение стоимости автомобилей\n",
    "\n",
    "**Описание исследования**\n",
    "\n",
    "Сервис по продаже автомобилей с пробегом «Не бит, не крашен» стремится расширить свою клиентскую базу и улучшить сервис для текущих пользователей. В рамках этого направления планируется разработка приложения, способного точно определять рыночную стоимость подержанных автомобилей. Это позволит пользователям получать актуальные и обоснованные оценки своих автомобилей, что повысит доверие к сервису и привлечет новых клиентов.\n",
    "\n",
    "**Цель исследования**\n",
    "\n",
    "Разработать и внедрить модель машинного обучения, которая будет точно предсказывать рыночную стоимость подержанных автомобилей на основе технических характеристик, комплектации и исторических цен других автомобилей.\n",
    "\n",
    "**Суть исследования**\n",
    "\n",
    "Провести анализ и обработку предоставленных данных о подержанных автомобилях, а затем построить и оценить различные модели машинного обучения для определения их эффективности в задаче предсказания цены. Это позволит выбрать наиболее подходящую модель, учитывая критерии качества предсказания, время обучения и время предсказания модели."
   ]
  },
  {
   "cell_type": "markdown",
   "metadata": {},
   "source": [
    "# Задачи исследования"
   ]
  },
  {
   "cell_type": "markdown",
   "metadata": {},
   "source": [
    "**1.Сбор и подготовка данных:**\n",
    "\n",
    "- Загрузка и первичное изучение данных из файла `/datasets/autos.csv`.\n",
    "- Очистка данных: заполнение пропущенных значений и обработка аномалий.\n",
    "- Удаление неинформативных признаков.\n",
    "\n",
    "**2.Подготовка выборок:**\n",
    "\n",
    "- Разделение данных на обучающую и тестовую выборки.\n",
    "- Применение методов кодирования категориальных признаков и масштабирования числовых.\n",
    "\n",
    "**3.Построение моделей:**\n",
    "\n",
    "- Обучение различных моделей машинного обучения (градиентный бустинг - `LightGBM`, `CatBoost`) и более простые модели (линейная регрессия - `Ridge` и `Lasso`, решающие деревья - `Random Forest`).\n",
    "- Настройка гиперпараметров для каждой модели.\n",
    "\n",
    "**4.Оценка моделей:**\n",
    "\n",
    "Сравнение моделей по следующим критериям:\n",
    "\n",
    "- Точность предсказания (метрика RMSE).\n",
    "- Время обучения моделей.\n",
    "- Время предсказания моделей.\n",
    "\n",
    "**5.Выбор и проверка лучшей модели:**\n",
    "\n",
    "- Выбор модели, оптимально соответствующей критериям заказчика.\n",
    "- Проверка качества выбранной модели на тестовой выборке.\n",
    "\n",
    "**6.Документация и рекомендации:**\n",
    "\n",
    "- Оформление результатов исследования.\n",
    "- Рекомендации по внедрению модели в приложение сервиса «Не бит, не крашен»."
   ]
  },
  {
   "cell_type": "markdown",
   "metadata": {},
   "source": [
    "**Исходные данные**\n",
    "\n",
    "Исследование будет проводиться на основе данных, содержащихся в файле `/datasets/autos.csv`. Данный датасет включает следующие признаки:\n",
    "\n",
    "- `DateCrawled` — дата скачивания анкеты из базы.\n",
    "- `VehicleType` — тип автомобильного кузова.\n",
    "- `RegistrationYear` — год регистрации автомобиля.\n",
    "- `Gearbox` — тип коробки передач.\n",
    "- `Power` — мощность (л. с.).\n",
    "- `Model` — модель автомобиля.\n",
    "- `Kilometer` — пробег (км).\n",
    "- `RegistrationMonth` — месяц регистрации автомобиля.\n",
    "- `FuelType` — тип топлива.\n",
    "- `Brand` — марка автомобиля.\n",
    "- `Repaired` — была ли машина в ремонте или нет.\n",
    "- `DateCreated` — дата создания анкеты.\n",
    "- `NumberOfPictures` — количество фотографий автомобиля.\n",
    "- `PostalCode` — почтовый индекс владельца анкеты (пользователя).\n",
    "- `LastSeen` — дата последней активности пользователя.\n",
    "\n",
    "Целевой признак\n",
    "- `Price` — цена (евро)"
   ]
  },
  {
   "cell_type": "markdown",
   "metadata": {},
   "source": [
    "**План работы**\n",
    "\n",
    "1. Изучение общей информации\n",
    "2. Подготовка данных\n",
    "3. Построение и обучение моделей\n",
    "4. Оценка и сравнение моделей\n",
    "5. Выбор и валидация лучшей модели\n",
    "6. Общий вывод"
   ]
  },
  {
   "cell_type": "code",
   "execution_count": null,
   "metadata": {},
   "outputs": [],
   "source": []
  },
  {
   "cell_type": "markdown",
   "metadata": {},
   "source": [
    "## Изучение общей информации\n",
    "### Установка и импорт необходимых библиотек"
   ]
  },
  {
   "cell_type": "code",
   "execution_count": 1,
   "metadata": {},
   "outputs": [
    {
     "name": "stdout",
     "output_type": "stream",
     "text": [
      "Note: you may need to restart the kernel to use updated packages.\n"
     ]
    }
   ],
   "source": [
    "pip install lightgbm -q"
   ]
  },
  {
   "cell_type": "code",
   "execution_count": 2,
   "metadata": {
    "scrolled": true
   },
   "outputs": [
    {
     "name": "stdout",
     "output_type": "stream",
     "text": [
      "Note: you may need to restart the kernel to use updated packages.\n"
     ]
    }
   ],
   "source": [
    "pip install --upgrade xgboost -q"
   ]
  },
  {
   "cell_type": "code",
   "execution_count": 3,
   "metadata": {
    "scrolled": false
   },
   "outputs": [
    {
     "name": "stdout",
     "output_type": "stream",
     "text": [
      "Note: you may need to restart the kernel to use updated packages.\n"
     ]
    }
   ],
   "source": [
    "pip install -U scikit-learn -q"
   ]
  },
  {
   "cell_type": "code",
   "execution_count": 4,
   "metadata": {
    "scrolled": true
   },
   "outputs": [
    {
     "name": "stdout",
     "output_type": "stream",
     "text": [
      "Note: you may need to restart the kernel to use updated packages.\n"
     ]
    }
   ],
   "source": [
    "pip install --upgrade xgboost scikit-learn -q"
   ]
  },
  {
   "cell_type": "code",
   "execution_count": 5,
   "metadata": {},
   "outputs": [
    {
     "name": "stdout",
     "output_type": "stream",
     "text": [
      "Note: you may need to restart the kernel to use updated packages.\n"
     ]
    }
   ],
   "source": [
    "pip install xgboost --upgrade -q"
   ]
  },
  {
   "cell_type": "code",
   "execution_count": 6,
   "metadata": {},
   "outputs": [
    {
     "name": "stdout",
     "output_type": "stream",
     "text": [
      "Note: you may need to restart the kernel to use updated packages.\n"
     ]
    }
   ],
   "source": [
    "pip install scikit-learn --upgrade -q"
   ]
  },
  {
   "cell_type": "code",
   "execution_count": 7,
   "metadata": {},
   "outputs": [],
   "source": [
    "import time\n",
    "import warnings\n",
    "import re\n",
    "import numpy as np\n",
    "import pandas as pd\n",
    "import seaborn as sns\n",
    "import matplotlib.pyplot as plt\n",
    "import lightgbm as lgb\n",
    "import scipy.sparse as sp\n",
    "import xgboost as xgb\n",
    "from time import time as timer\n",
    "from random import randint\n",
    "from tqdm import tqdm_notebook\n",
    "from lightgbm import LGBMRegressor\n",
    "from catboost import CatBoostRegressor\n",
    "from xgboost import XGBRegressor\n",
    "from sklearn.ensemble import RandomForestRegressor\n",
    "from catboost import CatBoostRegressor\n",
    "from lightgbm import LGBMRegressor\n",
    "from sklearn.compose import make_column_transformer\n",
    "from sklearn.compose import ColumnTransformer\n",
    "from sklearn.metrics import mean_squared_error, make_scorer\n",
    "from sklearn.linear_model import LinearRegression\n",
    "from sklearn.linear_model import Ridge, Lasso\n",
    "from sklearn.pipeline import Pipeline\n",
    "from sklearn.ensemble import RandomForestRegressor\n",
    "from sklearn.model_selection import train_test_split, cross_val_score, GridSearchCV, RandomizedSearchCV, KFold\n",
    "from sklearn.preprocessing import OrdinalEncoder, RobustScaler, OneHotEncoder, StandardScaler, LabelEncoder"
   ]
  },
  {
   "cell_type": "code",
   "execution_count": 8,
   "metadata": {},
   "outputs": [],
   "source": [
    "# снимаем ограничение на количество столбцов\n",
    "pd.set_option('display.max_columns', None)\n",
    "\n",
    "# снимаем ограничение на ширину столбцов\n",
    "pd.set_option('display.max_colwidth', None)\n",
    "\n",
    "# игнорируем предупреждения\n",
    "#pd.set_option('chained_assignment', None)  \n",
    "\n",
    "# выставляем ограничение на показ знаков после запятой\n",
    "pd.options.display.float_format = '{:,.2f}'.format\n",
    "\n",
    "warnings.filterwarnings('ignore')"
   ]
  },
  {
   "cell_type": "markdown",
   "metadata": {},
   "source": [
    "### Загрузка данных"
   ]
  },
  {
   "cell_type": "code",
   "execution_count": 9,
   "metadata": {},
   "outputs": [],
   "source": [
    "try:\n",
    "    data = pd.read_csv('autos.csv') \n",
    "except:\n",
    "    data = pd.read_csv('/datasets/autos.csv')"
   ]
  },
  {
   "cell_type": "markdown",
   "metadata": {},
   "source": [
    "### Получение информации о данных:"
   ]
  },
  {
   "cell_type": "code",
   "execution_count": 10,
   "metadata": {},
   "outputs": [
    {
     "name": "stdout",
     "output_type": "stream",
     "text": [
      "<class 'pandas.core.frame.DataFrame'>\n",
      "RangeIndex: 354369 entries, 0 to 354368\n",
      "Data columns (total 16 columns):\n",
      " #   Column             Non-Null Count   Dtype \n",
      "---  ------             --------------   ----- \n",
      " 0   DateCrawled        354369 non-null  object\n",
      " 1   Price              354369 non-null  int64 \n",
      " 2   VehicleType        316879 non-null  object\n",
      " 3   RegistrationYear   354369 non-null  int64 \n",
      " 4   Gearbox            334536 non-null  object\n",
      " 5   Power              354369 non-null  int64 \n",
      " 6   Model              334664 non-null  object\n",
      " 7   Kilometer          354369 non-null  int64 \n",
      " 8   RegistrationMonth  354369 non-null  int64 \n",
      " 9   FuelType           321474 non-null  object\n",
      " 10  Brand              354369 non-null  object\n",
      " 11  Repaired           283215 non-null  object\n",
      " 12  DateCreated        354369 non-null  object\n",
      " 13  NumberOfPictures   354369 non-null  int64 \n",
      " 14  PostalCode         354369 non-null  int64 \n",
      " 15  LastSeen           354369 non-null  object\n",
      "dtypes: int64(7), object(9)\n",
      "memory usage: 43.3+ MB\n"
     ]
    }
   ],
   "source": [
    "data.info()"
   ]
  },
  {
   "cell_type": "code",
   "execution_count": 11,
   "metadata": {
    "scrolled": true
   },
   "outputs": [
    {
     "data": {
      "text/html": [
       "<div>\n",
       "<style scoped>\n",
       "    .dataframe tbody tr th:only-of-type {\n",
       "        vertical-align: middle;\n",
       "    }\n",
       "\n",
       "    .dataframe tbody tr th {\n",
       "        vertical-align: top;\n",
       "    }\n",
       "\n",
       "    .dataframe thead th {\n",
       "        text-align: right;\n",
       "    }\n",
       "</style>\n",
       "<table border=\"1\" class=\"dataframe\">\n",
       "  <thead>\n",
       "    <tr style=\"text-align: right;\">\n",
       "      <th></th>\n",
       "      <th>DateCrawled</th>\n",
       "      <th>Price</th>\n",
       "      <th>VehicleType</th>\n",
       "      <th>RegistrationYear</th>\n",
       "      <th>Gearbox</th>\n",
       "      <th>Power</th>\n",
       "      <th>Model</th>\n",
       "      <th>Kilometer</th>\n",
       "      <th>RegistrationMonth</th>\n",
       "      <th>FuelType</th>\n",
       "      <th>Brand</th>\n",
       "      <th>Repaired</th>\n",
       "      <th>DateCreated</th>\n",
       "      <th>NumberOfPictures</th>\n",
       "      <th>PostalCode</th>\n",
       "      <th>LastSeen</th>\n",
       "    </tr>\n",
       "  </thead>\n",
       "  <tbody>\n",
       "    <tr>\n",
       "      <th>0</th>\n",
       "      <td>2016-03-24 11:52:17</td>\n",
       "      <td>480</td>\n",
       "      <td>NaN</td>\n",
       "      <td>1993</td>\n",
       "      <td>manual</td>\n",
       "      <td>0</td>\n",
       "      <td>golf</td>\n",
       "      <td>150000</td>\n",
       "      <td>0</td>\n",
       "      <td>petrol</td>\n",
       "      <td>volkswagen</td>\n",
       "      <td>NaN</td>\n",
       "      <td>2016-03-24 00:00:00</td>\n",
       "      <td>0</td>\n",
       "      <td>70435</td>\n",
       "      <td>2016-04-07 03:16:57</td>\n",
       "    </tr>\n",
       "    <tr>\n",
       "      <th>1</th>\n",
       "      <td>2016-03-24 10:58:45</td>\n",
       "      <td>18300</td>\n",
       "      <td>coupe</td>\n",
       "      <td>2011</td>\n",
       "      <td>manual</td>\n",
       "      <td>190</td>\n",
       "      <td>NaN</td>\n",
       "      <td>125000</td>\n",
       "      <td>5</td>\n",
       "      <td>gasoline</td>\n",
       "      <td>audi</td>\n",
       "      <td>yes</td>\n",
       "      <td>2016-03-24 00:00:00</td>\n",
       "      <td>0</td>\n",
       "      <td>66954</td>\n",
       "      <td>2016-04-07 01:46:50</td>\n",
       "    </tr>\n",
       "    <tr>\n",
       "      <th>2</th>\n",
       "      <td>2016-03-14 12:52:21</td>\n",
       "      <td>9800</td>\n",
       "      <td>suv</td>\n",
       "      <td>2004</td>\n",
       "      <td>auto</td>\n",
       "      <td>163</td>\n",
       "      <td>grand</td>\n",
       "      <td>125000</td>\n",
       "      <td>8</td>\n",
       "      <td>gasoline</td>\n",
       "      <td>jeep</td>\n",
       "      <td>NaN</td>\n",
       "      <td>2016-03-14 00:00:00</td>\n",
       "      <td>0</td>\n",
       "      <td>90480</td>\n",
       "      <td>2016-04-05 12:47:46</td>\n",
       "    </tr>\n",
       "    <tr>\n",
       "      <th>3</th>\n",
       "      <td>2016-03-17 16:54:04</td>\n",
       "      <td>1500</td>\n",
       "      <td>small</td>\n",
       "      <td>2001</td>\n",
       "      <td>manual</td>\n",
       "      <td>75</td>\n",
       "      <td>golf</td>\n",
       "      <td>150000</td>\n",
       "      <td>6</td>\n",
       "      <td>petrol</td>\n",
       "      <td>volkswagen</td>\n",
       "      <td>no</td>\n",
       "      <td>2016-03-17 00:00:00</td>\n",
       "      <td>0</td>\n",
       "      <td>91074</td>\n",
       "      <td>2016-03-17 17:40:17</td>\n",
       "    </tr>\n",
       "    <tr>\n",
       "      <th>4</th>\n",
       "      <td>2016-03-31 17:25:20</td>\n",
       "      <td>3600</td>\n",
       "      <td>small</td>\n",
       "      <td>2008</td>\n",
       "      <td>manual</td>\n",
       "      <td>69</td>\n",
       "      <td>fabia</td>\n",
       "      <td>90000</td>\n",
       "      <td>7</td>\n",
       "      <td>gasoline</td>\n",
       "      <td>skoda</td>\n",
       "      <td>no</td>\n",
       "      <td>2016-03-31 00:00:00</td>\n",
       "      <td>0</td>\n",
       "      <td>60437</td>\n",
       "      <td>2016-04-06 10:17:21</td>\n",
       "    </tr>\n",
       "  </tbody>\n",
       "</table>\n",
       "</div>"
      ],
      "text/plain": [
       "           DateCrawled  Price VehicleType  RegistrationYear Gearbox  Power  \\\n",
       "0  2016-03-24 11:52:17    480         NaN              1993  manual      0   \n",
       "1  2016-03-24 10:58:45  18300       coupe              2011  manual    190   \n",
       "2  2016-03-14 12:52:21   9800         suv              2004    auto    163   \n",
       "3  2016-03-17 16:54:04   1500       small              2001  manual     75   \n",
       "4  2016-03-31 17:25:20   3600       small              2008  manual     69   \n",
       "\n",
       "   Model  Kilometer  RegistrationMonth  FuelType       Brand Repaired  \\\n",
       "0   golf     150000                  0    petrol  volkswagen      NaN   \n",
       "1    NaN     125000                  5  gasoline        audi      yes   \n",
       "2  grand     125000                  8  gasoline        jeep      NaN   \n",
       "3   golf     150000                  6    petrol  volkswagen       no   \n",
       "4  fabia      90000                  7  gasoline       skoda       no   \n",
       "\n",
       "           DateCreated  NumberOfPictures  PostalCode             LastSeen  \n",
       "0  2016-03-24 00:00:00                 0       70435  2016-04-07 03:16:57  \n",
       "1  2016-03-24 00:00:00                 0       66954  2016-04-07 01:46:50  \n",
       "2  2016-03-14 00:00:00                 0       90480  2016-04-05 12:47:46  \n",
       "3  2016-03-17 00:00:00                 0       91074  2016-03-17 17:40:17  \n",
       "4  2016-03-31 00:00:00                 0       60437  2016-04-06 10:17:21  "
      ]
     },
     "execution_count": 11,
     "metadata": {},
     "output_type": "execute_result"
    }
   ],
   "source": [
    "data.head()"
   ]
  },
  {
   "cell_type": "markdown",
   "metadata": {},
   "source": [
    "### Вводим новые названия столбцов"
   ]
  },
  {
   "cell_type": "code",
   "execution_count": 12,
   "metadata": {
    "scrolled": true
   },
   "outputs": [
    {
     "data": {
      "text/html": [
       "<div>\n",
       "<style scoped>\n",
       "    .dataframe tbody tr th:only-of-type {\n",
       "        vertical-align: middle;\n",
       "    }\n",
       "\n",
       "    .dataframe tbody tr th {\n",
       "        vertical-align: top;\n",
       "    }\n",
       "\n",
       "    .dataframe thead th {\n",
       "        text-align: right;\n",
       "    }\n",
       "</style>\n",
       "<table border=\"1\" class=\"dataframe\">\n",
       "  <thead>\n",
       "    <tr style=\"text-align: right;\">\n",
       "      <th></th>\n",
       "      <th>date_crawled</th>\n",
       "      <th>price</th>\n",
       "      <th>vehicle_type</th>\n",
       "      <th>registration_year</th>\n",
       "      <th>gearbox</th>\n",
       "      <th>power</th>\n",
       "      <th>model</th>\n",
       "      <th>mileage_km</th>\n",
       "      <th>month_of_registration</th>\n",
       "      <th>fuel_type</th>\n",
       "      <th>brand</th>\n",
       "      <th>not_repaired</th>\n",
       "      <th>date_of_creation</th>\n",
       "      <th>number_of_pictures</th>\n",
       "      <th>postal_code</th>\n",
       "      <th>last_seen</th>\n",
       "    </tr>\n",
       "  </thead>\n",
       "  <tbody>\n",
       "    <tr>\n",
       "      <th>0</th>\n",
       "      <td>2016-03-24 11:52:17</td>\n",
       "      <td>480</td>\n",
       "      <td>NaN</td>\n",
       "      <td>1993</td>\n",
       "      <td>manual</td>\n",
       "      <td>0</td>\n",
       "      <td>golf</td>\n",
       "      <td>150000</td>\n",
       "      <td>0</td>\n",
       "      <td>petrol</td>\n",
       "      <td>volkswagen</td>\n",
       "      <td>NaN</td>\n",
       "      <td>2016-03-24 00:00:00</td>\n",
       "      <td>0</td>\n",
       "      <td>70435</td>\n",
       "      <td>2016-04-07 03:16:57</td>\n",
       "    </tr>\n",
       "    <tr>\n",
       "      <th>1</th>\n",
       "      <td>2016-03-24 10:58:45</td>\n",
       "      <td>18300</td>\n",
       "      <td>coupe</td>\n",
       "      <td>2011</td>\n",
       "      <td>manual</td>\n",
       "      <td>190</td>\n",
       "      <td>NaN</td>\n",
       "      <td>125000</td>\n",
       "      <td>5</td>\n",
       "      <td>gasoline</td>\n",
       "      <td>audi</td>\n",
       "      <td>yes</td>\n",
       "      <td>2016-03-24 00:00:00</td>\n",
       "      <td>0</td>\n",
       "      <td>66954</td>\n",
       "      <td>2016-04-07 01:46:50</td>\n",
       "    </tr>\n",
       "    <tr>\n",
       "      <th>2</th>\n",
       "      <td>2016-03-14 12:52:21</td>\n",
       "      <td>9800</td>\n",
       "      <td>suv</td>\n",
       "      <td>2004</td>\n",
       "      <td>auto</td>\n",
       "      <td>163</td>\n",
       "      <td>grand</td>\n",
       "      <td>125000</td>\n",
       "      <td>8</td>\n",
       "      <td>gasoline</td>\n",
       "      <td>jeep</td>\n",
       "      <td>NaN</td>\n",
       "      <td>2016-03-14 00:00:00</td>\n",
       "      <td>0</td>\n",
       "      <td>90480</td>\n",
       "      <td>2016-04-05 12:47:46</td>\n",
       "    </tr>\n",
       "    <tr>\n",
       "      <th>3</th>\n",
       "      <td>2016-03-17 16:54:04</td>\n",
       "      <td>1500</td>\n",
       "      <td>small</td>\n",
       "      <td>2001</td>\n",
       "      <td>manual</td>\n",
       "      <td>75</td>\n",
       "      <td>golf</td>\n",
       "      <td>150000</td>\n",
       "      <td>6</td>\n",
       "      <td>petrol</td>\n",
       "      <td>volkswagen</td>\n",
       "      <td>no</td>\n",
       "      <td>2016-03-17 00:00:00</td>\n",
       "      <td>0</td>\n",
       "      <td>91074</td>\n",
       "      <td>2016-03-17 17:40:17</td>\n",
       "    </tr>\n",
       "    <tr>\n",
       "      <th>4</th>\n",
       "      <td>2016-03-31 17:25:20</td>\n",
       "      <td>3600</td>\n",
       "      <td>small</td>\n",
       "      <td>2008</td>\n",
       "      <td>manual</td>\n",
       "      <td>69</td>\n",
       "      <td>fabia</td>\n",
       "      <td>90000</td>\n",
       "      <td>7</td>\n",
       "      <td>gasoline</td>\n",
       "      <td>skoda</td>\n",
       "      <td>no</td>\n",
       "      <td>2016-03-31 00:00:00</td>\n",
       "      <td>0</td>\n",
       "      <td>60437</td>\n",
       "      <td>2016-04-06 10:17:21</td>\n",
       "    </tr>\n",
       "  </tbody>\n",
       "</table>\n",
       "</div>"
      ],
      "text/plain": [
       "          date_crawled  price vehicle_type  registration_year gearbox  power  \\\n",
       "0  2016-03-24 11:52:17    480          NaN               1993  manual      0   \n",
       "1  2016-03-24 10:58:45  18300        coupe               2011  manual    190   \n",
       "2  2016-03-14 12:52:21   9800          suv               2004    auto    163   \n",
       "3  2016-03-17 16:54:04   1500        small               2001  manual     75   \n",
       "4  2016-03-31 17:25:20   3600        small               2008  manual     69   \n",
       "\n",
       "   model  mileage_km  month_of_registration fuel_type       brand  \\\n",
       "0   golf      150000                      0    petrol  volkswagen   \n",
       "1    NaN      125000                      5  gasoline        audi   \n",
       "2  grand      125000                      8  gasoline        jeep   \n",
       "3   golf      150000                      6    petrol  volkswagen   \n",
       "4  fabia       90000                      7  gasoline       skoda   \n",
       "\n",
       "  not_repaired     date_of_creation  number_of_pictures  postal_code  \\\n",
       "0          NaN  2016-03-24 00:00:00                   0        70435   \n",
       "1          yes  2016-03-24 00:00:00                   0        66954   \n",
       "2          NaN  2016-03-14 00:00:00                   0        90480   \n",
       "3           no  2016-03-17 00:00:00                   0        91074   \n",
       "4           no  2016-03-31 00:00:00                   0        60437   \n",
       "\n",
       "             last_seen  \n",
       "0  2016-04-07 03:16:57  \n",
       "1  2016-04-07 01:46:50  \n",
       "2  2016-04-05 12:47:46  \n",
       "3  2016-03-17 17:40:17  \n",
       "4  2016-04-06 10:17:21  "
      ]
     },
     "execution_count": 12,
     "metadata": {},
     "output_type": "execute_result"
    }
   ],
   "source": [
    "columns = {\n",
    "    'DateCrawled': 'date_crawled',\n",
    "    'Price': 'price',\n",
    "    'VehicleType': 'vehicle_type',\n",
    "    'RegistrationYear': 'registration_year',\n",
    "    'Gearbox': 'gearbox',\n",
    "    'Power': 'power',\n",
    "    'Model': 'model',\n",
    "    'Kilometer': 'mileage_km',\n",
    "    'RegistrationMonth': 'month_of_registration',\n",
    "    'FuelType': 'fuel_type',\n",
    "    'Brand': 'brand',\n",
    "    'Repaired': 'not_repaired',\n",
    "    'DateCreated': 'date_of_creation',\n",
    "    'NumberOfPictures': 'number_of_pictures',\n",
    "    'PostalCode': 'postal_code',\n",
    "    'LastSeen': 'last_seen'\n",
    "}\n",
    "data = data.rename(columns=columns)\n",
    "data.head()"
   ]
  },
  {
   "cell_type": "markdown",
   "metadata": {},
   "source": [
    "**Признаки**\n",
    "- `date_crawled` — дата скачивания анкеты из базы\n",
    "- `vehicle_type` — тип автомобильного кузова\n",
    "- `registration_year` — год регистрации автомобиля\n",
    "- `gearbox` — тип коробки передач\n",
    "- `power` — мощность (л. с.)\n",
    "- `model` — модель автомобиля\n",
    "- `mileage_km` — пробег (км)\n",
    "- `month_of_registration` — месяц регистрации автомобиля\n",
    "- `fuel_type` — тип топлива\n",
    "- `brand` — марка автомобиля\n",
    "- `not_repaired` — была машина в ремонте или нет\n",
    "- `date_of_creation` — дата создания анкеты\n",
    "- `number_of_pictures` — количество фотографий автомобиля\n",
    "- `postal_code` — почтовый индекс владельца анкеты (пользователя)\n",
    "- `last_seen` — дата последней активности пользователя\n",
    "\n",
    "**Целевой признак**\n",
    "- `price` — цена (евро)"
   ]
  },
  {
   "cell_type": "code",
   "execution_count": 13,
   "metadata": {},
   "outputs": [
    {
     "data": {
      "text/html": [
       "<div>\n",
       "<style scoped>\n",
       "    .dataframe tbody tr th:only-of-type {\n",
       "        vertical-align: middle;\n",
       "    }\n",
       "\n",
       "    .dataframe tbody tr th {\n",
       "        vertical-align: top;\n",
       "    }\n",
       "\n",
       "    .dataframe thead th {\n",
       "        text-align: right;\n",
       "    }\n",
       "</style>\n",
       "<table border=\"1\" class=\"dataframe\">\n",
       "  <thead>\n",
       "    <tr style=\"text-align: right;\">\n",
       "      <th></th>\n",
       "      <th>price</th>\n",
       "      <th>registration_year</th>\n",
       "      <th>power</th>\n",
       "      <th>mileage_km</th>\n",
       "      <th>month_of_registration</th>\n",
       "      <th>number_of_pictures</th>\n",
       "      <th>postal_code</th>\n",
       "    </tr>\n",
       "  </thead>\n",
       "  <tbody>\n",
       "    <tr>\n",
       "      <th>count</th>\n",
       "      <td>354,369.00</td>\n",
       "      <td>354,369.00</td>\n",
       "      <td>354,369.00</td>\n",
       "      <td>354,369.00</td>\n",
       "      <td>354,369.00</td>\n",
       "      <td>354,369.00</td>\n",
       "      <td>354,369.00</td>\n",
       "    </tr>\n",
       "    <tr>\n",
       "      <th>mean</th>\n",
       "      <td>4,416.66</td>\n",
       "      <td>2,004.23</td>\n",
       "      <td>110.09</td>\n",
       "      <td>128,211.17</td>\n",
       "      <td>5.71</td>\n",
       "      <td>0.00</td>\n",
       "      <td>50,508.69</td>\n",
       "    </tr>\n",
       "    <tr>\n",
       "      <th>std</th>\n",
       "      <td>4,514.16</td>\n",
       "      <td>90.23</td>\n",
       "      <td>189.85</td>\n",
       "      <td>37,905.34</td>\n",
       "      <td>3.73</td>\n",
       "      <td>0.00</td>\n",
       "      <td>25,783.10</td>\n",
       "    </tr>\n",
       "    <tr>\n",
       "      <th>min</th>\n",
       "      <td>0.00</td>\n",
       "      <td>1,000.00</td>\n",
       "      <td>0.00</td>\n",
       "      <td>5,000.00</td>\n",
       "      <td>0.00</td>\n",
       "      <td>0.00</td>\n",
       "      <td>1,067.00</td>\n",
       "    </tr>\n",
       "    <tr>\n",
       "      <th>25%</th>\n",
       "      <td>1,050.00</td>\n",
       "      <td>1,999.00</td>\n",
       "      <td>69.00</td>\n",
       "      <td>125,000.00</td>\n",
       "      <td>3.00</td>\n",
       "      <td>0.00</td>\n",
       "      <td>30,165.00</td>\n",
       "    </tr>\n",
       "    <tr>\n",
       "      <th>50%</th>\n",
       "      <td>2,700.00</td>\n",
       "      <td>2,003.00</td>\n",
       "      <td>105.00</td>\n",
       "      <td>150,000.00</td>\n",
       "      <td>6.00</td>\n",
       "      <td>0.00</td>\n",
       "      <td>49,413.00</td>\n",
       "    </tr>\n",
       "    <tr>\n",
       "      <th>75%</th>\n",
       "      <td>6,400.00</td>\n",
       "      <td>2,008.00</td>\n",
       "      <td>143.00</td>\n",
       "      <td>150,000.00</td>\n",
       "      <td>9.00</td>\n",
       "      <td>0.00</td>\n",
       "      <td>71,083.00</td>\n",
       "    </tr>\n",
       "    <tr>\n",
       "      <th>max</th>\n",
       "      <td>20,000.00</td>\n",
       "      <td>9,999.00</td>\n",
       "      <td>20,000.00</td>\n",
       "      <td>150,000.00</td>\n",
       "      <td>12.00</td>\n",
       "      <td>0.00</td>\n",
       "      <td>99,998.00</td>\n",
       "    </tr>\n",
       "  </tbody>\n",
       "</table>\n",
       "</div>"
      ],
      "text/plain": [
       "           price  registration_year      power  mileage_km  \\\n",
       "count 354,369.00         354,369.00 354,369.00  354,369.00   \n",
       "mean    4,416.66           2,004.23     110.09  128,211.17   \n",
       "std     4,514.16              90.23     189.85   37,905.34   \n",
       "min         0.00           1,000.00       0.00    5,000.00   \n",
       "25%     1,050.00           1,999.00      69.00  125,000.00   \n",
       "50%     2,700.00           2,003.00     105.00  150,000.00   \n",
       "75%     6,400.00           2,008.00     143.00  150,000.00   \n",
       "max    20,000.00           9,999.00  20,000.00  150,000.00   \n",
       "\n",
       "       month_of_registration  number_of_pictures  postal_code  \n",
       "count             354,369.00          354,369.00   354,369.00  \n",
       "mean                    5.71                0.00    50,508.69  \n",
       "std                     3.73                0.00    25,783.10  \n",
       "min                     0.00                0.00     1,067.00  \n",
       "25%                     3.00                0.00    30,165.00  \n",
       "50%                     6.00                0.00    49,413.00  \n",
       "75%                     9.00                0.00    71,083.00  \n",
       "max                    12.00                0.00    99,998.00  "
      ]
     },
     "execution_count": 13,
     "metadata": {},
     "output_type": "execute_result"
    }
   ],
   "source": [
    "data.describe()"
   ]
  },
  {
   "cell_type": "markdown",
   "metadata": {},
   "source": [
    "**Краткий вывод на основе `data.describe()`:**\n",
    "\n",
    "`Цена (price)`:\n",
    "- Среднее: 4,416.66\n",
    "- Диапазон: от 0 до 20,000\n",
    "- Выбросы: Значение 0 и очень высокая цена (20,000) указывают на аномалии.\n",
    "\n",
    "`Год регистрации (registration_year)`:- Среднее: 2004.23\n",
    "- Диапазон: от 1,000 до 9,999\n",
    "- Выбросы: Год 1,000 явно некорректен и требует проверки.\n",
    "\n",
    "`Мощность (power)`:\n",
    "- Среднее: 110.09\n",
    "- Диапазон: от 0 до 20,000\n",
    "- Выбросы: Значения 0 и 20,000 свидетельствуют о неправильных данных.\n",
    "\n",
    "`Пробег (mileage_km)`:\n",
    "- Среднее: 128,211.17 км\n",
    "- Диапазон: от 5,000 до 150,000 км\n",
    "- Стандартное отклонение: Высокое, но в пределах ожидаемого для подержанных автомобилей.\n",
    "\n",
    "`Месяц регистрации (month_of_registration)`:\n",
    "- Среднее: 5.71\n",
    "- Диапазон: от 0 до 12\n",
    "- Выбросы: Значение 0 не является допустимым месяцем и требует проверки.\n",
    "\n",
    "`Количество фотографий (number_of_pictures)`:\n",
    "- Все значения: 0\n",
    "- Заключение: Отсутствие фотографий для всех записей, что может негативно влиять на анализ.\n",
    "\n",
    "`Почтовый код (postal_code)`:\n",
    "- Среднее: 50,508.69\n",
    "- Диапазон: от 1,067 до 99,998\n",
    "- Выбросы: Необычные значения требуют проверки корректности."
   ]
  },
  {
   "cell_type": "code",
   "execution_count": 14,
   "metadata": {},
   "outputs": [
    {
     "name": "stdout",
     "output_type": "stream",
     "text": [
      "<class 'pandas.core.frame.DataFrame'>\n",
      "RangeIndex: 354369 entries, 0 to 354368\n",
      "Data columns (total 16 columns):\n",
      " #   Column                 Non-Null Count   Dtype \n",
      "---  ------                 --------------   ----- \n",
      " 0   date_crawled           354369 non-null  object\n",
      " 1   price                  354369 non-null  int64 \n",
      " 2   vehicle_type           316879 non-null  object\n",
      " 3   registration_year      354369 non-null  int64 \n",
      " 4   gearbox                334536 non-null  object\n",
      " 5   power                  354369 non-null  int64 \n",
      " 6   model                  334664 non-null  object\n",
      " 7   mileage_km             354369 non-null  int64 \n",
      " 8   month_of_registration  354369 non-null  int64 \n",
      " 9   fuel_type              321474 non-null  object\n",
      " 10  brand                  354369 non-null  object\n",
      " 11  not_repaired           283215 non-null  object\n",
      " 12  date_of_creation       354369 non-null  object\n",
      " 13  number_of_pictures     354369 non-null  int64 \n",
      " 14  postal_code            354369 non-null  int64 \n",
      " 15  last_seen              354369 non-null  object\n",
      "dtypes: int64(7), object(9)\n",
      "memory usage: 43.3+ MB\n"
     ]
    }
   ],
   "source": [
    "data.info()"
   ]
  },
  {
   "cell_type": "markdown",
   "metadata": {},
   "source": [
    "### Поиск дубликатов"
   ]
  },
  {
   "cell_type": "code",
   "execution_count": 15,
   "metadata": {},
   "outputs": [
    {
     "name": "stdout",
     "output_type": "stream",
     "text": [
      "Количество дубликатов: 4 (0.001%)\n"
     ]
    }
   ],
   "source": [
    "def show_duplicates(data):\n",
    "    duplicates = data.duplicated().sum()\n",
    "    print(f'Количество дубликатов: {duplicates} ({duplicates / len(data):.3%})')\n",
    "show_duplicates(data)"
   ]
  },
  {
   "cell_type": "code",
   "execution_count": 16,
   "metadata": {
    "scrolled": true
   },
   "outputs": [
    {
     "name": "stdout",
     "output_type": "stream",
     "text": [
      "Количество дубликатов: 0 (0.000%)\n"
     ]
    }
   ],
   "source": [
    "processed_data = data.drop_duplicates().reset_index(drop=True)\n",
    "show_duplicates(processed_data)"
   ]
  },
  {
   "cell_type": "code",
   "execution_count": 17,
   "metadata": {},
   "outputs": [
    {
     "name": "stdout",
     "output_type": "stream",
     "text": [
      "Количество неявных дубликатов: 5 (0.00%)\n",
      "Количество неявных дубликатов: 1 (0.00%)\n"
     ]
    }
   ],
   "source": [
    "def show_implicit_duplicates(data):\n",
    "    # Определим комбинации столбцов для поиска неявных дубликатов\n",
    "    subset_columns = ['date_crawled', 'vehicle_type', 'gearbox', 'mileage_km',\n",
    "                      'month_of_registration', 'fuel_type', 'not_repaired',\n",
    "                      'date_of_creation', 'number_of_pictures', 'postal_code',\n",
    "                      'last_seen','brand', 'model', 'registration_year', 'power']\n",
    "    \n",
    "    # Найдем неявные дубликаты\n",
    "    implicit_duplicates = data.duplicated(subset=subset_columns).sum()\n",
    "    \n",
    "    print(f'Количество неявных дубликатов: {implicit_duplicates} ({implicit_duplicates / len(data):.2%})')\n",
    "\n",
    "# Применим функцию к исходным данным\n",
    "show_implicit_duplicates(data)\n",
    "\n",
    "# Применим функцию к обработанным данным\n",
    "show_implicit_duplicates(processed_data)"
   ]
  },
  {
   "cell_type": "markdown",
   "metadata": {},
   "source": [
    "**Неинформативные признаки:**\n",
    "- `date_crawled` - дата скачивания анкеты не может влиять на стоимость автомобиля.\n",
    "- `month_of_registration` - порядковый номер месяца регистрации автомобиля не понадобится.\n",
    "- `date_of_creation` - точная дата публикации не понадобится, непонятно как обрабатывать этот признак для обучения. Оставлю год публикации, так как стоимость может меняться год от года.\n",
    "- `number_of_pictures` - судя по описанию данных - столбец не заполнен, во всех строках стоят нули. К тому же, количество фотографий автомобиля вряд ли влияет на его стоимость.\n",
    "- `last_seen` - дата последней активности пользователя не может влиять на стоимость автомобиля."
   ]
  },
  {
   "cell_type": "code",
   "execution_count": 18,
   "metadata": {},
   "outputs": [
    {
     "name": "stdout",
     "output_type": "stream",
     "text": [
      "Данных удалено: 14530 (4.10%)\n"
     ]
    }
   ],
   "source": [
    "processed_data['date_crawled'] = processed_data['date_crawled'].astype('datetime64').dt.year\n",
    "deleted_data = processed_data.query('date_crawled < registration_year')\n",
    "print(f'Данных удалено: {len(deleted_data)} ({len(deleted_data)/len(processed_data):.2%})')\n",
    "processed_data = processed_data.query('date_crawled >= registration_year')"
   ]
  },
  {
   "cell_type": "code",
   "execution_count": 19,
   "metadata": {},
   "outputs": [],
   "source": [
    "# Удаляем ненужные столбцы\n",
    "columns_to_drop = ['postal_code', 'month_of_registration', 'number_of_pictures', 'last_seen']\n",
    "processed_data['date_of_creation'] = processed_data['date_of_creation'].astype('datetime64')\n",
    "processed_data['year_of_creation'] = processed_data['date_of_creation'].dt.year\n",
    "columns_to_drop.append('date_of_creation')\n",
    "\n",
    "# Определяем максимальную дату в столбце date_crawled перед его удалением (это мне пригодится ниже)\n",
    "max_date = processed_data['date_crawled'].max()\n",
    "max_year = max_date"
   ]
  },
  {
   "cell_type": "markdown",
   "metadata": {},
   "source": [
    "### Обработка пропусков:"
   ]
  },
  {
   "cell_type": "code",
   "execution_count": 20,
   "metadata": {},
   "outputs": [],
   "source": [
    "def show_nulls(data):\n",
    "    nulls = data.isnull().sum()\n",
    "    data_null = pd.DataFrame({\n",
    "        'quantity': nulls,\n",
    "        'percentage': round(nulls / len(data) * 100, 1)\n",
    "    })\n",
    "    data_null = data_null.query('percentage != 0').sort_values(by='percentage', ascending=False)\n",
    "    data_null.columns = pd.MultiIndex.from_tuples(\n",
    "        zip(['Количество пропусков в столбцах', 'Количество пропусков в столбцах'], data_null.columns)\n",
    "    )\n",
    "    if len(data_null) == 0:\n",
    "        return 'Пропусков нет'\n",
    "    return data_null"
   ]
  },
  {
   "cell_type": "code",
   "execution_count": 21,
   "metadata": {},
   "outputs": [
    {
     "data": {
      "text/html": [
       "<div>\n",
       "<style scoped>\n",
       "    .dataframe tbody tr th:only-of-type {\n",
       "        vertical-align: middle;\n",
       "    }\n",
       "\n",
       "    .dataframe tbody tr th {\n",
       "        vertical-align: top;\n",
       "    }\n",
       "\n",
       "    .dataframe thead tr th {\n",
       "        text-align: left;\n",
       "    }\n",
       "</style>\n",
       "<table border=\"1\" class=\"dataframe\">\n",
       "  <thead>\n",
       "    <tr>\n",
       "      <th></th>\n",
       "      <th colspan=\"2\" halign=\"left\">Количество пропусков в столбцах</th>\n",
       "    </tr>\n",
       "    <tr>\n",
       "      <th></th>\n",
       "      <th>quantity</th>\n",
       "      <th>percentage</th>\n",
       "    </tr>\n",
       "  </thead>\n",
       "  <tbody>\n",
       "    <tr>\n",
       "      <th>not_repaired</th>\n",
       "      <td>64855</td>\n",
       "      <td>19.10</td>\n",
       "    </tr>\n",
       "    <tr>\n",
       "      <th>fuel_type</th>\n",
       "      <td>27301</td>\n",
       "      <td>8.00</td>\n",
       "    </tr>\n",
       "    <tr>\n",
       "      <th>vehicle_type</th>\n",
       "      <td>22980</td>\n",
       "      <td>6.80</td>\n",
       "    </tr>\n",
       "    <tr>\n",
       "      <th>gearbox</th>\n",
       "      <td>17966</td>\n",
       "      <td>5.30</td>\n",
       "    </tr>\n",
       "    <tr>\n",
       "      <th>model</th>\n",
       "      <td>17658</td>\n",
       "      <td>5.20</td>\n",
       "    </tr>\n",
       "  </tbody>\n",
       "</table>\n",
       "</div>"
      ],
      "text/plain": [
       "             Количество пропусков в столбцах           \n",
       "                                    quantity percentage\n",
       "not_repaired                           64855      19.10\n",
       "fuel_type                              27301       8.00\n",
       "vehicle_type                           22980       6.80\n",
       "gearbox                                17966       5.30\n",
       "model                                  17658       5.20"
      ]
     },
     "execution_count": 21,
     "metadata": {},
     "output_type": "execute_result"
    }
   ],
   "source": [
    "show_nulls(processed_data)"
   ]
  },
  {
   "cell_type": "markdown",
   "metadata": {},
   "source": [
    "В столбце `not_repaired` больше всего пропусков, заменить их с помощью других данных нельзя. Данных много, чтобы удалить без последствий.\n",
    "Присвою пропускам категорию `unknown`."
   ]
  },
  {
   "cell_type": "code",
   "execution_count": 22,
   "metadata": {},
   "outputs": [
    {
     "data": {
      "text/html": [
       "<div>\n",
       "<style scoped>\n",
       "    .dataframe tbody tr th:only-of-type {\n",
       "        vertical-align: middle;\n",
       "    }\n",
       "\n",
       "    .dataframe tbody tr th {\n",
       "        vertical-align: top;\n",
       "    }\n",
       "\n",
       "    .dataframe thead tr th {\n",
       "        text-align: left;\n",
       "    }\n",
       "</style>\n",
       "<table border=\"1\" class=\"dataframe\">\n",
       "  <thead>\n",
       "    <tr>\n",
       "      <th></th>\n",
       "      <th colspan=\"2\" halign=\"left\">Количество пропусков в столбцах</th>\n",
       "    </tr>\n",
       "    <tr>\n",
       "      <th></th>\n",
       "      <th>quantity</th>\n",
       "      <th>percentage</th>\n",
       "    </tr>\n",
       "  </thead>\n",
       "  <tbody>\n",
       "    <tr>\n",
       "      <th>fuel_type</th>\n",
       "      <td>27301</td>\n",
       "      <td>8.00</td>\n",
       "    </tr>\n",
       "    <tr>\n",
       "      <th>vehicle_type</th>\n",
       "      <td>22980</td>\n",
       "      <td>6.80</td>\n",
       "    </tr>\n",
       "    <tr>\n",
       "      <th>gearbox</th>\n",
       "      <td>17966</td>\n",
       "      <td>5.30</td>\n",
       "    </tr>\n",
       "    <tr>\n",
       "      <th>model</th>\n",
       "      <td>17658</td>\n",
       "      <td>5.20</td>\n",
       "    </tr>\n",
       "  </tbody>\n",
       "</table>\n",
       "</div>"
      ],
      "text/plain": [
       "             Количество пропусков в столбцах           \n",
       "                                    quantity percentage\n",
       "fuel_type                              27301       8.00\n",
       "vehicle_type                           22980       6.80\n",
       "gearbox                                17966       5.30\n",
       "model                                  17658       5.20"
      ]
     },
     "execution_count": 22,
     "metadata": {},
     "output_type": "execute_result"
    }
   ],
   "source": [
    "processed_data['not_repaired'] = processed_data['not_repaired'].fillna('unknown')\n",
    "show_nulls(processed_data)"
   ]
  },
  {
   "cell_type": "markdown",
   "metadata": {},
   "source": [
    "**Столбец `vehicle_type`**"
   ]
  },
  {
   "cell_type": "code",
   "execution_count": 23,
   "metadata": {},
   "outputs": [
    {
     "data": {
      "text/html": [
       "<div>\n",
       "<style scoped>\n",
       "    .dataframe tbody tr th:only-of-type {\n",
       "        vertical-align: middle;\n",
       "    }\n",
       "\n",
       "    .dataframe tbody tr th {\n",
       "        vertical-align: top;\n",
       "    }\n",
       "\n",
       "    .dataframe thead th {\n",
       "        text-align: right;\n",
       "    }\n",
       "</style>\n",
       "<table border=\"1\" class=\"dataframe\">\n",
       "  <thead>\n",
       "    <tr style=\"text-align: right;\">\n",
       "      <th></th>\n",
       "      <th>Типы автомобилей</th>\n",
       "    </tr>\n",
       "  </thead>\n",
       "  <tbody>\n",
       "    <tr>\n",
       "      <th>sedan</th>\n",
       "      <td>91453</td>\n",
       "    </tr>\n",
       "    <tr>\n",
       "      <th>small</th>\n",
       "      <td>79826</td>\n",
       "    </tr>\n",
       "    <tr>\n",
       "      <th>wagon</th>\n",
       "      <td>65161</td>\n",
       "    </tr>\n",
       "    <tr>\n",
       "      <th>bus</th>\n",
       "      <td>28773</td>\n",
       "    </tr>\n",
       "    <tr>\n",
       "      <th>convertible</th>\n",
       "      <td>20202</td>\n",
       "    </tr>\n",
       "    <tr>\n",
       "      <th>coupe</th>\n",
       "      <td>16158</td>\n",
       "    </tr>\n",
       "    <tr>\n",
       "      <th>suv</th>\n",
       "      <td>11995</td>\n",
       "    </tr>\n",
       "    <tr>\n",
       "      <th>other</th>\n",
       "      <td>3287</td>\n",
       "    </tr>\n",
       "  </tbody>\n",
       "</table>\n",
       "</div>"
      ],
      "text/plain": [
       "             Типы автомобилей\n",
       "sedan                   91453\n",
       "small                   79826\n",
       "wagon                   65161\n",
       "bus                     28773\n",
       "convertible             20202\n",
       "coupe                   16158\n",
       "suv                     11995\n",
       "other                    3287"
      ]
     },
     "execution_count": 23,
     "metadata": {},
     "output_type": "execute_result"
    }
   ],
   "source": [
    "vehicles = processed_data['vehicle_type'].value_counts()\n",
    "vehicles_df = pd.DataFrame({'Типы автомобилей': vehicles}).sort_values(by='Типы автомобилей', ascending=False)\n",
    "vehicles_df"
   ]
  },
  {
   "cell_type": "markdown",
   "metadata": {},
   "source": [
    "Помимо пропусков есть тип `other`, пропуски можно отнести к нему."
   ]
  },
  {
   "cell_type": "code",
   "execution_count": 24,
   "metadata": {},
   "outputs": [
    {
     "data": {
      "text/html": [
       "<div>\n",
       "<style scoped>\n",
       "    .dataframe tbody tr th:only-of-type {\n",
       "        vertical-align: middle;\n",
       "    }\n",
       "\n",
       "    .dataframe tbody tr th {\n",
       "        vertical-align: top;\n",
       "    }\n",
       "\n",
       "    .dataframe thead tr th {\n",
       "        text-align: left;\n",
       "    }\n",
       "</style>\n",
       "<table border=\"1\" class=\"dataframe\">\n",
       "  <thead>\n",
       "    <tr>\n",
       "      <th></th>\n",
       "      <th colspan=\"2\" halign=\"left\">Количество пропусков в столбцах</th>\n",
       "    </tr>\n",
       "    <tr>\n",
       "      <th></th>\n",
       "      <th>quantity</th>\n",
       "      <th>percentage</th>\n",
       "    </tr>\n",
       "  </thead>\n",
       "  <tbody>\n",
       "    <tr>\n",
       "      <th>fuel_type</th>\n",
       "      <td>27301</td>\n",
       "      <td>8.00</td>\n",
       "    </tr>\n",
       "    <tr>\n",
       "      <th>gearbox</th>\n",
       "      <td>17966</td>\n",
       "      <td>5.30</td>\n",
       "    </tr>\n",
       "    <tr>\n",
       "      <th>model</th>\n",
       "      <td>17658</td>\n",
       "      <td>5.20</td>\n",
       "    </tr>\n",
       "  </tbody>\n",
       "</table>\n",
       "</div>"
      ],
      "text/plain": [
       "          Количество пропусков в столбцах           \n",
       "                                 quantity percentage\n",
       "fuel_type                           27301       8.00\n",
       "gearbox                             17966       5.30\n",
       "model                               17658       5.20"
      ]
     },
     "execution_count": 24,
     "metadata": {},
     "output_type": "execute_result"
    }
   ],
   "source": [
    "processed_data['vehicle_type'] = processed_data['vehicle_type'].fillna('other')\n",
    "show_nulls(processed_data)"
   ]
  },
  {
   "cell_type": "markdown",
   "metadata": {},
   "source": [
    "**Столбец `fuel_type`**"
   ]
  },
  {
   "cell_type": "code",
   "execution_count": 25,
   "metadata": {},
   "outputs": [
    {
     "data": {
      "text/html": [
       "<div>\n",
       "<style scoped>\n",
       "    .dataframe tbody tr th:only-of-type {\n",
       "        vertical-align: middle;\n",
       "    }\n",
       "\n",
       "    .dataframe tbody tr th {\n",
       "        vertical-align: top;\n",
       "    }\n",
       "\n",
       "    .dataframe thead th {\n",
       "        text-align: right;\n",
       "    }\n",
       "</style>\n",
       "<table border=\"1\" class=\"dataframe\">\n",
       "  <thead>\n",
       "    <tr style=\"text-align: right;\">\n",
       "      <th></th>\n",
       "      <th>Типы топлива</th>\n",
       "    </tr>\n",
       "  </thead>\n",
       "  <tbody>\n",
       "    <tr>\n",
       "      <th>petrol</th>\n",
       "      <td>210015</td>\n",
       "    </tr>\n",
       "    <tr>\n",
       "      <th>gasoline</th>\n",
       "      <td>96308</td>\n",
       "    </tr>\n",
       "    <tr>\n",
       "      <th>lpg</th>\n",
       "      <td>5159</td>\n",
       "    </tr>\n",
       "    <tr>\n",
       "      <th>cng</th>\n",
       "      <td>542</td>\n",
       "    </tr>\n",
       "    <tr>\n",
       "      <th>hybrid</th>\n",
       "      <td>225</td>\n",
       "    </tr>\n",
       "    <tr>\n",
       "      <th>other</th>\n",
       "      <td>196</td>\n",
       "    </tr>\n",
       "    <tr>\n",
       "      <th>electric</th>\n",
       "      <td>89</td>\n",
       "    </tr>\n",
       "  </tbody>\n",
       "</table>\n",
       "</div>"
      ],
      "text/plain": [
       "          Типы топлива\n",
       "petrol          210015\n",
       "gasoline         96308\n",
       "lpg               5159\n",
       "cng                542\n",
       "hybrid             225\n",
       "other              196\n",
       "electric            89"
      ]
     },
     "execution_count": 25,
     "metadata": {},
     "output_type": "execute_result"
    }
   ],
   "source": [
    "fuels = processed_data['fuel_type'].value_counts()\n",
    "fuel_df = pd.DataFrame({'Типы топлива': fuels}).sort_values(by='Типы топлива', ascending=False)\n",
    "fuel_df"
   ]
  },
  {
   "cell_type": "markdown",
   "metadata": {},
   "source": [
    "Аналогично пропускам в `vehicle_type`, пропуски в `fuel_type` отнесём к группе `other`."
   ]
  },
  {
   "cell_type": "code",
   "execution_count": 26,
   "metadata": {},
   "outputs": [
    {
     "data": {
      "text/html": [
       "<div>\n",
       "<style scoped>\n",
       "    .dataframe tbody tr th:only-of-type {\n",
       "        vertical-align: middle;\n",
       "    }\n",
       "\n",
       "    .dataframe tbody tr th {\n",
       "        vertical-align: top;\n",
       "    }\n",
       "\n",
       "    .dataframe thead tr th {\n",
       "        text-align: left;\n",
       "    }\n",
       "</style>\n",
       "<table border=\"1\" class=\"dataframe\">\n",
       "  <thead>\n",
       "    <tr>\n",
       "      <th></th>\n",
       "      <th colspan=\"2\" halign=\"left\">Количество пропусков в столбцах</th>\n",
       "    </tr>\n",
       "    <tr>\n",
       "      <th></th>\n",
       "      <th>quantity</th>\n",
       "      <th>percentage</th>\n",
       "    </tr>\n",
       "  </thead>\n",
       "  <tbody>\n",
       "    <tr>\n",
       "      <th>gearbox</th>\n",
       "      <td>17966</td>\n",
       "      <td>5.30</td>\n",
       "    </tr>\n",
       "    <tr>\n",
       "      <th>model</th>\n",
       "      <td>17658</td>\n",
       "      <td>5.20</td>\n",
       "    </tr>\n",
       "  </tbody>\n",
       "</table>\n",
       "</div>"
      ],
      "text/plain": [
       "        Количество пропусков в столбцах           \n",
       "                               quantity percentage\n",
       "gearbox                           17966       5.30\n",
       "model                             17658       5.20"
      ]
     },
     "execution_count": 26,
     "metadata": {},
     "output_type": "execute_result"
    }
   ],
   "source": [
    "processed_data['fuel_type'] = processed_data['fuel_type'].fillna('other')\n",
    "show_nulls(processed_data)"
   ]
  },
  {
   "cell_type": "markdown",
   "metadata": {},
   "source": [
    "**Столбец `gearbox`**"
   ]
  },
  {
   "cell_type": "markdown",
   "metadata": {},
   "source": [
    "Заменить пропуски с помощью других данных нельзя.Данных много, чтобы удалить их без последствий.\\\n",
    "Присвою пропускам категорию `unknown`."
   ]
  },
  {
   "cell_type": "code",
   "execution_count": 27,
   "metadata": {},
   "outputs": [
    {
     "data": {
      "text/html": [
       "<div>\n",
       "<style scoped>\n",
       "    .dataframe tbody tr th:only-of-type {\n",
       "        vertical-align: middle;\n",
       "    }\n",
       "\n",
       "    .dataframe tbody tr th {\n",
       "        vertical-align: top;\n",
       "    }\n",
       "\n",
       "    .dataframe thead tr th {\n",
       "        text-align: left;\n",
       "    }\n",
       "</style>\n",
       "<table border=\"1\" class=\"dataframe\">\n",
       "  <thead>\n",
       "    <tr>\n",
       "      <th></th>\n",
       "      <th colspan=\"2\" halign=\"left\">Количество пропусков в столбцах</th>\n",
       "    </tr>\n",
       "    <tr>\n",
       "      <th></th>\n",
       "      <th>quantity</th>\n",
       "      <th>percentage</th>\n",
       "    </tr>\n",
       "  </thead>\n",
       "  <tbody>\n",
       "    <tr>\n",
       "      <th>model</th>\n",
       "      <td>17658</td>\n",
       "      <td>5.20</td>\n",
       "    </tr>\n",
       "  </tbody>\n",
       "</table>\n",
       "</div>"
      ],
      "text/plain": [
       "      Количество пропусков в столбцах           \n",
       "                             quantity percentage\n",
       "model                           17658       5.20"
      ]
     },
     "execution_count": 27,
     "metadata": {},
     "output_type": "execute_result"
    }
   ],
   "source": [
    "processed_data['gearbox'] = processed_data['gearbox'].fillna('unknown')\n",
    "show_nulls(processed_data)"
   ]
  },
  {
   "cell_type": "markdown",
   "metadata": {},
   "source": [
    "**Столбец `model`**"
   ]
  },
  {
   "cell_type": "markdown",
   "metadata": {},
   "source": [
    "Аналогично пропускам в `fuel_type` и `vehicle_type`, можно отнести пропуски к группе `other`."
   ]
  },
  {
   "cell_type": "code",
   "execution_count": 28,
   "metadata": {},
   "outputs": [
    {
     "data": {
      "text/plain": [
       "'Пропусков нет'"
      ]
     },
     "execution_count": 28,
     "metadata": {},
     "output_type": "execute_result"
    }
   ],
   "source": [
    "processed_data['model'] = processed_data['model'].fillna('other')\n",
    "show_nulls(processed_data)"
   ]
  },
  {
   "cell_type": "markdown",
   "metadata": {},
   "source": [
    "### Обработка выбросов:"
   ]
  },
  {
   "cell_type": "code",
   "execution_count": 29,
   "metadata": {},
   "outputs": [
    {
     "name": "stdout",
     "output_type": "stream",
     "text": [
      "<class 'pandas.core.frame.DataFrame'>\n",
      "Int64Index: 339835 entries, 0 to 354364\n",
      "Data columns (total 17 columns):\n",
      " #   Column                 Non-Null Count   Dtype         \n",
      "---  ------                 --------------   -----         \n",
      " 0   date_crawled           339835 non-null  int64         \n",
      " 1   price                  339835 non-null  int64         \n",
      " 2   vehicle_type           339835 non-null  object        \n",
      " 3   registration_year      339835 non-null  int64         \n",
      " 4   gearbox                339835 non-null  object        \n",
      " 5   power                  339835 non-null  int64         \n",
      " 6   model                  339835 non-null  object        \n",
      " 7   mileage_km             339835 non-null  int64         \n",
      " 8   month_of_registration  339835 non-null  int64         \n",
      " 9   fuel_type              339835 non-null  object        \n",
      " 10  brand                  339835 non-null  object        \n",
      " 11  not_repaired           339835 non-null  object        \n",
      " 12  date_of_creation       339835 non-null  datetime64[ns]\n",
      " 13  number_of_pictures     339835 non-null  int64         \n",
      " 14  postal_code            339835 non-null  int64         \n",
      " 15  last_seen              339835 non-null  object        \n",
      " 16  year_of_creation       339835 non-null  int64         \n",
      "dtypes: datetime64[ns](1), int64(9), object(7)\n",
      "memory usage: 46.7+ MB\n"
     ]
    }
   ],
   "source": [
    "processed_data.info()"
   ]
  },
  {
   "cell_type": "markdown",
   "metadata": {},
   "source": [
    "**Столбец `price`**"
   ]
  },
  {
   "cell_type": "code",
   "execution_count": 30,
   "metadata": {},
   "outputs": [
    {
     "data": {
      "image/png": "[encoded data removed]",
      "text/plain": [
       "<Figure size 1080x576 with 2 Axes>"
      ]
     },
     "metadata": {
      "needs_background": "light"
     },
     "output_type": "display_data"
    }
   ],
   "source": [
    "fig, axes = plt.subplots(1, 2, figsize=(15, 8))\n",
    "sns.histplot(processed_data['price'], ax=axes[0])\n",
    "axes[0].set_title('Распределение стоимости машин\\n')\n",
    "sns.histplot(processed_data['price'], ax=axes[1])\n",
    "axes[1].set_title('Распределение стоимости машин\\n(0–20000 €)')\n",
    "plt.xlim([0, 20000])\n",
    "plt.show()"
   ]
  },
  {
   "cell_type": "code",
   "execution_count": 31,
   "metadata": {},
   "outputs": [
    {
     "name": "stdout",
     "output_type": "stream",
     "text": [
      "Количество автомобилей со стоимостью 0 €: 10021 (2.95%)\n"
     ]
    }
   ],
   "source": [
    "low_price = processed_data.query('price == 0')['power'].count()\n",
    "print(f'Количество автомобилей со стоимостью 0 €: {low_price} ({low_price / len(processed_data):.2%})')"
   ]
  },
  {
   "cell_type": "markdown",
   "metadata": {},
   "source": [
    "Минимальная стоимость автомобиля, мне кажется не может быть ниже 500 €.\\\n",
    "Удалю данные автомобилей стоимость которых ниже 500 €."
   ]
  },
  {
   "cell_type": "code",
   "execution_count": 32,
   "metadata": {},
   "outputs": [
    {
     "name": "stdout",
     "output_type": "stream",
     "text": [
      "Количество автомобилей со стоимостью менее 500 €: 34565 (10.17%)\n"
     ]
    }
   ],
   "source": [
    "low_price_500 = processed_data.query('price < 500')['power'].count()\n",
    "print(f'Количество автомобилей со стоимостью менее 500 €: {low_price_500} ({low_price_500 / len(processed_data):.2%})')"
   ]
  },
  {
   "cell_type": "markdown",
   "metadata": {},
   "source": [
    "Количество довольно большое, но оставлю пока так."
   ]
  },
  {
   "cell_type": "code",
   "execution_count": 33,
   "metadata": {},
   "outputs": [],
   "source": [
    "processed_data = processed_data.query('price > 500')"
   ]
  },
  {
   "cell_type": "markdown",
   "metadata": {},
   "source": [
    "**Столбец `registration_year`**"
   ]
  },
  {
   "cell_type": "code",
   "execution_count": 34,
   "metadata": {},
   "outputs": [
    {
     "data": {
      "image/png": "[encoded data removed]",
      "text/plain": [
       "<Figure size 1080x360 with 1 Axes>"
      ]
     },
     "metadata": {
      "needs_background": "light"
     },
     "output_type": "display_data"
    }
   ],
   "source": [
    "filt_data = processed_data.query('registration_year > 1959 & registration_year < 2023')\n",
    "plt.figure(figsize=(15, 5))\n",
    "pivot_years = filt_data.pivot_table(index='registration_year', values='power', aggfunc='count')\n",
    "fig = sns.barplot(x=pivot_years.index, y='power', data=pivot_years, palette='pastel')\n",
    "plt.title('Распределение дат регистрации машин\\n')\n",
    "plt.xlabel('')\n",
    "plt.ylabel('Количество')\n",
    "plt.setp(fig.get_xticklabels(),rotation=90)\n",
    "plt.show()"
   ]
  },
  {
   "cell_type": "code",
   "execution_count": 35,
   "metadata": {},
   "outputs": [
    {
     "data": {
      "image/png": "[encoded data removed]",
      "text/plain": [
       "<Figure size 864x360 with 1 Axes>"
      ]
     },
     "metadata": {
      "needs_background": "light"
     },
     "output_type": "display_data"
    }
   ],
   "source": [
    "data.boxplot(column='registration_year', showfliers=False, figsize=(12, 5))\n",
    "plt.xlabel(\"Год регистрации автомобиля\")\n",
    "plt.ylabel('Года')\n",
    "plt.title('Распределение дат регистрации машин')\n",
    "plt.show()"
   ]
  },
  {
   "cell_type": "markdown",
   "metadata": {},
   "source": [
    "Непонятно от какой даты можно считать актуальные даты регистрации автомобиля.\\\n",
    "Предварительно возьму рамки 1960–2022 годы."
   ]
  },
  {
   "cell_type": "code",
   "execution_count": 36,
   "metadata": {},
   "outputs": [
    {
     "name": "stdout",
     "output_type": "stream",
     "text": [
      "Количество отфильтрованных данных (до 1960 и после 2016)\n",
      "54823 (15.47%)\n"
     ]
    }
   ],
   "source": [
    "# Фильтруем данные по годам регистрации\n",
    "processed_data = processed_data.query('registration_year >= 1960 & registration_year <= @max_year')\n",
    "\n",
    "# Проверяем количество отфильтрованных данных\n",
    "rejected_year = len(data) - len(processed_data)\n",
    "print(\n",
    "    f'Количество отфильтрованных данных (до 1960 и после {max_year})\\n'\n",
    "    f'{rejected_year} ({rejected_year / len(data):.2%})'\n",
    ")\n",
    "\n",
    "# Теперь можно удалить ненужные столбцы\n",
    "processed_data = processed_data.drop(columns_to_drop, axis=1)"
   ]
  },
  {
   "cell_type": "code",
   "execution_count": 37,
   "metadata": {},
   "outputs": [
    {
     "name": "stdout",
     "output_type": "stream",
     "text": [
      "Количество отфильтрованных данных (до 1960 и после 2016 года)\n",
      "0 (0.00%)\n"
     ]
    }
   ],
   "source": [
    "rejected_year = processed_data.query('registration_year <= 1959 | registration_year > 2016')['power'].count()\n",
    "print(\n",
    "    f'Количество отфильтрованных данных (до 1960 и после 2016 года)\\n'\n",
    "    f'{rejected_year} ({rejected_year / len(data):.2%})'\n",
    ")"
   ]
  },
  {
   "cell_type": "markdown",
   "metadata": {},
   "source": [
    "Возьму рамки 1960–2016 годы."
   ]
  },
  {
   "cell_type": "code",
   "execution_count": 38,
   "metadata": {},
   "outputs": [],
   "source": [
    "filt_data = processed_data.copy()"
   ]
  },
  {
   "cell_type": "markdown",
   "metadata": {},
   "source": [
    "**Столбец `power`**"
   ]
  },
  {
   "cell_type": "code",
   "execution_count": 39,
   "metadata": {},
   "outputs": [
    {
     "data": {
      "text/plain": [
       "count   299,546.00\n",
       "mean        116.78\n",
       "std         186.80\n",
       "min           0.00\n",
       "25%          75.00\n",
       "50%         109.00\n",
       "75%         150.00\n",
       "max      20,000.00\n",
       "Name: power, dtype: float64"
      ]
     },
     "execution_count": 39,
     "metadata": {},
     "output_type": "execute_result"
    }
   ],
   "source": [
    "processed_data['power'].describe()"
   ]
  },
  {
   "cell_type": "markdown",
   "metadata": {},
   "source": [
    "Средняя мощность автомобиля в 2024 году составляет 212 л.с.\\\n",
    "~Предварительно остановлюсь на диапазоне 50-374 л.с.~"
   ]
  },
  {
   "cell_type": "code",
   "execution_count": 40,
   "metadata": {
    "scrolled": true
   },
   "outputs": [],
   "source": [
    "#filt_data = processed_data.query('power > 50 & power <= 1000')\n",
    "#data_loss = len(processed_data) - len(filt_data)\n",
    "#print(f'Потеря данных при фильтрации: {data_loss} ({data_loss / len(processed_data):.2%})')"
   ]
  },
  {
   "cell_type": "markdown",
   "metadata": {},
   "source": [
    "~10.63% данных - это большое количество для того, чтобы убирать их.\\~\n",
    "~Но так как средняя мощность спорткаров до 2017 года примерно 1000 л.с., то оставлю данные с мощностью <= 1000 л.с. и заменю нули в признаке `Power` на медиану по `model`.~"
   ]
  },
  {
   "cell_type": "code",
   "execution_count": 41,
   "metadata": {},
   "outputs": [],
   "source": [
    "#filt_data = processed_data.query('power <= 1000')\n",
    "#filt_data['power'] = filt_data['power'].replace(0, np.NaN)\n",
    "#filt_data['power'] = filt_data['power'].fillna(filt_data.groupby('model')['power'].transform(lambda x: x.median() if not x.median() is None else np.nan)\n",
    "#)"
   ]
  },
  {
   "cell_type": "code",
   "execution_count": 42,
   "metadata": {},
   "outputs": [
    {
     "name": "stdout",
     "output_type": "stream",
     "text": [
      "Потеря данных при фильтрации: 227 (0.08%)\n"
     ]
    }
   ],
   "source": [
    "# Устанавливаем верхний и нижний пределы для мощности\n",
    "lower_bound = 50\n",
    "upper_bound = 1000\n",
    "\n",
    "# Фильтруем данные по мощности\n",
    "filt_data = processed_data.query('power <= @upper_bound')\n",
    "\n",
    "# Заменяем нули на NaN\n",
    "filt_data['power'] = filt_data['power'].replace(0, np.NaN)\n",
    "\n",
    "# Заменяем значения ниже нижнего предела на NaN\n",
    "filt_data['power'] = filt_data['power'].where(filt_data['power'] >= lower_bound, np.NaN)\n",
    "\n",
    "# Заполняем NaN значениями медианы по модели\n",
    "filt_data['power'] = filt_data['power'].fillna(\n",
    "    filt_data.groupby('model')['power'].transform(lambda x: x.median() if not x.median() is None else np.nan)\n",
    ")\n",
    "\n",
    "# Проверяем потерю данных\n",
    "data_loss = len(processed_data) - len(filt_data)\n",
    "print(f'Потеря данных при фильтрации: {data_loss} ({data_loss / len(processed_data):.2%})')"
   ]
  },
  {
   "cell_type": "code",
   "execution_count": 43,
   "metadata": {},
   "outputs": [
    {
     "data": {
      "image/png": "[encoded data removed]",
      "text/plain": [
       "<Figure size 1080x360 with 1 Axes>"
      ]
     },
     "metadata": {
      "needs_background": "light"
     },
     "output_type": "display_data"
    }
   ],
   "source": [
    "plt.figure(figsize=(15, 5))\n",
    "sns.histplot(filt_data['power'])\n",
    "plt.title('Распределение мощности автомобилей\\n')\n",
    "plt.xlim([0, 1000])\n",
    "plt.ylabel('Количество')\n",
    "plt.xlabel('Мощность автомобиля (л.с.)')\n",
    "plt.show()"
   ]
  },
  {
   "cell_type": "code",
   "execution_count": 44,
   "metadata": {},
   "outputs": [
    {
     "data": {
      "image/png": "[encoded data removed]",
      "text/plain": [
       "<Figure size 864x360 with 1 Axes>"
      ]
     },
     "metadata": {
      "needs_background": "light"
     },
     "output_type": "display_data"
    }
   ],
   "source": [
    "data.boxplot(column='power', showfliers=False, figsize=(12, 5))\n",
    "plt.xlabel(\"Мощность автомобиля\")\n",
    "plt.ylabel('Мощность автомобиля (л.с.)')\n",
    "plt.title('Распределение мощности автомобиля')\n",
    "plt.show()"
   ]
  },
  {
   "cell_type": "code",
   "execution_count": 45,
   "metadata": {},
   "outputs": [],
   "source": [
    "df = filt_data.copy()"
   ]
  },
  {
   "cell_type": "markdown",
   "metadata": {},
   "source": [
    "**Столбец `mileage_km`**"
   ]
  },
  {
   "cell_type": "code",
   "execution_count": 46,
   "metadata": {},
   "outputs": [
    {
     "data": {
      "image/png": "[encoded data removed]",
      "text/plain": [
       "<Figure size 1080x360 with 1 Axes>"
      ]
     },
     "metadata": {
      "needs_background": "light"
     },
     "output_type": "display_data"
    }
   ],
   "source": [
    "plt.figure(figsize=(15, 5))\n",
    "pivot_mileage = df.pivot_table(index='mileage_km', values='price', aggfunc='count')\n",
    "fig = sns.barplot(x=pivot_mileage.index, y='price', data=pivot_mileage, palette='pastel')\n",
    "plt.ylabel('Количество')\n",
    "plt.xlabel('Пробег (км)')\n",
    "plt.title('Распределение пробега автомобилей\\n')\n",
    "plt.show()"
   ]
  },
  {
   "cell_type": "markdown",
   "metadata": {},
   "source": [
    "Пробег разбит на категории несмотря на то, что категории заданы числами. Бо́льшая часть в категории 150 тыс. км.\\\n",
    "Возможно в эту категорию попадают автомобили с пробегом более 150 тыс. км."
   ]
  },
  {
   "cell_type": "code",
   "execution_count": 47,
   "metadata": {
    "scrolled": true
   },
   "outputs": [
    {
     "data": {
      "text/html": [
       "<div>\n",
       "<style scoped>\n",
       "    .dataframe tbody tr th:only-of-type {\n",
       "        vertical-align: middle;\n",
       "    }\n",
       "\n",
       "    .dataframe tbody tr th {\n",
       "        vertical-align: top;\n",
       "    }\n",
       "\n",
       "    .dataframe thead th {\n",
       "        text-align: right;\n",
       "    }\n",
       "</style>\n",
       "<table border=\"1\" class=\"dataframe\">\n",
       "  <thead>\n",
       "    <tr style=\"text-align: right;\">\n",
       "      <th></th>\n",
       "      <th>date_crawled</th>\n",
       "      <th>price</th>\n",
       "      <th>vehicle_type</th>\n",
       "      <th>registration_year</th>\n",
       "      <th>gearbox</th>\n",
       "      <th>power</th>\n",
       "      <th>model</th>\n",
       "      <th>mileage_km</th>\n",
       "      <th>fuel_type</th>\n",
       "      <th>brand</th>\n",
       "      <th>not_repaired</th>\n",
       "      <th>year_of_creation</th>\n",
       "    </tr>\n",
       "  </thead>\n",
       "  <tbody>\n",
       "    <tr>\n",
       "      <th>1</th>\n",
       "      <td>2016</td>\n",
       "      <td>18300</td>\n",
       "      <td>coupe</td>\n",
       "      <td>2011</td>\n",
       "      <td>manual</td>\n",
       "      <td>190.00</td>\n",
       "      <td>other</td>\n",
       "      <td>125000</td>\n",
       "      <td>gasoline</td>\n",
       "      <td>audi</td>\n",
       "      <td>yes</td>\n",
       "      <td>2016</td>\n",
       "    </tr>\n",
       "    <tr>\n",
       "      <th>2</th>\n",
       "      <td>2016</td>\n",
       "      <td>9800</td>\n",
       "      <td>suv</td>\n",
       "      <td>2004</td>\n",
       "      <td>auto</td>\n",
       "      <td>163.00</td>\n",
       "      <td>grand</td>\n",
       "      <td>125000</td>\n",
       "      <td>gasoline</td>\n",
       "      <td>jeep</td>\n",
       "      <td>unknown</td>\n",
       "      <td>2016</td>\n",
       "    </tr>\n",
       "    <tr>\n",
       "      <th>3</th>\n",
       "      <td>2016</td>\n",
       "      <td>1500</td>\n",
       "      <td>small</td>\n",
       "      <td>2001</td>\n",
       "      <td>manual</td>\n",
       "      <td>75.00</td>\n",
       "      <td>golf</td>\n",
       "      <td>150000</td>\n",
       "      <td>petrol</td>\n",
       "      <td>volkswagen</td>\n",
       "      <td>no</td>\n",
       "      <td>2016</td>\n",
       "    </tr>\n",
       "    <tr>\n",
       "      <th>4</th>\n",
       "      <td>2016</td>\n",
       "      <td>3600</td>\n",
       "      <td>small</td>\n",
       "      <td>2008</td>\n",
       "      <td>manual</td>\n",
       "      <td>69.00</td>\n",
       "      <td>fabia</td>\n",
       "      <td>90000</td>\n",
       "      <td>gasoline</td>\n",
       "      <td>skoda</td>\n",
       "      <td>no</td>\n",
       "      <td>2016</td>\n",
       "    </tr>\n",
       "    <tr>\n",
       "      <th>5</th>\n",
       "      <td>2016</td>\n",
       "      <td>650</td>\n",
       "      <td>sedan</td>\n",
       "      <td>1995</td>\n",
       "      <td>manual</td>\n",
       "      <td>102.00</td>\n",
       "      <td>3er</td>\n",
       "      <td>150000</td>\n",
       "      <td>petrol</td>\n",
       "      <td>bmw</td>\n",
       "      <td>yes</td>\n",
       "      <td>2016</td>\n",
       "    </tr>\n",
       "  </tbody>\n",
       "</table>\n",
       "</div>"
      ],
      "text/plain": [
       "   date_crawled  price vehicle_type  registration_year gearbox  power  model  \\\n",
       "1          2016  18300        coupe               2011  manual 190.00  other   \n",
       "2          2016   9800          suv               2004    auto 163.00  grand   \n",
       "3          2016   1500        small               2001  manual  75.00   golf   \n",
       "4          2016   3600        small               2008  manual  69.00  fabia   \n",
       "5          2016    650        sedan               1995  manual 102.00    3er   \n",
       "\n",
       "   mileage_km fuel_type       brand not_repaired  year_of_creation  \n",
       "1      125000  gasoline        audi          yes              2016  \n",
       "2      125000  gasoline        jeep      unknown              2016  \n",
       "3      150000    petrol  volkswagen           no              2016  \n",
       "4       90000  gasoline       skoda           no              2016  \n",
       "5      150000    petrol         bmw          yes              2016  "
      ]
     },
     "execution_count": 47,
     "metadata": {},
     "output_type": "execute_result"
    }
   ],
   "source": [
    "df.head()"
   ]
  },
  {
   "cell_type": "code",
   "execution_count": 48,
   "metadata": {},
   "outputs": [
    {
     "data": {
      "image/png": "[encoded data removed]",
      "text/plain": [
       "<Figure size 432x288 with 1 Axes>"
      ]
     },
     "metadata": {
      "needs_background": "light"
     },
     "output_type": "display_data"
    }
   ],
   "source": [
    "sns.boxplot(x=df['price'])\n",
    "plt.xlabel('Цена')\n",
    "plt.title('Распределение цены автомобилей\\n')\n",
    "plt.show()"
   ]
  },
  {
   "cell_type": "code",
   "execution_count": 49,
   "metadata": {},
   "outputs": [
    {
     "name": "stdout",
     "output_type": "stream",
     "text": [
      "Количество дубликатов: 40146 (13.41%)\n"
     ]
    }
   ],
   "source": [
    "def show_duplicates(df):\n",
    "    duplicates = df.duplicated().sum()\n",
    "    print(f'Количество дубликатов: {duplicates} ({duplicates / len(df):.2%})')\n",
    "show_duplicates(df)"
   ]
  },
  {
   "cell_type": "code",
   "execution_count": 50,
   "metadata": {},
   "outputs": [],
   "source": [
    "df_cleaned = df.drop_duplicates()"
   ]
  },
  {
   "cell_type": "code",
   "execution_count": 51,
   "metadata": {
    "scrolled": true
   },
   "outputs": [
    {
     "name": "stdout",
     "output_type": "stream",
     "text": [
      "Количество дубликатов после удаления: 0 (0.00%)\n"
     ]
    }
   ],
   "source": [
    "new_duplicates = df_cleaned.duplicated().sum()\n",
    "print(f'Количество дубликатов после удаления: {new_duplicates} ({new_duplicates / len(df_cleaned):.2%})')"
   ]
  },
  {
   "cell_type": "markdown",
   "metadata": {},
   "source": [
    "**Промежуточный вывод:**\n",
    "- Поправил названия столбцов;\n",
    "- Удалил столбцы, которые не могут повлиять на стоимость автомобиля - `date_crawled`, `month_of_registration`, `number_of_pictures`, `last_seen`;\n",
    "- Столбец `date_of_creation` преобразовал в год публикации;\n",
    "- Обработал пропуски;\n",
    "- Обработал выбросы."
   ]
  },
  {
   "cell_type": "markdown",
   "metadata": {},
   "source": [
    "## Подготовка данных"
   ]
  },
  {
   "cell_type": "markdown",
   "metadata": {},
   "source": [
    "### Подготовка признаков"
   ]
  },
  {
   "cell_type": "markdown",
   "metadata": {},
   "source": [
    "**Проверка наличия пропусков**"
   ]
  },
  {
   "cell_type": "code",
   "execution_count": 52,
   "metadata": {},
   "outputs": [
    {
     "name": "stdout",
     "output_type": "stream",
     "text": [
      "date_crawled         0\n",
      "price                0\n",
      "vehicle_type         0\n",
      "registration_year    0\n",
      "gearbox              0\n",
      "power                1\n",
      "model                0\n",
      "mileage_km           0\n",
      "fuel_type            0\n",
      "brand                0\n",
      "not_repaired         0\n",
      "year_of_creation     0\n",
      "dtype: int64\n"
     ]
    }
   ],
   "source": [
    "print(df.isna().sum())"
   ]
  },
  {
   "cell_type": "markdown",
   "metadata": {},
   "source": [
    "**Заполнение NaN медианой**"
   ]
  },
  {
   "cell_type": "code",
   "execution_count": 53,
   "metadata": {},
   "outputs": [],
   "source": [
    "df.fillna(df.median(), inplace=True)"
   ]
  },
  {
   "cell_type": "markdown",
   "metadata": {},
   "source": [
    "**Разделю данные на признаки и целевую переменную:**"
   ]
  },
  {
   "cell_type": "code",
   "execution_count": 54,
   "metadata": {},
   "outputs": [],
   "source": [
    "X = df.drop('price', axis=1)\n",
    "y = df['price']"
   ]
  },
  {
   "cell_type": "markdown",
   "metadata": {},
   "source": [
    "~**Применим LabelEncoder к категориальным столбцам**~"
   ]
  },
  {
   "cell_type": "code",
   "execution_count": 55,
   "metadata": {},
   "outputs": [],
   "source": [
    "#label_encoders = {}\n",
    "#for column in ['vehicle_type', 'gearbox', 'model', 'fuel_type', 'brand', 'not_repaired']:\n",
    "#    le = LabelEncoder()\n",
    "#    X[column] = le.fit_transform(X[column])\n",
    "#    label_encoders[column] = le"
   ]
  },
  {
   "cell_type": "markdown",
   "metadata": {},
   "source": [
    "## Построение и обучение моделей"
   ]
  },
  {
   "cell_type": "markdown",
   "metadata": {},
   "source": [
    "**Разделение набора данных на тренировочный и тестовый**"
   ]
  },
  {
   "cell_type": "code",
   "execution_count": 56,
   "metadata": {},
   "outputs": [],
   "source": [
    "X_train, X_test, y_train, y_test = train_test_split(X, y, test_size=0.2, random_state=42)"
   ]
  },
  {
   "cell_type": "markdown",
   "metadata": {},
   "source": [
    "После разделения данных на обучающую и тестовую выборки полезно проверить размеры и размерности этих наборов. Это помогает убедиться, что разбиение прошло корректно и что данные были распределены так, как ожидалось:"
   ]
  },
  {
   "cell_type": "code",
   "execution_count": 57,
   "metadata": {},
   "outputs": [
    {
     "name": "stdout",
     "output_type": "stream",
     "text": [
      "Размеры выборок:\n",
      "X_train: 239455 строк, 11 столбцов\n",
      "X_test: 59864 строк, 11 столбцов\n",
      "y_train: 239455 элементов\n",
      "y_test: 59864 элементов\n"
     ]
    }
   ],
   "source": [
    "print(\"Размеры выборок:\")\n",
    "print(f\"X_train: {X_train.shape[0]} строк, {X_train.shape[1]} столбцов\")\n",
    "print(f\"X_test: {X_test.shape[0]} строк, {X_test.shape[1]} столбцов\")\n",
    "print(f\"y_train: {y_train.shape[0]} элементов\")\n",
    "print(f\"y_test: {y_test.shape[0]} элементов\")"
   ]
  },
  {
   "cell_type": "markdown",
   "metadata": {},
   "source": [
    "**Определение категориальных и числовых признаков:**"
   ]
  },
  {
   "cell_type": "code",
   "execution_count": 58,
   "metadata": {},
   "outputs": [],
   "source": [
    "categorical_features = ['vehicle_type', 'gearbox', 'model', 'fuel_type', 'brand', 'not_repaired']\n",
    "numerical_features = ['registration_year', 'power', 'mileage_km', 'year_of_creation']"
   ]
  },
  {
   "cell_type": "markdown",
   "metadata": {},
   "source": [
    "### Обучение и сравнение моделей Ridge и Lasso для определения рыночной стоимости автомобилей"
   ]
  },
  {
   "cell_type": "markdown",
   "metadata": {},
   "source": [
    "**Создание трансформера**"
   ]
  },
  {
   "cell_type": "code",
   "execution_count": 59,
   "metadata": {},
   "outputs": [],
   "source": [
    "numerical_transformer = Pipeline(steps=[\n",
    "    ('scaler', StandardScaler())\n",
    "])\n",
    "\n",
    "categorical_transformer = Pipeline(steps=[\n",
    "    ('onehot', OneHotEncoder(handle_unknown='ignore', drop='first'))\n",
    "])"
   ]
  },
  {
   "cell_type": "markdown",
   "metadata": {},
   "source": [
    "**Объединяем трансформеры в один ColumnTransformer**"
   ]
  },
  {
   "cell_type": "code",
   "execution_count": 60,
   "metadata": {},
   "outputs": [],
   "source": [
    "preprocessor = ColumnTransformer(\n",
    "    transformers=[\n",
    "        ('num', numerical_transformer, numerical_features),\n",
    "        ('cat', categorical_transformer, categorical_features)\n",
    "    ])"
   ]
  },
  {
   "cell_type": "markdown",
   "metadata": {},
   "source": [
    "**Создаем пайплайн для Ridge и Lasso:**"
   ]
  },
  {
   "cell_type": "code",
   "execution_count": 61,
   "metadata": {},
   "outputs": [],
   "source": [
    "ridge_pipeline = Pipeline(steps=[('preprocessor', preprocessor),\n",
    "                                  ('regressor', Ridge(random_state=42))])\n",
    "\n",
    "lasso_pipeline = Pipeline(steps=[('preprocessor', preprocessor),\n",
    "                                  ('regressor', Lasso(random_state=42))])"
   ]
  },
  {
   "cell_type": "markdown",
   "metadata": {},
   "source": [
    "**Определение параметров для поиска**"
   ]
  },
  {
   "cell_type": "code",
   "execution_count": 62,
   "metadata": {},
   "outputs": [],
   "source": [
    "ridge_param_distributions = {'regressor__alpha': [0.1, 1.0, 10.0]}\n",
    "lasso_param_distributions = {'regressor__alpha': [0.1, 1.0, 10.0]}"
   ]
  },
  {
   "cell_type": "markdown",
   "metadata": {},
   "source": [
    "**Настройка RandomizedSearchCV с кросс-валидацией для Ridge и для Lasso**"
   ]
  },
  {
   "cell_type": "code",
   "execution_count": 63,
   "metadata": {},
   "outputs": [
    {
     "data": {
      "text/html": [
       "<style>#sk-container-id-1 {\n",
       "  /* Definition of color scheme common for light and dark mode */\n",
       "  --sklearn-color-text: #000;\n",
       "  --sklearn-color-text-muted: #666;\n",
       "  --sklearn-color-line: gray;\n",
       "  /* Definition of color scheme for unfitted estimators */\n",
       "  --sklearn-color-unfitted-level-0: #fff5e6;\n",
       "  --sklearn-color-unfitted-level-1: #f6e4d2;\n",
       "  --sklearn-color-unfitted-level-2: #ffe0b3;\n",
       "  --sklearn-color-unfitted-level-3: chocolate;\n",
       "  /* Definition of color scheme for fitted estimators */\n",
       "  --sklearn-color-fitted-level-0: #f0f8ff;\n",
       "  --sklearn-color-fitted-level-1: #d4ebff;\n",
       "  --sklearn-color-fitted-level-2: #b3dbfd;\n",
       "  --sklearn-color-fitted-level-3: cornflowerblue;\n",
       "\n",
       "  /* Specific color for light theme */\n",
       "  --sklearn-color-text-on-default-background: var(--sg-text-color, var(--theme-code-foreground, var(--jp-content-font-color1, black)));\n",
       "  --sklearn-color-background: var(--sg-background-color, var(--theme-background, var(--jp-layout-color0, white)));\n",
       "  --sklearn-color-border-box: var(--sg-text-color, var(--theme-code-foreground, var(--jp-content-font-color1, black)));\n",
       "  --sklearn-color-icon: #696969;\n",
       "\n",
       "  @media (prefers-color-scheme: dark) {\n",
       "    /* Redefinition of color scheme for dark theme */\n",
       "    --sklearn-color-text-on-default-background: var(--sg-text-color, var(--theme-code-foreground, var(--jp-content-font-color1, white)));\n",
       "    --sklearn-color-background: var(--sg-background-color, var(--theme-background, var(--jp-layout-color0, #111)));\n",
       "    --sklearn-color-border-box: var(--sg-text-color, var(--theme-code-foreground, var(--jp-content-font-color1, white)));\n",
       "    --sklearn-color-icon: #878787;\n",
       "  }\n",
       "}\n",
       "\n",
       "#sk-container-id-1 {\n",
       "  color: var(--sklearn-color-text);\n",
       "}\n",
       "\n",
       "#sk-container-id-1 pre {\n",
       "  padding: 0;\n",
       "}\n",
       "\n",
       "#sk-container-id-1 input.sk-hidden--visually {\n",
       "  border: 0;\n",
       "  clip: rect(1px 1px 1px 1px);\n",
       "  clip: rect(1px, 1px, 1px, 1px);\n",
       "  height: 1px;\n",
       "  margin: -1px;\n",
       "  overflow: hidden;\n",
       "  padding: 0;\n",
       "  position: absolute;\n",
       "  width: 1px;\n",
       "}\n",
       "\n",
       "#sk-container-id-1 div.sk-dashed-wrapped {\n",
       "  border: 1px dashed var(--sklearn-color-line);\n",
       "  margin: 0 0.4em 0.5em 0.4em;\n",
       "  box-sizing: border-box;\n",
       "  padding-bottom: 0.4em;\n",
       "  background-color: var(--sklearn-color-background);\n",
       "}\n",
       "\n",
       "#sk-container-id-1 div.sk-container {\n",
       "  /* jupyter's `normalize.less` sets `[hidden] { display: none; }`\n",
       "     but bootstrap.min.css set `[hidden] { display: none !important; }`\n",
       "     so we also need the `!important` here to be able to override the\n",
       "     default hidden behavior on the sphinx rendered scikit-learn.org.\n",
       "     See: https://github.com/scikit-learn/scikit-learn/issues/21755 */\n",
       "  display: inline-block !important;\n",
       "  position: relative;\n",
       "}\n",
       "\n",
       "#sk-container-id-1 div.sk-text-repr-fallback {\n",
       "  display: none;\n",
       "}\n",
       "\n",
       "div.sk-parallel-item,\n",
       "div.sk-serial,\n",
       "div.sk-item {\n",
       "  /* draw centered vertical line to link estimators */\n",
       "  background-image: linear-gradient(var(--sklearn-color-text-on-default-background), var(--sklearn-color-text-on-default-background));\n",
       "  background-size: 2px 100%;\n",
       "  background-repeat: no-repeat;\n",
       "  background-position: center center;\n",
       "}\n",
       "\n",
       "/* Parallel-specific style estimator block */\n",
       "\n",
       "#sk-container-id-1 div.sk-parallel-item::after {\n",
       "  content: \"\";\n",
       "  width: 100%;\n",
       "  border-bottom: 2px solid var(--sklearn-color-text-on-default-background);\n",
       "  flex-grow: 1;\n",
       "}\n",
       "\n",
       "#sk-container-id-1 div.sk-parallel {\n",
       "  display: flex;\n",
       "  align-items: stretch;\n",
       "  justify-content: center;\n",
       "  background-color: var(--sklearn-color-background);\n",
       "  position: relative;\n",
       "}\n",
       "\n",
       "#sk-container-id-1 div.sk-parallel-item {\n",
       "  display: flex;\n",
       "  flex-direction: column;\n",
       "}\n",
       "\n",
       "#sk-container-id-1 div.sk-parallel-item:first-child::after {\n",
       "  align-self: flex-end;\n",
       "  width: 50%;\n",
       "}\n",
       "\n",
       "#sk-container-id-1 div.sk-parallel-item:last-child::after {\n",
       "  align-self: flex-start;\n",
       "  width: 50%;\n",
       "}\n",
       "\n",
       "#sk-container-id-1 div.sk-parallel-item:only-child::after {\n",
       "  width: 0;\n",
       "}\n",
       "\n",
       "/* Serial-specific style estimator block */\n",
       "\n",
       "#sk-container-id-1 div.sk-serial {\n",
       "  display: flex;\n",
       "  flex-direction: column;\n",
       "  align-items: center;\n",
       "  background-color: var(--sklearn-color-background);\n",
       "  padding-right: 1em;\n",
       "  padding-left: 1em;\n",
       "}\n",
       "\n",
       "\n",
       "/* Toggleable style: style used for estimator/Pipeline/ColumnTransformer box that is\n",
       "clickable and can be expanded/collapsed.\n",
       "- Pipeline and ColumnTransformer use this feature and define the default style\n",
       "- Estimators will overwrite some part of the style using the `sk-estimator` class\n",
       "*/\n",
       "\n",
       "/* Pipeline and ColumnTransformer style (default) */\n",
       "\n",
       "#sk-container-id-1 div.sk-toggleable {\n",
       "  /* Default theme specific background. It is overwritten whether we have a\n",
       "  specific estimator or a Pipeline/ColumnTransformer */\n",
       "  background-color: var(--sklearn-color-background);\n",
       "}\n",
       "\n",
       "/* Toggleable label */\n",
       "#sk-container-id-1 label.sk-toggleable__label {\n",
       "  cursor: pointer;\n",
       "  display: flex;\n",
       "  width: 100%;\n",
       "  margin-bottom: 0;\n",
       "  padding: 0.5em;\n",
       "  box-sizing: border-box;\n",
       "  text-align: center;\n",
       "  align-items: start;\n",
       "  justify-content: space-between;\n",
       "  gap: 0.5em;\n",
       "}\n",
       "\n",
       "#sk-container-id-1 label.sk-toggleable__label .caption {\n",
       "  font-size: 0.6rem;\n",
       "  font-weight: lighter;\n",
       "  color: var(--sklearn-color-text-muted);\n",
       "}\n",
       "\n",
       "#sk-container-id-1 label.sk-toggleable__label-arrow:before {\n",
       "  /* Arrow on the left of the label */\n",
       "  content: \"▸\";\n",
       "  float: left;\n",
       "  margin-right: 0.25em;\n",
       "  color: var(--sklearn-color-icon);\n",
       "}\n",
       "\n",
       "#sk-container-id-1 label.sk-toggleable__label-arrow:hover:before {\n",
       "  color: var(--sklearn-color-text);\n",
       "}\n",
       "\n",
       "/* Toggleable content - dropdown */\n",
       "\n",
       "#sk-container-id-1 div.sk-toggleable__content {\n",
       "  max-height: 0;\n",
       "  max-width: 0;\n",
       "  overflow: hidden;\n",
       "  text-align: left;\n",
       "  /* unfitted */\n",
       "  background-color: var(--sklearn-color-unfitted-level-0);\n",
       "}\n",
       "\n",
       "#sk-container-id-1 div.sk-toggleable__content.fitted {\n",
       "  /* fitted */\n",
       "  background-color: var(--sklearn-color-fitted-level-0);\n",
       "}\n",
       "\n",
       "#sk-container-id-1 div.sk-toggleable__content pre {\n",
       "  margin: 0.2em;\n",
       "  border-radius: 0.25em;\n",
       "  color: var(--sklearn-color-text);\n",
       "  /* unfitted */\n",
       "  background-color: var(--sklearn-color-unfitted-level-0);\n",
       "}\n",
       "\n",
       "#sk-container-id-1 div.sk-toggleable__content.fitted pre {\n",
       "  /* unfitted */\n",
       "  background-color: var(--sklearn-color-fitted-level-0);\n",
       "}\n",
       "\n",
       "#sk-container-id-1 input.sk-toggleable__control:checked~div.sk-toggleable__content {\n",
       "  /* Expand drop-down */\n",
       "  max-height: 200px;\n",
       "  max-width: 100%;\n",
       "  overflow: auto;\n",
       "}\n",
       "\n",
       "#sk-container-id-1 input.sk-toggleable__control:checked~label.sk-toggleable__label-arrow:before {\n",
       "  content: \"▾\";\n",
       "}\n",
       "\n",
       "/* Pipeline/ColumnTransformer-specific style */\n",
       "\n",
       "#sk-container-id-1 div.sk-label input.sk-toggleable__control:checked~label.sk-toggleable__label {\n",
       "  color: var(--sklearn-color-text);\n",
       "  background-color: var(--sklearn-color-unfitted-level-2);\n",
       "}\n",
       "\n",
       "#sk-container-id-1 div.sk-label.fitted input.sk-toggleable__control:checked~label.sk-toggleable__label {\n",
       "  background-color: var(--sklearn-color-fitted-level-2);\n",
       "}\n",
       "\n",
       "/* Estimator-specific style */\n",
       "\n",
       "/* Colorize estimator box */\n",
       "#sk-container-id-1 div.sk-estimator input.sk-toggleable__control:checked~label.sk-toggleable__label {\n",
       "  /* unfitted */\n",
       "  background-color: var(--sklearn-color-unfitted-level-2);\n",
       "}\n",
       "\n",
       "#sk-container-id-1 div.sk-estimator.fitted input.sk-toggleable__control:checked~label.sk-toggleable__label {\n",
       "  /* fitted */\n",
       "  background-color: var(--sklearn-color-fitted-level-2);\n",
       "}\n",
       "\n",
       "#sk-container-id-1 div.sk-label label.sk-toggleable__label,\n",
       "#sk-container-id-1 div.sk-label label {\n",
       "  /* The background is the default theme color */\n",
       "  color: var(--sklearn-color-text-on-default-background);\n",
       "}\n",
       "\n",
       "/* On hover, darken the color of the background */\n",
       "#sk-container-id-1 div.sk-label:hover label.sk-toggleable__label {\n",
       "  color: var(--sklearn-color-text);\n",
       "  background-color: var(--sklearn-color-unfitted-level-2);\n",
       "}\n",
       "\n",
       "/* Label box, darken color on hover, fitted */\n",
       "#sk-container-id-1 div.sk-label.fitted:hover label.sk-toggleable__label.fitted {\n",
       "  color: var(--sklearn-color-text);\n",
       "  background-color: var(--sklearn-color-fitted-level-2);\n",
       "}\n",
       "\n",
       "/* Estimator label */\n",
       "\n",
       "#sk-container-id-1 div.sk-label label {\n",
       "  font-family: monospace;\n",
       "  font-weight: bold;\n",
       "  display: inline-block;\n",
       "  line-height: 1.2em;\n",
       "}\n",
       "\n",
       "#sk-container-id-1 div.sk-label-container {\n",
       "  text-align: center;\n",
       "}\n",
       "\n",
       "/* Estimator-specific */\n",
       "#sk-container-id-1 div.sk-estimator {\n",
       "  font-family: monospace;\n",
       "  border: 1px dotted var(--sklearn-color-border-box);\n",
       "  border-radius: 0.25em;\n",
       "  box-sizing: border-box;\n",
       "  margin-bottom: 0.5em;\n",
       "  /* unfitted */\n",
       "  background-color: var(--sklearn-color-unfitted-level-0);\n",
       "}\n",
       "\n",
       "#sk-container-id-1 div.sk-estimator.fitted {\n",
       "  /* fitted */\n",
       "  background-color: var(--sklearn-color-fitted-level-0);\n",
       "}\n",
       "\n",
       "/* on hover */\n",
       "#sk-container-id-1 div.sk-estimator:hover {\n",
       "  /* unfitted */\n",
       "  background-color: var(--sklearn-color-unfitted-level-2);\n",
       "}\n",
       "\n",
       "#sk-container-id-1 div.sk-estimator.fitted:hover {\n",
       "  /* fitted */\n",
       "  background-color: var(--sklearn-color-fitted-level-2);\n",
       "}\n",
       "\n",
       "/* Specification for estimator info (e.g. \"i\" and \"?\") */\n",
       "\n",
       "/* Common style for \"i\" and \"?\" */\n",
       "\n",
       ".sk-estimator-doc-link,\n",
       "a:link.sk-estimator-doc-link,\n",
       "a:visited.sk-estimator-doc-link {\n",
       "  float: right;\n",
       "  font-size: smaller;\n",
       "  line-height: 1em;\n",
       "  font-family: monospace;\n",
       "  background-color: var(--sklearn-color-background);\n",
       "  border-radius: 1em;\n",
       "  height: 1em;\n",
       "  width: 1em;\n",
       "  text-decoration: none !important;\n",
       "  margin-left: 0.5em;\n",
       "  text-align: center;\n",
       "  /* unfitted */\n",
       "  border: var(--sklearn-color-unfitted-level-1) 1pt solid;\n",
       "  color: var(--sklearn-color-unfitted-level-1);\n",
       "}\n",
       "\n",
       ".sk-estimator-doc-link.fitted,\n",
       "a:link.sk-estimator-doc-link.fitted,\n",
       "a:visited.sk-estimator-doc-link.fitted {\n",
       "  /* fitted */\n",
       "  border: var(--sklearn-color-fitted-level-1) 1pt solid;\n",
       "  color: var(--sklearn-color-fitted-level-1);\n",
       "}\n",
       "\n",
       "/* On hover */\n",
       "div.sk-estimator:hover .sk-estimator-doc-link:hover,\n",
       ".sk-estimator-doc-link:hover,\n",
       "div.sk-label-container:hover .sk-estimator-doc-link:hover,\n",
       ".sk-estimator-doc-link:hover {\n",
       "  /* unfitted */\n",
       "  background-color: var(--sklearn-color-unfitted-level-3);\n",
       "  color: var(--sklearn-color-background);\n",
       "  text-decoration: none;\n",
       "}\n",
       "\n",
       "div.sk-estimator.fitted:hover .sk-estimator-doc-link.fitted:hover,\n",
       ".sk-estimator-doc-link.fitted:hover,\n",
       "div.sk-label-container:hover .sk-estimator-doc-link.fitted:hover,\n",
       ".sk-estimator-doc-link.fitted:hover {\n",
       "  /* fitted */\n",
       "  background-color: var(--sklearn-color-fitted-level-3);\n",
       "  color: var(--sklearn-color-background);\n",
       "  text-decoration: none;\n",
       "}\n",
       "\n",
       "/* Span, style for the box shown on hovering the info icon */\n",
       ".sk-estimator-doc-link span {\n",
       "  display: none;\n",
       "  z-index: 9999;\n",
       "  position: relative;\n",
       "  font-weight: normal;\n",
       "  right: .2ex;\n",
       "  padding: .5ex;\n",
       "  margin: .5ex;\n",
       "  width: min-content;\n",
       "  min-width: 20ex;\n",
       "  max-width: 50ex;\n",
       "  color: var(--sklearn-color-text);\n",
       "  box-shadow: 2pt 2pt 4pt #999;\n",
       "  /* unfitted */\n",
       "  background: var(--sklearn-color-unfitted-level-0);\n",
       "  border: .5pt solid var(--sklearn-color-unfitted-level-3);\n",
       "}\n",
       "\n",
       ".sk-estimator-doc-link.fitted span {\n",
       "  /* fitted */\n",
       "  background: var(--sklearn-color-fitted-level-0);\n",
       "  border: var(--sklearn-color-fitted-level-3);\n",
       "}\n",
       "\n",
       ".sk-estimator-doc-link:hover span {\n",
       "  display: block;\n",
       "}\n",
       "\n",
       "/* \"?\"-specific style due to the `<a>` HTML tag */\n",
       "\n",
       "#sk-container-id-1 a.estimator_doc_link {\n",
       "  float: right;\n",
       "  font-size: 1rem;\n",
       "  line-height: 1em;\n",
       "  font-family: monospace;\n",
       "  background-color: var(--sklearn-color-background);\n",
       "  border-radius: 1rem;\n",
       "  height: 1rem;\n",
       "  width: 1rem;\n",
       "  text-decoration: none;\n",
       "  /* unfitted */\n",
       "  color: var(--sklearn-color-unfitted-level-1);\n",
       "  border: var(--sklearn-color-unfitted-level-1) 1pt solid;\n",
       "}\n",
       "\n",
       "#sk-container-id-1 a.estimator_doc_link.fitted {\n",
       "  /* fitted */\n",
       "  border: var(--sklearn-color-fitted-level-1) 1pt solid;\n",
       "  color: var(--sklearn-color-fitted-level-1);\n",
       "}\n",
       "\n",
       "/* On hover */\n",
       "#sk-container-id-1 a.estimator_doc_link:hover {\n",
       "  /* unfitted */\n",
       "  background-color: var(--sklearn-color-unfitted-level-3);\n",
       "  color: var(--sklearn-color-background);\n",
       "  text-decoration: none;\n",
       "}\n",
       "\n",
       "#sk-container-id-1 a.estimator_doc_link.fitted:hover {\n",
       "  /* fitted */\n",
       "  background-color: var(--sklearn-color-fitted-level-3);\n",
       "}\n",
       "</style><div id=\"sk-container-id-1\" class=\"sk-top-container\"><div class=\"sk-text-repr-fallback\"><pre>RandomizedSearchCV(cv=5,\n",
       "                   estimator=Pipeline(steps=[(&#x27;preprocessor&#x27;,\n",
       "                                              ColumnTransformer(transformers=[(&#x27;num&#x27;,\n",
       "                                                                               Pipeline(steps=[(&#x27;scaler&#x27;,\n",
       "                                                                                                StandardScaler())]),\n",
       "                                                                               [&#x27;registration_year&#x27;,\n",
       "                                                                                &#x27;power&#x27;,\n",
       "                                                                                &#x27;mileage_km&#x27;,\n",
       "                                                                                &#x27;year_of_creation&#x27;]),\n",
       "                                                                              (&#x27;cat&#x27;,\n",
       "                                                                               Pipeline(steps=[(&#x27;onehot&#x27;,\n",
       "                                                                                                OneHotEncoder(drop=&#x27;first&#x27;,\n",
       "                                                                                                              handle_unknown=&#x27;ignore&#x27;))]),\n",
       "                                                                               [&#x27;vehicle_type&#x27;,\n",
       "                                                                                &#x27;gearbox&#x27;,\n",
       "                                                                                &#x27;model&#x27;,\n",
       "                                                                                &#x27;fuel_type&#x27;,\n",
       "                                                                                &#x27;brand&#x27;,\n",
       "                                                                                &#x27;not_repaired&#x27;])])),\n",
       "                                             (&#x27;regressor&#x27;,\n",
       "                                              Lasso(random_state=42))]),\n",
       "                   n_jobs=-1,\n",
       "                   param_distributions={&#x27;regressor__alpha&#x27;: [0.1, 1.0, 10.0]},\n",
       "                   scoring=&#x27;neg_mean_squared_error&#x27;)</pre><b>In a Jupyter environment, please rerun this cell to show the HTML representation or trust the notebook. <br />On GitHub, the HTML representation is unable to render, please try loading this page with nbviewer.org.</b></div><div class=\"sk-container\" hidden><div class=\"sk-item sk-dashed-wrapped\"><div class=\"sk-label-container\"><div class=\"sk-label fitted sk-toggleable\"><input class=\"sk-toggleable__control sk-hidden--visually\" id=\"sk-estimator-id-1\" type=\"checkbox\" ><label for=\"sk-estimator-id-1\" class=\"sk-toggleable__label fitted sk-toggleable__label-arrow\"><div><div>RandomizedSearchCV</div></div><div><a class=\"sk-estimator-doc-link fitted\" rel=\"noreferrer\" target=\"_blank\" href=\"https://scikit-learn.org/1.6/modules/generated/sklearn.model_selection.RandomizedSearchCV.html\">?<span>Documentation for RandomizedSearchCV</span></a><span class=\"sk-estimator-doc-link fitted\">i<span>Fitted</span></span></div></label><div class=\"sk-toggleable__content fitted\"><pre>RandomizedSearchCV(cv=5,\n",
       "                   estimator=Pipeline(steps=[(&#x27;preprocessor&#x27;,\n",
       "                                              ColumnTransformer(transformers=[(&#x27;num&#x27;,\n",
       "                                                                               Pipeline(steps=[(&#x27;scaler&#x27;,\n",
       "                                                                                                StandardScaler())]),\n",
       "                                                                               [&#x27;registration_year&#x27;,\n",
       "                                                                                &#x27;power&#x27;,\n",
       "                                                                                &#x27;mileage_km&#x27;,\n",
       "                                                                                &#x27;year_of_creation&#x27;]),\n",
       "                                                                              (&#x27;cat&#x27;,\n",
       "                                                                               Pipeline(steps=[(&#x27;onehot&#x27;,\n",
       "                                                                                                OneHotEncoder(drop=&#x27;first&#x27;,\n",
       "                                                                                                              handle_unknown=&#x27;ignore&#x27;))]),\n",
       "                                                                               [&#x27;vehicle_type&#x27;,\n",
       "                                                                                &#x27;gearbox&#x27;,\n",
       "                                                                                &#x27;model&#x27;,\n",
       "                                                                                &#x27;fuel_type&#x27;,\n",
       "                                                                                &#x27;brand&#x27;,\n",
       "                                                                                &#x27;not_repaired&#x27;])])),\n",
       "                                             (&#x27;regressor&#x27;,\n",
       "                                              Lasso(random_state=42))]),\n",
       "                   n_jobs=-1,\n",
       "                   param_distributions={&#x27;regressor__alpha&#x27;: [0.1, 1.0, 10.0]},\n",
       "                   scoring=&#x27;neg_mean_squared_error&#x27;)</pre></div> </div></div><div class=\"sk-parallel\"><div class=\"sk-parallel-item\"><div class=\"sk-item\"><div class=\"sk-label-container\"><div class=\"sk-label fitted sk-toggleable\"><input class=\"sk-toggleable__control sk-hidden--visually\" id=\"sk-estimator-id-2\" type=\"checkbox\" ><label for=\"sk-estimator-id-2\" class=\"sk-toggleable__label fitted sk-toggleable__label-arrow\"><div><div>best_estimator_: Pipeline</div></div></label><div class=\"sk-toggleable__content fitted\"><pre>Pipeline(steps=[(&#x27;preprocessor&#x27;,\n",
       "                 ColumnTransformer(transformers=[(&#x27;num&#x27;,\n",
       "                                                  Pipeline(steps=[(&#x27;scaler&#x27;,\n",
       "                                                                   StandardScaler())]),\n",
       "                                                  [&#x27;registration_year&#x27;, &#x27;power&#x27;,\n",
       "                                                   &#x27;mileage_km&#x27;,\n",
       "                                                   &#x27;year_of_creation&#x27;]),\n",
       "                                                 (&#x27;cat&#x27;,\n",
       "                                                  Pipeline(steps=[(&#x27;onehot&#x27;,\n",
       "                                                                   OneHotEncoder(drop=&#x27;first&#x27;,\n",
       "                                                                                 handle_unknown=&#x27;ignore&#x27;))]),\n",
       "                                                  [&#x27;vehicle_type&#x27;, &#x27;gearbox&#x27;,\n",
       "                                                   &#x27;model&#x27;, &#x27;fuel_type&#x27;,\n",
       "                                                   &#x27;brand&#x27;,\n",
       "                                                   &#x27;not_repaired&#x27;])])),\n",
       "                (&#x27;regressor&#x27;, Lasso(alpha=0.1, random_state=42))])</pre></div> </div></div><div class=\"sk-serial\"><div class=\"sk-item\"><div class=\"sk-serial\"><div class=\"sk-item sk-dashed-wrapped\"><div class=\"sk-label-container\"><div class=\"sk-label fitted sk-toggleable\"><input class=\"sk-toggleable__control sk-hidden--visually\" id=\"sk-estimator-id-3\" type=\"checkbox\" ><label for=\"sk-estimator-id-3\" class=\"sk-toggleable__label fitted sk-toggleable__label-arrow\"><div><div>preprocessor: ColumnTransformer</div></div><div><a class=\"sk-estimator-doc-link fitted\" rel=\"noreferrer\" target=\"_blank\" href=\"https://scikit-learn.org/1.6/modules/generated/sklearn.compose.ColumnTransformer.html\">?<span>Documentation for preprocessor: ColumnTransformer</span></a></div></label><div class=\"sk-toggleable__content fitted\"><pre>ColumnTransformer(transformers=[(&#x27;num&#x27;,\n",
       "                                 Pipeline(steps=[(&#x27;scaler&#x27;, StandardScaler())]),\n",
       "                                 [&#x27;registration_year&#x27;, &#x27;power&#x27;, &#x27;mileage_km&#x27;,\n",
       "                                  &#x27;year_of_creation&#x27;]),\n",
       "                                (&#x27;cat&#x27;,\n",
       "                                 Pipeline(steps=[(&#x27;onehot&#x27;,\n",
       "                                                  OneHotEncoder(drop=&#x27;first&#x27;,\n",
       "                                                                handle_unknown=&#x27;ignore&#x27;))]),\n",
       "                                 [&#x27;vehicle_type&#x27;, &#x27;gearbox&#x27;, &#x27;model&#x27;,\n",
       "                                  &#x27;fuel_type&#x27;, &#x27;brand&#x27;, &#x27;not_repaired&#x27;])])</pre></div> </div></div><div class=\"sk-parallel\"><div class=\"sk-parallel-item\"><div class=\"sk-item\"><div class=\"sk-label-container\"><div class=\"sk-label fitted sk-toggleable\"><input class=\"sk-toggleable__control sk-hidden--visually\" id=\"sk-estimator-id-4\" type=\"checkbox\" ><label for=\"sk-estimator-id-4\" class=\"sk-toggleable__label fitted sk-toggleable__label-arrow\"><div><div>num</div></div></label><div class=\"sk-toggleable__content fitted\"><pre>[&#x27;registration_year&#x27;, &#x27;power&#x27;, &#x27;mileage_km&#x27;, &#x27;year_of_creation&#x27;]</pre></div> </div></div><div class=\"sk-serial\"><div class=\"sk-item\"><div class=\"sk-serial\"><div class=\"sk-item\"><div class=\"sk-estimator fitted sk-toggleable\"><input class=\"sk-toggleable__control sk-hidden--visually\" id=\"sk-estimator-id-5\" type=\"checkbox\" ><label for=\"sk-estimator-id-5\" class=\"sk-toggleable__label fitted sk-toggleable__label-arrow\"><div><div>StandardScaler</div></div><div><a class=\"sk-estimator-doc-link fitted\" rel=\"noreferrer\" target=\"_blank\" href=\"https://scikit-learn.org/1.6/modules/generated/sklearn.preprocessing.StandardScaler.html\">?<span>Documentation for StandardScaler</span></a></div></label><div class=\"sk-toggleable__content fitted\"><pre>StandardScaler()</pre></div> </div></div></div></div></div></div></div><div class=\"sk-parallel-item\"><div class=\"sk-item\"><div class=\"sk-label-container\"><div class=\"sk-label fitted sk-toggleable\"><input class=\"sk-toggleable__control sk-hidden--visually\" id=\"sk-estimator-id-6\" type=\"checkbox\" ><label for=\"sk-estimator-id-6\" class=\"sk-toggleable__label fitted sk-toggleable__label-arrow\"><div><div>cat</div></div></label><div class=\"sk-toggleable__content fitted\"><pre>[&#x27;vehicle_type&#x27;, &#x27;gearbox&#x27;, &#x27;model&#x27;, &#x27;fuel_type&#x27;, &#x27;brand&#x27;, &#x27;not_repaired&#x27;]</pre></div> </div></div><div class=\"sk-serial\"><div class=\"sk-item\"><div class=\"sk-serial\"><div class=\"sk-item\"><div class=\"sk-estimator fitted sk-toggleable\"><input class=\"sk-toggleable__control sk-hidden--visually\" id=\"sk-estimator-id-7\" type=\"checkbox\" ><label for=\"sk-estimator-id-7\" class=\"sk-toggleable__label fitted sk-toggleable__label-arrow\"><div><div>OneHotEncoder</div></div><div><a class=\"sk-estimator-doc-link fitted\" rel=\"noreferrer\" target=\"_blank\" href=\"https://scikit-learn.org/1.6/modules/generated/sklearn.preprocessing.OneHotEncoder.html\">?<span>Documentation for OneHotEncoder</span></a></div></label><div class=\"sk-toggleable__content fitted\"><pre>OneHotEncoder(drop=&#x27;first&#x27;, handle_unknown=&#x27;ignore&#x27;)</pre></div> </div></div></div></div></div></div></div></div></div><div class=\"sk-item\"><div class=\"sk-estimator fitted sk-toggleable\"><input class=\"sk-toggleable__control sk-hidden--visually\" id=\"sk-estimator-id-8\" type=\"checkbox\" ><label for=\"sk-estimator-id-8\" class=\"sk-toggleable__label fitted sk-toggleable__label-arrow\"><div><div>Lasso</div></div><div><a class=\"sk-estimator-doc-link fitted\" rel=\"noreferrer\" target=\"_blank\" href=\"https://scikit-learn.org/1.6/modules/generated/sklearn.linear_model.Lasso.html\">?<span>Documentation for Lasso</span></a></div></label><div class=\"sk-toggleable__content fitted\"><pre>Lasso(alpha=0.1, random_state=42)</pre></div> </div></div></div></div></div></div></div></div></div></div></div>"
      ],
      "text/plain": [
       "RandomizedSearchCV(cv=5,\n",
       "                   estimator=Pipeline(steps=[('preprocessor',\n",
       "                                              ColumnTransformer(transformers=[('num',\n",
       "                                                                               Pipeline(steps=[('scaler',\n",
       "                                                                                                StandardScaler())]),\n",
       "                                                                               ['registration_year',\n",
       "                                                                                'power',\n",
       "                                                                                'mileage_km',\n",
       "                                                                                'year_of_creation']),\n",
       "                                                                              ('cat',\n",
       "                                                                               Pipeline(steps=[('onehot',\n",
       "                                                                                                OneHotEncoder(drop='first',\n",
       "                                                                                                              handle_unknown='ignore'))]),\n",
       "                                                                               ['vehicle_type',\n",
       "                                                                                'gearbox',\n",
       "                                                                                'model',\n",
       "                                                                                'fuel_type',\n",
       "                                                                                'brand',\n",
       "                                                                                'not_repaired'])])),\n",
       "                                             ('regressor',\n",
       "                                              Lasso(random_state=42))]),\n",
       "                   n_jobs=-1,\n",
       "                   param_distributions={'regressor__alpha': [0.1, 1.0, 10.0]},\n",
       "                   scoring='neg_mean_squared_error')"
      ]
     },
     "execution_count": 63,
     "metadata": {},
     "output_type": "execute_result"
    }
   ],
   "source": [
    "ridge_search = RandomizedSearchCV(ridge_pipeline, ridge_param_distributions,\n",
    "                                  n_iter=10, cv=5, scoring='neg_mean_squared_error', n_jobs=-1)\n",
    "ridge_search.fit(X_train, y_train)\n",
    "\n",
    "lasso_search = RandomizedSearchCV(lasso_pipeline, lasso_param_distributions,\n",
    "                                  n_iter=10, cv=5, scoring='neg_mean_squared_error', n_jobs=-1)\n",
    "lasso_search.fit(X_train, y_train)"
   ]
  },
  {
   "cell_type": "markdown",
   "metadata": {},
   "source": [
    "**Вывод лучших параметров и оценок RMSE**"
   ]
  },
  {
   "cell_type": "code",
   "execution_count": 64,
   "metadata": {
    "scrolled": true
   },
   "outputs": [
    {
     "name": "stdout",
     "output_type": "stream",
     "text": [
      "Лучшие параметры Ridge: {'regressor__alpha': 0.1}\n",
      "Лучший RMSE Ridge на кросс-валидации: 2653.63\n",
      "Лучшие параметры Lasso: {'regressor__alpha': 0.1}\n",
      "Лучший RMSE Lasso на кросс-валидации: 2655.07\n"
     ]
    }
   ],
   "source": [
    "print(\"Лучшие параметры Ridge:\", ridge_search.best_params_)\n",
    "print(\"Лучший RMSE Ridge на кросс-валидации: {:.2f}\".format(np.sqrt(-ridge_search.best_score_)))\n",
    "\n",
    "print(\"Лучшие параметры Lasso:\", lasso_search.best_params_)\n",
    "print(\"Лучший RMSE Lasso на кросс-валидации: {:.2f}\".format(np.sqrt(-lasso_search.best_score_)))\n"
   ]
  },
  {
   "cell_type": "markdown",
   "metadata": {},
   "source": [
    "**Вывод:**\n",
    "На основании проведенного анализа моделей `Ridge` и `Lasso` для определения рыночной стоимости автомобилей, можно сделать следующий вывод:\n",
    "- Лучший RMSE для модели `Ridge` составил 2653.63, а для модели `Lasso` — 2655.07. Оба значения превышают установленный порог в 2500, что указывает на недостаточную точность предсказаний этих моделей для данной задачи."
   ]
  },
  {
   "cell_type": "markdown",
   "metadata": {},
   "source": [
    "### Обучение моделей градиентного бустинга  и модели решающие деревья"
   ]
  },
  {
   "cell_type": "markdown",
   "metadata": {},
   "source": [
    "**Определение категориальных и числовых признаков**"
   ]
  },
  {
   "cell_type": "code",
   "execution_count": 65,
   "metadata": {},
   "outputs": [],
   "source": [
    "categorical_features = X.select_dtypes(include=['object']).columns.tolist()\n",
    "numerical_features = X.select_dtypes(exclude=['object']).columns.tolist()\n",
    "\n",
    "results = []"
   ]
  },
  {
   "cell_type": "markdown",
   "metadata": {},
   "source": [
    "**Функция для оценки древесных моделей с использованием Pipeline и ColumnTransformer**"
   ]
  },
  {
   "cell_type": "code",
   "execution_count": 66,
   "metadata": {},
   "outputs": [],
   "source": [
    "def evaluate_tree_model(model_class, param_grid, X_train, y_train, categorical_features, numerical_features, unknown_value=-1):\n",
    "    # Преобразование категориальных столбцов в тип category\n",
    "    for col in categorical_features:\n",
    "        X_train[col] = X_train[col].astype('category')\n",
    "\n",
    "    preprocessor = ColumnTransformer(\n",
    "        transformers=[\n",
    "            ('cat', OrdinalEncoder(handle_unknown='use_encoded_value', unknown_value=unknown_value), categorical_features),\n",
    "            ('num', 'passthrough', numerical_features)\n",
    "        ]\n",
    "    )\n",
    "    \n",
    "    pipeline = Pipeline(steps=[\n",
    "        ('preprocessor', preprocessor),\n",
    "        ('model', model_class())\n",
    "    ])\n",
    "    \n",
    "    param_grid_with_prefix = {f'model__{key}': value for key, value in param_grid.items()}\n",
    "    \n",
    "    # Замер времени поиска лучшей модели\n",
    "    start_time = timer()\n",
    "    gs = GridSearchCV(pipeline, param_grid_with_prefix, cv=5, scoring='neg_mean_squared_error', n_jobs=-1)\n",
    "    gs.fit(X_train, y_train)\n",
    "    search_time = timer() - start_time\n",
    "    \n",
    "    best_rmse = np.sqrt(-gs.best_score_)\n",
    "    best_params = gs.best_params_\n",
    "    \n",
    "    # Обучаем лучшую модель на всех данных\n",
    "    best_model = gs.best_estimator_\n",
    "    \n",
    "    start_training_time = timer()\n",
    "    best_model.fit(X_train, y_train)\n",
    "    training_time = timer() - start_training_time\n",
    "    \n",
    "    # Оценка времени предсказания\n",
    "    start_time_predict = timer()\n",
    "    _ = best_model.predict(X_train)\n",
    "    prediction_time = timer() - start_time_predict\n",
    "    \n",
    "    return best_rmse, best_params, best_model, training_time, prediction_time"
   ]
  },
  {
   "cell_type": "markdown",
   "metadata": {},
   "source": [
    "**Функция для оценки бустинговых моделей без Pipeline**"
   ]
  },
  {
   "cell_type": "code",
   "execution_count": 67,
   "metadata": {},
   "outputs": [],
   "source": [
    "def evaluate_boosting_model(model_class, param_grid, X_train, y_train, categorical_features=None,\n",
    "                            numerical_features=None, unknown_value=-1):\n",
    "    # Преобразование категориальных столбцов в тип category для моделей, поддерживающих категориальные данные\n",
    "    if categorical_features:\n",
    "        for col in categorical_features:\n",
    "            X_train[col] = X_train[col].astype('category')\n",
    "\n",
    "    # Создание модели\n",
    "    if model_class == CatBoostRegressor:\n",
    "        model = model_class(cat_features=categorical_features, random_state=42, verbose=0)\n",
    "    else:\n",
    "        model = model_class(random_state=42)\n",
    "\n",
    "    # Замер времени поиска лучшей модели\n",
    "    start_time = timer()\n",
    "    gs = GridSearchCV(model, param_grid, cv=5, scoring='neg_mean_squared_error', n_jobs=-1)\n",
    "    \n",
    "    try:\n",
    "        gs.fit(X_train, y_train)\n",
    "    except Exception as e:\n",
    "        print(f\"Ошибка при обучении модели {model_class.__name__}: {e}\")\n",
    "        return None\n",
    "    \n",
    "    search_time = timer() - start_time\n",
    "    \n",
    "    # Получение лучшего результата\n",
    "    best_rmse = np.sqrt(-gs.best_score_)\n",
    "    best_params = gs.best_params_\n",
    "    \n",
    "    # Обучаем лучшую модель на всех данных и замеряем время обучения\n",
    "    best_model = gs.best_estimator_\n",
    "    \n",
    "    start_training_time = timer()\n",
    "    best_model.fit(X_train, y_train)\n",
    "    training_time = timer() - start_training_time\n",
    "    \n",
    "    # Оценка времени предсказания\n",
    "    start_time_predict = timer()\n",
    "    _ = best_model.predict(X_train)\n",
    "    prediction_time = timer() - start_time_predict\n",
    "    \n",
    "    return best_rmse, best_params, best_model, training_time, prediction_time"
   ]
  },
  {
   "cell_type": "markdown",
   "metadata": {},
   "source": [
    "**Определение моделей и их параметров для настройки**"
   ]
  },
  {
   "cell_type": "code",
   "execution_count": 68,
   "metadata": {},
   "outputs": [],
   "source": [
    "models_params = {\n",
    "    'Random Forest': (RandomForestRegressor, {\n",
    "        'n_estimators': [100, 200],\n",
    "        'max_depth': [3, 6]\n",
    "    }),\n",
    "        'CatBoost': (CatBoostRegressor, {\n",
    "        'iterations': [100, 200],\n",
    "        'depth': [3, 5]\n",
    "    }),\n",
    "    'LightGBM': (LGBMRegressor, {\n",
    "        'n_estimators': [100, 200],\n",
    "        'max_depth': [3, 5],\n",
    "        'learning_rate': [0.01, 0.1]\n",
    "    }),\n",
    "}"
   ]
  },
  {
   "cell_type": "markdown",
   "metadata": {},
   "source": [
    "**Оценка моделей**"
   ]
  },
  {
   "cell_type": "code",
   "execution_count": 69,
   "metadata": {},
   "outputs": [
    {
     "data": {
      "text/html": [
       "<div>\n",
       "<style scoped>\n",
       "    .dataframe tbody tr th:only-of-type {\n",
       "        vertical-align: middle;\n",
       "    }\n",
       "\n",
       "    .dataframe tbody tr th {\n",
       "        vertical-align: top;\n",
       "    }\n",
       "\n",
       "    .dataframe thead th {\n",
       "        text-align: right;\n",
       "    }\n",
       "</style>\n",
       "<table border=\"1\" class=\"dataframe\">\n",
       "  <thead>\n",
       "    <tr style=\"text-align: right;\">\n",
       "      <th></th>\n",
       "      <th>Модель</th>\n",
       "      <th>Лучший RMSE</th>\n",
       "      <th>Лучшие параметры</th>\n",
       "      <th>Время обучения (сек)</th>\n",
       "      <th>Время предсказания (сек)</th>\n",
       "    </tr>\n",
       "  </thead>\n",
       "  <tbody>\n",
       "    <tr>\n",
       "      <th>0</th>\n",
       "      <td>Random Forest</td>\n",
       "      <td>2,266.33</td>\n",
       "      <td>{'model__max_depth': 6, 'model__n_estimators': 100}</td>\n",
       "      <td>24.12</td>\n",
       "      <td>1.35</td>\n",
       "    </tr>\n",
       "    <tr>\n",
       "      <th>1</th>\n",
       "      <td>CatBoost</td>\n",
       "      <td>1,685.62</td>\n",
       "      <td>{'depth': 5, 'iterations': 200}</td>\n",
       "      <td>37.36</td>\n",
       "      <td>0.48</td>\n",
       "    </tr>\n",
       "    <tr>\n",
       "      <th>2</th>\n",
       "      <td>LightGBM</td>\n",
       "      <td>1,704.17</td>\n",
       "      <td>{'model__learning_rate': 0.1, 'model__max_depth': 5, 'model__n_estimators': 200}</td>\n",
       "      <td>7.41</td>\n",
       "      <td>3.41</td>\n",
       "    </tr>\n",
       "  </tbody>\n",
       "</table>\n",
       "</div>"
      ],
      "text/plain": [
       "          Модель  Лучший RMSE  \\\n",
       "0  Random Forest     2,266.33   \n",
       "1       CatBoost     1,685.62   \n",
       "2       LightGBM     1,704.17   \n",
       "\n",
       "                                                                   Лучшие параметры  \\\n",
       "0                               {'model__max_depth': 6, 'model__n_estimators': 100}   \n",
       "1                                                   {'depth': 5, 'iterations': 200}   \n",
       "2  {'model__learning_rate': 0.1, 'model__max_depth': 5, 'model__n_estimators': 200}   \n",
       "\n",
       "   Время обучения (сек)  Время предсказания (сек)  \n",
       "0                 24.12                      1.35  \n",
       "1                 37.36                      0.48  \n",
       "2                  7.41                      3.41  "
      ]
     },
     "metadata": {},
     "output_type": "display_data"
    }
   ],
   "source": [
    "results = []\n",
    "\n",
    "for model_name, (model_class, param_grid) in models_params.items():\n",
    "    if model_name in ['Random Forest', 'LightGBM']:\n",
    "        best_rmse, best_params, best_estimator, training_time, prediction_time = evaluate_tree_model(\n",
    "            model_class,\n",
    "            param_grid,\n",
    "            X_train,\n",
    "            y_train,\n",
    "            categorical_features,\n",
    "            numerical_features)\n",
    "    else:\n",
    "        result = evaluate_boosting_model(\n",
    "            model_class,\n",
    "            param_grid,\n",
    "            X_train,\n",
    "            y_train,\n",
    "            categorical_features,\n",
    "            numerical_features)\n",
    "        \n",
    "        # Проверка на None\n",
    "        if result is None:\n",
    "            print(f\"Ошибка при оценке модели {model_name}. Пропускаем.\")\n",
    "            continue\n",
    "        \n",
    "        best_rmse, best_params, best_estimator, training_time, prediction_time = result\n",
    "    \n",
    "    results.append({\n",
    "        'Модель': model_name,\n",
    "        'Лучший RMSE': best_rmse,\n",
    "        'Лучшие параметры': best_params,\n",
    "        'Время обучения (сек)': training_time,\n",
    "        'Время предсказания (сек)': prediction_time\n",
    "    })\n",
    "\n",
    "# Сбор результатов в DataFrame\n",
    "results_df = pd.DataFrame(results)\n",
    "\n",
    "# Используем display для вывода DataFrame\n",
    "from IPython.display import display\n",
    "\n",
    "display(results_df)"
   ]
  },
  {
   "cell_type": "code",
   "execution_count": 70,
   "metadata": {},
   "outputs": [
    {
     "data": {
      "text/html": [
       "<div>\n",
       "<style scoped>\n",
       "    .dataframe tbody tr th:only-of-type {\n",
       "        vertical-align: middle;\n",
       "    }\n",
       "\n",
       "    .dataframe tbody tr th {\n",
       "        vertical-align: top;\n",
       "    }\n",
       "\n",
       "    .dataframe thead th {\n",
       "        text-align: right;\n",
       "    }\n",
       "</style>\n",
       "<table border=\"1\" class=\"dataframe\">\n",
       "  <thead>\n",
       "    <tr style=\"text-align: right;\">\n",
       "      <th></th>\n",
       "      <th>Модель</th>\n",
       "      <th>Лучший RMSE</th>\n",
       "      <th>Лучшие параметры</th>\n",
       "      <th>Время обучения (сек)</th>\n",
       "      <th>Время предсказания (сек)</th>\n",
       "    </tr>\n",
       "  </thead>\n",
       "  <tbody>\n",
       "    <tr>\n",
       "      <th>0</th>\n",
       "      <td>CatBoost</td>\n",
       "      <td>1,685.62</td>\n",
       "      <td>{'depth': 5, 'iterations': 200}</td>\n",
       "      <td>37.36</td>\n",
       "      <td>0.48</td>\n",
       "    </tr>\n",
       "    <tr>\n",
       "      <th>1</th>\n",
       "      <td>LightGBM</td>\n",
       "      <td>1,704.17</td>\n",
       "      <td>{'model__learning_rate': 0.1, 'model__max_depth': 5, 'model__n_estimators': 200}</td>\n",
       "      <td>7.41</td>\n",
       "      <td>3.41</td>\n",
       "    </tr>\n",
       "    <tr>\n",
       "      <th>2</th>\n",
       "      <td>Random Forest</td>\n",
       "      <td>2,266.33</td>\n",
       "      <td>{'model__max_depth': 6, 'model__n_estimators': 100}</td>\n",
       "      <td>24.12</td>\n",
       "      <td>1.35</td>\n",
       "    </tr>\n",
       "  </tbody>\n",
       "</table>\n",
       "</div>"
      ],
      "text/plain": [
       "          Модель  Лучший RMSE  \\\n",
       "0       CatBoost     1,685.62   \n",
       "1       LightGBM     1,704.17   \n",
       "2  Random Forest     2,266.33   \n",
       "\n",
       "                                                                   Лучшие параметры  \\\n",
       "0                                                   {'depth': 5, 'iterations': 200}   \n",
       "1  {'model__learning_rate': 0.1, 'model__max_depth': 5, 'model__n_estimators': 200}   \n",
       "2                               {'model__max_depth': 6, 'model__n_estimators': 100}   \n",
       "\n",
       "   Время обучения (сек)  Время предсказания (сек)  \n",
       "0                 37.36                      0.48  \n",
       "1                  7.41                      3.41  \n",
       "2                 24.12                      1.35  "
      ]
     },
     "execution_count": 70,
     "metadata": {},
     "output_type": "execute_result"
    }
   ],
   "source": [
    "aggregated_results = results_df.groupby('Модель').agg({\n",
    "    'Лучший RMSE': 'min',\n",
    "    'Лучшие параметры': 'first',\n",
    "    'Время обучения (сек)': 'min',\n",
    "    'Время предсказания (сек)': 'min'\n",
    "}).reset_index()\n",
    "\n",
    "aggregated_results"
   ]
  },
  {
   "cell_type": "markdown",
   "metadata": {},
   "source": [
    "## Оценка и сравнение моделей"
   ]
  },
  {
   "cell_type": "markdown",
   "metadata": {},
   "source": [
    "**Определяем веса для каждого критерия**"
   ]
  },
  {
   "cell_type": "code",
   "execution_count": 71,
   "metadata": {},
   "outputs": [],
   "source": [
    "weight_rmse = 0.5\n",
    "weight_training_time = 0.25\n",
    "weight_prediction_time = 0.25"
   ]
  },
  {
   "cell_type": "markdown",
   "metadata": {},
   "source": [
    "**Создаем новый столбец для оценки модели**"
   ]
  },
  {
   "cell_type": "code",
   "execution_count": 72,
   "metadata": {},
   "outputs": [],
   "source": [
    "results_df['Score'] = (\n",
    "    weight_rmse * results_df['Лучший RMSE'] +\n",
    "    weight_training_time * results_df['Время обучения (сек)'] +\n",
    "    weight_prediction_time * results_df['Время предсказания (сек)']\n",
    ")"
   ]
  },
  {
   "cell_type": "markdown",
   "metadata": {},
   "source": [
    "**Находим индекс модели с наименьшим значением 'Score'**"
   ]
  },
  {
   "cell_type": "code",
   "execution_count": 73,
   "metadata": {},
   "outputs": [],
   "source": [
    "best_model_index = results_df['Score'].idxmin()"
   ]
  },
  {
   "cell_type": "markdown",
   "metadata": {},
   "source": [
    "## Выбор и валидация лучшей модели"
   ]
  },
  {
   "cell_type": "markdown",
   "metadata": {},
   "source": [
    "**Выбор лучшей модели для финальной оценки на тестовой выборке**"
   ]
  },
  {
   "cell_type": "code",
   "execution_count": 74,
   "metadata": {},
   "outputs": [
    {
     "name": "stdout",
     "output_type": "stream",
     "text": [
      "Лучшая модель: CatBoost с параметрами: {'depth': 5, 'iterations': 200}\n"
     ]
    }
   ],
   "source": [
    "best_model_info = results_df.loc[best_model_index]\n",
    "best_model_name = best_model_info['Модель']\n",
    "best_model_params = best_model_info['Лучшие параметры']\n",
    "\n",
    "print(f\"Лучшая модель: {best_model_name} с параметрами: {best_model_params}\")"
   ]
  },
  {
   "cell_type": "markdown",
   "metadata": {},
   "source": [
    "**Обучение и оценка на тестовой выборке для лучшей модели:**"
   ]
  },
  {
   "cell_type": "code",
   "execution_count": 75,
   "metadata": {},
   "outputs": [
    {
     "name": "stdout",
     "output_type": "stream",
     "text": [
      "Learning rate set to 0.360047\n",
      "0:\tlearn: 3599.8985847\ttotal: 278ms\tremaining: 55.3s\n",
      "1:\tlearn: 3048.8998050\ttotal: 501ms\tremaining: 49.6s\n",
      "2:\tlearn: 2722.7760744\ttotal: 741ms\tremaining: 48.6s\n",
      "3:\tlearn: 2479.8106892\ttotal: 939ms\tremaining: 46s\n",
      "4:\tlearn: 2334.8306893\ttotal: 1.18s\tremaining: 45.9s\n",
      "5:\tlearn: 2224.1738721\ttotal: 1.39s\tremaining: 45s\n",
      "6:\tlearn: 2163.1730433\ttotal: 1.58s\tremaining: 43.6s\n",
      "7:\tlearn: 2104.7180630\ttotal: 1.76s\tremaining: 42.2s\n",
      "8:\tlearn: 2070.5321380\ttotal: 1.94s\tremaining: 41.3s\n",
      "9:\tlearn: 2043.7769681\ttotal: 2.08s\tremaining: 39.6s\n",
      "10:\tlearn: 2023.8016561\ttotal: 2.23s\tremaining: 38.3s\n",
      "11:\tlearn: 2005.1488591\ttotal: 2.41s\tremaining: 37.7s\n",
      "12:\tlearn: 1982.5750107\ttotal: 2.63s\tremaining: 37.9s\n",
      "13:\tlearn: 1971.2462723\ttotal: 2.81s\tremaining: 37.3s\n",
      "14:\tlearn: 1952.8184341\ttotal: 3.03s\tremaining: 37.4s\n",
      "15:\tlearn: 1944.2713306\ttotal: 3.23s\tremaining: 37.1s\n",
      "16:\tlearn: 1935.8141495\ttotal: 3.46s\tremaining: 37.2s\n",
      "17:\tlearn: 1923.4345786\ttotal: 3.62s\tremaining: 36.6s\n",
      "18:\tlearn: 1917.3368714\ttotal: 3.8s\tremaining: 36.2s\n",
      "19:\tlearn: 1906.9583383\ttotal: 4.06s\tremaining: 36.5s\n",
      "20:\tlearn: 1901.0703724\ttotal: 4.24s\tremaining: 36.1s\n",
      "21:\tlearn: 1894.3729626\ttotal: 4.45s\tremaining: 36s\n",
      "22:\tlearn: 1888.4167133\ttotal: 4.59s\tremaining: 35.3s\n",
      "23:\tlearn: 1885.6479055\ttotal: 4.79s\tremaining: 35.1s\n",
      "24:\tlearn: 1881.3980364\ttotal: 4.94s\tremaining: 34.6s\n",
      "25:\tlearn: 1870.6353412\ttotal: 5.11s\tremaining: 34.2s\n",
      "26:\tlearn: 1865.7734738\ttotal: 5.25s\tremaining: 33.6s\n",
      "27:\tlearn: 1860.8332625\ttotal: 5.41s\tremaining: 33.2s\n",
      "28:\tlearn: 1856.6668020\ttotal: 5.57s\tremaining: 32.9s\n",
      "29:\tlearn: 1849.9418093\ttotal: 5.78s\tremaining: 32.7s\n",
      "30:\tlearn: 1846.3685823\ttotal: 6s\tremaining: 32.7s\n",
      "31:\tlearn: 1843.4207039\ttotal: 6.1s\tremaining: 32s\n",
      "32:\tlearn: 1840.3563653\ttotal: 6.27s\tremaining: 31.7s\n",
      "33:\tlearn: 1836.0699891\ttotal: 6.47s\tremaining: 31.6s\n",
      "34:\tlearn: 1833.5854250\ttotal: 6.63s\tremaining: 31.2s\n",
      "35:\tlearn: 1830.7718867\ttotal: 6.78s\tremaining: 30.9s\n",
      "36:\tlearn: 1826.7084445\ttotal: 6.97s\tremaining: 30.7s\n",
      "37:\tlearn: 1823.5747595\ttotal: 7.18s\tremaining: 30.6s\n",
      "38:\tlearn: 1818.9113069\ttotal: 7.32s\tremaining: 30.2s\n",
      "39:\tlearn: 1816.5638424\ttotal: 7.5s\tremaining: 30s\n",
      "40:\tlearn: 1813.5275530\ttotal: 7.68s\tremaining: 29.8s\n",
      "41:\tlearn: 1811.0528529\ttotal: 7.87s\tremaining: 29.6s\n",
      "42:\tlearn: 1807.2815090\ttotal: 8.01s\tremaining: 29.2s\n",
      "43:\tlearn: 1803.8422778\ttotal: 8.18s\tremaining: 29s\n",
      "44:\tlearn: 1801.4231075\ttotal: 8.34s\tremaining: 28.7s\n",
      "45:\tlearn: 1798.8315533\ttotal: 8.52s\tremaining: 28.5s\n",
      "46:\tlearn: 1795.3352968\ttotal: 8.71s\tremaining: 28.4s\n",
      "47:\tlearn: 1792.8762506\ttotal: 8.93s\tremaining: 28.3s\n",
      "48:\tlearn: 1790.5247575\ttotal: 9.11s\tremaining: 28.1s\n",
      "49:\tlearn: 1788.1566719\ttotal: 9.29s\tremaining: 27.9s\n",
      "50:\tlearn: 1786.4154979\ttotal: 9.46s\tremaining: 27.6s\n",
      "51:\tlearn: 1785.1467433\ttotal: 9.63s\tremaining: 27.4s\n",
      "52:\tlearn: 1782.7101858\ttotal: 9.79s\tremaining: 27.2s\n",
      "53:\tlearn: 1779.1599958\ttotal: 9.99s\tremaining: 27s\n",
      "54:\tlearn: 1778.1869297\ttotal: 10.2s\tremaining: 26.8s\n",
      "55:\tlearn: 1775.2103646\ttotal: 10.4s\tremaining: 26.7s\n",
      "56:\tlearn: 1773.4087883\ttotal: 10.6s\tremaining: 26.6s\n",
      "57:\tlearn: 1770.9325128\ttotal: 10.8s\tremaining: 26.5s\n",
      "58:\tlearn: 1767.4218045\ttotal: 11.1s\tremaining: 26.4s\n",
      "59:\tlearn: 1765.8484763\ttotal: 11.2s\tremaining: 26.2s\n",
      "60:\tlearn: 1764.5464525\ttotal: 11.4s\tremaining: 26s\n",
      "61:\tlearn: 1762.9465890\ttotal: 11.6s\tremaining: 25.7s\n",
      "62:\tlearn: 1761.4814498\ttotal: 11.8s\tremaining: 25.6s\n",
      "63:\tlearn: 1760.2212485\ttotal: 11.9s\tremaining: 25.4s\n",
      "64:\tlearn: 1759.2832720\ttotal: 12.1s\tremaining: 25.2s\n",
      "65:\tlearn: 1757.7203439\ttotal: 12.3s\tremaining: 25s\n",
      "66:\tlearn: 1755.7283113\ttotal: 12.6s\tremaining: 24.9s\n",
      "67:\tlearn: 1753.9264090\ttotal: 12.7s\tremaining: 24.7s\n",
      "68:\tlearn: 1752.2076222\ttotal: 13s\tremaining: 24.6s\n",
      "69:\tlearn: 1751.5578728\ttotal: 13.1s\tremaining: 24.3s\n",
      "70:\tlearn: 1750.0540756\ttotal: 13.3s\tremaining: 24.2s\n",
      "71:\tlearn: 1749.3948315\ttotal: 13.5s\tremaining: 24s\n",
      "72:\tlearn: 1747.9594646\ttotal: 13.7s\tremaining: 23.8s\n",
      "73:\tlearn: 1746.0965416\ttotal: 13.8s\tremaining: 23.6s\n",
      "74:\tlearn: 1744.0810939\ttotal: 13.9s\tremaining: 23.2s\n",
      "75:\tlearn: 1742.5181405\ttotal: 14.1s\tremaining: 23s\n",
      "76:\tlearn: 1740.7193271\ttotal: 14.3s\tremaining: 22.8s\n",
      "77:\tlearn: 1739.9995237\ttotal: 14.4s\tremaining: 22.6s\n",
      "78:\tlearn: 1738.7448978\ttotal: 14.6s\tremaining: 22.4s\n",
      "79:\tlearn: 1738.4330028\ttotal: 14.7s\tremaining: 22.1s\n",
      "80:\tlearn: 1737.5926539\ttotal: 14.9s\tremaining: 21.9s\n",
      "81:\tlearn: 1736.4880756\ttotal: 15.1s\tremaining: 21.7s\n",
      "82:\tlearn: 1735.3933035\ttotal: 15.3s\tremaining: 21.5s\n",
      "83:\tlearn: 1734.4728850\ttotal: 15.4s\tremaining: 21.3s\n",
      "84:\tlearn: 1732.2278320\ttotal: 15.6s\tremaining: 21.2s\n",
      "85:\tlearn: 1731.4381507\ttotal: 15.9s\tremaining: 21s\n",
      "86:\tlearn: 1730.1643079\ttotal: 16s\tremaining: 20.8s\n",
      "87:\tlearn: 1728.4112183\ttotal: 16.2s\tremaining: 20.7s\n",
      "88:\tlearn: 1727.3256009\ttotal: 16.4s\tremaining: 20.5s\n",
      "89:\tlearn: 1727.1006045\ttotal: 16.6s\tremaining: 20.2s\n",
      "90:\tlearn: 1726.2556315\ttotal: 16.7s\tremaining: 20s\n",
      "91:\tlearn: 1724.9651097\ttotal: 16.9s\tremaining: 19.9s\n",
      "92:\tlearn: 1723.4688308\ttotal: 17.1s\tremaining: 19.7s\n",
      "93:\tlearn: 1722.1277978\ttotal: 17.3s\tremaining: 19.5s\n",
      "94:\tlearn: 1721.0143479\ttotal: 17.5s\tremaining: 19.4s\n",
      "95:\tlearn: 1719.6774604\ttotal: 17.7s\tremaining: 19.2s\n",
      "96:\tlearn: 1718.0276360\ttotal: 18s\tremaining: 19.1s\n",
      "97:\tlearn: 1716.3491782\ttotal: 18.1s\tremaining: 18.9s\n",
      "98:\tlearn: 1716.0432082\ttotal: 18.3s\tremaining: 18.6s\n",
      "99:\tlearn: 1715.2044915\ttotal: 18.5s\tremaining: 18.5s\n",
      "100:\tlearn: 1713.7492617\ttotal: 18.6s\tremaining: 18.3s\n",
      "101:\tlearn: 1713.1201122\ttotal: 18.8s\tremaining: 18.1s\n",
      "102:\tlearn: 1712.5671109\ttotal: 19s\tremaining: 17.9s\n",
      "103:\tlearn: 1711.6354443\ttotal: 19.2s\tremaining: 17.7s\n",
      "104:\tlearn: 1710.8090720\ttotal: 19.4s\tremaining: 17.6s\n",
      "105:\tlearn: 1710.0112767\ttotal: 19.6s\tremaining: 17.4s\n",
      "106:\tlearn: 1709.1722065\ttotal: 19.8s\tremaining: 17.2s\n",
      "107:\tlearn: 1708.0582753\ttotal: 19.9s\tremaining: 17s\n",
      "108:\tlearn: 1707.4153410\ttotal: 20.1s\tremaining: 16.8s\n",
      "109:\tlearn: 1706.7447935\ttotal: 20.3s\tremaining: 16.6s\n",
      "110:\tlearn: 1706.0744706\ttotal: 20.5s\tremaining: 16.5s\n",
      "111:\tlearn: 1705.0127188\ttotal: 20.7s\tremaining: 16.3s\n",
      "112:\tlearn: 1704.3220958\ttotal: 20.9s\tremaining: 16.1s\n",
      "113:\tlearn: 1703.1937429\ttotal: 21.1s\tremaining: 15.9s\n",
      "114:\tlearn: 1702.5301520\ttotal: 21.2s\tremaining: 15.7s\n",
      "115:\tlearn: 1701.8235372\ttotal: 21.4s\tremaining: 15.5s\n",
      "116:\tlearn: 1701.2648329\ttotal: 21.6s\tremaining: 15.3s\n",
      "117:\tlearn: 1699.6620048\ttotal: 21.8s\tremaining: 15.1s\n",
      "118:\tlearn: 1698.8475570\ttotal: 22s\tremaining: 15s\n",
      "119:\tlearn: 1697.7944790\ttotal: 22.2s\tremaining: 14.8s\n",
      "120:\tlearn: 1697.4949047\ttotal: 22.3s\tremaining: 14.6s\n",
      "121:\tlearn: 1696.6295577\ttotal: 22.5s\tremaining: 14.4s\n",
      "122:\tlearn: 1696.1050795\ttotal: 22.7s\tremaining: 14.2s\n",
      "123:\tlearn: 1696.0829673\ttotal: 22.9s\tremaining: 14s\n",
      "124:\tlearn: 1695.1533392\ttotal: 23.1s\tremaining: 13.9s\n",
      "125:\tlearn: 1694.6901876\ttotal: 23.3s\tremaining: 13.7s\n",
      "126:\tlearn: 1694.3437422\ttotal: 23.4s\tremaining: 13.5s\n",
      "127:\tlearn: 1693.6665040\ttotal: 23.6s\tremaining: 13.3s\n",
      "128:\tlearn: 1692.9204202\ttotal: 23.8s\tremaining: 13.1s\n",
      "129:\tlearn: 1692.0495340\ttotal: 23.9s\tremaining: 12.9s\n",
      "130:\tlearn: 1691.1040399\ttotal: 24.1s\tremaining: 12.7s\n",
      "131:\tlearn: 1690.1446200\ttotal: 24.2s\tremaining: 12.5s\n",
      "132:\tlearn: 1689.5663224\ttotal: 24.4s\tremaining: 12.3s\n",
      "133:\tlearn: 1688.7577391\ttotal: 24.6s\tremaining: 12.1s\n",
      "134:\tlearn: 1688.0145760\ttotal: 24.8s\tremaining: 11.9s\n",
      "135:\tlearn: 1687.2878111\ttotal: 25.1s\tremaining: 11.8s\n",
      "136:\tlearn: 1686.7133757\ttotal: 25.6s\tremaining: 11.8s\n",
      "137:\tlearn: 1685.6743893\ttotal: 25.9s\tremaining: 11.6s\n",
      "138:\tlearn: 1685.3015229\ttotal: 26s\tremaining: 11.4s\n",
      "139:\tlearn: 1684.6315256\ttotal: 26.3s\tremaining: 11.3s\n",
      "140:\tlearn: 1684.0449211\ttotal: 26.4s\tremaining: 11.1s\n",
      "141:\tlearn: 1683.4920910\ttotal: 26.6s\tremaining: 10.9s\n",
      "142:\tlearn: 1682.6040984\ttotal: 26.7s\tremaining: 10.7s\n",
      "143:\tlearn: 1682.5985543\ttotal: 26.9s\tremaining: 10.5s\n",
      "144:\tlearn: 1682.2753081\ttotal: 27.1s\tremaining: 10.3s\n",
      "145:\tlearn: 1681.6086461\ttotal: 27.3s\tremaining: 10.1s\n",
      "146:\tlearn: 1680.6217046\ttotal: 27.4s\tremaining: 9.9s\n",
      "147:\tlearn: 1680.1057223\ttotal: 27.6s\tremaining: 9.7s\n",
      "148:\tlearn: 1679.5908524\ttotal: 27.8s\tremaining: 9.52s\n",
      "149:\tlearn: 1679.3862701\ttotal: 28s\tremaining: 9.33s\n",
      "150:\tlearn: 1678.8043141\ttotal: 28.2s\tremaining: 9.14s\n",
      "151:\tlearn: 1678.4279596\ttotal: 28.4s\tremaining: 8.97s\n",
      "152:\tlearn: 1677.8802941\ttotal: 28.6s\tremaining: 8.78s\n",
      "153:\tlearn: 1677.6242881\ttotal: 28.8s\tremaining: 8.59s\n",
      "154:\tlearn: 1676.8316881\ttotal: 28.9s\tremaining: 8.4s\n",
      "155:\tlearn: 1676.8268491\ttotal: 29.1s\tremaining: 8.2s\n",
      "156:\tlearn: 1676.0429197\ttotal: 29.2s\tremaining: 8.01s\n",
      "157:\tlearn: 1675.3436788\ttotal: 29.4s\tremaining: 7.82s\n",
      "158:\tlearn: 1674.9889514\ttotal: 29.6s\tremaining: 7.62s\n",
      "159:\tlearn: 1674.1245762\ttotal: 29.7s\tremaining: 7.43s\n",
      "160:\tlearn: 1673.5140019\ttotal: 29.9s\tremaining: 7.25s\n",
      "161:\tlearn: 1673.0337518\ttotal: 30.1s\tremaining: 7.05s\n",
      "162:\tlearn: 1672.4501408\ttotal: 30.3s\tremaining: 6.87s\n",
      "163:\tlearn: 1672.3208472\ttotal: 30.5s\tremaining: 6.69s\n",
      "164:\tlearn: 1671.7806123\ttotal: 30.7s\tremaining: 6.51s\n",
      "165:\tlearn: 1671.5410291\ttotal: 30.9s\tremaining: 6.32s\n",
      "166:\tlearn: 1670.3864329\ttotal: 31s\tremaining: 6.13s\n",
      "167:\tlearn: 1668.5984115\ttotal: 31.2s\tremaining: 5.95s\n",
      "168:\tlearn: 1668.3462910\ttotal: 31.5s\tremaining: 5.77s\n",
      "169:\tlearn: 1667.6071847\ttotal: 31.6s\tremaining: 5.58s\n",
      "170:\tlearn: 1666.9541402\ttotal: 31.8s\tremaining: 5.39s\n",
      "171:\tlearn: 1666.6352384\ttotal: 32s\tremaining: 5.21s\n",
      "172:\tlearn: 1666.0630586\ttotal: 32.2s\tremaining: 5.03s\n",
      "173:\tlearn: 1665.3526592\ttotal: 32.4s\tremaining: 4.84s\n",
      "174:\tlearn: 1664.6761901\ttotal: 32.6s\tremaining: 4.66s\n",
      "175:\tlearn: 1664.2830042\ttotal: 32.9s\tremaining: 4.48s\n",
      "176:\tlearn: 1664.0579403\ttotal: 33s\tremaining: 4.29s\n",
      "177:\tlearn: 1663.9833153\ttotal: 33.2s\tremaining: 4.11s\n",
      "178:\tlearn: 1663.3094579\ttotal: 33.4s\tremaining: 3.92s\n",
      "179:\tlearn: 1663.0972787\ttotal: 33.6s\tremaining: 3.73s\n",
      "180:\tlearn: 1662.8972396\ttotal: 33.8s\tremaining: 3.55s\n",
      "181:\tlearn: 1662.4603982\ttotal: 34s\tremaining: 3.36s\n",
      "182:\tlearn: 1662.3053622\ttotal: 34.2s\tremaining: 3.17s\n",
      "183:\tlearn: 1661.7153771\ttotal: 34.4s\tremaining: 2.99s\n",
      "184:\tlearn: 1661.0316091\ttotal: 34.6s\tremaining: 2.8s\n",
      "185:\tlearn: 1660.4469321\ttotal: 34.7s\tremaining: 2.61s\n",
      "186:\tlearn: 1660.0282902\ttotal: 34.9s\tremaining: 2.43s\n",
      "187:\tlearn: 1659.5511942\ttotal: 35.1s\tremaining: 2.24s\n",
      "188:\tlearn: 1659.3555793\ttotal: 35.2s\tremaining: 2.05s\n",
      "189:\tlearn: 1659.3099168\ttotal: 35.4s\tremaining: 1.86s\n",
      "190:\tlearn: 1659.0579695\ttotal: 35.6s\tremaining: 1.68s\n",
      "191:\tlearn: 1658.7097935\ttotal: 35.8s\tremaining: 1.49s\n",
      "192:\tlearn: 1658.2315918\ttotal: 36s\tremaining: 1.3s\n",
      "193:\tlearn: 1657.7365587\ttotal: 36.1s\tremaining: 1.12s\n",
      "194:\tlearn: 1657.4654405\ttotal: 36.3s\tremaining: 931ms\n",
      "195:\tlearn: 1656.9725445\ttotal: 36.5s\tremaining: 744ms\n",
      "196:\tlearn: 1656.5469155\ttotal: 36.6s\tremaining: 558ms\n",
      "197:\tlearn: 1656.3402644\ttotal: 36.8s\tremaining: 372ms\n",
      "198:\tlearn: 1656.1675387\ttotal: 37.1s\tremaining: 186ms\n",
      "199:\tlearn: 1655.9629152\ttotal: 37.2s\tremaining: 0us\n"
     ]
    }
   ],
   "source": [
    "final_model_class = models_params[best_model_name][0]\n",
    "final_model = final_model_class(random_state=42)\n",
    "\n",
    "start_time = time.time()\n",
    "\n",
    "if best_model_name in ['Random Forest', 'LightGBM']:\n",
    "    preprocessor = ColumnTransformer(\n",
    "        transformers=[\n",
    "            ('cat', OrdinalEncoder(handle_unknown='use_encoded_value', unknown_value=-1), categorical_features),\n",
    "            ('num', 'passthrough', numerical_features)\n",
    "        ]\n",
    "    )\n",
    "    \n",
    "    final_pipeline = Pipeline(steps=[\n",
    "        ('preprocessor', preprocessor),\n",
    "        ('model', final_model)\n",
    "    ])\n",
    "    \n",
    "    final_pipeline.fit(X_train, y_train)\n",
    "    \n",
    "    y_pred = final_pipeline.predict(X_test)\n",
    "\n",
    "else:\n",
    "    catboost_params = ['iterations', 'depth', 'learning_rate', 'loss_function', 'l2_leaf_reg', 'border_count']\n",
    "\n",
    "    filtered_best_model_params = {k: v for k, v in best_model_params.items() if k in catboost_params}\n",
    "\n",
    "    final_model.set_params(**filtered_best_model_params)\n",
    "    final_model.fit(X_train, y_train, cat_features=categorical_features)\n",
    "    y_pred = final_model.predict(X_test)"
   ]
  },
  {
   "cell_type": "code",
   "execution_count": 76,
   "metadata": {
    "scrolled": false
   },
   "outputs": [
    {
     "name": "stdout",
     "output_type": "stream",
     "text": [
      "Лучшая модель: CatBoost\n",
      "RMSE: 1653.00\n",
      "Время обучения: 38.65 сек\n",
      "Время предсказания: 0.15 сек\n"
     ]
    }
   ],
   "source": [
    "test_rmse = np.sqrt(mean_squared_error(y_test, y_pred))\n",
    "\n",
    "model_time = time.time() - start_time\n",
    "\n",
    "start_prediction_time = time.time()\n",
    "_ = final_pipeline.predict(X_test) if best_model_name in ['Random Forest', 'LightGBM'] else final_model.predict(X_test)\n",
    "prediction_time = time.time() - start_prediction_time\n",
    "\n",
    "print(f\"Лучшая модель: {best_model_name}\")\n",
    "print(f\"RMSE: {test_rmse:.2f}\")\n",
    "print(f\"Время обучения: {model_time:.2f} сек\")\n",
    "print(f\"Время предсказания: {prediction_time:.2f} сек\")"
   ]
  },
  {
   "cell_type": "markdown",
   "metadata": {},
   "source": [
    "## Общий вывод"
   ]
  },
  {
   "cell_type": "markdown",
   "metadata": {},
   "source": [
    "В рамках проекта по разработке приложения для сервиса по продаже автомобилей с пробегом «Не бит, не крашен» была построена модель для определения рыночной стоимости автомобилей на основе их технических характеристик и комплектации. В результате экспериментов с различными моделями, лучшей была выбрана модель `CatBoost` с результатами: RMSE = 1653.00, Время обучения = 38.65 сек, Время предсказания = 0.15 сек.\n",
    "- Значение RMSE в 1653.00 указывает на то, что модель демонстрирует хорошее качество предсказания. Это значение значительно ниже установленного порога в 2500, что свидетельствует о высокой точности оценок рыночной стоимости автомобилей. Данная характеристика является критически важной для привлечения клиентов.\n",
    "- Время обучения модели составляет 38.65 секунды. Это приемлемый показатель, учитывая сложность задачи и объем данных. Быстрое время обучения позволяет оперативно обновлять модель при поступлении новых данных.\n",
    "- Время предсказания всего 0.15 секунды. Это очень быстрое время, что делает модель подходящей для использования в реальном времени в приложении, где пользователи ожидают мгновенных ответов.\n",
    "  \n",
    "Таким образом, CatBoost является оптимальным выбором для приложения «Не бит, не крашен», что позволит эффективно привлекать новых клиентов за счет предоставления точной информации о рыночной стоимости автомобилей."
   ]
  }
 ],
 "metadata": {
  "ExecuteTimeLog": [
   {
    "duration": 1684,
    "start_time": "2024-11-04T10:12:26.571Z"
   },
   {
    "duration": 151,
    "start_time": "2024-11-04T10:12:44.604Z"
   },
   {
    "duration": 40,
    "start_time": "2024-11-04T10:12:59.019Z"
   },
   {
    "duration": 14,
    "start_time": "2024-11-04T10:14:30.633Z"
   },
   {
    "duration": 2952,
    "start_time": "2024-11-04T10:15:11.455Z"
   },
   {
    "duration": 3,
    "start_time": "2024-11-04T10:21:59.960Z"
   },
   {
    "duration": 17,
    "start_time": "2024-11-04T10:24:29.423Z"
   },
   {
    "duration": 14,
    "start_time": "2024-11-04T10:24:55.512Z"
   },
   {
    "duration": 74,
    "start_time": "2024-11-04T10:27:40.108Z"
   },
   {
    "duration": 67,
    "start_time": "2024-11-04T10:28:05.740Z"
   },
   {
    "duration": 131,
    "start_time": "2024-11-04T10:32:11.400Z"
   },
   {
    "duration": 147,
    "start_time": "2024-11-04T10:32:20.635Z"
   },
   {
    "duration": 4,
    "start_time": "2024-11-04T10:51:49.155Z"
   },
   {
    "duration": 468,
    "start_time": "2024-11-04T10:52:12.513Z"
   },
   {
    "duration": 998,
    "start_time": "2024-11-04T10:52:26.778Z"
   },
   {
    "duration": 200,
    "start_time": "2024-11-04T10:57:38.440Z"
   },
   {
    "duration": 2,
    "start_time": "2024-11-04T10:57:50.334Z"
   },
   {
    "duration": 116,
    "start_time": "2024-11-04T10:58:02.326Z"
   },
   {
    "duration": 32,
    "start_time": "2024-11-04T10:58:11.428Z"
   },
   {
    "duration": 5,
    "start_time": "2024-11-04T10:58:42.646Z"
   },
   {
    "duration": 92,
    "start_time": "2024-11-04T10:58:51.469Z"
   },
   {
    "duration": 1039,
    "start_time": "2024-11-04T11:01:18.261Z"
   },
   {
    "duration": 62,
    "start_time": "2024-11-04T11:03:39.364Z"
   },
   {
    "duration": 91,
    "start_time": "2024-11-04T11:03:48.150Z"
   },
   {
    "duration": 145,
    "start_time": "2024-11-04T11:03:49.121Z"
   },
   {
    "duration": 436,
    "start_time": "2024-11-04T11:03:50.695Z"
   },
   {
    "duration": 942,
    "start_time": "2024-11-04T11:03:51.783Z"
   },
   {
    "duration": 162,
    "start_time": "2024-11-04T11:03:54.057Z"
   },
   {
    "duration": 2,
    "start_time": "2024-11-04T11:03:55.996Z"
   },
   {
    "duration": 99,
    "start_time": "2024-11-04T11:03:57.274Z"
   },
   {
    "duration": 43,
    "start_time": "2024-11-04T11:03:58.130Z"
   },
   {
    "duration": 6,
    "start_time": "2024-11-04T11:04:00.387Z"
   },
   {
    "duration": 92,
    "start_time": "2024-11-04T11:04:04.024Z"
   },
   {
    "duration": 111,
    "start_time": "2024-11-04T11:04:09.384Z"
   },
   {
    "duration": 37,
    "start_time": "2024-11-04T11:04:50.800Z"
   },
   {
    "duration": 110,
    "start_time": "2024-11-04T11:05:37.480Z"
   },
   {
    "duration": 57,
    "start_time": "2024-11-04T11:06:12.780Z"
   },
   {
    "duration": 126,
    "start_time": "2024-11-04T11:07:39.873Z"
   },
   {
    "duration": 120,
    "start_time": "2024-11-04T11:09:25.549Z"
   },
   {
    "duration": 120,
    "start_time": "2024-11-04T11:10:40.933Z"
   },
   {
    "duration": 102,
    "start_time": "2024-11-04T11:11:18.203Z"
   },
   {
    "duration": 1032,
    "start_time": "2024-11-04T11:11:51.046Z"
   },
   {
    "duration": 11,
    "start_time": "2024-11-04T11:12:31.011Z"
   },
   {
    "duration": 917,
    "start_time": "2024-11-04T11:16:06.097Z"
   },
   {
    "duration": 889,
    "start_time": "2024-11-04T11:16:22.038Z"
   },
   {
    "duration": 1057,
    "start_time": "2024-11-04T11:16:46.902Z"
   },
   {
    "duration": 1439,
    "start_time": "2024-11-04T11:17:12.199Z"
   },
   {
    "duration": 927,
    "start_time": "2024-11-04T11:17:13.640Z"
   },
   {
    "duration": 15,
    "start_time": "2024-11-04T11:17:14.569Z"
   },
   {
    "duration": 10,
    "start_time": "2024-11-04T11:17:14.586Z"
   },
   {
    "duration": 75,
    "start_time": "2024-11-04T11:17:14.597Z"
   },
   {
    "duration": 0,
    "start_time": "2024-11-04T11:17:14.674Z"
   },
   {
    "duration": 0,
    "start_time": "2024-11-04T11:17:14.675Z"
   },
   {
    "duration": 0,
    "start_time": "2024-11-04T11:17:14.676Z"
   },
   {
    "duration": 0,
    "start_time": "2024-11-04T11:17:14.678Z"
   },
   {
    "duration": 0,
    "start_time": "2024-11-04T11:17:14.679Z"
   },
   {
    "duration": 0,
    "start_time": "2024-11-04T11:17:14.680Z"
   },
   {
    "duration": 0,
    "start_time": "2024-11-04T11:17:14.681Z"
   },
   {
    "duration": 0,
    "start_time": "2024-11-04T11:17:14.682Z"
   },
   {
    "duration": 0,
    "start_time": "2024-11-04T11:17:14.683Z"
   },
   {
    "duration": 0,
    "start_time": "2024-11-04T11:17:14.684Z"
   },
   {
    "duration": 0,
    "start_time": "2024-11-04T11:17:14.685Z"
   },
   {
    "duration": 0,
    "start_time": "2024-11-04T11:17:14.686Z"
   },
   {
    "duration": 0,
    "start_time": "2024-11-04T11:17:14.687Z"
   },
   {
    "duration": 0,
    "start_time": "2024-11-04T11:17:14.688Z"
   },
   {
    "duration": 0,
    "start_time": "2024-11-04T11:17:14.689Z"
   },
   {
    "duration": 0,
    "start_time": "2024-11-04T11:17:14.690Z"
   },
   {
    "duration": 0,
    "start_time": "2024-11-04T11:17:14.691Z"
   },
   {
    "duration": 0,
    "start_time": "2024-11-04T11:17:14.692Z"
   },
   {
    "duration": 0,
    "start_time": "2024-11-04T11:17:14.693Z"
   },
   {
    "duration": 0,
    "start_time": "2024-11-04T11:17:14.694Z"
   },
   {
    "duration": 0,
    "start_time": "2024-11-04T11:17:14.695Z"
   },
   {
    "duration": 3,
    "start_time": "2024-11-04T11:21:30.207Z"
   },
   {
    "duration": 5,
    "start_time": "2024-11-04T11:21:31.540Z"
   },
   {
    "duration": 69,
    "start_time": "2024-11-04T11:21:32.320Z"
   },
   {
    "duration": 1465,
    "start_time": "2024-11-04T11:21:39.799Z"
   },
   {
    "duration": 909,
    "start_time": "2024-11-04T11:21:41.266Z"
   },
   {
    "duration": 16,
    "start_time": "2024-11-04T11:21:42.176Z"
   },
   {
    "duration": 3,
    "start_time": "2024-11-04T11:21:42.193Z"
   },
   {
    "duration": 3,
    "start_time": "2024-11-04T11:21:42.197Z"
   },
   {
    "duration": 75,
    "start_time": "2024-11-04T11:21:42.201Z"
   },
   {
    "duration": 146,
    "start_time": "2024-11-04T11:21:42.278Z"
   },
   {
    "duration": 169,
    "start_time": "2024-11-04T11:21:42.425Z"
   },
   {
    "duration": 491,
    "start_time": "2024-11-04T11:21:42.596Z"
   },
   {
    "duration": 1112,
    "start_time": "2024-11-04T11:21:43.091Z"
   },
   {
    "duration": 220,
    "start_time": "2024-11-04T11:21:44.205Z"
   },
   {
    "duration": 2,
    "start_time": "2024-11-04T11:21:44.427Z"
   },
   {
    "duration": 106,
    "start_time": "2024-11-04T11:21:44.431Z"
   },
   {
    "duration": 36,
    "start_time": "2024-11-04T11:21:44.538Z"
   },
   {
    "duration": 4,
    "start_time": "2024-11-04T11:21:44.576Z"
   },
   {
    "duration": 114,
    "start_time": "2024-11-04T11:21:44.581Z"
   },
   {
    "duration": 163,
    "start_time": "2024-11-04T11:21:44.696Z"
   },
   {
    "duration": 41,
    "start_time": "2024-11-04T11:21:44.861Z"
   },
   {
    "duration": 124,
    "start_time": "2024-11-04T11:21:44.904Z"
   },
   {
    "duration": 63,
    "start_time": "2024-11-04T11:21:45.029Z"
   },
   {
    "duration": 127,
    "start_time": "2024-11-04T11:21:45.094Z"
   },
   {
    "duration": 123,
    "start_time": "2024-11-04T11:21:45.222Z"
   },
   {
    "duration": 125,
    "start_time": "2024-11-04T11:21:45.347Z"
   },
   {
    "duration": 107,
    "start_time": "2024-11-04T11:21:45.473Z"
   },
   {
    "duration": 1029,
    "start_time": "2024-11-04T11:21:45.582Z"
   },
   {
    "duration": 10,
    "start_time": "2024-11-04T11:21:46.612Z"
   },
   {
    "duration": 11,
    "start_time": "2024-11-04T11:24:57.160Z"
   },
   {
    "duration": 28,
    "start_time": "2024-11-04T11:25:43.468Z"
   },
   {
    "duration": 915,
    "start_time": "2024-11-04T11:27:51.698Z"
   },
   {
    "duration": 143,
    "start_time": "2024-11-04T11:28:54.744Z"
   },
   {
    "duration": 17,
    "start_time": "2024-11-04T11:28:59.326Z"
   },
   {
    "duration": 109,
    "start_time": "2024-11-04T11:29:37.022Z"
   },
   {
    "duration": 932,
    "start_time": "2024-11-04T11:29:47.267Z"
   },
   {
    "duration": 1073,
    "start_time": "2024-11-04T11:29:57.680Z"
   },
   {
    "duration": 14,
    "start_time": "2024-11-04T11:30:22.245Z"
   },
   {
    "duration": 6,
    "start_time": "2024-11-04T11:32:27.112Z"
   },
   {
    "duration": 16,
    "start_time": "2024-11-04T11:32:58.387Z"
   },
   {
    "duration": 36,
    "start_time": "2024-11-04T11:39:57.251Z"
   },
   {
    "duration": 29,
    "start_time": "2024-11-04T11:40:10.615Z"
   },
   {
    "duration": 28,
    "start_time": "2024-11-04T11:40:16.951Z"
   },
   {
    "duration": 24,
    "start_time": "2024-11-04T11:40:29.173Z"
   },
   {
    "duration": 31,
    "start_time": "2024-11-04T11:43:41.505Z"
   },
   {
    "duration": 26,
    "start_time": "2024-11-04T11:43:50.634Z"
   },
   {
    "duration": 25,
    "start_time": "2024-11-04T11:44:34.006Z"
   },
   {
    "duration": 579,
    "start_time": "2024-11-04T11:44:58.803Z"
   },
   {
    "duration": 25,
    "start_time": "2024-11-04T11:45:08.801Z"
   },
   {
    "duration": 24,
    "start_time": "2024-11-04T11:45:13.473Z"
   },
   {
    "duration": 585,
    "start_time": "2024-11-04T11:45:13.690Z"
   },
   {
    "duration": 104,
    "start_time": "2024-11-04T11:45:34.148Z"
   },
   {
    "duration": 14,
    "start_time": "2024-11-04T11:45:59.534Z"
   },
   {
    "duration": 319,
    "start_time": "2024-11-04T11:47:13.382Z"
   },
   {
    "duration": 11,
    "start_time": "2024-11-04T11:47:52.198Z"
   },
   {
    "duration": 135,
    "start_time": "2024-11-04T11:49:23.996Z"
   },
   {
    "duration": 3,
    "start_time": "2024-11-04T12:08:46.128Z"
   },
   {
    "duration": 113,
    "start_time": "2024-11-04T12:08:52.842Z"
   },
   {
    "duration": 7,
    "start_time": "2024-11-04T12:09:36.508Z"
   },
   {
    "duration": 63,
    "start_time": "2024-11-04T12:09:47.197Z"
   },
   {
    "duration": 15,
    "start_time": "2024-11-04T12:10:00.779Z"
   },
   {
    "duration": 37,
    "start_time": "2024-11-04T12:10:35.195Z"
   },
   {
    "duration": 112,
    "start_time": "2024-11-04T12:10:44.720Z"
   },
   {
    "duration": 7,
    "start_time": "2024-11-04T12:10:52.302Z"
   },
   {
    "duration": 6,
    "start_time": "2024-11-04T12:11:21.328Z"
   },
   {
    "duration": 64,
    "start_time": "2024-11-04T12:11:31.315Z"
   },
   {
    "duration": 10,
    "start_time": "2024-11-04T12:11:37.639Z"
   },
   {
    "duration": 8,
    "start_time": "2024-11-04T12:12:05.051Z"
   },
   {
    "duration": 63,
    "start_time": "2024-11-04T12:12:14.647Z"
   },
   {
    "duration": 9,
    "start_time": "2024-11-04T12:12:22.387Z"
   },
   {
    "duration": 795,
    "start_time": "2024-11-04T12:12:58.400Z"
   },
   {
    "duration": 21,
    "start_time": "2024-11-04T12:13:21.762Z"
   },
   {
    "duration": 12,
    "start_time": "2024-11-04T12:14:14.874Z"
   },
   {
    "duration": 68,
    "start_time": "2024-11-04T12:14:26.062Z"
   },
   {
    "duration": 317,
    "start_time": "2024-11-04T12:14:43.560Z"
   },
   {
    "duration": 2,
    "start_time": "2024-11-04T12:18:28.538Z"
   },
   {
    "duration": 3702,
    "start_time": "2024-11-04T12:18:34.852Z"
   },
   {
    "duration": 3,
    "start_time": "2024-11-04T12:18:42.763Z"
   },
   {
    "duration": 15,
    "start_time": "2024-11-04T12:18:49.902Z"
   },
   {
    "duration": 17471,
    "start_time": "2024-11-04T12:18:57.680Z"
   },
   {
    "duration": 5,
    "start_time": "2024-11-04T12:19:15.157Z"
   },
   {
    "duration": 4,
    "start_time": "2024-11-04T12:19:24.065Z"
   },
   {
    "duration": 10,
    "start_time": "2024-11-04T12:19:30.721Z"
   },
   {
    "duration": 17967,
    "start_time": "2024-11-04T12:20:17.059Z"
   },
   {
    "duration": 7,
    "start_time": "2024-11-04T12:21:00.773Z"
   },
   {
    "duration": 3,
    "start_time": "2024-11-04T12:23:30.562Z"
   },
   {
    "duration": 471,
    "start_time": "2024-11-04T12:23:30.566Z"
   },
   {
    "duration": 3618,
    "start_time": "2024-11-04T12:23:31.039Z"
   },
   {
    "duration": 2,
    "start_time": "2024-11-04T12:23:34.659Z"
   },
   {
    "duration": 27,
    "start_time": "2024-11-04T12:23:34.663Z"
   },
   {
    "duration": 8,
    "start_time": "2024-11-04T12:25:52.426Z"
   },
   {
    "duration": 136032,
    "start_time": "2024-11-04T12:25:52.436Z"
   },
   {
    "duration": 3,
    "start_time": "2024-11-04T12:28:08.469Z"
   },
   {
    "duration": 463,
    "start_time": "2024-11-04T12:28:08.473Z"
   },
   {
    "duration": 3548,
    "start_time": "2024-11-04T12:28:08.938Z"
   },
   {
    "duration": 2,
    "start_time": "2024-11-04T12:28:12.488Z"
   },
   {
    "duration": 20,
    "start_time": "2024-11-04T12:28:12.492Z"
   },
   {
    "duration": 9,
    "start_time": "2024-11-04T12:28:12.514Z"
   },
   {
    "duration": 8,
    "start_time": "2024-11-04T12:28:59.076Z"
   },
   {
    "duration": 219114,
    "start_time": "2024-11-04T12:29:05.800Z"
   },
   {
    "duration": 3,
    "start_time": "2024-11-04T12:32:44.916Z"
   },
   {
    "duration": 72,
    "start_time": "2024-11-04T12:32:44.920Z"
   },
   {
    "duration": 5399,
    "start_time": "2024-11-04T12:32:44.994Z"
   },
   {
    "duration": 2,
    "start_time": "2024-11-04T12:32:50.395Z"
   },
   {
    "duration": 20,
    "start_time": "2024-11-04T12:32:50.399Z"
   },
   {
    "duration": 28,
    "start_time": "2024-11-04T12:32:50.421Z"
   },
   {
    "duration": 35,
    "start_time": "2024-11-04T12:32:50.450Z"
   },
   {
    "duration": 293561,
    "start_time": "2024-11-04T12:32:50.487Z"
   },
   {
    "duration": 2,
    "start_time": "2024-11-04T12:37:44.051Z"
   },
   {
    "duration": 395,
    "start_time": "2024-11-04T12:37:44.055Z"
   },
   {
    "duration": 3397,
    "start_time": "2024-11-04T12:37:44.452Z"
   },
   {
    "duration": 3,
    "start_time": "2024-11-04T12:37:47.851Z"
   },
   {
    "duration": 10,
    "start_time": "2024-11-04T12:37:47.855Z"
   },
   {
    "duration": 17,
    "start_time": "2024-11-04T12:37:47.867Z"
   },
   {
    "duration": 4,
    "start_time": "2024-11-04T12:37:47.886Z"
   },
   {
    "duration": 131137,
    "start_time": "2024-11-04T12:37:47.892Z"
   },
   {
    "duration": 2,
    "start_time": "2024-11-04T12:39:59.031Z"
   },
   {
    "duration": 444,
    "start_time": "2024-11-04T12:39:59.034Z"
   },
   {
    "duration": 3536,
    "start_time": "2024-11-04T12:39:59.480Z"
   },
   {
    "duration": 3,
    "start_time": "2024-11-04T12:40:03.018Z"
   },
   {
    "duration": 41,
    "start_time": "2024-11-04T12:40:03.023Z"
   },
   {
    "duration": 37,
    "start_time": "2024-11-04T12:40:03.066Z"
   },
   {
    "duration": 1505,
    "start_time": "2024-11-04T12:47:31.638Z"
   },
   {
    "duration": 898,
    "start_time": "2024-11-04T12:47:33.145Z"
   },
   {
    "duration": 16,
    "start_time": "2024-11-04T12:47:34.045Z"
   },
   {
    "duration": 86,
    "start_time": "2024-11-04T12:47:34.063Z"
   },
   {
    "duration": 148,
    "start_time": "2024-11-04T12:47:34.151Z"
   },
   {
    "duration": 156,
    "start_time": "2024-11-04T12:47:34.300Z"
   },
   {
    "duration": 502,
    "start_time": "2024-11-04T12:47:34.457Z"
   },
   {
    "duration": 1011,
    "start_time": "2024-11-04T12:47:34.961Z"
   },
   {
    "duration": 243,
    "start_time": "2024-11-04T12:47:35.973Z"
   },
   {
    "duration": 3,
    "start_time": "2024-11-04T12:47:36.218Z"
   },
   {
    "duration": 113,
    "start_time": "2024-11-04T12:47:36.222Z"
   },
   {
    "duration": 42,
    "start_time": "2024-11-04T12:47:36.337Z"
   },
   {
    "duration": 4,
    "start_time": "2024-11-04T12:47:36.381Z"
   },
   {
    "duration": 160,
    "start_time": "2024-11-04T12:47:36.387Z"
   },
   {
    "duration": 152,
    "start_time": "2024-11-04T12:47:36.548Z"
   },
   {
    "duration": 39,
    "start_time": "2024-11-04T12:47:36.702Z"
   },
   {
    "duration": 139,
    "start_time": "2024-11-04T12:47:36.743Z"
   },
   {
    "duration": 71,
    "start_time": "2024-11-04T12:47:36.885Z"
   },
   {
    "duration": 140,
    "start_time": "2024-11-04T12:47:36.960Z"
   },
   {
    "duration": 135,
    "start_time": "2024-11-04T12:47:37.102Z"
   },
   {
    "duration": 144,
    "start_time": "2024-11-04T12:47:37.243Z"
   },
   {
    "duration": 99,
    "start_time": "2024-11-04T12:47:37.389Z"
   },
   {
    "duration": 1011,
    "start_time": "2024-11-04T12:47:37.490Z"
   },
   {
    "duration": 9,
    "start_time": "2024-11-04T12:47:38.503Z"
   },
   {
    "duration": 66,
    "start_time": "2024-11-04T12:47:38.514Z"
   },
   {
    "duration": 23,
    "start_time": "2024-11-04T12:47:38.582Z"
   },
   {
    "duration": 925,
    "start_time": "2024-11-04T12:47:38.607Z"
   },
   {
    "duration": 117,
    "start_time": "2024-11-04T12:47:39.542Z"
   },
   {
    "duration": 8,
    "start_time": "2024-11-04T12:47:39.661Z"
   },
   {
    "duration": 8,
    "start_time": "2024-11-04T12:47:39.671Z"
   },
   {
    "duration": 16,
    "start_time": "2024-11-04T12:47:39.681Z"
   },
   {
    "duration": 21,
    "start_time": "2024-11-04T12:47:39.698Z"
   },
   {
    "duration": 45,
    "start_time": "2024-11-04T12:47:39.744Z"
   },
   {
    "duration": 607,
    "start_time": "2024-11-04T12:47:39.790Z"
   },
   {
    "duration": 127,
    "start_time": "2024-11-04T12:47:40.398Z"
   },
   {
    "duration": 33,
    "start_time": "2024-11-04T12:47:40.527Z"
   },
   {
    "duration": 215,
    "start_time": "2024-11-04T12:47:40.562Z"
   },
   {
    "duration": 12,
    "start_time": "2024-11-04T12:47:40.779Z"
   },
   {
    "duration": 260,
    "start_time": "2024-11-04T12:47:40.793Z"
   },
   {
    "duration": 2,
    "start_time": "2024-11-04T12:47:41.055Z"
   },
   {
    "duration": 98,
    "start_time": "2024-11-04T12:47:41.059Z"
   },
   {
    "duration": 6,
    "start_time": "2024-11-04T12:47:41.159Z"
   },
   {
    "duration": 77,
    "start_time": "2024-11-04T12:47:41.166Z"
   },
   {
    "duration": 11,
    "start_time": "2024-11-04T12:47:41.245Z"
   },
   {
    "duration": 37,
    "start_time": "2024-11-04T12:47:41.258Z"
   },
   {
    "duration": 119,
    "start_time": "2024-11-04T12:47:41.296Z"
   },
   {
    "duration": 8,
    "start_time": "2024-11-04T12:47:41.417Z"
   },
   {
    "duration": 55,
    "start_time": "2024-11-04T12:47:41.427Z"
   },
   {
    "duration": 70,
    "start_time": "2024-11-04T12:47:41.483Z"
   },
   {
    "duration": 12,
    "start_time": "2024-11-04T12:47:41.554Z"
   },
   {
    "duration": 5,
    "start_time": "2024-11-04T12:47:41.568Z"
   },
   {
    "duration": 68,
    "start_time": "2024-11-04T12:47:41.575Z"
   },
   {
    "duration": 8,
    "start_time": "2024-11-04T12:47:41.645Z"
   },
   {
    "duration": 755,
    "start_time": "2024-11-04T12:47:41.655Z"
   },
   {
    "duration": 20,
    "start_time": "2024-11-04T12:47:42.412Z"
   },
   {
    "duration": 50,
    "start_time": "2024-11-04T12:47:42.434Z"
   },
   {
    "duration": 68,
    "start_time": "2024-11-04T12:47:42.485Z"
   },
   {
    "duration": 324,
    "start_time": "2024-11-04T12:47:42.555Z"
   },
   {
    "duration": 3,
    "start_time": "2024-11-04T12:47:42.881Z"
   },
   {
    "duration": 3169,
    "start_time": "2024-11-04T12:47:42.885Z"
   },
   {
    "duration": 3,
    "start_time": "2024-11-04T12:47:46.056Z"
   },
   {
    "duration": 89,
    "start_time": "2024-11-04T12:47:46.061Z"
   },
   {
    "duration": 15910,
    "start_time": "2024-11-04T12:47:46.242Z"
   },
   {
    "duration": 94,
    "start_time": "2024-11-04T12:48:02.249Z"
   },
   {
    "duration": 8,
    "start_time": "2024-11-04T12:48:02.345Z"
   },
   {
    "duration": 14,
    "start_time": "2024-11-04T12:48:02.355Z"
   },
   {
    "duration": 16794,
    "start_time": "2024-11-04T12:48:02.371Z"
   },
   {
    "duration": 9,
    "start_time": "2024-11-04T12:48:19.167Z"
   },
   {
    "duration": 131561,
    "start_time": "2024-11-04T12:48:19.177Z"
   },
   {
    "duration": 4,
    "start_time": "2024-11-04T12:50:30.739Z"
   },
   {
    "duration": 480,
    "start_time": "2024-11-04T12:50:30.744Z"
   },
   {
    "duration": 3541,
    "start_time": "2024-11-04T12:50:31.226Z"
   },
   {
    "duration": 3,
    "start_time": "2024-11-04T12:50:34.769Z"
   },
   {
    "duration": 27,
    "start_time": "2024-11-04T12:50:34.774Z"
   },
   {
    "duration": 59,
    "start_time": "2024-11-04T12:50:34.802Z"
   },
   {
    "duration": 44,
    "start_time": "2024-11-04T12:50:34.862Z"
   },
   {
    "duration": 219919,
    "start_time": "2024-11-04T12:50:34.908Z"
   },
   {
    "duration": 3,
    "start_time": "2024-11-04T12:54:14.829Z"
   },
   {
    "duration": 73,
    "start_time": "2024-11-04T12:54:14.834Z"
   },
   {
    "duration": 5529,
    "start_time": "2024-11-04T12:54:14.908Z"
   },
   {
    "duration": 5,
    "start_time": "2024-11-04T12:54:20.438Z"
   },
   {
    "duration": 15,
    "start_time": "2024-11-04T12:54:20.450Z"
   },
   {
    "duration": 11,
    "start_time": "2024-11-04T12:54:20.467Z"
   },
   {
    "duration": 9,
    "start_time": "2024-11-04T12:54:20.480Z"
   },
   {
    "duration": 1524,
    "start_time": "2024-11-04T13:19:04.189Z"
   },
   {
    "duration": 108,
    "start_time": "2024-11-04T13:19:05.715Z"
   },
   {
    "duration": 0,
    "start_time": "2024-11-04T13:19:05.826Z"
   },
   {
    "duration": 0,
    "start_time": "2024-11-04T13:19:05.828Z"
   },
   {
    "duration": 0,
    "start_time": "2024-11-04T13:19:05.829Z"
   },
   {
    "duration": 0,
    "start_time": "2024-11-04T13:19:05.830Z"
   },
   {
    "duration": 0,
    "start_time": "2024-11-04T13:19:05.831Z"
   },
   {
    "duration": 0,
    "start_time": "2024-11-04T13:19:05.832Z"
   },
   {
    "duration": 0,
    "start_time": "2024-11-04T13:19:05.843Z"
   },
   {
    "duration": 0,
    "start_time": "2024-11-04T13:19:05.844Z"
   },
   {
    "duration": 0,
    "start_time": "2024-11-04T13:19:05.845Z"
   },
   {
    "duration": 0,
    "start_time": "2024-11-04T13:19:05.846Z"
   },
   {
    "duration": 0,
    "start_time": "2024-11-04T13:19:05.847Z"
   },
   {
    "duration": 0,
    "start_time": "2024-11-04T13:19:05.848Z"
   },
   {
    "duration": 0,
    "start_time": "2024-11-04T13:19:05.849Z"
   },
   {
    "duration": 0,
    "start_time": "2024-11-04T13:19:05.850Z"
   },
   {
    "duration": 0,
    "start_time": "2024-11-04T13:19:05.851Z"
   },
   {
    "duration": 0,
    "start_time": "2024-11-04T13:19:05.851Z"
   },
   {
    "duration": 0,
    "start_time": "2024-11-04T13:19:05.852Z"
   },
   {
    "duration": 0,
    "start_time": "2024-11-04T13:19:05.853Z"
   },
   {
    "duration": 0,
    "start_time": "2024-11-04T13:19:05.854Z"
   },
   {
    "duration": 0,
    "start_time": "2024-11-04T13:19:05.855Z"
   },
   {
    "duration": 0,
    "start_time": "2024-11-04T13:19:05.857Z"
   },
   {
    "duration": 0,
    "start_time": "2024-11-04T13:19:05.858Z"
   },
   {
    "duration": 0,
    "start_time": "2024-11-04T13:19:05.859Z"
   },
   {
    "duration": 0,
    "start_time": "2024-11-04T13:19:05.860Z"
   },
   {
    "duration": 0,
    "start_time": "2024-11-04T13:19:05.860Z"
   },
   {
    "duration": 0,
    "start_time": "2024-11-04T13:19:05.861Z"
   },
   {
    "duration": 0,
    "start_time": "2024-11-04T13:19:05.862Z"
   },
   {
    "duration": 0,
    "start_time": "2024-11-04T13:19:05.863Z"
   },
   {
    "duration": 0,
    "start_time": "2024-11-04T13:19:05.864Z"
   },
   {
    "duration": 0,
    "start_time": "2024-11-04T13:19:05.865Z"
   },
   {
    "duration": 0,
    "start_time": "2024-11-04T13:19:05.866Z"
   },
   {
    "duration": 0,
    "start_time": "2024-11-04T13:19:05.867Z"
   },
   {
    "duration": 0,
    "start_time": "2024-11-04T13:19:05.868Z"
   },
   {
    "duration": 0,
    "start_time": "2024-11-04T13:19:05.870Z"
   },
   {
    "duration": 0,
    "start_time": "2024-11-04T13:19:05.871Z"
   },
   {
    "duration": 0,
    "start_time": "2024-11-04T13:19:05.871Z"
   },
   {
    "duration": 0,
    "start_time": "2024-11-04T13:19:05.872Z"
   },
   {
    "duration": 0,
    "start_time": "2024-11-04T13:19:05.874Z"
   },
   {
    "duration": 0,
    "start_time": "2024-11-04T13:19:05.875Z"
   },
   {
    "duration": 0,
    "start_time": "2024-11-04T13:19:05.876Z"
   },
   {
    "duration": 0,
    "start_time": "2024-11-04T13:19:05.876Z"
   },
   {
    "duration": 0,
    "start_time": "2024-11-04T13:19:05.877Z"
   },
   {
    "duration": 0,
    "start_time": "2024-11-04T13:19:05.878Z"
   },
   {
    "duration": 0,
    "start_time": "2024-11-04T13:19:05.879Z"
   },
   {
    "duration": 0,
    "start_time": "2024-11-04T13:19:05.880Z"
   },
   {
    "duration": 0,
    "start_time": "2024-11-04T13:19:05.881Z"
   },
   {
    "duration": 0,
    "start_time": "2024-11-04T13:19:05.943Z"
   },
   {
    "duration": 0,
    "start_time": "2024-11-04T13:19:05.944Z"
   },
   {
    "duration": 0,
    "start_time": "2024-11-04T13:19:05.945Z"
   },
   {
    "duration": 0,
    "start_time": "2024-11-04T13:19:05.945Z"
   },
   {
    "duration": 0,
    "start_time": "2024-11-04T13:19:05.946Z"
   },
   {
    "duration": 0,
    "start_time": "2024-11-04T13:19:05.947Z"
   },
   {
    "duration": 0,
    "start_time": "2024-11-04T13:19:05.948Z"
   },
   {
    "duration": 0,
    "start_time": "2024-11-04T13:19:05.949Z"
   },
   {
    "duration": 0,
    "start_time": "2024-11-04T13:19:05.950Z"
   },
   {
    "duration": 0,
    "start_time": "2024-11-04T13:19:05.951Z"
   },
   {
    "duration": 0,
    "start_time": "2024-11-04T13:19:05.952Z"
   },
   {
    "duration": 0,
    "start_time": "2024-11-04T13:19:05.953Z"
   },
   {
    "duration": 0,
    "start_time": "2024-11-04T13:19:05.954Z"
   },
   {
    "duration": 0,
    "start_time": "2024-11-04T13:19:05.955Z"
   },
   {
    "duration": 0,
    "start_time": "2024-11-04T13:19:05.956Z"
   },
   {
    "duration": 0,
    "start_time": "2024-11-04T13:19:05.956Z"
   },
   {
    "duration": 0,
    "start_time": "2024-11-04T13:19:05.957Z"
   },
   {
    "duration": 0,
    "start_time": "2024-11-04T13:19:05.959Z"
   },
   {
    "duration": 0,
    "start_time": "2024-11-04T13:19:05.959Z"
   },
   {
    "duration": 0,
    "start_time": "2024-11-04T13:19:05.960Z"
   },
   {
    "duration": 0,
    "start_time": "2024-11-04T13:19:05.961Z"
   },
   {
    "duration": 0,
    "start_time": "2024-11-04T13:19:05.962Z"
   },
   {
    "duration": 0,
    "start_time": "2024-11-04T13:19:05.963Z"
   },
   {
    "duration": 0,
    "start_time": "2024-11-04T13:19:05.964Z"
   },
   {
    "duration": 0,
    "start_time": "2024-11-04T13:19:05.965Z"
   },
   {
    "duration": 0,
    "start_time": "2024-11-04T13:19:05.966Z"
   },
   {
    "duration": 0,
    "start_time": "2024-11-04T13:19:05.968Z"
   },
   {
    "duration": 0,
    "start_time": "2024-11-04T13:19:05.969Z"
   },
   {
    "duration": 0,
    "start_time": "2024-11-04T13:19:05.970Z"
   },
   {
    "duration": 0,
    "start_time": "2024-11-04T13:19:05.971Z"
   },
   {
    "duration": 0,
    "start_time": "2024-11-04T13:19:05.973Z"
   },
   {
    "duration": 0,
    "start_time": "2024-11-04T13:19:05.974Z"
   },
   {
    "duration": 0,
    "start_time": "2024-11-04T13:19:05.976Z"
   },
   {
    "duration": 0,
    "start_time": "2024-11-04T13:19:05.977Z"
   },
   {
    "duration": 0,
    "start_time": "2024-11-04T13:19:05.978Z"
   },
   {
    "duration": 0,
    "start_time": "2024-11-04T13:19:05.980Z"
   },
   {
    "duration": 0,
    "start_time": "2024-11-04T13:19:05.981Z"
   },
   {
    "duration": 0,
    "start_time": "2024-11-04T13:19:06.043Z"
   },
   {
    "duration": 0,
    "start_time": "2024-11-04T13:19:06.044Z"
   },
   {
    "duration": 0,
    "start_time": "2024-11-04T13:19:06.046Z"
   },
   {
    "duration": 0,
    "start_time": "2024-11-04T13:19:06.047Z"
   },
   {
    "duration": 0,
    "start_time": "2024-11-04T13:19:06.049Z"
   },
   {
    "duration": 0,
    "start_time": "2024-11-04T13:19:06.050Z"
   },
   {
    "duration": 1,
    "start_time": "2024-11-04T13:19:06.051Z"
   },
   {
    "duration": 0,
    "start_time": "2024-11-04T13:19:06.053Z"
   },
   {
    "duration": 0,
    "start_time": "2024-11-04T13:19:06.054Z"
   },
   {
    "duration": 0,
    "start_time": "2024-11-04T13:19:06.055Z"
   },
   {
    "duration": 0,
    "start_time": "2024-11-04T13:19:06.057Z"
   },
   {
    "duration": 0,
    "start_time": "2024-11-04T13:19:06.058Z"
   },
   {
    "duration": 0,
    "start_time": "2024-11-04T13:19:06.059Z"
   },
   {
    "duration": 0,
    "start_time": "2024-11-04T13:19:06.061Z"
   },
   {
    "duration": 0,
    "start_time": "2024-11-04T13:19:06.062Z"
   },
   {
    "duration": 1572,
    "start_time": "2024-11-04T13:20:47.118Z"
   },
   {
    "duration": 4,
    "start_time": "2024-11-04T13:20:48.692Z"
   },
   {
    "duration": 992,
    "start_time": "2024-11-04T13:20:48.698Z"
   },
   {
    "duration": 17,
    "start_time": "2024-11-04T13:20:49.692Z"
   },
   {
    "duration": 73,
    "start_time": "2024-11-04T13:20:49.711Z"
   },
   {
    "duration": 149,
    "start_time": "2024-11-04T13:20:49.785Z"
   },
   {
    "duration": 185,
    "start_time": "2024-11-04T13:20:49.936Z"
   },
   {
    "duration": 489,
    "start_time": "2024-11-04T13:20:50.122Z"
   },
   {
    "duration": 1062,
    "start_time": "2024-11-04T13:20:50.612Z"
   },
   {
    "duration": 211,
    "start_time": "2024-11-04T13:20:51.677Z"
   },
   {
    "duration": 3,
    "start_time": "2024-11-04T13:20:51.889Z"
   },
   {
    "duration": 108,
    "start_time": "2024-11-04T13:20:51.893Z"
   },
   {
    "duration": 47,
    "start_time": "2024-11-04T13:20:52.002Z"
   },
   {
    "duration": 6,
    "start_time": "2024-11-04T13:20:52.051Z"
   },
   {
    "duration": 105,
    "start_time": "2024-11-04T13:20:52.059Z"
   },
   {
    "duration": 120,
    "start_time": "2024-11-04T13:20:52.166Z"
   },
   {
    "duration": 44,
    "start_time": "2024-11-04T13:20:52.287Z"
   },
   {
    "duration": 140,
    "start_time": "2024-11-04T13:20:52.333Z"
   },
   {
    "duration": 40,
    "start_time": "2024-11-04T13:20:52.474Z"
   },
   {
    "duration": 147,
    "start_time": "2024-11-04T13:20:52.515Z"
   },
   {
    "duration": 116,
    "start_time": "2024-11-04T13:20:52.663Z"
   },
   {
    "duration": 114,
    "start_time": "2024-11-04T13:20:52.780Z"
   },
   {
    "duration": 94,
    "start_time": "2024-11-04T13:20:52.896Z"
   },
   {
    "duration": 972,
    "start_time": "2024-11-04T13:20:52.991Z"
   },
   {
    "duration": 12,
    "start_time": "2024-11-04T13:20:53.965Z"
   },
   {
    "duration": 21,
    "start_time": "2024-11-04T13:20:53.979Z"
   },
   {
    "duration": 28,
    "start_time": "2024-11-04T13:20:54.001Z"
   },
   {
    "duration": 916,
    "start_time": "2024-11-04T13:20:54.042Z"
   },
   {
    "duration": 117,
    "start_time": "2024-11-04T13:20:54.960Z"
   },
   {
    "duration": 8,
    "start_time": "2024-11-04T13:20:55.079Z"
   },
   {
    "duration": 9,
    "start_time": "2024-11-04T13:20:55.088Z"
   },
   {
    "duration": 18,
    "start_time": "2024-11-04T13:20:55.099Z"
   },
   {
    "duration": 51,
    "start_time": "2024-11-04T13:20:55.118Z"
   },
   {
    "duration": 35,
    "start_time": "2024-11-04T13:20:55.172Z"
   },
   {
    "duration": 621,
    "start_time": "2024-11-04T13:20:55.209Z"
   },
   {
    "duration": 108,
    "start_time": "2024-11-04T13:20:55.832Z"
   },
   {
    "duration": 30,
    "start_time": "2024-11-04T13:20:55.943Z"
   },
   {
    "duration": 206,
    "start_time": "2024-11-04T13:20:55.975Z"
   },
   {
    "duration": 10,
    "start_time": "2024-11-04T13:20:56.183Z"
   },
   {
    "duration": 253,
    "start_time": "2024-11-04T13:20:56.195Z"
   },
   {
    "duration": 3,
    "start_time": "2024-11-04T13:20:56.450Z"
   },
   {
    "duration": 109,
    "start_time": "2024-11-04T13:20:56.455Z"
   },
   {
    "duration": 15,
    "start_time": "2024-11-04T13:20:56.566Z"
   },
   {
    "duration": 158,
    "start_time": "2024-11-04T13:20:56.583Z"
   },
   {
    "duration": 11,
    "start_time": "2024-11-04T13:20:56.743Z"
   },
   {
    "duration": 43,
    "start_time": "2024-11-04T13:20:56.755Z"
   },
   {
    "duration": 114,
    "start_time": "2024-11-04T13:20:56.800Z"
   },
   {
    "duration": 8,
    "start_time": "2024-11-04T13:20:56.915Z"
   },
   {
    "duration": 41,
    "start_time": "2024-11-04T13:20:56.924Z"
   },
   {
    "duration": 62,
    "start_time": "2024-11-04T13:20:56.967Z"
   },
   {
    "duration": 9,
    "start_time": "2024-11-04T13:20:57.031Z"
   },
   {
    "duration": 16,
    "start_time": "2024-11-04T13:20:57.042Z"
   },
   {
    "duration": 65,
    "start_time": "2024-11-04T13:20:57.059Z"
   },
   {
    "duration": 9,
    "start_time": "2024-11-04T13:20:57.125Z"
   },
   {
    "duration": 759,
    "start_time": "2024-11-04T13:20:57.143Z"
   },
   {
    "duration": 20,
    "start_time": "2024-11-04T13:20:57.904Z"
   },
   {
    "duration": 17,
    "start_time": "2024-11-04T13:20:57.926Z"
   },
   {
    "duration": 73,
    "start_time": "2024-11-04T13:20:57.944Z"
   },
   {
    "duration": 324,
    "start_time": "2024-11-04T13:20:58.019Z"
   },
   {
    "duration": 3,
    "start_time": "2024-11-04T13:20:58.344Z"
   },
   {
    "duration": 3395,
    "start_time": "2024-11-04T13:20:58.348Z"
   },
   {
    "duration": 3,
    "start_time": "2024-11-04T13:21:01.745Z"
   },
   {
    "duration": 21,
    "start_time": "2024-11-04T13:21:01.751Z"
   },
   {
    "duration": 13073,
    "start_time": "2024-11-04T13:21:01.775Z"
   },
   {
    "duration": 6,
    "start_time": "2024-11-04T13:21:14.851Z"
   },
   {
    "duration": 9,
    "start_time": "2024-11-04T13:21:14.944Z"
   },
   {
    "duration": 87,
    "start_time": "2024-11-04T13:21:14.958Z"
   },
   {
    "duration": 17385,
    "start_time": "2024-11-04T13:21:15.047Z"
   },
   {
    "duration": 11,
    "start_time": "2024-11-04T13:21:32.434Z"
   },
   {
    "duration": 133714,
    "start_time": "2024-11-04T13:21:32.446Z"
   },
   {
    "duration": 2,
    "start_time": "2024-11-04T13:23:46.162Z"
   },
   {
    "duration": 447,
    "start_time": "2024-11-04T13:23:46.166Z"
   },
   {
    "duration": 3658,
    "start_time": "2024-11-04T13:23:46.615Z"
   },
   {
    "duration": 3,
    "start_time": "2024-11-04T13:23:50.275Z"
   },
   {
    "duration": 27,
    "start_time": "2024-11-04T13:23:50.279Z"
   },
   {
    "duration": 11,
    "start_time": "2024-11-04T13:23:50.307Z"
   },
   {
    "duration": 27,
    "start_time": "2024-11-04T13:23:50.319Z"
   },
   {
    "duration": 215318,
    "start_time": "2024-11-04T13:23:50.348Z"
   },
   {
    "duration": 3,
    "start_time": "2024-11-04T13:27:25.668Z"
   },
   {
    "duration": 68,
    "start_time": "2024-11-04T13:27:25.672Z"
   },
   {
    "duration": 5348,
    "start_time": "2024-11-04T13:27:25.741Z"
   },
   {
    "duration": 2,
    "start_time": "2024-11-04T13:27:31.094Z"
   },
   {
    "duration": 22,
    "start_time": "2024-11-04T13:27:31.098Z"
   },
   {
    "duration": 31,
    "start_time": "2024-11-04T13:27:31.122Z"
   },
   {
    "duration": 27,
    "start_time": "2024-11-04T13:27:31.154Z"
   },
   {
    "duration": 1717,
    "start_time": "2024-11-04T18:41:49.286Z"
   },
   {
    "duration": 4,
    "start_time": "2024-11-04T18:41:51.005Z"
   },
   {
    "duration": 1420,
    "start_time": "2024-11-04T18:41:51.011Z"
   },
   {
    "duration": 17,
    "start_time": "2024-11-04T18:41:52.433Z"
   },
   {
    "duration": 86,
    "start_time": "2024-11-04T18:41:52.452Z"
   },
   {
    "duration": 107,
    "start_time": "2024-11-04T18:41:52.540Z"
   },
   {
    "duration": 158,
    "start_time": "2024-11-04T18:41:52.649Z"
   },
   {
    "duration": 508,
    "start_time": "2024-11-04T18:41:52.809Z"
   },
   {
    "duration": 1044,
    "start_time": "2024-11-04T18:41:53.319Z"
   },
   {
    "duration": 191,
    "start_time": "2024-11-04T18:41:54.366Z"
   },
   {
    "duration": 3,
    "start_time": "2024-11-04T18:41:54.559Z"
   },
   {
    "duration": 119,
    "start_time": "2024-11-04T18:41:54.564Z"
   },
   {
    "duration": 41,
    "start_time": "2024-11-04T18:41:54.685Z"
   },
   {
    "duration": 5,
    "start_time": "2024-11-04T18:41:54.728Z"
   },
   {
    "duration": 116,
    "start_time": "2024-11-04T18:41:54.735Z"
   },
   {
    "duration": 124,
    "start_time": "2024-11-04T18:41:54.853Z"
   },
   {
    "duration": 49,
    "start_time": "2024-11-04T18:41:54.979Z"
   },
   {
    "duration": 185,
    "start_time": "2024-11-04T18:41:55.030Z"
   },
   {
    "duration": 40,
    "start_time": "2024-11-04T18:41:55.217Z"
   },
   {
    "duration": 141,
    "start_time": "2024-11-04T18:41:55.258Z"
   },
   {
    "duration": 119,
    "start_time": "2024-11-04T18:41:55.401Z"
   },
   {
    "duration": 120,
    "start_time": "2024-11-04T18:41:55.522Z"
   },
   {
    "duration": 100,
    "start_time": "2024-11-04T18:41:55.644Z"
   },
   {
    "duration": 1013,
    "start_time": "2024-11-04T18:41:55.745Z"
   },
   {
    "duration": 11,
    "start_time": "2024-11-04T18:41:56.760Z"
   },
   {
    "duration": 28,
    "start_time": "2024-11-04T18:41:56.773Z"
   },
   {
    "duration": 31,
    "start_time": "2024-11-04T18:41:56.803Z"
   },
   {
    "duration": 950,
    "start_time": "2024-11-04T18:41:56.839Z"
   },
   {
    "duration": 122,
    "start_time": "2024-11-04T18:41:57.791Z"
   },
   {
    "duration": 10,
    "start_time": "2024-11-04T18:41:57.915Z"
   },
   {
    "duration": 15,
    "start_time": "2024-11-04T18:41:57.927Z"
   },
   {
    "duration": 27,
    "start_time": "2024-11-04T18:41:57.943Z"
   },
   {
    "duration": 37,
    "start_time": "2024-11-04T18:41:57.972Z"
   },
   {
    "duration": 34,
    "start_time": "2024-11-04T18:41:58.010Z"
   },
   {
    "duration": 625,
    "start_time": "2024-11-04T18:41:58.046Z"
   },
   {
    "duration": 121,
    "start_time": "2024-11-04T18:41:58.673Z"
   },
   {
    "duration": 33,
    "start_time": "2024-11-04T18:41:58.798Z"
   },
   {
    "duration": 223,
    "start_time": "2024-11-04T18:41:58.833Z"
   },
   {
    "duration": 12,
    "start_time": "2024-11-04T18:41:59.058Z"
   },
   {
    "duration": 280,
    "start_time": "2024-11-04T18:41:59.072Z"
   },
   {
    "duration": 4,
    "start_time": "2024-11-04T18:41:59.354Z"
   },
   {
    "duration": 104,
    "start_time": "2024-11-04T18:41:59.360Z"
   },
   {
    "duration": 6,
    "start_time": "2024-11-04T18:41:59.466Z"
   },
   {
    "duration": 75,
    "start_time": "2024-11-04T18:41:59.474Z"
   },
   {
    "duration": 12,
    "start_time": "2024-11-04T18:41:59.551Z"
   },
   {
    "duration": 55,
    "start_time": "2024-11-04T18:41:59.565Z"
   },
   {
    "duration": 151,
    "start_time": "2024-11-04T18:41:59.622Z"
   },
   {
    "duration": 8,
    "start_time": "2024-11-04T18:41:59.774Z"
   },
   {
    "duration": 31,
    "start_time": "2024-11-04T18:41:59.784Z"
   },
   {
    "duration": 71,
    "start_time": "2024-11-04T18:41:59.817Z"
   },
   {
    "duration": 9,
    "start_time": "2024-11-04T18:41:59.890Z"
   },
   {
    "duration": 9,
    "start_time": "2024-11-04T18:41:59.900Z"
   },
   {
    "duration": 61,
    "start_time": "2024-11-04T18:41:59.910Z"
   },
   {
    "duration": 8,
    "start_time": "2024-11-04T18:41:59.973Z"
   },
   {
    "duration": 773,
    "start_time": "2024-11-04T18:41:59.982Z"
   },
   {
    "duration": 29,
    "start_time": "2024-11-04T18:42:00.756Z"
   },
   {
    "duration": 17,
    "start_time": "2024-11-04T18:42:00.786Z"
   },
   {
    "duration": 93,
    "start_time": "2024-11-04T18:42:00.805Z"
   },
   {
    "duration": 315,
    "start_time": "2024-11-04T18:42:00.900Z"
   },
   {
    "duration": 2,
    "start_time": "2024-11-04T18:42:01.217Z"
   },
   {
    "duration": 3192,
    "start_time": "2024-11-04T18:42:01.220Z"
   },
   {
    "duration": 84,
    "start_time": "2024-11-04T18:42:04.414Z"
   },
   {
    "duration": 25,
    "start_time": "2024-11-04T18:42:04.499Z"
   },
   {
    "duration": 15880,
    "start_time": "2024-11-04T18:42:04.526Z"
   },
   {
    "duration": 8,
    "start_time": "2024-11-04T18:42:20.500Z"
   },
   {
    "duration": 4,
    "start_time": "2024-11-04T18:42:20.598Z"
   },
   {
    "duration": 17,
    "start_time": "2024-11-04T18:42:20.603Z"
   },
   {
    "duration": 18176,
    "start_time": "2024-11-04T18:42:20.622Z"
   },
   {
    "duration": 11,
    "start_time": "2024-11-04T18:42:38.800Z"
   },
   {
    "duration": 141920,
    "start_time": "2024-11-04T18:42:38.813Z"
   },
   {
    "duration": 3,
    "start_time": "2024-11-04T18:45:00.734Z"
   },
   {
    "duration": 504,
    "start_time": "2024-11-04T18:45:00.739Z"
   },
   {
    "duration": 3804,
    "start_time": "2024-11-04T18:45:01.245Z"
   },
   {
    "duration": 3,
    "start_time": "2024-11-04T18:45:05.050Z"
   },
   {
    "duration": 50,
    "start_time": "2024-11-04T18:45:05.054Z"
   },
   {
    "duration": 28,
    "start_time": "2024-11-04T18:45:05.106Z"
   },
   {
    "duration": 32,
    "start_time": "2024-11-04T18:45:05.135Z"
   },
   {
    "duration": 223354,
    "start_time": "2024-11-04T18:45:05.169Z"
   },
   {
    "duration": 2,
    "start_time": "2024-11-04T18:48:48.525Z"
   },
   {
    "duration": 70,
    "start_time": "2024-11-04T18:48:48.528Z"
   },
   {
    "duration": 5527,
    "start_time": "2024-11-04T18:48:48.599Z"
   },
   {
    "duration": 2,
    "start_time": "2024-11-04T18:48:54.132Z"
   },
   {
    "duration": 8,
    "start_time": "2024-11-04T18:48:54.135Z"
   },
   {
    "duration": 36,
    "start_time": "2024-11-04T18:48:54.144Z"
   },
   {
    "duration": 56,
    "start_time": "2024-11-04T18:48:54.182Z"
   },
   {
    "duration": 54272,
    "start_time": "2024-11-04T18:48:54.240Z"
   },
   {
    "duration": 3,
    "start_time": "2024-11-04T18:49:48.513Z"
   },
   {
    "duration": 488,
    "start_time": "2024-11-04T18:49:48.517Z"
   },
   {
    "duration": 3594,
    "start_time": "2024-11-04T18:49:49.007Z"
   },
   {
    "duration": 3,
    "start_time": "2024-11-04T18:49:52.603Z"
   },
   {
    "duration": 14,
    "start_time": "2024-11-04T18:49:52.607Z"
   },
   {
    "duration": 19,
    "start_time": "2024-11-04T18:49:52.622Z"
   },
   {
    "duration": 12,
    "start_time": "2024-11-04T18:49:52.643Z"
   },
   {
    "duration": 138983,
    "start_time": "2024-11-04T18:49:52.657Z"
   },
   {
    "duration": 3,
    "start_time": "2024-11-04T18:52:11.641Z"
   },
   {
    "duration": 522,
    "start_time": "2024-11-04T18:52:11.645Z"
   },
   {
    "duration": 3654,
    "start_time": "2024-11-04T18:52:12.168Z"
   },
   {
    "duration": 3,
    "start_time": "2024-11-04T18:52:15.823Z"
   },
   {
    "duration": 25,
    "start_time": "2024-11-04T18:52:15.827Z"
   },
   {
    "duration": 35,
    "start_time": "2024-11-04T18:52:15.853Z"
   },
   {
    "duration": 54,
    "start_time": "2024-11-06T12:33:45.992Z"
   },
   {
    "duration": 7,
    "start_time": "2024-11-06T12:33:57.096Z"
   },
   {
    "duration": 9,
    "start_time": "2024-11-06T12:34:03.116Z"
   },
   {
    "duration": 6,
    "start_time": "2024-11-06T12:34:06.595Z"
   },
   {
    "duration": 6,
    "start_time": "2024-11-06T12:34:11.910Z"
   },
   {
    "duration": 7,
    "start_time": "2024-11-06T12:34:14.505Z"
   },
   {
    "duration": 4,
    "start_time": "2024-11-06T12:34:30.874Z"
   },
   {
    "duration": 6,
    "start_time": "2024-11-06T12:34:31.907Z"
   },
   {
    "duration": 6,
    "start_time": "2024-11-06T12:34:42.905Z"
   },
   {
    "duration": 6,
    "start_time": "2024-11-06T12:34:52.321Z"
   },
   {
    "duration": 6,
    "start_time": "2024-11-06T12:34:58.907Z"
   },
   {
    "duration": 8,
    "start_time": "2024-11-06T12:35:02.779Z"
   },
   {
    "duration": 1850,
    "start_time": "2024-11-06T12:35:16.485Z"
   },
   {
    "duration": 4,
    "start_time": "2024-11-06T12:35:18.336Z"
   },
   {
    "duration": 3146,
    "start_time": "2024-11-06T12:35:22.900Z"
   },
   {
    "duration": 19,
    "start_time": "2024-11-06T12:35:28.415Z"
   },
   {
    "duration": 72,
    "start_time": "2024-11-06T12:35:31.054Z"
   },
   {
    "duration": 93,
    "start_time": "2024-11-06T12:35:32.739Z"
   },
   {
    "duration": 158,
    "start_time": "2024-11-06T12:35:33.828Z"
   },
   {
    "duration": 544,
    "start_time": "2024-11-06T12:35:35.306Z"
   },
   {
    "duration": 1074,
    "start_time": "2024-11-06T12:35:35.927Z"
   },
   {
    "duration": 220,
    "start_time": "2024-11-06T12:35:38.196Z"
   },
   {
    "duration": 4,
    "start_time": "2024-11-06T12:35:38.924Z"
   },
   {
    "duration": 103,
    "start_time": "2024-11-06T12:35:39.533Z"
   },
   {
    "duration": 42,
    "start_time": "2024-11-06T12:35:40.121Z"
   },
   {
    "duration": 4,
    "start_time": "2024-11-06T12:35:41.684Z"
   },
   {
    "duration": 101,
    "start_time": "2024-11-06T12:35:42.376Z"
   },
   {
    "duration": 123,
    "start_time": "2024-11-06T12:35:43.663Z"
   },
   {
    "duration": 43,
    "start_time": "2024-11-06T12:35:44.831Z"
   },
   {
    "duration": 117,
    "start_time": "2024-11-06T12:35:46.096Z"
   },
   {
    "duration": 41,
    "start_time": "2024-11-06T12:35:47.338Z"
   },
   {
    "duration": 117,
    "start_time": "2024-11-06T12:35:48.542Z"
   },
   {
    "duration": 118,
    "start_time": "2024-11-06T12:35:50.000Z"
   },
   {
    "duration": 114,
    "start_time": "2024-11-06T12:35:51.571Z"
   },
   {
    "duration": 97,
    "start_time": "2024-11-06T12:35:53.288Z"
   },
   {
    "duration": 1031,
    "start_time": "2024-11-06T12:35:54.328Z"
   },
   {
    "duration": 9,
    "start_time": "2024-11-06T12:35:55.523Z"
   },
   {
    "duration": 14,
    "start_time": "2024-11-06T12:36:05.742Z"
   },
   {
    "duration": 11,
    "start_time": "2024-11-06T12:36:17.669Z"
   },
   {
    "duration": 13,
    "start_time": "2024-11-06T12:37:11.628Z"
   },
   {
    "duration": 24,
    "start_time": "2024-11-06T12:37:25.323Z"
   },
   {
    "duration": 97,
    "start_time": "2024-11-06T12:38:25.171Z"
   },
   {
    "duration": 983,
    "start_time": "2024-11-06T12:38:28.170Z"
   },
   {
    "duration": 1074,
    "start_time": "2024-11-06T12:38:30.539Z"
   },
   {
    "duration": 1045,
    "start_time": "2024-11-06T12:38:54.241Z"
   },
   {
    "duration": 1122,
    "start_time": "2024-11-06T12:39:03.841Z"
   },
   {
    "duration": 12669,
    "start_time": "2024-11-06T12:39:38.589Z"
   },
   {
    "duration": 1080,
    "start_time": "2024-11-06T12:39:55.454Z"
   },
   {
    "duration": 1437,
    "start_time": "2024-11-06T12:40:59.205Z"
   },
   {
    "duration": 7,
    "start_time": "2024-11-06T12:41:06.077Z"
   },
   {
    "duration": 133,
    "start_time": "2024-11-06T12:41:55.059Z"
   },
   {
    "duration": 8,
    "start_time": "2024-11-06T12:43:37.073Z"
   },
   {
    "duration": 12,
    "start_time": "2024-11-06T12:46:26.291Z"
   },
   {
    "duration": 9,
    "start_time": "2024-11-06T12:49:24.796Z"
   },
   {
    "duration": 10,
    "start_time": "2024-11-06T12:49:32.572Z"
   },
   {
    "duration": 10,
    "start_time": "2024-11-06T12:51:01.777Z"
   },
   {
    "duration": 9,
    "start_time": "2024-11-06T12:52:08.473Z"
   },
   {
    "duration": 9,
    "start_time": "2024-11-06T13:03:25.433Z"
   },
   {
    "duration": 3,
    "start_time": "2024-11-06T13:03:52.346Z"
   },
   {
    "duration": 8,
    "start_time": "2024-11-06T13:04:15.480Z"
   },
   {
    "duration": 11,
    "start_time": "2024-11-06T13:06:04.329Z"
   },
   {
    "duration": 8,
    "start_time": "2024-11-06T13:06:18.775Z"
   },
   {
    "duration": 396,
    "start_time": "2024-11-06T13:07:54.353Z"
   },
   {
    "duration": 145,
    "start_time": "2024-11-06T13:08:07.833Z"
   },
   {
    "duration": 386,
    "start_time": "2024-11-06T13:09:40.371Z"
   },
   {
    "duration": 395,
    "start_time": "2024-11-06T13:09:55.239Z"
   },
   {
    "duration": 515,
    "start_time": "2024-11-06T13:10:45.979Z"
   },
   {
    "duration": 494,
    "start_time": "2024-11-06T13:12:08.684Z"
   },
   {
    "duration": 475,
    "start_time": "2024-11-06T13:12:32.780Z"
   },
   {
    "duration": 570,
    "start_time": "2024-11-06T13:12:53.653Z"
   },
   {
    "duration": 2,
    "start_time": "2024-11-06T13:13:16.679Z"
   },
   {
    "duration": 2,
    "start_time": "2024-11-06T13:19:41.350Z"
   },
   {
    "duration": 23,
    "start_time": "2024-11-06T13:19:42.693Z"
   },
   {
    "duration": 18,
    "start_time": "2024-11-06T13:19:53.360Z"
   },
   {
    "duration": 29,
    "start_time": "2024-11-06T13:20:09.006Z"
   },
   {
    "duration": 16,
    "start_time": "2024-11-06T13:20:11.668Z"
   },
   {
    "duration": 33,
    "start_time": "2024-11-06T13:20:43.404Z"
   },
   {
    "duration": 23,
    "start_time": "2024-11-06T13:26:35.547Z"
   },
   {
    "duration": 24,
    "start_time": "2024-11-06T13:26:43.640Z"
   },
   {
    "duration": 27,
    "start_time": "2024-11-06T13:26:49.655Z"
   },
   {
    "duration": 29,
    "start_time": "2024-11-06T13:26:56.746Z"
   },
   {
    "duration": 1644,
    "start_time": "2024-11-06T13:28:50.492Z"
   },
   {
    "duration": 1683,
    "start_time": "2024-11-06T13:29:01.499Z"
   },
   {
    "duration": 3,
    "start_time": "2024-11-06T13:33:09.498Z"
   },
   {
    "duration": 23,
    "start_time": "2024-11-06T13:33:17.275Z"
   },
   {
    "duration": 627,
    "start_time": "2024-11-06T13:36:30.655Z"
   },
   {
    "duration": 290,
    "start_time": "2024-11-06T13:40:18.496Z"
   },
   {
    "duration": 3,
    "start_time": "2024-11-06T13:40:44.159Z"
   },
   {
    "duration": 280,
    "start_time": "2024-11-06T13:42:56.859Z"
   },
   {
    "duration": 4,
    "start_time": "2024-11-06T13:43:13.320Z"
   },
   {
    "duration": 82,
    "start_time": "2024-11-06T13:43:36.159Z"
   },
   {
    "duration": 11,
    "start_time": "2024-11-06T13:43:48.187Z"
   },
   {
    "duration": 280,
    "start_time": "2024-11-06T13:44:18.023Z"
   },
   {
    "duration": 448,
    "start_time": "2024-11-06T13:44:41.497Z"
   },
   {
    "duration": 6,
    "start_time": "2024-11-06T13:45:21.719Z"
   },
   {
    "duration": 955,
    "start_time": "2024-11-06T13:46:06.006Z"
   },
   {
    "duration": 982,
    "start_time": "2024-11-06T13:46:40.329Z"
   },
   {
    "duration": 12621,
    "start_time": "2024-11-06T13:47:45.291Z"
   },
   {
    "duration": 13131,
    "start_time": "2024-11-06T13:48:39.762Z"
   },
   {
    "duration": 13140,
    "start_time": "2024-11-06T13:49:44.780Z"
   },
   {
    "duration": 13162,
    "start_time": "2024-11-06T13:50:13.767Z"
   },
   {
    "duration": 13461,
    "start_time": "2024-11-06T13:50:37.883Z"
   },
   {
    "duration": 13074,
    "start_time": "2024-11-06T13:51:06.576Z"
   },
   {
    "duration": 13134,
    "start_time": "2024-11-06T13:51:27.349Z"
   },
   {
    "duration": 13114,
    "start_time": "2024-11-06T13:51:59.760Z"
   },
   {
    "duration": 1311,
    "start_time": "2024-11-06T13:52:12.877Z"
   },
   {
    "duration": 128,
    "start_time": "2024-11-06T13:52:30.183Z"
   },
   {
    "duration": 2,
    "start_time": "2024-11-06T13:52:43.270Z"
   },
   {
    "duration": 14,
    "start_time": "2024-11-06T13:53:58.547Z"
   },
   {
    "duration": 228,
    "start_time": "2024-11-06T13:54:15.811Z"
   },
   {
    "duration": 230,
    "start_time": "2024-11-06T13:55:24.855Z"
   },
   {
    "duration": 242,
    "start_time": "2024-11-06T13:55:34.933Z"
   },
   {
    "duration": 13,
    "start_time": "2024-11-06T13:56:00.963Z"
   },
   {
    "duration": 1229,
    "start_time": "2024-11-06T13:56:04.195Z"
   },
   {
    "duration": 133,
    "start_time": "2024-11-06T13:56:15.679Z"
   },
   {
    "duration": 535,
    "start_time": "2024-11-06T13:57:03.648Z"
   },
   {
    "duration": 12,
    "start_time": "2024-11-06T13:58:19.764Z"
   },
   {
    "duration": 134,
    "start_time": "2024-11-06T13:58:23.193Z"
   },
   {
    "duration": 439,
    "start_time": "2024-11-06T13:59:00.316Z"
   },
   {
    "duration": 136,
    "start_time": "2024-11-06T13:59:28.587Z"
   },
   {
    "duration": 3,
    "start_time": "2024-11-06T13:59:40.489Z"
   },
   {
    "duration": 136,
    "start_time": "2024-11-06T13:59:46.934Z"
   },
   {
    "duration": 3,
    "start_time": "2024-11-06T14:00:05.721Z"
   },
   {
    "duration": 3,
    "start_time": "2024-11-06T14:00:24.556Z"
   },
   {
    "duration": 139,
    "start_time": "2024-11-06T14:00:29.336Z"
   },
   {
    "duration": 135,
    "start_time": "2024-11-06T14:01:24.179Z"
   },
   {
    "duration": 144,
    "start_time": "2024-11-06T14:02:18.939Z"
   },
   {
    "duration": 929,
    "start_time": "2024-11-06T14:02:42.065Z"
   },
   {
    "duration": 433,
    "start_time": "2024-11-06T14:02:52.659Z"
   },
   {
    "duration": 931,
    "start_time": "2024-11-06T14:04:26.092Z"
   },
   {
    "duration": 933,
    "start_time": "2024-11-06T14:04:50.712Z"
   },
   {
    "duration": 1312,
    "start_time": "2024-11-06T14:05:15.930Z"
   },
   {
    "duration": 1731,
    "start_time": "2024-11-06T14:05:26.817Z"
   },
   {
    "duration": 458,
    "start_time": "2024-11-06T14:07:35.623Z"
   },
   {
    "duration": 1753,
    "start_time": "2024-11-06T14:07:59.958Z"
   },
   {
    "duration": 4,
    "start_time": "2024-11-06T14:08:01.713Z"
   },
   {
    "duration": 1064,
    "start_time": "2024-11-06T14:08:01.720Z"
   },
   {
    "duration": 17,
    "start_time": "2024-11-06T14:08:02.786Z"
   },
   {
    "duration": 121,
    "start_time": "2024-11-06T14:08:02.805Z"
   },
   {
    "duration": 153,
    "start_time": "2024-11-06T14:08:02.927Z"
   },
   {
    "duration": 169,
    "start_time": "2024-11-06T14:08:03.082Z"
   },
   {
    "duration": 526,
    "start_time": "2024-11-06T14:08:03.253Z"
   },
   {
    "duration": 1129,
    "start_time": "2024-11-06T14:08:03.781Z"
   },
   {
    "duration": 258,
    "start_time": "2024-11-06T14:08:04.912Z"
   },
   {
    "duration": 3,
    "start_time": "2024-11-06T14:08:05.172Z"
   },
   {
    "duration": 124,
    "start_time": "2024-11-06T14:08:05.176Z"
   },
   {
    "duration": 40,
    "start_time": "2024-11-06T14:08:05.302Z"
   },
   {
    "duration": 4,
    "start_time": "2024-11-06T14:08:05.344Z"
   },
   {
    "duration": 133,
    "start_time": "2024-11-06T14:08:05.350Z"
   },
   {
    "duration": 138,
    "start_time": "2024-11-06T14:08:05.484Z"
   },
   {
    "duration": 41,
    "start_time": "2024-11-06T14:08:05.623Z"
   },
   {
    "duration": 190,
    "start_time": "2024-11-06T14:08:05.666Z"
   },
   {
    "duration": 43,
    "start_time": "2024-11-06T14:08:05.858Z"
   },
   {
    "duration": 132,
    "start_time": "2024-11-06T14:08:05.921Z"
   },
   {
    "duration": 126,
    "start_time": "2024-11-06T14:08:06.055Z"
   },
   {
    "duration": 125,
    "start_time": "2024-11-06T14:08:06.183Z"
   },
   {
    "duration": 103,
    "start_time": "2024-11-06T14:08:06.310Z"
   },
   {
    "duration": 1046,
    "start_time": "2024-11-06T14:08:06.415Z"
   },
   {
    "duration": 11,
    "start_time": "2024-11-06T14:08:07.463Z"
   },
   {
    "duration": 29,
    "start_time": "2024-11-06T14:08:07.476Z"
   },
   {
    "duration": 27,
    "start_time": "2024-11-06T14:08:07.507Z"
   },
   {
    "duration": 1023,
    "start_time": "2024-11-06T14:08:07.538Z"
   },
   {
    "duration": 523,
    "start_time": "2024-11-06T14:08:08.562Z"
   },
   {
    "duration": 2,
    "start_time": "2024-11-06T14:08:09.087Z"
   },
   {
    "duration": 33,
    "start_time": "2024-11-06T14:08:09.090Z"
   },
   {
    "duration": 48,
    "start_time": "2024-11-06T14:08:09.124Z"
   },
   {
    "duration": 28,
    "start_time": "2024-11-06T14:08:09.173Z"
   },
   {
    "duration": 44,
    "start_time": "2024-11-06T14:08:09.203Z"
   },
   {
    "duration": 32,
    "start_time": "2024-11-06T14:08:09.249Z"
   },
   {
    "duration": 4,
    "start_time": "2024-11-06T14:08:09.283Z"
   },
   {
    "duration": 37,
    "start_time": "2024-11-06T14:08:09.289Z"
   },
   {
    "duration": 3,
    "start_time": "2024-11-06T14:08:09.328Z"
   },
   {
    "duration": 298,
    "start_time": "2024-11-06T14:08:09.333Z"
   },
   {
    "duration": 1046,
    "start_time": "2024-11-06T14:08:09.633Z"
   },
   {
    "duration": 386,
    "start_time": "2024-11-06T14:08:10.681Z"
   },
   {
    "duration": 3,
    "start_time": "2024-11-06T14:08:11.069Z"
   },
   {
    "duration": 49,
    "start_time": "2024-11-06T14:08:11.074Z"
   },
   {
    "duration": 231,
    "start_time": "2024-11-06T14:08:11.124Z"
   },
   {
    "duration": 12,
    "start_time": "2024-11-06T14:08:11.357Z"
   },
   {
    "duration": 154,
    "start_time": "2024-11-06T14:08:11.371Z"
   },
   {
    "duration": 156,
    "start_time": "2024-11-06T14:08:11.527Z"
   },
   {
    "duration": 4,
    "start_time": "2024-11-06T14:08:11.685Z"
   },
   {
    "duration": 135,
    "start_time": "2024-11-06T14:08:11.690Z"
   },
   {
    "duration": 6,
    "start_time": "2024-11-06T14:08:11.827Z"
   },
   {
    "duration": 93,
    "start_time": "2024-11-06T14:08:11.835Z"
   },
   {
    "duration": 11,
    "start_time": "2024-11-06T14:08:11.929Z"
   },
   {
    "duration": 40,
    "start_time": "2024-11-06T14:08:11.942Z"
   },
   {
    "duration": 116,
    "start_time": "2024-11-06T14:08:11.983Z"
   },
   {
    "duration": 9,
    "start_time": "2024-11-06T14:08:12.100Z"
   },
   {
    "duration": 12,
    "start_time": "2024-11-06T14:08:12.110Z"
   },
   {
    "duration": 61,
    "start_time": "2024-11-06T14:08:12.123Z"
   },
   {
    "duration": 10,
    "start_time": "2024-11-06T14:08:12.185Z"
   },
   {
    "duration": 27,
    "start_time": "2024-11-06T14:08:12.196Z"
   },
   {
    "duration": 57,
    "start_time": "2024-11-06T14:08:12.225Z"
   },
   {
    "duration": 8,
    "start_time": "2024-11-06T14:08:12.283Z"
   },
   {
    "duration": 2,
    "start_time": "2024-11-06T14:08:12.293Z"
   },
   {
    "duration": 153,
    "start_time": "2024-11-06T14:08:12.296Z"
   },
   {
    "duration": 0,
    "start_time": "2024-11-06T14:08:12.453Z"
   },
   {
    "duration": 0,
    "start_time": "2024-11-06T14:08:12.454Z"
   },
   {
    "duration": 0,
    "start_time": "2024-11-06T14:08:12.456Z"
   },
   {
    "duration": 0,
    "start_time": "2024-11-06T14:08:12.457Z"
   },
   {
    "duration": 0,
    "start_time": "2024-11-06T14:08:12.458Z"
   },
   {
    "duration": 0,
    "start_time": "2024-11-06T14:08:12.459Z"
   },
   {
    "duration": 0,
    "start_time": "2024-11-06T14:08:12.460Z"
   },
   {
    "duration": 0,
    "start_time": "2024-11-06T14:08:12.461Z"
   },
   {
    "duration": 0,
    "start_time": "2024-11-06T14:08:12.462Z"
   },
   {
    "duration": 0,
    "start_time": "2024-11-06T14:08:12.463Z"
   },
   {
    "duration": 0,
    "start_time": "2024-11-06T14:08:12.464Z"
   },
   {
    "duration": 0,
    "start_time": "2024-11-06T14:08:12.466Z"
   },
   {
    "duration": 0,
    "start_time": "2024-11-06T14:08:12.467Z"
   },
   {
    "duration": 0,
    "start_time": "2024-11-06T14:08:12.468Z"
   },
   {
    "duration": 0,
    "start_time": "2024-11-06T14:08:12.469Z"
   },
   {
    "duration": 0,
    "start_time": "2024-11-06T14:08:12.470Z"
   },
   {
    "duration": 0,
    "start_time": "2024-11-06T14:08:12.471Z"
   },
   {
    "duration": 0,
    "start_time": "2024-11-06T14:08:12.473Z"
   },
   {
    "duration": 0,
    "start_time": "2024-11-06T14:08:12.474Z"
   },
   {
    "duration": 0,
    "start_time": "2024-11-06T14:08:12.475Z"
   },
   {
    "duration": 0,
    "start_time": "2024-11-06T14:08:12.476Z"
   },
   {
    "duration": 0,
    "start_time": "2024-11-06T14:08:12.521Z"
   },
   {
    "duration": 0,
    "start_time": "2024-11-06T14:08:12.522Z"
   },
   {
    "duration": 0,
    "start_time": "2024-11-06T14:08:12.523Z"
   },
   {
    "duration": 0,
    "start_time": "2024-11-06T14:08:12.524Z"
   },
   {
    "duration": 0,
    "start_time": "2024-11-06T14:08:12.525Z"
   },
   {
    "duration": 0,
    "start_time": "2024-11-06T14:08:12.527Z"
   },
   {
    "duration": 0,
    "start_time": "2024-11-06T14:08:12.528Z"
   },
   {
    "duration": 0,
    "start_time": "2024-11-06T14:08:12.529Z"
   },
   {
    "duration": 0,
    "start_time": "2024-11-06T14:08:12.530Z"
   },
   {
    "duration": 0,
    "start_time": "2024-11-06T14:08:12.531Z"
   },
   {
    "duration": 0,
    "start_time": "2024-11-06T14:08:12.532Z"
   },
   {
    "duration": 0,
    "start_time": "2024-11-06T14:08:12.533Z"
   },
   {
    "duration": 0,
    "start_time": "2024-11-06T14:08:12.534Z"
   },
   {
    "duration": 0,
    "start_time": "2024-11-06T14:08:12.535Z"
   },
   {
    "duration": 0,
    "start_time": "2024-11-06T14:08:12.536Z"
   },
   {
    "duration": 0,
    "start_time": "2024-11-06T14:08:12.537Z"
   },
   {
    "duration": 0,
    "start_time": "2024-11-06T14:08:12.538Z"
   },
   {
    "duration": 0,
    "start_time": "2024-11-06T14:08:12.539Z"
   },
   {
    "duration": 0,
    "start_time": "2024-11-06T14:08:12.540Z"
   },
   {
    "duration": 0,
    "start_time": "2024-11-06T14:08:12.541Z"
   },
   {
    "duration": 0,
    "start_time": "2024-11-06T14:08:12.542Z"
   },
   {
    "duration": 0,
    "start_time": "2024-11-06T14:08:12.544Z"
   },
   {
    "duration": 0,
    "start_time": "2024-11-06T14:08:12.545Z"
   },
   {
    "duration": 0,
    "start_time": "2024-11-06T14:08:12.546Z"
   },
   {
    "duration": 155,
    "start_time": "2024-11-06T14:18:24.519Z"
   },
   {
    "duration": 82,
    "start_time": "2024-11-06T14:20:05.262Z"
   },
   {
    "duration": 237,
    "start_time": "2024-11-06T14:20:27.148Z"
   },
   {
    "duration": 94,
    "start_time": "2024-11-06T14:20:34.738Z"
   },
   {
    "duration": 190,
    "start_time": "2024-11-06T14:21:22.272Z"
   },
   {
    "duration": 69,
    "start_time": "2024-11-06T14:21:26.595Z"
   },
   {
    "duration": 79,
    "start_time": "2024-11-06T14:22:40.214Z"
   },
   {
    "duration": 92,
    "start_time": "2024-11-06T14:23:05.688Z"
   },
   {
    "duration": 213,
    "start_time": "2024-11-06T14:23:20.460Z"
   },
   {
    "duration": 276,
    "start_time": "2024-11-06T14:23:33.467Z"
   },
   {
    "duration": 75,
    "start_time": "2024-11-06T14:23:41.832Z"
   },
   {
    "duration": 95,
    "start_time": "2024-11-06T14:23:50.276Z"
   },
   {
    "duration": 77,
    "start_time": "2024-11-06T14:23:55.806Z"
   },
   {
    "duration": 275,
    "start_time": "2024-11-06T14:23:58.831Z"
   },
   {
    "duration": 191,
    "start_time": "2024-11-06T14:24:07.084Z"
   },
   {
    "duration": 202,
    "start_time": "2024-11-06T14:24:24.384Z"
   },
   {
    "duration": 11,
    "start_time": "2024-11-06T14:26:21.203Z"
   },
   {
    "duration": 2,
    "start_time": "2024-11-06T14:31:02.679Z"
   },
   {
    "duration": 2,
    "start_time": "2024-11-06T14:31:03.560Z"
   },
   {
    "duration": 2,
    "start_time": "2024-11-06T14:31:04.833Z"
   },
   {
    "duration": 2,
    "start_time": "2024-11-06T14:31:05.351Z"
   },
   {
    "duration": 2,
    "start_time": "2024-11-06T14:31:05.735Z"
   },
   {
    "duration": 3,
    "start_time": "2024-11-06T14:31:06.750Z"
   },
   {
    "duration": 2,
    "start_time": "2024-11-06T14:31:07.320Z"
   },
   {
    "duration": 2,
    "start_time": "2024-11-06T14:31:07.666Z"
   },
   {
    "duration": 2,
    "start_time": "2024-11-06T14:31:08.521Z"
   },
   {
    "duration": 3,
    "start_time": "2024-11-06T14:31:08.994Z"
   },
   {
    "duration": 2,
    "start_time": "2024-11-06T14:31:09.315Z"
   },
   {
    "duration": 2,
    "start_time": "2024-11-06T14:31:10.163Z"
   },
   {
    "duration": 3,
    "start_time": "2024-11-06T14:31:10.692Z"
   },
   {
    "duration": 3,
    "start_time": "2024-11-06T14:31:11.137Z"
   },
   {
    "duration": 20,
    "start_time": "2024-11-06T14:33:53.743Z"
   },
   {
    "duration": 14,
    "start_time": "2024-11-06T14:34:48.898Z"
   },
   {
    "duration": 13,
    "start_time": "2024-11-06T14:35:31.416Z"
   },
   {
    "duration": 3,
    "start_time": "2024-11-06T14:37:17.784Z"
   },
   {
    "duration": 225,
    "start_time": "2024-11-06T14:37:18.831Z"
   },
   {
    "duration": 15,
    "start_time": "2024-11-06T14:37:23.764Z"
   },
   {
    "duration": 13,
    "start_time": "2024-11-06T14:37:37.683Z"
   },
   {
    "duration": 237,
    "start_time": "2024-11-06T14:37:39.495Z"
   },
   {
    "duration": 12,
    "start_time": "2024-11-06T14:37:46.873Z"
   },
   {
    "duration": 149,
    "start_time": "2024-11-06T14:38:05.909Z"
   },
   {
    "duration": 23,
    "start_time": "2024-11-06T14:38:21.261Z"
   },
   {
    "duration": 233,
    "start_time": "2024-11-06T14:38:22.664Z"
   },
   {
    "duration": 18,
    "start_time": "2024-11-06T14:38:26.541Z"
   },
   {
    "duration": 140,
    "start_time": "2024-11-06T14:38:28.369Z"
   },
   {
    "duration": 224,
    "start_time": "2024-11-06T14:38:48.409Z"
   },
   {
    "duration": 11,
    "start_time": "2024-11-06T14:38:56.248Z"
   },
   {
    "duration": 148,
    "start_time": "2024-11-06T14:39:06.547Z"
   },
   {
    "duration": 156,
    "start_time": "2024-11-06T14:39:24.635Z"
   },
   {
    "duration": 154,
    "start_time": "2024-11-06T14:39:35.987Z"
   },
   {
    "duration": 145,
    "start_time": "2024-11-06T14:39:45.787Z"
   },
   {
    "duration": 12,
    "start_time": "2024-11-06T14:40:10.331Z"
   },
   {
    "duration": 11,
    "start_time": "2024-11-06T14:40:14.601Z"
   },
   {
    "duration": 22,
    "start_time": "2024-11-06T14:40:24.703Z"
   },
   {
    "duration": 89,
    "start_time": "2024-11-06T14:42:34.749Z"
   },
   {
    "duration": 209,
    "start_time": "2024-11-06T14:43:31.997Z"
   },
   {
    "duration": 79,
    "start_time": "2024-11-06T14:43:46.595Z"
   },
   {
    "duration": 77,
    "start_time": "2024-11-06T14:44:22.553Z"
   },
   {
    "duration": 75,
    "start_time": "2024-11-06T14:44:28.035Z"
   },
   {
    "duration": 10,
    "start_time": "2024-11-06T14:46:01.886Z"
   },
   {
    "duration": 18,
    "start_time": "2024-11-06T14:46:23.187Z"
   },
   {
    "duration": 12,
    "start_time": "2024-11-06T14:46:58.648Z"
   },
   {
    "duration": 7,
    "start_time": "2024-11-06T14:48:38.988Z"
   },
   {
    "duration": 1839,
    "start_time": "2024-11-06T14:48:46.564Z"
   },
   {
    "duration": 4,
    "start_time": "2024-11-06T14:48:48.406Z"
   },
   {
    "duration": 986,
    "start_time": "2024-11-06T14:48:48.412Z"
   },
   {
    "duration": 28,
    "start_time": "2024-11-06T14:48:49.400Z"
   },
   {
    "duration": 76,
    "start_time": "2024-11-06T14:48:49.430Z"
   },
   {
    "duration": 101,
    "start_time": "2024-11-06T14:48:49.508Z"
   },
   {
    "duration": 165,
    "start_time": "2024-11-06T14:48:49.610Z"
   },
   {
    "duration": 525,
    "start_time": "2024-11-06T14:48:49.777Z"
   },
   {
    "duration": 1077,
    "start_time": "2024-11-06T14:48:50.303Z"
   },
   {
    "duration": 244,
    "start_time": "2024-11-06T14:48:51.383Z"
   },
   {
    "duration": 3,
    "start_time": "2024-11-06T14:48:51.629Z"
   },
   {
    "duration": 131,
    "start_time": "2024-11-06T14:48:51.633Z"
   },
   {
    "duration": 38,
    "start_time": "2024-11-06T14:48:51.766Z"
   },
   {
    "duration": 19,
    "start_time": "2024-11-06T14:48:51.806Z"
   },
   {
    "duration": 231,
    "start_time": "2024-11-06T14:48:51.827Z"
   },
   {
    "duration": 176,
    "start_time": "2024-11-06T14:48:52.060Z"
   },
   {
    "duration": 65,
    "start_time": "2024-11-06T14:48:52.237Z"
   },
   {
    "duration": 215,
    "start_time": "2024-11-06T14:48:52.303Z"
   },
   {
    "duration": 41,
    "start_time": "2024-11-06T14:48:52.520Z"
   },
   {
    "duration": 260,
    "start_time": "2024-11-06T14:48:52.562Z"
   },
   {
    "duration": 136,
    "start_time": "2024-11-06T14:48:52.823Z"
   },
   {
    "duration": 131,
    "start_time": "2024-11-06T14:48:52.961Z"
   },
   {
    "duration": 109,
    "start_time": "2024-11-06T14:48:53.093Z"
   },
   {
    "duration": 1085,
    "start_time": "2024-11-06T14:48:53.204Z"
   },
   {
    "duration": 12,
    "start_time": "2024-11-06T14:48:54.291Z"
   },
   {
    "duration": 26,
    "start_time": "2024-11-06T14:48:54.305Z"
   },
   {
    "duration": 32,
    "start_time": "2024-11-06T14:48:54.333Z"
   },
   {
    "duration": 1085,
    "start_time": "2024-11-06T14:48:54.371Z"
   },
   {
    "duration": 549,
    "start_time": "2024-11-06T14:48:55.458Z"
   },
   {
    "duration": 2,
    "start_time": "2024-11-06T14:48:56.010Z"
   },
   {
    "duration": 3,
    "start_time": "2024-11-06T14:48:56.021Z"
   },
   {
    "duration": 13,
    "start_time": "2024-11-06T14:48:56.026Z"
   },
   {
    "duration": 3,
    "start_time": "2024-11-06T14:48:56.041Z"
   },
   {
    "duration": 41,
    "start_time": "2024-11-06T14:48:56.046Z"
   },
   {
    "duration": 40,
    "start_time": "2024-11-06T14:48:56.089Z"
   },
   {
    "duration": 2,
    "start_time": "2024-11-06T14:48:56.131Z"
   },
   {
    "duration": 47,
    "start_time": "2024-11-06T14:48:56.135Z"
   },
   {
    "duration": 2,
    "start_time": "2024-11-06T14:48:56.184Z"
   },
   {
    "duration": 311,
    "start_time": "2024-11-06T14:48:56.188Z"
   },
   {
    "duration": 1066,
    "start_time": "2024-11-06T14:48:56.500Z"
   },
   {
    "duration": 414,
    "start_time": "2024-11-06T14:48:57.567Z"
   },
   {
    "duration": 3,
    "start_time": "2024-11-06T14:48:57.983Z"
   },
   {
    "duration": 38,
    "start_time": "2024-11-06T14:48:57.988Z"
   },
   {
    "duration": 240,
    "start_time": "2024-11-06T14:48:58.027Z"
   },
   {
    "duration": 11,
    "start_time": "2024-11-06T14:48:58.269Z"
   },
   {
    "duration": 158,
    "start_time": "2024-11-06T14:48:58.282Z"
   },
   {
    "duration": 155,
    "start_time": "2024-11-06T14:48:58.442Z"
   },
   {
    "duration": 157,
    "start_time": "2024-11-06T14:48:58.599Z"
   },
   {
    "duration": 156,
    "start_time": "2024-11-06T14:48:58.757Z"
   },
   {
    "duration": 2,
    "start_time": "2024-11-06T14:48:58.920Z"
   },
   {
    "duration": 26,
    "start_time": "2024-11-06T14:48:58.924Z"
   },
   {
    "duration": 23,
    "start_time": "2024-11-06T14:48:58.952Z"
   },
   {
    "duration": 34,
    "start_time": "2024-11-06T14:48:58.977Z"
   },
   {
    "duration": 21,
    "start_time": "2024-11-06T14:48:59.013Z"
   },
   {
    "duration": 27,
    "start_time": "2024-11-06T14:48:59.036Z"
   },
   {
    "duration": 13,
    "start_time": "2024-11-06T14:48:59.065Z"
   },
   {
    "duration": 7,
    "start_time": "2024-11-06T14:48:59.080Z"
   },
   {
    "duration": 62,
    "start_time": "2024-11-06T14:48:59.088Z"
   },
   {
    "duration": 38,
    "start_time": "2024-11-06T14:48:59.152Z"
   },
   {
    "duration": 26,
    "start_time": "2024-11-06T14:48:59.192Z"
   },
   {
    "duration": 26,
    "start_time": "2024-11-06T14:48:59.220Z"
   },
   {
    "duration": 30,
    "start_time": "2024-11-06T14:48:59.248Z"
   },
   {
    "duration": 43,
    "start_time": "2024-11-06T14:48:59.280Z"
   },
   {
    "duration": 40,
    "start_time": "2024-11-06T14:48:59.324Z"
   },
   {
    "duration": 105,
    "start_time": "2024-11-06T14:48:59.365Z"
   },
   {
    "duration": 30,
    "start_time": "2024-11-06T14:48:59.472Z"
   },
   {
    "duration": 37,
    "start_time": "2024-11-06T14:48:59.504Z"
   },
   {
    "duration": 118,
    "start_time": "2024-11-06T14:48:59.543Z"
   },
   {
    "duration": 0,
    "start_time": "2024-11-06T14:48:59.664Z"
   },
   {
    "duration": 0,
    "start_time": "2024-11-06T14:48:59.666Z"
   },
   {
    "duration": 0,
    "start_time": "2024-11-06T14:48:59.668Z"
   },
   {
    "duration": 0,
    "start_time": "2024-11-06T14:48:59.670Z"
   },
   {
    "duration": 0,
    "start_time": "2024-11-06T14:48:59.671Z"
   },
   {
    "duration": 0,
    "start_time": "2024-11-06T14:48:59.673Z"
   },
   {
    "duration": 0,
    "start_time": "2024-11-06T14:48:59.674Z"
   },
   {
    "duration": 0,
    "start_time": "2024-11-06T14:48:59.676Z"
   },
   {
    "duration": 0,
    "start_time": "2024-11-06T14:48:59.677Z"
   },
   {
    "duration": 0,
    "start_time": "2024-11-06T14:48:59.679Z"
   },
   {
    "duration": 0,
    "start_time": "2024-11-06T14:48:59.680Z"
   },
   {
    "duration": 0,
    "start_time": "2024-11-06T14:48:59.682Z"
   },
   {
    "duration": 0,
    "start_time": "2024-11-06T14:48:59.720Z"
   },
   {
    "duration": 0,
    "start_time": "2024-11-06T14:48:59.722Z"
   },
   {
    "duration": 0,
    "start_time": "2024-11-06T14:48:59.723Z"
   },
   {
    "duration": 0,
    "start_time": "2024-11-06T14:48:59.724Z"
   },
   {
    "duration": 0,
    "start_time": "2024-11-06T14:48:59.726Z"
   },
   {
    "duration": 0,
    "start_time": "2024-11-06T14:48:59.727Z"
   },
   {
    "duration": 1,
    "start_time": "2024-11-06T14:48:59.729Z"
   },
   {
    "duration": 0,
    "start_time": "2024-11-06T14:48:59.731Z"
   },
   {
    "duration": 0,
    "start_time": "2024-11-06T14:48:59.732Z"
   },
   {
    "duration": 0,
    "start_time": "2024-11-06T14:48:59.734Z"
   },
   {
    "duration": 0,
    "start_time": "2024-11-06T14:48:59.735Z"
   },
   {
    "duration": 0,
    "start_time": "2024-11-06T14:48:59.737Z"
   },
   {
    "duration": 0,
    "start_time": "2024-11-06T14:48:59.738Z"
   },
   {
    "duration": 0,
    "start_time": "2024-11-06T14:48:59.740Z"
   },
   {
    "duration": 0,
    "start_time": "2024-11-06T14:48:59.741Z"
   },
   {
    "duration": 0,
    "start_time": "2024-11-06T14:48:59.743Z"
   },
   {
    "duration": 0,
    "start_time": "2024-11-06T14:48:59.744Z"
   },
   {
    "duration": 0,
    "start_time": "2024-11-06T14:48:59.745Z"
   },
   {
    "duration": 0,
    "start_time": "2024-11-06T14:48:59.747Z"
   },
   {
    "duration": 0,
    "start_time": "2024-11-06T14:48:59.748Z"
   },
   {
    "duration": 0,
    "start_time": "2024-11-06T14:48:59.750Z"
   },
   {
    "duration": 0,
    "start_time": "2024-11-06T14:48:59.754Z"
   },
   {
    "duration": 0,
    "start_time": "2024-11-06T14:48:59.755Z"
   },
   {
    "duration": 0,
    "start_time": "2024-11-06T14:48:59.756Z"
   },
   {
    "duration": 0,
    "start_time": "2024-11-06T14:48:59.757Z"
   },
   {
    "duration": 0,
    "start_time": "2024-11-06T14:48:59.758Z"
   },
   {
    "duration": 0,
    "start_time": "2024-11-06T14:48:59.759Z"
   },
   {
    "duration": 0,
    "start_time": "2024-11-06T14:48:59.760Z"
   },
   {
    "duration": 0,
    "start_time": "2024-11-06T14:48:59.821Z"
   },
   {
    "duration": 0,
    "start_time": "2024-11-06T14:48:59.822Z"
   },
   {
    "duration": 0,
    "start_time": "2024-11-06T14:48:59.823Z"
   },
   {
    "duration": 0,
    "start_time": "2024-11-06T14:48:59.824Z"
   },
   {
    "duration": 0,
    "start_time": "2024-11-06T14:48:59.825Z"
   },
   {
    "duration": 0,
    "start_time": "2024-11-06T14:48:59.826Z"
   },
   {
    "duration": 0,
    "start_time": "2024-11-06T14:48:59.827Z"
   },
   {
    "duration": 1672,
    "start_time": "2024-11-06T14:53:06.588Z"
   },
   {
    "duration": 5,
    "start_time": "2024-11-06T14:53:08.262Z"
   },
   {
    "duration": 982,
    "start_time": "2024-11-06T14:53:08.268Z"
   },
   {
    "duration": 17,
    "start_time": "2024-11-06T14:53:09.252Z"
   },
   {
    "duration": 78,
    "start_time": "2024-11-06T14:53:09.271Z"
   },
   {
    "duration": 160,
    "start_time": "2024-11-06T14:53:09.351Z"
   },
   {
    "duration": 163,
    "start_time": "2024-11-06T14:53:09.519Z"
   },
   {
    "duration": 526,
    "start_time": "2024-11-06T14:53:09.684Z"
   },
   {
    "duration": 1091,
    "start_time": "2024-11-06T14:53:10.212Z"
   },
   {
    "duration": 226,
    "start_time": "2024-11-06T14:53:11.307Z"
   },
   {
    "duration": 4,
    "start_time": "2024-11-06T14:53:11.534Z"
   },
   {
    "duration": 117,
    "start_time": "2024-11-06T14:53:11.540Z"
   },
   {
    "duration": 33,
    "start_time": "2024-11-06T14:53:11.659Z"
   },
   {
    "duration": 5,
    "start_time": "2024-11-06T14:53:11.694Z"
   },
   {
    "duration": 138,
    "start_time": "2024-11-06T14:53:11.701Z"
   },
   {
    "duration": 132,
    "start_time": "2024-11-06T14:53:11.841Z"
   },
   {
    "duration": 50,
    "start_time": "2024-11-06T14:53:11.975Z"
   },
   {
    "duration": 125,
    "start_time": "2024-11-06T14:53:12.027Z"
   },
   {
    "duration": 41,
    "start_time": "2024-11-06T14:53:12.154Z"
   },
   {
    "duration": 147,
    "start_time": "2024-11-06T14:53:12.197Z"
   },
   {
    "duration": 127,
    "start_time": "2024-11-06T14:53:12.346Z"
   },
   {
    "duration": 120,
    "start_time": "2024-11-06T14:53:12.475Z"
   },
   {
    "duration": 111,
    "start_time": "2024-11-06T14:53:12.596Z"
   },
   {
    "duration": 1040,
    "start_time": "2024-11-06T14:53:12.709Z"
   },
   {
    "duration": 13,
    "start_time": "2024-11-06T14:53:13.751Z"
   },
   {
    "duration": 17,
    "start_time": "2024-11-06T14:53:13.766Z"
   },
   {
    "duration": 55,
    "start_time": "2024-11-06T14:53:13.785Z"
   },
   {
    "duration": 994,
    "start_time": "2024-11-06T14:53:13.845Z"
   },
   {
    "duration": 582,
    "start_time": "2024-11-06T14:53:14.841Z"
   },
   {
    "duration": 3,
    "start_time": "2024-11-06T14:53:15.425Z"
   },
   {
    "duration": 5,
    "start_time": "2024-11-06T14:53:15.429Z"
   },
   {
    "duration": 12,
    "start_time": "2024-11-06T14:53:15.436Z"
   },
   {
    "duration": 3,
    "start_time": "2024-11-06T14:53:15.450Z"
   },
   {
    "duration": 41,
    "start_time": "2024-11-06T14:53:15.454Z"
   },
   {
    "duration": 38,
    "start_time": "2024-11-06T14:53:15.497Z"
   },
   {
    "duration": 3,
    "start_time": "2024-11-06T14:53:15.537Z"
   },
   {
    "duration": 36,
    "start_time": "2024-11-06T14:53:15.542Z"
   },
   {
    "duration": 2,
    "start_time": "2024-11-06T14:53:15.580Z"
   },
   {
    "duration": 301,
    "start_time": "2024-11-06T14:53:15.584Z"
   },
   {
    "duration": 1064,
    "start_time": "2024-11-06T14:53:15.887Z"
   },
   {
    "duration": 391,
    "start_time": "2024-11-06T14:53:16.953Z"
   },
   {
    "duration": 3,
    "start_time": "2024-11-06T14:53:17.346Z"
   },
   {
    "duration": 30,
    "start_time": "2024-11-06T14:53:17.351Z"
   },
   {
    "duration": 244,
    "start_time": "2024-11-06T14:53:17.383Z"
   },
   {
    "duration": 12,
    "start_time": "2024-11-06T14:53:17.629Z"
   },
   {
    "duration": 159,
    "start_time": "2024-11-06T14:53:17.643Z"
   },
   {
    "duration": 181,
    "start_time": "2024-11-06T14:53:17.805Z"
   },
   {
    "duration": 202,
    "start_time": "2024-11-06T14:53:17.988Z"
   },
   {
    "duration": 150,
    "start_time": "2024-11-06T14:53:18.192Z"
   },
   {
    "duration": 3,
    "start_time": "2024-11-06T14:53:18.344Z"
   },
   {
    "duration": 10,
    "start_time": "2024-11-06T14:53:18.348Z"
   },
   {
    "duration": 30,
    "start_time": "2024-11-06T14:53:18.359Z"
   },
   {
    "duration": 10,
    "start_time": "2024-11-06T14:53:18.391Z"
   },
   {
    "duration": 8,
    "start_time": "2024-11-06T14:53:18.403Z"
   },
   {
    "duration": 16,
    "start_time": "2024-11-06T14:53:18.413Z"
   },
   {
    "duration": 8,
    "start_time": "2024-11-06T14:53:18.431Z"
   },
   {
    "duration": 16,
    "start_time": "2024-11-06T14:53:18.440Z"
   },
   {
    "duration": 10,
    "start_time": "2024-11-06T14:53:18.458Z"
   },
   {
    "duration": 7,
    "start_time": "2024-11-06T14:53:18.470Z"
   },
   {
    "duration": 17,
    "start_time": "2024-11-06T14:53:18.479Z"
   },
   {
    "duration": 8,
    "start_time": "2024-11-06T14:53:18.497Z"
   },
   {
    "duration": 23,
    "start_time": "2024-11-06T14:53:18.506Z"
   },
   {
    "duration": 15,
    "start_time": "2024-11-06T14:53:18.531Z"
   },
   {
    "duration": 13,
    "start_time": "2024-11-06T14:53:18.547Z"
   },
   {
    "duration": 91,
    "start_time": "2024-11-06T14:53:18.562Z"
   },
   {
    "duration": 29,
    "start_time": "2024-11-06T14:53:18.656Z"
   },
   {
    "duration": 20,
    "start_time": "2024-11-06T14:53:18.687Z"
   },
   {
    "duration": 127,
    "start_time": "2024-11-06T14:53:18.721Z"
   },
   {
    "duration": 0,
    "start_time": "2024-11-06T14:53:18.851Z"
   },
   {
    "duration": 0,
    "start_time": "2024-11-06T14:53:18.852Z"
   },
   {
    "duration": 0,
    "start_time": "2024-11-06T14:53:18.853Z"
   },
   {
    "duration": 0,
    "start_time": "2024-11-06T14:53:18.854Z"
   },
   {
    "duration": 0,
    "start_time": "2024-11-06T14:53:18.855Z"
   },
   {
    "duration": 0,
    "start_time": "2024-11-06T14:53:18.856Z"
   },
   {
    "duration": 0,
    "start_time": "2024-11-06T14:53:18.858Z"
   },
   {
    "duration": 0,
    "start_time": "2024-11-06T14:53:18.859Z"
   },
   {
    "duration": 0,
    "start_time": "2024-11-06T14:53:18.860Z"
   },
   {
    "duration": 0,
    "start_time": "2024-11-06T14:53:18.861Z"
   },
   {
    "duration": 0,
    "start_time": "2024-11-06T14:53:18.862Z"
   },
   {
    "duration": 0,
    "start_time": "2024-11-06T14:53:18.863Z"
   },
   {
    "duration": 0,
    "start_time": "2024-11-06T14:53:18.864Z"
   },
   {
    "duration": 0,
    "start_time": "2024-11-06T14:53:18.865Z"
   },
   {
    "duration": 0,
    "start_time": "2024-11-06T14:53:18.866Z"
   },
   {
    "duration": 0,
    "start_time": "2024-11-06T14:53:18.867Z"
   },
   {
    "duration": 0,
    "start_time": "2024-11-06T14:53:18.868Z"
   },
   {
    "duration": 0,
    "start_time": "2024-11-06T14:53:18.869Z"
   },
   {
    "duration": 0,
    "start_time": "2024-11-06T14:53:18.870Z"
   },
   {
    "duration": 0,
    "start_time": "2024-11-06T14:53:18.871Z"
   },
   {
    "duration": 0,
    "start_time": "2024-11-06T14:53:18.872Z"
   },
   {
    "duration": 0,
    "start_time": "2024-11-06T14:53:18.873Z"
   },
   {
    "duration": 0,
    "start_time": "2024-11-06T14:53:18.874Z"
   },
   {
    "duration": 0,
    "start_time": "2024-11-06T14:53:18.875Z"
   },
   {
    "duration": 0,
    "start_time": "2024-11-06T14:53:18.876Z"
   },
   {
    "duration": 0,
    "start_time": "2024-11-06T14:53:18.877Z"
   },
   {
    "duration": 0,
    "start_time": "2024-11-06T14:53:18.920Z"
   },
   {
    "duration": 0,
    "start_time": "2024-11-06T14:53:18.921Z"
   },
   {
    "duration": 0,
    "start_time": "2024-11-06T14:53:18.923Z"
   },
   {
    "duration": 0,
    "start_time": "2024-11-06T14:53:18.924Z"
   },
   {
    "duration": 0,
    "start_time": "2024-11-06T14:53:18.925Z"
   },
   {
    "duration": 0,
    "start_time": "2024-11-06T14:53:18.926Z"
   },
   {
    "duration": 0,
    "start_time": "2024-11-06T14:53:18.927Z"
   },
   {
    "duration": 0,
    "start_time": "2024-11-06T14:53:18.929Z"
   },
   {
    "duration": 0,
    "start_time": "2024-11-06T14:53:18.929Z"
   },
   {
    "duration": 0,
    "start_time": "2024-11-06T14:53:18.930Z"
   },
   {
    "duration": 0,
    "start_time": "2024-11-06T14:53:18.931Z"
   },
   {
    "duration": 0,
    "start_time": "2024-11-06T14:53:18.932Z"
   },
   {
    "duration": 0,
    "start_time": "2024-11-06T14:53:18.933Z"
   },
   {
    "duration": 0,
    "start_time": "2024-11-06T14:53:18.934Z"
   },
   {
    "duration": 0,
    "start_time": "2024-11-06T14:53:18.935Z"
   },
   {
    "duration": 0,
    "start_time": "2024-11-06T14:53:18.936Z"
   },
   {
    "duration": 0,
    "start_time": "2024-11-06T14:53:18.937Z"
   },
   {
    "duration": 0,
    "start_time": "2024-11-06T14:53:18.938Z"
   },
   {
    "duration": 0,
    "start_time": "2024-11-06T14:53:18.939Z"
   },
   {
    "duration": 0,
    "start_time": "2024-11-06T14:53:18.940Z"
   },
   {
    "duration": 0,
    "start_time": "2024-11-06T14:53:18.941Z"
   },
   {
    "duration": 31,
    "start_time": "2024-11-06T14:56:30.530Z"
   },
   {
    "duration": 10,
    "start_time": "2024-11-06T14:56:59.518Z"
   },
   {
    "duration": 7446,
    "start_time": "2024-11-06T14:57:35.207Z"
   },
   {
    "duration": 3307,
    "start_time": "2024-11-06T14:57:53.723Z"
   },
   {
    "duration": 1455,
    "start_time": "2024-11-06T14:57:57.035Z"
   },
   {
    "duration": 4,
    "start_time": "2024-11-06T14:57:58.492Z"
   },
   {
    "duration": 1020,
    "start_time": "2024-11-06T14:57:58.498Z"
   },
   {
    "duration": 17,
    "start_time": "2024-11-06T14:57:59.520Z"
   },
   {
    "duration": 133,
    "start_time": "2024-11-06T14:57:59.539Z"
   },
   {
    "duration": 118,
    "start_time": "2024-11-06T14:57:59.674Z"
   },
   {
    "duration": 185,
    "start_time": "2024-11-06T14:57:59.794Z"
   },
   {
    "duration": 539,
    "start_time": "2024-11-06T14:57:59.981Z"
   },
   {
    "duration": 1080,
    "start_time": "2024-11-06T14:58:00.522Z"
   },
   {
    "duration": 240,
    "start_time": "2024-11-06T14:58:01.604Z"
   },
   {
    "duration": 2,
    "start_time": "2024-11-06T14:58:01.846Z"
   },
   {
    "duration": 177,
    "start_time": "2024-11-06T14:58:01.851Z"
   },
   {
    "duration": 39,
    "start_time": "2024-11-06T14:58:02.030Z"
   },
   {
    "duration": 5,
    "start_time": "2024-11-06T14:58:02.071Z"
   },
   {
    "duration": 117,
    "start_time": "2024-11-06T14:58:02.078Z"
   },
   {
    "duration": 132,
    "start_time": "2024-11-06T14:58:02.197Z"
   },
   {
    "duration": 44,
    "start_time": "2024-11-06T14:58:02.331Z"
   },
   {
    "duration": 171,
    "start_time": "2024-11-06T14:58:02.376Z"
   },
   {
    "duration": 42,
    "start_time": "2024-11-06T14:58:02.549Z"
   },
   {
    "duration": 164,
    "start_time": "2024-11-06T14:58:02.594Z"
   },
   {
    "duration": 162,
    "start_time": "2024-11-06T14:58:02.759Z"
   },
   {
    "duration": 123,
    "start_time": "2024-11-06T14:58:02.923Z"
   },
   {
    "duration": 108,
    "start_time": "2024-11-06T14:58:03.047Z"
   },
   {
    "duration": 997,
    "start_time": "2024-11-06T14:58:03.156Z"
   },
   {
    "duration": 11,
    "start_time": "2024-11-06T14:58:04.154Z"
   },
   {
    "duration": 33,
    "start_time": "2024-11-06T14:58:04.167Z"
   },
   {
    "duration": 47,
    "start_time": "2024-11-06T14:58:04.202Z"
   },
   {
    "duration": 1116,
    "start_time": "2024-11-06T14:58:04.250Z"
   },
   {
    "duration": 567,
    "start_time": "2024-11-06T14:58:05.367Z"
   },
   {
    "duration": 2,
    "start_time": "2024-11-06T14:58:05.937Z"
   },
   {
    "duration": 119,
    "start_time": "2024-11-06T14:58:05.941Z"
   },
   {
    "duration": 471,
    "start_time": "2024-11-06T14:58:06.062Z"
   },
   {
    "duration": 103,
    "start_time": "2024-11-06T14:58:06.535Z"
   },
   {
    "duration": 96,
    "start_time": "2024-11-06T14:58:06.640Z"
   },
   {
    "duration": 72,
    "start_time": "2024-11-06T14:58:06.738Z"
   },
   {
    "duration": 36,
    "start_time": "2024-11-06T14:58:06.812Z"
   },
   {
    "duration": 125,
    "start_time": "2024-11-06T14:58:06.850Z"
   },
   {
    "duration": 54,
    "start_time": "2024-11-06T14:58:06.976Z"
   },
   {
    "duration": 322,
    "start_time": "2024-11-06T14:58:07.036Z"
   },
   {
    "duration": 955,
    "start_time": "2024-11-06T14:58:07.360Z"
   },
   {
    "duration": 553,
    "start_time": "2024-11-06T14:58:08.320Z"
   },
   {
    "duration": 2,
    "start_time": "2024-11-06T14:58:08.875Z"
   },
   {
    "duration": 36,
    "start_time": "2024-11-06T14:58:08.879Z"
   },
   {
    "duration": 306,
    "start_time": "2024-11-06T14:58:08.917Z"
   },
   {
    "duration": 13,
    "start_time": "2024-11-06T14:58:09.225Z"
   },
   {
    "duration": 165,
    "start_time": "2024-11-06T14:58:09.240Z"
   },
   {
    "duration": 171,
    "start_time": "2024-11-06T14:58:09.407Z"
   },
   {
    "duration": 206,
    "start_time": "2024-11-06T14:58:09.580Z"
   },
   {
    "duration": 172,
    "start_time": "2024-11-06T14:58:09.788Z"
   },
   {
    "duration": 2,
    "start_time": "2024-11-06T14:58:09.963Z"
   },
   {
    "duration": 45,
    "start_time": "2024-11-06T14:58:09.968Z"
   },
   {
    "duration": 22,
    "start_time": "2024-11-06T14:58:10.015Z"
   },
   {
    "duration": 29,
    "start_time": "2024-11-06T14:58:10.039Z"
   },
   {
    "duration": 7,
    "start_time": "2024-11-06T14:58:10.071Z"
   },
   {
    "duration": 6,
    "start_time": "2024-11-06T14:58:10.079Z"
   },
   {
    "duration": 20,
    "start_time": "2024-11-06T14:58:10.087Z"
   },
   {
    "duration": 27,
    "start_time": "2024-11-06T14:58:10.109Z"
   },
   {
    "duration": 37,
    "start_time": "2024-11-06T14:58:10.137Z"
   },
   {
    "duration": 5,
    "start_time": "2024-11-06T14:58:10.176Z"
   },
   {
    "duration": 4,
    "start_time": "2024-11-06T14:58:10.183Z"
   },
   {
    "duration": 8,
    "start_time": "2024-11-06T14:58:10.188Z"
   },
   {
    "duration": 8,
    "start_time": "2024-11-06T14:58:10.197Z"
   },
   {
    "duration": 10,
    "start_time": "2024-11-06T14:58:10.206Z"
   },
   {
    "duration": 11,
    "start_time": "2024-11-06T14:58:10.218Z"
   },
   {
    "duration": 93,
    "start_time": "2024-11-06T14:58:10.231Z"
   },
   {
    "duration": 31,
    "start_time": "2024-11-06T14:58:10.326Z"
   },
   {
    "duration": 21,
    "start_time": "2024-11-06T14:58:10.359Z"
   },
   {
    "duration": 602,
    "start_time": "2024-11-06T14:58:10.382Z"
   },
   {
    "duration": 3,
    "start_time": "2024-11-06T14:58:10.986Z"
   },
   {
    "duration": 705,
    "start_time": "2024-11-06T14:58:10.990Z"
   },
   {
    "duration": 25,
    "start_time": "2024-11-06T14:58:11.697Z"
   },
   {
    "duration": 153,
    "start_time": "2024-11-06T14:58:11.724Z"
   },
   {
    "duration": 135,
    "start_time": "2024-11-06T14:58:11.879Z"
   },
   {
    "duration": 187,
    "start_time": "2024-11-06T14:58:12.016Z"
   },
   {
    "duration": 0,
    "start_time": "2024-11-06T14:58:12.205Z"
   },
   {
    "duration": 0,
    "start_time": "2024-11-06T14:58:12.206Z"
   },
   {
    "duration": 0,
    "start_time": "2024-11-06T14:58:12.207Z"
   },
   {
    "duration": 0,
    "start_time": "2024-11-06T14:58:12.221Z"
   },
   {
    "duration": 0,
    "start_time": "2024-11-06T14:58:12.222Z"
   },
   {
    "duration": 0,
    "start_time": "2024-11-06T14:58:12.223Z"
   },
   {
    "duration": 0,
    "start_time": "2024-11-06T14:58:12.224Z"
   },
   {
    "duration": 0,
    "start_time": "2024-11-06T14:58:12.225Z"
   },
   {
    "duration": 0,
    "start_time": "2024-11-06T14:58:12.226Z"
   },
   {
    "duration": 0,
    "start_time": "2024-11-06T14:58:12.228Z"
   },
   {
    "duration": 0,
    "start_time": "2024-11-06T14:58:12.228Z"
   },
   {
    "duration": 0,
    "start_time": "2024-11-06T14:58:12.229Z"
   },
   {
    "duration": 0,
    "start_time": "2024-11-06T14:58:12.230Z"
   },
   {
    "duration": 0,
    "start_time": "2024-11-06T14:58:12.232Z"
   },
   {
    "duration": 0,
    "start_time": "2024-11-06T14:58:12.232Z"
   },
   {
    "duration": 0,
    "start_time": "2024-11-06T14:58:12.233Z"
   },
   {
    "duration": 1,
    "start_time": "2024-11-06T14:58:12.234Z"
   },
   {
    "duration": 0,
    "start_time": "2024-11-06T14:58:12.235Z"
   },
   {
    "duration": 0,
    "start_time": "2024-11-06T14:58:12.237Z"
   },
   {
    "duration": 0,
    "start_time": "2024-11-06T14:58:12.237Z"
   },
   {
    "duration": 0,
    "start_time": "2024-11-06T14:58:12.239Z"
   },
   {
    "duration": 0,
    "start_time": "2024-11-06T14:58:12.240Z"
   },
   {
    "duration": 0,
    "start_time": "2024-11-06T14:58:12.240Z"
   },
   {
    "duration": 0,
    "start_time": "2024-11-06T14:58:12.241Z"
   },
   {
    "duration": 0,
    "start_time": "2024-11-06T14:58:12.243Z"
   },
   {
    "duration": 0,
    "start_time": "2024-11-06T14:58:12.244Z"
   },
   {
    "duration": 0,
    "start_time": "2024-11-06T14:58:12.245Z"
   },
   {
    "duration": 0,
    "start_time": "2024-11-06T14:58:12.246Z"
   },
   {
    "duration": 0,
    "start_time": "2024-11-06T14:58:12.247Z"
   },
   {
    "duration": 0,
    "start_time": "2024-11-06T14:58:12.248Z"
   },
   {
    "duration": 0,
    "start_time": "2024-11-06T14:58:12.249Z"
   },
   {
    "duration": 0,
    "start_time": "2024-11-06T14:58:12.250Z"
   },
   {
    "duration": 0,
    "start_time": "2024-11-06T14:58:12.251Z"
   },
   {
    "duration": 0,
    "start_time": "2024-11-06T14:58:12.252Z"
   },
   {
    "duration": 0,
    "start_time": "2024-11-06T14:58:12.253Z"
   },
   {
    "duration": 0,
    "start_time": "2024-11-06T14:58:12.254Z"
   },
   {
    "duration": 0,
    "start_time": "2024-11-06T14:58:12.255Z"
   },
   {
    "duration": 0,
    "start_time": "2024-11-06T14:58:12.256Z"
   },
   {
    "duration": 0,
    "start_time": "2024-11-06T14:58:12.257Z"
   },
   {
    "duration": 0,
    "start_time": "2024-11-06T14:58:12.258Z"
   },
   {
    "duration": 0,
    "start_time": "2024-11-06T14:58:12.259Z"
   },
   {
    "duration": 143,
    "start_time": "2024-11-06T14:59:06.820Z"
   },
   {
    "duration": 6,
    "start_time": "2024-11-06T15:06:05.684Z"
   },
   {
    "duration": 10,
    "start_time": "2024-11-06T15:08:11.502Z"
   },
   {
    "duration": 2,
    "start_time": "2024-11-06T15:08:17.663Z"
   },
   {
    "duration": 73,
    "start_time": "2024-11-06T15:08:34.040Z"
   },
   {
    "duration": 75,
    "start_time": "2024-11-06T15:08:41.395Z"
   },
   {
    "duration": 11,
    "start_time": "2024-11-06T15:08:49.376Z"
   },
   {
    "duration": 16,
    "start_time": "2024-11-06T15:08:49.612Z"
   },
   {
    "duration": 586,
    "start_time": "2024-11-06T15:08:50.023Z"
   },
   {
    "duration": 155,
    "start_time": "2024-11-06T15:08:50.611Z"
   },
   {
    "duration": 4,
    "start_time": "2024-11-06T15:08:52.906Z"
   },
   {
    "duration": 3,
    "start_time": "2024-11-06T15:08:54.527Z"
   },
   {
    "duration": 3,
    "start_time": "2024-11-06T15:09:00.329Z"
   },
   {
    "duration": 3,
    "start_time": "2024-11-06T15:09:08.642Z"
   },
   {
    "duration": 3504,
    "start_time": "2024-11-06T15:19:24.015Z"
   },
   {
    "duration": 1438,
    "start_time": "2024-11-06T15:19:27.521Z"
   },
   {
    "duration": 4,
    "start_time": "2024-11-06T15:19:28.961Z"
   },
   {
    "duration": 1138,
    "start_time": "2024-11-06T15:19:28.968Z"
   },
   {
    "duration": 25,
    "start_time": "2024-11-06T15:19:30.108Z"
   },
   {
    "duration": 79,
    "start_time": "2024-11-06T15:19:30.134Z"
   },
   {
    "duration": 153,
    "start_time": "2024-11-06T15:19:30.216Z"
   },
   {
    "duration": 168,
    "start_time": "2024-11-06T15:19:30.371Z"
   },
   {
    "duration": 494,
    "start_time": "2024-11-06T15:19:30.540Z"
   },
   {
    "duration": 1132,
    "start_time": "2024-11-06T15:19:31.037Z"
   },
   {
    "duration": 219,
    "start_time": "2024-11-06T15:19:32.171Z"
   },
   {
    "duration": 3,
    "start_time": "2024-11-06T15:19:32.392Z"
   },
   {
    "duration": 113,
    "start_time": "2024-11-06T15:19:32.396Z"
   },
   {
    "duration": 39,
    "start_time": "2024-11-06T15:19:32.511Z"
   },
   {
    "duration": 4,
    "start_time": "2024-11-06T15:19:32.552Z"
   },
   {
    "duration": 119,
    "start_time": "2024-11-06T15:19:32.557Z"
   },
   {
    "duration": 128,
    "start_time": "2024-11-06T15:19:32.677Z"
   },
   {
    "duration": 44,
    "start_time": "2024-11-06T15:19:32.806Z"
   },
   {
    "duration": 131,
    "start_time": "2024-11-06T15:19:32.851Z"
   },
   {
    "duration": 48,
    "start_time": "2024-11-06T15:19:32.984Z"
   },
   {
    "duration": 153,
    "start_time": "2024-11-06T15:19:33.034Z"
   },
   {
    "duration": 123,
    "start_time": "2024-11-06T15:19:33.189Z"
   },
   {
    "duration": 119,
    "start_time": "2024-11-06T15:19:33.313Z"
   },
   {
    "duration": 101,
    "start_time": "2024-11-06T15:19:33.434Z"
   },
   {
    "duration": 982,
    "start_time": "2024-11-06T15:19:33.537Z"
   },
   {
    "duration": 10,
    "start_time": "2024-11-06T15:19:34.521Z"
   },
   {
    "duration": 23,
    "start_time": "2024-11-06T15:19:34.532Z"
   },
   {
    "duration": 133,
    "start_time": "2024-11-06T15:19:34.560Z"
   },
   {
    "duration": 1020,
    "start_time": "2024-11-06T15:19:34.694Z"
   },
   {
    "duration": 540,
    "start_time": "2024-11-06T15:19:35.721Z"
   },
   {
    "duration": 2,
    "start_time": "2024-11-06T15:19:36.264Z"
   },
   {
    "duration": 40,
    "start_time": "2024-11-06T15:19:36.268Z"
   },
   {
    "duration": 71,
    "start_time": "2024-11-06T15:19:36.310Z"
   },
   {
    "duration": 26,
    "start_time": "2024-11-06T15:19:36.383Z"
   },
   {
    "duration": 64,
    "start_time": "2024-11-06T15:19:36.410Z"
   },
   {
    "duration": 17,
    "start_time": "2024-11-06T15:19:36.476Z"
   },
   {
    "duration": 35,
    "start_time": "2024-11-06T15:19:36.496Z"
   },
   {
    "duration": 42,
    "start_time": "2024-11-06T15:19:36.533Z"
   },
   {
    "duration": 4,
    "start_time": "2024-11-06T15:19:36.577Z"
   },
   {
    "duration": 299,
    "start_time": "2024-11-06T15:19:36.583Z"
   },
   {
    "duration": 985,
    "start_time": "2024-11-06T15:19:36.885Z"
   },
   {
    "duration": 511,
    "start_time": "2024-11-06T15:19:37.872Z"
   },
   {
    "duration": 3,
    "start_time": "2024-11-06T15:19:38.384Z"
   },
   {
    "duration": 17,
    "start_time": "2024-11-06T15:19:38.388Z"
   },
   {
    "duration": 239,
    "start_time": "2024-11-06T15:19:38.406Z"
   },
   {
    "duration": 12,
    "start_time": "2024-11-06T15:19:38.647Z"
   },
   {
    "duration": 163,
    "start_time": "2024-11-06T15:19:38.661Z"
   },
   {
    "duration": 157,
    "start_time": "2024-11-06T15:19:38.825Z"
   },
   {
    "duration": 158,
    "start_time": "2024-11-06T15:19:38.984Z"
   },
   {
    "duration": 148,
    "start_time": "2024-11-06T15:19:39.144Z"
   },
   {
    "duration": 12,
    "start_time": "2024-11-06T15:19:39.294Z"
   },
   {
    "duration": 79,
    "start_time": "2024-11-06T15:19:39.321Z"
   },
   {
    "duration": 44,
    "start_time": "2024-11-06T15:19:39.402Z"
   },
   {
    "duration": 22,
    "start_time": "2024-11-06T15:19:39.448Z"
   },
   {
    "duration": 634,
    "start_time": "2024-11-06T15:19:39.472Z"
   },
   {
    "duration": 145,
    "start_time": "2024-11-06T15:19:40.108Z"
   },
   {
    "duration": 5,
    "start_time": "2024-11-06T15:19:40.255Z"
   },
   {
    "duration": 10,
    "start_time": "2024-11-06T15:19:40.261Z"
   },
   {
    "duration": 11,
    "start_time": "2024-11-06T15:19:40.273Z"
   },
   {
    "duration": 677849,
    "start_time": "2024-11-06T15:19:40.286Z"
   },
   {
    "duration": 0,
    "start_time": "2024-11-06T15:30:58.137Z"
   },
   {
    "duration": 0,
    "start_time": "2024-11-06T15:30:58.138Z"
   },
   {
    "duration": 0,
    "start_time": "2024-11-06T15:30:58.140Z"
   },
   {
    "duration": 0,
    "start_time": "2024-11-06T15:30:58.140Z"
   },
   {
    "duration": 0,
    "start_time": "2024-11-06T15:30:58.141Z"
   },
   {
    "duration": 0,
    "start_time": "2024-11-06T15:30:58.142Z"
   },
   {
    "duration": 0,
    "start_time": "2024-11-06T15:30:58.143Z"
   },
   {
    "duration": 0,
    "start_time": "2024-11-06T15:30:58.144Z"
   },
   {
    "duration": 0,
    "start_time": "2024-11-06T15:30:58.146Z"
   },
   {
    "duration": 0,
    "start_time": "2024-11-06T15:30:58.147Z"
   },
   {
    "duration": 0,
    "start_time": "2024-11-06T15:30:58.148Z"
   },
   {
    "duration": 0,
    "start_time": "2024-11-06T15:30:58.149Z"
   },
   {
    "duration": 0,
    "start_time": "2024-11-06T15:30:58.150Z"
   },
   {
    "duration": 0,
    "start_time": "2024-11-06T15:30:58.151Z"
   },
   {
    "duration": 0,
    "start_time": "2024-11-06T15:30:58.152Z"
   },
   {
    "duration": 0,
    "start_time": "2024-11-06T15:30:58.153Z"
   },
   {
    "duration": 0,
    "start_time": "2024-11-06T15:30:58.154Z"
   },
   {
    "duration": 0,
    "start_time": "2024-11-06T15:30:58.155Z"
   },
   {
    "duration": 0,
    "start_time": "2024-11-06T15:30:58.156Z"
   },
   {
    "duration": 0,
    "start_time": "2024-11-06T15:30:58.157Z"
   },
   {
    "duration": 0,
    "start_time": "2024-11-06T15:30:58.158Z"
   },
   {
    "duration": 0,
    "start_time": "2024-11-06T15:30:58.159Z"
   },
   {
    "duration": 0,
    "start_time": "2024-11-06T15:30:58.160Z"
   },
   {
    "duration": 0,
    "start_time": "2024-11-06T15:30:58.161Z"
   },
   {
    "duration": 0,
    "start_time": "2024-11-06T15:30:58.162Z"
   },
   {
    "duration": 0,
    "start_time": "2024-11-06T15:30:58.163Z"
   },
   {
    "duration": 0,
    "start_time": "2024-11-06T15:30:58.164Z"
   },
   {
    "duration": 0,
    "start_time": "2024-11-06T15:30:58.165Z"
   },
   {
    "duration": 0,
    "start_time": "2024-11-06T15:30:58.166Z"
   },
   {
    "duration": 0,
    "start_time": "2024-11-06T15:30:58.167Z"
   },
   {
    "duration": 0,
    "start_time": "2024-11-06T15:30:58.168Z"
   },
   {
    "duration": 0,
    "start_time": "2024-11-06T15:30:58.169Z"
   },
   {
    "duration": 0,
    "start_time": "2024-11-06T15:30:58.221Z"
   },
   {
    "duration": 0,
    "start_time": "2024-11-06T15:30:58.222Z"
   },
   {
    "duration": 0,
    "start_time": "2024-11-06T15:30:58.223Z"
   },
   {
    "duration": 0,
    "start_time": "2024-11-06T15:30:58.224Z"
   },
   {
    "duration": 88,
    "start_time": "2024-11-06T15:31:15.631Z"
   },
   {
    "duration": 4,
    "start_time": "2024-11-06T15:31:36.982Z"
   },
   {
    "duration": 88,
    "start_time": "2024-11-06T15:31:39.449Z"
   },
   {
    "duration": 3,
    "start_time": "2024-11-06T15:32:11.959Z"
   },
   {
    "duration": 5,
    "start_time": "2024-11-06T15:32:14.279Z"
   },
   {
    "duration": 3,
    "start_time": "2024-11-06T15:32:14.763Z"
   },
   {
    "duration": 129,
    "start_time": "2024-11-06T15:32:15.401Z"
   },
   {
    "duration": 3,
    "start_time": "2024-11-06T15:32:47.660Z"
   },
   {
    "duration": 3,
    "start_time": "2024-11-06T15:32:48.441Z"
   },
   {
    "duration": 3,
    "start_time": "2024-11-06T15:32:49.102Z"
   },
   {
    "duration": 92,
    "start_time": "2024-11-06T15:32:51.601Z"
   },
   {
    "duration": 88,
    "start_time": "2024-11-06T15:34:01.571Z"
   },
   {
    "duration": 118,
    "start_time": "2024-11-06T15:34:33.799Z"
   },
   {
    "duration": 93,
    "start_time": "2024-11-06T15:35:11.540Z"
   },
   {
    "duration": 4,
    "start_time": "2024-11-06T15:37:41.764Z"
   },
   {
    "duration": 4,
    "start_time": "2024-11-06T15:37:57.725Z"
   },
   {
    "duration": 3,
    "start_time": "2024-11-06T15:37:59.396Z"
   },
   {
    "duration": 4,
    "start_time": "2024-11-06T15:38:02.754Z"
   },
   {
    "duration": 3216,
    "start_time": "2024-11-06T15:40:08.475Z"
   },
   {
    "duration": 1480,
    "start_time": "2024-11-06T15:40:11.693Z"
   },
   {
    "duration": 4,
    "start_time": "2024-11-06T15:40:13.174Z"
   },
   {
    "duration": 994,
    "start_time": "2024-11-06T15:40:13.181Z"
   },
   {
    "duration": 19,
    "start_time": "2024-11-06T15:40:14.177Z"
   },
   {
    "duration": 85,
    "start_time": "2024-11-06T15:40:14.197Z"
   },
   {
    "duration": 163,
    "start_time": "2024-11-06T15:40:14.284Z"
   },
   {
    "duration": 178,
    "start_time": "2024-11-06T15:40:14.449Z"
   },
   {
    "duration": 535,
    "start_time": "2024-11-06T15:40:14.629Z"
   },
   {
    "duration": 1102,
    "start_time": "2024-11-06T15:40:15.168Z"
   },
   {
    "duration": 226,
    "start_time": "2024-11-06T15:40:16.272Z"
   },
   {
    "duration": 3,
    "start_time": "2024-11-06T15:40:16.500Z"
   },
   {
    "duration": 126,
    "start_time": "2024-11-06T15:40:16.505Z"
   },
   {
    "duration": 32,
    "start_time": "2024-11-06T15:40:16.633Z"
   },
   {
    "duration": 5,
    "start_time": "2024-11-06T15:40:16.666Z"
   },
   {
    "duration": 119,
    "start_time": "2024-11-06T15:40:16.672Z"
   },
   {
    "duration": 122,
    "start_time": "2024-11-06T15:40:16.793Z"
   },
   {
    "duration": 44,
    "start_time": "2024-11-06T15:40:16.920Z"
   },
   {
    "duration": 135,
    "start_time": "2024-11-06T15:40:16.966Z"
   },
   {
    "duration": 50,
    "start_time": "2024-11-06T15:40:17.103Z"
   },
   {
    "duration": 137,
    "start_time": "2024-11-06T15:40:17.155Z"
   },
   {
    "duration": 131,
    "start_time": "2024-11-06T15:40:17.294Z"
   },
   {
    "duration": 140,
    "start_time": "2024-11-06T15:40:17.427Z"
   },
   {
    "duration": 120,
    "start_time": "2024-11-06T15:40:17.569Z"
   },
   {
    "duration": 996,
    "start_time": "2024-11-06T15:40:17.691Z"
   },
   {
    "duration": 9,
    "start_time": "2024-11-06T15:40:18.689Z"
   },
   {
    "duration": 25,
    "start_time": "2024-11-06T15:40:18.700Z"
   },
   {
    "duration": 127,
    "start_time": "2024-11-06T15:40:18.731Z"
   },
   {
    "duration": 1018,
    "start_time": "2024-11-06T15:40:18.859Z"
   },
   {
    "duration": 526,
    "start_time": "2024-11-06T15:40:19.879Z"
   },
   {
    "duration": 2,
    "start_time": "2024-11-06T15:40:20.406Z"
   },
   {
    "duration": 28,
    "start_time": "2024-11-06T15:40:20.409Z"
   },
   {
    "duration": 21,
    "start_time": "2024-11-06T15:40:20.439Z"
   },
   {
    "duration": 6,
    "start_time": "2024-11-06T15:40:20.461Z"
   },
   {
    "duration": 43,
    "start_time": "2024-11-06T15:40:20.469Z"
   },
   {
    "duration": 17,
    "start_time": "2024-11-06T15:40:20.513Z"
   },
   {
    "duration": 21,
    "start_time": "2024-11-06T15:40:20.532Z"
   },
   {
    "duration": 50,
    "start_time": "2024-11-06T15:40:20.555Z"
   },
   {
    "duration": 2,
    "start_time": "2024-11-06T15:40:20.607Z"
   },
   {
    "duration": 332,
    "start_time": "2024-11-06T15:40:20.611Z"
   },
   {
    "duration": 975,
    "start_time": "2024-11-06T15:40:20.945Z"
   },
   {
    "duration": 513,
    "start_time": "2024-11-06T15:40:21.922Z"
   },
   {
    "duration": 2,
    "start_time": "2024-11-06T15:40:22.437Z"
   },
   {
    "duration": 15,
    "start_time": "2024-11-06T15:40:22.441Z"
   },
   {
    "duration": 234,
    "start_time": "2024-11-06T15:40:22.458Z"
   },
   {
    "duration": 11,
    "start_time": "2024-11-06T15:40:22.694Z"
   },
   {
    "duration": 168,
    "start_time": "2024-11-06T15:40:22.707Z"
   },
   {
    "duration": 165,
    "start_time": "2024-11-06T15:40:22.877Z"
   },
   {
    "duration": 167,
    "start_time": "2024-11-06T15:40:23.044Z"
   },
   {
    "duration": 156,
    "start_time": "2024-11-06T15:40:23.213Z"
   },
   {
    "duration": 13,
    "start_time": "2024-11-06T15:40:23.371Z"
   },
   {
    "duration": 110,
    "start_time": "2024-11-06T15:40:23.386Z"
   },
   {
    "duration": 37,
    "start_time": "2024-11-06T15:40:23.498Z"
   },
   {
    "duration": 21,
    "start_time": "2024-11-06T15:40:23.537Z"
   },
   {
    "duration": 615,
    "start_time": "2024-11-06T15:40:23.560Z"
   },
   {
    "duration": 141,
    "start_time": "2024-11-06T15:40:24.177Z"
   },
   {
    "duration": 4,
    "start_time": "2024-11-06T15:40:24.320Z"
   },
   {
    "duration": 12,
    "start_time": "2024-11-06T15:40:24.326Z"
   },
   {
    "duration": 4,
    "start_time": "2024-11-06T15:40:24.339Z"
   },
   {
    "duration": 11,
    "start_time": "2024-11-06T15:40:24.345Z"
   },
   {
    "duration": 129,
    "start_time": "2024-11-06T15:40:24.358Z"
   },
   {
    "duration": 0,
    "start_time": "2024-11-06T15:40:24.489Z"
   },
   {
    "duration": 0,
    "start_time": "2024-11-06T15:40:24.490Z"
   },
   {
    "duration": 0,
    "start_time": "2024-11-06T15:40:24.491Z"
   },
   {
    "duration": 0,
    "start_time": "2024-11-06T15:40:24.492Z"
   },
   {
    "duration": 0,
    "start_time": "2024-11-06T15:40:24.493Z"
   },
   {
    "duration": 0,
    "start_time": "2024-11-06T15:40:24.494Z"
   },
   {
    "duration": 0,
    "start_time": "2024-11-06T15:40:24.495Z"
   },
   {
    "duration": 0,
    "start_time": "2024-11-06T15:40:24.496Z"
   },
   {
    "duration": 0,
    "start_time": "2024-11-06T15:40:24.497Z"
   },
   {
    "duration": 0,
    "start_time": "2024-11-06T15:40:24.498Z"
   },
   {
    "duration": 0,
    "start_time": "2024-11-06T15:40:24.499Z"
   },
   {
    "duration": 0,
    "start_time": "2024-11-06T15:40:24.500Z"
   },
   {
    "duration": 0,
    "start_time": "2024-11-06T15:40:24.501Z"
   },
   {
    "duration": 0,
    "start_time": "2024-11-06T15:40:24.521Z"
   },
   {
    "duration": 0,
    "start_time": "2024-11-06T15:40:24.523Z"
   },
   {
    "duration": 0,
    "start_time": "2024-11-06T15:40:24.523Z"
   },
   {
    "duration": 0,
    "start_time": "2024-11-06T15:40:24.524Z"
   },
   {
    "duration": 0,
    "start_time": "2024-11-06T15:40:24.525Z"
   },
   {
    "duration": 0,
    "start_time": "2024-11-06T15:40:24.526Z"
   },
   {
    "duration": 0,
    "start_time": "2024-11-06T15:40:24.528Z"
   },
   {
    "duration": 0,
    "start_time": "2024-11-06T15:40:24.529Z"
   },
   {
    "duration": 0,
    "start_time": "2024-11-06T15:40:24.530Z"
   },
   {
    "duration": 0,
    "start_time": "2024-11-06T15:40:24.532Z"
   },
   {
    "duration": 0,
    "start_time": "2024-11-06T15:40:24.533Z"
   },
   {
    "duration": 0,
    "start_time": "2024-11-06T15:40:24.534Z"
   },
   {
    "duration": 0,
    "start_time": "2024-11-06T15:40:24.536Z"
   },
   {
    "duration": 0,
    "start_time": "2024-11-06T15:40:24.537Z"
   },
   {
    "duration": 0,
    "start_time": "2024-11-06T15:40:24.539Z"
   },
   {
    "duration": 0,
    "start_time": "2024-11-06T15:40:24.540Z"
   },
   {
    "duration": 0,
    "start_time": "2024-11-06T15:40:24.541Z"
   },
   {
    "duration": 0,
    "start_time": "2024-11-06T15:40:24.543Z"
   },
   {
    "duration": 0,
    "start_time": "2024-11-06T15:40:24.544Z"
   },
   {
    "duration": 0,
    "start_time": "2024-11-06T15:40:24.545Z"
   },
   {
    "duration": 0,
    "start_time": "2024-11-06T15:40:24.547Z"
   },
   {
    "duration": 3,
    "start_time": "2024-11-06T15:40:43.434Z"
   },
   {
    "duration": 604934,
    "start_time": "2024-11-06T15:40:43.990Z"
   },
   {
    "duration": 0,
    "start_time": "2024-11-06T15:50:48.925Z"
   },
   {
    "duration": 0,
    "start_time": "2024-11-06T15:50:48.927Z"
   },
   {
    "duration": 83,
    "start_time": "2024-11-06T15:55:42.905Z"
   },
   {
    "duration": 82,
    "start_time": "2024-11-06T15:57:16.260Z"
   },
   {
    "duration": 80,
    "start_time": "2024-11-06T15:58:03.436Z"
   },
   {
    "duration": 214,
    "start_time": "2024-11-06T15:58:35.101Z"
   },
   {
    "duration": 3391,
    "start_time": "2024-11-06T15:58:47.916Z"
   },
   {
    "duration": 1499,
    "start_time": "2024-11-06T15:58:51.309Z"
   },
   {
    "duration": 4,
    "start_time": "2024-11-06T15:58:52.810Z"
   },
   {
    "duration": 1026,
    "start_time": "2024-11-06T15:58:52.816Z"
   },
   {
    "duration": 19,
    "start_time": "2024-11-06T15:58:53.844Z"
   },
   {
    "duration": 89,
    "start_time": "2024-11-06T15:58:53.865Z"
   },
   {
    "duration": 105,
    "start_time": "2024-11-06T15:58:53.956Z"
   },
   {
    "duration": 163,
    "start_time": "2024-11-06T15:58:54.063Z"
   },
   {
    "duration": 510,
    "start_time": "2024-11-06T15:58:54.228Z"
   },
   {
    "duration": 1102,
    "start_time": "2024-11-06T15:58:54.741Z"
   },
   {
    "duration": 242,
    "start_time": "2024-11-06T15:58:55.845Z"
   },
   {
    "duration": 3,
    "start_time": "2024-11-06T15:58:56.088Z"
   },
   {
    "duration": 112,
    "start_time": "2024-11-06T15:58:56.092Z"
   },
   {
    "duration": 44,
    "start_time": "2024-11-06T15:58:56.206Z"
   },
   {
    "duration": 4,
    "start_time": "2024-11-06T15:58:56.252Z"
   },
   {
    "duration": 107,
    "start_time": "2024-11-06T15:58:56.258Z"
   },
   {
    "duration": 132,
    "start_time": "2024-11-06T15:58:56.367Z"
   },
   {
    "duration": 42,
    "start_time": "2024-11-06T15:58:56.500Z"
   },
   {
    "duration": 140,
    "start_time": "2024-11-06T15:58:56.543Z"
   },
   {
    "duration": 43,
    "start_time": "2024-11-06T15:58:56.685Z"
   },
   {
    "duration": 139,
    "start_time": "2024-11-06T15:58:56.729Z"
   },
   {
    "duration": 126,
    "start_time": "2024-11-06T15:58:56.870Z"
   },
   {
    "duration": 138,
    "start_time": "2024-11-06T15:58:56.998Z"
   },
   {
    "duration": 110,
    "start_time": "2024-11-06T15:58:57.138Z"
   },
   {
    "duration": 1006,
    "start_time": "2024-11-06T15:58:57.250Z"
   },
   {
    "duration": 11,
    "start_time": "2024-11-06T15:58:58.257Z"
   },
   {
    "duration": 12,
    "start_time": "2024-11-06T15:58:58.270Z"
   },
   {
    "duration": 126,
    "start_time": "2024-11-06T15:58:58.286Z"
   },
   {
    "duration": 999,
    "start_time": "2024-11-06T15:58:58.414Z"
   },
   {
    "duration": 511,
    "start_time": "2024-11-06T15:58:59.414Z"
   },
   {
    "duration": 2,
    "start_time": "2024-11-06T15:58:59.927Z"
   },
   {
    "duration": 11,
    "start_time": "2024-11-06T15:58:59.930Z"
   },
   {
    "duration": 27,
    "start_time": "2024-11-06T15:58:59.942Z"
   },
   {
    "duration": 3,
    "start_time": "2024-11-06T15:58:59.971Z"
   },
   {
    "duration": 45,
    "start_time": "2024-11-06T15:58:59.976Z"
   },
   {
    "duration": 20,
    "start_time": "2024-11-06T15:59:00.023Z"
   },
   {
    "duration": 61,
    "start_time": "2024-11-06T15:59:00.044Z"
   },
   {
    "duration": 69,
    "start_time": "2024-11-06T15:59:00.107Z"
   },
   {
    "duration": 75,
    "start_time": "2024-11-06T15:59:00.178Z"
   },
   {
    "duration": 360,
    "start_time": "2024-11-06T15:59:00.255Z"
   },
   {
    "duration": 954,
    "start_time": "2024-11-06T15:59:00.616Z"
   },
   {
    "duration": 534,
    "start_time": "2024-11-06T15:59:01.572Z"
   },
   {
    "duration": 3,
    "start_time": "2024-11-06T15:59:02.108Z"
   },
   {
    "duration": 39,
    "start_time": "2024-11-06T15:59:02.112Z"
   },
   {
    "duration": 235,
    "start_time": "2024-11-06T15:59:02.153Z"
   },
   {
    "duration": 13,
    "start_time": "2024-11-06T15:59:02.389Z"
   },
   {
    "duration": 198,
    "start_time": "2024-11-06T15:59:02.420Z"
   },
   {
    "duration": 167,
    "start_time": "2024-11-06T15:59:02.620Z"
   },
   {
    "duration": 169,
    "start_time": "2024-11-06T15:59:02.789Z"
   },
   {
    "duration": 165,
    "start_time": "2024-11-06T15:59:02.959Z"
   },
   {
    "duration": 95,
    "start_time": "2024-11-06T15:59:03.126Z"
   },
   {
    "duration": 249,
    "start_time": "2024-11-06T15:59:03.222Z"
   },
   {
    "duration": 11,
    "start_time": "2024-11-06T15:59:03.473Z"
   },
   {
    "duration": 119,
    "start_time": "2024-11-06T15:59:03.486Z"
   },
   {
    "duration": 32,
    "start_time": "2024-11-06T15:59:03.607Z"
   },
   {
    "duration": 23,
    "start_time": "2024-11-06T15:59:03.641Z"
   },
   {
    "duration": 764,
    "start_time": "2024-11-06T15:59:03.666Z"
   },
   {
    "duration": 146,
    "start_time": "2024-11-06T15:59:04.432Z"
   },
   {
    "duration": 4,
    "start_time": "2024-11-06T15:59:04.580Z"
   },
   {
    "duration": 119,
    "start_time": "2024-11-06T15:59:04.586Z"
   },
   {
    "duration": 13,
    "start_time": "2024-11-06T15:59:04.707Z"
   },
   {
    "duration": 10,
    "start_time": "2024-11-06T15:59:04.722Z"
   },
   {
    "duration": 2466630,
    "start_time": "2024-11-06T15:59:04.734Z"
   },
   {
    "duration": 11,
    "start_time": "2024-11-06T16:40:11.366Z"
   },
   {
    "duration": 10,
    "start_time": "2024-11-06T16:40:11.379Z"
   },
   {
    "duration": 241,
    "start_time": "2024-11-06T16:40:11.391Z"
   },
   {
    "duration": 0,
    "start_time": "2024-11-06T16:40:11.634Z"
   },
   {
    "duration": 0,
    "start_time": "2024-11-06T16:40:11.635Z"
   },
   {
    "duration": 0,
    "start_time": "2024-11-06T16:40:11.636Z"
   },
   {
    "duration": 0,
    "start_time": "2024-11-06T16:40:11.637Z"
   },
   {
    "duration": 0,
    "start_time": "2024-11-06T16:40:11.638Z"
   },
   {
    "duration": 0,
    "start_time": "2024-11-06T16:40:11.640Z"
   },
   {
    "duration": 0,
    "start_time": "2024-11-06T16:40:11.640Z"
   },
   {
    "duration": 0,
    "start_time": "2024-11-06T16:40:11.642Z"
   },
   {
    "duration": 0,
    "start_time": "2024-11-06T16:40:11.644Z"
   },
   {
    "duration": 0,
    "start_time": "2024-11-06T16:40:11.645Z"
   },
   {
    "duration": 0,
    "start_time": "2024-11-06T16:40:11.646Z"
   },
   {
    "duration": 0,
    "start_time": "2024-11-06T16:40:11.647Z"
   },
   {
    "duration": 0,
    "start_time": "2024-11-06T16:40:11.648Z"
   },
   {
    "duration": 0,
    "start_time": "2024-11-06T16:40:11.649Z"
   },
   {
    "duration": 0,
    "start_time": "2024-11-06T16:40:11.650Z"
   },
   {
    "duration": 0,
    "start_time": "2024-11-06T16:40:11.651Z"
   },
   {
    "duration": 0,
    "start_time": "2024-11-06T16:40:11.652Z"
   },
   {
    "duration": 0,
    "start_time": "2024-11-06T16:40:11.653Z"
   },
   {
    "duration": 0,
    "start_time": "2024-11-06T16:40:11.654Z"
   },
   {
    "duration": 0,
    "start_time": "2024-11-06T16:40:11.655Z"
   },
   {
    "duration": 0,
    "start_time": "2024-11-06T16:40:11.656Z"
   },
   {
    "duration": 0,
    "start_time": "2024-11-06T16:40:11.657Z"
   },
   {
    "duration": 0,
    "start_time": "2024-11-06T16:40:11.658Z"
   },
   {
    "duration": 0,
    "start_time": "2024-11-06T16:40:11.659Z"
   },
   {
    "duration": 0,
    "start_time": "2024-11-06T16:40:11.660Z"
   },
   {
    "duration": 0,
    "start_time": "2024-11-06T16:40:11.661Z"
   },
   {
    "duration": 0,
    "start_time": "2024-11-06T16:40:11.662Z"
   },
   {
    "duration": 0,
    "start_time": "2024-11-06T16:40:11.663Z"
   },
   {
    "duration": 0,
    "start_time": "2024-11-06T16:40:11.664Z"
   },
   {
    "duration": 0,
    "start_time": "2024-11-06T16:40:11.665Z"
   },
   {
    "duration": 0,
    "start_time": "2024-11-06T16:40:11.667Z"
   },
   {
    "duration": 0,
    "start_time": "2024-11-06T16:40:11.721Z"
   },
   {
    "duration": 0,
    "start_time": "2024-11-06T16:40:11.722Z"
   },
   {
    "duration": 3,
    "start_time": "2024-11-06T16:44:26.556Z"
   },
   {
    "duration": 3,
    "start_time": "2024-11-06T16:44:34.296Z"
   },
   {
    "duration": 175006,
    "start_time": "2024-11-06T16:44:43.663Z"
   },
   {
    "duration": 5,
    "start_time": "2024-11-06T16:47:38.671Z"
   },
   {
    "duration": 39,
    "start_time": "2024-11-06T16:47:38.678Z"
   },
   {
    "duration": 2,
    "start_time": "2024-11-06T16:48:03.966Z"
   },
   {
    "duration": 2,
    "start_time": "2024-11-06T16:48:05.965Z"
   },
   {
    "duration": 4,
    "start_time": "2024-11-06T16:48:12.547Z"
   },
   {
    "duration": 3619,
    "start_time": "2024-11-06T17:17:49.072Z"
   },
   {
    "duration": 1515,
    "start_time": "2024-11-06T17:17:52.693Z"
   },
   {
    "duration": 4,
    "start_time": "2024-11-06T17:17:54.210Z"
   },
   {
    "duration": 1037,
    "start_time": "2024-11-06T17:17:54.216Z"
   },
   {
    "duration": 16,
    "start_time": "2024-11-06T17:17:55.255Z"
   },
   {
    "duration": 82,
    "start_time": "2024-11-06T17:17:55.273Z"
   },
   {
    "duration": 157,
    "start_time": "2024-11-06T17:17:55.357Z"
   },
   {
    "duration": 167,
    "start_time": "2024-11-06T17:17:55.520Z"
   },
   {
    "duration": 561,
    "start_time": "2024-11-06T17:17:55.689Z"
   },
   {
    "duration": 1128,
    "start_time": "2024-11-06T17:17:56.253Z"
   },
   {
    "duration": 226,
    "start_time": "2024-11-06T17:17:57.383Z"
   },
   {
    "duration": 10,
    "start_time": "2024-11-06T17:17:57.611Z"
   },
   {
    "duration": 109,
    "start_time": "2024-11-06T17:17:57.622Z"
   },
   {
    "duration": 37,
    "start_time": "2024-11-06T17:17:57.733Z"
   },
   {
    "duration": 6,
    "start_time": "2024-11-06T17:17:57.772Z"
   },
   {
    "duration": 126,
    "start_time": "2024-11-06T17:17:57.779Z"
   },
   {
    "duration": 128,
    "start_time": "2024-11-06T17:17:57.906Z"
   },
   {
    "duration": 41,
    "start_time": "2024-11-06T17:17:58.036Z"
   },
   {
    "duration": 139,
    "start_time": "2024-11-06T17:17:58.079Z"
   },
   {
    "duration": 41,
    "start_time": "2024-11-06T17:17:58.219Z"
   },
   {
    "duration": 134,
    "start_time": "2024-11-06T17:17:58.261Z"
   },
   {
    "duration": 134,
    "start_time": "2024-11-06T17:17:58.396Z"
   },
   {
    "duration": 132,
    "start_time": "2024-11-06T17:17:58.532Z"
   },
   {
    "duration": 104,
    "start_time": "2024-11-06T17:17:58.665Z"
   },
   {
    "duration": 948,
    "start_time": "2024-11-06T17:17:58.771Z"
   },
   {
    "duration": 10,
    "start_time": "2024-11-06T17:17:59.721Z"
   },
   {
    "duration": 20,
    "start_time": "2024-11-06T17:17:59.733Z"
   },
   {
    "duration": 33,
    "start_time": "2024-11-06T17:17:59.757Z"
   },
   {
    "duration": 1092,
    "start_time": "2024-11-06T17:17:59.792Z"
   },
   {
    "duration": 522,
    "start_time": "2024-11-06T17:18:00.886Z"
   },
   {
    "duration": 11,
    "start_time": "2024-11-06T17:18:01.410Z"
   },
   {
    "duration": 59,
    "start_time": "2024-11-06T17:18:01.423Z"
   },
   {
    "duration": 54,
    "start_time": "2024-11-06T17:18:01.485Z"
   },
   {
    "duration": 41,
    "start_time": "2024-11-06T17:18:01.541Z"
   },
   {
    "duration": 63,
    "start_time": "2024-11-06T17:18:01.583Z"
   },
   {
    "duration": 16,
    "start_time": "2024-11-06T17:18:01.648Z"
   },
   {
    "duration": 27,
    "start_time": "2024-11-06T17:18:01.665Z"
   },
   {
    "duration": 68,
    "start_time": "2024-11-06T17:18:01.694Z"
   },
   {
    "duration": 19,
    "start_time": "2024-11-06T17:18:01.764Z"
   },
   {
    "duration": 323,
    "start_time": "2024-11-06T17:18:01.785Z"
   },
   {
    "duration": 943,
    "start_time": "2024-11-06T17:18:02.110Z"
   },
   {
    "duration": 517,
    "start_time": "2024-11-06T17:18:03.055Z"
   },
   {
    "duration": 2,
    "start_time": "2024-11-06T17:18:03.574Z"
   },
   {
    "duration": 28,
    "start_time": "2024-11-06T17:18:03.578Z"
   },
   {
    "duration": 248,
    "start_time": "2024-11-06T17:18:03.607Z"
   },
   {
    "duration": 13,
    "start_time": "2024-11-06T17:18:03.857Z"
   },
   {
    "duration": 160,
    "start_time": "2024-11-06T17:18:03.871Z"
   },
   {
    "duration": 164,
    "start_time": "2024-11-06T17:18:04.033Z"
   },
   {
    "duration": 159,
    "start_time": "2024-11-06T17:18:04.199Z"
   },
   {
    "duration": 162,
    "start_time": "2024-11-06T17:18:04.360Z"
   },
   {
    "duration": 2,
    "start_time": "2024-11-06T17:18:04.524Z"
   },
   {
    "duration": 79,
    "start_time": "2024-11-06T17:18:04.527Z"
   },
   {
    "duration": 1414,
    "start_time": "2024-11-06T17:18:04.607Z"
   },
   {
    "duration": 0,
    "start_time": "2024-11-06T17:18:06.023Z"
   },
   {
    "duration": 0,
    "start_time": "2024-11-06T17:18:06.024Z"
   },
   {
    "duration": 0,
    "start_time": "2024-11-06T17:18:06.026Z"
   },
   {
    "duration": 0,
    "start_time": "2024-11-06T17:18:06.027Z"
   },
   {
    "duration": 64,
    "start_time": "2024-11-06T17:20:54.832Z"
   },
   {
    "duration": 21,
    "start_time": "2024-11-06T17:20:57.606Z"
   },
   {
    "duration": 248,
    "start_time": "2024-11-06T17:20:58.709Z"
   },
   {
    "duration": 12,
    "start_time": "2024-11-06T17:21:54.435Z"
   },
   {
    "duration": 138,
    "start_time": "2024-11-06T17:24:09.504Z"
   },
   {
    "duration": 41,
    "start_time": "2024-11-06T17:24:18.106Z"
   },
   {
    "duration": 17,
    "start_time": "2024-11-06T17:24:20.274Z"
   },
   {
    "duration": 69,
    "start_time": "2024-11-06T17:24:21.399Z"
   },
   {
    "duration": 13,
    "start_time": "2024-11-06T17:24:26.413Z"
   },
   {
    "duration": 79,
    "start_time": "2024-11-06T17:27:04.115Z"
   },
   {
    "duration": 0,
    "start_time": "2024-11-06T17:27:04.197Z"
   },
   {
    "duration": 0,
    "start_time": "2024-11-06T17:27:04.198Z"
   },
   {
    "duration": 0,
    "start_time": "2024-11-06T17:27:04.199Z"
   },
   {
    "duration": 0,
    "start_time": "2024-11-06T17:27:04.200Z"
   },
   {
    "duration": 0,
    "start_time": "2024-11-06T17:27:04.201Z"
   },
   {
    "duration": 0,
    "start_time": "2024-11-06T17:27:04.203Z"
   },
   {
    "duration": 0,
    "start_time": "2024-11-06T17:27:04.204Z"
   },
   {
    "duration": 0,
    "start_time": "2024-11-06T17:27:04.205Z"
   },
   {
    "duration": 0,
    "start_time": "2024-11-06T17:27:04.206Z"
   },
   {
    "duration": 0,
    "start_time": "2024-11-06T17:27:04.207Z"
   },
   {
    "duration": 0,
    "start_time": "2024-11-06T17:27:04.208Z"
   },
   {
    "duration": 0,
    "start_time": "2024-11-06T17:27:04.209Z"
   },
   {
    "duration": 0,
    "start_time": "2024-11-06T17:27:04.210Z"
   },
   {
    "duration": 0,
    "start_time": "2024-11-06T17:27:04.211Z"
   },
   {
    "duration": 0,
    "start_time": "2024-11-06T17:27:04.212Z"
   },
   {
    "duration": 0,
    "start_time": "2024-11-06T17:27:04.213Z"
   },
   {
    "duration": 0,
    "start_time": "2024-11-06T17:27:04.214Z"
   },
   {
    "duration": 0,
    "start_time": "2024-11-06T17:27:04.215Z"
   },
   {
    "duration": 0,
    "start_time": "2024-11-06T17:27:04.215Z"
   },
   {
    "duration": 0,
    "start_time": "2024-11-06T17:27:04.217Z"
   },
   {
    "duration": 0,
    "start_time": "2024-11-06T17:27:04.218Z"
   },
   {
    "duration": 0,
    "start_time": "2024-11-06T17:27:04.219Z"
   },
   {
    "duration": 0,
    "start_time": "2024-11-06T17:27:04.220Z"
   },
   {
    "duration": 0,
    "start_time": "2024-11-06T17:27:04.221Z"
   },
   {
    "duration": 0,
    "start_time": "2024-11-06T17:27:04.222Z"
   },
   {
    "duration": 0,
    "start_time": "2024-11-06T17:27:04.223Z"
   },
   {
    "duration": 0,
    "start_time": "2024-11-06T17:27:04.224Z"
   },
   {
    "duration": 0,
    "start_time": "2024-11-06T17:27:04.225Z"
   },
   {
    "duration": 106,
    "start_time": "2024-11-06T17:27:04.228Z"
   },
   {
    "duration": 0,
    "start_time": "2024-11-06T17:27:04.336Z"
   },
   {
    "duration": 0,
    "start_time": "2024-11-06T17:27:04.337Z"
   },
   {
    "duration": 0,
    "start_time": "2024-11-06T17:27:04.338Z"
   },
   {
    "duration": 0,
    "start_time": "2024-11-06T17:27:04.339Z"
   },
   {
    "duration": 0,
    "start_time": "2024-11-06T17:27:04.340Z"
   },
   {
    "duration": 0,
    "start_time": "2024-11-06T17:27:04.342Z"
   },
   {
    "duration": 0,
    "start_time": "2024-11-06T17:27:04.343Z"
   },
   {
    "duration": 0,
    "start_time": "2024-11-06T17:27:04.344Z"
   },
   {
    "duration": 0,
    "start_time": "2024-11-06T17:27:04.345Z"
   },
   {
    "duration": 0,
    "start_time": "2024-11-06T17:27:04.346Z"
   },
   {
    "duration": 0,
    "start_time": "2024-11-06T17:27:04.347Z"
   },
   {
    "duration": 0,
    "start_time": "2024-11-06T17:27:04.349Z"
   },
   {
    "duration": 0,
    "start_time": "2024-11-06T17:27:04.350Z"
   },
   {
    "duration": 0,
    "start_time": "2024-11-06T17:27:04.351Z"
   },
   {
    "duration": 0,
    "start_time": "2024-11-06T17:27:04.352Z"
   },
   {
    "duration": 0,
    "start_time": "2024-11-06T17:27:04.352Z"
   },
   {
    "duration": 0,
    "start_time": "2024-11-06T17:27:04.353Z"
   },
   {
    "duration": 0,
    "start_time": "2024-11-06T17:27:04.354Z"
   },
   {
    "duration": 0,
    "start_time": "2024-11-06T17:27:04.355Z"
   },
   {
    "duration": 0,
    "start_time": "2024-11-06T17:27:04.356Z"
   },
   {
    "duration": 0,
    "start_time": "2024-11-06T17:27:04.357Z"
   },
   {
    "duration": 0,
    "start_time": "2024-11-06T17:27:04.358Z"
   },
   {
    "duration": 0,
    "start_time": "2024-11-06T17:27:04.359Z"
   },
   {
    "duration": 0,
    "start_time": "2024-11-06T17:27:04.361Z"
   },
   {
    "duration": 0,
    "start_time": "2024-11-06T17:27:04.361Z"
   },
   {
    "duration": 0,
    "start_time": "2024-11-06T17:27:04.362Z"
   },
   {
    "duration": 0,
    "start_time": "2024-11-06T17:27:04.363Z"
   },
   {
    "duration": 0,
    "start_time": "2024-11-06T17:27:04.364Z"
   },
   {
    "duration": 2645,
    "start_time": "2024-11-06T17:27:28.044Z"
   },
   {
    "duration": 1730,
    "start_time": "2024-11-06T17:27:30.692Z"
   },
   {
    "duration": 4,
    "start_time": "2024-11-06T17:27:32.424Z"
   },
   {
    "duration": 1023,
    "start_time": "2024-11-06T17:27:32.431Z"
   },
   {
    "duration": 18,
    "start_time": "2024-11-06T17:27:33.456Z"
   },
   {
    "duration": 92,
    "start_time": "2024-11-06T17:27:33.475Z"
   },
   {
    "duration": 139,
    "start_time": "2024-11-06T17:27:33.568Z"
   },
   {
    "duration": 192,
    "start_time": "2024-11-06T17:27:33.708Z"
   },
   {
    "duration": 526,
    "start_time": "2024-11-06T17:27:33.901Z"
   },
   {
    "duration": 1142,
    "start_time": "2024-11-06T17:27:34.430Z"
   },
   {
    "duration": 241,
    "start_time": "2024-11-06T17:27:35.573Z"
   },
   {
    "duration": 5,
    "start_time": "2024-11-06T17:27:35.815Z"
   },
   {
    "duration": 116,
    "start_time": "2024-11-06T17:27:35.822Z"
   },
   {
    "duration": 44,
    "start_time": "2024-11-06T17:27:35.940Z"
   },
   {
    "duration": 5,
    "start_time": "2024-11-06T17:27:35.985Z"
   },
   {
    "duration": 128,
    "start_time": "2024-11-06T17:27:35.991Z"
   },
   {
    "duration": 126,
    "start_time": "2024-11-06T17:27:36.121Z"
   },
   {
    "duration": 40,
    "start_time": "2024-11-06T17:27:36.249Z"
   },
   {
    "duration": 136,
    "start_time": "2024-11-06T17:27:36.291Z"
   },
   {
    "duration": 41,
    "start_time": "2024-11-06T17:27:36.429Z"
   },
   {
    "duration": 151,
    "start_time": "2024-11-06T17:27:36.471Z"
   },
   {
    "duration": 130,
    "start_time": "2024-11-06T17:27:36.624Z"
   },
   {
    "duration": 139,
    "start_time": "2024-11-06T17:27:36.755Z"
   },
   {
    "duration": 102,
    "start_time": "2024-11-06T17:27:36.895Z"
   },
   {
    "duration": 991,
    "start_time": "2024-11-06T17:27:36.999Z"
   },
   {
    "duration": 10,
    "start_time": "2024-11-06T17:27:37.992Z"
   },
   {
    "duration": 29,
    "start_time": "2024-11-06T17:27:38.003Z"
   },
   {
    "duration": 23,
    "start_time": "2024-11-06T17:27:38.036Z"
   },
   {
    "duration": 1122,
    "start_time": "2024-11-06T17:27:38.060Z"
   },
   {
    "duration": 523,
    "start_time": "2024-11-06T17:27:39.184Z"
   },
   {
    "duration": 2,
    "start_time": "2024-11-06T17:27:39.709Z"
   },
   {
    "duration": 3,
    "start_time": "2024-11-06T17:27:39.720Z"
   },
   {
    "duration": 9,
    "start_time": "2024-11-06T17:27:39.724Z"
   },
   {
    "duration": 3,
    "start_time": "2024-11-06T17:27:39.735Z"
   },
   {
    "duration": 15,
    "start_time": "2024-11-06T17:27:39.739Z"
   },
   {
    "duration": 19,
    "start_time": "2024-11-06T17:27:39.756Z"
   },
   {
    "duration": 3,
    "start_time": "2024-11-06T17:27:39.776Z"
   },
   {
    "duration": 63,
    "start_time": "2024-11-06T17:27:39.781Z"
   },
   {
    "duration": 3,
    "start_time": "2024-11-06T17:27:39.846Z"
   },
   {
    "duration": 320,
    "start_time": "2024-11-06T17:27:39.851Z"
   },
   {
    "duration": 948,
    "start_time": "2024-11-06T17:27:40.173Z"
   },
   {
    "duration": 530,
    "start_time": "2024-11-06T17:27:41.123Z"
   },
   {
    "duration": 2,
    "start_time": "2024-11-06T17:27:41.655Z"
   },
   {
    "duration": 21,
    "start_time": "2024-11-06T17:27:41.659Z"
   },
   {
    "duration": 247,
    "start_time": "2024-11-06T17:27:41.681Z"
   },
   {
    "duration": 12,
    "start_time": "2024-11-06T17:27:41.929Z"
   },
   {
    "duration": 173,
    "start_time": "2024-11-06T17:27:41.944Z"
   },
   {
    "duration": 166,
    "start_time": "2024-11-06T17:27:42.120Z"
   },
   {
    "duration": 161,
    "start_time": "2024-11-06T17:27:42.288Z"
   },
   {
    "duration": 143,
    "start_time": "2024-11-06T17:27:42.450Z"
   },
   {
    "duration": 2,
    "start_time": "2024-11-06T17:27:42.595Z"
   },
   {
    "duration": 39,
    "start_time": "2024-11-06T17:27:42.599Z"
   },
   {
    "duration": 158,
    "start_time": "2024-11-06T17:27:42.640Z"
   },
   {
    "duration": 8,
    "start_time": "2024-11-06T17:27:42.800Z"
   },
   {
    "duration": 68,
    "start_time": "2024-11-06T17:27:42.810Z"
   },
   {
    "duration": 129,
    "start_time": "2024-11-06T17:27:42.879Z"
   },
   {
    "duration": 0,
    "start_time": "2024-11-06T17:27:43.010Z"
   },
   {
    "duration": 0,
    "start_time": "2024-11-06T17:27:43.014Z"
   },
   {
    "duration": 2772,
    "start_time": "2024-11-06T17:29:01.278Z"
   },
   {
    "duration": 1446,
    "start_time": "2024-11-06T17:29:04.053Z"
   },
   {
    "duration": 5,
    "start_time": "2024-11-06T17:29:05.501Z"
   },
   {
    "duration": 1036,
    "start_time": "2024-11-06T17:29:05.509Z"
   },
   {
    "duration": 19,
    "start_time": "2024-11-06T17:29:06.547Z"
   },
   {
    "duration": 113,
    "start_time": "2024-11-06T17:29:06.567Z"
   },
   {
    "duration": 154,
    "start_time": "2024-11-06T17:29:06.681Z"
   },
   {
    "duration": 167,
    "start_time": "2024-11-06T17:29:06.837Z"
   },
   {
    "duration": 509,
    "start_time": "2024-11-06T17:29:07.006Z"
   },
   {
    "duration": 1131,
    "start_time": "2024-11-06T17:29:07.521Z"
   },
   {
    "duration": 227,
    "start_time": "2024-11-06T17:29:08.653Z"
   },
   {
    "duration": 3,
    "start_time": "2024-11-06T17:29:08.882Z"
   },
   {
    "duration": 116,
    "start_time": "2024-11-06T17:29:08.886Z"
   },
   {
    "duration": 39,
    "start_time": "2024-11-06T17:29:09.003Z"
   },
   {
    "duration": 3,
    "start_time": "2024-11-06T17:29:09.044Z"
   },
   {
    "duration": 110,
    "start_time": "2024-11-06T17:29:09.049Z"
   },
   {
    "duration": 138,
    "start_time": "2024-11-06T17:29:09.161Z"
   },
   {
    "duration": 40,
    "start_time": "2024-11-06T17:29:09.301Z"
   },
   {
    "duration": 130,
    "start_time": "2024-11-06T17:29:09.343Z"
   },
   {
    "duration": 40,
    "start_time": "2024-11-06T17:29:09.474Z"
   },
   {
    "duration": 123,
    "start_time": "2024-11-06T17:29:09.521Z"
   },
   {
    "duration": 132,
    "start_time": "2024-11-06T17:29:09.646Z"
   },
   {
    "duration": 141,
    "start_time": "2024-11-06T17:29:09.780Z"
   },
   {
    "duration": 116,
    "start_time": "2024-11-06T17:29:09.923Z"
   },
   {
    "duration": 956,
    "start_time": "2024-11-06T17:29:10.041Z"
   },
   {
    "duration": 22,
    "start_time": "2024-11-06T17:29:10.999Z"
   },
   {
    "duration": 14,
    "start_time": "2024-11-06T17:29:11.023Z"
   },
   {
    "duration": 29,
    "start_time": "2024-11-06T17:29:11.040Z"
   },
   {
    "duration": 1122,
    "start_time": "2024-11-06T17:29:11.070Z"
   },
   {
    "duration": 507,
    "start_time": "2024-11-06T17:29:12.193Z"
   },
   {
    "duration": 2,
    "start_time": "2024-11-06T17:29:12.701Z"
   },
   {
    "duration": 16,
    "start_time": "2024-11-06T17:29:12.705Z"
   },
   {
    "duration": 12,
    "start_time": "2024-11-06T17:29:12.723Z"
   },
   {
    "duration": 6,
    "start_time": "2024-11-06T17:29:12.737Z"
   },
   {
    "duration": 33,
    "start_time": "2024-11-06T17:29:12.745Z"
   },
   {
    "duration": 17,
    "start_time": "2024-11-06T17:29:12.780Z"
   },
   {
    "duration": 22,
    "start_time": "2024-11-06T17:29:12.799Z"
   },
   {
    "duration": 26,
    "start_time": "2024-11-06T17:29:12.823Z"
   },
   {
    "duration": 3,
    "start_time": "2024-11-06T17:29:12.851Z"
   },
   {
    "duration": 299,
    "start_time": "2024-11-06T17:29:12.864Z"
   },
   {
    "duration": 952,
    "start_time": "2024-11-06T17:29:13.165Z"
   },
   {
    "duration": 522,
    "start_time": "2024-11-06T17:29:14.121Z"
   },
   {
    "duration": 3,
    "start_time": "2024-11-06T17:29:14.645Z"
   },
   {
    "duration": 18,
    "start_time": "2024-11-06T17:29:14.649Z"
   },
   {
    "duration": 246,
    "start_time": "2024-11-06T17:29:14.669Z"
   },
   {
    "duration": 14,
    "start_time": "2024-11-06T17:29:14.918Z"
   },
   {
    "duration": 168,
    "start_time": "2024-11-06T17:29:14.934Z"
   },
   {
    "duration": 188,
    "start_time": "2024-11-06T17:29:15.104Z"
   },
   {
    "duration": 160,
    "start_time": "2024-11-06T17:29:15.294Z"
   },
   {
    "duration": 155,
    "start_time": "2024-11-06T17:29:15.456Z"
   },
   {
    "duration": 3,
    "start_time": "2024-11-06T17:29:15.612Z"
   },
   {
    "duration": 2,
    "start_time": "2024-11-06T17:29:15.621Z"
   },
   {
    "duration": 171,
    "start_time": "2024-11-06T17:29:15.625Z"
   },
   {
    "duration": 9,
    "start_time": "2024-11-06T17:29:15.799Z"
   },
   {
    "duration": 66,
    "start_time": "2024-11-06T17:29:15.822Z"
   },
   {
    "duration": 71938,
    "start_time": "2024-11-06T17:29:15.890Z"
   },
   {
    "duration": 151,
    "start_time": "2024-11-06T17:30:27.830Z"
   },
   {
    "duration": 0,
    "start_time": "2024-11-06T17:30:27.982Z"
   },
   {
    "duration": 0,
    "start_time": "2024-11-06T17:30:27.984Z"
   },
   {
    "duration": 85481,
    "start_time": "2024-11-06T17:32:52.366Z"
   },
   {
    "duration": 84327,
    "start_time": "2024-11-06T17:36:28.241Z"
   },
   {
    "duration": 29290,
    "start_time": "2024-11-06T17:37:52.571Z"
   },
   {
    "duration": 13,
    "start_time": "2024-11-06T17:40:17.126Z"
   },
   {
    "duration": 2612,
    "start_time": "2024-11-06T17:41:00.715Z"
   },
   {
    "duration": 1842,
    "start_time": "2024-11-06T17:41:03.329Z"
   },
   {
    "duration": 4,
    "start_time": "2024-11-06T17:41:05.174Z"
   },
   {
    "duration": 1213,
    "start_time": "2024-11-06T17:41:05.180Z"
   },
   {
    "duration": 25,
    "start_time": "2024-11-06T17:41:06.395Z"
   },
   {
    "duration": 110,
    "start_time": "2024-11-06T17:41:06.422Z"
   },
   {
    "duration": 107,
    "start_time": "2024-11-06T17:41:06.533Z"
   },
   {
    "duration": 166,
    "start_time": "2024-11-06T17:41:06.642Z"
   },
   {
    "duration": 526,
    "start_time": "2024-11-06T17:41:06.810Z"
   },
   {
    "duration": 1106,
    "start_time": "2024-11-06T17:41:07.339Z"
   },
   {
    "duration": 221,
    "start_time": "2024-11-06T17:41:08.447Z"
   },
   {
    "duration": 3,
    "start_time": "2024-11-06T17:41:08.670Z"
   },
   {
    "duration": 124,
    "start_time": "2024-11-06T17:41:08.674Z"
   },
   {
    "duration": 52,
    "start_time": "2024-11-06T17:41:08.799Z"
   },
   {
    "duration": 4,
    "start_time": "2024-11-06T17:41:08.853Z"
   },
   {
    "duration": 129,
    "start_time": "2024-11-06T17:41:08.858Z"
   },
   {
    "duration": 129,
    "start_time": "2024-11-06T17:41:08.989Z"
   },
   {
    "duration": 42,
    "start_time": "2024-11-06T17:41:09.120Z"
   },
   {
    "duration": 139,
    "start_time": "2024-11-06T17:41:09.164Z"
   },
   {
    "duration": 42,
    "start_time": "2024-11-06T17:41:09.304Z"
   },
   {
    "duration": 147,
    "start_time": "2024-11-06T17:41:09.348Z"
   },
   {
    "duration": 127,
    "start_time": "2024-11-06T17:41:09.497Z"
   },
   {
    "duration": 126,
    "start_time": "2024-11-06T17:41:09.626Z"
   },
   {
    "duration": 120,
    "start_time": "2024-11-06T17:41:09.755Z"
   },
   {
    "duration": 1047,
    "start_time": "2024-11-06T17:41:09.876Z"
   },
   {
    "duration": 11,
    "start_time": "2024-11-06T17:41:10.926Z"
   },
   {
    "duration": 13,
    "start_time": "2024-11-06T17:41:10.940Z"
   },
   {
    "duration": 25,
    "start_time": "2024-11-06T17:41:10.957Z"
   },
   {
    "duration": 1022,
    "start_time": "2024-11-06T17:41:10.984Z"
   },
   {
    "duration": 524,
    "start_time": "2024-11-06T17:41:12.007Z"
   },
   {
    "duration": 2,
    "start_time": "2024-11-06T17:41:12.533Z"
   },
   {
    "duration": 22,
    "start_time": "2024-11-06T17:41:12.537Z"
   },
   {
    "duration": 57,
    "start_time": "2024-11-06T17:41:12.561Z"
   },
   {
    "duration": 44,
    "start_time": "2024-11-06T17:41:12.620Z"
   },
   {
    "duration": 28,
    "start_time": "2024-11-06T17:41:12.666Z"
   },
   {
    "duration": 16,
    "start_time": "2024-11-06T17:41:12.696Z"
   },
   {
    "duration": 6,
    "start_time": "2024-11-06T17:41:12.714Z"
   },
   {
    "duration": 39,
    "start_time": "2024-11-06T17:41:12.721Z"
   },
   {
    "duration": 9,
    "start_time": "2024-11-06T17:41:12.762Z"
   },
   {
    "duration": 292,
    "start_time": "2024-11-06T17:41:12.773Z"
   },
   {
    "duration": 1109,
    "start_time": "2024-11-06T17:41:13.067Z"
   },
   {
    "duration": 395,
    "start_time": "2024-11-06T17:41:14.177Z"
   },
   {
    "duration": 2,
    "start_time": "2024-11-06T17:41:14.573Z"
   },
   {
    "duration": 93,
    "start_time": "2024-11-06T17:41:14.577Z"
   },
   {
    "duration": 228,
    "start_time": "2024-11-06T17:41:14.671Z"
   },
   {
    "duration": 12,
    "start_time": "2024-11-06T17:41:14.901Z"
   },
   {
    "duration": 169,
    "start_time": "2024-11-06T17:41:14.921Z"
   },
   {
    "duration": 187,
    "start_time": "2024-11-06T17:41:15.091Z"
   },
   {
    "duration": 170,
    "start_time": "2024-11-06T17:41:15.281Z"
   },
   {
    "duration": 151,
    "start_time": "2024-11-06T17:41:15.452Z"
   },
   {
    "duration": 2,
    "start_time": "2024-11-06T17:41:15.605Z"
   },
   {
    "duration": 16,
    "start_time": "2024-11-06T17:41:15.609Z"
   },
   {
    "duration": 158,
    "start_time": "2024-11-06T17:41:15.626Z"
   },
   {
    "duration": 10,
    "start_time": "2024-11-06T17:41:15.786Z"
   },
   {
    "duration": 77,
    "start_time": "2024-11-06T17:41:15.798Z"
   },
   {
    "duration": 92884,
    "start_time": "2024-11-06T17:41:15.877Z"
   },
   {
    "duration": 29276,
    "start_time": "2024-11-06T17:42:48.763Z"
   },
   {
    "duration": 2629,
    "start_time": "2024-11-06T17:48:32.565Z"
   },
   {
    "duration": 1545,
    "start_time": "2024-11-06T17:48:35.196Z"
   },
   {
    "duration": 0,
    "start_time": "2024-11-06T17:48:36.752Z"
   },
   {
    "duration": 0,
    "start_time": "2024-11-06T17:48:36.754Z"
   },
   {
    "duration": 0,
    "start_time": "2024-11-06T17:48:36.755Z"
   },
   {
    "duration": 0,
    "start_time": "2024-11-06T17:48:36.757Z"
   },
   {
    "duration": 0,
    "start_time": "2024-11-06T17:48:36.758Z"
   },
   {
    "duration": 0,
    "start_time": "2024-11-06T17:48:36.760Z"
   },
   {
    "duration": 0,
    "start_time": "2024-11-06T17:48:36.761Z"
   },
   {
    "duration": 0,
    "start_time": "2024-11-06T17:48:36.762Z"
   },
   {
    "duration": 0,
    "start_time": "2024-11-06T17:48:36.763Z"
   },
   {
    "duration": 0,
    "start_time": "2024-11-06T17:48:36.765Z"
   },
   {
    "duration": 0,
    "start_time": "2024-11-06T17:48:36.766Z"
   },
   {
    "duration": 0,
    "start_time": "2024-11-06T17:48:36.768Z"
   },
   {
    "duration": 0,
    "start_time": "2024-11-06T17:48:36.769Z"
   },
   {
    "duration": 0,
    "start_time": "2024-11-06T17:48:36.770Z"
   },
   {
    "duration": 0,
    "start_time": "2024-11-06T17:48:36.772Z"
   },
   {
    "duration": 0,
    "start_time": "2024-11-06T17:48:36.774Z"
   },
   {
    "duration": 1,
    "start_time": "2024-11-06T17:48:36.774Z"
   },
   {
    "duration": 0,
    "start_time": "2024-11-06T17:48:36.776Z"
   },
   {
    "duration": 0,
    "start_time": "2024-11-06T17:48:36.777Z"
   },
   {
    "duration": 0,
    "start_time": "2024-11-06T17:48:36.778Z"
   },
   {
    "duration": 0,
    "start_time": "2024-11-06T17:48:36.779Z"
   },
   {
    "duration": 0,
    "start_time": "2024-11-06T17:48:36.820Z"
   },
   {
    "duration": 0,
    "start_time": "2024-11-06T17:48:36.821Z"
   },
   {
    "duration": 0,
    "start_time": "2024-11-06T17:48:36.823Z"
   },
   {
    "duration": 0,
    "start_time": "2024-11-06T17:48:36.824Z"
   },
   {
    "duration": 0,
    "start_time": "2024-11-06T17:48:36.825Z"
   },
   {
    "duration": 0,
    "start_time": "2024-11-06T17:48:36.826Z"
   },
   {
    "duration": 0,
    "start_time": "2024-11-06T17:48:36.827Z"
   },
   {
    "duration": 0,
    "start_time": "2024-11-06T17:48:36.828Z"
   },
   {
    "duration": 0,
    "start_time": "2024-11-06T17:48:36.829Z"
   },
   {
    "duration": 1,
    "start_time": "2024-11-06T17:48:36.829Z"
   },
   {
    "duration": 0,
    "start_time": "2024-11-06T17:48:36.831Z"
   },
   {
    "duration": 0,
    "start_time": "2024-11-06T17:48:36.832Z"
   },
   {
    "duration": 0,
    "start_time": "2024-11-06T17:48:36.832Z"
   },
   {
    "duration": 0,
    "start_time": "2024-11-06T17:48:36.833Z"
   },
   {
    "duration": 0,
    "start_time": "2024-11-06T17:48:36.834Z"
   },
   {
    "duration": 0,
    "start_time": "2024-11-06T17:48:36.835Z"
   },
   {
    "duration": 0,
    "start_time": "2024-11-06T17:48:36.836Z"
   },
   {
    "duration": 0,
    "start_time": "2024-11-06T17:48:36.837Z"
   },
   {
    "duration": 0,
    "start_time": "2024-11-06T17:48:36.838Z"
   },
   {
    "duration": 0,
    "start_time": "2024-11-06T17:48:36.839Z"
   },
   {
    "duration": 0,
    "start_time": "2024-11-06T17:48:36.840Z"
   },
   {
    "duration": 0,
    "start_time": "2024-11-06T17:48:36.841Z"
   },
   {
    "duration": 0,
    "start_time": "2024-11-06T17:48:36.842Z"
   },
   {
    "duration": 0,
    "start_time": "2024-11-06T17:48:36.844Z"
   },
   {
    "duration": 1,
    "start_time": "2024-11-06T17:48:36.844Z"
   },
   {
    "duration": 0,
    "start_time": "2024-11-06T17:48:36.845Z"
   },
   {
    "duration": 0,
    "start_time": "2024-11-06T17:48:36.847Z"
   },
   {
    "duration": 0,
    "start_time": "2024-11-06T17:48:36.848Z"
   },
   {
    "duration": 0,
    "start_time": "2024-11-06T17:48:36.849Z"
   },
   {
    "duration": 0,
    "start_time": "2024-11-06T17:48:36.850Z"
   },
   {
    "duration": 0,
    "start_time": "2024-11-06T17:48:36.851Z"
   },
   {
    "duration": 0,
    "start_time": "2024-11-06T17:48:36.852Z"
   },
   {
    "duration": 0,
    "start_time": "2024-11-06T17:48:36.853Z"
   },
   {
    "duration": 0,
    "start_time": "2024-11-06T17:48:36.854Z"
   },
   {
    "duration": 0,
    "start_time": "2024-11-06T17:48:36.855Z"
   },
   {
    "duration": 0,
    "start_time": "2024-11-06T17:48:36.856Z"
   },
   {
    "duration": 0,
    "start_time": "2024-11-06T17:48:36.921Z"
   },
   {
    "duration": 2636,
    "start_time": "2024-11-06T17:55:32.573Z"
   },
   {
    "duration": 1884,
    "start_time": "2024-11-06T17:55:35.212Z"
   },
   {
    "duration": 4,
    "start_time": "2024-11-06T17:55:37.097Z"
   },
   {
    "duration": 1000,
    "start_time": "2024-11-06T17:55:37.103Z"
   },
   {
    "duration": 22,
    "start_time": "2024-11-06T17:55:38.105Z"
   },
   {
    "duration": 70,
    "start_time": "2024-11-06T17:55:38.129Z"
   },
   {
    "duration": 105,
    "start_time": "2024-11-06T17:55:38.201Z"
   },
   {
    "duration": 159,
    "start_time": "2024-11-06T17:55:38.308Z"
   },
   {
    "duration": 483,
    "start_time": "2024-11-06T17:55:38.469Z"
   },
   {
    "duration": 1081,
    "start_time": "2024-11-06T17:55:38.955Z"
   },
   {
    "duration": 185,
    "start_time": "2024-11-06T17:55:40.038Z"
   },
   {
    "duration": 3,
    "start_time": "2024-11-06T17:55:40.224Z"
   },
   {
    "duration": 132,
    "start_time": "2024-11-06T17:55:40.229Z"
   },
   {
    "duration": 39,
    "start_time": "2024-11-06T17:55:40.363Z"
   },
   {
    "duration": 4,
    "start_time": "2024-11-06T17:55:40.403Z"
   },
   {
    "duration": 108,
    "start_time": "2024-11-06T17:55:40.420Z"
   },
   {
    "duration": 128,
    "start_time": "2024-11-06T17:55:40.530Z"
   },
   {
    "duration": 38,
    "start_time": "2024-11-06T17:55:40.660Z"
   },
   {
    "duration": 128,
    "start_time": "2024-11-06T17:55:40.700Z"
   },
   {
    "duration": 43,
    "start_time": "2024-11-06T17:55:40.829Z"
   },
   {
    "duration": 132,
    "start_time": "2024-11-06T17:55:40.873Z"
   },
   {
    "duration": 129,
    "start_time": "2024-11-06T17:55:41.007Z"
   },
   {
    "duration": 125,
    "start_time": "2024-11-06T17:55:41.138Z"
   },
   {
    "duration": 129,
    "start_time": "2024-11-06T17:55:41.265Z"
   },
   {
    "duration": 1061,
    "start_time": "2024-11-06T17:55:41.395Z"
   },
   {
    "duration": 12,
    "start_time": "2024-11-06T17:55:42.458Z"
   },
   {
    "duration": 21,
    "start_time": "2024-11-06T17:55:42.471Z"
   },
   {
    "duration": 58,
    "start_time": "2024-11-06T17:55:42.496Z"
   },
   {
    "duration": 978,
    "start_time": "2024-11-06T17:55:42.556Z"
   },
   {
    "duration": 533,
    "start_time": "2024-11-06T17:55:43.536Z"
   },
   {
    "duration": 2,
    "start_time": "2024-11-06T17:55:44.071Z"
   },
   {
    "duration": 11,
    "start_time": "2024-11-06T17:55:44.075Z"
   },
   {
    "duration": 11,
    "start_time": "2024-11-06T17:55:44.088Z"
   },
   {
    "duration": 3,
    "start_time": "2024-11-06T17:55:44.100Z"
   },
   {
    "duration": 49,
    "start_time": "2024-11-06T17:55:44.104Z"
   },
   {
    "duration": 16,
    "start_time": "2024-11-06T17:55:44.155Z"
   },
   {
    "duration": 3,
    "start_time": "2024-11-06T17:55:44.173Z"
   },
   {
    "duration": 45,
    "start_time": "2024-11-06T17:55:44.177Z"
   },
   {
    "duration": 3,
    "start_time": "2024-11-06T17:55:44.223Z"
   },
   {
    "duration": 303,
    "start_time": "2024-11-06T17:55:44.227Z"
   },
   {
    "duration": 1064,
    "start_time": "2024-11-06T17:55:44.532Z"
   },
   {
    "duration": 439,
    "start_time": "2024-11-06T17:55:45.598Z"
   },
   {
    "duration": 3,
    "start_time": "2024-11-06T17:55:46.038Z"
   },
   {
    "duration": 30,
    "start_time": "2024-11-06T17:55:46.042Z"
   },
   {
    "duration": 234,
    "start_time": "2024-11-06T17:55:46.074Z"
   },
   {
    "duration": 14,
    "start_time": "2024-11-06T17:55:46.309Z"
   },
   {
    "duration": 160,
    "start_time": "2024-11-06T17:55:46.325Z"
   },
   {
    "duration": 159,
    "start_time": "2024-11-06T17:55:46.486Z"
   },
   {
    "duration": 159,
    "start_time": "2024-11-06T17:55:46.647Z"
   },
   {
    "duration": 154,
    "start_time": "2024-11-06T17:55:46.808Z"
   },
   {
    "duration": 3,
    "start_time": "2024-11-06T17:55:46.964Z"
   },
   {
    "duration": 12,
    "start_time": "2024-11-06T17:55:46.969Z"
   },
   {
    "duration": 144,
    "start_time": "2024-11-06T17:55:46.983Z"
   },
   {
    "duration": 9,
    "start_time": "2024-11-06T17:55:47.129Z"
   },
   {
    "duration": 77,
    "start_time": "2024-11-06T17:55:47.139Z"
   },
   {
    "duration": 94718,
    "start_time": "2024-11-06T17:55:47.218Z"
   },
   {
    "duration": 29703,
    "start_time": "2024-11-06T17:57:21.938Z"
   },
   {
    "duration": 391104,
    "start_time": "2024-11-06T17:57:51.642Z"
   },
   {
    "duration": 2,
    "start_time": "2024-11-06T18:04:22.748Z"
   },
   {
    "duration": 7,
    "start_time": "2024-11-06T18:04:22.819Z"
   },
   {
    "duration": 63,
    "start_time": "2024-11-06T18:05:10.832Z"
   },
   {
    "duration": 141,
    "start_time": "2024-11-06T18:05:12.808Z"
   },
   {
    "duration": 5354,
    "start_time": "2024-11-06T18:08:56.371Z"
   },
   {
    "duration": 11,
    "start_time": "2024-11-06T18:10:29.982Z"
   },
   {
    "duration": 1633,
    "start_time": "2024-11-06T18:14:14.491Z"
   },
   {
    "duration": 1647,
    "start_time": "2024-11-06T18:15:14.674Z"
   },
   {
    "duration": 1567,
    "start_time": "2024-11-06T18:22:24.272Z"
   },
   {
    "duration": 2636,
    "start_time": "2024-11-06T18:29:29.591Z"
   },
   {
    "duration": 1709,
    "start_time": "2024-11-06T18:29:32.229Z"
   },
   {
    "duration": 3,
    "start_time": "2024-11-06T18:29:33.940Z"
   },
   {
    "duration": 1033,
    "start_time": "2024-11-06T18:29:33.945Z"
   },
   {
    "duration": 18,
    "start_time": "2024-11-06T18:29:34.980Z"
   },
   {
    "duration": 92,
    "start_time": "2024-11-06T18:29:35.000Z"
   },
   {
    "duration": 112,
    "start_time": "2024-11-06T18:29:35.094Z"
   },
   {
    "duration": 163,
    "start_time": "2024-11-06T18:29:35.208Z"
   },
   {
    "duration": 527,
    "start_time": "2024-11-06T18:29:35.373Z"
   },
   {
    "duration": 1142,
    "start_time": "2024-11-06T18:29:35.903Z"
   },
   {
    "duration": 192,
    "start_time": "2024-11-06T18:29:37.046Z"
   },
   {
    "duration": 3,
    "start_time": "2024-11-06T18:29:37.240Z"
   },
   {
    "duration": 125,
    "start_time": "2024-11-06T18:29:37.245Z"
   },
   {
    "duration": 51,
    "start_time": "2024-11-06T18:29:37.372Z"
   },
   {
    "duration": 4,
    "start_time": "2024-11-06T18:29:37.425Z"
   },
   {
    "duration": 115,
    "start_time": "2024-11-06T18:29:37.431Z"
   },
   {
    "duration": 139,
    "start_time": "2024-11-06T18:29:37.548Z"
   },
   {
    "duration": 46,
    "start_time": "2024-11-06T18:29:37.689Z"
   },
   {
    "duration": 141,
    "start_time": "2024-11-06T18:29:37.737Z"
   },
   {
    "duration": 47,
    "start_time": "2024-11-06T18:29:37.880Z"
   },
   {
    "duration": 131,
    "start_time": "2024-11-06T18:29:37.929Z"
   },
   {
    "duration": 128,
    "start_time": "2024-11-06T18:29:38.062Z"
   },
   {
    "duration": 117,
    "start_time": "2024-11-06T18:29:38.192Z"
   },
   {
    "duration": 111,
    "start_time": "2024-11-06T18:29:38.310Z"
   },
   {
    "duration": 1056,
    "start_time": "2024-11-06T18:29:38.423Z"
   },
   {
    "duration": 12,
    "start_time": "2024-11-06T18:29:39.480Z"
   },
   {
    "duration": 28,
    "start_time": "2024-11-06T18:29:39.494Z"
   },
   {
    "duration": 31,
    "start_time": "2024-11-06T18:29:39.526Z"
   },
   {
    "duration": 1026,
    "start_time": "2024-11-06T18:29:39.559Z"
   },
   {
    "duration": 507,
    "start_time": "2024-11-06T18:29:40.587Z"
   },
   {
    "duration": 3,
    "start_time": "2024-11-06T18:29:41.095Z"
   },
   {
    "duration": 13,
    "start_time": "2024-11-06T18:29:41.099Z"
   },
   {
    "duration": 14,
    "start_time": "2024-11-06T18:29:41.113Z"
   },
   {
    "duration": 4,
    "start_time": "2024-11-06T18:29:41.128Z"
   },
   {
    "duration": 35,
    "start_time": "2024-11-06T18:29:41.133Z"
   },
   {
    "duration": 16,
    "start_time": "2024-11-06T18:29:41.169Z"
   },
   {
    "duration": 3,
    "start_time": "2024-11-06T18:29:41.186Z"
   },
   {
    "duration": 54,
    "start_time": "2024-11-06T18:29:41.190Z"
   },
   {
    "duration": 3,
    "start_time": "2024-11-06T18:29:41.246Z"
   },
   {
    "duration": 378,
    "start_time": "2024-11-06T18:29:41.250Z"
   },
   {
    "duration": 1138,
    "start_time": "2024-11-06T18:29:41.630Z"
   },
   {
    "duration": 402,
    "start_time": "2024-11-06T18:29:42.769Z"
   },
   {
    "duration": 3,
    "start_time": "2024-11-06T18:29:43.172Z"
   },
   {
    "duration": 32,
    "start_time": "2024-11-06T18:29:43.177Z"
   },
   {
    "duration": 251,
    "start_time": "2024-11-06T18:29:43.221Z"
   },
   {
    "duration": 13,
    "start_time": "2024-11-06T18:29:43.474Z"
   },
   {
    "duration": 182,
    "start_time": "2024-11-06T18:29:43.489Z"
   },
   {
    "duration": 187,
    "start_time": "2024-11-06T18:29:43.673Z"
   },
   {
    "duration": 164,
    "start_time": "2024-11-06T18:29:43.862Z"
   },
   {
    "duration": 160,
    "start_time": "2024-11-06T18:29:44.028Z"
   },
   {
    "duration": 155,
    "start_time": "2024-11-06T18:29:44.190Z"
   },
   {
    "duration": 11,
    "start_time": "2024-11-06T18:29:44.347Z"
   },
   {
    "duration": 85,
    "start_time": "2024-11-06T18:29:44.360Z"
   },
   {
    "duration": 956302,
    "start_time": "2024-11-06T18:29:44.447Z"
   },
   {
    "duration": 29514,
    "start_time": "2024-11-06T18:45:40.751Z"
   },
   {
    "duration": 496670,
    "start_time": "2024-11-06T18:46:10.267Z"
   },
   {
    "duration": 134,
    "start_time": "2024-11-06T18:54:26.939Z"
   },
   {
    "duration": 5347,
    "start_time": "2024-11-06T18:54:27.075Z"
   },
   {
    "duration": 10,
    "start_time": "2024-11-06T18:54:32.423Z"
   },
   {
    "duration": 1686,
    "start_time": "2024-11-06T18:54:32.435Z"
   },
   {
    "duration": 3136,
    "start_time": "2024-11-07T11:06:07.046Z"
   },
   {
    "duration": 5694,
    "start_time": "2024-11-07T11:06:10.185Z"
   },
   {
    "duration": 4,
    "start_time": "2024-11-07T11:06:15.881Z"
   },
   {
    "duration": 3118,
    "start_time": "2024-11-07T11:06:15.887Z"
   },
   {
    "duration": 19,
    "start_time": "2024-11-07T11:06:19.008Z"
   },
   {
    "duration": 77,
    "start_time": "2024-11-07T11:06:19.029Z"
   },
   {
    "duration": 161,
    "start_time": "2024-11-07T11:06:19.108Z"
   },
   {
    "duration": 183,
    "start_time": "2024-11-07T11:06:19.270Z"
   },
   {
    "duration": 473,
    "start_time": "2024-11-07T11:06:19.455Z"
   },
   {
    "duration": 1101,
    "start_time": "2024-11-07T11:06:19.929Z"
   },
   {
    "duration": 220,
    "start_time": "2024-11-07T11:06:21.032Z"
   },
   {
    "duration": 2,
    "start_time": "2024-11-07T11:06:21.254Z"
   },
   {
    "duration": 109,
    "start_time": "2024-11-07T11:06:21.258Z"
   },
   {
    "duration": 52,
    "start_time": "2024-11-07T11:06:21.370Z"
   },
   {
    "duration": 4,
    "start_time": "2024-11-07T11:06:21.424Z"
   },
   {
    "duration": 101,
    "start_time": "2024-11-07T11:06:21.430Z"
   },
   {
    "duration": 124,
    "start_time": "2024-11-07T11:06:21.532Z"
   },
   {
    "duration": 47,
    "start_time": "2024-11-07T11:06:21.657Z"
   },
   {
    "duration": 131,
    "start_time": "2024-11-07T11:06:21.706Z"
   },
   {
    "duration": 38,
    "start_time": "2024-11-07T11:06:21.839Z"
   },
   {
    "duration": 126,
    "start_time": "2024-11-07T11:06:21.880Z"
   },
   {
    "duration": 121,
    "start_time": "2024-11-07T11:06:22.007Z"
   },
   {
    "duration": 120,
    "start_time": "2024-11-07T11:06:22.129Z"
   },
   {
    "duration": 101,
    "start_time": "2024-11-07T11:06:22.250Z"
   },
   {
    "duration": 1017,
    "start_time": "2024-11-07T11:06:22.353Z"
   },
   {
    "duration": 11,
    "start_time": "2024-11-07T11:06:23.371Z"
   },
   {
    "duration": 27,
    "start_time": "2024-11-07T11:06:23.384Z"
   },
   {
    "duration": 23,
    "start_time": "2024-11-07T11:06:23.412Z"
   },
   {
    "duration": 1009,
    "start_time": "2024-11-07T11:06:23.436Z"
   },
   {
    "duration": 466,
    "start_time": "2024-11-07T11:06:24.447Z"
   },
   {
    "duration": 9,
    "start_time": "2024-11-07T11:06:24.916Z"
   },
   {
    "duration": 36,
    "start_time": "2024-11-07T11:06:24.926Z"
   },
   {
    "duration": 45,
    "start_time": "2024-11-07T11:06:24.963Z"
   },
   {
    "duration": 15,
    "start_time": "2024-11-07T11:06:25.010Z"
   },
   {
    "duration": 23,
    "start_time": "2024-11-07T11:06:25.027Z"
   },
   {
    "duration": 301,
    "start_time": "2024-11-07T11:06:25.052Z"
   },
   {
    "duration": 1028,
    "start_time": "2024-11-07T11:06:25.355Z"
   },
   {
    "duration": 373,
    "start_time": "2024-11-07T11:06:26.384Z"
   },
   {
    "duration": 28,
    "start_time": "2024-11-07T11:06:26.758Z"
   },
   {
    "duration": 237,
    "start_time": "2024-11-07T11:06:26.788Z"
   },
   {
    "duration": 12,
    "start_time": "2024-11-07T11:06:27.029Z"
   },
   {
    "duration": 156,
    "start_time": "2024-11-07T11:06:27.043Z"
   },
   {
    "duration": 165,
    "start_time": "2024-11-07T11:06:27.201Z"
   },
   {
    "duration": 157,
    "start_time": "2024-11-07T11:06:27.368Z"
   },
   {
    "duration": 144,
    "start_time": "2024-11-07T11:06:27.527Z"
   },
   {
    "duration": 149,
    "start_time": "2024-11-07T11:06:27.674Z"
   },
   {
    "duration": 9,
    "start_time": "2024-11-07T11:06:27.824Z"
   },
   {
    "duration": 1622,
    "start_time": "2024-11-09T03:25:28.832Z"
   },
   {
    "duration": 108,
    "start_time": "2024-11-09T03:39:02.288Z"
   },
   {
    "duration": 8,
    "start_time": "2024-11-09T03:39:24.185Z"
   },
   {
    "duration": 2904,
    "start_time": "2024-11-09T03:39:36.630Z"
   },
   {
    "duration": 1428,
    "start_time": "2024-11-09T03:39:39.536Z"
   },
   {
    "duration": 4,
    "start_time": "2024-11-09T03:39:40.965Z"
   },
   {
    "duration": 2865,
    "start_time": "2024-11-09T03:39:40.971Z"
   },
   {
    "duration": 14,
    "start_time": "2024-11-09T03:39:43.837Z"
   },
   {
    "duration": 60,
    "start_time": "2024-11-09T03:39:43.853Z"
   },
   {
    "duration": 138,
    "start_time": "2024-11-09T03:39:43.914Z"
   },
   {
    "duration": 115,
    "start_time": "2024-11-09T03:39:44.053Z"
   },
   {
    "duration": 434,
    "start_time": "2024-11-09T03:39:44.169Z"
   },
   {
    "duration": 872,
    "start_time": "2024-11-09T03:39:44.606Z"
   },
   {
    "duration": 200,
    "start_time": "2024-11-09T03:39:45.479Z"
   },
   {
    "duration": 3,
    "start_time": "2024-11-09T03:39:45.680Z"
   },
   {
    "duration": 88,
    "start_time": "2024-11-09T03:39:45.684Z"
   },
   {
    "duration": 45,
    "start_time": "2024-11-09T03:39:45.773Z"
   },
   {
    "duration": 4,
    "start_time": "2024-11-09T03:39:45.820Z"
   },
   {
    "duration": 84,
    "start_time": "2024-11-09T03:39:45.825Z"
   },
   {
    "duration": 91,
    "start_time": "2024-11-09T03:39:45.910Z"
   },
   {
    "duration": 33,
    "start_time": "2024-11-09T03:39:46.003Z"
   },
   {
    "duration": 101,
    "start_time": "2024-11-09T03:39:46.038Z"
   },
   {
    "duration": 31,
    "start_time": "2024-11-09T03:39:46.140Z"
   },
   {
    "duration": 94,
    "start_time": "2024-11-09T03:39:46.173Z"
   },
   {
    "duration": 98,
    "start_time": "2024-11-09T03:39:46.269Z"
   },
   {
    "duration": 91,
    "start_time": "2024-11-09T03:39:46.368Z"
   },
   {
    "duration": 70,
    "start_time": "2024-11-09T03:39:46.460Z"
   },
   {
    "duration": 842,
    "start_time": "2024-11-09T03:39:46.532Z"
   },
   {
    "duration": 8,
    "start_time": "2024-11-09T03:39:47.375Z"
   },
   {
    "duration": 24,
    "start_time": "2024-11-09T03:39:47.385Z"
   },
   {
    "duration": 22,
    "start_time": "2024-11-09T03:39:47.412Z"
   },
   {
    "duration": 768,
    "start_time": "2024-11-09T03:39:47.436Z"
   },
   {
    "duration": 364,
    "start_time": "2024-11-09T03:39:48.206Z"
   },
   {
    "duration": 7,
    "start_time": "2024-11-09T03:39:48.572Z"
   },
   {
    "duration": 4,
    "start_time": "2024-11-09T03:39:48.580Z"
   },
   {
    "duration": 25,
    "start_time": "2024-11-09T03:39:48.585Z"
   },
   {
    "duration": 15,
    "start_time": "2024-11-09T03:39:48.612Z"
   },
   {
    "duration": 28,
    "start_time": "2024-11-09T03:39:48.629Z"
   },
   {
    "duration": 249,
    "start_time": "2024-11-09T03:39:48.658Z"
   },
   {
    "duration": 850,
    "start_time": "2024-11-09T03:39:48.908Z"
   },
   {
    "duration": 340,
    "start_time": "2024-11-09T03:39:49.759Z"
   },
   {
    "duration": 17,
    "start_time": "2024-11-09T03:39:50.101Z"
   },
   {
    "duration": 198,
    "start_time": "2024-11-09T03:39:50.119Z"
   },
   {
    "duration": 9,
    "start_time": "2024-11-09T03:39:50.319Z"
   },
   {
    "duration": 156,
    "start_time": "2024-11-09T03:39:50.329Z"
   },
   {
    "duration": 137,
    "start_time": "2024-11-09T03:39:50.486Z"
   },
   {
    "duration": 141,
    "start_time": "2024-11-09T03:39:50.625Z"
   },
   {
    "duration": 138,
    "start_time": "2024-11-09T03:39:50.767Z"
   },
   {
    "duration": 129,
    "start_time": "2024-11-09T03:39:50.907Z"
   },
   {
    "duration": 11,
    "start_time": "2024-11-09T03:39:51.037Z"
   },
   {
    "duration": 65,
    "start_time": "2024-11-09T03:39:51.049Z"
   },
   {
    "duration": 3,
    "start_time": "2024-11-09T03:39:51.115Z"
   },
   {
    "duration": 5,
    "start_time": "2024-11-09T03:39:51.119Z"
   },
   {
    "duration": 2576,
    "start_time": "2024-11-09T03:40:59.570Z"
   },
   {
    "duration": 1403,
    "start_time": "2024-11-09T03:41:02.148Z"
   },
   {
    "duration": 3,
    "start_time": "2024-11-09T03:41:03.553Z"
   },
   {
    "duration": 806,
    "start_time": "2024-11-09T03:41:03.558Z"
   },
   {
    "duration": 15,
    "start_time": "2024-11-09T03:41:04.366Z"
   },
   {
    "duration": 70,
    "start_time": "2024-11-09T03:41:04.383Z"
   },
   {
    "duration": 134,
    "start_time": "2024-11-09T03:41:04.455Z"
   },
   {
    "duration": 123,
    "start_time": "2024-11-09T03:41:04.590Z"
   },
   {
    "duration": 382,
    "start_time": "2024-11-09T03:41:04.715Z"
   },
   {
    "duration": 875,
    "start_time": "2024-11-09T03:41:05.100Z"
   },
   {
    "duration": 179,
    "start_time": "2024-11-09T03:41:05.977Z"
   },
   {
    "duration": 2,
    "start_time": "2024-11-09T03:41:06.158Z"
   },
   {
    "duration": 139,
    "start_time": "2024-11-09T03:41:06.161Z"
   },
   {
    "duration": 28,
    "start_time": "2024-11-09T03:41:06.301Z"
   },
   {
    "duration": 22,
    "start_time": "2024-11-09T03:41:06.331Z"
   },
   {
    "duration": 109,
    "start_time": "2024-11-09T03:41:06.354Z"
   },
   {
    "duration": 87,
    "start_time": "2024-11-09T03:41:06.464Z"
   },
   {
    "duration": 31,
    "start_time": "2024-11-09T03:41:06.552Z"
   },
   {
    "duration": 192,
    "start_time": "2024-11-09T03:41:06.584Z"
   },
   {
    "duration": 32,
    "start_time": "2024-11-09T03:41:06.777Z"
   },
   {
    "duration": 83,
    "start_time": "2024-11-09T03:41:06.810Z"
   },
   {
    "duration": 93,
    "start_time": "2024-11-09T03:41:06.894Z"
   },
   {
    "duration": 84,
    "start_time": "2024-11-09T03:41:06.989Z"
   },
   {
    "duration": 73,
    "start_time": "2024-11-09T03:41:07.074Z"
   },
   {
    "duration": 955,
    "start_time": "2024-11-09T03:41:07.148Z"
   },
   {
    "duration": 8,
    "start_time": "2024-11-09T03:41:08.106Z"
   },
   {
    "duration": 11,
    "start_time": "2024-11-09T03:41:08.115Z"
   },
   {
    "duration": 26,
    "start_time": "2024-11-09T03:41:08.129Z"
   },
   {
    "duration": 780,
    "start_time": "2024-11-09T03:41:08.157Z"
   },
   {
    "duration": 396,
    "start_time": "2024-11-09T03:41:08.939Z"
   },
   {
    "duration": 7,
    "start_time": "2024-11-09T03:41:09.337Z"
   },
   {
    "duration": 138,
    "start_time": "2024-11-09T03:41:09.346Z"
   },
   {
    "duration": 67,
    "start_time": "2024-11-09T03:41:09.485Z"
   },
   {
    "duration": 15,
    "start_time": "2024-11-09T03:41:09.553Z"
   },
   {
    "duration": 30,
    "start_time": "2024-11-09T03:41:09.569Z"
   },
   {
    "duration": 222,
    "start_time": "2024-11-09T03:41:09.601Z"
   },
   {
    "duration": 808,
    "start_time": "2024-11-09T03:41:09.824Z"
   },
   {
    "duration": 320,
    "start_time": "2024-11-09T03:41:10.633Z"
   },
   {
    "duration": 23,
    "start_time": "2024-11-09T03:41:10.955Z"
   },
   {
    "duration": 207,
    "start_time": "2024-11-09T03:41:10.979Z"
   },
   {
    "duration": 10,
    "start_time": "2024-11-09T03:41:11.188Z"
   },
   {
    "duration": 172,
    "start_time": "2024-11-09T03:41:11.199Z"
   },
   {
    "duration": 153,
    "start_time": "2024-11-09T03:41:11.372Z"
   },
   {
    "duration": 145,
    "start_time": "2024-11-09T03:41:11.526Z"
   },
   {
    "duration": 135,
    "start_time": "2024-11-09T03:41:11.673Z"
   },
   {
    "duration": 132,
    "start_time": "2024-11-09T03:41:11.810Z"
   },
   {
    "duration": 8,
    "start_time": "2024-11-09T03:41:11.944Z"
   },
   {
    "duration": 113,
    "start_time": "2024-11-09T03:41:11.953Z"
   },
   {
    "duration": 2,
    "start_time": "2024-11-09T03:41:12.068Z"
   },
   {
    "duration": 2442,
    "start_time": "2024-11-09T03:41:12.072Z"
   },
   {
    "duration": 0,
    "start_time": "2024-11-09T03:41:14.515Z"
   },
   {
    "duration": 0,
    "start_time": "2024-11-09T03:41:14.516Z"
   },
   {
    "duration": 0,
    "start_time": "2024-11-09T03:41:14.517Z"
   },
   {
    "duration": 0,
    "start_time": "2024-11-09T03:41:14.519Z"
   },
   {
    "duration": 0,
    "start_time": "2024-11-09T03:41:14.519Z"
   },
   {
    "duration": 0,
    "start_time": "2024-11-09T03:41:14.520Z"
   },
   {
    "duration": 0,
    "start_time": "2024-11-09T03:41:14.521Z"
   },
   {
    "duration": 0,
    "start_time": "2024-11-09T03:41:14.525Z"
   },
   {
    "duration": 0,
    "start_time": "2024-11-09T03:41:14.526Z"
   },
   {
    "duration": 0,
    "start_time": "2024-11-09T03:41:14.528Z"
   },
   {
    "duration": 0,
    "start_time": "2024-11-09T03:41:14.529Z"
   },
   {
    "duration": 2,
    "start_time": "2024-11-09T03:43:42.374Z"
   },
   {
    "duration": 3,
    "start_time": "2024-11-09T03:45:36.409Z"
   },
   {
    "duration": 3,
    "start_time": "2024-11-09T03:46:19.726Z"
   },
   {
    "duration": 4,
    "start_time": "2024-11-09T03:47:18.599Z"
   },
   {
    "duration": 2371,
    "start_time": "2024-11-09T03:47:58.938Z"
   },
   {
    "duration": 17,
    "start_time": "2024-11-09T03:50:10.516Z"
   },
   {
    "duration": 8,
    "start_time": "2024-11-09T03:53:31.811Z"
   },
   {
    "duration": 10,
    "start_time": "2024-11-09T03:53:39.333Z"
   },
   {
    "duration": 60,
    "start_time": "2024-11-09T03:54:37.934Z"
   },
   {
    "duration": 11,
    "start_time": "2024-11-09T03:54:43.542Z"
   },
   {
    "duration": 3,
    "start_time": "2024-11-09T03:54:55.419Z"
   },
   {
    "duration": 9,
    "start_time": "2024-11-09T03:55:11.451Z"
   },
   {
    "duration": 46,
    "start_time": "2024-11-09T03:55:12.238Z"
   },
   {
    "duration": 23,
    "start_time": "2024-11-09T03:55:13.186Z"
   },
   {
    "duration": 7,
    "start_time": "2024-11-09T03:55:14.193Z"
   },
   {
    "duration": 40,
    "start_time": "2024-11-09T03:55:16.412Z"
   },
   {
    "duration": 2,
    "start_time": "2024-11-09T03:55:18.847Z"
   },
   {
    "duration": 3,
    "start_time": "2024-11-09T03:55:19.868Z"
   },
   {
    "duration": 3,
    "start_time": "2024-11-09T03:55:20.997Z"
   },
   {
    "duration": 3,
    "start_time": "2024-11-09T03:55:24.094Z"
   },
   {
    "duration": 18590,
    "start_time": "2024-11-09T03:55:28.218Z"
   },
   {
    "duration": 3,
    "start_time": "2024-11-09T03:56:33.785Z"
   },
   {
    "duration": 104,
    "start_time": "2024-11-09T03:56:49.683Z"
   },
   {
    "duration": 19,
    "start_time": "2024-11-09T03:57:03.703Z"
   },
   {
    "duration": 3,
    "start_time": "2024-11-09T04:06:23.145Z"
   },
   {
    "duration": 56,
    "start_time": "2024-11-09T04:06:36.515Z"
   },
   {
    "duration": 56,
    "start_time": "2024-11-09T04:06:51.293Z"
   },
   {
    "duration": 70,
    "start_time": "2024-11-09T04:06:52.403Z"
   },
   {
    "duration": 3,
    "start_time": "2024-11-09T04:08:15.517Z"
   },
   {
    "duration": 3,
    "start_time": "2024-11-09T04:08:48.581Z"
   },
   {
    "duration": 11,
    "start_time": "2024-11-09T04:09:09.039Z"
   },
   {
    "duration": 3,
    "start_time": "2024-11-09T04:12:35.280Z"
   },
   {
    "duration": 2,
    "start_time": "2024-11-09T04:12:36.087Z"
   },
   {
    "duration": 3,
    "start_time": "2024-11-09T04:12:36.849Z"
   },
   {
    "duration": 2,
    "start_time": "2024-11-09T04:13:19.305Z"
   },
   {
    "duration": 984,
    "start_time": "2024-11-09T04:13:48.797Z"
   },
   {
    "duration": 3,
    "start_time": "2024-11-09T04:14:50.704Z"
   },
   {
    "duration": 2,
    "start_time": "2024-11-09T04:15:26.435Z"
   },
   {
    "duration": 3,
    "start_time": "2024-11-09T04:15:27.554Z"
   },
   {
    "duration": 3,
    "start_time": "2024-11-09T04:15:28.395Z"
   },
   {
    "duration": 3,
    "start_time": "2024-11-09T04:15:29.314Z"
   },
   {
    "duration": 2571,
    "start_time": "2024-11-09T04:44:03.312Z"
   },
   {
    "duration": 1449,
    "start_time": "2024-11-09T04:44:05.885Z"
   },
   {
    "duration": 3,
    "start_time": "2024-11-09T04:44:07.336Z"
   },
   {
    "duration": 803,
    "start_time": "2024-11-09T04:44:07.340Z"
   },
   {
    "duration": 15,
    "start_time": "2024-11-09T04:44:08.144Z"
   },
   {
    "duration": 71,
    "start_time": "2024-11-09T04:44:08.161Z"
   },
   {
    "duration": 136,
    "start_time": "2024-11-09T04:44:08.233Z"
   },
   {
    "duration": 130,
    "start_time": "2024-11-09T04:44:08.370Z"
   },
   {
    "duration": 389,
    "start_time": "2024-11-09T04:44:08.502Z"
   },
   {
    "duration": 853,
    "start_time": "2024-11-09T04:44:08.893Z"
   },
   {
    "duration": 174,
    "start_time": "2024-11-09T04:44:09.748Z"
   },
   {
    "duration": 3,
    "start_time": "2024-11-09T04:44:09.923Z"
   },
   {
    "duration": 90,
    "start_time": "2024-11-09T04:44:09.927Z"
   },
   {
    "duration": 44,
    "start_time": "2024-11-09T04:44:10.019Z"
   },
   {
    "duration": 5,
    "start_time": "2024-11-09T04:44:10.066Z"
   },
   {
    "duration": 95,
    "start_time": "2024-11-09T04:44:10.073Z"
   },
   {
    "duration": 90,
    "start_time": "2024-11-09T04:44:10.169Z"
   },
   {
    "duration": 30,
    "start_time": "2024-11-09T04:44:10.260Z"
   },
   {
    "duration": 107,
    "start_time": "2024-11-09T04:44:10.292Z"
   },
   {
    "duration": 31,
    "start_time": "2024-11-09T04:44:10.407Z"
   },
   {
    "duration": 98,
    "start_time": "2024-11-09T04:44:10.440Z"
   },
   {
    "duration": 88,
    "start_time": "2024-11-09T04:44:10.540Z"
   },
   {
    "duration": 88,
    "start_time": "2024-11-09T04:44:10.630Z"
   },
   {
    "duration": 67,
    "start_time": "2024-11-09T04:44:10.720Z"
   },
   {
    "duration": 818,
    "start_time": "2024-11-09T04:44:10.789Z"
   },
   {
    "duration": 9,
    "start_time": "2024-11-09T04:44:11.608Z"
   },
   {
    "duration": 64,
    "start_time": "2024-11-09T04:44:11.619Z"
   },
   {
    "duration": 23,
    "start_time": "2024-11-09T04:44:11.687Z"
   },
   {
    "duration": 784,
    "start_time": "2024-11-09T04:44:11.712Z"
   },
   {
    "duration": 382,
    "start_time": "2024-11-09T04:44:12.498Z"
   },
   {
    "duration": 30,
    "start_time": "2024-11-09T04:44:12.881Z"
   },
   {
    "duration": 2,
    "start_time": "2024-11-09T04:44:12.913Z"
   },
   {
    "duration": 17,
    "start_time": "2024-11-09T04:44:12.916Z"
   },
   {
    "duration": 13,
    "start_time": "2024-11-09T04:44:12.934Z"
   },
   {
    "duration": 25,
    "start_time": "2024-11-09T04:44:12.949Z"
   },
   {
    "duration": 271,
    "start_time": "2024-11-09T04:44:12.975Z"
   },
   {
    "duration": 965,
    "start_time": "2024-11-09T04:44:13.247Z"
   },
   {
    "duration": 306,
    "start_time": "2024-11-09T04:44:14.213Z"
   },
   {
    "duration": 8,
    "start_time": "2024-11-09T04:44:14.520Z"
   },
   {
    "duration": 193,
    "start_time": "2024-11-09T04:44:14.529Z"
   },
   {
    "duration": 9,
    "start_time": "2024-11-09T04:44:14.723Z"
   },
   {
    "duration": 129,
    "start_time": "2024-11-09T04:44:14.733Z"
   },
   {
    "duration": 138,
    "start_time": "2024-11-09T04:44:14.864Z"
   },
   {
    "duration": 140,
    "start_time": "2024-11-09T04:44:15.003Z"
   },
   {
    "duration": 137,
    "start_time": "2024-11-09T04:44:15.144Z"
   },
   {
    "duration": 63,
    "start_time": "2024-11-09T04:44:15.282Z"
   },
   {
    "duration": 149,
    "start_time": "2024-11-09T04:44:15.347Z"
   },
   {
    "duration": 134,
    "start_time": "2024-11-09T04:44:15.498Z"
   },
   {
    "duration": 7,
    "start_time": "2024-11-09T04:44:15.633Z"
   },
   {
    "duration": 74,
    "start_time": "2024-11-09T04:44:15.642Z"
   },
   {
    "duration": 2,
    "start_time": "2024-11-09T04:44:15.718Z"
   },
   {
    "duration": 6,
    "start_time": "2024-11-09T04:44:15.721Z"
   },
   {
    "duration": 16,
    "start_time": "2024-11-09T04:44:15.729Z"
   },
   {
    "duration": 24,
    "start_time": "2024-11-09T04:44:15.746Z"
   },
   {
    "duration": 18743,
    "start_time": "2024-11-09T04:44:15.772Z"
   },
   {
    "duration": 3,
    "start_time": "2024-11-09T04:44:34.607Z"
   },
   {
    "duration": 99,
    "start_time": "2024-11-09T04:44:34.611Z"
   },
   {
    "duration": 3,
    "start_time": "2024-11-09T04:44:34.712Z"
   },
   {
    "duration": 94,
    "start_time": "2024-11-09T04:44:34.716Z"
   },
   {
    "duration": 9,
    "start_time": "2024-11-09T04:44:34.811Z"
   },
   {
    "duration": 17,
    "start_time": "2024-11-09T04:44:34.821Z"
   },
   {
    "duration": 2590,
    "start_time": "2024-11-09T05:07:09.150Z"
   },
   {
    "duration": 1502,
    "start_time": "2024-11-09T05:07:11.742Z"
   },
   {
    "duration": 4,
    "start_time": "2024-11-09T05:07:13.245Z"
   },
   {
    "duration": 804,
    "start_time": "2024-11-09T05:07:13.251Z"
   },
   {
    "duration": 18,
    "start_time": "2024-11-09T05:07:14.056Z"
   },
   {
    "duration": 74,
    "start_time": "2024-11-09T05:07:14.076Z"
   },
   {
    "duration": 136,
    "start_time": "2024-11-09T05:07:14.151Z"
   },
   {
    "duration": 115,
    "start_time": "2024-11-09T05:07:14.289Z"
   },
   {
    "duration": 392,
    "start_time": "2024-11-09T05:07:14.407Z"
   },
   {
    "duration": 888,
    "start_time": "2024-11-09T05:07:14.801Z"
   },
   {
    "duration": 183,
    "start_time": "2024-11-09T05:07:15.690Z"
   },
   {
    "duration": 3,
    "start_time": "2024-11-09T05:07:15.874Z"
   },
   {
    "duration": 103,
    "start_time": "2024-11-09T05:07:15.878Z"
   },
   {
    "duration": 32,
    "start_time": "2024-11-09T05:07:15.983Z"
   },
   {
    "duration": 4,
    "start_time": "2024-11-09T05:07:16.017Z"
   },
   {
    "duration": 82,
    "start_time": "2024-11-09T05:07:16.023Z"
   },
   {
    "duration": 86,
    "start_time": "2024-11-09T05:07:16.107Z"
   },
   {
    "duration": 41,
    "start_time": "2024-11-09T05:07:16.195Z"
   },
   {
    "duration": 105,
    "start_time": "2024-11-09T05:07:16.238Z"
   },
   {
    "duration": 30,
    "start_time": "2024-11-09T05:07:16.344Z"
   },
   {
    "duration": 93,
    "start_time": "2024-11-09T05:07:16.376Z"
   },
   {
    "duration": 90,
    "start_time": "2024-11-09T05:07:16.470Z"
   },
   {
    "duration": 85,
    "start_time": "2024-11-09T05:07:16.561Z"
   },
   {
    "duration": 73,
    "start_time": "2024-11-09T05:07:16.647Z"
   },
   {
    "duration": 906,
    "start_time": "2024-11-09T05:07:16.721Z"
   },
   {
    "duration": 8,
    "start_time": "2024-11-09T05:07:17.628Z"
   },
   {
    "duration": 72,
    "start_time": "2024-11-09T05:07:17.638Z"
   },
   {
    "duration": 30,
    "start_time": "2024-11-09T05:07:17.714Z"
   },
   {
    "duration": 772,
    "start_time": "2024-11-09T05:07:17.745Z"
   },
   {
    "duration": 392,
    "start_time": "2024-11-09T05:07:18.519Z"
   },
   {
    "duration": 6,
    "start_time": "2024-11-09T05:07:18.913Z"
   },
   {
    "duration": 3,
    "start_time": "2024-11-09T05:07:18.921Z"
   },
   {
    "duration": 36,
    "start_time": "2024-11-09T05:07:18.925Z"
   },
   {
    "duration": 15,
    "start_time": "2024-11-09T05:07:18.962Z"
   },
   {
    "duration": 41,
    "start_time": "2024-11-09T05:07:18.979Z"
   },
   {
    "duration": 257,
    "start_time": "2024-11-09T05:07:19.022Z"
   },
   {
    "duration": 843,
    "start_time": "2024-11-09T05:07:19.281Z"
   },
   {
    "duration": 327,
    "start_time": "2024-11-09T05:07:20.125Z"
   },
   {
    "duration": 23,
    "start_time": "2024-11-09T05:07:20.453Z"
   },
   {
    "duration": 202,
    "start_time": "2024-11-09T05:07:20.478Z"
   },
   {
    "duration": 11,
    "start_time": "2024-11-09T05:07:20.681Z"
   },
   {
    "duration": 152,
    "start_time": "2024-11-09T05:07:20.693Z"
   },
   {
    "duration": 142,
    "start_time": "2024-11-09T05:07:20.846Z"
   },
   {
    "duration": 151,
    "start_time": "2024-11-09T05:07:20.990Z"
   },
   {
    "duration": 144,
    "start_time": "2024-11-09T05:07:21.142Z"
   },
   {
    "duration": 65,
    "start_time": "2024-11-09T05:07:21.288Z"
   },
   {
    "duration": 84,
    "start_time": "2024-11-09T05:07:21.355Z"
   },
   {
    "duration": 162,
    "start_time": "2024-11-09T05:07:21.441Z"
   },
   {
    "duration": 9,
    "start_time": "2024-11-09T05:07:21.605Z"
   },
   {
    "duration": 75,
    "start_time": "2024-11-09T05:07:21.616Z"
   },
   {
    "duration": 16,
    "start_time": "2024-11-09T05:07:21.692Z"
   },
   {
    "duration": 28,
    "start_time": "2024-11-09T05:07:21.709Z"
   },
   {
    "duration": 21,
    "start_time": "2024-11-09T05:07:21.738Z"
   },
   {
    "duration": 26,
    "start_time": "2024-11-09T05:07:21.761Z"
   },
   {
    "duration": 18819,
    "start_time": "2024-11-09T05:07:21.789Z"
   },
   {
    "duration": 3,
    "start_time": "2024-11-09T05:07:40.609Z"
   },
   {
    "duration": 95,
    "start_time": "2024-11-09T05:07:40.614Z"
   },
   {
    "duration": 104,
    "start_time": "2024-11-09T05:07:40.711Z"
   },
   {
    "duration": 40,
    "start_time": "2024-11-09T05:07:40.816Z"
   },
   {
    "duration": 26,
    "start_time": "2024-11-09T05:07:40.857Z"
   },
   {
    "duration": 16,
    "start_time": "2024-11-09T05:07:40.884Z"
   },
   {
    "duration": 8,
    "start_time": "2024-11-09T05:07:40.901Z"
   },
   {
    "duration": 13,
    "start_time": "2024-11-09T05:07:40.910Z"
   },
   {
    "duration": 225077,
    "start_time": "2024-11-09T05:07:40.924Z"
   },
   {
    "duration": 81,
    "start_time": "2024-11-09T05:11:26.002Z"
   },
   {
    "duration": 0,
    "start_time": "2024-11-09T05:11:26.084Z"
   },
   {
    "duration": 0,
    "start_time": "2024-11-09T05:11:26.085Z"
   },
   {
    "duration": 0,
    "start_time": "2024-11-09T05:11:26.086Z"
   },
   {
    "duration": 0,
    "start_time": "2024-11-09T05:11:26.087Z"
   },
   {
    "duration": 0,
    "start_time": "2024-11-09T05:11:26.088Z"
   },
   {
    "duration": 0,
    "start_time": "2024-11-09T05:11:26.089Z"
   },
   {
    "duration": 0,
    "start_time": "2024-11-09T05:11:26.090Z"
   },
   {
    "duration": 0,
    "start_time": "2024-11-09T05:11:26.092Z"
   },
   {
    "duration": 0,
    "start_time": "2024-11-09T05:11:26.093Z"
   },
   {
    "duration": 0,
    "start_time": "2024-11-09T05:11:26.094Z"
   },
   {
    "duration": 0,
    "start_time": "2024-11-09T05:11:26.094Z"
   },
   {
    "duration": 224577,
    "start_time": "2024-11-09T05:14:19.283Z"
   },
   {
    "duration": 3,
    "start_time": "2024-11-09T05:18:03.861Z"
   },
   {
    "duration": 2743,
    "start_time": "2024-11-09T05:42:36.179Z"
   },
   {
    "duration": 1524,
    "start_time": "2024-11-09T05:42:38.924Z"
   },
   {
    "duration": 4,
    "start_time": "2024-11-09T05:42:40.449Z"
   },
   {
    "duration": 870,
    "start_time": "2024-11-09T05:42:40.455Z"
   },
   {
    "duration": 15,
    "start_time": "2024-11-09T05:42:41.327Z"
   },
   {
    "duration": 82,
    "start_time": "2024-11-09T05:42:41.344Z"
   },
   {
    "duration": 137,
    "start_time": "2024-11-09T05:42:41.427Z"
   },
   {
    "duration": 125,
    "start_time": "2024-11-09T05:42:41.566Z"
   },
   {
    "duration": 451,
    "start_time": "2024-11-09T05:42:41.692Z"
   },
   {
    "duration": 950,
    "start_time": "2024-11-09T05:42:42.147Z"
   },
   {
    "duration": 202,
    "start_time": "2024-11-09T05:42:43.098Z"
   },
   {
    "duration": 8,
    "start_time": "2024-11-09T05:42:43.313Z"
   },
   {
    "duration": 93,
    "start_time": "2024-11-09T05:42:43.323Z"
   },
   {
    "duration": 39,
    "start_time": "2024-11-09T05:42:43.421Z"
   },
   {
    "duration": 3,
    "start_time": "2024-11-09T05:42:43.462Z"
   },
   {
    "duration": 85,
    "start_time": "2024-11-09T05:42:43.467Z"
   },
   {
    "duration": 103,
    "start_time": "2024-11-09T05:42:43.553Z"
   },
   {
    "duration": 30,
    "start_time": "2024-11-09T05:42:43.657Z"
   },
   {
    "duration": 133,
    "start_time": "2024-11-09T05:42:43.689Z"
   },
   {
    "duration": 31,
    "start_time": "2024-11-09T05:42:43.824Z"
   },
   {
    "duration": 122,
    "start_time": "2024-11-09T05:42:43.857Z"
   },
   {
    "duration": 145,
    "start_time": "2024-11-09T05:42:43.981Z"
   },
   {
    "duration": 79,
    "start_time": "2024-11-09T05:42:44.128Z"
   },
   {
    "duration": 72,
    "start_time": "2024-11-09T05:42:44.212Z"
   },
   {
    "duration": 930,
    "start_time": "2024-11-09T05:42:44.286Z"
   },
   {
    "duration": 11,
    "start_time": "2024-11-09T05:42:45.224Z"
   },
   {
    "duration": 67,
    "start_time": "2024-11-09T05:42:45.237Z"
   },
   {
    "duration": 42,
    "start_time": "2024-11-09T05:42:45.310Z"
   },
   {
    "duration": 834,
    "start_time": "2024-11-09T05:42:45.354Z"
   },
   {
    "duration": 435,
    "start_time": "2024-11-09T05:42:46.190Z"
   },
   {
    "duration": 6,
    "start_time": "2024-11-09T05:42:46.627Z"
   },
   {
    "duration": 4,
    "start_time": "2024-11-09T05:42:46.635Z"
   },
   {
    "duration": 38,
    "start_time": "2024-11-09T05:42:46.641Z"
   },
   {
    "duration": 28,
    "start_time": "2024-11-09T05:42:46.681Z"
   },
   {
    "duration": 37,
    "start_time": "2024-11-09T05:42:46.710Z"
   },
   {
    "duration": 229,
    "start_time": "2024-11-09T05:42:46.748Z"
   },
   {
    "duration": 906,
    "start_time": "2024-11-09T05:42:46.979Z"
   },
   {
    "duration": 362,
    "start_time": "2024-11-09T05:42:47.886Z"
   },
   {
    "duration": 16,
    "start_time": "2024-11-09T05:42:48.249Z"
   },
   {
    "duration": 230,
    "start_time": "2024-11-09T05:42:48.266Z"
   },
   {
    "duration": 23,
    "start_time": "2024-11-09T05:42:48.498Z"
   },
   {
    "duration": 153,
    "start_time": "2024-11-09T05:42:48.523Z"
   },
   {
    "duration": 148,
    "start_time": "2024-11-09T05:42:48.677Z"
   },
   {
    "duration": 156,
    "start_time": "2024-11-09T05:42:48.826Z"
   },
   {
    "duration": 144,
    "start_time": "2024-11-09T05:42:48.983Z"
   },
   {
    "duration": 61,
    "start_time": "2024-11-09T05:42:49.128Z"
   },
   {
    "duration": 179,
    "start_time": "2024-11-09T05:42:49.190Z"
   },
   {
    "duration": 152,
    "start_time": "2024-11-09T05:42:49.371Z"
   },
   {
    "duration": 13,
    "start_time": "2024-11-09T05:42:49.525Z"
   },
   {
    "duration": 55,
    "start_time": "2024-11-09T05:42:49.540Z"
   },
   {
    "duration": 3,
    "start_time": "2024-11-09T05:42:49.596Z"
   },
   {
    "duration": 43,
    "start_time": "2024-11-09T05:42:49.600Z"
   },
   {
    "duration": 17,
    "start_time": "2024-11-09T05:42:49.645Z"
   },
   {
    "duration": 10,
    "start_time": "2024-11-09T05:42:49.664Z"
   },
   {
    "duration": 36254,
    "start_time": "2024-11-09T05:42:49.675Z"
   },
   {
    "duration": 80,
    "start_time": "2024-11-09T05:43:25.936Z"
   },
   {
    "duration": 106,
    "start_time": "2024-11-09T05:43:26.017Z"
   },
   {
    "duration": 4,
    "start_time": "2024-11-09T05:43:26.131Z"
   },
   {
    "duration": 81,
    "start_time": "2024-11-09T05:43:26.139Z"
   },
   {
    "duration": 4,
    "start_time": "2024-11-09T05:43:26.225Z"
   },
   {
    "duration": 7,
    "start_time": "2024-11-09T05:43:26.231Z"
   },
   {
    "duration": 8,
    "start_time": "2024-11-09T05:43:26.239Z"
   },
   {
    "duration": 18,
    "start_time": "2024-11-09T05:43:26.248Z"
   },
   {
    "duration": 237183,
    "start_time": "2024-11-09T05:43:26.267Z"
   },
   {
    "duration": 3,
    "start_time": "2024-11-09T05:47:23.451Z"
   },
   {
    "duration": 530,
    "start_time": "2024-11-09T05:47:23.455Z"
   },
   {
    "duration": 4,
    "start_time": "2024-11-09T05:47:23.986Z"
   },
   {
    "duration": 283,
    "start_time": "2024-11-09T05:47:23.991Z"
   },
   {
    "duration": 20,
    "start_time": "2024-11-09T05:47:24.276Z"
   },
   {
    "duration": 3979236,
    "start_time": "2024-11-09T05:47:24.297Z"
   },
   {
    "duration": 3,
    "start_time": "2024-11-09T06:53:43.534Z"
   },
   {
    "duration": 3217,
    "start_time": "2024-11-09T06:53:43.538Z"
   },
   {
    "duration": 52,
    "start_time": "2024-11-09T06:53:46.756Z"
   },
   {
    "duration": 69510,
    "start_time": "2024-11-09T06:53:46.810Z"
   },
   {
    "duration": 3,
    "start_time": "2024-11-09T06:54:56.406Z"
   },
   {
    "duration": 5408,
    "start_time": "2024-11-09T06:54:56.411Z"
   },
   {
    "duration": 0,
    "start_time": "2024-11-09T06:55:01.821Z"
   },
   {
    "duration": 0,
    "start_time": "2024-11-09T06:55:01.822Z"
   },
   {
    "duration": 0,
    "start_time": "2024-11-09T06:55:01.823Z"
   },
   {
    "duration": 0,
    "start_time": "2024-11-09T06:55:01.824Z"
   },
   {
    "duration": 0,
    "start_time": "2024-11-09T06:55:01.825Z"
   },
   {
    "duration": 0,
    "start_time": "2024-11-09T06:55:01.826Z"
   },
   {
    "duration": 0,
    "start_time": "2024-11-09T06:55:01.827Z"
   },
   {
    "duration": 0,
    "start_time": "2024-11-09T06:55:01.828Z"
   },
   {
    "duration": 0,
    "start_time": "2024-11-09T06:55:01.829Z"
   },
   {
    "duration": 0,
    "start_time": "2024-11-09T06:55:01.830Z"
   },
   {
    "duration": 0,
    "start_time": "2024-11-09T06:55:01.831Z"
   },
   {
    "duration": 0,
    "start_time": "2024-11-09T06:55:01.832Z"
   },
   {
    "duration": 0,
    "start_time": "2024-11-09T06:55:01.833Z"
   },
   {
    "duration": 5274,
    "start_time": "2024-11-09T06:57:44.157Z"
   },
   {
    "duration": 5,
    "start_time": "2024-11-09T06:57:54.693Z"
   },
   {
    "duration": 3,
    "start_time": "2024-11-09T06:57:59.920Z"
   },
   {
    "duration": 3,
    "start_time": "2024-11-09T06:59:03.048Z"
   },
   {
    "duration": 3,
    "start_time": "2024-11-09T07:00:15.659Z"
   },
   {
    "duration": 3,
    "start_time": "2024-11-09T07:00:45.340Z"
   },
   {
    "duration": 4,
    "start_time": "2024-11-09T07:01:12.457Z"
   },
   {
    "duration": 45,
    "start_time": "2024-11-10T03:25:01.883Z"
   },
   {
    "duration": 2861,
    "start_time": "2024-11-10T03:25:23.332Z"
   },
   {
    "duration": 1564,
    "start_time": "2024-11-10T03:25:26.195Z"
   },
   {
    "duration": 3,
    "start_time": "2024-11-10T03:25:27.761Z"
   },
   {
    "duration": 2691,
    "start_time": "2024-11-10T03:25:27.766Z"
   },
   {
    "duration": 15,
    "start_time": "2024-11-10T03:25:30.458Z"
   },
   {
    "duration": 71,
    "start_time": "2024-11-10T03:25:30.474Z"
   },
   {
    "duration": 135,
    "start_time": "2024-11-10T03:25:30.546Z"
   },
   {
    "duration": 115,
    "start_time": "2024-11-10T03:25:30.682Z"
   },
   {
    "duration": 413,
    "start_time": "2024-11-10T03:25:30.798Z"
   },
   {
    "duration": 881,
    "start_time": "2024-11-10T03:25:31.214Z"
   },
   {
    "duration": 181,
    "start_time": "2024-11-10T03:25:32.096Z"
   },
   {
    "duration": 2,
    "start_time": "2024-11-10T03:25:32.279Z"
   },
   {
    "duration": 103,
    "start_time": "2024-11-10T03:25:32.282Z"
   },
   {
    "duration": 29,
    "start_time": "2024-11-10T03:25:32.386Z"
   },
   {
    "duration": 4,
    "start_time": "2024-11-10T03:25:32.416Z"
   },
   {
    "duration": 87,
    "start_time": "2024-11-10T03:25:32.421Z"
   },
   {
    "duration": 100,
    "start_time": "2024-11-10T03:25:32.510Z"
   },
   {
    "duration": 47,
    "start_time": "2024-11-10T03:25:32.612Z"
   },
   {
    "duration": 105,
    "start_time": "2024-11-10T03:25:32.660Z"
   },
   {
    "duration": 30,
    "start_time": "2024-11-10T03:25:32.767Z"
   },
   {
    "duration": 88,
    "start_time": "2024-11-10T03:25:32.799Z"
   },
   {
    "duration": 158,
    "start_time": "2024-11-10T03:25:32.891Z"
   },
   {
    "duration": 81,
    "start_time": "2024-11-10T03:25:33.050Z"
   },
   {
    "duration": 75,
    "start_time": "2024-11-10T03:25:33.132Z"
   },
   {
    "duration": 805,
    "start_time": "2024-11-10T03:25:33.209Z"
   },
   {
    "duration": 8,
    "start_time": "2024-11-10T03:25:34.015Z"
   },
   {
    "duration": 11,
    "start_time": "2024-11-10T03:25:34.025Z"
   },
   {
    "duration": 27,
    "start_time": "2024-11-10T03:25:34.040Z"
   },
   {
    "duration": 763,
    "start_time": "2024-11-10T03:25:34.069Z"
   },
   {
    "duration": 360,
    "start_time": "2024-11-10T03:25:34.834Z"
   },
   {
    "duration": 17,
    "start_time": "2024-11-10T03:25:35.195Z"
   },
   {
    "duration": 6,
    "start_time": "2024-11-10T03:25:35.213Z"
   },
   {
    "duration": 54,
    "start_time": "2024-11-10T03:25:35.220Z"
   },
   {
    "duration": 15,
    "start_time": "2024-11-10T03:25:35.275Z"
   },
   {
    "duration": 30,
    "start_time": "2024-11-10T03:25:35.292Z"
   },
   {
    "duration": 210,
    "start_time": "2024-11-10T03:25:35.324Z"
   },
   {
    "duration": 804,
    "start_time": "2024-11-10T03:25:35.535Z"
   },
   {
    "duration": 320,
    "start_time": "2024-11-10T03:25:36.341Z"
   },
   {
    "duration": 23,
    "start_time": "2024-11-10T03:25:36.662Z"
   },
   {
    "duration": 189,
    "start_time": "2024-11-10T03:25:36.686Z"
   },
   {
    "duration": 9,
    "start_time": "2024-11-10T03:25:36.877Z"
   },
   {
    "duration": 231,
    "start_time": "2024-11-10T03:25:36.887Z"
   },
   {
    "duration": 139,
    "start_time": "2024-11-10T03:25:37.119Z"
   },
   {
    "duration": 142,
    "start_time": "2024-11-10T03:25:37.260Z"
   },
   {
    "duration": 134,
    "start_time": "2024-11-10T03:25:37.404Z"
   },
   {
    "duration": 54,
    "start_time": "2024-11-10T03:25:37.539Z"
   },
   {
    "duration": 80,
    "start_time": "2024-11-10T03:25:37.594Z"
   },
   {
    "duration": 132,
    "start_time": "2024-11-10T03:25:37.675Z"
   },
   {
    "duration": 8,
    "start_time": "2024-11-10T03:25:37.808Z"
   },
   {
    "duration": 74,
    "start_time": "2024-11-10T03:25:37.817Z"
   },
   {
    "duration": 2,
    "start_time": "2024-11-10T03:25:37.892Z"
   },
   {
    "duration": 13,
    "start_time": "2024-11-10T03:25:37.896Z"
   },
   {
    "duration": 5,
    "start_time": "2024-11-10T03:25:37.911Z"
   },
   {
    "duration": 5,
    "start_time": "2024-11-10T03:25:37.917Z"
   },
   {
    "duration": 18688,
    "start_time": "2024-11-10T03:25:37.923Z"
   },
   {
    "duration": 92,
    "start_time": "2024-11-10T03:25:56.616Z"
   },
   {
    "duration": 97,
    "start_time": "2024-11-10T03:25:56.710Z"
   },
   {
    "duration": 3,
    "start_time": "2024-11-10T03:25:56.808Z"
   },
   {
    "duration": 91,
    "start_time": "2024-11-10T03:25:56.817Z"
   },
   {
    "duration": 64,
    "start_time": "2024-11-10T03:25:56.909Z"
   },
   {
    "duration": 19,
    "start_time": "2024-11-10T03:25:56.975Z"
   },
   {
    "duration": 2581,
    "start_time": "2024-11-10T03:42:40.702Z"
   },
   {
    "duration": 1878,
    "start_time": "2024-11-10T03:42:43.286Z"
   },
   {
    "duration": 5,
    "start_time": "2024-11-10T03:42:45.165Z"
   },
   {
    "duration": 777,
    "start_time": "2024-11-10T03:42:45.172Z"
   },
   {
    "duration": 15,
    "start_time": "2024-11-10T03:42:45.951Z"
   },
   {
    "duration": 63,
    "start_time": "2024-11-10T03:42:45.967Z"
   },
   {
    "duration": 139,
    "start_time": "2024-11-10T03:42:46.032Z"
   },
   {
    "duration": 114,
    "start_time": "2024-11-10T03:42:46.173Z"
   },
   {
    "duration": 388,
    "start_time": "2024-11-10T03:42:46.289Z"
   },
   {
    "duration": 875,
    "start_time": "2024-11-10T03:42:46.679Z"
   },
   {
    "duration": 174,
    "start_time": "2024-11-10T03:42:47.555Z"
   },
   {
    "duration": 2,
    "start_time": "2024-11-10T03:42:47.731Z"
   },
   {
    "duration": 86,
    "start_time": "2024-11-10T03:42:47.734Z"
   },
   {
    "duration": 28,
    "start_time": "2024-11-10T03:42:47.822Z"
   },
   {
    "duration": 4,
    "start_time": "2024-11-10T03:42:47.852Z"
   },
   {
    "duration": 87,
    "start_time": "2024-11-10T03:42:47.857Z"
   },
   {
    "duration": 91,
    "start_time": "2024-11-10T03:42:47.945Z"
   },
   {
    "duration": 30,
    "start_time": "2024-11-10T03:42:48.037Z"
   },
   {
    "duration": 95,
    "start_time": "2024-11-10T03:42:48.069Z"
   },
   {
    "duration": 31,
    "start_time": "2024-11-10T03:42:48.165Z"
   },
   {
    "duration": 93,
    "start_time": "2024-11-10T03:42:48.207Z"
   },
   {
    "duration": 85,
    "start_time": "2024-11-10T03:42:48.301Z"
   },
   {
    "duration": 87,
    "start_time": "2024-11-10T03:42:48.387Z"
   },
   {
    "duration": 84,
    "start_time": "2024-11-10T03:42:48.475Z"
   },
   {
    "duration": 871,
    "start_time": "2024-11-10T03:42:48.561Z"
   },
   {
    "duration": 9,
    "start_time": "2024-11-10T03:42:49.433Z"
   },
   {
    "duration": 15,
    "start_time": "2024-11-10T03:42:49.443Z"
   },
   {
    "duration": 27,
    "start_time": "2024-11-10T03:42:49.461Z"
   },
   {
    "duration": 788,
    "start_time": "2024-11-10T03:42:49.489Z"
   },
   {
    "duration": 394,
    "start_time": "2024-11-10T03:42:50.278Z"
   },
   {
    "duration": 8,
    "start_time": "2024-11-10T03:42:50.674Z"
   },
   {
    "duration": 38,
    "start_time": "2024-11-10T03:42:50.683Z"
   },
   {
    "duration": 39,
    "start_time": "2024-11-10T03:42:50.723Z"
   },
   {
    "duration": 14,
    "start_time": "2024-11-10T03:42:50.763Z"
   },
   {
    "duration": 33,
    "start_time": "2024-11-10T03:42:50.779Z"
   },
   {
    "duration": 222,
    "start_time": "2024-11-10T03:42:50.813Z"
   },
   {
    "duration": 803,
    "start_time": "2024-11-10T03:42:51.037Z"
   },
   {
    "duration": 329,
    "start_time": "2024-11-10T03:42:51.841Z"
   },
   {
    "duration": 23,
    "start_time": "2024-11-10T03:42:52.171Z"
   },
   {
    "duration": 196,
    "start_time": "2024-11-10T03:42:52.195Z"
   },
   {
    "duration": 14,
    "start_time": "2024-11-10T03:42:52.393Z"
   },
   {
    "duration": 153,
    "start_time": "2024-11-10T03:42:52.408Z"
   },
   {
    "duration": 159,
    "start_time": "2024-11-10T03:42:52.563Z"
   },
   {
    "duration": 133,
    "start_time": "2024-11-10T03:42:52.723Z"
   },
   {
    "duration": 134,
    "start_time": "2024-11-10T03:42:52.857Z"
   },
   {
    "duration": 91,
    "start_time": "2024-11-10T03:42:52.992Z"
   },
   {
    "duration": 71,
    "start_time": "2024-11-10T03:42:53.084Z"
   },
   {
    "duration": 127,
    "start_time": "2024-11-10T03:42:53.156Z"
   },
   {
    "duration": 8,
    "start_time": "2024-11-10T03:42:53.284Z"
   },
   {
    "duration": 67,
    "start_time": "2024-11-10T03:42:53.293Z"
   },
   {
    "duration": 2,
    "start_time": "2024-11-10T03:42:53.362Z"
   },
   {
    "duration": 4,
    "start_time": "2024-11-10T03:42:53.365Z"
   },
   {
    "duration": 8,
    "start_time": "2024-11-10T03:42:53.370Z"
   },
   {
    "duration": 7,
    "start_time": "2024-11-10T03:42:53.379Z"
   },
   {
    "duration": 19732,
    "start_time": "2024-11-10T03:42:53.387Z"
   },
   {
    "duration": 87,
    "start_time": "2024-11-10T03:43:13.121Z"
   },
   {
    "duration": 108,
    "start_time": "2024-11-10T03:43:13.209Z"
   },
   {
    "duration": 2,
    "start_time": "2024-11-10T03:43:13.319Z"
   },
   {
    "duration": 4,
    "start_time": "2024-11-10T03:43:13.407Z"
   },
   {
    "duration": 95,
    "start_time": "2024-11-10T03:43:13.413Z"
   },
   {
    "duration": 18,
    "start_time": "2024-11-10T03:43:13.509Z"
   },
   {
    "duration": 2540,
    "start_time": "2024-11-10T03:50:30.504Z"
   },
   {
    "duration": 1362,
    "start_time": "2024-11-10T03:50:33.047Z"
   },
   {
    "duration": 4,
    "start_time": "2024-11-10T03:50:34.410Z"
   },
   {
    "duration": 819,
    "start_time": "2024-11-10T03:50:34.416Z"
   },
   {
    "duration": 16,
    "start_time": "2024-11-10T03:50:35.236Z"
   },
   {
    "duration": 74,
    "start_time": "2024-11-10T03:50:35.254Z"
   },
   {
    "duration": 94,
    "start_time": "2024-11-10T03:50:35.330Z"
   },
   {
    "duration": 133,
    "start_time": "2024-11-10T03:50:35.425Z"
   },
   {
    "duration": 393,
    "start_time": "2024-11-10T03:50:35.560Z"
   },
   {
    "duration": 770,
    "start_time": "2024-11-10T03:50:35.956Z"
   },
   {
    "duration": 141,
    "start_time": "2024-11-10T03:50:36.728Z"
   },
   {
    "duration": 3,
    "start_time": "2024-11-10T03:50:36.871Z"
   },
   {
    "duration": 103,
    "start_time": "2024-11-10T03:50:36.875Z"
   },
   {
    "duration": 33,
    "start_time": "2024-11-10T03:50:36.980Z"
   },
   {
    "duration": 92,
    "start_time": "2024-11-10T03:50:37.014Z"
   },
   {
    "duration": 114,
    "start_time": "2024-11-10T03:50:37.108Z"
   },
   {
    "duration": 114,
    "start_time": "2024-11-10T03:50:37.224Z"
   },
   {
    "duration": 50,
    "start_time": "2024-11-10T03:50:37.340Z"
   },
   {
    "duration": 133,
    "start_time": "2024-11-10T03:50:37.391Z"
   },
   {
    "duration": 29,
    "start_time": "2024-11-10T03:50:37.526Z"
   },
   {
    "duration": 162,
    "start_time": "2024-11-10T03:50:37.557Z"
   },
   {
    "duration": 87,
    "start_time": "2024-11-10T03:50:37.721Z"
   },
   {
    "duration": 75,
    "start_time": "2024-11-10T03:50:37.809Z"
   },
   {
    "duration": 76,
    "start_time": "2024-11-10T03:50:37.885Z"
   },
   {
    "duration": 818,
    "start_time": "2024-11-10T03:50:37.962Z"
   },
   {
    "duration": 8,
    "start_time": "2024-11-10T03:50:38.782Z"
   },
   {
    "duration": 23,
    "start_time": "2024-11-10T03:50:38.791Z"
   },
   {
    "duration": 31,
    "start_time": "2024-11-10T03:50:38.819Z"
   },
   {
    "duration": 792,
    "start_time": "2024-11-10T03:50:38.851Z"
   },
   {
    "duration": 356,
    "start_time": "2024-11-10T03:50:39.644Z"
   },
   {
    "duration": 9,
    "start_time": "2024-11-10T03:50:40.001Z"
   },
   {
    "duration": 40,
    "start_time": "2024-11-10T03:50:40.012Z"
   },
   {
    "duration": 73,
    "start_time": "2024-11-10T03:50:40.054Z"
   },
   {
    "duration": 15,
    "start_time": "2024-11-10T03:50:40.129Z"
   },
   {
    "duration": 22,
    "start_time": "2024-11-10T03:50:40.146Z"
   },
   {
    "duration": 233,
    "start_time": "2024-11-10T03:50:40.170Z"
   },
   {
    "duration": 850,
    "start_time": "2024-11-10T03:50:40.404Z"
   },
   {
    "duration": 305,
    "start_time": "2024-11-10T03:50:41.255Z"
   },
   {
    "duration": 22,
    "start_time": "2024-11-10T03:50:41.561Z"
   },
   {
    "duration": 222,
    "start_time": "2024-11-10T03:50:41.585Z"
   },
   {
    "duration": 10,
    "start_time": "2024-11-10T03:50:41.808Z"
   },
   {
    "duration": 132,
    "start_time": "2024-11-10T03:50:41.819Z"
   },
   {
    "duration": 139,
    "start_time": "2024-11-10T03:50:41.953Z"
   },
   {
    "duration": 149,
    "start_time": "2024-11-10T03:50:42.094Z"
   },
   {
    "duration": 132,
    "start_time": "2024-11-10T03:50:42.244Z"
   },
   {
    "duration": 80,
    "start_time": "2024-11-10T03:50:42.377Z"
   },
   {
    "duration": 81,
    "start_time": "2024-11-10T03:50:42.458Z"
   },
   {
    "duration": 144,
    "start_time": "2024-11-10T03:50:42.540Z"
   },
   {
    "duration": 11,
    "start_time": "2024-11-10T03:50:42.685Z"
   },
   {
    "duration": 92,
    "start_time": "2024-11-10T03:50:42.706Z"
   },
   {
    "duration": 2,
    "start_time": "2024-11-10T03:50:42.800Z"
   },
   {
    "duration": 12,
    "start_time": "2024-11-10T03:50:42.803Z"
   },
   {
    "duration": 6,
    "start_time": "2024-11-10T03:50:42.817Z"
   },
   {
    "duration": 6,
    "start_time": "2024-11-10T03:50:42.824Z"
   },
   {
    "duration": 19977,
    "start_time": "2024-11-10T03:50:42.831Z"
   },
   {
    "duration": 3,
    "start_time": "2024-11-10T03:51:02.810Z"
   },
   {
    "duration": 205,
    "start_time": "2024-11-10T03:51:02.815Z"
   },
   {
    "duration": 87,
    "start_time": "2024-11-10T03:51:03.021Z"
   },
   {
    "duration": 7,
    "start_time": "2024-11-10T03:51:03.111Z"
   },
   {
    "duration": 4,
    "start_time": "2024-11-10T03:51:03.120Z"
   },
   {
    "duration": 82,
    "start_time": "2024-11-10T03:51:03.126Z"
   },
   {
    "duration": 223267,
    "start_time": "2024-11-10T03:51:03.210Z"
   },
   {
    "duration": 466,
    "start_time": "2024-11-10T03:54:46.479Z"
   },
   {
    "duration": 4,
    "start_time": "2024-11-10T03:54:46.946Z"
   },
   {
    "duration": 217100,
    "start_time": "2024-11-10T03:54:46.952Z"
   },
   {
    "duration": 3,
    "start_time": "2024-11-10T03:58:24.054Z"
   },
   {
    "duration": 477,
    "start_time": "2024-11-10T03:58:24.058Z"
   },
   {
    "duration": 4,
    "start_time": "2024-11-10T03:58:24.536Z"
   },
   {
    "duration": 278,
    "start_time": "2024-11-10T03:58:24.541Z"
   },
   {
    "duration": 24,
    "start_time": "2024-11-10T03:58:24.820Z"
   },
   {
    "duration": 2586,
    "start_time": "2024-11-10T04:03:15.149Z"
   },
   {
    "duration": 1406,
    "start_time": "2024-11-10T04:03:17.737Z"
   },
   {
    "duration": 4,
    "start_time": "2024-11-10T04:03:19.144Z"
   },
   {
    "duration": 789,
    "start_time": "2024-11-10T04:03:19.154Z"
   },
   {
    "duration": 20,
    "start_time": "2024-11-10T04:03:19.945Z"
   },
   {
    "duration": 68,
    "start_time": "2024-11-10T04:03:19.966Z"
   },
   {
    "duration": 138,
    "start_time": "2024-11-10T04:03:20.035Z"
   },
   {
    "duration": 115,
    "start_time": "2024-11-10T04:03:20.174Z"
   },
   {
    "duration": 365,
    "start_time": "2024-11-10T04:03:20.290Z"
   },
   {
    "duration": 860,
    "start_time": "2024-11-10T04:03:20.658Z"
   },
   {
    "duration": 178,
    "start_time": "2024-11-10T04:03:21.519Z"
   },
   {
    "duration": 13,
    "start_time": "2024-11-10T04:03:21.699Z"
   },
   {
    "duration": 98,
    "start_time": "2024-11-10T04:03:21.714Z"
   },
   {
    "duration": 38,
    "start_time": "2024-11-10T04:03:21.814Z"
   },
   {
    "duration": 3,
    "start_time": "2024-11-10T04:03:21.854Z"
   },
   {
    "duration": 79,
    "start_time": "2024-11-10T04:03:21.859Z"
   },
   {
    "duration": 91,
    "start_time": "2024-11-10T04:03:21.939Z"
   },
   {
    "duration": 29,
    "start_time": "2024-11-10T04:03:22.032Z"
   },
   {
    "duration": 108,
    "start_time": "2024-11-10T04:03:22.062Z"
   },
   {
    "duration": 30,
    "start_time": "2024-11-10T04:03:22.171Z"
   },
   {
    "duration": 87,
    "start_time": "2024-11-10T04:03:22.202Z"
   },
   {
    "duration": 93,
    "start_time": "2024-11-10T04:03:22.291Z"
   },
   {
    "duration": 84,
    "start_time": "2024-11-10T04:03:22.385Z"
   },
   {
    "duration": 79,
    "start_time": "2024-11-10T04:03:22.470Z"
   },
   {
    "duration": 860,
    "start_time": "2024-11-10T04:03:22.551Z"
   },
   {
    "duration": 8,
    "start_time": "2024-11-10T04:03:23.413Z"
   },
   {
    "duration": 10,
    "start_time": "2024-11-10T04:03:23.422Z"
   },
   {
    "duration": 21,
    "start_time": "2024-11-10T04:03:23.436Z"
   },
   {
    "duration": 780,
    "start_time": "2024-11-10T04:03:23.459Z"
   },
   {
    "duration": 354,
    "start_time": "2024-11-10T04:03:24.240Z"
   },
   {
    "duration": 13,
    "start_time": "2024-11-10T04:03:24.595Z"
   },
   {
    "duration": 3,
    "start_time": "2024-11-10T04:03:24.609Z"
   },
   {
    "duration": 16,
    "start_time": "2024-11-10T04:03:24.613Z"
   },
   {
    "duration": 22,
    "start_time": "2024-11-10T04:03:24.631Z"
   },
   {
    "duration": 21,
    "start_time": "2024-11-10T04:03:24.655Z"
   },
   {
    "duration": 227,
    "start_time": "2024-11-10T04:03:24.678Z"
   },
   {
    "duration": 812,
    "start_time": "2024-11-10T04:03:24.907Z"
   },
   {
    "duration": 313,
    "start_time": "2024-11-10T04:03:25.720Z"
   },
   {
    "duration": 14,
    "start_time": "2024-11-10T04:03:26.035Z"
   },
   {
    "duration": 188,
    "start_time": "2024-11-10T04:03:26.050Z"
   },
   {
    "duration": 9,
    "start_time": "2024-11-10T04:03:26.240Z"
   },
   {
    "duration": 133,
    "start_time": "2024-11-10T04:03:26.250Z"
   },
   {
    "duration": 152,
    "start_time": "2024-11-10T04:03:26.384Z"
   },
   {
    "duration": 143,
    "start_time": "2024-11-10T04:03:26.537Z"
   },
   {
    "duration": 136,
    "start_time": "2024-11-10T04:03:26.682Z"
   },
   {
    "duration": 54,
    "start_time": "2024-11-10T04:03:26.820Z"
   },
   {
    "duration": 94,
    "start_time": "2024-11-10T04:03:26.876Z"
   },
   {
    "duration": 127,
    "start_time": "2024-11-10T04:03:26.972Z"
   },
   {
    "duration": 12,
    "start_time": "2024-11-10T04:03:27.101Z"
   },
   {
    "duration": 43,
    "start_time": "2024-11-10T04:03:27.114Z"
   },
   {
    "duration": 4,
    "start_time": "2024-11-10T04:03:27.158Z"
   },
   {
    "duration": 53,
    "start_time": "2024-11-10T04:03:27.163Z"
   },
   {
    "duration": 16,
    "start_time": "2024-11-10T04:03:27.217Z"
   },
   {
    "duration": 32,
    "start_time": "2024-11-10T04:03:27.234Z"
   },
   {
    "duration": 18640,
    "start_time": "2024-11-10T04:03:27.268Z"
   },
   {
    "duration": 3,
    "start_time": "2024-11-10T04:03:45.910Z"
   },
   {
    "duration": 96,
    "start_time": "2024-11-10T04:03:45.914Z"
   },
   {
    "duration": 4,
    "start_time": "2024-11-10T04:03:46.011Z"
   },
   {
    "duration": 97,
    "start_time": "2024-11-10T04:03:46.016Z"
   },
   {
    "duration": 3,
    "start_time": "2024-11-10T04:03:46.114Z"
   },
   {
    "duration": 6,
    "start_time": "2024-11-10T04:03:46.119Z"
   },
   {
    "duration": 230442,
    "start_time": "2024-11-10T04:03:46.126Z"
   },
   {
    "duration": 498,
    "start_time": "2024-11-10T04:07:36.570Z"
   },
   {
    "duration": 3,
    "start_time": "2024-11-10T04:07:37.070Z"
   },
   {
    "duration": 221173,
    "start_time": "2024-11-10T04:07:37.075Z"
   },
   {
    "duration": 3,
    "start_time": "2024-11-10T04:11:18.249Z"
   },
   {
    "duration": 485,
    "start_time": "2024-11-10T04:11:18.253Z"
   },
   {
    "duration": 4,
    "start_time": "2024-11-10T04:11:18.740Z"
   },
   {
    "duration": 274,
    "start_time": "2024-11-10T04:11:18.746Z"
   },
   {
    "duration": 16,
    "start_time": "2024-11-10T04:11:19.021Z"
   },
   {
    "duration": 545539,
    "start_time": "2024-11-10T04:11:19.039Z"
   },
   {
    "duration": 3,
    "start_time": "2024-11-10T04:20:24.580Z"
   },
   {
    "duration": 2724,
    "start_time": "2024-11-10T04:20:24.584Z"
   },
   {
    "duration": 4,
    "start_time": "2024-11-10T04:20:27.310Z"
   },
   {
    "duration": 61393,
    "start_time": "2024-11-10T04:20:27.316Z"
   },
   {
    "duration": 2,
    "start_time": "2024-11-10T04:21:28.711Z"
   },
   {
    "duration": 5134,
    "start_time": "2024-11-10T04:21:28.714Z"
   },
   {
    "duration": 5,
    "start_time": "2024-11-10T04:21:33.907Z"
   },
   {
    "duration": 26,
    "start_time": "2024-11-10T04:21:33.914Z"
   },
   {
    "duration": 4,
    "start_time": "2024-11-10T04:21:33.942Z"
   },
   {
    "duration": 84972,
    "start_time": "2024-11-10T04:21:33.947Z"
   },
   {
    "duration": 4984,
    "start_time": "2024-11-10T04:22:58.925Z"
   },
   {
    "duration": 4118,
    "start_time": "2024-11-10T04:23:03.910Z"
   },
   {
    "duration": 27025,
    "start_time": "2024-11-10T04:23:08.031Z"
   },
   {
    "duration": 107,
    "start_time": "2024-11-10T04:23:35.058Z"
   },
   {
    "duration": 424153,
    "start_time": "2024-11-10T04:23:35.166Z"
   },
   {
    "duration": 56,
    "start_time": "2024-11-10T04:30:39.406Z"
   },
   {
    "duration": 5068,
    "start_time": "2024-11-10T04:30:39.463Z"
   },
   {
    "duration": 12,
    "start_time": "2024-11-10T04:30:44.610Z"
   },
   {
    "duration": 1316,
    "start_time": "2024-11-10T04:30:44.708Z"
   },
   {
    "duration": 2624,
    "start_time": "2024-11-10T04:45:12.715Z"
   },
   {
    "duration": 1410,
    "start_time": "2024-11-10T04:45:15.341Z"
   },
   {
    "duration": 3,
    "start_time": "2024-11-10T04:45:16.752Z"
   },
   {
    "duration": 805,
    "start_time": "2024-11-10T04:45:16.758Z"
   },
   {
    "duration": 16,
    "start_time": "2024-11-10T04:45:17.564Z"
   },
   {
    "duration": 78,
    "start_time": "2024-11-10T04:45:17.581Z"
   },
   {
    "duration": 146,
    "start_time": "2024-11-10T04:45:17.661Z"
   },
   {
    "duration": 115,
    "start_time": "2024-11-10T04:45:17.809Z"
   },
   {
    "duration": 413,
    "start_time": "2024-11-10T04:45:17.926Z"
   },
   {
    "duration": 866,
    "start_time": "2024-11-10T04:45:18.341Z"
   },
   {
    "duration": 189,
    "start_time": "2024-11-10T04:45:19.209Z"
   },
   {
    "duration": 8,
    "start_time": "2024-11-10T04:45:19.399Z"
   },
   {
    "duration": 117,
    "start_time": "2024-11-10T04:45:19.409Z"
   },
   {
    "duration": 29,
    "start_time": "2024-11-10T04:45:19.527Z"
   },
   {
    "duration": 4,
    "start_time": "2024-11-10T04:45:19.557Z"
   },
   {
    "duration": 99,
    "start_time": "2024-11-10T04:45:19.563Z"
   },
   {
    "duration": 203,
    "start_time": "2024-11-10T04:45:19.664Z"
   },
   {
    "duration": 53,
    "start_time": "2024-11-10T04:45:19.868Z"
   },
   {
    "duration": 119,
    "start_time": "2024-11-10T04:45:19.923Z"
   },
   {
    "duration": 31,
    "start_time": "2024-11-10T04:45:20.044Z"
   },
   {
    "duration": 119,
    "start_time": "2024-11-10T04:45:20.077Z"
   },
   {
    "duration": 85,
    "start_time": "2024-11-10T04:45:20.197Z"
   },
   {
    "duration": 89,
    "start_time": "2024-11-10T04:45:20.284Z"
   },
   {
    "duration": 74,
    "start_time": "2024-11-10T04:45:20.375Z"
   },
   {
    "duration": 858,
    "start_time": "2024-11-10T04:45:20.450Z"
   },
   {
    "duration": 9,
    "start_time": "2024-11-10T04:45:21.309Z"
   },
   {
    "duration": 41,
    "start_time": "2024-11-10T04:45:21.319Z"
   },
   {
    "duration": 29,
    "start_time": "2024-11-10T04:45:21.365Z"
   },
   {
    "duration": 825,
    "start_time": "2024-11-10T04:45:21.396Z"
   },
   {
    "duration": 374,
    "start_time": "2024-11-10T04:45:22.222Z"
   },
   {
    "duration": 10,
    "start_time": "2024-11-10T04:45:22.598Z"
   },
   {
    "duration": 15,
    "start_time": "2024-11-10T04:45:22.610Z"
   },
   {
    "duration": 32,
    "start_time": "2024-11-10T04:45:22.627Z"
   },
   {
    "duration": 15,
    "start_time": "2024-11-10T04:45:22.661Z"
   },
   {
    "duration": 37,
    "start_time": "2024-11-10T04:45:22.677Z"
   },
   {
    "duration": 233,
    "start_time": "2024-11-10T04:45:22.715Z"
   },
   {
    "duration": 870,
    "start_time": "2024-11-10T04:45:22.950Z"
   },
   {
    "duration": 316,
    "start_time": "2024-11-10T04:45:23.822Z"
   },
   {
    "duration": 23,
    "start_time": "2024-11-10T04:45:24.140Z"
   },
   {
    "duration": 199,
    "start_time": "2024-11-10T04:45:24.164Z"
   },
   {
    "duration": 9,
    "start_time": "2024-11-10T04:45:24.364Z"
   },
   {
    "duration": 127,
    "start_time": "2024-11-10T04:45:24.375Z"
   },
   {
    "duration": 144,
    "start_time": "2024-11-10T04:45:24.503Z"
   },
   {
    "duration": 147,
    "start_time": "2024-11-10T04:45:24.649Z"
   },
   {
    "duration": 151,
    "start_time": "2024-11-10T04:45:24.798Z"
   },
   {
    "duration": 63,
    "start_time": "2024-11-10T04:45:24.950Z"
   },
   {
    "duration": 98,
    "start_time": "2024-11-10T04:45:25.015Z"
   },
   {
    "duration": 128,
    "start_time": "2024-11-10T04:45:25.114Z"
   },
   {
    "duration": 37,
    "start_time": "2024-11-10T04:45:25.243Z"
   },
   {
    "duration": 61,
    "start_time": "2024-11-10T04:45:25.282Z"
   },
   {
    "duration": 4,
    "start_time": "2024-11-10T04:45:25.344Z"
   },
   {
    "duration": 87,
    "start_time": "2024-11-10T04:45:25.349Z"
   },
   {
    "duration": 22,
    "start_time": "2024-11-10T04:45:25.437Z"
   },
   {
    "duration": 35,
    "start_time": "2024-11-10T04:45:25.461Z"
   },
   {
    "duration": 20014,
    "start_time": "2024-11-10T04:45:25.498Z"
   },
   {
    "duration": 3,
    "start_time": "2024-11-10T04:45:45.513Z"
   },
   {
    "duration": 93,
    "start_time": "2024-11-10T04:45:45.517Z"
   },
   {
    "duration": 3,
    "start_time": "2024-11-10T04:45:45.611Z"
   },
   {
    "duration": 92,
    "start_time": "2024-11-10T04:45:45.616Z"
   },
   {
    "duration": 54,
    "start_time": "2024-11-10T04:45:45.710Z"
   },
   {
    "duration": 6,
    "start_time": "2024-11-10T04:45:45.765Z"
   },
   {
    "duration": 227269,
    "start_time": "2024-11-10T04:45:45.773Z"
   },
   {
    "duration": 481,
    "start_time": "2024-11-10T04:49:33.044Z"
   },
   {
    "duration": 3,
    "start_time": "2024-11-10T04:49:33.527Z"
   },
   {
    "duration": 219242,
    "start_time": "2024-11-10T04:49:33.532Z"
   },
   {
    "duration": 2,
    "start_time": "2024-11-10T04:53:12.776Z"
   },
   {
    "duration": 474,
    "start_time": "2024-11-10T04:53:12.780Z"
   },
   {
    "duration": 5,
    "start_time": "2024-11-10T04:53:13.255Z"
   },
   {
    "duration": 332,
    "start_time": "2024-11-10T04:53:13.261Z"
   },
   {
    "duration": 26,
    "start_time": "2024-11-10T04:53:13.595Z"
   },
   {
    "duration": 1957732,
    "start_time": "2024-11-10T04:53:13.623Z"
   },
   {
    "duration": 2,
    "start_time": "2024-11-10T05:25:51.357Z"
   },
   {
    "duration": 2846,
    "start_time": "2024-11-10T05:25:51.361Z"
   },
   {
    "duration": 5,
    "start_time": "2024-11-10T05:25:54.208Z"
   },
   {
    "duration": 102409,
    "start_time": "2024-11-10T05:25:54.214Z"
   },
   {
    "duration": 83,
    "start_time": "2024-11-10T05:27:36.625Z"
   },
   {
    "duration": 5214,
    "start_time": "2024-11-10T05:27:36.709Z"
   },
   {
    "duration": 4,
    "start_time": "2024-11-10T05:27:42.006Z"
   },
   {
    "duration": 19,
    "start_time": "2024-11-10T05:27:42.011Z"
   },
   {
    "duration": 51111,
    "start_time": "2024-11-10T05:27:42.031Z"
   },
   {
    "duration": 2496,
    "start_time": "2024-11-10T06:10:53.323Z"
   },
   {
    "duration": 1390,
    "start_time": "2024-11-10T06:10:55.821Z"
   },
   {
    "duration": 3,
    "start_time": "2024-11-10T06:10:57.212Z"
   },
   {
    "duration": 749,
    "start_time": "2024-11-10T06:10:57.218Z"
   },
   {
    "duration": 14,
    "start_time": "2024-11-10T06:10:57.968Z"
   },
   {
    "duration": 70,
    "start_time": "2024-11-10T06:10:57.984Z"
   },
   {
    "duration": 82,
    "start_time": "2024-11-10T06:10:58.056Z"
   },
   {
    "duration": 106,
    "start_time": "2024-11-10T06:10:58.139Z"
   },
   {
    "duration": 383,
    "start_time": "2024-11-10T06:10:58.247Z"
   },
   {
    "duration": 794,
    "start_time": "2024-11-10T06:10:58.633Z"
   },
   {
    "duration": 142,
    "start_time": "2024-11-10T06:10:59.429Z"
   },
   {
    "duration": 2,
    "start_time": "2024-11-10T06:10:59.573Z"
   },
   {
    "duration": 101,
    "start_time": "2024-11-10T06:10:59.576Z"
   },
   {
    "duration": 37,
    "start_time": "2024-11-10T06:10:59.678Z"
   },
   {
    "duration": 3,
    "start_time": "2024-11-10T06:10:59.717Z"
   },
   {
    "duration": 75,
    "start_time": "2024-11-10T06:10:59.722Z"
   },
   {
    "duration": 100,
    "start_time": "2024-11-10T06:10:59.798Z"
   },
   {
    "duration": 30,
    "start_time": "2024-11-10T06:10:59.906Z"
   },
   {
    "duration": 130,
    "start_time": "2024-11-10T06:10:59.938Z"
   },
   {
    "duration": 37,
    "start_time": "2024-11-10T06:11:00.070Z"
   },
   {
    "duration": 135,
    "start_time": "2024-11-10T06:11:00.109Z"
   },
   {
    "duration": 88,
    "start_time": "2024-11-10T06:11:00.246Z"
   },
   {
    "duration": 85,
    "start_time": "2024-11-10T06:11:00.336Z"
   },
   {
    "duration": 65,
    "start_time": "2024-11-10T06:11:00.422Z"
   },
   {
    "duration": 812,
    "start_time": "2024-11-10T06:11:00.488Z"
   },
   {
    "duration": 12,
    "start_time": "2024-11-10T06:11:01.301Z"
   },
   {
    "duration": 75,
    "start_time": "2024-11-10T06:11:01.314Z"
   },
   {
    "duration": 28,
    "start_time": "2024-11-10T06:11:01.393Z"
   },
   {
    "duration": 742,
    "start_time": "2024-11-10T06:11:01.423Z"
   },
   {
    "duration": 353,
    "start_time": "2024-11-10T06:11:02.166Z"
   },
   {
    "duration": 7,
    "start_time": "2024-11-10T06:11:02.520Z"
   },
   {
    "duration": 2,
    "start_time": "2024-11-10T06:11:02.528Z"
   },
   {
    "duration": 39,
    "start_time": "2024-11-10T06:11:02.532Z"
   },
   {
    "duration": 16,
    "start_time": "2024-11-10T06:11:02.572Z"
   },
   {
    "duration": 55,
    "start_time": "2024-11-10T06:11:02.590Z"
   },
   {
    "duration": 239,
    "start_time": "2024-11-10T06:11:02.646Z"
   },
   {
    "duration": 839,
    "start_time": "2024-11-10T06:11:02.886Z"
   },
   {
    "duration": 326,
    "start_time": "2024-11-10T06:11:03.726Z"
   },
   {
    "duration": 22,
    "start_time": "2024-11-10T06:11:04.053Z"
   },
   {
    "duration": 202,
    "start_time": "2024-11-10T06:11:04.077Z"
   },
   {
    "duration": 9,
    "start_time": "2024-11-10T06:11:04.281Z"
   },
   {
    "duration": 137,
    "start_time": "2024-11-10T06:11:04.292Z"
   },
   {
    "duration": 138,
    "start_time": "2024-11-10T06:11:04.430Z"
   },
   {
    "duration": 144,
    "start_time": "2024-11-10T06:11:04.569Z"
   },
   {
    "duration": 129,
    "start_time": "2024-11-10T06:11:04.714Z"
   },
   {
    "duration": 62,
    "start_time": "2024-11-10T06:11:04.845Z"
   },
   {
    "duration": 72,
    "start_time": "2024-11-10T06:11:04.908Z"
   },
   {
    "duration": 137,
    "start_time": "2024-11-10T06:11:04.981Z"
   },
   {
    "duration": 11,
    "start_time": "2024-11-10T06:11:05.120Z"
   },
   {
    "duration": 65,
    "start_time": "2024-11-10T06:11:05.133Z"
   },
   {
    "duration": 7,
    "start_time": "2024-11-10T06:11:05.200Z"
   },
   {
    "duration": 30,
    "start_time": "2024-11-10T06:11:05.208Z"
   },
   {
    "duration": 9,
    "start_time": "2024-11-10T06:11:05.239Z"
   },
   {
    "duration": 18,
    "start_time": "2024-11-10T06:11:05.249Z"
   },
   {
    "duration": 19043,
    "start_time": "2024-11-10T06:11:05.269Z"
   },
   {
    "duration": 95,
    "start_time": "2024-11-10T06:11:24.313Z"
   },
   {
    "duration": 98,
    "start_time": "2024-11-10T06:11:24.409Z"
   },
   {
    "duration": 3,
    "start_time": "2024-11-10T06:11:24.509Z"
   },
   {
    "duration": 94,
    "start_time": "2024-11-10T06:11:24.514Z"
   },
   {
    "duration": 12,
    "start_time": "2024-11-10T06:11:24.609Z"
   },
   {
    "duration": 6,
    "start_time": "2024-11-10T06:11:24.622Z"
   },
   {
    "duration": 224892,
    "start_time": "2024-11-10T06:11:24.629Z"
   },
   {
    "duration": 510,
    "start_time": "2024-11-10T06:15:09.522Z"
   },
   {
    "duration": 3,
    "start_time": "2024-11-10T06:15:10.033Z"
   },
   {
    "duration": 218942,
    "start_time": "2024-11-10T06:15:10.038Z"
   },
   {
    "duration": 3,
    "start_time": "2024-11-10T06:18:48.981Z"
   },
   {
    "duration": 494,
    "start_time": "2024-11-10T06:18:48.985Z"
   },
   {
    "duration": 3,
    "start_time": "2024-11-10T06:18:49.481Z"
   },
   {
    "duration": 415,
    "start_time": "2024-11-10T06:18:49.485Z"
   },
   {
    "duration": 30,
    "start_time": "2024-11-10T06:18:49.901Z"
   },
   {
    "duration": 855620,
    "start_time": "2024-11-10T06:18:49.933Z"
   },
   {
    "duration": 3,
    "start_time": "2024-11-10T06:33:05.555Z"
   },
   {
    "duration": 3053,
    "start_time": "2024-11-10T06:33:05.559Z"
   },
   {
    "duration": 5,
    "start_time": "2024-11-10T06:33:08.613Z"
   },
   {
    "duration": 58996,
    "start_time": "2024-11-10T06:33:08.619Z"
   },
   {
    "duration": 3,
    "start_time": "2024-11-10T06:34:07.616Z"
   },
   {
    "duration": 5401,
    "start_time": "2024-11-10T06:34:07.620Z"
   },
   {
    "duration": 4,
    "start_time": "2024-11-10T06:34:13.023Z"
   },
   {
    "duration": 29,
    "start_time": "2024-11-10T06:34:13.029Z"
   },
   {
    "duration": 79565,
    "start_time": "2024-11-10T06:34:13.059Z"
   },
   {
    "duration": 3,
    "start_time": "2024-11-12T03:26:13.585Z"
   },
   {
    "duration": 43,
    "start_time": "2024-11-12T03:41:38.243Z"
   },
   {
    "duration": 5,
    "start_time": "2024-11-12T03:41:46.185Z"
   },
   {
    "duration": 2943,
    "start_time": "2024-11-12T04:02:25.752Z"
   },
   {
    "duration": 1645,
    "start_time": "2024-11-12T04:02:28.697Z"
   },
   {
    "duration": 3,
    "start_time": "2024-11-12T04:02:30.343Z"
   },
   {
    "duration": 2804,
    "start_time": "2024-11-12T04:02:30.348Z"
   },
   {
    "duration": 15,
    "start_time": "2024-11-12T04:02:33.154Z"
   },
   {
    "duration": 212,
    "start_time": "2024-11-12T04:02:33.170Z"
   },
   {
    "duration": 137,
    "start_time": "2024-11-12T04:02:33.383Z"
   },
   {
    "duration": 116,
    "start_time": "2024-11-12T04:02:33.521Z"
   },
   {
    "duration": 391,
    "start_time": "2024-11-12T04:02:33.639Z"
   },
   {
    "duration": 841,
    "start_time": "2024-11-12T04:02:34.032Z"
   },
   {
    "duration": 177,
    "start_time": "2024-11-12T04:02:34.874Z"
   },
   {
    "duration": 3,
    "start_time": "2024-11-12T04:02:35.053Z"
   },
   {
    "duration": 95,
    "start_time": "2024-11-12T04:02:35.057Z"
   },
   {
    "duration": 74,
    "start_time": "2024-11-12T04:02:35.154Z"
   },
   {
    "duration": 14,
    "start_time": "2024-11-12T04:02:35.230Z"
   },
   {
    "duration": 90,
    "start_time": "2024-11-12T04:02:35.246Z"
   },
   {
    "duration": 88,
    "start_time": "2024-11-12T04:02:35.338Z"
   },
   {
    "duration": 30,
    "start_time": "2024-11-12T04:02:35.427Z"
   },
   {
    "duration": 127,
    "start_time": "2024-11-12T04:02:35.458Z"
   },
   {
    "duration": 29,
    "start_time": "2024-11-12T04:02:35.586Z"
   },
   {
    "duration": 83,
    "start_time": "2024-11-12T04:02:35.617Z"
   },
   {
    "duration": 83,
    "start_time": "2024-11-12T04:02:35.707Z"
   },
   {
    "duration": 87,
    "start_time": "2024-11-12T04:02:35.791Z"
   },
   {
    "duration": 71,
    "start_time": "2024-11-12T04:02:35.880Z"
   },
   {
    "duration": 873,
    "start_time": "2024-11-12T04:02:35.953Z"
   },
   {
    "duration": 8,
    "start_time": "2024-11-12T04:02:36.827Z"
   },
   {
    "duration": 80,
    "start_time": "2024-11-12T04:02:36.836Z"
   },
   {
    "duration": 25,
    "start_time": "2024-11-12T04:02:36.920Z"
   },
   {
    "duration": 800,
    "start_time": "2024-11-12T04:02:36.946Z"
   },
   {
    "duration": 376,
    "start_time": "2024-11-12T04:02:37.747Z"
   },
   {
    "duration": 7,
    "start_time": "2024-11-12T04:02:38.124Z"
   },
   {
    "duration": 4,
    "start_time": "2024-11-12T04:02:38.133Z"
   },
   {
    "duration": 33,
    "start_time": "2024-11-12T04:02:38.139Z"
   },
   {
    "duration": 14,
    "start_time": "2024-11-12T04:02:38.174Z"
   },
   {
    "duration": 35,
    "start_time": "2024-11-12T04:02:38.190Z"
   },
   {
    "duration": 222,
    "start_time": "2024-11-12T04:02:38.227Z"
   },
   {
    "duration": 837,
    "start_time": "2024-11-12T04:02:38.450Z"
   },
   {
    "duration": 332,
    "start_time": "2024-11-12T04:02:39.288Z"
   },
   {
    "duration": 22,
    "start_time": "2024-11-12T04:02:39.622Z"
   },
   {
    "duration": 196,
    "start_time": "2024-11-12T04:02:39.646Z"
   },
   {
    "duration": 10,
    "start_time": "2024-11-12T04:02:39.843Z"
   },
   {
    "duration": 165,
    "start_time": "2024-11-12T04:02:39.855Z"
   },
   {
    "duration": 141,
    "start_time": "2024-11-12T04:02:40.022Z"
   },
   {
    "duration": 142,
    "start_time": "2024-11-12T04:02:40.165Z"
   },
   {
    "duration": 130,
    "start_time": "2024-11-12T04:02:40.308Z"
   },
   {
    "duration": 67,
    "start_time": "2024-11-12T04:02:40.440Z"
   },
   {
    "duration": 71,
    "start_time": "2024-11-12T04:02:40.509Z"
   },
   {
    "duration": 2,
    "start_time": "2024-11-12T04:02:40.582Z"
   },
   {
    "duration": 26,
    "start_time": "2024-11-12T04:02:40.585Z"
   },
   {
    "duration": 100,
    "start_time": "2024-11-12T04:02:40.612Z"
   },
   {
    "duration": 24,
    "start_time": "2024-11-12T04:02:40.713Z"
   },
   {
    "duration": 81,
    "start_time": "2024-11-12T04:02:40.738Z"
   },
   {
    "duration": 99,
    "start_time": "2024-11-12T04:02:40.821Z"
   },
   {
    "duration": 5,
    "start_time": "2024-11-12T04:02:40.922Z"
   },
   {
    "duration": 5,
    "start_time": "2024-11-12T04:02:40.928Z"
   },
   {
    "duration": 2569,
    "start_time": "2024-11-12T04:12:24.713Z"
   },
   {
    "duration": 1472,
    "start_time": "2024-11-12T04:12:27.284Z"
   },
   {
    "duration": 4,
    "start_time": "2024-11-12T04:12:28.757Z"
   },
   {
    "duration": 799,
    "start_time": "2024-11-12T04:12:28.762Z"
   },
   {
    "duration": 15,
    "start_time": "2024-11-12T04:12:29.562Z"
   },
   {
    "duration": 66,
    "start_time": "2024-11-12T04:12:29.578Z"
   },
   {
    "duration": 148,
    "start_time": "2024-11-12T04:12:29.645Z"
   },
   {
    "duration": 113,
    "start_time": "2024-11-12T04:12:29.795Z"
   },
   {
    "duration": 379,
    "start_time": "2024-11-12T04:12:29.910Z"
   },
   {
    "duration": 864,
    "start_time": "2024-11-12T04:12:30.292Z"
   },
   {
    "duration": 195,
    "start_time": "2024-11-12T04:12:31.158Z"
   },
   {
    "duration": 2,
    "start_time": "2024-11-12T04:12:31.354Z"
   },
   {
    "duration": 99,
    "start_time": "2024-11-12T04:12:31.358Z"
   },
   {
    "duration": 29,
    "start_time": "2024-11-12T04:12:31.458Z"
   },
   {
    "duration": 6,
    "start_time": "2024-11-12T04:12:31.489Z"
   },
   {
    "duration": 104,
    "start_time": "2024-11-12T04:12:31.497Z"
   },
   {
    "duration": 94,
    "start_time": "2024-11-12T04:12:31.603Z"
   },
   {
    "duration": 30,
    "start_time": "2024-11-12T04:12:31.698Z"
   },
   {
    "duration": 94,
    "start_time": "2024-11-12T04:12:31.729Z"
   },
   {
    "duration": 30,
    "start_time": "2024-11-12T04:12:31.824Z"
   },
   {
    "duration": 94,
    "start_time": "2024-11-12T04:12:31.856Z"
   },
   {
    "duration": 116,
    "start_time": "2024-11-12T04:12:31.951Z"
   },
   {
    "duration": 82,
    "start_time": "2024-11-12T04:12:32.068Z"
   },
   {
    "duration": 70,
    "start_time": "2024-11-12T04:12:32.151Z"
   },
   {
    "duration": 861,
    "start_time": "2024-11-12T04:12:32.222Z"
   },
   {
    "duration": 9,
    "start_time": "2024-11-12T04:12:33.084Z"
   },
   {
    "duration": 33,
    "start_time": "2024-11-12T04:12:33.095Z"
   },
   {
    "duration": 39,
    "start_time": "2024-11-12T04:12:33.132Z"
   },
   {
    "duration": 831,
    "start_time": "2024-11-12T04:12:33.173Z"
   },
   {
    "duration": 363,
    "start_time": "2024-11-12T04:12:34.006Z"
   },
   {
    "duration": 7,
    "start_time": "2024-11-12T04:12:34.370Z"
   },
   {
    "duration": 16,
    "start_time": "2024-11-12T04:12:34.378Z"
   },
   {
    "duration": 42,
    "start_time": "2024-11-12T04:12:34.396Z"
   },
   {
    "duration": 14,
    "start_time": "2024-11-12T04:12:34.439Z"
   },
   {
    "duration": 21,
    "start_time": "2024-11-12T04:12:34.455Z"
   },
   {
    "duration": 231,
    "start_time": "2024-11-12T04:12:34.478Z"
   },
   {
    "duration": 824,
    "start_time": "2024-11-12T04:12:34.710Z"
   },
   {
    "duration": 318,
    "start_time": "2024-11-12T04:12:35.536Z"
   },
   {
    "duration": 23,
    "start_time": "2024-11-12T04:12:35.855Z"
   },
   {
    "duration": 249,
    "start_time": "2024-11-12T04:12:35.879Z"
   },
   {
    "duration": 10,
    "start_time": "2024-11-12T04:12:36.130Z"
   },
   {
    "duration": 152,
    "start_time": "2024-11-12T04:12:36.141Z"
   },
   {
    "duration": 149,
    "start_time": "2024-11-12T04:12:36.294Z"
   },
   {
    "duration": 143,
    "start_time": "2024-11-12T04:12:36.445Z"
   },
   {
    "duration": 138,
    "start_time": "2024-11-12T04:12:36.589Z"
   },
   {
    "duration": 56,
    "start_time": "2024-11-12T04:12:36.729Z"
   },
   {
    "duration": 158,
    "start_time": "2024-11-12T04:12:36.787Z"
   },
   {
    "duration": 84,
    "start_time": "2024-11-12T04:12:36.946Z"
   },
   {
    "duration": 28,
    "start_time": "2024-11-12T04:12:37.032Z"
   },
   {
    "duration": 109,
    "start_time": "2024-11-12T04:12:37.062Z"
   },
   {
    "duration": 24,
    "start_time": "2024-11-12T04:12:37.173Z"
   },
   {
    "duration": 56,
    "start_time": "2024-11-12T04:12:37.206Z"
   },
   {
    "duration": 22,
    "start_time": "2024-11-12T04:12:37.263Z"
   },
   {
    "duration": 27,
    "start_time": "2024-11-12T04:12:37.286Z"
   },
   {
    "duration": 9,
    "start_time": "2024-11-12T04:12:37.315Z"
   },
   {
    "duration": 2615,
    "start_time": "2024-11-12T04:15:07.315Z"
   },
   {
    "duration": 1417,
    "start_time": "2024-11-12T04:15:09.932Z"
   },
   {
    "duration": 3,
    "start_time": "2024-11-12T04:15:11.351Z"
   },
   {
    "duration": 756,
    "start_time": "2024-11-12T04:15:11.357Z"
   },
   {
    "duration": 15,
    "start_time": "2024-11-12T04:15:12.114Z"
   },
   {
    "duration": 61,
    "start_time": "2024-11-12T04:15:12.130Z"
   },
   {
    "duration": 148,
    "start_time": "2024-11-12T04:15:12.192Z"
   },
   {
    "duration": 119,
    "start_time": "2024-11-12T04:15:12.342Z"
   },
   {
    "duration": 490,
    "start_time": "2024-11-12T04:15:12.463Z"
   },
   {
    "duration": 936,
    "start_time": "2024-11-12T04:15:12.956Z"
   },
   {
    "duration": 179,
    "start_time": "2024-11-12T04:15:13.894Z"
   },
   {
    "duration": 3,
    "start_time": "2024-11-12T04:15:14.074Z"
   },
   {
    "duration": 91,
    "start_time": "2024-11-12T04:15:14.078Z"
   },
   {
    "duration": 43,
    "start_time": "2024-11-12T04:15:14.171Z"
   },
   {
    "duration": 4,
    "start_time": "2024-11-12T04:15:14.215Z"
   },
   {
    "duration": 80,
    "start_time": "2024-11-12T04:15:14.220Z"
   },
   {
    "duration": 88,
    "start_time": "2024-11-12T04:15:14.301Z"
   },
   {
    "duration": 35,
    "start_time": "2024-11-12T04:15:14.390Z"
   },
   {
    "duration": 105,
    "start_time": "2024-11-12T04:15:14.427Z"
   },
   {
    "duration": 30,
    "start_time": "2024-11-12T04:15:14.533Z"
   },
   {
    "duration": 91,
    "start_time": "2024-11-12T04:15:14.565Z"
   },
   {
    "duration": 96,
    "start_time": "2024-11-12T04:15:14.658Z"
   },
   {
    "duration": 89,
    "start_time": "2024-11-12T04:15:14.756Z"
   },
   {
    "duration": 68,
    "start_time": "2024-11-12T04:15:14.847Z"
   },
   {
    "duration": 919,
    "start_time": "2024-11-12T04:15:14.916Z"
   },
   {
    "duration": 9,
    "start_time": "2024-11-12T04:15:15.837Z"
   },
   {
    "duration": 22,
    "start_time": "2024-11-12T04:15:15.847Z"
   },
   {
    "duration": 39,
    "start_time": "2024-11-12T04:15:15.873Z"
   },
   {
    "duration": 821,
    "start_time": "2024-11-12T04:15:15.914Z"
   },
   {
    "duration": 368,
    "start_time": "2024-11-12T04:15:16.737Z"
   },
   {
    "duration": 7,
    "start_time": "2024-11-12T04:15:17.106Z"
   },
   {
    "duration": 7,
    "start_time": "2024-11-12T04:15:17.114Z"
   },
   {
    "duration": 19,
    "start_time": "2024-11-12T04:15:17.122Z"
   },
   {
    "duration": 15,
    "start_time": "2024-11-12T04:15:17.142Z"
   },
   {
    "duration": 23,
    "start_time": "2024-11-12T04:15:17.158Z"
   },
   {
    "duration": 244,
    "start_time": "2024-11-12T04:15:17.182Z"
   },
   {
    "duration": 831,
    "start_time": "2024-11-12T04:15:17.428Z"
   },
   {
    "duration": 322,
    "start_time": "2024-11-12T04:15:18.260Z"
   },
   {
    "duration": 8,
    "start_time": "2024-11-12T04:15:18.583Z"
   },
   {
    "duration": 192,
    "start_time": "2024-11-12T04:15:18.593Z"
   },
   {
    "duration": 10,
    "start_time": "2024-11-12T04:15:18.787Z"
   },
   {
    "duration": 138,
    "start_time": "2024-11-12T04:15:18.799Z"
   },
   {
    "duration": 163,
    "start_time": "2024-11-12T04:15:18.939Z"
   },
   {
    "duration": 140,
    "start_time": "2024-11-12T04:15:19.104Z"
   },
   {
    "duration": 146,
    "start_time": "2024-11-12T04:15:19.245Z"
   },
   {
    "duration": 58,
    "start_time": "2024-11-12T04:15:19.392Z"
   },
   {
    "duration": 100,
    "start_time": "2024-11-12T04:15:19.451Z"
   },
   {
    "duration": 2,
    "start_time": "2024-11-12T04:15:19.553Z"
   },
   {
    "duration": 20,
    "start_time": "2024-11-12T04:15:19.556Z"
   },
   {
    "duration": 106,
    "start_time": "2024-11-12T04:15:19.577Z"
   },
   {
    "duration": 24,
    "start_time": "2024-11-12T04:15:19.684Z"
   },
   {
    "duration": 3,
    "start_time": "2024-11-12T04:15:19.709Z"
   },
   {
    "duration": 7,
    "start_time": "2024-11-12T04:15:19.713Z"
   },
   {
    "duration": 9,
    "start_time": "2024-11-12T04:15:19.722Z"
   },
   {
    "duration": 5,
    "start_time": "2024-11-12T04:15:19.732Z"
   },
   {
    "duration": 724572,
    "start_time": "2024-11-12T04:15:19.739Z"
   },
   {
    "duration": 3,
    "start_time": "2024-11-12T04:27:24.313Z"
   },
   {
    "duration": 26,
    "start_time": "2024-11-12T04:27:24.318Z"
   },
   {
    "duration": 10,
    "start_time": "2024-11-12T04:27:24.345Z"
   },
   {
    "duration": 20,
    "start_time": "2024-11-12T04:27:24.356Z"
   },
   {
    "duration": 5,
    "start_time": "2024-11-12T04:27:24.377Z"
   },
   {
    "duration": 224054,
    "start_time": "2024-11-12T04:27:24.383Z"
   },
   {
    "duration": 512,
    "start_time": "2024-11-12T04:31:08.439Z"
   },
   {
    "duration": 4,
    "start_time": "2024-11-12T04:31:08.952Z"
   },
   {
    "duration": 216951,
    "start_time": "2024-11-12T04:31:08.957Z"
   },
   {
    "duration": 3,
    "start_time": "2024-11-12T04:34:45.910Z"
   },
   {
    "duration": 484,
    "start_time": "2024-11-12T04:34:45.914Z"
   },
   {
    "duration": 8,
    "start_time": "2024-11-12T04:34:46.399Z"
   },
   {
    "duration": 324,
    "start_time": "2024-11-12T04:34:46.408Z"
   },
   {
    "duration": 24,
    "start_time": "2024-11-12T04:34:46.733Z"
   },
   {
    "duration": 2574,
    "start_time": "2024-11-12T04:44:08.407Z"
   },
   {
    "duration": 1481,
    "start_time": "2024-11-12T04:44:10.983Z"
   },
   {
    "duration": 4,
    "start_time": "2024-11-12T04:44:12.465Z"
   },
   {
    "duration": 790,
    "start_time": "2024-11-12T04:44:12.471Z"
   },
   {
    "duration": 15,
    "start_time": "2024-11-12T04:44:13.262Z"
   },
   {
    "duration": 125,
    "start_time": "2024-11-12T04:44:13.278Z"
   },
   {
    "duration": 134,
    "start_time": "2024-11-12T04:44:13.405Z"
   },
   {
    "duration": 115,
    "start_time": "2024-11-12T04:44:13.540Z"
   },
   {
    "duration": 385,
    "start_time": "2024-11-12T04:44:13.656Z"
   },
   {
    "duration": 898,
    "start_time": "2024-11-12T04:44:14.043Z"
   },
   {
    "duration": 176,
    "start_time": "2024-11-12T04:44:14.943Z"
   },
   {
    "duration": 22,
    "start_time": "2024-11-12T04:44:15.121Z"
   },
   {
    "duration": 96,
    "start_time": "2024-11-12T04:44:15.144Z"
   },
   {
    "duration": 38,
    "start_time": "2024-11-12T04:44:15.241Z"
   },
   {
    "duration": 4,
    "start_time": "2024-11-12T04:44:15.280Z"
   },
   {
    "duration": 152,
    "start_time": "2024-11-12T04:44:15.285Z"
   },
   {
    "duration": 92,
    "start_time": "2024-11-12T04:44:15.438Z"
   },
   {
    "duration": 30,
    "start_time": "2024-11-12T04:44:15.532Z"
   },
   {
    "duration": 93,
    "start_time": "2024-11-12T04:44:15.563Z"
   },
   {
    "duration": 29,
    "start_time": "2024-11-12T04:44:15.658Z"
   },
   {
    "duration": 98,
    "start_time": "2024-11-12T04:44:15.689Z"
   },
   {
    "duration": 89,
    "start_time": "2024-11-12T04:44:15.788Z"
   },
   {
    "duration": 90,
    "start_time": "2024-11-12T04:44:15.878Z"
   },
   {
    "duration": 69,
    "start_time": "2024-11-12T04:44:15.970Z"
   },
   {
    "duration": 849,
    "start_time": "2024-11-12T04:44:16.040Z"
   },
   {
    "duration": 8,
    "start_time": "2024-11-12T04:44:16.891Z"
   },
   {
    "duration": 19,
    "start_time": "2024-11-12T04:44:16.900Z"
   },
   {
    "duration": 138,
    "start_time": "2024-11-12T04:44:16.923Z"
   },
   {
    "duration": 762,
    "start_time": "2024-11-12T04:44:17.062Z"
   },
   {
    "duration": 415,
    "start_time": "2024-11-12T04:44:17.825Z"
   },
   {
    "duration": 7,
    "start_time": "2024-11-12T04:44:18.241Z"
   },
   {
    "duration": 20,
    "start_time": "2024-11-12T04:44:18.249Z"
   },
   {
    "duration": 20,
    "start_time": "2024-11-12T04:44:18.270Z"
   },
   {
    "duration": 15,
    "start_time": "2024-11-12T04:44:18.291Z"
   },
   {
    "duration": 21,
    "start_time": "2024-11-12T04:44:18.308Z"
   },
   {
    "duration": 229,
    "start_time": "2024-11-12T04:44:18.331Z"
   },
   {
    "duration": 796,
    "start_time": "2024-11-12T04:44:18.561Z"
   },
   {
    "duration": 320,
    "start_time": "2024-11-12T04:44:19.358Z"
   },
   {
    "duration": 15,
    "start_time": "2024-11-12T04:44:19.680Z"
   },
   {
    "duration": 216,
    "start_time": "2024-11-12T04:44:19.706Z"
   },
   {
    "duration": 10,
    "start_time": "2024-11-12T04:44:19.923Z"
   },
   {
    "duration": 146,
    "start_time": "2024-11-12T04:44:19.934Z"
   },
   {
    "duration": 145,
    "start_time": "2024-11-12T04:44:20.081Z"
   },
   {
    "duration": 143,
    "start_time": "2024-11-12T04:44:20.227Z"
   },
   {
    "duration": 138,
    "start_time": "2024-11-12T04:44:20.372Z"
   },
   {
    "duration": 57,
    "start_time": "2024-11-12T04:44:20.512Z"
   },
   {
    "duration": 81,
    "start_time": "2024-11-12T04:44:20.570Z"
   },
   {
    "duration": 3,
    "start_time": "2024-11-12T04:44:20.652Z"
   },
   {
    "duration": 18,
    "start_time": "2024-11-12T04:44:20.656Z"
   },
   {
    "duration": 103,
    "start_time": "2024-11-12T04:44:20.675Z"
   },
   {
    "duration": 17,
    "start_time": "2024-11-12T04:44:20.780Z"
   },
   {
    "duration": 2,
    "start_time": "2024-11-12T04:44:20.807Z"
   },
   {
    "duration": 14,
    "start_time": "2024-11-12T04:44:20.811Z"
   },
   {
    "duration": 5,
    "start_time": "2024-11-12T04:44:20.826Z"
   },
   {
    "duration": 8,
    "start_time": "2024-11-12T04:44:20.832Z"
   },
   {
    "duration": 2514,
    "start_time": "2024-11-12T04:44:55.427Z"
   },
   {
    "duration": 1447,
    "start_time": "2024-11-12T04:44:57.943Z"
   },
   {
    "duration": 3,
    "start_time": "2024-11-12T04:44:59.391Z"
   },
   {
    "duration": 759,
    "start_time": "2024-11-12T04:44:59.396Z"
   },
   {
    "duration": 15,
    "start_time": "2024-11-12T04:45:00.157Z"
   },
   {
    "duration": 80,
    "start_time": "2024-11-12T04:45:00.173Z"
   },
   {
    "duration": 137,
    "start_time": "2024-11-12T04:45:00.254Z"
   },
   {
    "duration": 117,
    "start_time": "2024-11-12T04:45:00.392Z"
   },
   {
    "duration": 401,
    "start_time": "2024-11-12T04:45:00.510Z"
   },
   {
    "duration": 904,
    "start_time": "2024-11-12T04:45:00.913Z"
   },
   {
    "duration": 179,
    "start_time": "2024-11-12T04:45:01.819Z"
   },
   {
    "duration": 2,
    "start_time": "2024-11-12T04:45:02.000Z"
   },
   {
    "duration": 81,
    "start_time": "2024-11-12T04:45:02.007Z"
   },
   {
    "duration": 82,
    "start_time": "2024-11-12T04:45:02.090Z"
   },
   {
    "duration": 33,
    "start_time": "2024-11-12T04:45:02.174Z"
   },
   {
    "duration": 127,
    "start_time": "2024-11-12T04:45:02.208Z"
   },
   {
    "duration": 127,
    "start_time": "2024-11-12T04:45:02.337Z"
   },
   {
    "duration": 30,
    "start_time": "2024-11-12T04:45:02.466Z"
   },
   {
    "duration": 121,
    "start_time": "2024-11-12T04:45:02.498Z"
   },
   {
    "duration": 37,
    "start_time": "2024-11-12T04:45:02.620Z"
   },
   {
    "duration": 132,
    "start_time": "2024-11-12T04:45:02.658Z"
   },
   {
    "duration": 88,
    "start_time": "2024-11-12T04:45:02.791Z"
   },
   {
    "duration": 82,
    "start_time": "2024-11-12T04:45:02.880Z"
   },
   {
    "duration": 176,
    "start_time": "2024-11-12T04:45:02.963Z"
   },
   {
    "duration": 817,
    "start_time": "2024-11-12T04:45:03.140Z"
   },
   {
    "duration": 7,
    "start_time": "2024-11-12T04:45:03.959Z"
   },
   {
    "duration": 28,
    "start_time": "2024-11-12T04:45:03.968Z"
   },
   {
    "duration": 21,
    "start_time": "2024-11-12T04:45:03.999Z"
   },
   {
    "duration": 773,
    "start_time": "2024-11-12T04:45:04.022Z"
   },
   {
    "duration": 361,
    "start_time": "2024-11-12T04:45:04.796Z"
   },
   {
    "duration": 6,
    "start_time": "2024-11-12T04:45:05.159Z"
   },
   {
    "duration": 30,
    "start_time": "2024-11-12T04:45:05.166Z"
   },
   {
    "duration": 24,
    "start_time": "2024-11-12T04:45:05.197Z"
   },
   {
    "duration": 23,
    "start_time": "2024-11-12T04:45:05.222Z"
   },
   {
    "duration": 33,
    "start_time": "2024-11-12T04:45:05.246Z"
   },
   {
    "duration": 360,
    "start_time": "2024-11-12T04:45:05.280Z"
   },
   {
    "duration": 862,
    "start_time": "2024-11-12T04:45:05.641Z"
   },
   {
    "duration": 318,
    "start_time": "2024-11-12T04:45:06.506Z"
   },
   {
    "duration": 15,
    "start_time": "2024-11-12T04:45:06.825Z"
   },
   {
    "duration": 251,
    "start_time": "2024-11-12T04:45:06.842Z"
   },
   {
    "duration": 66,
    "start_time": "2024-11-12T04:45:07.095Z"
   },
   {
    "duration": 151,
    "start_time": "2024-11-12T04:45:07.163Z"
   },
   {
    "duration": 146,
    "start_time": "2024-11-12T04:45:07.316Z"
   },
   {
    "duration": 145,
    "start_time": "2024-11-12T04:45:07.464Z"
   },
   {
    "duration": 135,
    "start_time": "2024-11-12T04:45:07.611Z"
   },
   {
    "duration": 61,
    "start_time": "2024-11-12T04:45:07.748Z"
   },
   {
    "duration": 71,
    "start_time": "2024-11-12T04:45:07.811Z"
   },
   {
    "duration": 2,
    "start_time": "2024-11-12T04:45:07.884Z"
   },
   {
    "duration": 71,
    "start_time": "2024-11-12T04:45:07.887Z"
   },
   {
    "duration": 97,
    "start_time": "2024-11-12T04:45:07.960Z"
   },
   {
    "duration": 22,
    "start_time": "2024-11-12T04:45:08.060Z"
   },
   {
    "duration": 51,
    "start_time": "2024-11-12T04:45:08.083Z"
   },
   {
    "duration": 8,
    "start_time": "2024-11-12T04:45:08.136Z"
   },
   {
    "duration": 6,
    "start_time": "2024-11-12T04:45:08.145Z"
   },
   {
    "duration": 26,
    "start_time": "2024-11-12T04:45:08.152Z"
   },
   {
    "duration": 1424229,
    "start_time": "2024-11-12T04:45:08.180Z"
   },
   {
    "duration": 4,
    "start_time": "2024-11-12T05:08:52.411Z"
   },
   {
    "duration": 213,
    "start_time": "2024-11-12T05:08:52.416Z"
   },
   {
    "duration": 3,
    "start_time": "2024-11-12T05:08:52.631Z"
   },
   {
    "duration": 5,
    "start_time": "2024-11-12T05:08:52.635Z"
   },
   {
    "duration": 3,
    "start_time": "2024-11-12T05:08:52.642Z"
   },
   {
    "duration": 8,
    "start_time": "2024-11-12T05:08:52.647Z"
   },
   {
    "duration": 226509,
    "start_time": "2024-11-12T05:08:52.656Z"
   },
   {
    "duration": 538,
    "start_time": "2024-11-12T05:12:39.167Z"
   },
   {
    "duration": 4,
    "start_time": "2024-11-12T05:12:39.707Z"
   },
   {
    "duration": 220365,
    "start_time": "2024-11-12T05:12:39.712Z"
   },
   {
    "duration": 3,
    "start_time": "2024-11-12T05:16:20.078Z"
   },
   {
    "duration": 508,
    "start_time": "2024-11-12T05:16:20.082Z"
   },
   {
    "duration": 4,
    "start_time": "2024-11-12T05:16:20.591Z"
   },
   {
    "duration": 360,
    "start_time": "2024-11-12T05:16:20.596Z"
   },
   {
    "duration": 25,
    "start_time": "2024-11-12T05:16:20.958Z"
   },
   {
    "duration": 549269,
    "start_time": "2024-11-12T05:16:20.985Z"
   },
   {
    "duration": 3,
    "start_time": "2024-11-12T05:25:30.255Z"
   },
   {
    "duration": 2570,
    "start_time": "2024-11-12T05:25:30.259Z"
   },
   {
    "duration": 4,
    "start_time": "2024-11-12T05:25:32.831Z"
   },
   {
    "duration": 180,
    "start_time": "2024-11-12T05:25:32.836Z"
   },
   {
    "duration": 0,
    "start_time": "2024-11-12T05:25:33.017Z"
   },
   {
    "duration": 0,
    "start_time": "2024-11-12T05:25:33.018Z"
   },
   {
    "duration": 0,
    "start_time": "2024-11-12T05:25:33.019Z"
   },
   {
    "duration": 0,
    "start_time": "2024-11-12T05:25:33.020Z"
   },
   {
    "duration": 0,
    "start_time": "2024-11-12T05:25:33.021Z"
   },
   {
    "duration": 18,
    "start_time": "2024-11-12T05:29:56.233Z"
   },
   {
    "duration": 459,
    "start_time": "2024-11-12T05:31:45.110Z"
   },
   {
    "duration": 19,
    "start_time": "2024-11-12T05:31:47.895Z"
   },
   {
    "duration": 2,
    "start_time": "2024-11-12T05:32:08.369Z"
   },
   {
    "duration": 18,
    "start_time": "2024-11-12T05:32:09.489Z"
   },
   {
    "duration": 180,
    "start_time": "2024-11-12T05:34:34.701Z"
   },
   {
    "duration": 19,
    "start_time": "2024-11-12T05:34:35.667Z"
   },
   {
    "duration": 2,
    "start_time": "2024-11-12T05:37:45.607Z"
   },
   {
    "duration": 20,
    "start_time": "2024-11-12T05:37:46.564Z"
   },
   {
    "duration": 131,
    "start_time": "2024-11-12T05:39:13.383Z"
   },
   {
    "duration": 17,
    "start_time": "2024-11-12T05:39:14.261Z"
   },
   {
    "duration": 2610,
    "start_time": "2024-11-12T05:39:55.583Z"
   },
   {
    "duration": 1474,
    "start_time": "2024-11-12T05:39:58.195Z"
   },
   {
    "duration": 4,
    "start_time": "2024-11-12T05:39:59.670Z"
   },
   {
    "duration": 776,
    "start_time": "2024-11-12T05:39:59.675Z"
   },
   {
    "duration": 15,
    "start_time": "2024-11-12T05:40:00.452Z"
   },
   {
    "duration": 108,
    "start_time": "2024-11-12T05:40:00.468Z"
   },
   {
    "duration": 128,
    "start_time": "2024-11-12T05:40:00.578Z"
   },
   {
    "duration": 109,
    "start_time": "2024-11-12T05:40:00.707Z"
   },
   {
    "duration": 385,
    "start_time": "2024-11-12T05:40:00.817Z"
   },
   {
    "duration": 883,
    "start_time": "2024-11-12T05:40:01.207Z"
   },
   {
    "duration": 179,
    "start_time": "2024-11-12T05:40:02.091Z"
   },
   {
    "duration": 3,
    "start_time": "2024-11-12T05:40:02.271Z"
   },
   {
    "duration": 101,
    "start_time": "2024-11-12T05:40:02.275Z"
   },
   {
    "duration": 38,
    "start_time": "2024-11-12T05:40:02.378Z"
   },
   {
    "duration": 63,
    "start_time": "2024-11-12T05:40:02.418Z"
   },
   {
    "duration": 93,
    "start_time": "2024-11-12T05:40:02.483Z"
   },
   {
    "duration": 142,
    "start_time": "2024-11-12T05:40:02.578Z"
   },
   {
    "duration": 54,
    "start_time": "2024-11-12T05:40:02.722Z"
   },
   {
    "duration": 119,
    "start_time": "2024-11-12T05:40:02.778Z"
   },
   {
    "duration": 30,
    "start_time": "2024-11-12T05:40:02.899Z"
   },
   {
    "duration": 123,
    "start_time": "2024-11-12T05:40:02.931Z"
   },
   {
    "duration": 87,
    "start_time": "2024-11-12T05:40:03.055Z"
   },
   {
    "duration": 243,
    "start_time": "2024-11-12T05:40:03.143Z"
   },
   {
    "duration": 122,
    "start_time": "2024-11-12T05:40:03.388Z"
   },
   {
    "duration": 808,
    "start_time": "2024-11-12T05:40:03.511Z"
   },
   {
    "duration": 9,
    "start_time": "2024-11-12T05:40:04.320Z"
   },
   {
    "duration": 168,
    "start_time": "2024-11-12T05:40:04.330Z"
   },
   {
    "duration": 22,
    "start_time": "2024-11-12T05:40:04.502Z"
   },
   {
    "duration": 820,
    "start_time": "2024-11-12T05:40:04.525Z"
   },
   {
    "duration": 371,
    "start_time": "2024-11-12T05:40:05.347Z"
   },
   {
    "duration": 6,
    "start_time": "2024-11-12T05:40:05.720Z"
   },
   {
    "duration": 37,
    "start_time": "2024-11-12T05:40:05.727Z"
   },
   {
    "duration": 47,
    "start_time": "2024-11-12T05:40:05.766Z"
   },
   {
    "duration": 14,
    "start_time": "2024-11-12T05:40:05.814Z"
   },
   {
    "duration": 49,
    "start_time": "2024-11-12T05:40:05.829Z"
   },
   {
    "duration": 255,
    "start_time": "2024-11-12T05:40:05.879Z"
   },
   {
    "duration": 800,
    "start_time": "2024-11-12T05:40:06.135Z"
   },
   {
    "duration": 337,
    "start_time": "2024-11-12T05:40:06.937Z"
   },
   {
    "duration": 9,
    "start_time": "2024-11-12T05:40:07.275Z"
   },
   {
    "duration": 204,
    "start_time": "2024-11-12T05:40:07.285Z"
   },
   {
    "duration": 16,
    "start_time": "2024-11-12T05:40:07.491Z"
   },
   {
    "duration": 153,
    "start_time": "2024-11-12T05:40:07.509Z"
   },
   {
    "duration": 148,
    "start_time": "2024-11-12T05:40:07.663Z"
   },
   {
    "duration": 141,
    "start_time": "2024-11-12T05:40:07.813Z"
   },
   {
    "duration": 132,
    "start_time": "2024-11-12T05:40:07.956Z"
   },
   {
    "duration": 57,
    "start_time": "2024-11-12T05:40:08.089Z"
   },
   {
    "duration": 146,
    "start_time": "2024-11-12T05:40:08.147Z"
   },
   {
    "duration": 3,
    "start_time": "2024-11-12T05:40:08.294Z"
   },
   {
    "duration": 18,
    "start_time": "2024-11-12T05:40:08.298Z"
   },
   {
    "duration": 99,
    "start_time": "2024-11-12T05:40:08.318Z"
   },
   {
    "duration": 18,
    "start_time": "2024-11-12T05:40:08.418Z"
   },
   {
    "duration": 103,
    "start_time": "2024-11-12T05:40:08.437Z"
   },
   {
    "duration": 29,
    "start_time": "2024-11-12T05:40:08.541Z"
   },
   {
    "duration": 35,
    "start_time": "2024-11-12T05:40:08.571Z"
   },
   {
    "duration": 43,
    "start_time": "2024-11-12T05:40:08.607Z"
   },
   {
    "duration": 1440757,
    "start_time": "2024-11-12T05:40:08.651Z"
   },
   {
    "duration": 3,
    "start_time": "2024-11-12T06:04:09.409Z"
   },
   {
    "duration": 21,
    "start_time": "2024-11-12T06:04:09.414Z"
   },
   {
    "duration": 4,
    "start_time": "2024-11-12T06:04:09.436Z"
   },
   {
    "duration": 7,
    "start_time": "2024-11-12T06:04:09.442Z"
   },
   {
    "duration": 10,
    "start_time": "2024-11-12T06:04:09.451Z"
   },
   {
    "duration": 25227,
    "start_time": "2024-11-12T06:04:09.462Z"
   },
   {
    "duration": 587,
    "start_time": "2024-11-12T06:04:34.690Z"
   },
   {
    "duration": 5,
    "start_time": "2024-11-12T06:04:35.279Z"
   },
   {
    "duration": 206629,
    "start_time": "2024-11-12T06:04:35.285Z"
   },
   {
    "duration": 3,
    "start_time": "2024-11-12T06:08:01.916Z"
   },
   {
    "duration": 637,
    "start_time": "2024-11-12T06:08:01.920Z"
   },
   {
    "duration": 4,
    "start_time": "2024-11-12T06:08:02.559Z"
   },
   {
    "duration": 114,
    "start_time": "2024-11-12T06:08:02.564Z"
   },
   {
    "duration": 67,
    "start_time": "2024-11-12T06:08:02.681Z"
   },
   {
    "duration": 195,
    "start_time": "2024-11-12T06:08:02.750Z"
   },
   {
    "duration": 126,
    "start_time": "2024-11-12T06:08:02.946Z"
   },
   {
    "duration": 0,
    "start_time": "2024-11-12T06:08:03.073Z"
   },
   {
    "duration": 0,
    "start_time": "2024-11-12T06:08:03.074Z"
   },
   {
    "duration": 0,
    "start_time": "2024-11-12T06:08:03.075Z"
   },
   {
    "duration": 0,
    "start_time": "2024-11-12T06:08:03.076Z"
   },
   {
    "duration": 0,
    "start_time": "2024-11-12T06:08:03.077Z"
   },
   {
    "duration": 0,
    "start_time": "2024-11-12T06:08:03.078Z"
   },
   {
    "duration": 0,
    "start_time": "2024-11-12T06:08:03.079Z"
   },
   {
    "duration": 0,
    "start_time": "2024-11-12T06:08:03.079Z"
   },
   {
    "duration": 0,
    "start_time": "2024-11-12T06:08:03.080Z"
   },
   {
    "duration": 0,
    "start_time": "2024-11-12T06:08:03.081Z"
   },
   {
    "duration": 8,
    "start_time": "2024-11-12T06:27:49.684Z"
   },
   {
    "duration": 22956,
    "start_time": "2024-11-12T06:28:46.932Z"
   },
   {
    "duration": 2637,
    "start_time": "2024-11-12T06:29:27.114Z"
   },
   {
    "duration": 3084,
    "start_time": "2024-11-12T06:29:29.753Z"
   },
   {
    "duration": 1363,
    "start_time": "2024-11-12T06:29:32.839Z"
   },
   {
    "duration": 3,
    "start_time": "2024-11-12T06:29:34.204Z"
   },
   {
    "duration": 3559,
    "start_time": "2024-11-12T06:29:34.209Z"
   },
   {
    "duration": 15,
    "start_time": "2024-11-12T06:29:37.770Z"
   },
   {
    "duration": 73,
    "start_time": "2024-11-12T06:29:37.787Z"
   },
   {
    "duration": 94,
    "start_time": "2024-11-12T06:29:37.861Z"
   },
   {
    "duration": 114,
    "start_time": "2024-11-12T06:29:37.957Z"
   },
   {
    "duration": 416,
    "start_time": "2024-11-12T06:29:38.074Z"
   },
   {
    "duration": 860,
    "start_time": "2024-11-12T06:29:38.492Z"
   },
   {
    "duration": 174,
    "start_time": "2024-11-12T06:29:39.353Z"
   },
   {
    "duration": 93,
    "start_time": "2024-11-12T06:29:39.528Z"
   },
   {
    "duration": 93,
    "start_time": "2024-11-12T06:29:39.622Z"
   },
   {
    "duration": 28,
    "start_time": "2024-11-12T06:29:39.716Z"
   },
   {
    "duration": 3,
    "start_time": "2024-11-12T06:29:39.746Z"
   },
   {
    "duration": 100,
    "start_time": "2024-11-12T06:29:39.751Z"
   },
   {
    "duration": 136,
    "start_time": "2024-11-12T06:29:39.852Z"
   },
   {
    "duration": 31,
    "start_time": "2024-11-12T06:29:39.990Z"
   },
   {
    "duration": 97,
    "start_time": "2024-11-12T06:29:40.022Z"
   },
   {
    "duration": 30,
    "start_time": "2024-11-12T06:29:40.120Z"
   },
   {
    "duration": 109,
    "start_time": "2024-11-12T06:29:40.151Z"
   },
   {
    "duration": 87,
    "start_time": "2024-11-12T06:29:40.261Z"
   },
   {
    "duration": 89,
    "start_time": "2024-11-12T06:29:40.353Z"
   },
   {
    "duration": 71,
    "start_time": "2024-11-12T06:29:40.443Z"
   },
   {
    "duration": 824,
    "start_time": "2024-11-12T06:29:40.515Z"
   },
   {
    "duration": 8,
    "start_time": "2024-11-12T06:29:41.340Z"
   },
   {
    "duration": 167,
    "start_time": "2024-11-12T06:29:41.352Z"
   },
   {
    "duration": 29,
    "start_time": "2024-11-12T06:29:41.521Z"
   },
   {
    "duration": 801,
    "start_time": "2024-11-12T06:29:41.552Z"
   },
   {
    "duration": 378,
    "start_time": "2024-11-12T06:29:42.354Z"
   },
   {
    "duration": 767,
    "start_time": "2024-11-12T06:29:42.734Z"
   },
   {
    "duration": 2,
    "start_time": "2024-11-12T06:29:43.503Z"
   },
   {
    "duration": 32,
    "start_time": "2024-11-12T06:29:43.507Z"
   },
   {
    "duration": 15,
    "start_time": "2024-11-12T06:29:43.540Z"
   },
   {
    "duration": 21,
    "start_time": "2024-11-12T06:29:43.556Z"
   },
   {
    "duration": 231,
    "start_time": "2024-11-12T06:29:43.579Z"
   },
   {
    "duration": 805,
    "start_time": "2024-11-12T06:29:43.811Z"
   },
   {
    "duration": 316,
    "start_time": "2024-11-12T06:29:44.618Z"
   },
   {
    "duration": 23,
    "start_time": "2024-11-12T06:29:44.936Z"
   },
   {
    "duration": 198,
    "start_time": "2024-11-12T06:29:44.961Z"
   },
   {
    "duration": 11,
    "start_time": "2024-11-12T06:29:45.161Z"
   },
   {
    "duration": 155,
    "start_time": "2024-11-12T06:29:45.174Z"
   },
   {
    "duration": 151,
    "start_time": "2024-11-12T06:29:45.331Z"
   },
   {
    "duration": 245,
    "start_time": "2024-11-12T06:29:45.484Z"
   },
   {
    "duration": 146,
    "start_time": "2024-11-12T06:29:45.731Z"
   },
   {
    "duration": 58,
    "start_time": "2024-11-12T06:29:45.878Z"
   },
   {
    "duration": 81,
    "start_time": "2024-11-12T06:29:45.937Z"
   },
   {
    "duration": 2,
    "start_time": "2024-11-12T06:29:46.019Z"
   },
   {
    "duration": 18,
    "start_time": "2024-11-12T06:29:46.022Z"
   },
   {
    "duration": 99,
    "start_time": "2024-11-12T06:29:46.041Z"
   },
   {
    "duration": 16,
    "start_time": "2024-11-12T06:29:46.142Z"
   },
   {
    "duration": 2,
    "start_time": "2024-11-12T06:29:46.160Z"
   },
   {
    "duration": 4,
    "start_time": "2024-11-12T06:29:46.163Z"
   },
   {
    "duration": 4,
    "start_time": "2024-11-12T06:29:46.168Z"
   },
   {
    "duration": 4,
    "start_time": "2024-11-12T06:29:46.173Z"
   },
   {
    "duration": 1427133,
    "start_time": "2024-11-12T06:29:46.178Z"
   },
   {
    "duration": 4,
    "start_time": "2024-11-12T06:53:33.313Z"
   },
   {
    "duration": 58,
    "start_time": "2024-11-12T06:53:33.319Z"
   },
   {
    "duration": 27,
    "start_time": "2024-11-12T06:53:33.379Z"
   },
   {
    "duration": 4,
    "start_time": "2024-11-12T06:53:33.408Z"
   },
   {
    "duration": 18,
    "start_time": "2024-11-12T06:53:33.414Z"
   },
   {
    "duration": 25088,
    "start_time": "2024-11-12T06:53:33.433Z"
   },
   {
    "duration": 584,
    "start_time": "2024-11-12T06:53:58.523Z"
   },
   {
    "duration": 3,
    "start_time": "2024-11-12T06:53:59.108Z"
   },
   {
    "duration": 204797,
    "start_time": "2024-11-12T06:53:59.113Z"
   },
   {
    "duration": 3,
    "start_time": "2024-11-12T06:57:23.911Z"
   },
   {
    "duration": 542,
    "start_time": "2024-11-12T06:57:23.916Z"
   },
   {
    "duration": 4,
    "start_time": "2024-11-12T06:57:24.459Z"
   },
   {
    "duration": 17,
    "start_time": "2024-11-12T06:57:24.464Z"
   },
   {
    "duration": 22,
    "start_time": "2024-11-12T06:57:24.482Z"
   },
   {
    "duration": 124,
    "start_time": "2024-11-12T06:57:24.505Z"
   },
   {
    "duration": 134,
    "start_time": "2024-11-12T06:57:24.631Z"
   },
   {
    "duration": 0,
    "start_time": "2024-11-12T06:57:24.767Z"
   },
   {
    "duration": 0,
    "start_time": "2024-11-12T06:57:24.768Z"
   },
   {
    "duration": 0,
    "start_time": "2024-11-12T06:57:24.769Z"
   },
   {
    "duration": 0,
    "start_time": "2024-11-12T06:57:24.771Z"
   },
   {
    "duration": 0,
    "start_time": "2024-11-12T06:57:24.772Z"
   },
   {
    "duration": 0,
    "start_time": "2024-11-12T06:57:24.773Z"
   },
   {
    "duration": 0,
    "start_time": "2024-11-12T06:57:24.775Z"
   },
   {
    "duration": 0,
    "start_time": "2024-11-12T06:57:24.776Z"
   },
   {
    "duration": 0,
    "start_time": "2024-11-12T06:57:24.777Z"
   },
   {
    "duration": 0,
    "start_time": "2024-11-12T06:57:24.778Z"
   },
   {
    "duration": 53,
    "start_time": "2024-11-13T08:09:02.783Z"
   },
   {
    "duration": 2986,
    "start_time": "2024-11-13T08:09:18.799Z"
   },
   {
    "duration": 19975,
    "start_time": "2024-11-13T08:09:21.787Z"
   },
   {
    "duration": 1841,
    "start_time": "2024-11-13T08:09:41.764Z"
   },
   {
    "duration": 4,
    "start_time": "2024-11-13T08:09:43.607Z"
   },
   {
    "duration": 1422,
    "start_time": "2024-11-13T08:09:43.613Z"
   },
   {
    "duration": 20,
    "start_time": "2024-11-13T08:09:45.037Z"
   },
   {
    "duration": 91,
    "start_time": "2024-11-13T08:09:45.059Z"
   },
   {
    "duration": 104,
    "start_time": "2024-11-13T08:09:45.153Z"
   },
   {
    "duration": 161,
    "start_time": "2024-11-13T08:09:45.259Z"
   },
   {
    "duration": 524,
    "start_time": "2024-11-13T08:09:45.423Z"
   },
   {
    "duration": 1111,
    "start_time": "2024-11-13T08:09:45.951Z"
   },
   {
    "duration": 230,
    "start_time": "2024-11-13T08:09:47.064Z"
   },
   {
    "duration": 3,
    "start_time": "2024-11-13T08:09:47.296Z"
   },
   {
    "duration": 114,
    "start_time": "2024-11-13T08:09:47.301Z"
   },
   {
    "duration": 42,
    "start_time": "2024-11-13T08:09:47.416Z"
   },
   {
    "duration": 4,
    "start_time": "2024-11-13T08:09:47.460Z"
   },
   {
    "duration": 111,
    "start_time": "2024-11-13T08:09:47.466Z"
   },
   {
    "duration": 132,
    "start_time": "2024-11-13T08:09:47.578Z"
   },
   {
    "duration": 51,
    "start_time": "2024-11-13T08:09:47.711Z"
   },
   {
    "duration": 133,
    "start_time": "2024-11-13T08:09:47.764Z"
   },
   {
    "duration": 43,
    "start_time": "2024-11-13T08:09:47.899Z"
   },
   {
    "duration": 132,
    "start_time": "2024-11-13T08:09:47.953Z"
   },
   {
    "duration": 129,
    "start_time": "2024-11-13T08:09:48.086Z"
   },
   {
    "duration": 125,
    "start_time": "2024-11-13T08:09:48.217Z"
   },
   {
    "duration": 109,
    "start_time": "2024-11-13T08:09:48.344Z"
   },
   {
    "duration": 1052,
    "start_time": "2024-11-13T08:09:48.454Z"
   },
   {
    "duration": 12,
    "start_time": "2024-11-13T08:09:49.507Z"
   },
   {
    "duration": 60,
    "start_time": "2024-11-13T08:09:49.524Z"
   },
   {
    "duration": 28,
    "start_time": "2024-11-13T08:09:49.586Z"
   },
   {
    "duration": 988,
    "start_time": "2024-11-13T08:09:49.616Z"
   },
   {
    "duration": 509,
    "start_time": "2024-11-13T08:09:50.606Z"
   },
   {
    "duration": 10,
    "start_time": "2024-11-13T08:09:51.117Z"
   },
   {
    "duration": 24,
    "start_time": "2024-11-13T08:09:51.129Z"
   },
   {
    "duration": 37,
    "start_time": "2024-11-13T08:09:51.154Z"
   },
   {
    "duration": 18,
    "start_time": "2024-11-13T08:09:51.193Z"
   },
   {
    "duration": 45,
    "start_time": "2024-11-13T08:09:51.213Z"
   },
   {
    "duration": 297,
    "start_time": "2024-11-13T08:09:51.260Z"
   },
   {
    "duration": 1069,
    "start_time": "2024-11-13T08:09:51.559Z"
   },
   {
    "duration": 414,
    "start_time": "2024-11-13T08:09:52.630Z"
   },
   {
    "duration": 31,
    "start_time": "2024-11-13T08:09:53.046Z"
   },
   {
    "duration": 247,
    "start_time": "2024-11-13T08:09:53.079Z"
   },
   {
    "duration": 12,
    "start_time": "2024-11-13T08:09:53.328Z"
   },
   {
    "duration": 158,
    "start_time": "2024-11-13T08:09:53.352Z"
   },
   {
    "duration": 169,
    "start_time": "2024-11-13T08:09:53.512Z"
   },
   {
    "duration": 166,
    "start_time": "2024-11-13T08:09:53.682Z"
   },
   {
    "duration": 203,
    "start_time": "2024-11-13T08:09:53.853Z"
   },
   {
    "duration": 95,
    "start_time": "2024-11-13T08:09:54.057Z"
   },
   {
    "duration": 172,
    "start_time": "2024-11-13T08:09:54.154Z"
   },
   {
    "duration": 2,
    "start_time": "2024-11-13T08:09:54.328Z"
   },
   {
    "duration": 27,
    "start_time": "2024-11-13T08:09:54.332Z"
   },
   {
    "duration": 128,
    "start_time": "2024-11-13T08:09:54.361Z"
   },
   {
    "duration": 26,
    "start_time": "2024-11-13T08:09:54.491Z"
   },
   {
    "duration": 19,
    "start_time": "2024-11-13T08:09:54.518Z"
   },
   {
    "duration": 23,
    "start_time": "2024-11-13T08:09:54.539Z"
   },
   {
    "duration": 16,
    "start_time": "2024-11-13T08:09:54.563Z"
   },
   {
    "duration": 17,
    "start_time": "2024-11-13T08:09:54.582Z"
   },
   {
    "duration": 1459865,
    "start_time": "2024-11-13T08:09:54.600Z"
   },
   {
    "duration": 6,
    "start_time": "2024-11-13T08:34:14.467Z"
   },
   {
    "duration": 12,
    "start_time": "2024-11-13T08:34:14.475Z"
   },
   {
    "duration": 9,
    "start_time": "2024-11-13T08:34:14.489Z"
   },
   {
    "duration": 4,
    "start_time": "2024-11-13T08:34:14.500Z"
   },
   {
    "duration": 10,
    "start_time": "2024-11-13T08:34:14.506Z"
   },
   {
    "duration": 26452,
    "start_time": "2024-11-13T08:34:14.518Z"
   },
   {
    "duration": 667,
    "start_time": "2024-11-13T08:34:40.972Z"
   },
   {
    "duration": 12,
    "start_time": "2024-11-13T08:34:41.641Z"
   },
   {
    "duration": 217759,
    "start_time": "2024-11-13T08:34:41.655Z"
   },
   {
    "duration": 4,
    "start_time": "2024-11-13T08:38:19.416Z"
   },
   {
    "duration": 613,
    "start_time": "2024-11-13T08:38:19.422Z"
   },
   {
    "duration": 5,
    "start_time": "2024-11-13T08:38:20.037Z"
   },
   {
    "duration": 6,
    "start_time": "2024-11-13T08:38:20.052Z"
   },
   {
    "duration": 21,
    "start_time": "2024-11-13T08:38:20.060Z"
   },
   {
    "duration": 157,
    "start_time": "2024-11-13T08:38:20.083Z"
   },
   {
    "duration": 3,
    "start_time": "2024-11-13T08:38:20.242Z"
   },
   {
    "duration": 237,
    "start_time": "2024-11-13T08:38:20.246Z"
   },
   {
    "duration": 0,
    "start_time": "2024-11-13T08:38:20.485Z"
   },
   {
    "duration": 0,
    "start_time": "2024-11-13T08:38:20.486Z"
   },
   {
    "duration": 0,
    "start_time": "2024-11-13T08:38:20.487Z"
   },
   {
    "duration": 0,
    "start_time": "2024-11-13T08:38:20.488Z"
   },
   {
    "duration": 0,
    "start_time": "2024-11-13T08:38:20.489Z"
   },
   {
    "duration": 0,
    "start_time": "2024-11-13T08:38:20.490Z"
   },
   {
    "duration": 0,
    "start_time": "2024-11-13T08:38:20.492Z"
   },
   {
    "duration": 0,
    "start_time": "2024-11-13T08:38:20.493Z"
   },
   {
    "duration": 0,
    "start_time": "2024-11-13T08:38:20.494Z"
   },
   {
    "duration": 0,
    "start_time": "2024-11-13T08:38:20.495Z"
   },
   {
    "duration": 12,
    "start_time": "2024-11-13T08:41:51.582Z"
   },
   {
    "duration": 25,
    "start_time": "2024-11-13T08:41:56.503Z"
   },
   {
    "duration": 5,
    "start_time": "2024-11-13T08:43:10.883Z"
   },
   {
    "duration": 58,
    "start_time": "2024-11-13T08:45:06.109Z"
   },
   {
    "duration": 3,
    "start_time": "2024-11-13T08:45:30.101Z"
   },
   {
    "duration": 57,
    "start_time": "2024-11-13T08:46:09.660Z"
   },
   {
    "duration": 4,
    "start_time": "2024-11-13T08:46:10.053Z"
   },
   {
    "duration": 25,
    "start_time": "2024-11-13T08:46:10.667Z"
   },
   {
    "duration": 57,
    "start_time": "2024-11-13T08:48:42.463Z"
   },
   {
    "duration": 60,
    "start_time": "2024-11-13T08:51:05.454Z"
   },
   {
    "duration": 27,
    "start_time": "2024-11-13T08:51:11.312Z"
   },
   {
    "duration": 66,
    "start_time": "2024-11-13T08:51:16.652Z"
   },
   {
    "duration": 24,
    "start_time": "2024-11-13T08:51:17.530Z"
   },
   {
    "duration": 60,
    "start_time": "2024-11-13T08:51:36.176Z"
   },
   {
    "duration": 24,
    "start_time": "2024-11-13T08:51:39.427Z"
   },
   {
    "duration": 5,
    "start_time": "2024-11-13T08:52:08.195Z"
   },
   {
    "duration": 5,
    "start_time": "2024-11-13T08:52:12.769Z"
   },
   {
    "duration": 26,
    "start_time": "2024-11-13T08:52:13.182Z"
   },
   {
    "duration": 3,
    "start_time": "2024-11-13T08:52:47.156Z"
   },
   {
    "duration": 5,
    "start_time": "2024-11-13T08:53:59.596Z"
   },
   {
    "duration": 5,
    "start_time": "2024-11-13T08:56:07.437Z"
   },
   {
    "duration": 67,
    "start_time": "2024-11-13T08:57:59.295Z"
   },
   {
    "duration": 398,
    "start_time": "2024-11-13T08:58:08.078Z"
   },
   {
    "duration": 6,
    "start_time": "2024-11-13T08:58:09.550Z"
   },
   {
    "duration": 67140,
    "start_time": "2024-11-13T08:58:12.700Z"
   },
   {
    "duration": 4,
    "start_time": "2024-11-13T09:20:04.206Z"
   },
   {
    "duration": 114,
    "start_time": "2024-11-13T09:20:06.055Z"
   },
   {
    "duration": 16,
    "start_time": "2024-11-13T09:21:15.058Z"
   },
   {
    "duration": 17,
    "start_time": "2024-11-13T09:21:26.772Z"
   },
   {
    "duration": 17,
    "start_time": "2024-11-13T09:21:33.881Z"
   },
   {
    "duration": 62,
    "start_time": "2024-11-13T09:23:45.774Z"
   },
   {
    "duration": 14,
    "start_time": "2024-11-13T09:23:54.959Z"
   },
   {
    "duration": 7,
    "start_time": "2024-11-13T09:28:09.070Z"
   },
   {
    "duration": 14,
    "start_time": "2024-11-13T09:28:10.833Z"
   },
   {
    "duration": 7,
    "start_time": "2024-11-13T09:28:19.842Z"
   },
   {
    "duration": 15,
    "start_time": "2024-11-13T09:28:20.677Z"
   },
   {
    "duration": 66083,
    "start_time": "2024-11-13T09:28:24.176Z"
   },
   {
    "duration": 4,
    "start_time": "2024-11-13T09:30:02.563Z"
   },
   {
    "duration": 113,
    "start_time": "2024-11-13T09:30:03.746Z"
   },
   {
    "duration": 9,
    "start_time": "2024-11-13T09:30:13.656Z"
   },
   {
    "duration": 2690,
    "start_time": "2024-11-13T09:30:25.521Z"
   },
   {
    "duration": 2901,
    "start_time": "2024-11-13T09:30:28.213Z"
   },
   {
    "duration": 1564,
    "start_time": "2024-11-13T09:30:31.116Z"
   },
   {
    "duration": 4,
    "start_time": "2024-11-13T09:30:32.682Z"
   },
   {
    "duration": 1089,
    "start_time": "2024-11-13T09:30:32.687Z"
   },
   {
    "duration": 19,
    "start_time": "2024-11-13T09:30:33.778Z"
   },
   {
    "duration": 141,
    "start_time": "2024-11-13T09:30:33.799Z"
   },
   {
    "duration": 119,
    "start_time": "2024-11-13T09:30:33.942Z"
   },
   {
    "duration": 162,
    "start_time": "2024-11-13T09:30:34.063Z"
   },
   {
    "duration": 518,
    "start_time": "2024-11-13T09:30:34.227Z"
   },
   {
    "duration": 1051,
    "start_time": "2024-11-13T09:30:34.746Z"
   },
   {
    "duration": 198,
    "start_time": "2024-11-13T09:30:35.799Z"
   },
   {
    "duration": 2,
    "start_time": "2024-11-13T09:30:35.999Z"
   },
   {
    "duration": 127,
    "start_time": "2024-11-13T09:30:36.003Z"
   },
   {
    "duration": 48,
    "start_time": "2024-11-13T09:30:36.132Z"
   },
   {
    "duration": 4,
    "start_time": "2024-11-13T09:30:36.182Z"
   },
   {
    "duration": 127,
    "start_time": "2024-11-13T09:30:36.188Z"
   },
   {
    "duration": 131,
    "start_time": "2024-11-13T09:30:36.317Z"
   },
   {
    "duration": 42,
    "start_time": "2024-11-13T09:30:36.452Z"
   },
   {
    "duration": 185,
    "start_time": "2024-11-13T09:30:36.495Z"
   },
   {
    "duration": 41,
    "start_time": "2024-11-13T09:30:36.682Z"
   },
   {
    "duration": 142,
    "start_time": "2024-11-13T09:30:36.725Z"
   },
   {
    "duration": 125,
    "start_time": "2024-11-13T09:30:36.868Z"
   },
   {
    "duration": 127,
    "start_time": "2024-11-13T09:30:36.995Z"
   },
   {
    "duration": 103,
    "start_time": "2024-11-13T09:30:37.124Z"
   },
   {
    "duration": 1027,
    "start_time": "2024-11-13T09:30:37.229Z"
   },
   {
    "duration": 11,
    "start_time": "2024-11-13T09:30:38.258Z"
   },
   {
    "duration": 12,
    "start_time": "2024-11-13T09:30:38.274Z"
   },
   {
    "duration": 28,
    "start_time": "2024-11-13T09:30:38.288Z"
   },
   {
    "duration": 1002,
    "start_time": "2024-11-13T09:30:38.319Z"
   },
   {
    "duration": 498,
    "start_time": "2024-11-13T09:30:39.323Z"
   },
   {
    "duration": 8,
    "start_time": "2024-11-13T09:30:39.823Z"
   },
   {
    "duration": 9,
    "start_time": "2024-11-13T09:30:39.833Z"
   },
   {
    "duration": 37,
    "start_time": "2024-11-13T09:30:39.852Z"
   },
   {
    "duration": 16,
    "start_time": "2024-11-13T09:30:39.890Z"
   },
   {
    "duration": 106,
    "start_time": "2024-11-13T09:30:39.908Z"
   },
   {
    "duration": 296,
    "start_time": "2024-11-13T09:30:40.016Z"
   },
   {
    "duration": 1038,
    "start_time": "2024-11-13T09:30:40.314Z"
   },
   {
    "duration": 406,
    "start_time": "2024-11-13T09:30:41.355Z"
   },
   {
    "duration": 30,
    "start_time": "2024-11-13T09:30:41.763Z"
   },
   {
    "duration": 247,
    "start_time": "2024-11-13T09:30:41.795Z"
   },
   {
    "duration": 12,
    "start_time": "2024-11-13T09:30:42.052Z"
   },
   {
    "duration": 158,
    "start_time": "2024-11-13T09:30:42.067Z"
   },
   {
    "duration": 173,
    "start_time": "2024-11-13T09:30:42.227Z"
   },
   {
    "duration": 166,
    "start_time": "2024-11-13T09:30:42.402Z"
   },
   {
    "duration": 165,
    "start_time": "2024-11-13T09:30:42.570Z"
   },
   {
    "duration": 88,
    "start_time": "2024-11-13T09:30:42.737Z"
   },
   {
    "duration": 117,
    "start_time": "2024-11-13T09:30:42.827Z"
   },
   {
    "duration": 6,
    "start_time": "2024-11-13T09:30:42.946Z"
   },
   {
    "duration": 24,
    "start_time": "2024-11-13T09:30:42.954Z"
   },
   {
    "duration": 142,
    "start_time": "2024-11-13T09:30:42.980Z"
   },
   {
    "duration": 19,
    "start_time": "2024-11-13T09:30:43.123Z"
   },
   {
    "duration": 9,
    "start_time": "2024-11-13T09:30:43.144Z"
   },
   {
    "duration": 10,
    "start_time": "2024-11-13T09:30:43.154Z"
   },
   {
    "duration": 5,
    "start_time": "2024-11-13T09:30:43.166Z"
   },
   {
    "duration": 4,
    "start_time": "2024-11-13T09:30:43.172Z"
   },
   {
    "duration": 1467886,
    "start_time": "2024-11-13T09:30:43.178Z"
   },
   {
    "duration": 5,
    "start_time": "2024-11-13T09:55:11.065Z"
   },
   {
    "duration": 7,
    "start_time": "2024-11-13T09:55:11.072Z"
   },
   {
    "duration": 12,
    "start_time": "2024-11-13T09:55:11.080Z"
   },
   {
    "duration": 9,
    "start_time": "2024-11-13T09:55:11.094Z"
   },
   {
    "duration": 4,
    "start_time": "2024-11-13T09:55:11.105Z"
   },
   {
    "duration": 27943,
    "start_time": "2024-11-13T09:55:11.110Z"
   },
   {
    "duration": 678,
    "start_time": "2024-11-13T09:55:39.055Z"
   },
   {
    "duration": 5,
    "start_time": "2024-11-13T09:55:39.735Z"
   },
   {
    "duration": 221266,
    "start_time": "2024-11-13T09:55:39.752Z"
   },
   {
    "duration": 4,
    "start_time": "2024-11-13T09:59:21.020Z"
   },
   {
    "duration": 630,
    "start_time": "2024-11-13T09:59:21.025Z"
   },
   {
    "duration": 5,
    "start_time": "2024-11-13T09:59:21.657Z"
   },
   {
    "duration": 5,
    "start_time": "2024-11-13T09:59:21.663Z"
   },
   {
    "duration": 10,
    "start_time": "2024-11-13T09:59:21.670Z"
   },
   {
    "duration": 161,
    "start_time": "2024-11-13T09:59:21.682Z"
   },
   {
    "duration": 393,
    "start_time": "2024-11-13T09:59:21.845Z"
   },
   {
    "duration": 66980,
    "start_time": "2024-11-13T09:59:22.240Z"
   },
   {
    "duration": 4,
    "start_time": "2024-11-13T10:00:29.222Z"
   },
   {
    "duration": 240,
    "start_time": "2024-11-13T10:00:29.227Z"
   },
   {
    "duration": 0,
    "start_time": "2024-11-13T10:00:29.469Z"
   },
   {
    "duration": 0,
    "start_time": "2024-11-13T10:00:29.470Z"
   },
   {
    "duration": 0,
    "start_time": "2024-11-13T10:00:29.472Z"
   },
   {
    "duration": 0,
    "start_time": "2024-11-13T10:00:29.473Z"
   },
   {
    "duration": 0,
    "start_time": "2024-11-13T10:00:29.474Z"
   },
   {
    "duration": 0,
    "start_time": "2024-11-13T10:00:29.476Z"
   },
   {
    "duration": 0,
    "start_time": "2024-11-13T10:00:29.478Z"
   },
   {
    "duration": 0,
    "start_time": "2024-11-13T10:00:29.479Z"
   },
   {
    "duration": 25,
    "start_time": "2024-11-13T10:19:23.997Z"
   },
   {
    "duration": 15,
    "start_time": "2024-11-13T10:20:29.978Z"
   },
   {
    "duration": 10,
    "start_time": "2024-11-13T10:20:35.030Z"
   },
   {
    "duration": 14,
    "start_time": "2024-11-13T10:20:46.485Z"
   },
   {
    "duration": 3,
    "start_time": "2024-11-13T10:21:25.037Z"
   },
   {
    "duration": 3,
    "start_time": "2024-11-13T10:21:28.199Z"
   },
   {
    "duration": 15,
    "start_time": "2024-11-13T10:21:43.747Z"
   },
   {
    "duration": 4,
    "start_time": "2024-11-13T10:22:42.273Z"
   },
   {
    "duration": 4,
    "start_time": "2024-11-13T10:23:26.172Z"
   },
   {
    "duration": 21,
    "start_time": "2024-11-13T10:23:28.307Z"
   },
   {
    "duration": 115,
    "start_time": "2024-11-13T10:24:13.198Z"
   },
   {
    "duration": 5,
    "start_time": "2024-11-13T10:24:18.926Z"
   },
   {
    "duration": 5,
    "start_time": "2024-11-13T10:24:52.729Z"
   },
   {
    "duration": 15,
    "start_time": "2024-11-13T10:24:53.252Z"
   },
   {
    "duration": 4,
    "start_time": "2024-11-13T10:25:33.354Z"
   },
   {
    "duration": 19,
    "start_time": "2024-11-13T10:26:17.253Z"
   },
   {
    "duration": 83,
    "start_time": "2024-11-13T10:26:31.808Z"
   },
   {
    "duration": 43,
    "start_time": "2024-11-13T10:26:51.011Z"
   },
   {
    "duration": 14,
    "start_time": "2024-11-13T10:27:53.059Z"
   },
   {
    "duration": 13,
    "start_time": "2024-11-13T10:28:11.856Z"
   },
   {
    "duration": 14,
    "start_time": "2024-11-13T10:28:50.688Z"
   },
   {
    "duration": 15,
    "start_time": "2024-11-13T10:29:15.946Z"
   },
   {
    "duration": 13,
    "start_time": "2024-11-13T10:30:30.884Z"
   },
   {
    "duration": 13,
    "start_time": "2024-11-13T10:31:04.263Z"
   },
   {
    "duration": 4,
    "start_time": "2024-11-13T10:31:45.385Z"
   },
   {
    "duration": 4,
    "start_time": "2024-11-13T10:32:22.044Z"
   },
   {
    "duration": 4,
    "start_time": "2024-11-13T10:33:41.056Z"
   },
   {
    "duration": 15,
    "start_time": "2024-11-13T10:33:53.156Z"
   },
   {
    "duration": 14,
    "start_time": "2024-11-13T10:37:28.371Z"
   },
   {
    "duration": 155,
    "start_time": "2024-11-13T10:39:16.372Z"
   },
   {
    "duration": 105,
    "start_time": "2024-11-13T10:39:38.525Z"
   },
   {
    "duration": 65929,
    "start_time": "2024-11-13T10:39:39.198Z"
   },
   {
    "duration": 3,
    "start_time": "2024-11-13T10:41:30.723Z"
   },
   {
    "duration": 113,
    "start_time": "2024-11-13T10:41:33.212Z"
   },
   {
    "duration": 220,
    "start_time": "2024-11-13T10:44:42.692Z"
   },
   {
    "duration": 70834,
    "start_time": "2024-11-13T10:44:43.799Z"
   },
   {
    "duration": 3,
    "start_time": "2024-11-13T10:45:57.917Z"
   },
   {
    "duration": 117,
    "start_time": "2024-11-13T10:45:59.115Z"
   },
   {
    "duration": 1962,
    "start_time": "2024-11-13T10:47:00.546Z"
   },
   {
    "duration": 4,
    "start_time": "2024-11-13T10:47:39.533Z"
   },
   {
    "duration": 20,
    "start_time": "2024-11-13T10:49:19.456Z"
   },
   {
    "duration": 91,
    "start_time": "2024-11-13T10:49:30.490Z"
   },
   {
    "duration": 69786,
    "start_time": "2024-11-13T10:49:33.033Z"
   },
   {
    "duration": 1905,
    "start_time": "2024-11-13T10:50:42.821Z"
   },
   {
    "duration": 5,
    "start_time": "2024-11-13T10:51:33.958Z"
   },
   {
    "duration": 1855,
    "start_time": "2024-11-13T10:51:34.934Z"
   },
   {
    "duration": 5,
    "start_time": "2024-11-13T10:51:36.791Z"
   },
   {
    "duration": 679,
    "start_time": "2024-11-13T11:25:27.848Z"
   },
   {
    "duration": 81937,
    "start_time": "2024-11-13T11:25:30.317Z"
   },
   {
    "duration": 4,
    "start_time": "2024-11-13T11:26:59.060Z"
   },
   {
    "duration": 13,
    "start_time": "2024-11-13T11:26:59.461Z"
   },
   {
    "duration": 10,
    "start_time": "2024-11-13T11:26:59.832Z"
   },
   {
    "duration": 19958,
    "start_time": "2024-11-13T11:30:04.601Z"
   },
   {
    "duration": 22,
    "start_time": "2024-11-13T11:30:37.541Z"
   },
   {
    "duration": 11,
    "start_time": "2024-11-13T11:30:57.165Z"
   },
   {
    "duration": 3,
    "start_time": "2024-11-13T11:44:30.081Z"
   },
   {
    "duration": 60,
    "start_time": "2024-11-13T11:45:12.674Z"
   },
   {
    "duration": 5,
    "start_time": "2024-11-13T11:47:31.465Z"
   },
   {
    "duration": 196,
    "start_time": "2024-11-13T11:47:31.972Z"
   },
   {
    "duration": 76,
    "start_time": "2024-11-13T11:49:55.903Z"
   },
   {
    "duration": 20,
    "start_time": "2024-11-13T11:50:16.211Z"
   },
   {
    "duration": 3,
    "start_time": "2024-11-13T11:53:36.221Z"
   },
   {
    "duration": 6324242,
    "start_time": "2024-11-13T11:53:38.977Z"
   },
   {
    "duration": 4,
    "start_time": "2024-11-13T15:48:30.114Z"
   },
   {
    "duration": 3,
    "start_time": "2024-11-13T15:49:20.221Z"
   },
   {
    "duration": 3,
    "start_time": "2024-11-13T15:49:28.246Z"
   },
   {
    "duration": 0,
    "start_time": "2024-11-13T17:30:15.167Z"
   },
   {
    "duration": 1,
    "start_time": "2024-11-13T17:30:15.168Z"
   },
   {
    "duration": 1,
    "start_time": "2024-11-13T17:30:15.169Z"
   },
   {
    "duration": 0,
    "start_time": "2024-11-13T17:30:15.171Z"
   },
   {
    "duration": 0,
    "start_time": "2024-11-13T17:30:15.172Z"
   },
   {
    "duration": 0,
    "start_time": "2024-11-13T17:30:15.173Z"
   },
   {
    "duration": 2617,
    "start_time": "2024-11-13T17:51:39.861Z"
   },
   {
    "duration": 2902,
    "start_time": "2024-11-13T17:51:42.480Z"
   },
   {
    "duration": 1481,
    "start_time": "2024-11-13T17:51:45.384Z"
   },
   {
    "duration": 4,
    "start_time": "2024-11-13T17:51:46.867Z"
   },
   {
    "duration": 1019,
    "start_time": "2024-11-13T17:51:46.873Z"
   },
   {
    "duration": 17,
    "start_time": "2024-11-13T17:51:47.893Z"
   },
   {
    "duration": 144,
    "start_time": "2024-11-13T17:51:47.912Z"
   },
   {
    "duration": 96,
    "start_time": "2024-11-13T17:51:48.058Z"
   },
   {
    "duration": 159,
    "start_time": "2024-11-13T17:51:48.155Z"
   },
   {
    "duration": 495,
    "start_time": "2024-11-13T17:51:48.317Z"
   },
   {
    "duration": 1052,
    "start_time": "2024-11-13T17:51:48.813Z"
   },
   {
    "duration": 229,
    "start_time": "2024-11-13T17:51:49.867Z"
   },
   {
    "duration": 2,
    "start_time": "2024-11-13T17:51:50.098Z"
   },
   {
    "duration": 115,
    "start_time": "2024-11-13T17:51:50.102Z"
   },
   {
    "duration": 47,
    "start_time": "2024-11-13T17:51:50.219Z"
   },
   {
    "duration": 5,
    "start_time": "2024-11-13T17:51:50.269Z"
   },
   {
    "duration": 116,
    "start_time": "2024-11-13T17:51:50.275Z"
   },
   {
    "duration": 132,
    "start_time": "2024-11-13T17:51:50.393Z"
   },
   {
    "duration": 46,
    "start_time": "2024-11-13T17:51:50.527Z"
   },
   {
    "duration": 129,
    "start_time": "2024-11-13T17:51:50.575Z"
   },
   {
    "duration": 48,
    "start_time": "2024-11-13T17:51:50.706Z"
   },
   {
    "duration": 164,
    "start_time": "2024-11-13T17:51:50.756Z"
   },
   {
    "duration": 124,
    "start_time": "2024-11-13T17:51:50.922Z"
   },
   {
    "duration": 125,
    "start_time": "2024-11-13T17:51:51.047Z"
   },
   {
    "duration": 103,
    "start_time": "2024-11-13T17:51:51.174Z"
   },
   {
    "duration": 1061,
    "start_time": "2024-11-13T17:51:51.278Z"
   },
   {
    "duration": 16,
    "start_time": "2024-11-13T17:51:52.340Z"
   },
   {
    "duration": 27,
    "start_time": "2024-11-13T17:51:52.360Z"
   },
   {
    "duration": 30,
    "start_time": "2024-11-13T17:51:52.388Z"
   },
   {
    "duration": 994,
    "start_time": "2024-11-13T17:51:52.420Z"
   },
   {
    "duration": 556,
    "start_time": "2024-11-13T17:51:53.415Z"
   },
   {
    "duration": 14,
    "start_time": "2024-11-13T17:51:53.973Z"
   },
   {
    "duration": 4,
    "start_time": "2024-11-13T17:51:53.989Z"
   },
   {
    "duration": 57,
    "start_time": "2024-11-13T17:51:53.996Z"
   },
   {
    "duration": 17,
    "start_time": "2024-11-13T17:51:54.055Z"
   },
   {
    "duration": 24,
    "start_time": "2024-11-13T17:51:54.074Z"
   },
   {
    "duration": 312,
    "start_time": "2024-11-13T17:51:54.100Z"
   },
   {
    "duration": 1105,
    "start_time": "2024-11-13T17:51:54.413Z"
   },
   {
    "duration": 408,
    "start_time": "2024-11-13T17:51:55.520Z"
   },
   {
    "duration": 39,
    "start_time": "2024-11-13T17:51:55.930Z"
   },
   {
    "duration": 247,
    "start_time": "2024-11-13T17:51:55.971Z"
   },
   {
    "duration": 13,
    "start_time": "2024-11-13T17:51:56.220Z"
   },
   {
    "duration": 167,
    "start_time": "2024-11-13T17:51:56.235Z"
   },
   {
    "duration": 172,
    "start_time": "2024-11-13T17:51:56.405Z"
   },
   {
    "duration": 170,
    "start_time": "2024-11-13T17:51:56.579Z"
   },
   {
    "duration": 158,
    "start_time": "2024-11-13T17:51:56.751Z"
   },
   {
    "duration": 87,
    "start_time": "2024-11-13T17:51:56.911Z"
   },
   {
    "duration": 121,
    "start_time": "2024-11-13T17:51:57.000Z"
   },
   {
    "duration": 2,
    "start_time": "2024-11-13T17:51:57.123Z"
   },
   {
    "duration": 19,
    "start_time": "2024-11-13T17:51:57.126Z"
   },
   {
    "duration": 141,
    "start_time": "2024-11-13T17:51:57.153Z"
   },
   {
    "duration": 28,
    "start_time": "2024-11-13T17:51:57.295Z"
   },
   {
    "duration": 4,
    "start_time": "2024-11-13T17:51:57.325Z"
   },
   {
    "duration": 23,
    "start_time": "2024-11-13T17:51:57.330Z"
   },
   {
    "duration": 6,
    "start_time": "2024-11-13T17:51:57.355Z"
   },
   {
    "duration": 4,
    "start_time": "2024-11-13T17:51:57.362Z"
   },
   {
    "duration": 1465489,
    "start_time": "2024-11-13T17:51:57.368Z"
   },
   {
    "duration": 5,
    "start_time": "2024-11-13T18:16:22.859Z"
   },
   {
    "duration": 12,
    "start_time": "2024-11-13T18:16:22.866Z"
   },
   {
    "duration": 40,
    "start_time": "2024-11-13T18:16:22.880Z"
   },
   {
    "duration": 624,
    "start_time": "2024-11-13T18:16:22.923Z"
   },
   {
    "duration": 6,
    "start_time": "2024-11-13T18:16:23.551Z"
   },
   {
    "duration": 35,
    "start_time": "2024-11-13T18:16:23.558Z"
   },
   {
    "duration": 25,
    "start_time": "2024-11-13T18:16:23.594Z"
   },
   {
    "duration": 23,
    "start_time": "2024-11-13T18:16:23.621Z"
   },
   {
    "duration": 35,
    "start_time": "2024-11-13T18:16:23.645Z"
   },
   {
    "duration": 5676,
    "start_time": "2024-11-13T18:16:23.682Z"
   },
   {
    "duration": 1,
    "start_time": "2024-11-13T18:16:29.360Z"
   },
   {
    "duration": 0,
    "start_time": "2024-11-13T18:16:29.362Z"
   },
   {
    "duration": 0,
    "start_time": "2024-11-13T18:16:29.363Z"
   },
   {
    "duration": 0,
    "start_time": "2024-11-13T18:16:29.364Z"
   },
   {
    "duration": 0,
    "start_time": "2024-11-13T18:16:29.365Z"
   },
   {
    "duration": 0,
    "start_time": "2024-11-13T18:16:29.366Z"
   },
   {
    "duration": 0,
    "start_time": "2024-11-13T18:16:29.367Z"
   },
   {
    "duration": 0,
    "start_time": "2024-11-13T18:16:29.368Z"
   },
   {
    "duration": 0,
    "start_time": "2024-11-13T18:16:29.369Z"
   },
   {
    "duration": 0,
    "start_time": "2024-11-13T18:16:29.370Z"
   },
   {
    "duration": 0,
    "start_time": "2024-11-13T18:16:29.371Z"
   },
   {
    "duration": 0,
    "start_time": "2024-11-13T18:16:29.372Z"
   },
   {
    "duration": 0,
    "start_time": "2024-11-13T18:16:29.373Z"
   },
   {
    "duration": 0,
    "start_time": "2024-11-13T18:16:29.375Z"
   },
   {
    "duration": 0,
    "start_time": "2024-11-13T18:16:29.376Z"
   },
   {
    "duration": 0,
    "start_time": "2024-11-13T18:16:29.377Z"
   },
   {
    "duration": 0,
    "start_time": "2024-11-13T18:16:29.378Z"
   },
   {
    "duration": 0,
    "start_time": "2024-11-13T18:16:29.379Z"
   },
   {
    "duration": 0,
    "start_time": "2024-11-13T18:16:29.380Z"
   },
   {
    "duration": 0,
    "start_time": "2024-11-13T18:16:29.381Z"
   },
   {
    "duration": 0,
    "start_time": "2024-11-13T18:16:29.382Z"
   },
   {
    "duration": 0,
    "start_time": "2024-11-13T18:16:29.384Z"
   },
   {
    "duration": 0,
    "start_time": "2024-11-13T18:16:29.385Z"
   },
   {
    "duration": 0,
    "start_time": "2024-11-13T18:16:29.386Z"
   },
   {
    "duration": 50,
    "start_time": "2024-11-13T18:19:31.784Z"
   },
   {
    "duration": 52,
    "start_time": "2024-11-13T18:19:38.300Z"
   },
   {
    "duration": 2,
    "start_time": "2024-11-13T18:19:45.084Z"
   },
   {
    "duration": 2,
    "start_time": "2024-11-13T18:20:29.513Z"
   },
   {
    "duration": 20,
    "start_time": "2024-11-13T18:20:30.194Z"
   },
   {
    "duration": 2,
    "start_time": "2024-11-13T18:20:30.813Z"
   },
   {
    "duration": 5285,
    "start_time": "2024-11-13T18:20:32.033Z"
   },
   {
    "duration": 4,
    "start_time": "2024-11-13T18:22:43.815Z"
   },
   {
    "duration": 97,
    "start_time": "2024-11-13T18:22:54.774Z"
   },
   {
    "duration": 3,
    "start_time": "2024-11-13T18:23:07.688Z"
   },
   {
    "duration": 3,
    "start_time": "2024-11-13T18:23:23.490Z"
   },
   {
    "duration": 3,
    "start_time": "2024-11-13T18:23:39.225Z"
   },
   {
    "duration": 77,
    "start_time": "2024-11-13T18:23:51.118Z"
   },
   {
    "duration": 3,
    "start_time": "2024-11-13T18:25:26.469Z"
   },
   {
    "duration": 3,
    "start_time": "2024-11-13T18:25:36.552Z"
   },
   {
    "duration": 3,
    "start_time": "2024-11-13T18:25:48.871Z"
   },
   {
    "duration": 3,
    "start_time": "2024-11-13T18:25:50.449Z"
   },
   {
    "duration": 52,
    "start_time": "2024-11-13T18:25:50.982Z"
   },
   {
    "duration": 136,
    "start_time": "2024-11-13T18:25:51.468Z"
   },
   {
    "duration": 6,
    "start_time": "2024-11-13T18:25:52.753Z"
   },
   {
    "duration": 3,
    "start_time": "2024-11-13T18:25:54.162Z"
   },
   {
    "duration": 3,
    "start_time": "2024-11-13T18:25:57.590Z"
   },
   {
    "duration": 30,
    "start_time": "2024-11-13T18:25:58.003Z"
   },
   {
    "duration": 3,
    "start_time": "2024-11-13T18:26:00.449Z"
   },
   {
    "duration": 6274,
    "start_time": "2024-11-13T18:26:01.547Z"
   },
   {
    "duration": 8978,
    "start_time": "2024-11-13T18:26:45.674Z"
   },
   {
    "duration": 3,
    "start_time": "2024-11-13T18:27:43.812Z"
   },
   {
    "duration": 3,
    "start_time": "2024-11-13T18:27:44.409Z"
   },
   {
    "duration": 2,
    "start_time": "2024-11-13T18:27:48.274Z"
   },
   {
    "duration": 20,
    "start_time": "2024-11-13T18:27:48.692Z"
   },
   {
    "duration": 3,
    "start_time": "2024-11-13T18:27:49.163Z"
   },
   {
    "duration": 6216,
    "start_time": "2024-11-13T18:27:50.360Z"
   },
   {
    "duration": 4,
    "start_time": "2024-11-13T18:28:12.988Z"
   },
   {
    "duration": 19,
    "start_time": "2024-11-13T18:28:13.301Z"
   },
   {
    "duration": 2,
    "start_time": "2024-11-13T18:28:13.627Z"
   },
   {
    "duration": 6286,
    "start_time": "2024-11-13T18:28:14.156Z"
   },
   {
    "duration": 3063,
    "start_time": "2024-11-15T03:40:32.671Z"
   },
   {
    "duration": 20666,
    "start_time": "2024-11-15T03:40:35.736Z"
   },
   {
    "duration": 1855,
    "start_time": "2024-11-15T03:40:56.404Z"
   },
   {
    "duration": 5,
    "start_time": "2024-11-15T03:40:58.261Z"
   },
   {
    "duration": 3048,
    "start_time": "2024-11-15T03:40:58.267Z"
   },
   {
    "duration": 22,
    "start_time": "2024-11-15T03:41:01.318Z"
   },
   {
    "duration": 81,
    "start_time": "2024-11-15T03:41:01.342Z"
   },
   {
    "duration": 105,
    "start_time": "2024-11-15T03:41:01.425Z"
   },
   {
    "duration": 154,
    "start_time": "2024-11-15T03:41:01.532Z"
   },
   {
    "duration": 520,
    "start_time": "2024-11-15T03:41:01.689Z"
   },
   {
    "duration": 1070,
    "start_time": "2024-11-15T03:41:02.211Z"
   },
   {
    "duration": 222,
    "start_time": "2024-11-15T03:41:03.283Z"
   },
   {
    "duration": 2,
    "start_time": "2024-11-15T03:41:03.507Z"
   },
   {
    "duration": 119,
    "start_time": "2024-11-15T03:41:03.521Z"
   },
   {
    "duration": 32,
    "start_time": "2024-11-15T03:41:03.642Z"
   },
   {
    "duration": 4,
    "start_time": "2024-11-15T03:41:03.676Z"
   },
   {
    "duration": 121,
    "start_time": "2024-11-15T03:41:03.682Z"
   },
   {
    "duration": 160,
    "start_time": "2024-11-15T03:41:03.805Z"
   },
   {
    "duration": 43,
    "start_time": "2024-11-15T03:41:03.967Z"
   },
   {
    "duration": 140,
    "start_time": "2024-11-15T03:41:04.021Z"
   },
   {
    "duration": 42,
    "start_time": "2024-11-15T03:41:04.162Z"
   },
   {
    "duration": 139,
    "start_time": "2024-11-15T03:41:04.206Z"
   },
   {
    "duration": 118,
    "start_time": "2024-11-15T03:41:04.347Z"
   },
   {
    "duration": 129,
    "start_time": "2024-11-15T03:41:04.467Z"
   },
   {
    "duration": 103,
    "start_time": "2024-11-15T03:41:04.598Z"
   },
   {
    "duration": 1078,
    "start_time": "2024-11-15T03:41:04.702Z"
   },
   {
    "duration": 14,
    "start_time": "2024-11-15T03:41:05.782Z"
   },
   {
    "duration": 80,
    "start_time": "2024-11-15T03:41:05.802Z"
   },
   {
    "duration": 59,
    "start_time": "2024-11-15T03:41:05.883Z"
   },
   {
    "duration": 984,
    "start_time": "2024-11-15T03:41:05.943Z"
   },
   {
    "duration": 515,
    "start_time": "2024-11-15T03:41:06.930Z"
   },
   {
    "duration": 9,
    "start_time": "2024-11-15T03:41:07.447Z"
   },
   {
    "duration": 3,
    "start_time": "2024-11-15T03:41:07.458Z"
   },
   {
    "duration": 37,
    "start_time": "2024-11-15T03:41:07.462Z"
   },
   {
    "duration": 16,
    "start_time": "2024-11-15T03:41:07.520Z"
   },
   {
    "duration": 23,
    "start_time": "2024-11-15T03:41:07.538Z"
   },
   {
    "duration": 346,
    "start_time": "2024-11-15T03:41:07.563Z"
   },
   {
    "duration": 1068,
    "start_time": "2024-11-15T03:41:07.911Z"
   },
   {
    "duration": 393,
    "start_time": "2024-11-15T03:41:08.981Z"
   },
   {
    "duration": 10,
    "start_time": "2024-11-15T03:41:09.376Z"
   },
   {
    "duration": 239,
    "start_time": "2024-11-15T03:41:09.387Z"
   },
   {
    "duration": 12,
    "start_time": "2024-11-15T03:41:09.627Z"
   },
   {
    "duration": 160,
    "start_time": "2024-11-15T03:41:09.640Z"
   },
   {
    "duration": 168,
    "start_time": "2024-11-15T03:41:09.802Z"
   },
   {
    "duration": 165,
    "start_time": "2024-11-15T03:41:09.972Z"
   },
   {
    "duration": 150,
    "start_time": "2024-11-15T03:41:10.139Z"
   },
   {
    "duration": 87,
    "start_time": "2024-11-15T03:41:10.291Z"
   },
   {
    "duration": 117,
    "start_time": "2024-11-15T03:41:10.381Z"
   },
   {
    "duration": 3,
    "start_time": "2024-11-15T03:41:10.499Z"
   },
   {
    "duration": 24,
    "start_time": "2024-11-15T03:41:10.504Z"
   },
   {
    "duration": 137,
    "start_time": "2024-11-15T03:41:10.529Z"
   },
   {
    "duration": 19,
    "start_time": "2024-11-15T03:41:10.668Z"
   },
   {
    "duration": 4,
    "start_time": "2024-11-15T03:41:10.689Z"
   },
   {
    "duration": 4,
    "start_time": "2024-11-15T03:41:10.695Z"
   },
   {
    "duration": 22,
    "start_time": "2024-11-15T03:41:10.701Z"
   },
   {
    "duration": 4,
    "start_time": "2024-11-15T03:41:10.725Z"
   },
   {
    "duration": 1465502,
    "start_time": "2024-11-15T03:41:10.730Z"
   },
   {
    "duration": 4,
    "start_time": "2024-11-15T04:05:36.234Z"
   },
   {
    "duration": 166,
    "start_time": "2024-11-15T04:05:36.240Z"
   },
   {
    "duration": 0,
    "start_time": "2024-11-15T04:05:36.407Z"
   },
   {
    "duration": 0,
    "start_time": "2024-11-15T04:05:36.409Z"
   },
   {
    "duration": 0,
    "start_time": "2024-11-15T04:05:36.410Z"
   },
   {
    "duration": 0,
    "start_time": "2024-11-15T04:05:36.421Z"
   },
   {
    "duration": 0,
    "start_time": "2024-11-15T04:05:36.422Z"
   },
   {
    "duration": 0,
    "start_time": "2024-11-15T04:05:36.423Z"
   },
   {
    "duration": 0,
    "start_time": "2024-11-15T04:05:36.424Z"
   },
   {
    "duration": 0,
    "start_time": "2024-11-15T04:05:36.425Z"
   },
   {
    "duration": 0,
    "start_time": "2024-11-15T04:05:36.426Z"
   },
   {
    "duration": 0,
    "start_time": "2024-11-15T04:05:36.427Z"
   },
   {
    "duration": 0,
    "start_time": "2024-11-15T04:05:36.428Z"
   },
   {
    "duration": 0,
    "start_time": "2024-11-15T04:05:36.429Z"
   },
   {
    "duration": 0,
    "start_time": "2024-11-15T04:05:36.431Z"
   },
   {
    "duration": 0,
    "start_time": "2024-11-15T04:05:36.432Z"
   },
   {
    "duration": 0,
    "start_time": "2024-11-15T04:05:36.433Z"
   },
   {
    "duration": 0,
    "start_time": "2024-11-15T04:05:36.434Z"
   },
   {
    "duration": 0,
    "start_time": "2024-11-15T04:05:36.435Z"
   },
   {
    "duration": 0,
    "start_time": "2024-11-15T04:05:36.436Z"
   },
   {
    "duration": 0,
    "start_time": "2024-11-15T04:05:36.437Z"
   },
   {
    "duration": 0,
    "start_time": "2024-11-15T04:05:36.438Z"
   },
   {
    "duration": 0,
    "start_time": "2024-11-15T04:05:36.439Z"
   },
   {
    "duration": 0,
    "start_time": "2024-11-15T04:05:36.440Z"
   },
   {
    "duration": 0,
    "start_time": "2024-11-15T04:05:36.441Z"
   },
   {
    "duration": 0,
    "start_time": "2024-11-15T04:05:36.442Z"
   },
   {
    "duration": 0,
    "start_time": "2024-11-15T04:05:36.443Z"
   },
   {
    "duration": 0,
    "start_time": "2024-11-15T04:05:36.444Z"
   },
   {
    "duration": 0,
    "start_time": "2024-11-15T04:05:36.445Z"
   },
   {
    "duration": 0,
    "start_time": "2024-11-15T04:05:36.447Z"
   },
   {
    "duration": 0,
    "start_time": "2024-11-15T04:05:36.447Z"
   },
   {
    "duration": 3,
    "start_time": "2024-11-15T04:06:27.343Z"
   },
   {
    "duration": 11,
    "start_time": "2024-11-15T04:06:30.415Z"
   },
   {
    "duration": 3,
    "start_time": "2024-11-15T04:06:39.820Z"
   },
   {
    "duration": 3,
    "start_time": "2024-11-15T04:06:49.216Z"
   },
   {
    "duration": 19,
    "start_time": "2024-11-15T04:06:55.532Z"
   },
   {
    "duration": 3,
    "start_time": "2024-11-15T04:06:56.848Z"
   },
   {
    "duration": 2,
    "start_time": "2024-11-15T04:08:20.342Z"
   },
   {
    "duration": 25,
    "start_time": "2024-11-15T04:08:20.797Z"
   },
   {
    "duration": 3,
    "start_time": "2024-11-15T04:08:21.248Z"
   },
   {
    "duration": 3,
    "start_time": "2024-11-15T04:08:21.720Z"
   },
   {
    "duration": 3,
    "start_time": "2024-11-15T04:08:22.574Z"
   },
   {
    "duration": 3,
    "start_time": "2024-11-15T04:13:23.222Z"
   },
   {
    "duration": 5,
    "start_time": "2024-11-15T04:13:25.046Z"
   },
   {
    "duration": 2604,
    "start_time": "2024-11-15T04:33:55.070Z"
   },
   {
    "duration": 3004,
    "start_time": "2024-11-15T04:33:57.677Z"
   },
   {
    "duration": 1564,
    "start_time": "2024-11-15T04:34:00.683Z"
   },
   {
    "duration": 4,
    "start_time": "2024-11-15T04:34:02.249Z"
   },
   {
    "duration": 1045,
    "start_time": "2024-11-15T04:34:02.254Z"
   },
   {
    "duration": 24,
    "start_time": "2024-11-15T04:34:03.300Z"
   },
   {
    "duration": 71,
    "start_time": "2024-11-15T04:34:03.325Z"
   },
   {
    "duration": 107,
    "start_time": "2024-11-15T04:34:03.397Z"
   },
   {
    "duration": 169,
    "start_time": "2024-11-15T04:34:03.506Z"
   },
   {
    "duration": 518,
    "start_time": "2024-11-15T04:34:03.677Z"
   },
   {
    "duration": 1077,
    "start_time": "2024-11-15T04:34:04.197Z"
   },
   {
    "duration": 236,
    "start_time": "2024-11-15T04:34:05.276Z"
   },
   {
    "duration": 8,
    "start_time": "2024-11-15T04:34:05.513Z"
   },
   {
    "duration": 129,
    "start_time": "2024-11-15T04:34:05.523Z"
   },
   {
    "duration": 39,
    "start_time": "2024-11-15T04:34:05.654Z"
   },
   {
    "duration": 33,
    "start_time": "2024-11-15T04:34:05.694Z"
   },
   {
    "duration": 169,
    "start_time": "2024-11-15T04:34:05.729Z"
   },
   {
    "duration": 134,
    "start_time": "2024-11-15T04:34:05.900Z"
   },
   {
    "duration": 45,
    "start_time": "2024-11-15T04:34:06.037Z"
   },
   {
    "duration": 199,
    "start_time": "2024-11-15T04:34:06.084Z"
   },
   {
    "duration": 46,
    "start_time": "2024-11-15T04:34:06.285Z"
   },
   {
    "duration": 136,
    "start_time": "2024-11-15T04:34:06.332Z"
   },
   {
    "duration": 129,
    "start_time": "2024-11-15T04:34:06.469Z"
   },
   {
    "duration": 132,
    "start_time": "2024-11-15T04:34:06.600Z"
   },
   {
    "duration": 108,
    "start_time": "2024-11-15T04:34:06.733Z"
   },
   {
    "duration": 1064,
    "start_time": "2024-11-15T04:34:06.843Z"
   },
   {
    "duration": 17,
    "start_time": "2024-11-15T04:34:07.908Z"
   },
   {
    "duration": 13,
    "start_time": "2024-11-15T04:34:07.930Z"
   },
   {
    "duration": 27,
    "start_time": "2024-11-15T04:34:07.945Z"
   },
   {
    "duration": 1067,
    "start_time": "2024-11-15T04:34:07.974Z"
   },
   {
    "duration": 508,
    "start_time": "2024-11-15T04:34:09.042Z"
   },
   {
    "duration": 8,
    "start_time": "2024-11-15T04:34:09.552Z"
   },
   {
    "duration": 2,
    "start_time": "2024-11-15T04:34:09.562Z"
   },
   {
    "duration": 34,
    "start_time": "2024-11-15T04:34:09.566Z"
   },
   {
    "duration": 33,
    "start_time": "2024-11-15T04:34:09.602Z"
   },
   {
    "duration": 37,
    "start_time": "2024-11-15T04:34:09.637Z"
   },
   {
    "duration": 311,
    "start_time": "2024-11-15T04:34:09.676Z"
   },
   {
    "duration": 1057,
    "start_time": "2024-11-15T04:34:09.989Z"
   },
   {
    "duration": 398,
    "start_time": "2024-11-15T04:34:11.048Z"
   },
   {
    "duration": 29,
    "start_time": "2024-11-15T04:34:11.447Z"
   },
   {
    "duration": 256,
    "start_time": "2024-11-15T04:34:11.477Z"
   },
   {
    "duration": 12,
    "start_time": "2024-11-15T04:34:11.735Z"
   },
   {
    "duration": 176,
    "start_time": "2024-11-15T04:34:11.749Z"
   },
   {
    "duration": 171,
    "start_time": "2024-11-15T04:34:11.927Z"
   },
   {
    "duration": 154,
    "start_time": "2024-11-15T04:34:12.100Z"
   },
   {
    "duration": 149,
    "start_time": "2024-11-15T04:34:12.256Z"
   },
   {
    "duration": 89,
    "start_time": "2024-11-15T04:34:12.407Z"
   },
   {
    "duration": 116,
    "start_time": "2024-11-15T04:34:12.497Z"
   },
   {
    "duration": 3,
    "start_time": "2024-11-15T04:34:12.615Z"
   },
   {
    "duration": 21,
    "start_time": "2024-11-15T04:34:12.620Z"
   },
   {
    "duration": 132,
    "start_time": "2024-11-15T04:34:12.643Z"
   },
   {
    "duration": 25,
    "start_time": "2024-11-15T04:34:12.777Z"
   },
   {
    "duration": 16,
    "start_time": "2024-11-15T04:34:12.804Z"
   },
   {
    "duration": 3,
    "start_time": "2024-11-15T04:34:12.822Z"
   },
   {
    "duration": 5,
    "start_time": "2024-11-15T04:34:12.827Z"
   },
   {
    "duration": 3,
    "start_time": "2024-11-15T04:34:12.833Z"
   },
   {
    "duration": 1470586,
    "start_time": "2024-11-15T04:34:12.837Z"
   },
   {
    "duration": 6,
    "start_time": "2024-11-15T04:58:43.425Z"
   },
   {
    "duration": 13,
    "start_time": "2024-11-15T04:58:43.432Z"
   },
   {
    "duration": 29,
    "start_time": "2024-11-15T04:58:43.447Z"
   },
   {
    "duration": 3,
    "start_time": "2024-11-15T04:58:43.477Z"
   },
   {
    "duration": 16,
    "start_time": "2024-11-15T04:58:43.482Z"
   },
   {
    "duration": 12,
    "start_time": "2024-11-15T04:58:43.500Z"
   },
   {
    "duration": 19,
    "start_time": "2024-11-15T04:58:43.514Z"
   },
   {
    "duration": 17,
    "start_time": "2024-11-15T04:58:43.535Z"
   },
   {
    "duration": 1323677,
    "start_time": "2024-11-15T04:58:43.554Z"
   },
   {
    "duration": 3,
    "start_time": "2024-11-15T05:20:47.232Z"
   },
   {
    "duration": 11,
    "start_time": "2024-11-15T05:20:47.236Z"
   },
   {
    "duration": 74,
    "start_time": "2024-11-15T05:20:47.249Z"
   },
   {
    "duration": 104,
    "start_time": "2024-11-15T05:20:47.325Z"
   },
   {
    "duration": 9800,
    "start_time": "2024-11-15T05:20:47.430Z"
   },
   {
    "duration": 989,
    "start_time": "2024-11-15T05:20:57.232Z"
   },
   {
    "duration": 3,
    "start_time": "2024-11-15T05:20:58.223Z"
   },
   {
    "duration": 9,
    "start_time": "2024-11-15T05:20:58.228Z"
   },
   {
    "duration": 24,
    "start_time": "2024-11-15T05:20:58.239Z"
   },
   {
    "duration": 7,
    "start_time": "2024-11-15T05:20:58.265Z"
   },
   {
    "duration": 13,
    "start_time": "2024-11-15T05:20:58.274Z"
   },
   {
    "duration": 8,
    "start_time": "2024-11-15T05:20:58.289Z"
   },
   {
    "duration": 25,
    "start_time": "2024-11-15T05:20:58.299Z"
   },
   {
    "duration": 6,
    "start_time": "2024-11-15T05:20:58.326Z"
   },
   {
    "duration": 4,
    "start_time": "2024-11-15T05:20:58.333Z"
   },
   {
    "duration": 3,
    "start_time": "2024-11-15T05:20:58.343Z"
   },
   {
    "duration": 10,
    "start_time": "2024-11-15T05:20:58.347Z"
   },
   {
    "duration": 8,
    "start_time": "2024-11-15T05:20:58.358Z"
   },
   {
    "duration": 13,
    "start_time": "2024-11-15T05:20:58.368Z"
   },
   {
    "duration": 6,
    "start_time": "2024-11-15T05:20:58.383Z"
   },
   {
    "duration": 76,
    "start_time": "2024-11-15T05:20:58.391Z"
   },
   {
    "duration": 16,
    "start_time": "2024-11-15T05:20:58.469Z"
   },
   {
    "duration": 6,
    "start_time": "2024-11-15T05:20:58.487Z"
   },
   {
    "duration": 21,
    "start_time": "2024-11-15T05:20:58.494Z"
   },
   {
    "duration": 12,
    "start_time": "2024-11-15T05:20:58.516Z"
   },
   {
    "duration": 4,
    "start_time": "2024-11-15T05:20:58.530Z"
   },
   {
    "duration": 3,
    "start_time": "2024-11-15T05:20:58.535Z"
   },
   {
    "duration": 5,
    "start_time": "2024-11-15T05:20:58.539Z"
   },
   {
    "duration": 4,
    "start_time": "2024-11-15T05:20:58.545Z"
   },
   {
    "duration": 143,
    "start_time": "2024-11-15T05:20:58.550Z"
   },
   {
    "duration": 3,
    "start_time": "2024-11-15T05:31:17.105Z"
   },
   {
    "duration": 3,
    "start_time": "2024-11-15T06:00:23.818Z"
   },
   {
    "duration": 24,
    "start_time": "2024-11-15T06:00:24.258Z"
   },
   {
    "duration": 3,
    "start_time": "2024-11-15T06:00:39.996Z"
   },
   {
    "duration": 2,
    "start_time": "2024-11-15T06:00:40.413Z"
   },
   {
    "duration": 3,
    "start_time": "2024-11-15T06:00:41.468Z"
   },
   {
    "duration": 3,
    "start_time": "2024-11-15T06:00:43.637Z"
   },
   {
    "duration": 5,
    "start_time": "2024-11-15T06:00:45.427Z"
   },
   {
    "duration": 3,
    "start_time": "2024-11-15T06:00:47.877Z"
   },
   {
    "duration": 2718,
    "start_time": "2024-11-15T06:22:37.169Z"
   },
   {
    "duration": 2764,
    "start_time": "2024-11-15T06:22:39.889Z"
   },
   {
    "duration": 1656,
    "start_time": "2024-11-15T06:22:42.655Z"
   },
   {
    "duration": 4,
    "start_time": "2024-11-15T06:22:44.313Z"
   },
   {
    "duration": 1082,
    "start_time": "2024-11-15T06:22:44.319Z"
   },
   {
    "duration": 25,
    "start_time": "2024-11-15T06:22:45.402Z"
   },
   {
    "duration": 98,
    "start_time": "2024-11-15T06:22:45.428Z"
   },
   {
    "duration": 105,
    "start_time": "2024-11-15T06:22:45.528Z"
   },
   {
    "duration": 163,
    "start_time": "2024-11-15T06:22:45.634Z"
   },
   {
    "duration": 515,
    "start_time": "2024-11-15T06:22:45.800Z"
   },
   {
    "duration": 1071,
    "start_time": "2024-11-15T06:22:46.320Z"
   },
   {
    "duration": 183,
    "start_time": "2024-11-15T06:22:47.393Z"
   },
   {
    "duration": 3,
    "start_time": "2024-11-15T06:22:47.578Z"
   },
   {
    "duration": 207,
    "start_time": "2024-11-15T06:22:47.582Z"
   },
   {
    "duration": 51,
    "start_time": "2024-11-15T06:22:47.791Z"
   },
   {
    "duration": 6,
    "start_time": "2024-11-15T06:22:47.844Z"
   },
   {
    "duration": 121,
    "start_time": "2024-11-15T06:22:47.852Z"
   },
   {
    "duration": 124,
    "start_time": "2024-11-15T06:22:47.975Z"
   },
   {
    "duration": 51,
    "start_time": "2024-11-15T06:22:48.101Z"
   },
   {
    "duration": 132,
    "start_time": "2024-11-15T06:22:48.154Z"
   },
   {
    "duration": 48,
    "start_time": "2024-11-15T06:22:48.288Z"
   },
   {
    "duration": 132,
    "start_time": "2024-11-15T06:22:48.338Z"
   },
   {
    "duration": 133,
    "start_time": "2024-11-15T06:22:48.472Z"
   },
   {
    "duration": 123,
    "start_time": "2024-11-15T06:22:48.606Z"
   },
   {
    "duration": 109,
    "start_time": "2024-11-15T06:22:48.730Z"
   },
   {
    "duration": 1051,
    "start_time": "2024-11-15T06:22:48.840Z"
   },
   {
    "duration": 11,
    "start_time": "2024-11-15T06:22:49.893Z"
   },
   {
    "duration": 23,
    "start_time": "2024-11-15T06:22:49.908Z"
   },
   {
    "duration": 43,
    "start_time": "2024-11-15T06:22:49.933Z"
   },
   {
    "duration": 978,
    "start_time": "2024-11-15T06:22:49.978Z"
   },
   {
    "duration": 563,
    "start_time": "2024-11-15T06:22:50.958Z"
   },
   {
    "duration": 10,
    "start_time": "2024-11-15T06:22:51.522Z"
   },
   {
    "duration": 21,
    "start_time": "2024-11-15T06:22:51.534Z"
   },
   {
    "duration": 174,
    "start_time": "2024-11-15T06:22:51.556Z"
   },
   {
    "duration": 17,
    "start_time": "2024-11-15T06:22:51.732Z"
   },
   {
    "duration": 24,
    "start_time": "2024-11-15T06:22:51.751Z"
   },
   {
    "duration": 322,
    "start_time": "2024-11-15T06:22:51.777Z"
   },
   {
    "duration": 1090,
    "start_time": "2024-11-15T06:22:52.100Z"
   },
   {
    "duration": 417,
    "start_time": "2024-11-15T06:22:53.192Z"
   },
   {
    "duration": 32,
    "start_time": "2024-11-15T06:22:53.611Z"
   },
   {
    "duration": 313,
    "start_time": "2024-11-15T06:22:53.645Z"
   },
   {
    "duration": 12,
    "start_time": "2024-11-15T06:22:53.960Z"
   },
   {
    "duration": 157,
    "start_time": "2024-11-15T06:22:53.974Z"
   },
   {
    "duration": 160,
    "start_time": "2024-11-15T06:22:54.133Z"
   },
   {
    "duration": 170,
    "start_time": "2024-11-15T06:22:54.295Z"
   },
   {
    "duration": 157,
    "start_time": "2024-11-15T06:22:54.467Z"
   },
   {
    "duration": 81,
    "start_time": "2024-11-15T06:22:54.626Z"
   },
   {
    "duration": 117,
    "start_time": "2024-11-15T06:22:54.709Z"
   },
   {
    "duration": 2,
    "start_time": "2024-11-15T06:22:54.828Z"
   },
   {
    "duration": 19,
    "start_time": "2024-11-15T06:22:54.832Z"
   },
   {
    "duration": 141,
    "start_time": "2024-11-15T06:22:54.853Z"
   },
   {
    "duration": 3,
    "start_time": "2024-11-15T06:22:54.995Z"
   },
   {
    "duration": 4,
    "start_time": "2024-11-15T06:22:55.000Z"
   },
   {
    "duration": 15,
    "start_time": "2024-11-15T06:22:55.006Z"
   },
   {
    "duration": 164,
    "start_time": "2024-11-15T06:22:55.023Z"
   },
   {
    "duration": 0,
    "start_time": "2024-11-15T06:22:55.189Z"
   },
   {
    "duration": 0,
    "start_time": "2024-11-15T06:22:55.191Z"
   },
   {
    "duration": 0,
    "start_time": "2024-11-15T06:22:55.192Z"
   },
   {
    "duration": 0,
    "start_time": "2024-11-15T06:22:55.193Z"
   },
   {
    "duration": 0,
    "start_time": "2024-11-15T06:22:55.194Z"
   },
   {
    "duration": 0,
    "start_time": "2024-11-15T06:22:55.196Z"
   },
   {
    "duration": 0,
    "start_time": "2024-11-15T06:22:55.197Z"
   },
   {
    "duration": 0,
    "start_time": "2024-11-15T06:22:55.198Z"
   },
   {
    "duration": 0,
    "start_time": "2024-11-15T06:22:55.199Z"
   },
   {
    "duration": 0,
    "start_time": "2024-11-15T06:22:55.201Z"
   },
   {
    "duration": 0,
    "start_time": "2024-11-15T06:22:55.201Z"
   },
   {
    "duration": 0,
    "start_time": "2024-11-15T06:22:55.221Z"
   },
   {
    "duration": 0,
    "start_time": "2024-11-15T06:22:55.222Z"
   },
   {
    "duration": 0,
    "start_time": "2024-11-15T06:22:55.223Z"
   },
   {
    "duration": 0,
    "start_time": "2024-11-15T06:22:55.224Z"
   },
   {
    "duration": 0,
    "start_time": "2024-11-15T06:22:55.226Z"
   },
   {
    "duration": 0,
    "start_time": "2024-11-15T06:22:55.228Z"
   },
   {
    "duration": 0,
    "start_time": "2024-11-15T06:22:55.229Z"
   },
   {
    "duration": 0,
    "start_time": "2024-11-15T06:22:55.230Z"
   },
   {
    "duration": 0,
    "start_time": "2024-11-15T06:22:55.231Z"
   },
   {
    "duration": 0,
    "start_time": "2024-11-15T06:22:55.232Z"
   },
   {
    "duration": 0,
    "start_time": "2024-11-15T06:22:55.233Z"
   },
   {
    "duration": 0,
    "start_time": "2024-11-15T06:22:55.235Z"
   },
   {
    "duration": 0,
    "start_time": "2024-11-15T06:22:55.235Z"
   },
   {
    "duration": 0,
    "start_time": "2024-11-15T06:22:55.237Z"
   },
   {
    "duration": 0,
    "start_time": "2024-11-15T06:22:55.238Z"
   },
   {
    "duration": 0,
    "start_time": "2024-11-15T06:22:55.239Z"
   },
   {
    "duration": 0,
    "start_time": "2024-11-15T06:22:55.240Z"
   },
   {
    "duration": 0,
    "start_time": "2024-11-15T06:22:55.241Z"
   },
   {
    "duration": 0,
    "start_time": "2024-11-15T06:22:55.243Z"
   },
   {
    "duration": 0,
    "start_time": "2024-11-15T06:22:55.244Z"
   },
   {
    "duration": 0,
    "start_time": "2024-11-15T06:22:55.245Z"
   },
   {
    "duration": 0,
    "start_time": "2024-11-15T06:22:55.246Z"
   },
   {
    "duration": 0,
    "start_time": "2024-11-15T06:22:55.247Z"
   },
   {
    "duration": 0,
    "start_time": "2024-11-15T06:22:55.248Z"
   },
   {
    "duration": 0,
    "start_time": "2024-11-15T06:22:55.249Z"
   },
   {
    "duration": 0,
    "start_time": "2024-11-15T06:22:55.250Z"
   },
   {
    "duration": 0,
    "start_time": "2024-11-15T06:22:55.251Z"
   },
   {
    "duration": 0,
    "start_time": "2024-11-15T06:22:55.252Z"
   },
   {
    "duration": 0,
    "start_time": "2024-11-15T06:22:55.254Z"
   },
   {
    "duration": 0,
    "start_time": "2024-11-15T06:22:55.255Z"
   },
   {
    "duration": 0,
    "start_time": "2024-11-15T06:22:55.256Z"
   },
   {
    "duration": 10,
    "start_time": "2024-11-15T06:23:16.318Z"
   },
   {
    "duration": 4,
    "start_time": "2024-11-15T06:23:23.080Z"
   },
   {
    "duration": 4,
    "start_time": "2024-11-15T06:23:27.842Z"
   },
   {
    "duration": 3,
    "start_time": "2024-11-15T06:23:30.346Z"
   },
   {
    "duration": 1470929,
    "start_time": "2024-11-15T06:23:33.502Z"
   },
   {
    "duration": 5,
    "start_time": "2024-11-15T06:48:04.433Z"
   },
   {
    "duration": 35,
    "start_time": "2024-11-15T06:48:04.440Z"
   },
   {
    "duration": 17,
    "start_time": "2024-11-15T06:48:04.478Z"
   },
   {
    "duration": 21,
    "start_time": "2024-11-15T06:48:04.497Z"
   },
   {
    "duration": 20,
    "start_time": "2024-11-15T06:48:04.520Z"
   },
   {
    "duration": 10,
    "start_time": "2024-11-15T06:48:04.541Z"
   },
   {
    "duration": 6,
    "start_time": "2024-11-15T06:48:04.553Z"
   },
   {
    "duration": 1674361,
    "start_time": "2024-11-15T06:48:04.561Z"
   },
   {
    "duration": 3,
    "start_time": "2024-11-15T07:15:58.925Z"
   },
   {
    "duration": 22,
    "start_time": "2024-11-15T07:15:58.929Z"
   },
   {
    "duration": 20,
    "start_time": "2024-11-15T07:15:58.953Z"
   },
   {
    "duration": 12,
    "start_time": "2024-11-15T07:15:58.974Z"
   },
   {
    "duration": 18,
    "start_time": "2024-11-15T07:15:58.987Z"
   },
   {
    "duration": 10722,
    "start_time": "2024-11-15T07:15:59.007Z"
   },
   {
    "duration": 996,
    "start_time": "2024-11-15T07:16:09.731Z"
   },
   {
    "duration": 3,
    "start_time": "2024-11-15T07:16:10.728Z"
   },
   {
    "duration": 16,
    "start_time": "2024-11-15T07:16:10.732Z"
   },
   {
    "duration": 3264,
    "start_time": "2024-11-16T07:45:05.835Z"
   },
   {
    "duration": 21425,
    "start_time": "2024-11-16T07:45:09.102Z"
   },
   {
    "duration": 1790,
    "start_time": "2024-11-16T07:45:30.529Z"
   },
   {
    "duration": 4,
    "start_time": "2024-11-16T07:45:32.322Z"
   },
   {
    "duration": 3027,
    "start_time": "2024-11-16T07:45:32.327Z"
   },
   {
    "duration": 18,
    "start_time": "2024-11-16T07:45:35.355Z"
   },
   {
    "duration": 125,
    "start_time": "2024-11-16T07:45:35.375Z"
   },
   {
    "duration": 99,
    "start_time": "2024-11-16T07:45:35.501Z"
   },
   {
    "duration": 174,
    "start_time": "2024-11-16T07:45:35.602Z"
   },
   {
    "duration": 601,
    "start_time": "2024-11-16T07:45:35.779Z"
   },
   {
    "duration": 1129,
    "start_time": "2024-11-16T07:45:36.381Z"
   },
   {
    "duration": 232,
    "start_time": "2024-11-16T07:45:37.512Z"
   },
   {
    "duration": 2,
    "start_time": "2024-11-16T07:45:37.746Z"
   },
   {
    "duration": 119,
    "start_time": "2024-11-16T07:45:37.751Z"
   },
   {
    "duration": 34,
    "start_time": "2024-11-16T07:45:37.872Z"
   },
   {
    "duration": 12,
    "start_time": "2024-11-16T07:45:37.908Z"
   },
   {
    "duration": 109,
    "start_time": "2024-11-16T07:45:37.922Z"
   },
   {
    "duration": 128,
    "start_time": "2024-11-16T07:45:38.032Z"
   },
   {
    "duration": 42,
    "start_time": "2024-11-16T07:45:38.161Z"
   },
   {
    "duration": 131,
    "start_time": "2024-11-16T07:45:38.204Z"
   },
   {
    "duration": 40,
    "start_time": "2024-11-16T07:45:38.337Z"
   },
   {
    "duration": 140,
    "start_time": "2024-11-16T07:45:38.378Z"
   },
   {
    "duration": 123,
    "start_time": "2024-11-16T07:45:38.520Z"
   },
   {
    "duration": 121,
    "start_time": "2024-11-16T07:45:38.645Z"
   },
   {
    "duration": 102,
    "start_time": "2024-11-16T07:45:38.767Z"
   },
   {
    "duration": 1074,
    "start_time": "2024-11-16T07:45:38.871Z"
   },
   {
    "duration": 11,
    "start_time": "2024-11-16T07:45:39.947Z"
   },
   {
    "duration": 33,
    "start_time": "2024-11-16T07:45:39.962Z"
   },
   {
    "duration": 50,
    "start_time": "2024-11-16T07:45:39.996Z"
   },
   {
    "duration": 1000,
    "start_time": "2024-11-16T07:45:40.048Z"
   },
   {
    "duration": 513,
    "start_time": "2024-11-16T07:45:41.049Z"
   },
   {
    "duration": 8,
    "start_time": "2024-11-16T07:45:41.564Z"
   },
   {
    "duration": 3,
    "start_time": "2024-11-16T07:45:41.573Z"
   },
   {
    "duration": 52,
    "start_time": "2024-11-16T07:45:41.578Z"
   },
   {
    "duration": 17,
    "start_time": "2024-11-16T07:45:41.632Z"
   },
   {
    "duration": 26,
    "start_time": "2024-11-16T07:45:41.651Z"
   },
   {
    "duration": 345,
    "start_time": "2024-11-16T07:45:41.679Z"
   },
   {
    "duration": 1048,
    "start_time": "2024-11-16T07:45:42.025Z"
   },
   {
    "duration": 390,
    "start_time": "2024-11-16T07:45:43.075Z"
   },
   {
    "duration": 28,
    "start_time": "2024-11-16T07:45:43.466Z"
   },
   {
    "duration": 235,
    "start_time": "2024-11-16T07:45:43.496Z"
   },
   {
    "duration": 11,
    "start_time": "2024-11-16T07:45:43.733Z"
   },
   {
    "duration": 161,
    "start_time": "2024-11-16T07:45:43.746Z"
   },
   {
    "duration": 170,
    "start_time": "2024-11-16T07:45:43.909Z"
   },
   {
    "duration": 173,
    "start_time": "2024-11-16T07:45:44.081Z"
   },
   {
    "duration": 163,
    "start_time": "2024-11-16T07:45:44.255Z"
   },
   {
    "duration": 85,
    "start_time": "2024-11-16T07:45:44.420Z"
   },
   {
    "duration": 144,
    "start_time": "2024-11-16T07:45:44.507Z"
   },
   {
    "duration": 2,
    "start_time": "2024-11-16T07:45:44.653Z"
   },
   {
    "duration": 91,
    "start_time": "2024-11-16T07:45:44.657Z"
   },
   {
    "duration": 134,
    "start_time": "2024-11-16T07:45:44.750Z"
   },
   {
    "duration": 4,
    "start_time": "2024-11-16T07:45:44.886Z"
   },
   {
    "duration": 48,
    "start_time": "2024-11-16T07:45:44.892Z"
   },
   {
    "duration": 5,
    "start_time": "2024-11-16T07:45:44.942Z"
   },
   {
    "duration": 4,
    "start_time": "2024-11-16T07:45:44.949Z"
   },
   {
    "duration": 5,
    "start_time": "2024-11-16T07:45:44.955Z"
   },
   {
    "duration": 5,
    "start_time": "2024-11-16T07:45:44.961Z"
   },
   {
    "duration": 1464062,
    "start_time": "2024-11-16T07:45:44.967Z"
   },
   {
    "duration": 5,
    "start_time": "2024-11-16T08:10:09.030Z"
   },
   {
    "duration": 23,
    "start_time": "2024-11-16T08:10:09.037Z"
   },
   {
    "duration": 6,
    "start_time": "2024-11-16T08:10:09.062Z"
   },
   {
    "duration": 16,
    "start_time": "2024-11-16T08:10:09.070Z"
   },
   {
    "duration": 7,
    "start_time": "2024-11-16T08:10:09.088Z"
   },
   {
    "duration": 7,
    "start_time": "2024-11-16T08:10:09.097Z"
   },
   {
    "duration": 7,
    "start_time": "2024-11-16T08:10:09.106Z"
   },
   {
    "duration": 454025,
    "start_time": "2024-11-16T08:10:09.115Z"
   },
   {
    "duration": 79,
    "start_time": "2024-11-16T08:17:43.142Z"
   },
   {
    "duration": 46,
    "start_time": "2024-11-16T08:17:43.223Z"
   },
   {
    "duration": 6,
    "start_time": "2024-11-16T08:17:43.271Z"
   },
   {
    "duration": 8,
    "start_time": "2024-11-16T08:17:43.279Z"
   },
   {
    "duration": 13,
    "start_time": "2024-11-16T08:17:43.289Z"
   },
   {
    "duration": 11431,
    "start_time": "2024-11-16T08:17:43.304Z"
   },
   {
    "duration": 994,
    "start_time": "2024-11-16T08:17:54.737Z"
   },
   {
    "duration": 2,
    "start_time": "2024-11-16T08:17:55.733Z"
   },
   {
    "duration": 4,
    "start_time": "2024-11-16T08:17:55.737Z"
   },
   {
    "duration": 3,
    "start_time": "2024-11-16T08:17:55.742Z"
   },
   {
    "duration": 3,
    "start_time": "2024-11-16T08:17:55.747Z"
   },
   {
    "duration": 5,
    "start_time": "2024-11-16T08:17:55.751Z"
   },
   {
    "duration": 5,
    "start_time": "2024-11-16T08:17:55.758Z"
   },
   {
    "duration": 3,
    "start_time": "2024-11-16T08:17:55.821Z"
   },
   {
    "duration": 9,
    "start_time": "2024-11-16T08:17:55.826Z"
   },
   {
    "duration": 3,
    "start_time": "2024-11-16T08:17:55.841Z"
   },
   {
    "duration": 6,
    "start_time": "2024-11-16T08:17:55.846Z"
   },
   {
    "duration": 4,
    "start_time": "2024-11-16T08:17:55.855Z"
   },
   {
    "duration": 3,
    "start_time": "2024-11-16T08:17:55.861Z"
   },
   {
    "duration": 72,
    "start_time": "2024-11-16T08:17:55.866Z"
   },
   {
    "duration": 4,
    "start_time": "2024-11-16T08:17:55.940Z"
   },
   {
    "duration": 4,
    "start_time": "2024-11-16T08:17:55.945Z"
   },
   {
    "duration": 7,
    "start_time": "2024-11-16T08:17:55.950Z"
   },
   {
    "duration": 3,
    "start_time": "2024-11-16T08:17:55.960Z"
   },
   {
    "duration": 4,
    "start_time": "2024-11-16T08:17:55.965Z"
   },
   {
    "duration": 14,
    "start_time": "2024-11-16T08:17:55.970Z"
   },
   {
    "duration": 7,
    "start_time": "2024-11-16T08:17:55.986Z"
   },
   {
    "duration": 5,
    "start_time": "2024-11-16T08:17:55.994Z"
   },
   {
    "duration": 5,
    "start_time": "2024-11-16T08:17:56.000Z"
   },
   {
    "duration": 9,
    "start_time": "2024-11-16T08:17:56.007Z"
   },
   {
    "duration": 4,
    "start_time": "2024-11-16T08:17:56.017Z"
   },
   {
    "duration": 46,
    "start_time": "2024-11-17T18:52:59.036Z"
   },
   {
    "duration": 2750,
    "start_time": "2024-11-17T18:53:42.733Z"
   },
   {
    "duration": 20516,
    "start_time": "2024-11-17T18:53:45.486Z"
   },
   {
    "duration": 1730,
    "start_time": "2024-11-17T18:54:06.004Z"
   },
   {
    "duration": 3,
    "start_time": "2024-11-17T18:54:07.737Z"
   },
   {
    "duration": 1232,
    "start_time": "2024-11-17T18:54:07.742Z"
   },
   {
    "duration": 16,
    "start_time": "2024-11-17T18:54:08.976Z"
   },
   {
    "duration": 76,
    "start_time": "2024-11-17T18:54:08.993Z"
   },
   {
    "duration": 87,
    "start_time": "2024-11-17T18:54:09.071Z"
   },
   {
    "duration": 154,
    "start_time": "2024-11-17T18:54:09.159Z"
   },
   {
    "duration": 454,
    "start_time": "2024-11-17T18:54:09.316Z"
   },
   {
    "duration": 980,
    "start_time": "2024-11-17T18:54:09.771Z"
   },
   {
    "duration": 217,
    "start_time": "2024-11-17T18:54:10.753Z"
   },
   {
    "duration": 2,
    "start_time": "2024-11-17T18:54:10.972Z"
   },
   {
    "duration": 107,
    "start_time": "2024-11-17T18:54:10.976Z"
   },
   {
    "duration": 32,
    "start_time": "2024-11-17T18:54:11.085Z"
   },
   {
    "duration": 4,
    "start_time": "2024-11-17T18:54:11.119Z"
   },
   {
    "duration": 112,
    "start_time": "2024-11-17T18:54:11.124Z"
   },
   {
    "duration": 128,
    "start_time": "2024-11-17T18:54:11.238Z"
   },
   {
    "duration": 40,
    "start_time": "2024-11-17T18:54:11.367Z"
   },
   {
    "duration": 124,
    "start_time": "2024-11-17T18:54:11.409Z"
   },
   {
    "duration": 45,
    "start_time": "2024-11-17T18:54:11.535Z"
   },
   {
    "duration": 120,
    "start_time": "2024-11-17T18:54:11.582Z"
   },
   {
    "duration": 123,
    "start_time": "2024-11-17T18:54:11.703Z"
   },
   {
    "duration": 114,
    "start_time": "2024-11-17T18:54:11.827Z"
   },
   {
    "duration": 100,
    "start_time": "2024-11-17T18:54:11.942Z"
   },
   {
    "duration": 1011,
    "start_time": "2024-11-17T18:54:12.043Z"
   },
   {
    "duration": 15,
    "start_time": "2024-11-17T18:54:13.055Z"
   },
   {
    "duration": 13,
    "start_time": "2024-11-17T18:54:13.074Z"
   },
   {
    "duration": 27,
    "start_time": "2024-11-17T18:54:13.088Z"
   },
   {
    "duration": 960,
    "start_time": "2024-11-17T18:54:13.116Z"
   },
   {
    "duration": 467,
    "start_time": "2024-11-17T18:54:14.078Z"
   },
   {
    "duration": 9,
    "start_time": "2024-11-17T18:54:14.547Z"
   },
   {
    "duration": 3,
    "start_time": "2024-11-17T18:54:14.570Z"
   },
   {
    "duration": 33,
    "start_time": "2024-11-17T18:54:14.574Z"
   },
   {
    "duration": 17,
    "start_time": "2024-11-17T18:54:14.608Z"
   },
   {
    "duration": 49,
    "start_time": "2024-11-17T18:54:14.627Z"
   },
   {
    "duration": 282,
    "start_time": "2024-11-17T18:54:14.678Z"
   },
   {
    "duration": 1012,
    "start_time": "2024-11-17T18:54:14.962Z"
   },
   {
    "duration": 379,
    "start_time": "2024-11-17T18:54:15.977Z"
   },
   {
    "duration": 18,
    "start_time": "2024-11-17T18:54:16.358Z"
   },
   {
    "duration": 231,
    "start_time": "2024-11-17T18:54:16.378Z"
   },
   {
    "duration": 12,
    "start_time": "2024-11-17T18:54:16.611Z"
   },
   {
    "duration": 158,
    "start_time": "2024-11-17T18:54:16.625Z"
   },
   {
    "duration": 164,
    "start_time": "2024-11-17T18:54:16.784Z"
   },
   {
    "duration": 155,
    "start_time": "2024-11-17T18:54:16.950Z"
   },
   {
    "duration": 153,
    "start_time": "2024-11-17T18:54:17.107Z"
   },
   {
    "duration": 85,
    "start_time": "2024-11-17T18:54:17.261Z"
   },
   {
    "duration": 121,
    "start_time": "2024-11-17T18:54:17.348Z"
   },
   {
    "duration": 14,
    "start_time": "2024-11-17T18:54:17.471Z"
   },
   {
    "duration": 134,
    "start_time": "2024-11-17T18:54:17.487Z"
   },
   {
    "duration": 2,
    "start_time": "2024-11-17T18:54:17.623Z"
   },
   {
    "duration": 7,
    "start_time": "2024-11-17T18:54:17.627Z"
   },
   {
    "duration": 3,
    "start_time": "2024-11-17T18:54:17.636Z"
   },
   {
    "duration": 7,
    "start_time": "2024-11-17T18:54:17.640Z"
   },
   {
    "duration": 5,
    "start_time": "2024-11-17T18:54:17.649Z"
   },
   {
    "duration": 720,
    "start_time": "2024-11-17T18:54:17.656Z"
   },
   {
    "duration": 0,
    "start_time": "2024-11-17T18:54:18.377Z"
   },
   {
    "duration": 0,
    "start_time": "2024-11-17T18:54:18.379Z"
   },
   {
    "duration": 0,
    "start_time": "2024-11-17T18:54:18.380Z"
   },
   {
    "duration": 0,
    "start_time": "2024-11-17T18:54:18.381Z"
   },
   {
    "duration": 0,
    "start_time": "2024-11-17T18:54:18.382Z"
   },
   {
    "duration": 0,
    "start_time": "2024-11-17T18:54:18.383Z"
   },
   {
    "duration": 0,
    "start_time": "2024-11-17T18:54:18.384Z"
   },
   {
    "duration": 0,
    "start_time": "2024-11-17T18:54:18.385Z"
   },
   {
    "duration": 0,
    "start_time": "2024-11-17T18:54:18.386Z"
   },
   {
    "duration": 0,
    "start_time": "2024-11-17T18:54:18.388Z"
   },
   {
    "duration": 0,
    "start_time": "2024-11-17T18:54:18.389Z"
   },
   {
    "duration": 0,
    "start_time": "2024-11-17T18:54:18.390Z"
   },
   {
    "duration": 0,
    "start_time": "2024-11-17T18:54:18.391Z"
   },
   {
    "duration": 4,
    "start_time": "2024-11-17T19:01:19.465Z"
   },
   {
    "duration": 3,
    "start_time": "2024-11-17T19:01:23.305Z"
   },
   {
    "duration": 3,
    "start_time": "2024-11-17T19:01:24.626Z"
   },
   {
    "duration": 3,
    "start_time": "2024-11-17T19:01:27.639Z"
   },
   {
    "duration": 2383,
    "start_time": "2024-11-17T19:16:51.473Z"
   },
   {
    "duration": 2601,
    "start_time": "2024-11-17T19:16:53.858Z"
   },
   {
    "duration": 1469,
    "start_time": "2024-11-17T19:16:56.461Z"
   },
   {
    "duration": 3,
    "start_time": "2024-11-17T19:16:57.932Z"
   },
   {
    "duration": 956,
    "start_time": "2024-11-17T19:16:57.937Z"
   },
   {
    "duration": 16,
    "start_time": "2024-11-17T19:16:58.895Z"
   },
   {
    "duration": 81,
    "start_time": "2024-11-17T19:16:58.912Z"
   },
   {
    "duration": 90,
    "start_time": "2024-11-17T19:16:58.995Z"
   },
   {
    "duration": 144,
    "start_time": "2024-11-17T19:16:59.086Z"
   },
   {
    "duration": 489,
    "start_time": "2024-11-17T19:16:59.232Z"
   },
   {
    "duration": 1039,
    "start_time": "2024-11-17T19:16:59.723Z"
   },
   {
    "duration": 213,
    "start_time": "2024-11-17T19:17:00.763Z"
   },
   {
    "duration": 2,
    "start_time": "2024-11-17T19:17:00.978Z"
   },
   {
    "duration": 110,
    "start_time": "2024-11-17T19:17:00.982Z"
   },
   {
    "duration": 38,
    "start_time": "2024-11-17T19:17:01.094Z"
   },
   {
    "duration": 5,
    "start_time": "2024-11-17T19:17:01.133Z"
   },
   {
    "duration": 113,
    "start_time": "2024-11-17T19:17:01.140Z"
   },
   {
    "duration": 125,
    "start_time": "2024-11-17T19:17:01.255Z"
   },
   {
    "duration": 40,
    "start_time": "2024-11-17T19:17:01.381Z"
   },
   {
    "duration": 133,
    "start_time": "2024-11-17T19:17:01.422Z"
   },
   {
    "duration": 43,
    "start_time": "2024-11-17T19:17:01.557Z"
   },
   {
    "duration": 123,
    "start_time": "2024-11-17T19:17:01.602Z"
   },
   {
    "duration": 121,
    "start_time": "2024-11-17T19:17:01.727Z"
   },
   {
    "duration": 113,
    "start_time": "2024-11-17T19:17:01.850Z"
   },
   {
    "duration": 104,
    "start_time": "2024-11-17T19:17:01.970Z"
   },
   {
    "duration": 995,
    "start_time": "2024-11-17T19:17:02.076Z"
   },
   {
    "duration": 11,
    "start_time": "2024-11-17T19:17:03.072Z"
   },
   {
    "duration": 11,
    "start_time": "2024-11-17T19:17:03.087Z"
   },
   {
    "duration": 27,
    "start_time": "2024-11-17T19:17:03.099Z"
   },
   {
    "duration": 944,
    "start_time": "2024-11-17T19:17:03.128Z"
   },
   {
    "duration": 462,
    "start_time": "2024-11-17T19:17:04.074Z"
   },
   {
    "duration": 8,
    "start_time": "2024-11-17T19:17:04.538Z"
   },
   {
    "duration": 2,
    "start_time": "2024-11-17T19:17:04.548Z"
   },
   {
    "duration": 49,
    "start_time": "2024-11-17T19:17:04.551Z"
   },
   {
    "duration": 16,
    "start_time": "2024-11-17T19:17:04.602Z"
   },
   {
    "duration": 23,
    "start_time": "2024-11-17T19:17:04.619Z"
   },
   {
    "duration": 289,
    "start_time": "2024-11-17T19:17:04.644Z"
   },
   {
    "duration": 960,
    "start_time": "2024-11-17T19:17:04.935Z"
   },
   {
    "duration": 378,
    "start_time": "2024-11-17T19:17:05.896Z"
   },
   {
    "duration": 28,
    "start_time": "2024-11-17T19:17:06.275Z"
   },
   {
    "duration": 231,
    "start_time": "2024-11-17T19:17:06.305Z"
   },
   {
    "duration": 11,
    "start_time": "2024-11-17T19:17:06.538Z"
   },
   {
    "duration": 147,
    "start_time": "2024-11-17T19:17:06.550Z"
   },
   {
    "duration": 154,
    "start_time": "2024-11-17T19:17:06.699Z"
   },
   {
    "duration": 158,
    "start_time": "2024-11-17T19:17:06.855Z"
   },
   {
    "duration": 140,
    "start_time": "2024-11-17T19:17:07.015Z"
   },
   {
    "duration": 83,
    "start_time": "2024-11-17T19:17:07.157Z"
   },
   {
    "duration": 102,
    "start_time": "2024-11-17T19:17:07.242Z"
   },
   {
    "duration": 24,
    "start_time": "2024-11-17T19:17:07.346Z"
   },
   {
    "duration": 45,
    "start_time": "2024-11-17T19:17:07.371Z"
   },
   {
    "duration": 68,
    "start_time": "2024-11-17T19:17:07.417Z"
   },
   {
    "duration": 3,
    "start_time": "2024-11-17T19:17:07.487Z"
   },
   {
    "duration": 6,
    "start_time": "2024-11-17T19:17:07.491Z"
   },
   {
    "duration": 6,
    "start_time": "2024-11-17T19:17:07.498Z"
   },
   {
    "duration": 3,
    "start_time": "2024-11-17T19:17:07.506Z"
   },
   {
    "duration": 3,
    "start_time": "2024-11-17T19:17:07.510Z"
   },
   {
    "duration": 1181971,
    "start_time": "2024-11-17T19:17:07.515Z"
   },
   {
    "duration": 5,
    "start_time": "2024-11-17T19:36:49.488Z"
   },
   {
    "duration": 312,
    "start_time": "2024-11-17T19:36:49.495Z"
   },
   {
    "duration": 2,
    "start_time": "2024-11-17T19:36:49.809Z"
   },
   {
    "duration": 7,
    "start_time": "2024-11-17T19:36:49.813Z"
   },
   {
    "duration": 3,
    "start_time": "2024-11-17T19:36:49.821Z"
   },
   {
    "duration": 5,
    "start_time": "2024-11-17T19:36:49.826Z"
   },
   {
    "duration": 2536,
    "start_time": "2024-11-17T19:50:38.198Z"
   },
   {
    "duration": 2746,
    "start_time": "2024-11-17T19:50:40.737Z"
   },
   {
    "duration": 1449,
    "start_time": "2024-11-17T19:50:43.485Z"
   },
   {
    "duration": 3,
    "start_time": "2024-11-17T19:50:44.936Z"
   },
   {
    "duration": 963,
    "start_time": "2024-11-17T19:50:44.941Z"
   },
   {
    "duration": 17,
    "start_time": "2024-11-17T19:50:45.905Z"
   },
   {
    "duration": 86,
    "start_time": "2024-11-17T19:50:45.924Z"
   },
   {
    "duration": 102,
    "start_time": "2024-11-17T19:50:46.011Z"
   },
   {
    "duration": 161,
    "start_time": "2024-11-17T19:50:46.115Z"
   },
   {
    "duration": 503,
    "start_time": "2024-11-17T19:50:46.279Z"
   },
   {
    "duration": 1048,
    "start_time": "2024-11-17T19:50:46.783Z"
   },
   {
    "duration": 212,
    "start_time": "2024-11-17T19:50:47.833Z"
   },
   {
    "duration": 2,
    "start_time": "2024-11-17T19:50:48.047Z"
   },
   {
    "duration": 107,
    "start_time": "2024-11-17T19:50:48.051Z"
   },
   {
    "duration": 39,
    "start_time": "2024-11-17T19:50:48.160Z"
   },
   {
    "duration": 7,
    "start_time": "2024-11-17T19:50:48.202Z"
   },
   {
    "duration": 141,
    "start_time": "2024-11-17T19:50:48.211Z"
   },
   {
    "duration": 128,
    "start_time": "2024-11-17T19:50:48.354Z"
   },
   {
    "duration": 38,
    "start_time": "2024-11-17T19:50:48.484Z"
   },
   {
    "duration": 125,
    "start_time": "2024-11-17T19:50:48.524Z"
   },
   {
    "duration": 43,
    "start_time": "2024-11-17T19:50:48.651Z"
   },
   {
    "duration": 124,
    "start_time": "2024-11-17T19:50:48.696Z"
   },
   {
    "duration": 126,
    "start_time": "2024-11-17T19:50:48.822Z"
   },
   {
    "duration": 111,
    "start_time": "2024-11-17T19:50:48.950Z"
   },
   {
    "duration": 108,
    "start_time": "2024-11-17T19:50:49.063Z"
   },
   {
    "duration": 990,
    "start_time": "2024-11-17T19:50:49.173Z"
   },
   {
    "duration": 12,
    "start_time": "2024-11-17T19:50:50.165Z"
   },
   {
    "duration": 28,
    "start_time": "2024-11-17T19:50:50.181Z"
   },
   {
    "duration": 27,
    "start_time": "2024-11-17T19:50:50.211Z"
   },
   {
    "duration": 973,
    "start_time": "2024-11-17T19:50:50.239Z"
   },
   {
    "duration": 460,
    "start_time": "2024-11-17T19:50:51.213Z"
   },
   {
    "duration": 7,
    "start_time": "2024-11-17T19:50:51.675Z"
   },
   {
    "duration": 7,
    "start_time": "2024-11-17T19:50:51.684Z"
   },
   {
    "duration": 35,
    "start_time": "2024-11-17T19:50:51.692Z"
   },
   {
    "duration": 15,
    "start_time": "2024-11-17T19:50:51.729Z"
   },
   {
    "duration": 42,
    "start_time": "2024-11-17T19:50:51.745Z"
   },
   {
    "duration": 284,
    "start_time": "2024-11-17T19:50:51.789Z"
   },
   {
    "duration": 1007,
    "start_time": "2024-11-17T19:50:52.075Z"
   },
   {
    "duration": 375,
    "start_time": "2024-11-17T19:50:53.084Z"
   },
   {
    "duration": 30,
    "start_time": "2024-11-17T19:50:53.461Z"
   },
   {
    "duration": 234,
    "start_time": "2024-11-17T19:50:53.493Z"
   },
   {
    "duration": 11,
    "start_time": "2024-11-17T19:50:53.729Z"
   },
   {
    "duration": 148,
    "start_time": "2024-11-17T19:50:53.741Z"
   },
   {
    "duration": 159,
    "start_time": "2024-11-17T19:50:53.890Z"
   },
   {
    "duration": 154,
    "start_time": "2024-11-17T19:50:54.051Z"
   },
   {
    "duration": 149,
    "start_time": "2024-11-17T19:50:54.206Z"
   },
   {
    "duration": 87,
    "start_time": "2024-11-17T19:50:54.357Z"
   },
   {
    "duration": 111,
    "start_time": "2024-11-17T19:50:54.446Z"
   },
   {
    "duration": 21,
    "start_time": "2024-11-17T19:50:54.559Z"
   },
   {
    "duration": 3,
    "start_time": "2024-11-17T19:50:54.582Z"
   },
   {
    "duration": 73,
    "start_time": "2024-11-17T19:50:54.586Z"
   },
   {
    "duration": 11,
    "start_time": "2024-11-17T19:50:54.661Z"
   },
   {
    "duration": 4,
    "start_time": "2024-11-17T19:50:54.674Z"
   },
   {
    "duration": 4,
    "start_time": "2024-11-17T19:50:54.679Z"
   },
   {
    "duration": 4,
    "start_time": "2024-11-17T19:50:54.684Z"
   },
   {
    "duration": 89,
    "start_time": "2024-11-17T19:50:54.689Z"
   },
   {
    "duration": 54,
    "start_time": "2024-11-17T19:50:54.780Z"
   },
   {
    "duration": 0,
    "start_time": "2024-11-17T19:50:54.836Z"
   },
   {
    "duration": 0,
    "start_time": "2024-11-17T19:50:54.837Z"
   },
   {
    "duration": 0,
    "start_time": "2024-11-17T19:50:54.838Z"
   },
   {
    "duration": 0,
    "start_time": "2024-11-17T19:50:54.839Z"
   },
   {
    "duration": 0,
    "start_time": "2024-11-17T19:50:54.839Z"
   },
   {
    "duration": 0,
    "start_time": "2024-11-17T19:50:54.841Z"
   },
   {
    "duration": 0,
    "start_time": "2024-11-17T19:50:54.842Z"
   },
   {
    "duration": 0,
    "start_time": "2024-11-17T19:50:54.843Z"
   },
   {
    "duration": 0,
    "start_time": "2024-11-17T19:50:54.844Z"
   },
   {
    "duration": 0,
    "start_time": "2024-11-17T19:50:54.845Z"
   },
   {
    "duration": 0,
    "start_time": "2024-11-17T19:50:54.846Z"
   },
   {
    "duration": 0,
    "start_time": "2024-11-17T19:50:54.847Z"
   },
   {
    "duration": 0,
    "start_time": "2024-11-17T19:50:54.849Z"
   },
   {
    "duration": 0,
    "start_time": "2024-11-17T19:50:54.850Z"
   },
   {
    "duration": 0,
    "start_time": "2024-11-17T19:50:54.852Z"
   },
   {
    "duration": 4,
    "start_time": "2024-11-17T19:52:07.701Z"
   },
   {
    "duration": 51,
    "start_time": "2024-11-17T19:52:08.535Z"
   },
   {
    "duration": 624,
    "start_time": "2024-11-17T19:52:34.563Z"
   },
   {
    "duration": 50,
    "start_time": "2024-11-17T19:54:32.235Z"
   },
   {
    "duration": 211,
    "start_time": "2024-11-17T19:54:37.133Z"
   },
   {
    "duration": 6,
    "start_time": "2024-11-17T19:55:43.610Z"
   },
   {
    "duration": 3,
    "start_time": "2024-11-17T20:06:17.224Z"
   },
   {
    "duration": 3,
    "start_time": "2024-11-17T20:06:18.044Z"
   },
   {
    "duration": 4,
    "start_time": "2024-11-17T20:06:18.438Z"
   },
   {
    "duration": 3,
    "start_time": "2024-11-17T20:06:30.371Z"
   },
   {
    "duration": 3,
    "start_time": "2024-11-17T20:06:31.442Z"
   },
   {
    "duration": 9086,
    "start_time": "2024-11-17T20:07:47.171Z"
   },
   {
    "duration": 5,
    "start_time": "2024-11-17T20:08:28.056Z"
   },
   {
    "duration": 145,
    "start_time": "2024-11-17T20:08:48.535Z"
   },
   {
    "duration": 2,
    "start_time": "2024-11-17T20:11:22.531Z"
   },
   {
    "duration": 2,
    "start_time": "2024-11-17T20:11:23.300Z"
   },
   {
    "duration": 3,
    "start_time": "2024-11-17T20:11:23.686Z"
   },
   {
    "duration": 4,
    "start_time": "2024-11-17T20:11:25.941Z"
   },
   {
    "duration": 3,
    "start_time": "2024-11-17T20:11:28.093Z"
   },
   {
    "duration": 2399,
    "start_time": "2024-11-17T20:11:50.135Z"
   },
   {
    "duration": 2635,
    "start_time": "2024-11-17T20:11:52.536Z"
   },
   {
    "duration": 1474,
    "start_time": "2024-11-17T20:11:55.173Z"
   },
   {
    "duration": 3,
    "start_time": "2024-11-17T20:11:56.649Z"
   },
   {
    "duration": 934,
    "start_time": "2024-11-17T20:11:56.654Z"
   },
   {
    "duration": 17,
    "start_time": "2024-11-17T20:11:57.589Z"
   },
   {
    "duration": 82,
    "start_time": "2024-11-17T20:11:57.608Z"
   },
   {
    "duration": 94,
    "start_time": "2024-11-17T20:11:57.691Z"
   },
   {
    "duration": 148,
    "start_time": "2024-11-17T20:11:57.786Z"
   },
   {
    "duration": 519,
    "start_time": "2024-11-17T20:11:57.937Z"
   },
   {
    "duration": 1049,
    "start_time": "2024-11-17T20:11:58.457Z"
   },
   {
    "duration": 220,
    "start_time": "2024-11-17T20:11:59.508Z"
   },
   {
    "duration": 3,
    "start_time": "2024-11-17T20:11:59.730Z"
   },
   {
    "duration": 112,
    "start_time": "2024-11-17T20:11:59.734Z"
   },
   {
    "duration": 37,
    "start_time": "2024-11-17T20:11:59.847Z"
   },
   {
    "duration": 4,
    "start_time": "2024-11-17T20:11:59.885Z"
   },
   {
    "duration": 102,
    "start_time": "2024-11-17T20:11:59.891Z"
   },
   {
    "duration": 127,
    "start_time": "2024-11-17T20:11:59.995Z"
   },
   {
    "duration": 47,
    "start_time": "2024-11-17T20:12:00.124Z"
   },
   {
    "duration": 116,
    "start_time": "2024-11-17T20:12:00.173Z"
   },
   {
    "duration": 39,
    "start_time": "2024-11-17T20:12:00.291Z"
   },
   {
    "duration": 129,
    "start_time": "2024-11-17T20:12:00.331Z"
   },
   {
    "duration": 125,
    "start_time": "2024-11-17T20:12:00.461Z"
   },
   {
    "duration": 133,
    "start_time": "2024-11-17T20:12:00.588Z"
   },
   {
    "duration": 96,
    "start_time": "2024-11-17T20:12:00.722Z"
   },
   {
    "duration": 1003,
    "start_time": "2024-11-17T20:12:00.820Z"
   },
   {
    "duration": 10,
    "start_time": "2024-11-17T20:12:01.824Z"
   },
   {
    "duration": 28,
    "start_time": "2024-11-17T20:12:01.838Z"
   },
   {
    "duration": 40,
    "start_time": "2024-11-17T20:12:01.868Z"
   },
   {
    "duration": 980,
    "start_time": "2024-11-17T20:12:01.910Z"
   },
   {
    "duration": 474,
    "start_time": "2024-11-17T20:12:02.892Z"
   },
   {
    "duration": 8,
    "start_time": "2024-11-17T20:12:03.367Z"
   },
   {
    "duration": 60,
    "start_time": "2024-11-17T20:12:03.376Z"
   },
   {
    "duration": 36,
    "start_time": "2024-11-17T20:12:03.438Z"
   },
   {
    "duration": 16,
    "start_time": "2024-11-17T20:12:03.476Z"
   },
   {
    "duration": 98,
    "start_time": "2024-11-17T20:12:03.493Z"
   },
   {
    "duration": 278,
    "start_time": "2024-11-17T20:12:03.593Z"
   },
   {
    "duration": 1009,
    "start_time": "2024-11-17T20:12:03.873Z"
   },
   {
    "duration": 371,
    "start_time": "2024-11-17T20:12:04.884Z"
   },
   {
    "duration": 37,
    "start_time": "2024-11-17T20:12:05.256Z"
   },
   {
    "duration": 223,
    "start_time": "2024-11-17T20:12:05.294Z"
   },
   {
    "duration": 12,
    "start_time": "2024-11-17T20:12:05.518Z"
   },
   {
    "duration": 171,
    "start_time": "2024-11-17T20:12:05.531Z"
   },
   {
    "duration": 167,
    "start_time": "2024-11-17T20:12:05.703Z"
   },
   {
    "duration": 154,
    "start_time": "2024-11-17T20:12:05.871Z"
   },
   {
    "duration": 143,
    "start_time": "2024-11-17T20:12:06.027Z"
   },
   {
    "duration": 77,
    "start_time": "2024-11-17T20:12:06.171Z"
   },
   {
    "duration": 112,
    "start_time": "2024-11-17T20:12:06.250Z"
   },
   {
    "duration": 14,
    "start_time": "2024-11-17T20:12:06.364Z"
   },
   {
    "duration": 4,
    "start_time": "2024-11-17T20:12:06.380Z"
   },
   {
    "duration": 85,
    "start_time": "2024-11-17T20:12:06.385Z"
   },
   {
    "duration": 3,
    "start_time": "2024-11-17T20:12:06.472Z"
   },
   {
    "duration": 8,
    "start_time": "2024-11-17T20:12:06.476Z"
   },
   {
    "duration": 19,
    "start_time": "2024-11-17T20:12:06.486Z"
   },
   {
    "duration": 14,
    "start_time": "2024-11-17T20:12:06.507Z"
   },
   {
    "duration": 52,
    "start_time": "2024-11-17T20:12:06.523Z"
   },
   {
    "duration": 0,
    "start_time": "2024-11-17T20:12:06.576Z"
   },
   {
    "duration": 0,
    "start_time": "2024-11-17T20:12:06.578Z"
   },
   {
    "duration": 0,
    "start_time": "2024-11-17T20:12:06.579Z"
   },
   {
    "duration": 0,
    "start_time": "2024-11-17T20:12:06.581Z"
   },
   {
    "duration": 0,
    "start_time": "2024-11-17T20:12:06.583Z"
   },
   {
    "duration": 0,
    "start_time": "2024-11-17T20:12:06.584Z"
   },
   {
    "duration": 0,
    "start_time": "2024-11-17T20:12:06.585Z"
   },
   {
    "duration": 1,
    "start_time": "2024-11-17T20:12:06.586Z"
   },
   {
    "duration": 0,
    "start_time": "2024-11-17T20:12:06.588Z"
   },
   {
    "duration": 0,
    "start_time": "2024-11-17T20:12:06.589Z"
   },
   {
    "duration": 0,
    "start_time": "2024-11-17T20:12:06.590Z"
   },
   {
    "duration": 0,
    "start_time": "2024-11-17T20:12:06.591Z"
   },
   {
    "duration": 0,
    "start_time": "2024-11-17T20:12:06.592Z"
   },
   {
    "duration": 0,
    "start_time": "2024-11-17T20:12:06.593Z"
   },
   {
    "duration": 0,
    "start_time": "2024-11-17T20:12:06.594Z"
   },
   {
    "duration": 3,
    "start_time": "2024-11-17T20:13:45.923Z"
   },
   {
    "duration": 2486,
    "start_time": "2024-11-17T21:00:10.098Z"
   },
   {
    "duration": 2583,
    "start_time": "2024-11-17T21:00:12.586Z"
   },
   {
    "duration": 1489,
    "start_time": "2024-11-17T21:00:15.171Z"
   },
   {
    "duration": 3,
    "start_time": "2024-11-17T21:00:16.662Z"
   },
   {
    "duration": 981,
    "start_time": "2024-11-17T21:00:16.670Z"
   },
   {
    "duration": 23,
    "start_time": "2024-11-17T21:00:17.653Z"
   },
   {
    "duration": 92,
    "start_time": "2024-11-17T21:00:17.677Z"
   },
   {
    "duration": 87,
    "start_time": "2024-11-17T21:00:17.770Z"
   },
   {
    "duration": 154,
    "start_time": "2024-11-17T21:00:17.859Z"
   },
   {
    "duration": 546,
    "start_time": "2024-11-17T21:00:18.016Z"
   },
   {
    "duration": 1044,
    "start_time": "2024-11-17T21:00:18.563Z"
   },
   {
    "duration": 227,
    "start_time": "2024-11-17T21:00:19.609Z"
   },
   {
    "duration": 3,
    "start_time": "2024-11-17T21:00:19.838Z"
   },
   {
    "duration": 111,
    "start_time": "2024-11-17T21:00:19.843Z"
   },
   {
    "duration": 39,
    "start_time": "2024-11-17T21:00:19.955Z"
   },
   {
    "duration": 5,
    "start_time": "2024-11-17T21:00:19.997Z"
   },
   {
    "duration": 110,
    "start_time": "2024-11-17T21:00:20.004Z"
   },
   {
    "duration": 124,
    "start_time": "2024-11-17T21:00:20.116Z"
   },
   {
    "duration": 47,
    "start_time": "2024-11-17T21:00:20.242Z"
   },
   {
    "duration": 125,
    "start_time": "2024-11-17T21:00:20.291Z"
   },
   {
    "duration": 53,
    "start_time": "2024-11-17T21:00:20.418Z"
   },
   {
    "duration": 129,
    "start_time": "2024-11-17T21:00:20.473Z"
   },
   {
    "duration": 143,
    "start_time": "2024-11-17T21:00:20.604Z"
   },
   {
    "duration": 110,
    "start_time": "2024-11-17T21:00:20.748Z"
   },
   {
    "duration": 96,
    "start_time": "2024-11-17T21:00:20.860Z"
   },
   {
    "duration": 986,
    "start_time": "2024-11-17T21:00:20.957Z"
   },
   {
    "duration": 12,
    "start_time": "2024-11-17T21:00:21.945Z"
   },
   {
    "duration": 14,
    "start_time": "2024-11-17T21:00:21.973Z"
   },
   {
    "duration": 30,
    "start_time": "2024-11-17T21:00:21.988Z"
   },
   {
    "duration": 939,
    "start_time": "2024-11-17T21:00:22.021Z"
   },
   {
    "duration": 484,
    "start_time": "2024-11-17T21:00:22.962Z"
   },
   {
    "duration": 26,
    "start_time": "2024-11-17T21:00:23.448Z"
   },
   {
    "duration": 3,
    "start_time": "2024-11-17T21:00:23.476Z"
   },
   {
    "duration": 32,
    "start_time": "2024-11-17T21:00:23.480Z"
   },
   {
    "duration": 15,
    "start_time": "2024-11-17T21:00:23.514Z"
   },
   {
    "duration": 51,
    "start_time": "2024-11-17T21:00:23.531Z"
   },
   {
    "duration": 280,
    "start_time": "2024-11-17T21:00:23.584Z"
   },
   {
    "duration": 979,
    "start_time": "2024-11-17T21:00:23.866Z"
   },
   {
    "duration": 366,
    "start_time": "2024-11-17T21:00:24.847Z"
   },
   {
    "duration": 28,
    "start_time": "2024-11-17T21:00:25.215Z"
   },
   {
    "duration": 235,
    "start_time": "2024-11-17T21:00:25.244Z"
   },
   {
    "duration": 11,
    "start_time": "2024-11-17T21:00:25.481Z"
   },
   {
    "duration": 151,
    "start_time": "2024-11-17T21:00:25.494Z"
   },
   {
    "duration": 152,
    "start_time": "2024-11-17T21:00:25.646Z"
   },
   {
    "duration": 153,
    "start_time": "2024-11-17T21:00:25.799Z"
   },
   {
    "duration": 147,
    "start_time": "2024-11-17T21:00:25.954Z"
   },
   {
    "duration": 87,
    "start_time": "2024-11-17T21:00:26.102Z"
   },
   {
    "duration": 107,
    "start_time": "2024-11-17T21:00:26.191Z"
   },
   {
    "duration": 14,
    "start_time": "2024-11-17T21:00:26.300Z"
   },
   {
    "duration": 3,
    "start_time": "2024-11-17T21:00:26.315Z"
   },
   {
    "duration": 79,
    "start_time": "2024-11-17T21:00:26.320Z"
   },
   {
    "duration": 3,
    "start_time": "2024-11-17T21:00:26.401Z"
   },
   {
    "duration": 5,
    "start_time": "2024-11-17T21:00:26.406Z"
   },
   {
    "duration": 6,
    "start_time": "2024-11-17T21:00:26.412Z"
   },
   {
    "duration": 7,
    "start_time": "2024-11-17T21:00:26.419Z"
   },
   {
    "duration": 4,
    "start_time": "2024-11-17T21:00:26.427Z"
   },
   {
    "duration": 5,
    "start_time": "2024-11-17T21:00:26.433Z"
   },
   {
    "duration": 2477,
    "start_time": "2024-11-17T21:02:58.330Z"
   },
   {
    "duration": 2759,
    "start_time": "2024-11-17T21:03:00.810Z"
   },
   {
    "duration": 1473,
    "start_time": "2024-11-17T21:03:03.570Z"
   },
   {
    "duration": 4,
    "start_time": "2024-11-17T21:03:05.045Z"
   },
   {
    "duration": 916,
    "start_time": "2024-11-17T21:03:05.050Z"
   },
   {
    "duration": 17,
    "start_time": "2024-11-17T21:03:05.969Z"
   },
   {
    "duration": 84,
    "start_time": "2024-11-17T21:03:05.988Z"
   },
   {
    "duration": 97,
    "start_time": "2024-11-17T21:03:06.074Z"
   },
   {
    "duration": 149,
    "start_time": "2024-11-17T21:03:06.172Z"
   },
   {
    "duration": 484,
    "start_time": "2024-11-17T21:03:06.324Z"
   },
   {
    "duration": 1015,
    "start_time": "2024-11-17T21:03:06.810Z"
   },
   {
    "duration": 220,
    "start_time": "2024-11-17T21:03:07.826Z"
   },
   {
    "duration": 2,
    "start_time": "2024-11-17T21:03:08.048Z"
   },
   {
    "duration": 107,
    "start_time": "2024-11-17T21:03:08.052Z"
   },
   {
    "duration": 43,
    "start_time": "2024-11-17T21:03:08.161Z"
   },
   {
    "duration": 6,
    "start_time": "2024-11-17T21:03:08.207Z"
   },
   {
    "duration": 117,
    "start_time": "2024-11-17T21:03:08.215Z"
   },
   {
    "duration": 124,
    "start_time": "2024-11-17T21:03:08.334Z"
   },
   {
    "duration": 39,
    "start_time": "2024-11-17T21:03:08.459Z"
   },
   {
    "duration": 126,
    "start_time": "2024-11-17T21:03:08.500Z"
   },
   {
    "duration": 47,
    "start_time": "2024-11-17T21:03:08.627Z"
   },
   {
    "duration": 114,
    "start_time": "2024-11-17T21:03:08.676Z"
   },
   {
    "duration": 117,
    "start_time": "2024-11-17T21:03:08.792Z"
   },
   {
    "duration": 114,
    "start_time": "2024-11-17T21:03:08.910Z"
   },
   {
    "duration": 100,
    "start_time": "2024-11-17T21:03:09.026Z"
   },
   {
    "duration": 989,
    "start_time": "2024-11-17T21:03:09.128Z"
   },
   {
    "duration": 11,
    "start_time": "2024-11-17T21:03:10.119Z"
   },
   {
    "duration": 31,
    "start_time": "2024-11-17T21:03:10.133Z"
   },
   {
    "duration": 29,
    "start_time": "2024-11-17T21:03:10.165Z"
   },
   {
    "duration": 959,
    "start_time": "2024-11-17T21:03:10.195Z"
   },
   {
    "duration": 463,
    "start_time": "2024-11-17T21:03:11.155Z"
   },
   {
    "duration": 8,
    "start_time": "2024-11-17T21:03:11.620Z"
   },
   {
    "duration": 2,
    "start_time": "2024-11-17T21:03:11.630Z"
   },
   {
    "duration": 48,
    "start_time": "2024-11-17T21:03:11.634Z"
   },
   {
    "duration": 14,
    "start_time": "2024-11-17T21:03:11.684Z"
   },
   {
    "duration": 36,
    "start_time": "2024-11-17T21:03:11.699Z"
   },
   {
    "duration": 270,
    "start_time": "2024-11-17T21:03:11.737Z"
   },
   {
    "duration": 1000,
    "start_time": "2024-11-17T21:03:12.009Z"
   },
   {
    "duration": 377,
    "start_time": "2024-11-17T21:03:13.011Z"
   },
   {
    "duration": 27,
    "start_time": "2024-11-17T21:03:13.390Z"
   },
   {
    "duration": 229,
    "start_time": "2024-11-17T21:03:13.418Z"
   },
   {
    "duration": 11,
    "start_time": "2024-11-17T21:03:13.648Z"
   },
   {
    "duration": 187,
    "start_time": "2024-11-17T21:03:13.660Z"
   },
   {
    "duration": 145,
    "start_time": "2024-11-17T21:03:13.848Z"
   },
   {
    "duration": 145,
    "start_time": "2024-11-17T21:03:13.995Z"
   },
   {
    "duration": 144,
    "start_time": "2024-11-17T21:03:14.142Z"
   },
   {
    "duration": 90,
    "start_time": "2024-11-17T21:03:14.287Z"
   },
   {
    "duration": 115,
    "start_time": "2024-11-17T21:03:14.379Z"
   },
   {
    "duration": 14,
    "start_time": "2024-11-17T21:03:14.495Z"
   },
   {
    "duration": 2,
    "start_time": "2024-11-17T21:03:14.511Z"
   },
   {
    "duration": 75,
    "start_time": "2024-11-17T21:03:14.514Z"
   },
   {
    "duration": 3,
    "start_time": "2024-11-17T21:03:14.591Z"
   },
   {
    "duration": 3,
    "start_time": "2024-11-17T21:03:14.596Z"
   },
   {
    "duration": 8,
    "start_time": "2024-11-17T21:03:14.600Z"
   },
   {
    "duration": 3,
    "start_time": "2024-11-17T21:03:14.609Z"
   },
   {
    "duration": 2,
    "start_time": "2024-11-17T21:03:14.614Z"
   },
   {
    "duration": 2,
    "start_time": "2024-11-17T21:03:14.618Z"
   },
   {
    "duration": 2422,
    "start_time": "2024-11-17T21:26:47.242Z"
   },
   {
    "duration": 2703,
    "start_time": "2024-11-17T21:26:49.667Z"
   },
   {
    "duration": 1550,
    "start_time": "2024-11-17T21:26:52.372Z"
   },
   {
    "duration": 3,
    "start_time": "2024-11-17T21:26:53.924Z"
   },
   {
    "duration": 982,
    "start_time": "2024-11-17T21:26:53.929Z"
   },
   {
    "duration": 17,
    "start_time": "2024-11-17T21:26:54.913Z"
   },
   {
    "duration": 88,
    "start_time": "2024-11-17T21:26:54.932Z"
   },
   {
    "duration": 98,
    "start_time": "2024-11-17T21:26:55.022Z"
   },
   {
    "duration": 156,
    "start_time": "2024-11-17T21:26:55.122Z"
   },
   {
    "duration": 480,
    "start_time": "2024-11-17T21:26:55.280Z"
   },
   {
    "duration": 1032,
    "start_time": "2024-11-17T21:26:55.761Z"
   },
   {
    "duration": 221,
    "start_time": "2024-11-17T21:26:56.795Z"
   },
   {
    "duration": 3,
    "start_time": "2024-11-17T21:26:57.017Z"
   },
   {
    "duration": 109,
    "start_time": "2024-11-17T21:26:57.021Z"
   },
   {
    "duration": 38,
    "start_time": "2024-11-17T21:26:57.132Z"
   },
   {
    "duration": 4,
    "start_time": "2024-11-17T21:26:57.171Z"
   },
   {
    "duration": 107,
    "start_time": "2024-11-17T21:26:57.177Z"
   },
   {
    "duration": 124,
    "start_time": "2024-11-17T21:26:57.285Z"
   },
   {
    "duration": 41,
    "start_time": "2024-11-17T21:26:57.410Z"
   },
   {
    "duration": 133,
    "start_time": "2024-11-17T21:26:57.453Z"
   },
   {
    "duration": 38,
    "start_time": "2024-11-17T21:26:57.588Z"
   },
   {
    "duration": 159,
    "start_time": "2024-11-17T21:26:57.627Z"
   },
   {
    "duration": 124,
    "start_time": "2024-11-17T21:26:57.788Z"
   },
   {
    "duration": 119,
    "start_time": "2024-11-17T21:26:57.914Z"
   },
   {
    "duration": 105,
    "start_time": "2024-11-17T21:26:58.035Z"
   },
   {
    "duration": 1059,
    "start_time": "2024-11-17T21:26:58.142Z"
   },
   {
    "duration": 12,
    "start_time": "2024-11-17T21:26:59.203Z"
   },
   {
    "duration": 12,
    "start_time": "2024-11-17T21:26:59.219Z"
   },
   {
    "duration": 46,
    "start_time": "2024-11-17T21:26:59.233Z"
   },
   {
    "duration": 969,
    "start_time": "2024-11-17T21:26:59.280Z"
   },
   {
    "duration": 505,
    "start_time": "2024-11-17T21:27:00.250Z"
   },
   {
    "duration": 15,
    "start_time": "2024-11-17T21:27:00.756Z"
   },
   {
    "duration": 3,
    "start_time": "2024-11-17T21:27:00.772Z"
   },
   {
    "duration": 51,
    "start_time": "2024-11-17T21:27:00.776Z"
   },
   {
    "duration": 15,
    "start_time": "2024-11-17T21:27:00.829Z"
   },
   {
    "duration": 32,
    "start_time": "2024-11-17T21:27:00.846Z"
   },
   {
    "duration": 284,
    "start_time": "2024-11-17T21:27:00.880Z"
   },
   {
    "duration": 1028,
    "start_time": "2024-11-17T21:27:01.170Z"
   },
   {
    "duration": 381,
    "start_time": "2024-11-17T21:27:02.200Z"
   },
   {
    "duration": 29,
    "start_time": "2024-11-17T21:27:02.583Z"
   },
   {
    "duration": 242,
    "start_time": "2024-11-17T21:27:02.614Z"
   },
   {
    "duration": 17,
    "start_time": "2024-11-17T21:27:02.858Z"
   },
   {
    "duration": 151,
    "start_time": "2024-11-17T21:27:02.877Z"
   },
   {
    "duration": 150,
    "start_time": "2024-11-17T21:27:03.030Z"
   },
   {
    "duration": 153,
    "start_time": "2024-11-17T21:27:03.182Z"
   },
   {
    "duration": 145,
    "start_time": "2024-11-17T21:27:03.337Z"
   },
   {
    "duration": 89,
    "start_time": "2024-11-17T21:27:03.484Z"
   },
   {
    "duration": 104,
    "start_time": "2024-11-17T21:27:03.576Z"
   },
   {
    "duration": 16,
    "start_time": "2024-11-17T21:27:03.682Z"
   },
   {
    "duration": 3,
    "start_time": "2024-11-17T21:27:03.699Z"
   },
   {
    "duration": 141,
    "start_time": "2024-11-17T21:27:03.704Z"
   },
   {
    "duration": 4,
    "start_time": "2024-11-17T21:27:03.846Z"
   },
   {
    "duration": 3,
    "start_time": "2024-11-17T21:27:03.852Z"
   },
   {
    "duration": 3,
    "start_time": "2024-11-17T21:27:03.857Z"
   },
   {
    "duration": 5,
    "start_time": "2024-11-17T21:27:03.869Z"
   },
   {
    "duration": 5,
    "start_time": "2024-11-17T21:27:03.875Z"
   },
   {
    "duration": 16,
    "start_time": "2024-11-17T21:27:03.881Z"
   },
   {
    "duration": 1672174,
    "start_time": "2024-11-17T21:27:03.899Z"
   },
   {
    "duration": 3,
    "start_time": "2024-11-17T21:54:56.076Z"
   },
   {
    "duration": 92,
    "start_time": "2024-11-17T21:54:56.081Z"
   },
   {
    "duration": 264,
    "start_time": "2024-11-17T21:54:56.176Z"
   },
   {
    "duration": 3,
    "start_time": "2024-11-17T21:54:56.441Z"
   },
   {
    "duration": 9,
    "start_time": "2024-11-17T21:54:56.446Z"
   },
   {
    "duration": 134,
    "start_time": "2024-11-17T21:54:56.457Z"
   },
   {
    "duration": 0,
    "start_time": "2024-11-17T21:54:56.592Z"
   },
   {
    "duration": 0,
    "start_time": "2024-11-17T21:54:56.594Z"
   },
   {
    "duration": 0,
    "start_time": "2024-11-17T21:54:56.594Z"
   },
   {
    "duration": 0,
    "start_time": "2024-11-17T21:54:56.596Z"
   },
   {
    "duration": 0,
    "start_time": "2024-11-17T21:54:56.597Z"
   },
   {
    "duration": 0,
    "start_time": "2024-11-17T21:54:56.598Z"
   },
   {
    "duration": 0,
    "start_time": "2024-11-17T21:54:56.599Z"
   },
   {
    "duration": 0,
    "start_time": "2024-11-17T21:54:56.600Z"
   },
   {
    "duration": 1,
    "start_time": "2024-11-17T21:54:56.600Z"
   },
   {
    "duration": 0,
    "start_time": "2024-11-17T21:54:56.601Z"
   },
   {
    "duration": 0,
    "start_time": "2024-11-17T21:54:56.602Z"
   },
   {
    "duration": 16,
    "start_time": "2024-11-17T21:56:48.133Z"
   },
   {
    "duration": 1225203,
    "start_time": "2024-11-17T21:58:21.891Z"
   },
   {
    "duration": 6,
    "start_time": "2024-11-17T22:27:46.293Z"
   },
   {
    "duration": 3,
    "start_time": "2024-11-17T22:27:55.082Z"
   },
   {
    "duration": 49793,
    "start_time": "2024-11-17T22:27:56.297Z"
   },
   {
    "duration": 943,
    "start_time": "2024-11-17T22:32:13.338Z"
   },
   {
    "duration": 5,
    "start_time": "2024-11-17T22:32:33.573Z"
   },
   {
    "duration": 3,
    "start_time": "2024-11-17T22:32:33.880Z"
   },
   {
    "duration": 13456,
    "start_time": "2024-11-17T22:32:35.525Z"
   },
   {
    "duration": 1000,
    "start_time": "2024-11-17T22:32:48.982Z"
   },
   {
    "duration": 578493,
    "start_time": "2024-11-17T22:38:50.678Z"
   },
   {
    "duration": 12,
    "start_time": "2024-11-17T22:49:35.398Z"
   },
   {
    "duration": 10,
    "start_time": "2024-11-17T22:50:18.689Z"
   },
   {
    "duration": 11,
    "start_time": "2024-11-17T22:50:42.877Z"
   },
   {
    "duration": 10,
    "start_time": "2024-11-17T22:51:16.608Z"
   },
   {
    "duration": 484446,
    "start_time": "2024-11-17T22:54:51.925Z"
   },
   {
    "duration": 849,
    "start_time": "2024-11-17T23:06:49.873Z"
   },
   {
    "duration": 5,
    "start_time": "2024-11-17T23:09:20.329Z"
   },
   {
    "duration": 3227,
    "start_time": "2024-11-17T23:09:26.560Z"
   },
   {
    "duration": 605,
    "start_time": "2024-11-17T23:09:36.406Z"
   },
   {
    "duration": 581,
    "start_time": "2024-11-17T23:09:54.320Z"
   },
   {
    "duration": 584,
    "start_time": "2024-11-17T23:10:14.659Z"
   },
   {
    "duration": 572,
    "start_time": "2024-11-17T23:10:24.314Z"
   },
   {
    "duration": 281307,
    "start_time": "2024-11-17T23:25:38.804Z"
   },
   {
    "duration": 0,
    "start_time": "2024-11-17T23:30:20.114Z"
   },
   {
    "duration": 0,
    "start_time": "2024-11-17T23:30:20.115Z"
   },
   {
    "duration": 0,
    "start_time": "2024-11-17T23:30:20.116Z"
   },
   {
    "duration": 0,
    "start_time": "2024-11-17T23:30:20.118Z"
   },
   {
    "duration": 0,
    "start_time": "2024-11-17T23:30:20.120Z"
   },
   {
    "duration": 2,
    "start_time": "2024-11-17T23:30:33.965Z"
   },
   {
    "duration": 2,
    "start_time": "2024-11-17T23:30:34.359Z"
   },
   {
    "duration": 4,
    "start_time": "2024-11-17T23:30:34.740Z"
   },
   {
    "duration": 6,
    "start_time": "2024-11-17T23:38:43.088Z"
   },
   {
    "duration": 84,
    "start_time": "2024-11-17T23:38:43.095Z"
   },
   {
    "duration": 6,
    "start_time": "2024-11-17T23:38:43.181Z"
   },
   {
    "duration": 3178,
    "start_time": "2024-11-17T23:38:43.188Z"
   },
   {
    "duration": 593,
    "start_time": "2024-11-17T23:38:46.370Z"
   },
   {
    "duration": 2743,
    "start_time": "2024-11-18T05:14:52.236Z"
   },
   {
    "duration": 21260,
    "start_time": "2024-11-18T05:14:54.981Z"
   },
   {
    "duration": 1718,
    "start_time": "2024-11-18T05:15:16.243Z"
   },
   {
    "duration": 4,
    "start_time": "2024-11-18T05:15:17.963Z"
   },
   {
    "duration": 2982,
    "start_time": "2024-11-18T05:15:17.968Z"
   },
   {
    "duration": 18,
    "start_time": "2024-11-18T05:15:20.952Z"
   },
   {
    "duration": 95,
    "start_time": "2024-11-18T05:15:20.971Z"
   },
   {
    "duration": 99,
    "start_time": "2024-11-18T05:15:21.067Z"
   },
   {
    "duration": 157,
    "start_time": "2024-11-18T05:15:21.168Z"
   },
   {
    "duration": 486,
    "start_time": "2024-11-18T05:15:21.328Z"
   },
   {
    "duration": 981,
    "start_time": "2024-11-18T05:15:21.816Z"
   },
   {
    "duration": 188,
    "start_time": "2024-11-18T05:15:22.799Z"
   },
   {
    "duration": 3,
    "start_time": "2024-11-18T05:15:22.989Z"
   },
   {
    "duration": 112,
    "start_time": "2024-11-18T05:15:22.993Z"
   },
   {
    "duration": 45,
    "start_time": "2024-11-18T05:15:23.107Z"
   },
   {
    "duration": 11,
    "start_time": "2024-11-18T05:15:23.154Z"
   },
   {
    "duration": 132,
    "start_time": "2024-11-18T05:15:23.166Z"
   },
   {
    "duration": 146,
    "start_time": "2024-11-18T05:15:23.300Z"
   },
   {
    "duration": 44,
    "start_time": "2024-11-18T05:15:23.447Z"
   },
   {
    "duration": 126,
    "start_time": "2024-11-18T05:15:23.493Z"
   },
   {
    "duration": 46,
    "start_time": "2024-11-18T05:15:23.620Z"
   },
   {
    "duration": 137,
    "start_time": "2024-11-18T05:15:23.668Z"
   },
   {
    "duration": 127,
    "start_time": "2024-11-18T05:15:23.808Z"
   },
   {
    "duration": 117,
    "start_time": "2024-11-18T05:15:23.937Z"
   },
   {
    "duration": 97,
    "start_time": "2024-11-18T05:15:24.056Z"
   },
   {
    "duration": 997,
    "start_time": "2024-11-18T05:15:24.155Z"
   },
   {
    "duration": 20,
    "start_time": "2024-11-18T05:15:25.154Z"
   },
   {
    "duration": 60,
    "start_time": "2024-11-18T05:15:25.179Z"
   },
   {
    "duration": 34,
    "start_time": "2024-11-18T05:15:25.241Z"
   },
   {
    "duration": 930,
    "start_time": "2024-11-18T05:15:25.278Z"
   },
   {
    "duration": 503,
    "start_time": "2024-11-18T05:15:26.210Z"
   },
   {
    "duration": 9,
    "start_time": "2024-11-18T05:15:26.715Z"
   },
   {
    "duration": 3,
    "start_time": "2024-11-18T05:15:26.726Z"
   },
   {
    "duration": 52,
    "start_time": "2024-11-18T05:15:26.731Z"
   },
   {
    "duration": 15,
    "start_time": "2024-11-18T05:15:26.785Z"
   },
   {
    "duration": 22,
    "start_time": "2024-11-18T05:15:26.802Z"
   },
   {
    "duration": 302,
    "start_time": "2024-11-18T05:15:26.825Z"
   },
   {
    "duration": 1008,
    "start_time": "2024-11-18T05:15:27.128Z"
   },
   {
    "duration": 413,
    "start_time": "2024-11-18T05:15:28.138Z"
   },
   {
    "duration": 14,
    "start_time": "2024-11-18T05:15:28.553Z"
   },
   {
    "duration": 227,
    "start_time": "2024-11-18T05:15:28.569Z"
   },
   {
    "duration": 11,
    "start_time": "2024-11-18T05:15:28.798Z"
   },
   {
    "duration": 150,
    "start_time": "2024-11-18T05:15:28.810Z"
   },
   {
    "duration": 164,
    "start_time": "2024-11-18T05:15:28.964Z"
   },
   {
    "duration": 159,
    "start_time": "2024-11-18T05:15:29.129Z"
   },
   {
    "duration": 147,
    "start_time": "2024-11-18T05:15:29.289Z"
   },
   {
    "duration": 81,
    "start_time": "2024-11-18T05:15:29.437Z"
   },
   {
    "duration": 112,
    "start_time": "2024-11-18T05:15:29.519Z"
   },
   {
    "duration": 15,
    "start_time": "2024-11-18T05:15:29.632Z"
   },
   {
    "duration": 2,
    "start_time": "2024-11-18T05:15:29.648Z"
   },
   {
    "duration": 65,
    "start_time": "2024-11-18T05:15:29.665Z"
   },
   {
    "duration": 3,
    "start_time": "2024-11-18T05:15:29.732Z"
   },
   {
    "duration": 4,
    "start_time": "2024-11-18T05:15:29.737Z"
   },
   {
    "duration": 23,
    "start_time": "2024-11-18T05:15:29.742Z"
   },
   {
    "duration": 11,
    "start_time": "2024-11-18T05:15:29.767Z"
   },
   {
    "duration": 14,
    "start_time": "2024-11-18T05:15:29.779Z"
   },
   {
    "duration": 1191876,
    "start_time": "2024-11-18T05:15:29.795Z"
   },
   {
    "duration": 4,
    "start_time": "2024-11-18T05:35:21.673Z"
   },
   {
    "duration": 273,
    "start_time": "2024-11-18T05:35:21.678Z"
   },
   {
    "duration": 3,
    "start_time": "2024-11-18T05:35:21.952Z"
   },
   {
    "duration": 4,
    "start_time": "2024-11-18T05:35:21.964Z"
   },
   {
    "duration": 2,
    "start_time": "2024-11-18T05:35:21.970Z"
   },
   {
    "duration": 2,
    "start_time": "2024-11-18T05:35:21.974Z"
   },
   {
    "duration": 4,
    "start_time": "2024-11-18T05:35:21.978Z"
   },
   {
    "duration": 769406,
    "start_time": "2024-11-18T05:35:21.983Z"
   },
   {
    "duration": 4,
    "start_time": "2024-11-18T05:48:11.465Z"
   },
   {
    "duration": 14,
    "start_time": "2024-11-18T05:48:11.471Z"
   },
   {
    "duration": 6,
    "start_time": "2024-11-18T05:48:11.486Z"
   },
   {
    "duration": 3354,
    "start_time": "2024-11-18T05:48:11.493Z"
   },
   {
    "duration": 608,
    "start_time": "2024-11-18T05:48:14.849Z"
   },
   {
    "duration": 7943,
    "start_time": "2024-11-21T15:34:01.053Z"
   },
   {
    "duration": 2,
    "start_time": "2024-11-21T15:40:12.221Z"
   },
   {
    "duration": 3,
    "start_time": "2024-11-21T16:20:16.934Z"
   },
   {
    "duration": 3,
    "start_time": "2024-11-21T16:26:50.942Z"
   },
   {
    "duration": 2754,
    "start_time": "2024-11-21T16:29:04.896Z"
   },
   {
    "duration": 23272,
    "start_time": "2024-11-21T16:29:07.653Z"
   },
   {
    "duration": 4866,
    "start_time": "2024-11-21T16:29:30.927Z"
   },
   {
    "duration": 1959,
    "start_time": "2024-11-21T16:29:35.796Z"
   },
   {
    "duration": 1236,
    "start_time": "2024-11-21T16:29:37.758Z"
   },
   {
    "duration": 3756,
    "start_time": "2024-11-21T16:29:38.996Z"
   },
   {
    "duration": 28,
    "start_time": "2024-11-21T16:29:42.755Z"
   },
   {
    "duration": 95,
    "start_time": "2024-11-21T16:29:42.785Z"
   },
   {
    "duration": 135,
    "start_time": "2024-11-21T16:29:42.882Z"
   },
   {
    "duration": 174,
    "start_time": "2024-11-21T16:29:43.022Z"
   },
   {
    "duration": 543,
    "start_time": "2024-11-21T16:29:43.197Z"
   },
   {
    "duration": 1154,
    "start_time": "2024-11-21T16:29:43.742Z"
   },
   {
    "duration": 250,
    "start_time": "2024-11-21T16:29:44.898Z"
   },
   {
    "duration": 4,
    "start_time": "2024-11-21T16:29:45.150Z"
   },
   {
    "duration": 132,
    "start_time": "2024-11-21T16:29:45.156Z"
   },
   {
    "duration": 55,
    "start_time": "2024-11-21T16:29:45.290Z"
   },
   {
    "duration": 5,
    "start_time": "2024-11-21T16:29:45.346Z"
   },
   {
    "duration": 149,
    "start_time": "2024-11-21T16:29:45.352Z"
   },
   {
    "duration": 140,
    "start_time": "2024-11-21T16:29:45.503Z"
   },
   {
    "duration": 42,
    "start_time": "2024-11-21T16:29:45.645Z"
   },
   {
    "duration": 161,
    "start_time": "2024-11-21T16:29:45.689Z"
   },
   {
    "duration": 50,
    "start_time": "2024-11-21T16:29:45.852Z"
   },
   {
    "duration": 154,
    "start_time": "2024-11-21T16:29:45.903Z"
   },
   {
    "duration": 138,
    "start_time": "2024-11-21T16:29:46.060Z"
   },
   {
    "duration": 127,
    "start_time": "2024-11-21T16:29:46.200Z"
   },
   {
    "duration": 105,
    "start_time": "2024-11-21T16:29:46.329Z"
   },
   {
    "duration": 1084,
    "start_time": "2024-11-21T16:29:46.436Z"
   },
   {
    "duration": 13,
    "start_time": "2024-11-21T16:29:47.527Z"
   },
   {
    "duration": 33,
    "start_time": "2024-11-21T16:29:47.542Z"
   },
   {
    "duration": 24,
    "start_time": "2024-11-21T16:29:47.577Z"
   },
   {
    "duration": 1044,
    "start_time": "2024-11-21T16:29:47.603Z"
   },
   {
    "duration": 540,
    "start_time": "2024-11-21T16:29:48.648Z"
   },
   {
    "duration": 8,
    "start_time": "2024-11-21T16:29:49.190Z"
   },
   {
    "duration": 4,
    "start_time": "2024-11-21T16:29:49.200Z"
   },
   {
    "duration": 37,
    "start_time": "2024-11-21T16:29:49.221Z"
   },
   {
    "duration": 19,
    "start_time": "2024-11-21T16:29:49.260Z"
   },
   {
    "duration": 52,
    "start_time": "2024-11-21T16:29:49.280Z"
   },
   {
    "duration": 299,
    "start_time": "2024-11-21T16:29:49.335Z"
   },
   {
    "duration": 1113,
    "start_time": "2024-11-21T16:29:49.636Z"
   },
   {
    "duration": 419,
    "start_time": "2024-11-21T16:29:50.751Z"
   },
   {
    "duration": 11,
    "start_time": "2024-11-21T16:29:51.172Z"
   },
   {
    "duration": 271,
    "start_time": "2024-11-21T16:29:51.185Z"
   },
   {
    "duration": 13,
    "start_time": "2024-11-21T16:29:51.457Z"
   },
   {
    "duration": 180,
    "start_time": "2024-11-21T16:29:51.472Z"
   },
   {
    "duration": 203,
    "start_time": "2024-11-21T16:29:51.655Z"
   },
   {
    "duration": 214,
    "start_time": "2024-11-21T16:29:51.860Z"
   },
   {
    "duration": 182,
    "start_time": "2024-11-21T16:29:52.076Z"
   },
   {
    "duration": 92,
    "start_time": "2024-11-21T16:29:52.260Z"
   },
   {
    "duration": 152,
    "start_time": "2024-11-21T16:29:52.354Z"
   },
   {
    "duration": 20,
    "start_time": "2024-11-21T16:29:52.509Z"
   },
   {
    "duration": 90,
    "start_time": "2024-11-21T16:29:52.531Z"
   },
   {
    "duration": 4,
    "start_time": "2024-11-21T16:29:52.622Z"
   },
   {
    "duration": 5,
    "start_time": "2024-11-21T16:29:52.627Z"
   },
   {
    "duration": 42,
    "start_time": "2024-11-21T16:29:52.634Z"
   },
   {
    "duration": 14,
    "start_time": "2024-11-21T16:29:52.679Z"
   },
   {
    "duration": 19,
    "start_time": "2024-11-21T16:29:52.696Z"
   },
   {
    "duration": 1352544,
    "start_time": "2024-11-21T16:29:52.717Z"
   },
   {
    "duration": 6,
    "start_time": "2024-11-21T16:52:25.262Z"
   },
   {
    "duration": 22,
    "start_time": "2024-11-21T16:52:25.269Z"
   },
   {
    "duration": 10,
    "start_time": "2024-11-21T16:52:25.293Z"
   },
   {
    "duration": 136,
    "start_time": "2024-11-21T16:52:25.305Z"
   },
   {
    "duration": 2,
    "start_time": "2024-11-21T16:52:25.443Z"
   },
   {
    "duration": 24,
    "start_time": "2024-11-21T16:52:25.447Z"
   },
   {
    "duration": 6,
    "start_time": "2024-11-21T16:52:25.473Z"
   },
   {
    "duration": 25,
    "start_time": "2024-11-21T16:52:25.481Z"
   },
   {
    "duration": 6,
    "start_time": "2024-11-21T16:52:25.509Z"
   },
   {
    "duration": 143,
    "start_time": "2024-11-21T16:52:25.517Z"
   },
   {
    "duration": 0,
    "start_time": "2024-11-21T16:52:25.661Z"
   },
   {
    "duration": 0,
    "start_time": "2024-11-21T16:52:25.663Z"
   },
   {
    "duration": 0,
    "start_time": "2024-11-21T16:52:25.664Z"
   },
   {
    "duration": 0,
    "start_time": "2024-11-21T16:52:25.665Z"
   },
   {
    "duration": 0,
    "start_time": "2024-11-21T16:52:25.666Z"
   },
   {
    "duration": 0,
    "start_time": "2024-11-21T16:52:25.667Z"
   },
   {
    "duration": 0,
    "start_time": "2024-11-21T16:52:25.668Z"
   },
   {
    "duration": 75598,
    "start_time": "2024-11-21T17:09:03.474Z"
   },
   {
    "duration": 0,
    "start_time": "2024-11-21T17:10:19.074Z"
   },
   {
    "duration": 0,
    "start_time": "2024-11-21T17:10:19.075Z"
   },
   {
    "duration": 0,
    "start_time": "2024-11-21T17:10:19.076Z"
   },
   {
    "duration": 0,
    "start_time": "2024-11-21T17:10:19.077Z"
   },
   {
    "duration": 0,
    "start_time": "2024-11-21T17:10:19.079Z"
   },
   {
    "duration": 0,
    "start_time": "2024-11-21T17:10:19.080Z"
   },
   {
    "duration": 0,
    "start_time": "2024-11-21T17:10:19.081Z"
   },
   {
    "duration": 4,
    "start_time": "2024-11-21T17:21:59.524Z"
   },
   {
    "duration": 71,
    "start_time": "2024-11-21T17:22:16.884Z"
   },
   {
    "duration": 4,
    "start_time": "2024-11-21T17:22:26.186Z"
   },
   {
    "duration": 2704,
    "start_time": "2024-11-21T17:22:47.177Z"
   },
   {
    "duration": 2892,
    "start_time": "2024-11-21T17:26:27.525Z"
   },
   {
    "duration": 2970,
    "start_time": "2024-11-21T17:26:30.419Z"
   },
   {
    "duration": 3432,
    "start_time": "2024-11-21T17:26:33.391Z"
   },
   {
    "duration": 1638,
    "start_time": "2024-11-21T17:26:36.826Z"
   },
   {
    "duration": 5,
    "start_time": "2024-11-21T17:26:38.465Z"
   },
   {
    "duration": 1087,
    "start_time": "2024-11-21T17:26:38.472Z"
   },
   {
    "duration": 19,
    "start_time": "2024-11-21T17:26:39.561Z"
   },
   {
    "duration": 89,
    "start_time": "2024-11-21T17:26:39.582Z"
   },
   {
    "duration": 178,
    "start_time": "2024-11-21T17:26:39.673Z"
   },
   {
    "duration": 171,
    "start_time": "2024-11-21T17:26:39.854Z"
   },
   {
    "duration": 539,
    "start_time": "2024-11-21T17:26:40.027Z"
   },
   {
    "duration": 1171,
    "start_time": "2024-11-21T17:26:40.567Z"
   },
   {
    "duration": 235,
    "start_time": "2024-11-21T17:26:41.740Z"
   },
   {
    "duration": 3,
    "start_time": "2024-11-21T17:26:41.977Z"
   },
   {
    "duration": 120,
    "start_time": "2024-11-21T17:26:41.981Z"
   },
   {
    "duration": 50,
    "start_time": "2024-11-21T17:26:42.103Z"
   },
   {
    "duration": 4,
    "start_time": "2024-11-21T17:26:42.155Z"
   },
   {
    "duration": 114,
    "start_time": "2024-11-21T17:26:42.161Z"
   },
   {
    "duration": 135,
    "start_time": "2024-11-21T17:26:42.277Z"
   },
   {
    "duration": 42,
    "start_time": "2024-11-21T17:26:42.420Z"
   },
   {
    "duration": 171,
    "start_time": "2024-11-21T17:26:42.464Z"
   },
   {
    "duration": 44,
    "start_time": "2024-11-21T17:26:42.637Z"
   },
   {
    "duration": 146,
    "start_time": "2024-11-21T17:26:42.683Z"
   },
   {
    "duration": 138,
    "start_time": "2024-11-21T17:26:42.831Z"
   },
   {
    "duration": 132,
    "start_time": "2024-11-21T17:26:42.972Z"
   },
   {
    "duration": 102,
    "start_time": "2024-11-21T17:26:43.106Z"
   },
   {
    "duration": 1075,
    "start_time": "2024-11-21T17:26:43.209Z"
   },
   {
    "duration": 10,
    "start_time": "2024-11-21T17:26:44.288Z"
   },
   {
    "duration": 93,
    "start_time": "2024-11-21T17:26:44.300Z"
   },
   {
    "duration": 28,
    "start_time": "2024-11-21T17:26:44.395Z"
   },
   {
    "duration": 1068,
    "start_time": "2024-11-21T17:26:44.424Z"
   },
   {
    "duration": 566,
    "start_time": "2024-11-21T17:26:45.494Z"
   },
   {
    "duration": 9,
    "start_time": "2024-11-21T17:26:46.062Z"
   },
   {
    "duration": 24,
    "start_time": "2024-11-21T17:26:46.072Z"
   },
   {
    "duration": 23,
    "start_time": "2024-11-21T17:26:46.097Z"
   },
   {
    "duration": 16,
    "start_time": "2024-11-21T17:26:46.122Z"
   },
   {
    "duration": 24,
    "start_time": "2024-11-21T17:26:46.140Z"
   },
   {
    "duration": 318,
    "start_time": "2024-11-21T17:26:46.166Z"
   },
   {
    "duration": 1090,
    "start_time": "2024-11-21T17:26:46.486Z"
   },
   {
    "duration": 412,
    "start_time": "2024-11-21T17:26:47.578Z"
   },
   {
    "duration": 29,
    "start_time": "2024-11-21T17:26:47.992Z"
   },
   {
    "duration": 239,
    "start_time": "2024-11-21T17:26:48.022Z"
   },
   {
    "duration": 12,
    "start_time": "2024-11-21T17:26:48.263Z"
   },
   {
    "duration": 162,
    "start_time": "2024-11-21T17:26:48.277Z"
   },
   {
    "duration": 164,
    "start_time": "2024-11-21T17:26:48.441Z"
   },
   {
    "duration": 229,
    "start_time": "2024-11-21T17:26:48.607Z"
   },
   {
    "duration": 155,
    "start_time": "2024-11-21T17:26:48.837Z"
   },
   {
    "duration": 96,
    "start_time": "2024-11-21T17:26:48.994Z"
   },
   {
    "duration": 186,
    "start_time": "2024-11-21T17:26:49.092Z"
   },
   {
    "duration": 14,
    "start_time": "2024-11-21T17:26:49.280Z"
   },
   {
    "duration": 80,
    "start_time": "2024-11-21T17:26:49.296Z"
   },
   {
    "duration": 4,
    "start_time": "2024-11-21T17:26:49.378Z"
   },
   {
    "duration": 5,
    "start_time": "2024-11-21T17:26:49.383Z"
   },
   {
    "duration": 7,
    "start_time": "2024-11-21T17:26:49.390Z"
   },
   {
    "duration": 23,
    "start_time": "2024-11-21T17:26:49.398Z"
   },
   {
    "duration": 9,
    "start_time": "2024-11-21T17:26:49.423Z"
   },
   {
    "duration": 1382044,
    "start_time": "2024-11-21T17:26:49.434Z"
   },
   {
    "duration": 5,
    "start_time": "2024-11-21T17:49:51.480Z"
   },
   {
    "duration": 11,
    "start_time": "2024-11-21T17:49:51.486Z"
   },
   {
    "duration": 23,
    "start_time": "2024-11-21T17:49:51.498Z"
   },
   {
    "duration": 170,
    "start_time": "2024-11-21T17:49:51.523Z"
   },
   {
    "duration": 3,
    "start_time": "2024-11-21T17:49:51.695Z"
   },
   {
    "duration": 51,
    "start_time": "2024-11-21T17:49:51.699Z"
   },
   {
    "duration": 34,
    "start_time": "2024-11-21T17:49:51.752Z"
   },
   {
    "duration": 21,
    "start_time": "2024-11-21T17:49:51.788Z"
   },
   {
    "duration": 12,
    "start_time": "2024-11-21T17:49:51.811Z"
   },
   {
    "duration": 132,
    "start_time": "2024-11-21T17:49:51.824Z"
   },
   {
    "duration": 0,
    "start_time": "2024-11-21T17:49:51.958Z"
   },
   {
    "duration": 0,
    "start_time": "2024-11-21T17:49:51.960Z"
   },
   {
    "duration": 0,
    "start_time": "2024-11-21T17:49:51.961Z"
   },
   {
    "duration": 0,
    "start_time": "2024-11-21T17:49:51.962Z"
   },
   {
    "duration": 0,
    "start_time": "2024-11-21T17:49:51.963Z"
   },
   {
    "duration": 0,
    "start_time": "2024-11-21T17:49:51.965Z"
   },
   {
    "duration": 0,
    "start_time": "2024-11-21T17:49:51.966Z"
   },
   {
    "duration": 0,
    "start_time": "2024-11-21T17:49:51.967Z"
   },
   {
    "duration": 6,
    "start_time": "2024-11-21T18:49:18.759Z"
   },
   {
    "duration": 2615,
    "start_time": "2024-11-21T20:42:41.957Z"
   },
   {
    "duration": 2879,
    "start_time": "2024-11-21T20:42:44.574Z"
   },
   {
    "duration": 3213,
    "start_time": "2024-11-21T20:42:47.455Z"
   },
   {
    "duration": 1380,
    "start_time": "2024-11-21T20:42:50.673Z"
   },
   {
    "duration": 4,
    "start_time": "2024-11-21T20:42:52.055Z"
   },
   {
    "duration": 996,
    "start_time": "2024-11-21T20:42:52.061Z"
   },
   {
    "duration": 25,
    "start_time": "2024-11-21T20:42:53.059Z"
   },
   {
    "duration": 82,
    "start_time": "2024-11-21T20:42:53.086Z"
   },
   {
    "duration": 110,
    "start_time": "2024-11-21T20:42:53.169Z"
   },
   {
    "duration": 166,
    "start_time": "2024-11-21T20:42:53.282Z"
   },
   {
    "duration": 526,
    "start_time": "2024-11-21T20:42:53.450Z"
   },
   {
    "duration": 1093,
    "start_time": "2024-11-21T20:42:53.978Z"
   },
   {
    "duration": 238,
    "start_time": "2024-11-21T20:42:55.073Z"
   },
   {
    "duration": 7,
    "start_time": "2024-11-21T20:42:55.313Z"
   },
   {
    "duration": 109,
    "start_time": "2024-11-21T20:42:55.322Z"
   },
   {
    "duration": 41,
    "start_time": "2024-11-21T20:42:55.433Z"
   },
   {
    "duration": 4,
    "start_time": "2024-11-21T20:42:55.475Z"
   },
   {
    "duration": 116,
    "start_time": "2024-11-21T20:42:55.481Z"
   },
   {
    "duration": 131,
    "start_time": "2024-11-21T20:42:55.598Z"
   },
   {
    "duration": 46,
    "start_time": "2024-11-21T20:42:55.731Z"
   },
   {
    "duration": 150,
    "start_time": "2024-11-21T20:42:55.779Z"
   },
   {
    "duration": 42,
    "start_time": "2024-11-21T20:42:55.931Z"
   },
   {
    "duration": 138,
    "start_time": "2024-11-21T20:42:55.975Z"
   },
   {
    "duration": 134,
    "start_time": "2024-11-21T20:42:56.116Z"
   },
   {
    "duration": 124,
    "start_time": "2024-11-21T20:42:56.252Z"
   },
   {
    "duration": 126,
    "start_time": "2024-11-21T20:42:56.378Z"
   },
   {
    "duration": 1067,
    "start_time": "2024-11-21T20:42:56.506Z"
   },
   {
    "duration": 11,
    "start_time": "2024-11-21T20:42:57.578Z"
   },
   {
    "duration": 30,
    "start_time": "2024-11-21T20:42:57.591Z"
   },
   {
    "duration": 34,
    "start_time": "2024-11-21T20:42:57.622Z"
   },
   {
    "duration": 1077,
    "start_time": "2024-11-21T20:42:57.658Z"
   },
   {
    "duration": 525,
    "start_time": "2024-11-21T20:42:58.737Z"
   },
   {
    "duration": 8,
    "start_time": "2024-11-21T20:42:59.264Z"
   },
   {
    "duration": 54,
    "start_time": "2024-11-21T20:42:59.274Z"
   },
   {
    "duration": 32,
    "start_time": "2024-11-21T20:42:59.330Z"
   },
   {
    "duration": 16,
    "start_time": "2024-11-21T20:42:59.364Z"
   },
   {
    "duration": 39,
    "start_time": "2024-11-21T20:42:59.381Z"
   },
   {
    "duration": 307,
    "start_time": "2024-11-21T20:42:59.422Z"
   },
   {
    "duration": 1066,
    "start_time": "2024-11-21T20:42:59.731Z"
   },
   {
    "duration": 411,
    "start_time": "2024-11-21T20:43:00.798Z"
   },
   {
    "duration": 16,
    "start_time": "2024-11-21T20:43:01.211Z"
   },
   {
    "duration": 234,
    "start_time": "2024-11-21T20:43:01.229Z"
   },
   {
    "duration": 12,
    "start_time": "2024-11-21T20:43:01.465Z"
   },
   {
    "duration": 164,
    "start_time": "2024-11-21T20:43:01.479Z"
   },
   {
    "duration": 172,
    "start_time": "2024-11-21T20:43:01.644Z"
   },
   {
    "duration": 164,
    "start_time": "2024-11-21T20:43:01.820Z"
   },
   {
    "duration": 167,
    "start_time": "2024-11-21T20:43:01.987Z"
   },
   {
    "duration": 102,
    "start_time": "2024-11-21T20:43:02.156Z"
   },
   {
    "duration": 153,
    "start_time": "2024-11-21T20:43:02.259Z"
   },
   {
    "duration": 17,
    "start_time": "2024-11-21T20:43:02.413Z"
   },
   {
    "duration": 138,
    "start_time": "2024-11-21T20:43:02.431Z"
   },
   {
    "duration": 4,
    "start_time": "2024-11-21T20:43:02.571Z"
   },
   {
    "duration": 103,
    "start_time": "2024-11-21T20:43:02.576Z"
   },
   {
    "duration": 29,
    "start_time": "2024-11-21T20:43:02.680Z"
   },
   {
    "duration": 7,
    "start_time": "2024-11-21T20:43:02.711Z"
   },
   {
    "duration": 12,
    "start_time": "2024-11-21T20:43:02.720Z"
   },
   {
    "duration": 1381347,
    "start_time": "2024-11-21T20:43:02.733Z"
   },
   {
    "duration": 109,
    "start_time": "2024-11-21T21:06:04.082Z"
   },
   {
    "duration": 0,
    "start_time": "2024-11-21T21:06:04.193Z"
   },
   {
    "duration": 0,
    "start_time": "2024-11-21T21:06:04.194Z"
   },
   {
    "duration": 0,
    "start_time": "2024-11-21T21:06:04.195Z"
   },
   {
    "duration": 0,
    "start_time": "2024-11-21T21:06:04.196Z"
   },
   {
    "duration": 0,
    "start_time": "2024-11-21T21:06:04.197Z"
   },
   {
    "duration": 0,
    "start_time": "2024-11-21T21:06:04.199Z"
   },
   {
    "duration": 0,
    "start_time": "2024-11-21T21:06:04.200Z"
   },
   {
    "duration": 0,
    "start_time": "2024-11-21T21:06:04.201Z"
   },
   {
    "duration": 0,
    "start_time": "2024-11-21T21:06:04.203Z"
   },
   {
    "duration": 0,
    "start_time": "2024-11-21T21:06:04.204Z"
   },
   {
    "duration": 0,
    "start_time": "2024-11-21T21:06:04.205Z"
   },
   {
    "duration": 0,
    "start_time": "2024-11-21T21:06:04.206Z"
   },
   {
    "duration": 0,
    "start_time": "2024-11-21T21:06:04.208Z"
   },
   {
    "duration": 0,
    "start_time": "2024-11-21T21:06:04.209Z"
   },
   {
    "duration": 5,
    "start_time": "2024-11-21T21:07:11.855Z"
   },
   {
    "duration": 2,
    "start_time": "2024-11-21T21:07:18.751Z"
   },
   {
    "duration": 4,
    "start_time": "2024-11-21T21:07:19.680Z"
   },
   {
    "duration": 3,
    "start_time": "2024-11-21T21:07:24.781Z"
   },
   {
    "duration": 3,
    "start_time": "2024-11-21T21:07:26.135Z"
   },
   {
    "duration": 3,
    "start_time": "2024-11-21T21:07:28.145Z"
   },
   {
    "duration": 5,
    "start_time": "2024-11-21T21:07:32.946Z"
   },
   {
    "duration": 72976,
    "start_time": "2024-11-21T21:07:40.574Z"
   },
   {
    "duration": 0,
    "start_time": "2024-11-21T21:08:53.553Z"
   },
   {
    "duration": 5,
    "start_time": "2024-11-21T21:08:56.964Z"
   },
   {
    "duration": 11638,
    "start_time": "2024-11-21T21:09:00.854Z"
   },
   {
    "duration": 3315,
    "start_time": "2024-11-22T04:40:21.392Z"
   },
   {
    "duration": 23911,
    "start_time": "2024-11-22T04:40:24.709Z"
   },
   {
    "duration": 6893,
    "start_time": "2024-11-22T04:40:48.628Z"
   },
   {
    "duration": 1509,
    "start_time": "2024-11-22T04:40:55.524Z"
   },
   {
    "duration": 7,
    "start_time": "2024-11-22T04:40:57.035Z"
   },
   {
    "duration": 2780,
    "start_time": "2024-11-22T04:40:57.044Z"
   },
   {
    "duration": 17,
    "start_time": "2024-11-22T04:40:59.826Z"
   },
   {
    "duration": 56,
    "start_time": "2024-11-22T04:40:59.844Z"
   },
   {
    "duration": 95,
    "start_time": "2024-11-22T04:40:59.901Z"
   },
   {
    "duration": 127,
    "start_time": "2024-11-22T04:40:59.999Z"
   },
   {
    "duration": 397,
    "start_time": "2024-11-22T04:41:00.128Z"
   },
   {
    "duration": 872,
    "start_time": "2024-11-22T04:41:00.526Z"
   },
   {
    "duration": 158,
    "start_time": "2024-11-22T04:41:01.400Z"
   },
   {
    "duration": 2,
    "start_time": "2024-11-22T04:41:01.560Z"
   },
   {
    "duration": 99,
    "start_time": "2024-11-22T04:41:01.564Z"
   },
   {
    "duration": 34,
    "start_time": "2024-11-22T04:41:01.664Z"
   },
   {
    "duration": 3,
    "start_time": "2024-11-22T04:41:01.699Z"
   },
   {
    "duration": 100,
    "start_time": "2024-11-22T04:41:01.711Z"
   },
   {
    "duration": 109,
    "start_time": "2024-11-22T04:41:01.813Z"
   },
   {
    "duration": 32,
    "start_time": "2024-11-22T04:41:01.923Z"
   },
   {
    "duration": 120,
    "start_time": "2024-11-22T04:41:01.956Z"
   },
   {
    "duration": 29,
    "start_time": "2024-11-22T04:41:02.077Z"
   },
   {
    "duration": 90,
    "start_time": "2024-11-22T04:41:02.114Z"
   },
   {
    "duration": 96,
    "start_time": "2024-11-22T04:41:02.206Z"
   },
   {
    "duration": 89,
    "start_time": "2024-11-22T04:41:02.312Z"
   },
   {
    "duration": 91,
    "start_time": "2024-11-22T04:41:02.402Z"
   },
   {
    "duration": 963,
    "start_time": "2024-11-22T04:41:02.495Z"
   },
   {
    "duration": 9,
    "start_time": "2024-11-22T04:41:03.461Z"
   },
   {
    "duration": 26,
    "start_time": "2024-11-22T04:41:03.471Z"
   },
   {
    "duration": 40,
    "start_time": "2024-11-22T04:41:03.498Z"
   },
   {
    "duration": 874,
    "start_time": "2024-11-22T04:41:03.540Z"
   },
   {
    "duration": 409,
    "start_time": "2024-11-22T04:41:04.416Z"
   },
   {
    "duration": 7,
    "start_time": "2024-11-22T04:41:04.827Z"
   },
   {
    "duration": 2,
    "start_time": "2024-11-22T04:41:04.835Z"
   },
   {
    "duration": 31,
    "start_time": "2024-11-22T04:41:04.839Z"
   },
   {
    "duration": 14,
    "start_time": "2024-11-22T04:41:04.872Z"
   },
   {
    "duration": 66,
    "start_time": "2024-11-22T04:41:04.887Z"
   },
   {
    "duration": 250,
    "start_time": "2024-11-22T04:41:04.955Z"
   },
   {
    "duration": 861,
    "start_time": "2024-11-22T04:41:05.207Z"
   },
   {
    "duration": 351,
    "start_time": "2024-11-22T04:41:06.069Z"
   },
   {
    "duration": 25,
    "start_time": "2024-11-22T04:41:06.421Z"
   },
   {
    "duration": 715,
    "start_time": "2024-11-22T04:41:06.447Z"
   },
   {
    "duration": 471,
    "start_time": "2024-11-22T04:41:07.163Z"
   },
   {
    "duration": 556,
    "start_time": "2024-11-22T04:41:07.636Z"
   },
   {
    "duration": 154,
    "start_time": "2024-11-22T04:41:08.193Z"
   },
   {
    "duration": 150,
    "start_time": "2024-11-22T04:41:08.349Z"
   },
   {
    "duration": 165,
    "start_time": "2024-11-22T04:41:08.500Z"
   },
   {
    "duration": 65,
    "start_time": "2024-11-22T04:41:08.666Z"
   },
   {
    "duration": 94,
    "start_time": "2024-11-22T04:41:08.732Z"
   },
   {
    "duration": 14,
    "start_time": "2024-11-22T04:41:08.828Z"
   },
   {
    "duration": 48,
    "start_time": "2024-11-22T04:41:08.843Z"
   },
   {
    "duration": 3,
    "start_time": "2024-11-22T04:41:08.893Z"
   },
   {
    "duration": 12,
    "start_time": "2024-11-22T04:41:08.913Z"
   },
   {
    "duration": 4,
    "start_time": "2024-11-22T04:41:08.927Z"
   },
   {
    "duration": 4,
    "start_time": "2024-11-22T04:41:08.933Z"
   },
   {
    "duration": 5,
    "start_time": "2024-11-22T04:41:08.938Z"
   },
   {
    "duration": 1313305,
    "start_time": "2024-11-22T04:41:08.945Z"
   },
   {
    "duration": 4,
    "start_time": "2024-11-22T05:03:02.252Z"
   },
   {
    "duration": 31,
    "start_time": "2024-11-22T05:03:02.257Z"
   },
   {
    "duration": 19,
    "start_time": "2024-11-22T05:03:02.289Z"
   },
   {
    "duration": 5,
    "start_time": "2024-11-22T05:03:02.309Z"
   },
   {
    "duration": 15,
    "start_time": "2024-11-22T05:03:02.315Z"
   },
   {
    "duration": 1408976,
    "start_time": "2024-11-22T05:03:02.331Z"
   },
   {
    "duration": 0,
    "start_time": "2024-11-22T05:26:31.312Z"
   },
   {
    "duration": 0,
    "start_time": "2024-11-22T05:26:31.312Z"
   },
   {
    "duration": 0,
    "start_time": "2024-11-22T05:26:31.314Z"
   },
   {
    "duration": 0,
    "start_time": "2024-11-22T05:26:31.315Z"
   },
   {
    "duration": 0,
    "start_time": "2024-11-22T05:26:31.316Z"
   },
   {
    "duration": 0,
    "start_time": "2024-11-22T05:26:31.317Z"
   },
   {
    "duration": 0,
    "start_time": "2024-11-22T05:26:31.319Z"
   },
   {
    "duration": 0,
    "start_time": "2024-11-22T05:26:31.320Z"
   },
   {
    "duration": 0,
    "start_time": "2024-11-22T05:26:31.322Z"
   },
   {
    "duration": 0,
    "start_time": "2024-11-22T05:26:31.323Z"
   },
   {
    "duration": 1155933,
    "start_time": "2024-11-22T05:50:08.702Z"
   },
   {
    "duration": 2,
    "start_time": "2024-11-22T06:09:24.637Z"
   },
   {
    "duration": 254318,
    "start_time": "2024-11-22T06:09:24.640Z"
   },
   {
    "duration": 1808,
    "start_time": "2024-11-22T06:13:38.960Z"
   },
   {
    "duration": 22,
    "start_time": "2024-11-22T06:13:40.770Z"
   },
   {
    "duration": 0,
    "start_time": "2024-11-22T06:13:40.793Z"
   },
   {
    "duration": 53143,
    "start_time": "2024-11-22T06:22:49.840Z"
   },
   {
    "duration": 1507013,
    "start_time": "2024-11-22T06:38:04.818Z"
   },
   {
    "duration": 2775,
    "start_time": "2024-11-22T16:53:16.880Z"
   },
   {
    "duration": 24033,
    "start_time": "2024-11-22T16:53:19.658Z"
   },
   {
    "duration": 12012,
    "start_time": "2024-11-22T16:53:43.692Z"
   },
   {
    "duration": 1563,
    "start_time": "2024-11-22T16:53:55.707Z"
   },
   {
    "duration": 4,
    "start_time": "2024-11-22T16:53:57.271Z"
   },
   {
    "duration": 1216,
    "start_time": "2024-11-22T16:53:57.277Z"
   },
   {
    "duration": 25,
    "start_time": "2024-11-22T16:53:58.495Z"
   },
   {
    "duration": 83,
    "start_time": "2024-11-22T16:53:58.522Z"
   },
   {
    "duration": 104,
    "start_time": "2024-11-22T16:53:58.607Z"
   },
   {
    "duration": 161,
    "start_time": "2024-11-22T16:53:58.714Z"
   },
   {
    "duration": 518,
    "start_time": "2024-11-22T16:53:58.877Z"
   },
   {
    "duration": 1057,
    "start_time": "2024-11-22T16:53:59.397Z"
   },
   {
    "duration": 238,
    "start_time": "2024-11-22T16:54:00.456Z"
   },
   {
    "duration": 3,
    "start_time": "2024-11-22T16:54:00.696Z"
   },
   {
    "duration": 148,
    "start_time": "2024-11-22T16:54:00.701Z"
   },
   {
    "duration": 49,
    "start_time": "2024-11-22T16:54:00.850Z"
   },
   {
    "duration": 5,
    "start_time": "2024-11-22T16:54:00.900Z"
   },
   {
    "duration": 109,
    "start_time": "2024-11-22T16:54:00.907Z"
   },
   {
    "duration": 124,
    "start_time": "2024-11-22T16:54:01.018Z"
   },
   {
    "duration": 45,
    "start_time": "2024-11-22T16:54:01.144Z"
   },
   {
    "duration": 126,
    "start_time": "2024-11-22T16:54:01.191Z"
   },
   {
    "duration": 39,
    "start_time": "2024-11-22T16:54:01.319Z"
   },
   {
    "duration": 129,
    "start_time": "2024-11-22T16:54:01.370Z"
   },
   {
    "duration": 121,
    "start_time": "2024-11-22T16:54:01.501Z"
   },
   {
    "duration": 122,
    "start_time": "2024-11-22T16:54:01.624Z"
   },
   {
    "duration": 101,
    "start_time": "2024-11-22T16:54:01.748Z"
   },
   {
    "duration": 1036,
    "start_time": "2024-11-22T16:54:01.851Z"
   },
   {
    "duration": 14,
    "start_time": "2024-11-22T16:54:02.892Z"
   },
   {
    "duration": 29,
    "start_time": "2024-11-22T16:54:02.908Z"
   },
   {
    "duration": 41,
    "start_time": "2024-11-22T16:54:02.939Z"
   },
   {
    "duration": 964,
    "start_time": "2024-11-22T16:54:02.982Z"
   },
   {
    "duration": 522,
    "start_time": "2024-11-22T16:54:03.948Z"
   },
   {
    "duration": 9,
    "start_time": "2024-11-22T16:54:04.472Z"
   },
   {
    "duration": 3,
    "start_time": "2024-11-22T16:54:04.483Z"
   },
   {
    "duration": 55,
    "start_time": "2024-11-22T16:54:04.488Z"
   },
   {
    "duration": 27,
    "start_time": "2024-11-22T16:54:04.545Z"
   },
   {
    "duration": 28,
    "start_time": "2024-11-22T16:54:04.574Z"
   },
   {
    "duration": 291,
    "start_time": "2024-11-22T16:54:04.604Z"
   },
   {
    "duration": 1025,
    "start_time": "2024-11-22T16:54:04.897Z"
   },
   {
    "duration": 392,
    "start_time": "2024-11-22T16:54:05.924Z"
   },
   {
    "duration": 11,
    "start_time": "2024-11-22T16:54:06.318Z"
   },
   {
    "duration": 263,
    "start_time": "2024-11-22T16:54:06.331Z"
   },
   {
    "duration": 13,
    "start_time": "2024-11-22T16:54:06.596Z"
   },
   {
    "duration": 172,
    "start_time": "2024-11-22T16:54:06.611Z"
   },
   {
    "duration": 221,
    "start_time": "2024-11-22T16:54:06.784Z"
   },
   {
    "duration": 190,
    "start_time": "2024-11-22T16:54:07.007Z"
   },
   {
    "duration": 236,
    "start_time": "2024-11-22T16:54:07.200Z"
   },
   {
    "duration": 100,
    "start_time": "2024-11-22T16:54:07.439Z"
   },
   {
    "duration": 163,
    "start_time": "2024-11-22T16:54:07.540Z"
   },
   {
    "duration": 17,
    "start_time": "2024-11-22T16:54:07.705Z"
   },
   {
    "duration": 117,
    "start_time": "2024-11-22T16:54:07.725Z"
   },
   {
    "duration": 3,
    "start_time": "2024-11-22T16:54:07.844Z"
   },
   {
    "duration": 24,
    "start_time": "2024-11-22T16:54:07.849Z"
   },
   {
    "duration": 12,
    "start_time": "2024-11-22T16:54:07.875Z"
   },
   {
    "duration": 62,
    "start_time": "2024-11-22T16:54:07.889Z"
   },
   {
    "duration": 18,
    "start_time": "2024-11-22T16:54:07.953Z"
   },
   {
    "duration": 1250954,
    "start_time": "2024-11-22T16:54:07.973Z"
   },
   {
    "duration": 4,
    "start_time": "2024-11-22T17:14:58.929Z"
   },
   {
    "duration": 3,
    "start_time": "2024-11-22T17:14:58.935Z"
   },
   {
    "duration": 7,
    "start_time": "2024-11-22T17:14:58.940Z"
   },
   {
    "duration": 286176,
    "start_time": "2024-11-22T17:14:58.948Z"
   },
   {
    "duration": 0,
    "start_time": "2024-11-22T17:19:45.126Z"
   },
   {
    "duration": 0,
    "start_time": "2024-11-22T17:19:45.128Z"
   },
   {
    "duration": 0,
    "start_time": "2024-11-22T17:19:45.129Z"
   },
   {
    "duration": 0,
    "start_time": "2024-11-22T17:19:45.131Z"
   },
   {
    "duration": 0,
    "start_time": "2024-11-22T17:19:45.132Z"
   },
   {
    "duration": 0,
    "start_time": "2024-11-22T17:19:45.133Z"
   },
   {
    "duration": 0,
    "start_time": "2024-11-22T17:19:45.134Z"
   },
   {
    "duration": 0,
    "start_time": "2024-11-22T17:19:45.136Z"
   },
   {
    "duration": 0,
    "start_time": "2024-11-22T17:19:45.137Z"
   },
   {
    "duration": 0,
    "start_time": "2024-11-22T17:19:45.139Z"
   },
   {
    "duration": 0,
    "start_time": "2024-11-22T17:19:45.140Z"
   },
   {
    "duration": 1,
    "start_time": "2024-11-22T17:19:45.169Z"
   },
   {
    "duration": 0,
    "start_time": "2024-11-22T17:19:45.171Z"
   },
   {
    "duration": 0,
    "start_time": "2024-11-22T17:19:45.172Z"
   },
   {
    "duration": 0,
    "start_time": "2024-11-22T17:19:45.173Z"
   },
   {
    "duration": 0,
    "start_time": "2024-11-22T17:19:45.174Z"
   },
   {
    "duration": 0,
    "start_time": "2024-11-22T17:19:45.175Z"
   },
   {
    "duration": 236797,
    "start_time": "2024-11-22T17:28:41.251Z"
   },
   {
    "duration": 85,
    "start_time": "2024-11-22T17:39:51.198Z"
   },
   {
    "duration": 6,
    "start_time": "2024-11-22T17:40:17.286Z"
   },
   {
    "duration": 96,
    "start_time": "2024-11-22T17:42:20.749Z"
   },
   {
    "duration": 1801691,
    "start_time": "2024-11-22T17:45:47.031Z"
   },
   {
    "duration": 0,
    "start_time": "2024-11-22T18:15:48.723Z"
   },
   {
    "duration": 3,
    "start_time": "2024-11-22T18:17:13.953Z"
   },
   {
    "duration": 3,
    "start_time": "2024-11-22T18:17:14.714Z"
   },
   {
    "duration": 5,
    "start_time": "2024-11-22T18:17:16.890Z"
   },
   {
    "duration": 4,
    "start_time": "2024-11-22T18:17:19.990Z"
   },
   {
    "duration": 263220,
    "start_time": "2024-11-22T18:17:23.669Z"
   },
   {
    "duration": 5,
    "start_time": "2024-11-22T18:54:33.884Z"
   },
   {
    "duration": 2,
    "start_time": "2024-11-22T18:54:37.769Z"
   },
   {
    "duration": 260806,
    "start_time": "2024-11-22T18:54:38.551Z"
   },
   {
    "duration": 6,
    "start_time": "2024-11-22T19:03:09.743Z"
   },
   {
    "duration": 3,
    "start_time": "2024-11-22T19:03:12.784Z"
   },
   {
    "duration": 50,
    "start_time": "2024-11-22T19:03:13.534Z"
   },
   {
    "duration": 50,
    "start_time": "2024-11-22T19:03:21.375Z"
   },
   {
    "duration": 5,
    "start_time": "2024-11-22T19:03:54.578Z"
   },
   {
    "duration": 5,
    "start_time": "2024-11-22T19:03:56.289Z"
   },
   {
    "duration": 52,
    "start_time": "2024-11-22T19:04:02.044Z"
   },
   {
    "duration": 4,
    "start_time": "2024-11-22T19:17:59.660Z"
   },
   {
    "duration": 5,
    "start_time": "2024-11-22T19:18:00.280Z"
   },
   {
    "duration": 2,
    "start_time": "2024-11-22T19:18:03.437Z"
   },
   {
    "duration": 334046,
    "start_time": "2024-11-22T19:18:04.234Z"
   },
   {
    "duration": 216,
    "start_time": "2024-11-22T19:24:41.304Z"
   },
   {
    "duration": 4,
    "start_time": "2024-11-22T19:32:22.741Z"
   },
   {
    "duration": 2,
    "start_time": "2024-11-22T19:32:23.341Z"
   },
   {
    "duration": 327271,
    "start_time": "2024-11-22T19:32:23.920Z"
   },
   {
    "duration": 20,
    "start_time": "2024-11-22T19:49:48.110Z"
   },
   {
    "duration": 6,
    "start_time": "2024-11-22T19:49:49.690Z"
   },
   {
    "duration": 4,
    "start_time": "2024-11-22T19:49:52.741Z"
   },
   {
    "duration": 5,
    "start_time": "2024-11-22T19:49:55.260Z"
   },
   {
    "duration": 37,
    "start_time": "2024-11-22T19:49:57.825Z"
   },
   {
    "duration": 5,
    "start_time": "2024-11-22T19:52:11.671Z"
   },
   {
    "duration": 4,
    "start_time": "2024-11-22T19:52:25.546Z"
   },
   {
    "duration": 4,
    "start_time": "2024-11-22T19:52:26.329Z"
   },
   {
    "duration": 37,
    "start_time": "2024-11-22T19:52:32.032Z"
   },
   {
    "duration": 5,
    "start_time": "2024-11-22T19:55:40.912Z"
   },
   {
    "duration": 5,
    "start_time": "2024-11-22T19:55:44.728Z"
   },
   {
    "duration": 4,
    "start_time": "2024-11-22T19:55:47.035Z"
   },
   {
    "duration": 401358,
    "start_time": "2024-11-22T19:55:50.703Z"
   },
   {
    "duration": 19,
    "start_time": "2024-11-22T20:09:32.773Z"
   },
   {
    "duration": 5,
    "start_time": "2024-11-22T20:09:33.399Z"
   },
   {
    "duration": 4,
    "start_time": "2024-11-22T20:09:34.192Z"
   },
   {
    "duration": 4,
    "start_time": "2024-11-22T20:09:35.079Z"
   },
   {
    "duration": 33,
    "start_time": "2024-11-22T20:09:36.070Z"
   },
   {
    "duration": 20,
    "start_time": "2024-11-22T20:13:38.167Z"
   },
   {
    "duration": 6,
    "start_time": "2024-11-22T20:13:38.902Z"
   },
   {
    "duration": 3,
    "start_time": "2024-11-22T20:13:39.705Z"
   },
   {
    "duration": 4,
    "start_time": "2024-11-22T20:13:40.437Z"
   },
   {
    "duration": 400792,
    "start_time": "2024-11-22T20:13:41.351Z"
   },
   {
    "duration": 20,
    "start_time": "2024-11-22T20:24:56.003Z"
   },
   {
    "duration": 6,
    "start_time": "2024-11-22T20:24:56.514Z"
   },
   {
    "duration": 4,
    "start_time": "2024-11-22T20:24:57.168Z"
   },
   {
    "duration": 3,
    "start_time": "2024-11-22T20:24:57.630Z"
   },
   {
    "duration": 394995,
    "start_time": "2024-11-22T20:24:58.331Z"
   },
   {
    "duration": 13,
    "start_time": "2024-11-22T20:33:45.826Z"
   },
   {
    "duration": 18,
    "start_time": "2024-11-22T20:38:03.402Z"
   },
   {
    "duration": 360,
    "start_time": "2024-11-22T20:38:03.806Z"
   },
   {
    "duration": 52,
    "start_time": "2024-11-22T20:38:05.397Z"
   },
   {
    "duration": 3,
    "start_time": "2024-11-22T20:38:08.131Z"
   },
   {
    "duration": 3,
    "start_time": "2024-11-22T20:38:09.080Z"
   },
   {
    "duration": 2,
    "start_time": "2024-11-22T20:38:10.587Z"
   },
   {
    "duration": 4,
    "start_time": "2024-11-22T20:38:13.898Z"
   },
   {
    "duration": 3,
    "start_time": "2024-11-22T20:38:16.390Z"
   },
   {
    "duration": 1301871,
    "start_time": "2024-11-22T20:38:18.940Z"
   },
   {
    "duration": 5,
    "start_time": "2024-11-22T21:00:00.813Z"
   },
   {
    "duration": 3,
    "start_time": "2024-11-22T21:00:11.620Z"
   },
   {
    "duration": 4,
    "start_time": "2024-11-22T21:00:12.807Z"
   },
   {
    "duration": 3,
    "start_time": "2024-11-22T21:00:17.614Z"
   },
   {
    "duration": 2,
    "start_time": "2024-11-22T21:00:18.332Z"
   },
   {
    "duration": 10,
    "start_time": "2024-11-22T21:00:19.200Z"
   },
   {
    "duration": 5,
    "start_time": "2024-11-22T21:00:20.007Z"
   },
   {
    "duration": 5,
    "start_time": "2024-11-22T21:00:20.805Z"
   },
   {
    "duration": 4,
    "start_time": "2024-11-22T21:00:21.912Z"
   },
   {
    "duration": 770245,
    "start_time": "2024-11-22T21:00:23.035Z"
   },
   {
    "duration": 7,
    "start_time": "2024-11-22T21:13:13.282Z"
   },
   {
    "duration": 5,
    "start_time": "2024-11-22T21:13:41.244Z"
   },
   {
    "duration": 6540,
    "start_time": "2024-11-22T21:13:48.247Z"
   },
   {
    "duration": 1074,
    "start_time": "2024-11-22T21:15:05.145Z"
   },
   {
    "duration": 44,
    "start_time": "2024-11-23T04:33:50.201Z"
   },
   {
    "duration": 2821,
    "start_time": "2024-11-23T04:56:29.998Z"
   },
   {
    "duration": 20114,
    "start_time": "2024-11-23T04:56:32.822Z"
   },
   {
    "duration": 6109,
    "start_time": "2024-11-23T04:56:52.938Z"
   },
   {
    "duration": 1357,
    "start_time": "2024-11-23T04:56:59.049Z"
   },
   {
    "duration": 6,
    "start_time": "2024-11-23T04:57:00.407Z"
   },
   {
    "duration": 2840,
    "start_time": "2024-11-23T04:57:00.414Z"
   },
   {
    "duration": 15,
    "start_time": "2024-11-23T04:57:03.256Z"
   },
   {
    "duration": 69,
    "start_time": "2024-11-23T04:57:03.273Z"
   },
   {
    "duration": 106,
    "start_time": "2024-11-23T04:57:03.344Z"
   },
   {
    "duration": 107,
    "start_time": "2024-11-23T04:57:03.453Z"
   },
   {
    "duration": 417,
    "start_time": "2024-11-23T04:57:03.562Z"
   },
   {
    "duration": 776,
    "start_time": "2024-11-23T04:57:03.981Z"
   },
   {
    "duration": 170,
    "start_time": "2024-11-23T04:57:04.758Z"
   },
   {
    "duration": 2,
    "start_time": "2024-11-23T04:57:04.929Z"
   },
   {
    "duration": 89,
    "start_time": "2024-11-23T04:57:04.933Z"
   },
   {
    "duration": 29,
    "start_time": "2024-11-23T04:57:05.024Z"
   },
   {
    "duration": 3,
    "start_time": "2024-11-23T04:57:05.055Z"
   },
   {
    "duration": 86,
    "start_time": "2024-11-23T04:57:05.060Z"
   },
   {
    "duration": 108,
    "start_time": "2024-11-23T04:57:05.148Z"
   },
   {
    "duration": 29,
    "start_time": "2024-11-23T04:57:05.258Z"
   },
   {
    "duration": 157,
    "start_time": "2024-11-23T04:57:05.288Z"
   },
   {
    "duration": 30,
    "start_time": "2024-11-23T04:57:05.446Z"
   },
   {
    "duration": 96,
    "start_time": "2024-11-23T04:57:05.478Z"
   },
   {
    "duration": 98,
    "start_time": "2024-11-23T04:57:05.575Z"
   },
   {
    "duration": 86,
    "start_time": "2024-11-23T04:57:05.674Z"
   },
   {
    "duration": 74,
    "start_time": "2024-11-23T04:57:05.762Z"
   },
   {
    "duration": 821,
    "start_time": "2024-11-23T04:57:05.838Z"
   },
   {
    "duration": 9,
    "start_time": "2024-11-23T04:57:06.663Z"
   },
   {
    "duration": 13,
    "start_time": "2024-11-23T04:57:06.674Z"
   },
   {
    "duration": 40,
    "start_time": "2024-11-23T04:57:06.689Z"
   },
   {
    "duration": 770,
    "start_time": "2024-11-23T04:57:06.730Z"
   },
   {
    "duration": 356,
    "start_time": "2024-11-23T04:57:07.502Z"
   },
   {
    "duration": 7,
    "start_time": "2024-11-23T04:57:07.859Z"
   },
   {
    "duration": 31,
    "start_time": "2024-11-23T04:57:07.867Z"
   },
   {
    "duration": 35,
    "start_time": "2024-11-23T04:57:07.900Z"
   },
   {
    "duration": 13,
    "start_time": "2024-11-23T04:57:07.937Z"
   },
   {
    "duration": 19,
    "start_time": "2024-11-23T04:57:07.951Z"
   },
   {
    "duration": 222,
    "start_time": "2024-11-23T04:57:07.972Z"
   },
   {
    "duration": 796,
    "start_time": "2024-11-23T04:57:08.196Z"
   },
   {
    "duration": 324,
    "start_time": "2024-11-23T04:57:08.994Z"
   },
   {
    "duration": 8,
    "start_time": "2024-11-23T04:57:09.320Z"
   },
   {
    "duration": 229,
    "start_time": "2024-11-23T04:57:09.329Z"
   },
   {
    "duration": 9,
    "start_time": "2024-11-23T04:57:09.560Z"
   },
   {
    "duration": 152,
    "start_time": "2024-11-23T04:57:09.571Z"
   },
   {
    "duration": 145,
    "start_time": "2024-11-23T04:57:09.725Z"
   },
   {
    "duration": 139,
    "start_time": "2024-11-23T04:57:09.871Z"
   },
   {
    "duration": 127,
    "start_time": "2024-11-23T04:57:10.012Z"
   },
   {
    "duration": 54,
    "start_time": "2024-11-23T04:57:10.141Z"
   },
   {
    "duration": 80,
    "start_time": "2024-11-23T04:57:10.197Z"
   },
   {
    "duration": 12,
    "start_time": "2024-11-23T04:57:10.278Z"
   },
   {
    "duration": 320,
    "start_time": "2024-11-23T04:57:10.292Z"
   },
   {
    "duration": 42,
    "start_time": "2024-11-23T04:57:10.613Z"
   },
   {
    "duration": 2,
    "start_time": "2024-11-23T04:57:10.657Z"
   },
   {
    "duration": 8,
    "start_time": "2024-11-23T04:57:10.660Z"
   },
   {
    "duration": 8,
    "start_time": "2024-11-23T04:57:10.669Z"
   },
   {
    "duration": 8,
    "start_time": "2024-11-23T04:57:10.678Z"
   },
   {
    "duration": 17,
    "start_time": "2024-11-23T04:57:10.687Z"
   },
   {
    "duration": 1283554,
    "start_time": "2024-11-23T04:57:10.705Z"
   },
   {
    "duration": 4,
    "start_time": "2024-11-23T05:18:34.260Z"
   },
   {
    "duration": 42,
    "start_time": "2024-11-23T05:18:34.265Z"
   },
   {
    "duration": 12,
    "start_time": "2024-11-23T05:18:34.309Z"
   },
   {
    "duration": 19,
    "start_time": "2024-11-23T05:18:34.322Z"
   },
   {
    "duration": 21,
    "start_time": "2024-11-23T05:18:34.342Z"
   },
   {
    "duration": 17,
    "start_time": "2024-11-23T05:18:34.364Z"
   },
   {
    "duration": 4,
    "start_time": "2024-11-23T05:18:34.382Z"
   },
   {
    "duration": 2745,
    "start_time": "2024-11-23T05:58:23.783Z"
   },
   {
    "duration": 3013,
    "start_time": "2024-11-23T05:58:26.530Z"
   },
   {
    "duration": 3278,
    "start_time": "2024-11-23T05:58:29.545Z"
   },
   {
    "duration": 1258,
    "start_time": "2024-11-23T05:58:32.826Z"
   },
   {
    "duration": 4,
    "start_time": "2024-11-23T05:58:34.085Z"
   },
   {
    "duration": 842,
    "start_time": "2024-11-23T05:58:34.090Z"
   },
   {
    "duration": 15,
    "start_time": "2024-11-23T05:58:34.934Z"
   },
   {
    "duration": 76,
    "start_time": "2024-11-23T05:58:34.950Z"
   },
   {
    "duration": 137,
    "start_time": "2024-11-23T05:58:35.027Z"
   },
   {
    "duration": 128,
    "start_time": "2024-11-23T05:58:35.166Z"
   },
   {
    "duration": 404,
    "start_time": "2024-11-23T05:58:35.295Z"
   },
   {
    "duration": 923,
    "start_time": "2024-11-23T05:58:35.700Z"
   },
   {
    "duration": 184,
    "start_time": "2024-11-23T05:58:36.624Z"
   },
   {
    "duration": 12,
    "start_time": "2024-11-23T05:58:36.809Z"
   },
   {
    "duration": 80,
    "start_time": "2024-11-23T05:58:36.823Z"
   },
   {
    "duration": 45,
    "start_time": "2024-11-23T05:58:36.904Z"
   },
   {
    "duration": 4,
    "start_time": "2024-11-23T05:58:36.950Z"
   },
   {
    "duration": 132,
    "start_time": "2024-11-23T05:58:36.956Z"
   },
   {
    "duration": 141,
    "start_time": "2024-11-23T05:58:37.089Z"
   },
   {
    "duration": 32,
    "start_time": "2024-11-23T05:58:37.232Z"
   },
   {
    "duration": 129,
    "start_time": "2024-11-23T05:58:37.266Z"
   },
   {
    "duration": 43,
    "start_time": "2024-11-23T05:58:37.397Z"
   },
   {
    "duration": 96,
    "start_time": "2024-11-23T05:58:37.442Z"
   },
   {
    "duration": 89,
    "start_time": "2024-11-23T05:58:37.540Z"
   },
   {
    "duration": 93,
    "start_time": "2024-11-23T05:58:37.631Z"
   },
   {
    "duration": 68,
    "start_time": "2024-11-23T05:58:37.725Z"
   },
   {
    "duration": 891,
    "start_time": "2024-11-23T05:58:37.794Z"
   },
   {
    "duration": 9,
    "start_time": "2024-11-23T05:58:38.689Z"
   },
   {
    "duration": 27,
    "start_time": "2024-11-23T05:58:38.700Z"
   },
   {
    "duration": 22,
    "start_time": "2024-11-23T05:58:38.729Z"
   },
   {
    "duration": 837,
    "start_time": "2024-11-23T05:58:38.753Z"
   },
   {
    "duration": 416,
    "start_time": "2024-11-23T05:58:39.591Z"
   },
   {
    "duration": 11,
    "start_time": "2024-11-23T05:58:40.023Z"
   },
   {
    "duration": 30,
    "start_time": "2024-11-23T05:58:40.035Z"
   },
   {
    "duration": 31,
    "start_time": "2024-11-23T05:58:40.067Z"
   },
   {
    "duration": 22,
    "start_time": "2024-11-23T05:58:40.100Z"
   },
   {
    "duration": 27,
    "start_time": "2024-11-23T05:58:40.124Z"
   },
   {
    "duration": 247,
    "start_time": "2024-11-23T05:58:40.153Z"
   },
   {
    "duration": 860,
    "start_time": "2024-11-23T05:58:40.401Z"
   },
   {
    "duration": 349,
    "start_time": "2024-11-23T05:58:41.263Z"
   },
   {
    "duration": 10,
    "start_time": "2024-11-23T05:58:41.622Z"
   },
   {
    "duration": 204,
    "start_time": "2024-11-23T05:58:41.633Z"
   },
   {
    "duration": 10,
    "start_time": "2024-11-23T05:58:41.838Z"
   },
   {
    "duration": 133,
    "start_time": "2024-11-23T05:58:41.849Z"
   },
   {
    "duration": 161,
    "start_time": "2024-11-23T05:58:41.983Z"
   },
   {
    "duration": 144,
    "start_time": "2024-11-23T05:58:42.145Z"
   },
   {
    "duration": 145,
    "start_time": "2024-11-23T05:58:42.291Z"
   },
   {
    "duration": 57,
    "start_time": "2024-11-23T05:58:42.438Z"
   },
   {
    "duration": 89,
    "start_time": "2024-11-23T05:58:42.496Z"
   },
   {
    "duration": 14,
    "start_time": "2024-11-23T05:58:42.586Z"
   },
   {
    "duration": 365,
    "start_time": "2024-11-23T05:58:42.602Z"
   },
   {
    "duration": 58,
    "start_time": "2024-11-23T05:58:42.969Z"
   },
   {
    "duration": 3,
    "start_time": "2024-11-23T05:58:43.028Z"
   },
   {
    "duration": 13,
    "start_time": "2024-11-23T05:58:43.033Z"
   },
   {
    "duration": 6,
    "start_time": "2024-11-23T05:58:43.048Z"
   },
   {
    "duration": 14,
    "start_time": "2024-11-23T05:58:43.056Z"
   },
   {
    "duration": 4,
    "start_time": "2024-11-23T05:58:43.072Z"
   },
   {
    "duration": 1294404,
    "start_time": "2024-11-23T05:58:43.077Z"
   },
   {
    "duration": 5,
    "start_time": "2024-11-23T06:20:17.483Z"
   },
   {
    "duration": 6,
    "start_time": "2024-11-23T06:20:17.489Z"
   },
   {
    "duration": 6,
    "start_time": "2024-11-23T06:20:17.497Z"
   },
   {
    "duration": 48,
    "start_time": "2024-11-23T06:20:17.525Z"
   },
   {
    "duration": 14,
    "start_time": "2024-11-23T06:20:17.574Z"
   },
   {
    "duration": 15,
    "start_time": "2024-11-23T06:20:17.589Z"
   },
   {
    "duration": 7,
    "start_time": "2024-11-23T06:20:17.605Z"
   },
   {
    "duration": 1019609,
    "start_time": "2024-11-23T06:20:17.621Z"
   },
   {
    "duration": 0,
    "start_time": "2024-11-23T06:37:17.231Z"
   },
   {
    "duration": 0,
    "start_time": "2024-11-23T06:37:17.232Z"
   },
   {
    "duration": 0,
    "start_time": "2024-11-23T06:37:17.233Z"
   },
   {
    "duration": 0,
    "start_time": "2024-11-23T06:37:17.234Z"
   },
   {
    "duration": 0,
    "start_time": "2024-11-23T06:37:17.235Z"
   },
   {
    "duration": 0,
    "start_time": "2024-11-23T06:37:17.235Z"
   },
   {
    "duration": 0,
    "start_time": "2024-11-23T06:37:17.236Z"
   },
   {
    "duration": 0,
    "start_time": "2024-11-23T06:37:17.237Z"
   },
   {
    "duration": 0,
    "start_time": "2024-11-23T06:37:17.238Z"
   },
   {
    "duration": 0,
    "start_time": "2024-11-23T06:37:17.239Z"
   },
   {
    "duration": 6,
    "start_time": "2024-11-23T06:37:21.394Z"
   },
   {
    "duration": 775377,
    "start_time": "2024-11-23T06:38:03.956Z"
   },
   {
    "duration": 0,
    "start_time": "2024-11-23T06:50:59.334Z"
   },
   {
    "duration": 2903,
    "start_time": "2024-11-24T03:14:18.357Z"
   },
   {
    "duration": 22100,
    "start_time": "2024-11-24T03:14:21.262Z"
   },
   {
    "duration": 6621,
    "start_time": "2024-11-24T03:14:43.364Z"
   },
   {
    "duration": 1549,
    "start_time": "2024-11-24T03:14:49.988Z"
   },
   {
    "duration": 4,
    "start_time": "2024-11-24T03:14:51.539Z"
   },
   {
    "duration": 3074,
    "start_time": "2024-11-24T03:14:51.545Z"
   },
   {
    "duration": 16,
    "start_time": "2024-11-24T03:14:54.620Z"
   },
   {
    "duration": 64,
    "start_time": "2024-11-24T03:14:54.637Z"
   },
   {
    "duration": 93,
    "start_time": "2024-11-24T03:14:54.703Z"
   },
   {
    "duration": 176,
    "start_time": "2024-11-24T03:14:54.798Z"
   },
   {
    "duration": 472,
    "start_time": "2024-11-24T03:14:54.977Z"
   },
   {
    "duration": 987,
    "start_time": "2024-11-24T03:14:55.451Z"
   },
   {
    "duration": 212,
    "start_time": "2024-11-24T03:14:56.440Z"
   },
   {
    "duration": 3,
    "start_time": "2024-11-24T03:14:56.653Z"
   },
   {
    "duration": 109,
    "start_time": "2024-11-24T03:14:56.657Z"
   },
   {
    "duration": 34,
    "start_time": "2024-11-24T03:14:56.768Z"
   },
   {
    "duration": 14,
    "start_time": "2024-11-24T03:14:56.804Z"
   },
   {
    "duration": 113,
    "start_time": "2024-11-24T03:14:56.819Z"
   },
   {
    "duration": 134,
    "start_time": "2024-11-24T03:14:56.934Z"
   },
   {
    "duration": 54,
    "start_time": "2024-11-24T03:14:57.070Z"
   },
   {
    "duration": 122,
    "start_time": "2024-11-24T03:14:57.125Z"
   },
   {
    "duration": 41,
    "start_time": "2024-11-24T03:14:57.248Z"
   },
   {
    "duration": 128,
    "start_time": "2024-11-24T03:14:57.290Z"
   },
   {
    "duration": 123,
    "start_time": "2024-11-24T03:14:57.419Z"
   },
   {
    "duration": 131,
    "start_time": "2024-11-24T03:14:57.544Z"
   },
   {
    "duration": 113,
    "start_time": "2024-11-24T03:14:57.676Z"
   },
   {
    "duration": 1006,
    "start_time": "2024-11-24T03:14:57.790Z"
   },
   {
    "duration": 19,
    "start_time": "2024-11-24T03:14:58.799Z"
   },
   {
    "duration": 12,
    "start_time": "2024-11-24T03:14:58.820Z"
   },
   {
    "duration": 52,
    "start_time": "2024-11-24T03:14:58.833Z"
   },
   {
    "duration": 952,
    "start_time": "2024-11-24T03:14:58.887Z"
   },
   {
    "duration": 482,
    "start_time": "2024-11-24T03:14:59.841Z"
   },
   {
    "duration": 8,
    "start_time": "2024-11-24T03:15:00.325Z"
   },
   {
    "duration": 16,
    "start_time": "2024-11-24T03:15:00.335Z"
   },
   {
    "duration": 43,
    "start_time": "2024-11-24T03:15:00.352Z"
   },
   {
    "duration": 14,
    "start_time": "2024-11-24T03:15:00.397Z"
   },
   {
    "duration": 35,
    "start_time": "2024-11-24T03:15:00.413Z"
   },
   {
    "duration": 275,
    "start_time": "2024-11-24T03:15:00.450Z"
   },
   {
    "duration": 1045,
    "start_time": "2024-11-24T03:15:00.727Z"
   },
   {
    "duration": 399,
    "start_time": "2024-11-24T03:15:01.774Z"
   },
   {
    "duration": 27,
    "start_time": "2024-11-24T03:15:02.175Z"
   },
   {
    "duration": 231,
    "start_time": "2024-11-24T03:15:02.204Z"
   },
   {
    "duration": 12,
    "start_time": "2024-11-24T03:15:02.437Z"
   },
   {
    "duration": 169,
    "start_time": "2024-11-24T03:15:02.450Z"
   },
   {
    "duration": 156,
    "start_time": "2024-11-24T03:15:02.621Z"
   },
   {
    "duration": 148,
    "start_time": "2024-11-24T03:15:02.779Z"
   },
   {
    "duration": 173,
    "start_time": "2024-11-24T03:15:02.929Z"
   },
   {
    "duration": 83,
    "start_time": "2024-11-24T03:15:03.104Z"
   },
   {
    "duration": 111,
    "start_time": "2024-11-24T03:15:03.188Z"
   },
   {
    "duration": 17,
    "start_time": "2024-11-24T03:15:03.301Z"
   },
   {
    "duration": 428,
    "start_time": "2024-11-24T03:15:03.319Z"
   },
   {
    "duration": 56,
    "start_time": "2024-11-24T03:15:03.749Z"
   },
   {
    "duration": 11,
    "start_time": "2024-11-24T03:15:03.807Z"
   },
   {
    "duration": 10,
    "start_time": "2024-11-24T03:15:03.819Z"
   },
   {
    "duration": 24,
    "start_time": "2024-11-24T03:15:03.831Z"
   },
   {
    "duration": 3,
    "start_time": "2024-11-24T03:15:03.857Z"
   },
   {
    "duration": 28,
    "start_time": "2024-11-24T03:15:03.862Z"
   },
   {
    "duration": 1350277,
    "start_time": "2024-11-24T03:15:03.892Z"
   },
   {
    "duration": 5,
    "start_time": "2024-11-24T03:37:34.171Z"
   },
   {
    "duration": 44,
    "start_time": "2024-11-24T03:37:34.177Z"
   },
   {
    "duration": 13,
    "start_time": "2024-11-24T03:37:34.223Z"
   },
   {
    "duration": 25,
    "start_time": "2024-11-24T03:37:34.237Z"
   },
   {
    "duration": 22,
    "start_time": "2024-11-24T03:37:34.263Z"
   },
   {
    "duration": 10,
    "start_time": "2024-11-24T03:37:34.287Z"
   },
   {
    "duration": 17,
    "start_time": "2024-11-24T03:37:34.299Z"
   },
   {
    "duration": 400867,
    "start_time": "2024-11-24T03:37:34.318Z"
   },
   {
    "duration": 0,
    "start_time": "2024-11-24T03:44:15.187Z"
   },
   {
    "duration": 0,
    "start_time": "2024-11-24T03:44:15.189Z"
   },
   {
    "duration": 0,
    "start_time": "2024-11-24T03:44:15.190Z"
   },
   {
    "duration": 0,
    "start_time": "2024-11-24T03:44:15.192Z"
   },
   {
    "duration": 0,
    "start_time": "2024-11-24T03:44:15.193Z"
   },
   {
    "duration": 0,
    "start_time": "2024-11-24T03:44:15.195Z"
   },
   {
    "duration": 0,
    "start_time": "2024-11-24T03:44:15.196Z"
   },
   {
    "duration": 0,
    "start_time": "2024-11-24T03:44:15.198Z"
   },
   {
    "duration": 0,
    "start_time": "2024-11-24T03:44:15.218Z"
   },
   {
    "duration": 906802,
    "start_time": "2024-11-24T03:46:09.345Z"
   },
   {
    "duration": 18,
    "start_time": "2024-11-24T04:10:33.992Z"
   },
   {
    "duration": 4,
    "start_time": "2024-11-24T04:12:14.861Z"
   },
   {
    "duration": 3,
    "start_time": "2024-11-24T04:12:56.569Z"
   },
   {
    "duration": 8,
    "start_time": "2024-11-24T04:12:58.523Z"
   },
   {
    "duration": 3,
    "start_time": "2024-11-24T04:13:02.865Z"
   },
   {
    "duration": 6,
    "start_time": "2024-11-24T04:13:05.674Z"
   },
   {
    "duration": 12,
    "start_time": "2024-11-24T04:14:05.151Z"
   },
   {
    "duration": 15,
    "start_time": "2024-11-24T04:15:44.446Z"
   },
   {
    "duration": 2824,
    "start_time": "2024-11-24T04:21:25.328Z"
   },
   {
    "duration": 2558,
    "start_time": "2024-11-24T04:39:47.081Z"
   },
   {
    "duration": 2857,
    "start_time": "2024-11-24T04:39:49.642Z"
   },
   {
    "duration": 3259,
    "start_time": "2024-11-24T04:39:52.501Z"
   },
   {
    "duration": 1484,
    "start_time": "2024-11-24T04:39:55.763Z"
   },
   {
    "duration": 5,
    "start_time": "2024-11-24T04:39:57.252Z"
   },
   {
    "duration": 1009,
    "start_time": "2024-11-24T04:39:57.261Z"
   },
   {
    "duration": 17,
    "start_time": "2024-11-24T04:39:58.271Z"
   },
   {
    "duration": 82,
    "start_time": "2024-11-24T04:39:58.290Z"
   },
   {
    "duration": 105,
    "start_time": "2024-11-24T04:39:58.374Z"
   },
   {
    "duration": 178,
    "start_time": "2024-11-24T04:39:58.483Z"
   },
   {
    "duration": 568,
    "start_time": "2024-11-24T04:39:58.662Z"
   },
   {
    "duration": 1081,
    "start_time": "2024-11-24T04:39:59.233Z"
   },
   {
    "duration": 236,
    "start_time": "2024-11-24T04:40:00.317Z"
   },
   {
    "duration": 2,
    "start_time": "2024-11-24T04:40:00.555Z"
   },
   {
    "duration": 147,
    "start_time": "2024-11-24T04:40:00.559Z"
   },
   {
    "duration": 60,
    "start_time": "2024-11-24T04:40:00.708Z"
   },
   {
    "duration": 4,
    "start_time": "2024-11-24T04:40:00.770Z"
   },
   {
    "duration": 121,
    "start_time": "2024-11-24T04:40:00.776Z"
   },
   {
    "duration": 138,
    "start_time": "2024-11-24T04:40:00.898Z"
   },
   {
    "duration": 39,
    "start_time": "2024-11-24T04:40:01.038Z"
   },
   {
    "duration": 132,
    "start_time": "2024-11-24T04:40:01.079Z"
   },
   {
    "duration": 51,
    "start_time": "2024-11-24T04:40:01.212Z"
   },
   {
    "duration": 132,
    "start_time": "2024-11-24T04:40:01.264Z"
   },
   {
    "duration": 138,
    "start_time": "2024-11-24T04:40:01.397Z"
   },
   {
    "duration": 134,
    "start_time": "2024-11-24T04:40:01.537Z"
   },
   {
    "duration": 111,
    "start_time": "2024-11-24T04:40:01.673Z"
   },
   {
    "duration": 1073,
    "start_time": "2024-11-24T04:40:01.786Z"
   },
   {
    "duration": 10,
    "start_time": "2024-11-24T04:40:02.863Z"
   },
   {
    "duration": 32,
    "start_time": "2024-11-24T04:40:02.874Z"
   },
   {
    "duration": 26,
    "start_time": "2024-11-24T04:40:02.908Z"
   },
   {
    "duration": 1020,
    "start_time": "2024-11-24T04:40:02.936Z"
   },
   {
    "duration": 512,
    "start_time": "2024-11-24T04:40:03.958Z"
   },
   {
    "duration": 8,
    "start_time": "2024-11-24T04:40:04.472Z"
   },
   {
    "duration": 2,
    "start_time": "2024-11-24T04:40:04.482Z"
   },
   {
    "duration": 50,
    "start_time": "2024-11-24T04:40:04.486Z"
   },
   {
    "duration": 16,
    "start_time": "2024-11-24T04:40:04.538Z"
   },
   {
    "duration": 23,
    "start_time": "2024-11-24T04:40:04.555Z"
   },
   {
    "duration": 313,
    "start_time": "2024-11-24T04:40:04.580Z"
   },
   {
    "duration": 1137,
    "start_time": "2024-11-24T04:40:04.894Z"
   },
   {
    "duration": 414,
    "start_time": "2024-11-24T04:40:06.033Z"
   },
   {
    "duration": 27,
    "start_time": "2024-11-24T04:40:06.448Z"
   },
   {
    "duration": 276,
    "start_time": "2024-11-24T04:40:06.477Z"
   },
   {
    "duration": 11,
    "start_time": "2024-11-24T04:40:06.755Z"
   },
   {
    "duration": 183,
    "start_time": "2024-11-24T04:40:06.768Z"
   },
   {
    "duration": 173,
    "start_time": "2024-11-24T04:40:06.953Z"
   },
   {
    "duration": 156,
    "start_time": "2024-11-24T04:40:07.132Z"
   },
   {
    "duration": 176,
    "start_time": "2024-11-24T04:40:07.289Z"
   },
   {
    "duration": 93,
    "start_time": "2024-11-24T04:40:07.468Z"
   },
   {
    "duration": 133,
    "start_time": "2024-11-24T04:40:07.562Z"
   },
   {
    "duration": 26,
    "start_time": "2024-11-24T04:40:07.696Z"
   },
   {
    "duration": 402,
    "start_time": "2024-11-24T04:40:07.724Z"
   },
   {
    "duration": 58,
    "start_time": "2024-11-24T04:40:08.128Z"
   },
   {
    "duration": 3,
    "start_time": "2024-11-24T04:40:08.188Z"
   },
   {
    "duration": 4,
    "start_time": "2024-11-24T04:40:08.192Z"
   },
   {
    "duration": 7,
    "start_time": "2024-11-24T04:40:08.197Z"
   },
   {
    "duration": 21,
    "start_time": "2024-11-24T04:40:08.205Z"
   },
   {
    "duration": 20,
    "start_time": "2024-11-24T04:40:08.228Z"
   },
   {
    "duration": 1271543,
    "start_time": "2024-11-24T04:40:08.249Z"
   },
   {
    "duration": 4,
    "start_time": "2024-11-24T05:01:19.794Z"
   },
   {
    "duration": 19,
    "start_time": "2024-11-24T05:01:19.800Z"
   },
   {
    "duration": 12,
    "start_time": "2024-11-24T05:01:19.821Z"
   },
   {
    "duration": 13,
    "start_time": "2024-11-24T05:01:19.835Z"
   },
   {
    "duration": 6,
    "start_time": "2024-11-24T05:01:19.849Z"
   },
   {
    "duration": 6,
    "start_time": "2024-11-24T05:01:19.856Z"
   },
   {
    "duration": 14,
    "start_time": "2024-11-24T05:01:19.863Z"
   },
   {
    "duration": 2548747,
    "start_time": "2024-11-24T05:01:19.878Z"
   },
   {
    "duration": 4,
    "start_time": "2024-11-24T05:43:48.628Z"
   },
   {
    "duration": 12,
    "start_time": "2024-11-24T05:43:48.634Z"
   },
   {
    "duration": 14,
    "start_time": "2024-11-24T05:43:48.647Z"
   },
   {
    "duration": 5,
    "start_time": "2024-11-24T05:43:48.662Z"
   },
   {
    "duration": 2773,
    "start_time": "2024-11-24T05:43:48.668Z"
   },
   {
    "duration": 2,
    "start_time": "2024-11-24T05:43:51.443Z"
   },
   {
    "duration": 17,
    "start_time": "2024-11-24T05:43:51.447Z"
   },
   {
    "duration": 7,
    "start_time": "2024-11-24T05:43:51.469Z"
   },
   {
    "duration": 2968,
    "start_time": "2024-12-05T09:23:39.902Z"
   },
   {
    "duration": 20166,
    "start_time": "2024-12-05T09:23:42.872Z"
   },
   {
    "duration": 6779,
    "start_time": "2024-12-05T09:24:03.040Z"
   },
   {
    "duration": 1578,
    "start_time": "2024-12-05T09:24:09.821Z"
   },
   {
    "duration": 4,
    "start_time": "2024-12-05T09:24:11.401Z"
   },
   {
    "duration": 1332,
    "start_time": "2024-12-05T09:24:11.406Z"
   },
   {
    "duration": 15,
    "start_time": "2024-12-05T09:24:12.740Z"
   },
   {
    "duration": 67,
    "start_time": "2024-12-05T09:24:12.757Z"
   },
   {
    "duration": 86,
    "start_time": "2024-12-05T09:24:12.826Z"
   },
   {
    "duration": 144,
    "start_time": "2024-12-05T09:24:12.915Z"
   },
   {
    "duration": 455,
    "start_time": "2024-12-05T09:24:13.061Z"
   },
   {
    "duration": 975,
    "start_time": "2024-12-05T09:24:13.517Z"
   },
   {
    "duration": 201,
    "start_time": "2024-12-05T09:24:14.493Z"
   },
   {
    "duration": 3,
    "start_time": "2024-12-05T09:24:14.695Z"
   },
   {
    "duration": 109,
    "start_time": "2024-12-05T09:24:14.700Z"
   },
   {
    "duration": 32,
    "start_time": "2024-12-05T09:24:14.810Z"
   },
   {
    "duration": 5,
    "start_time": "2024-12-05T09:24:14.843Z"
   },
   {
    "duration": 112,
    "start_time": "2024-12-05T09:24:14.850Z"
   },
   {
    "duration": 158,
    "start_time": "2024-12-05T09:24:14.964Z"
   },
   {
    "duration": 37,
    "start_time": "2024-12-05T09:24:15.124Z"
   },
   {
    "duration": 139,
    "start_time": "2024-12-05T09:24:15.163Z"
   },
   {
    "duration": 40,
    "start_time": "2024-12-05T09:24:15.304Z"
   },
   {
    "duration": 132,
    "start_time": "2024-12-05T09:24:15.345Z"
   },
   {
    "duration": 132,
    "start_time": "2024-12-05T09:24:15.478Z"
   },
   {
    "duration": 125,
    "start_time": "2024-12-05T09:24:15.611Z"
   },
   {
    "duration": 105,
    "start_time": "2024-12-05T09:24:15.738Z"
   },
   {
    "duration": 953,
    "start_time": "2024-12-05T09:24:15.845Z"
   },
   {
    "duration": 10,
    "start_time": "2024-12-05T09:24:16.802Z"
   },
   {
    "duration": 11,
    "start_time": "2024-12-05T09:24:16.814Z"
   },
   {
    "duration": 25,
    "start_time": "2024-12-05T09:24:16.827Z"
   },
   {
    "duration": 921,
    "start_time": "2024-12-05T09:24:16.853Z"
   },
   {
    "duration": 505,
    "start_time": "2024-12-05T09:24:17.775Z"
   },
   {
    "duration": 12,
    "start_time": "2024-12-05T09:24:18.281Z"
   },
   {
    "duration": 9,
    "start_time": "2024-12-05T09:24:18.295Z"
   },
   {
    "duration": 39,
    "start_time": "2024-12-05T09:24:18.305Z"
   },
   {
    "duration": 15,
    "start_time": "2024-12-05T09:24:18.346Z"
   },
   {
    "duration": 67,
    "start_time": "2024-12-05T09:24:18.362Z"
   },
   {
    "duration": 262,
    "start_time": "2024-12-05T09:24:18.430Z"
   },
   {
    "duration": 956,
    "start_time": "2024-12-05T09:24:18.694Z"
   },
   {
    "duration": 359,
    "start_time": "2024-12-05T09:24:19.652Z"
   },
   {
    "duration": 26,
    "start_time": "2024-12-05T09:24:20.013Z"
   },
   {
    "duration": 228,
    "start_time": "2024-12-05T09:24:20.041Z"
   },
   {
    "duration": 11,
    "start_time": "2024-12-05T09:24:20.271Z"
   },
   {
    "duration": 170,
    "start_time": "2024-12-05T09:24:20.283Z"
   },
   {
    "duration": 147,
    "start_time": "2024-12-05T09:24:20.455Z"
   },
   {
    "duration": 174,
    "start_time": "2024-12-05T09:24:20.605Z"
   },
   {
    "duration": 140,
    "start_time": "2024-12-05T09:24:20.780Z"
   },
   {
    "duration": 83,
    "start_time": "2024-12-05T09:24:20.921Z"
   },
   {
    "duration": 124,
    "start_time": "2024-12-05T09:24:21.005Z"
   },
   {
    "duration": 14,
    "start_time": "2024-12-05T09:24:21.131Z"
   },
   {
    "duration": 367,
    "start_time": "2024-12-05T09:24:21.147Z"
   },
   {
    "duration": 56,
    "start_time": "2024-12-05T09:24:21.516Z"
   },
   {
    "duration": 28,
    "start_time": "2024-12-05T09:24:21.574Z"
   },
   {
    "duration": 22,
    "start_time": "2024-12-05T09:24:21.604Z"
   },
   {
    "duration": 22,
    "start_time": "2024-12-05T09:24:21.628Z"
   },
   {
    "duration": 9,
    "start_time": "2024-12-05T09:24:21.652Z"
   },
   {
    "duration": 12,
    "start_time": "2024-12-05T09:24:21.663Z"
   },
   {
    "duration": 1342575,
    "start_time": "2024-12-05T09:24:21.676Z"
   },
   {
    "duration": 4,
    "start_time": "2024-12-05T09:46:44.252Z"
   },
   {
    "duration": 16,
    "start_time": "2024-12-05T09:46:44.258Z"
   },
   {
    "duration": 24,
    "start_time": "2024-12-05T09:46:44.275Z"
   },
   {
    "duration": 12,
    "start_time": "2024-12-05T09:46:44.303Z"
   },
   {
    "duration": 7,
    "start_time": "2024-12-05T09:46:44.317Z"
   },
   {
    "duration": 127,
    "start_time": "2024-12-05T09:46:44.325Z"
   },
   {
    "duration": 0,
    "start_time": "2024-12-05T09:46:44.453Z"
   },
   {
    "duration": 0,
    "start_time": "2024-12-05T09:46:44.454Z"
   },
   {
    "duration": 1,
    "start_time": "2024-12-05T09:46:44.455Z"
   },
   {
    "duration": 0,
    "start_time": "2024-12-05T09:46:44.456Z"
   },
   {
    "duration": 0,
    "start_time": "2024-12-05T09:46:44.457Z"
   },
   {
    "duration": 0,
    "start_time": "2024-12-05T09:46:44.459Z"
   },
   {
    "duration": 0,
    "start_time": "2024-12-05T09:46:44.460Z"
   },
   {
    "duration": 857971,
    "start_time": "2024-12-05T10:28:43.627Z"
   },
   {
    "duration": 6,
    "start_time": "2024-12-05T10:43:01.600Z"
   },
   {
    "duration": 21,
    "start_time": "2024-12-05T10:43:01.608Z"
   },
   {
    "duration": 32,
    "start_time": "2024-12-05T10:43:01.631Z"
   },
   {
    "duration": 36,
    "start_time": "2024-12-05T10:43:01.666Z"
   },
   {
    "duration": 142,
    "start_time": "2024-12-05T10:43:01.704Z"
   },
   {
    "duration": 773,
    "start_time": "2024-12-05T10:43:01.848Z"
   },
   {
    "duration": 0,
    "start_time": "2024-12-05T10:43:02.623Z"
   },
   {
    "duration": 33795,
    "start_time": "2024-12-05T10:59:54.370Z"
   },
   {
    "duration": 86,
    "start_time": "2024-12-05T11:00:28.167Z"
   },
   {
    "duration": 5,
    "start_time": "2024-12-05T11:02:51.071Z"
   },
   {
    "duration": 148,
    "start_time": "2024-12-05T11:43:17.076Z"
   },
   {
    "duration": 136,
    "start_time": "2024-12-05T11:44:26.763Z"
   },
   {
    "duration": 11,
    "start_time": "2024-12-05T11:45:57.435Z"
   },
   {
    "duration": 4027,
    "start_time": "2024-12-05T11:57:25.030Z"
   },
   {
    "duration": 2828,
    "start_time": "2024-12-05T11:57:29.059Z"
   },
   {
    "duration": 2972,
    "start_time": "2024-12-05T11:57:31.888Z"
   },
   {
    "duration": 1378,
    "start_time": "2024-12-05T11:57:34.863Z"
   },
   {
    "duration": 4,
    "start_time": "2024-12-05T11:57:36.243Z"
   },
   {
    "duration": 961,
    "start_time": "2024-12-05T11:57:36.248Z"
   },
   {
    "duration": 18,
    "start_time": "2024-12-05T11:57:37.210Z"
   },
   {
    "duration": 74,
    "start_time": "2024-12-05T11:57:37.229Z"
   },
   {
    "duration": 136,
    "start_time": "2024-12-05T11:57:37.304Z"
   },
   {
    "duration": 158,
    "start_time": "2024-12-05T11:57:37.442Z"
   },
   {
    "duration": 475,
    "start_time": "2024-12-05T11:57:37.601Z"
   },
   {
    "duration": 1018,
    "start_time": "2024-12-05T11:57:38.078Z"
   },
   {
    "duration": 207,
    "start_time": "2024-12-05T11:57:39.097Z"
   },
   {
    "duration": 3,
    "start_time": "2024-12-05T11:57:39.305Z"
   },
   {
    "duration": 109,
    "start_time": "2024-12-05T11:57:39.309Z"
   },
   {
    "duration": 31,
    "start_time": "2024-12-05T11:57:39.420Z"
   },
   {
    "duration": 4,
    "start_time": "2024-12-05T11:57:39.452Z"
   },
   {
    "duration": 106,
    "start_time": "2024-12-05T11:57:39.458Z"
   },
   {
    "duration": 122,
    "start_time": "2024-12-05T11:57:39.566Z"
   },
   {
    "duration": 38,
    "start_time": "2024-12-05T11:57:39.692Z"
   },
   {
    "duration": 121,
    "start_time": "2024-12-05T11:57:39.732Z"
   },
   {
    "duration": 42,
    "start_time": "2024-12-05T11:57:39.855Z"
   },
   {
    "duration": 122,
    "start_time": "2024-12-05T11:57:39.898Z"
   },
   {
    "duration": 120,
    "start_time": "2024-12-05T11:57:40.021Z"
   },
   {
    "duration": 118,
    "start_time": "2024-12-05T11:57:40.142Z"
   },
   {
    "duration": 96,
    "start_time": "2024-12-05T11:57:40.262Z"
   },
   {
    "duration": 979,
    "start_time": "2024-12-05T11:57:40.360Z"
   },
   {
    "duration": 9,
    "start_time": "2024-12-05T11:57:41.343Z"
   },
   {
    "duration": 13,
    "start_time": "2024-12-05T11:57:41.354Z"
   },
   {
    "duration": 44,
    "start_time": "2024-12-05T11:57:41.369Z"
   },
   {
    "duration": 907,
    "start_time": "2024-12-05T11:57:41.415Z"
   },
   {
    "duration": 472,
    "start_time": "2024-12-05T11:57:42.324Z"
   },
   {
    "duration": 7,
    "start_time": "2024-12-05T11:57:42.798Z"
   },
   {
    "duration": 32,
    "start_time": "2024-12-05T11:57:42.807Z"
   },
   {
    "duration": 14,
    "start_time": "2024-12-05T11:57:42.840Z"
   },
   {
    "duration": 45,
    "start_time": "2024-12-05T11:57:42.856Z"
   },
   {
    "duration": 259,
    "start_time": "2024-12-05T11:57:42.902Z"
   },
   {
    "duration": 987,
    "start_time": "2024-12-05T11:57:43.163Z"
   },
   {
    "duration": 368,
    "start_time": "2024-12-05T11:57:44.151Z"
   },
   {
    "duration": 26,
    "start_time": "2024-12-05T11:57:44.521Z"
   },
   {
    "duration": 224,
    "start_time": "2024-12-05T11:57:44.549Z"
   },
   {
    "duration": 18,
    "start_time": "2024-12-05T11:57:44.774Z"
   },
   {
    "duration": 139,
    "start_time": "2024-12-05T11:57:44.794Z"
   },
   {
    "duration": 148,
    "start_time": "2024-12-05T11:57:44.934Z"
   },
   {
    "duration": 156,
    "start_time": "2024-12-05T11:57:45.084Z"
   },
   {
    "duration": 143,
    "start_time": "2024-12-05T11:57:45.241Z"
   },
   {
    "duration": 82,
    "start_time": "2024-12-05T11:57:45.385Z"
   },
   {
    "duration": 107,
    "start_time": "2024-12-05T11:57:45.468Z"
   },
   {
    "duration": 18,
    "start_time": "2024-12-05T11:57:45.576Z"
   },
   {
    "duration": 364,
    "start_time": "2024-12-05T11:57:45.595Z"
   },
   {
    "duration": 66,
    "start_time": "2024-12-05T11:57:45.961Z"
   },
   {
    "duration": 4,
    "start_time": "2024-12-05T11:57:46.028Z"
   },
   {
    "duration": 25,
    "start_time": "2024-12-05T11:57:46.033Z"
   },
   {
    "duration": 6,
    "start_time": "2024-12-05T11:57:46.060Z"
   },
   {
    "duration": 3,
    "start_time": "2024-12-05T11:57:46.068Z"
   },
   {
    "duration": 4,
    "start_time": "2024-12-05T11:57:46.073Z"
   },
   {
    "duration": 1337467,
    "start_time": "2024-12-05T11:57:46.079Z"
   },
   {
    "duration": 4,
    "start_time": "2024-12-05T12:20:03.547Z"
   },
   {
    "duration": 19,
    "start_time": "2024-12-05T12:20:03.553Z"
   },
   {
    "duration": 60,
    "start_time": "2024-12-05T12:20:03.574Z"
   },
   {
    "duration": 25,
    "start_time": "2024-12-05T12:20:03.636Z"
   },
   {
    "duration": 91,
    "start_time": "2024-12-05T12:20:03.662Z"
   },
   {
    "duration": 836573,
    "start_time": "2024-12-05T12:20:03.754Z"
   },
   {
    "duration": 11,
    "start_time": "2024-12-05T12:34:00.329Z"
   },
   {
    "duration": 3,
    "start_time": "2024-12-05T12:34:00.391Z"
   },
   {
    "duration": 40,
    "start_time": "2024-12-05T12:34:00.396Z"
   },
   {
    "duration": 44,
    "start_time": "2024-12-05T12:34:00.438Z"
   },
   {
    "duration": 65,
    "start_time": "2024-12-05T12:34:00.484Z"
   },
   {
    "duration": 6783,
    "start_time": "2024-12-05T12:34:00.551Z"
   },
   {
    "duration": 22,
    "start_time": "2024-12-05T12:34:07.336Z"
   },
   {
    "duration": 55,
    "start_time": "2024-12-07T04:34:10.816Z"
   },
   {
    "duration": 3130,
    "start_time": "2024-12-07T04:34:30.007Z"
   },
   {
    "duration": 20952,
    "start_time": "2024-12-07T04:34:33.139Z"
   },
   {
    "duration": 7054,
    "start_time": "2024-12-07T04:34:54.093Z"
   },
   {
    "duration": 1603,
    "start_time": "2024-12-07T04:35:01.150Z"
   },
   {
    "duration": 4,
    "start_time": "2024-12-07T04:35:02.754Z"
   },
   {
    "duration": 3101,
    "start_time": "2024-12-07T04:35:02.759Z"
   },
   {
    "duration": 157,
    "start_time": "2024-12-07T04:35:05.862Z"
   },
   {
    "duration": 16,
    "start_time": "2024-12-07T04:35:06.021Z"
   },
   {
    "duration": 97,
    "start_time": "2024-12-07T04:44:57.494Z"
   },
   {
    "duration": 22,
    "start_time": "2024-12-07T04:45:11.218Z"
   },
   {
    "duration": 22,
    "start_time": "2024-12-07T04:45:21.240Z"
   },
   {
    "duration": 5,
    "start_time": "2024-12-07T04:47:38.961Z"
   },
   {
    "duration": 93,
    "start_time": "2024-12-07T05:14:38.641Z"
   },
   {
    "duration": 581,
    "start_time": "2024-12-07T05:14:48.133Z"
   },
   {
    "duration": 2549,
    "start_time": "2024-12-07T05:16:17.011Z"
   },
   {
    "duration": 2709,
    "start_time": "2024-12-07T05:16:19.562Z"
   },
   {
    "duration": 3169,
    "start_time": "2024-12-07T05:16:22.273Z"
   },
   {
    "duration": 1315,
    "start_time": "2024-12-07T05:16:25.444Z"
   },
   {
    "duration": 3,
    "start_time": "2024-12-07T05:16:26.761Z"
   },
   {
    "duration": 971,
    "start_time": "2024-12-07T05:16:26.766Z"
   },
   {
    "duration": 163,
    "start_time": "2024-12-07T05:16:27.739Z"
   },
   {
    "duration": 15,
    "start_time": "2024-12-07T05:16:27.903Z"
   },
   {
    "duration": 83,
    "start_time": "2024-12-07T05:16:27.919Z"
   },
   {
    "duration": 103,
    "start_time": "2024-12-07T05:16:28.004Z"
   },
   {
    "duration": 194,
    "start_time": "2024-12-07T05:16:28.108Z"
   },
   {
    "duration": 454,
    "start_time": "2024-12-07T05:16:28.303Z"
   },
   {
    "duration": 1015,
    "start_time": "2024-12-07T05:16:28.759Z"
   },
   {
    "duration": 230,
    "start_time": "2024-12-07T05:16:29.776Z"
   },
   {
    "duration": 2,
    "start_time": "2024-12-07T05:16:30.008Z"
   },
   {
    "duration": 235,
    "start_time": "2024-12-07T05:16:30.012Z"
   },
   {
    "duration": 45,
    "start_time": "2024-12-07T05:16:30.249Z"
   },
   {
    "duration": 4,
    "start_time": "2024-12-07T05:16:30.296Z"
   },
   {
    "duration": 203,
    "start_time": "2024-12-07T05:16:30.302Z"
   },
   {
    "duration": 155,
    "start_time": "2024-12-07T05:16:30.507Z"
   },
   {
    "duration": 41,
    "start_time": "2024-12-07T05:16:30.663Z"
   },
   {
    "duration": 167,
    "start_time": "2024-12-07T05:16:30.706Z"
   },
   {
    "duration": 40,
    "start_time": "2024-12-07T05:16:30.875Z"
   },
   {
    "duration": 166,
    "start_time": "2024-12-07T05:16:30.917Z"
   },
   {
    "duration": 124,
    "start_time": "2024-12-07T05:16:31.088Z"
   },
   {
    "duration": 121,
    "start_time": "2024-12-07T05:16:31.213Z"
   },
   {
    "duration": 98,
    "start_time": "2024-12-07T05:16:31.336Z"
   },
   {
    "duration": 1079,
    "start_time": "2024-12-07T05:16:31.438Z"
   },
   {
    "duration": 11,
    "start_time": "2024-12-07T05:16:32.519Z"
   },
   {
    "duration": 33,
    "start_time": "2024-12-07T05:16:32.531Z"
   },
   {
    "duration": 38,
    "start_time": "2024-12-07T05:16:32.566Z"
   },
   {
    "duration": 973,
    "start_time": "2024-12-07T05:16:32.606Z"
   },
   {
    "duration": 465,
    "start_time": "2024-12-07T05:16:33.581Z"
   },
   {
    "duration": 8,
    "start_time": "2024-12-07T05:16:34.048Z"
   },
   {
    "duration": 131,
    "start_time": "2024-12-07T05:16:34.058Z"
   },
   {
    "duration": 19,
    "start_time": "2024-12-07T05:16:34.190Z"
   },
   {
    "duration": 77,
    "start_time": "2024-12-07T05:16:34.211Z"
   },
   {
    "duration": 383,
    "start_time": "2024-12-07T05:16:34.290Z"
   },
   {
    "duration": 1051,
    "start_time": "2024-12-07T05:16:34.676Z"
   },
   {
    "duration": 385,
    "start_time": "2024-12-07T05:16:35.728Z"
   },
   {
    "duration": 27,
    "start_time": "2024-12-07T05:16:36.115Z"
   },
   {
    "duration": 266,
    "start_time": "2024-12-07T05:16:36.143Z"
   },
   {
    "duration": 11,
    "start_time": "2024-12-07T05:16:36.411Z"
   },
   {
    "duration": 184,
    "start_time": "2024-12-07T05:16:36.423Z"
   },
   {
    "duration": 158,
    "start_time": "2024-12-07T05:16:36.609Z"
   },
   {
    "duration": 155,
    "start_time": "2024-12-07T05:16:36.768Z"
   },
   {
    "duration": 149,
    "start_time": "2024-12-07T05:16:36.925Z"
   },
   {
    "duration": 153,
    "start_time": "2024-12-07T05:16:37.075Z"
   },
   {
    "duration": 183,
    "start_time": "2024-12-07T05:16:37.230Z"
   },
   {
    "duration": 14,
    "start_time": "2024-12-07T05:16:37.415Z"
   },
   {
    "duration": 67,
    "start_time": "2024-12-07T05:16:37.430Z"
   },
   {
    "duration": 78,
    "start_time": "2024-12-07T05:16:37.499Z"
   },
   {
    "duration": 3,
    "start_time": "2024-12-07T05:16:37.579Z"
   },
   {
    "duration": 17,
    "start_time": "2024-12-07T05:16:37.584Z"
   },
   {
    "duration": 24,
    "start_time": "2024-12-07T05:16:37.603Z"
   },
   {
    "duration": 33,
    "start_time": "2024-12-07T05:16:37.629Z"
   },
   {
    "duration": 35,
    "start_time": "2024-12-07T05:16:37.663Z"
   },
   {
    "duration": 1320643,
    "start_time": "2024-12-07T05:16:37.700Z"
   },
   {
    "duration": 5,
    "start_time": "2024-12-07T05:38:38.345Z"
   },
   {
    "duration": 51,
    "start_time": "2024-12-07T05:38:38.351Z"
   },
   {
    "duration": 25,
    "start_time": "2024-12-07T05:38:38.405Z"
   },
   {
    "duration": 35,
    "start_time": "2024-12-07T05:38:38.432Z"
   },
   {
    "duration": 42,
    "start_time": "2024-12-07T05:38:38.468Z"
   },
   {
    "duration": 490244,
    "start_time": "2024-12-07T05:38:38.512Z"
   },
   {
    "duration": 0,
    "start_time": "2024-12-07T05:46:48.758Z"
   },
   {
    "duration": 0,
    "start_time": "2024-12-07T05:46:48.759Z"
   },
   {
    "duration": 0,
    "start_time": "2024-12-07T05:46:48.760Z"
   },
   {
    "duration": 0,
    "start_time": "2024-12-07T05:46:48.761Z"
   },
   {
    "duration": 0,
    "start_time": "2024-12-07T05:46:48.763Z"
   },
   {
    "duration": 0,
    "start_time": "2024-12-07T05:46:48.764Z"
   },
   {
    "duration": 0,
    "start_time": "2024-12-07T05:46:48.765Z"
   },
   {
    "duration": 2880,
    "start_time": "2024-12-08T04:26:58.463Z"
   },
   {
    "duration": 19148,
    "start_time": "2024-12-08T04:27:01.345Z"
   },
   {
    "duration": 6858,
    "start_time": "2024-12-08T04:27:20.495Z"
   },
   {
    "duration": 1641,
    "start_time": "2024-12-08T04:27:27.356Z"
   },
   {
    "duration": 3,
    "start_time": "2024-12-08T04:27:28.998Z"
   },
   {
    "duration": 3098,
    "start_time": "2024-12-08T04:27:29.003Z"
   },
   {
    "duration": 148,
    "start_time": "2024-12-08T04:27:32.103Z"
   },
   {
    "duration": 28,
    "start_time": "2024-12-08T04:27:32.252Z"
   },
   {
    "duration": 68,
    "start_time": "2024-12-08T04:27:32.281Z"
   },
   {
    "duration": 138,
    "start_time": "2024-12-08T04:27:32.351Z"
   },
   {
    "duration": 156,
    "start_time": "2024-12-08T04:27:32.490Z"
   },
   {
    "duration": 456,
    "start_time": "2024-12-08T04:27:32.648Z"
   },
   {
    "duration": 1023,
    "start_time": "2024-12-08T04:27:33.106Z"
   },
   {
    "duration": 907,
    "start_time": "2024-12-08T04:27:34.131Z"
   },
   {
    "duration": 221,
    "start_time": "2024-12-08T04:27:35.040Z"
   },
   {
    "duration": 3,
    "start_time": "2024-12-08T04:27:35.263Z"
   },
   {
    "duration": 109,
    "start_time": "2024-12-08T04:27:35.268Z"
   },
   {
    "duration": 36,
    "start_time": "2024-12-08T04:27:35.379Z"
   },
   {
    "duration": 4,
    "start_time": "2024-12-08T04:27:35.416Z"
   },
   {
    "duration": 105,
    "start_time": "2024-12-08T04:27:35.422Z"
   },
   {
    "duration": 123,
    "start_time": "2024-12-08T04:27:35.529Z"
   },
   {
    "duration": 43,
    "start_time": "2024-12-08T04:27:35.654Z"
   },
   {
    "duration": 190,
    "start_time": "2024-12-08T04:27:35.698Z"
   },
   {
    "duration": 38,
    "start_time": "2024-12-08T04:27:35.890Z"
   },
   {
    "duration": 171,
    "start_time": "2024-12-08T04:27:35.929Z"
   },
   {
    "duration": 118,
    "start_time": "2024-12-08T04:27:36.102Z"
   },
   {
    "duration": 122,
    "start_time": "2024-12-08T04:27:36.221Z"
   },
   {
    "duration": 104,
    "start_time": "2024-12-08T04:27:36.347Z"
   },
   {
    "duration": 995,
    "start_time": "2024-12-08T04:27:36.453Z"
   },
   {
    "duration": 10,
    "start_time": "2024-12-08T04:27:37.450Z"
   },
   {
    "duration": 12,
    "start_time": "2024-12-08T04:27:37.461Z"
   },
   {
    "duration": 27,
    "start_time": "2024-12-08T04:27:37.488Z"
   },
   {
    "duration": 947,
    "start_time": "2024-12-08T04:27:37.517Z"
   },
   {
    "duration": 440,
    "start_time": "2024-12-08T04:27:38.466Z"
   },
   {
    "duration": 1561,
    "start_time": "2024-12-08T04:27:38.907Z"
   },
   {
    "duration": 0,
    "start_time": "2024-12-08T04:27:40.470Z"
   },
   {
    "duration": 0,
    "start_time": "2024-12-08T04:27:40.471Z"
   },
   {
    "duration": 0,
    "start_time": "2024-12-08T04:27:40.472Z"
   },
   {
    "duration": 0,
    "start_time": "2024-12-08T04:27:40.473Z"
   },
   {
    "duration": 0,
    "start_time": "2024-12-08T04:27:40.474Z"
   },
   {
    "duration": 0,
    "start_time": "2024-12-08T04:27:40.476Z"
   },
   {
    "duration": 0,
    "start_time": "2024-12-08T04:27:40.477Z"
   },
   {
    "duration": 0,
    "start_time": "2024-12-08T04:27:40.478Z"
   },
   {
    "duration": 0,
    "start_time": "2024-12-08T04:27:40.479Z"
   },
   {
    "duration": 0,
    "start_time": "2024-12-08T04:27:40.480Z"
   },
   {
    "duration": 0,
    "start_time": "2024-12-08T04:27:40.481Z"
   },
   {
    "duration": 0,
    "start_time": "2024-12-08T04:27:40.483Z"
   },
   {
    "duration": 0,
    "start_time": "2024-12-08T04:27:40.484Z"
   },
   {
    "duration": 0,
    "start_time": "2024-12-08T04:27:40.485Z"
   },
   {
    "duration": 0,
    "start_time": "2024-12-08T04:27:40.487Z"
   },
   {
    "duration": 0,
    "start_time": "2024-12-08T04:27:40.488Z"
   },
   {
    "duration": 0,
    "start_time": "2024-12-08T04:27:40.489Z"
   },
   {
    "duration": 0,
    "start_time": "2024-12-08T04:27:40.490Z"
   },
   {
    "duration": 0,
    "start_time": "2024-12-08T04:27:40.491Z"
   },
   {
    "duration": 0,
    "start_time": "2024-12-08T04:27:40.492Z"
   },
   {
    "duration": 0,
    "start_time": "2024-12-08T04:27:40.494Z"
   },
   {
    "duration": 0,
    "start_time": "2024-12-08T04:27:40.496Z"
   },
   {
    "duration": 0,
    "start_time": "2024-12-08T04:27:40.496Z"
   },
   {
    "duration": 0,
    "start_time": "2024-12-08T04:27:40.498Z"
   },
   {
    "duration": 0,
    "start_time": "2024-12-08T04:27:40.499Z"
   },
   {
    "duration": 0,
    "start_time": "2024-12-08T04:27:40.500Z"
   },
   {
    "duration": 0,
    "start_time": "2024-12-08T04:27:40.501Z"
   },
   {
    "duration": 0,
    "start_time": "2024-12-08T04:27:40.503Z"
   },
   {
    "duration": 0,
    "start_time": "2024-12-08T04:27:40.504Z"
   },
   {
    "duration": 0,
    "start_time": "2024-12-08T04:27:40.507Z"
   },
   {
    "duration": 0,
    "start_time": "2024-12-08T04:27:40.509Z"
   },
   {
    "duration": 0,
    "start_time": "2024-12-08T04:27:40.510Z"
   },
   {
    "duration": 0,
    "start_time": "2024-12-08T04:27:40.512Z"
   },
   {
    "duration": 0,
    "start_time": "2024-12-08T04:27:40.514Z"
   },
   {
    "duration": 0,
    "start_time": "2024-12-08T04:27:40.516Z"
   },
   {
    "duration": 0,
    "start_time": "2024-12-08T04:27:40.517Z"
   },
   {
    "duration": 0,
    "start_time": "2024-12-08T04:27:40.518Z"
   },
   {
    "duration": 0,
    "start_time": "2024-12-08T04:27:40.520Z"
   },
   {
    "duration": 0,
    "start_time": "2024-12-08T04:27:40.522Z"
   },
   {
    "duration": 0,
    "start_time": "2024-12-08T04:27:40.523Z"
   },
   {
    "duration": 0,
    "start_time": "2024-12-08T04:27:40.525Z"
   },
   {
    "duration": 4,
    "start_time": "2024-12-08T04:35:08.284Z"
   },
   {
    "duration": 1576,
    "start_time": "2024-12-08T04:36:11.800Z"
   },
   {
    "duration": 1510,
    "start_time": "2024-12-08T04:44:00.400Z"
   },
   {
    "duration": 1505,
    "start_time": "2024-12-08T04:44:52.532Z"
   },
   {
    "duration": 2567,
    "start_time": "2024-12-08T04:45:12.235Z"
   },
   {
    "duration": 2815,
    "start_time": "2024-12-08T04:45:14.804Z"
   },
   {
    "duration": 3044,
    "start_time": "2024-12-08T04:45:17.622Z"
   },
   {
    "duration": 1411,
    "start_time": "2024-12-08T04:45:20.669Z"
   },
   {
    "duration": 8,
    "start_time": "2024-12-08T04:45:22.081Z"
   },
   {
    "duration": 923,
    "start_time": "2024-12-08T04:45:22.091Z"
   },
   {
    "duration": 155,
    "start_time": "2024-12-08T04:45:23.015Z"
   },
   {
    "duration": 23,
    "start_time": "2024-12-08T04:45:23.172Z"
   },
   {
    "duration": 66,
    "start_time": "2024-12-08T04:45:23.197Z"
   },
   {
    "duration": 149,
    "start_time": "2024-12-08T04:45:23.265Z"
   },
   {
    "duration": 158,
    "start_time": "2024-12-08T04:45:23.416Z"
   },
   {
    "duration": 454,
    "start_time": "2024-12-08T04:45:23.576Z"
   },
   {
    "duration": 1074,
    "start_time": "2024-12-08T04:45:24.031Z"
   },
   {
    "duration": 856,
    "start_time": "2024-12-08T04:45:25.107Z"
   },
   {
    "duration": 224,
    "start_time": "2024-12-08T04:45:25.965Z"
   },
   {
    "duration": 108,
    "start_time": "2024-12-08T04:45:26.191Z"
   },
   {
    "duration": 30,
    "start_time": "2024-12-08T04:45:26.301Z"
   },
   {
    "duration": 30,
    "start_time": "2024-12-08T04:45:26.333Z"
   },
   {
    "duration": 5,
    "start_time": "2024-12-08T04:45:26.364Z"
   },
   {
    "duration": 105,
    "start_time": "2024-12-08T04:45:26.388Z"
   },
   {
    "duration": 120,
    "start_time": "2024-12-08T04:45:26.495Z"
   },
   {
    "duration": 40,
    "start_time": "2024-12-08T04:45:26.616Z"
   },
   {
    "duration": 132,
    "start_time": "2024-12-08T04:45:26.658Z"
   },
   {
    "duration": 40,
    "start_time": "2024-12-08T04:45:26.791Z"
   },
   {
    "duration": 134,
    "start_time": "2024-12-08T04:45:26.832Z"
   },
   {
    "duration": 124,
    "start_time": "2024-12-08T04:45:26.967Z"
   },
   {
    "duration": 115,
    "start_time": "2024-12-08T04:45:27.093Z"
   },
   {
    "duration": 102,
    "start_time": "2024-12-08T04:45:27.212Z"
   },
   {
    "duration": 1004,
    "start_time": "2024-12-08T04:45:27.315Z"
   },
   {
    "duration": 10,
    "start_time": "2024-12-08T04:45:28.321Z"
   },
   {
    "duration": 12,
    "start_time": "2024-12-08T04:45:28.332Z"
   },
   {
    "duration": 52,
    "start_time": "2024-12-08T04:45:28.345Z"
   },
   {
    "duration": 968,
    "start_time": "2024-12-08T04:45:28.399Z"
   },
   {
    "duration": 468,
    "start_time": "2024-12-08T04:45:29.368Z"
   },
   {
    "duration": 1623,
    "start_time": "2024-12-08T04:45:29.838Z"
   },
   {
    "duration": 0,
    "start_time": "2024-12-08T04:45:31.462Z"
   },
   {
    "duration": 0,
    "start_time": "2024-12-08T04:45:31.463Z"
   },
   {
    "duration": 0,
    "start_time": "2024-12-08T04:45:31.465Z"
   },
   {
    "duration": 0,
    "start_time": "2024-12-08T04:45:31.465Z"
   },
   {
    "duration": 0,
    "start_time": "2024-12-08T04:45:31.467Z"
   },
   {
    "duration": 0,
    "start_time": "2024-12-08T04:45:31.468Z"
   },
   {
    "duration": 0,
    "start_time": "2024-12-08T04:45:31.470Z"
   },
   {
    "duration": 0,
    "start_time": "2024-12-08T04:45:31.471Z"
   },
   {
    "duration": 0,
    "start_time": "2024-12-08T04:45:31.472Z"
   },
   {
    "duration": 0,
    "start_time": "2024-12-08T04:45:31.473Z"
   },
   {
    "duration": 0,
    "start_time": "2024-12-08T04:45:31.475Z"
   },
   {
    "duration": 0,
    "start_time": "2024-12-08T04:45:31.476Z"
   },
   {
    "duration": 0,
    "start_time": "2024-12-08T04:45:31.477Z"
   },
   {
    "duration": 0,
    "start_time": "2024-12-08T04:45:31.478Z"
   },
   {
    "duration": 0,
    "start_time": "2024-12-08T04:45:31.479Z"
   },
   {
    "duration": 0,
    "start_time": "2024-12-08T04:45:31.480Z"
   },
   {
    "duration": 0,
    "start_time": "2024-12-08T04:45:31.482Z"
   },
   {
    "duration": 0,
    "start_time": "2024-12-08T04:45:31.483Z"
   },
   {
    "duration": 0,
    "start_time": "2024-12-08T04:45:31.484Z"
   },
   {
    "duration": 0,
    "start_time": "2024-12-08T04:45:31.485Z"
   },
   {
    "duration": 0,
    "start_time": "2024-12-08T04:45:31.486Z"
   },
   {
    "duration": 0,
    "start_time": "2024-12-08T04:45:31.488Z"
   },
   {
    "duration": 0,
    "start_time": "2024-12-08T04:45:31.489Z"
   },
   {
    "duration": 0,
    "start_time": "2024-12-08T04:45:31.491Z"
   },
   {
    "duration": 0,
    "start_time": "2024-12-08T04:45:31.492Z"
   },
   {
    "duration": 0,
    "start_time": "2024-12-08T04:45:31.493Z"
   },
   {
    "duration": 0,
    "start_time": "2024-12-08T04:45:31.494Z"
   },
   {
    "duration": 0,
    "start_time": "2024-12-08T04:45:31.495Z"
   },
   {
    "duration": 0,
    "start_time": "2024-12-08T04:45:31.497Z"
   },
   {
    "duration": 0,
    "start_time": "2024-12-08T04:45:31.498Z"
   },
   {
    "duration": 0,
    "start_time": "2024-12-08T04:45:31.499Z"
   },
   {
    "duration": 0,
    "start_time": "2024-12-08T04:45:31.500Z"
   },
   {
    "duration": 0,
    "start_time": "2024-12-08T04:45:31.502Z"
   },
   {
    "duration": 0,
    "start_time": "2024-12-08T04:45:31.503Z"
   },
   {
    "duration": 0,
    "start_time": "2024-12-08T04:45:31.504Z"
   },
   {
    "duration": 0,
    "start_time": "2024-12-08T04:45:31.505Z"
   },
   {
    "duration": 0,
    "start_time": "2024-12-08T04:45:31.506Z"
   },
   {
    "duration": 0,
    "start_time": "2024-12-08T04:45:31.507Z"
   },
   {
    "duration": 0,
    "start_time": "2024-12-08T04:45:31.508Z"
   },
   {
    "duration": 0,
    "start_time": "2024-12-08T04:45:31.509Z"
   },
   {
    "duration": 0,
    "start_time": "2024-12-08T04:45:31.510Z"
   },
   {
    "duration": 1389,
    "start_time": "2024-12-08T04:46:54.538Z"
   },
   {
    "duration": 0,
    "start_time": "2024-12-08T04:46:55.928Z"
   },
   {
    "duration": 2524,
    "start_time": "2024-12-08T04:48:29.085Z"
   },
   {
    "duration": 2860,
    "start_time": "2024-12-08T04:48:31.611Z"
   },
   {
    "duration": 3864,
    "start_time": "2024-12-08T04:48:34.473Z"
   },
   {
    "duration": 1542,
    "start_time": "2024-12-08T04:48:38.339Z"
   },
   {
    "duration": 5,
    "start_time": "2024-12-08T04:48:39.883Z"
   },
   {
    "duration": 968,
    "start_time": "2024-12-08T04:48:39.889Z"
   },
   {
    "duration": 158,
    "start_time": "2024-12-08T04:48:40.859Z"
   },
   {
    "duration": 16,
    "start_time": "2024-12-08T04:48:41.019Z"
   },
   {
    "duration": 138,
    "start_time": "2024-12-08T04:48:41.036Z"
   },
   {
    "duration": 94,
    "start_time": "2024-12-08T04:48:41.177Z"
   },
   {
    "duration": 174,
    "start_time": "2024-12-08T04:48:41.273Z"
   },
   {
    "duration": 467,
    "start_time": "2024-12-08T04:48:41.449Z"
   },
   {
    "duration": 1034,
    "start_time": "2024-12-08T04:48:41.918Z"
   },
   {
    "duration": 853,
    "start_time": "2024-12-08T04:48:42.953Z"
   },
   {
    "duration": 227,
    "start_time": "2024-12-08T04:48:43.807Z"
   },
   {
    "duration": 110,
    "start_time": "2024-12-08T04:48:44.035Z"
   },
   {
    "duration": 4,
    "start_time": "2024-12-08T04:48:44.147Z"
   },
   {
    "duration": 147,
    "start_time": "2024-12-08T04:48:44.153Z"
   },
   {
    "duration": 144,
    "start_time": "2024-12-08T04:48:44.301Z"
   },
   {
    "duration": 43,
    "start_time": "2024-12-08T04:48:44.447Z"
   },
   {
    "duration": 152,
    "start_time": "2024-12-08T04:48:44.492Z"
   },
   {
    "duration": 56,
    "start_time": "2024-12-08T04:48:44.646Z"
   },
   {
    "duration": 209,
    "start_time": "2024-12-08T04:48:44.704Z"
   },
   {
    "duration": 145,
    "start_time": "2024-12-08T04:48:44.915Z"
   },
   {
    "duration": 165,
    "start_time": "2024-12-08T04:48:45.062Z"
   },
   {
    "duration": 123,
    "start_time": "2024-12-08T04:48:45.229Z"
   },
   {
    "duration": 990,
    "start_time": "2024-12-08T04:48:45.353Z"
   },
   {
    "duration": 43,
    "start_time": "2024-12-08T04:48:46.347Z"
   },
   {
    "duration": 16,
    "start_time": "2024-12-08T04:48:46.391Z"
   },
   {
    "duration": 31,
    "start_time": "2024-12-08T04:48:46.409Z"
   },
   {
    "duration": 995,
    "start_time": "2024-12-08T04:48:46.442Z"
   },
   {
    "duration": 462,
    "start_time": "2024-12-08T04:48:47.438Z"
   },
   {
    "duration": 60,
    "start_time": "2024-12-08T04:48:47.902Z"
   },
   {
    "duration": 26,
    "start_time": "2024-12-08T04:48:47.964Z"
   },
   {
    "duration": 15,
    "start_time": "2024-12-08T04:48:47.992Z"
   },
   {
    "duration": 16,
    "start_time": "2024-12-08T04:48:48.009Z"
   },
   {
    "duration": 3,
    "start_time": "2024-12-08T04:48:48.027Z"
   },
   {
    "duration": 7,
    "start_time": "2024-12-08T04:48:48.031Z"
   },
   {
    "duration": 303,
    "start_time": "2024-12-08T04:48:48.039Z"
   },
   {
    "duration": 1003,
    "start_time": "2024-12-08T04:48:48.344Z"
   },
   {
    "duration": 381,
    "start_time": "2024-12-08T04:48:49.349Z"
   },
   {
    "duration": 11,
    "start_time": "2024-12-08T04:48:49.732Z"
   },
   {
    "duration": 235,
    "start_time": "2024-12-08T04:48:49.745Z"
   },
   {
    "duration": 12,
    "start_time": "2024-12-08T04:48:49.987Z"
   },
   {
    "duration": 151,
    "start_time": "2024-12-08T04:48:50.000Z"
   },
   {
    "duration": 146,
    "start_time": "2024-12-08T04:48:50.153Z"
   },
   {
    "duration": 159,
    "start_time": "2024-12-08T04:48:50.300Z"
   },
   {
    "duration": 152,
    "start_time": "2024-12-08T04:48:50.461Z"
   },
   {
    "duration": 90,
    "start_time": "2024-12-08T04:48:50.615Z"
   },
   {
    "duration": 195,
    "start_time": "2024-12-08T04:48:50.706Z"
   },
   {
    "duration": 15,
    "start_time": "2024-12-08T04:48:50.902Z"
   },
   {
    "duration": 148,
    "start_time": "2024-12-08T04:48:50.919Z"
   },
   {
    "duration": 122,
    "start_time": "2024-12-08T04:48:51.069Z"
   },
   {
    "duration": 5,
    "start_time": "2024-12-08T04:48:51.193Z"
   },
   {
    "duration": 17,
    "start_time": "2024-12-08T04:48:51.199Z"
   },
   {
    "duration": 9,
    "start_time": "2024-12-08T04:48:51.217Z"
   },
   {
    "duration": 21,
    "start_time": "2024-12-08T04:48:51.228Z"
   },
   {
    "duration": 29,
    "start_time": "2024-12-08T04:48:51.251Z"
   },
   {
    "duration": 32,
    "start_time": "2024-12-08T04:48:51.282Z"
   },
   {
    "duration": 1151026,
    "start_time": "2024-12-08T04:48:51.316Z"
   },
   {
    "duration": 5,
    "start_time": "2024-12-08T05:08:02.343Z"
   },
   {
    "duration": 57,
    "start_time": "2024-12-08T05:08:02.350Z"
   },
   {
    "duration": 15,
    "start_time": "2024-12-08T05:08:02.409Z"
   },
   {
    "duration": 36,
    "start_time": "2024-12-08T05:08:02.426Z"
   },
   {
    "duration": 26,
    "start_time": "2024-12-08T05:08:02.464Z"
   },
   {
    "duration": 355,
    "start_time": "2024-12-08T05:08:02.491Z"
   },
   {
    "duration": 531323,
    "start_time": "2024-12-08T05:08:02.847Z"
   },
   {
    "duration": 0,
    "start_time": "2024-12-08T05:16:54.172Z"
   },
   {
    "duration": 1,
    "start_time": "2024-12-08T05:16:54.173Z"
   },
   {
    "duration": 0,
    "start_time": "2024-12-08T05:16:54.174Z"
   },
   {
    "duration": 0,
    "start_time": "2024-12-08T05:16:54.176Z"
   },
   {
    "duration": 0,
    "start_time": "2024-12-08T05:16:54.176Z"
   },
   {
    "duration": 0,
    "start_time": "2024-12-08T05:16:54.188Z"
   },
   {
    "duration": 0,
    "start_time": "2024-12-08T05:16:54.189Z"
   },
   {
    "duration": 7,
    "start_time": "2024-12-08T05:46:10.654Z"
   },
   {
    "duration": 6,
    "start_time": "2024-12-08T05:46:12.369Z"
   },
   {
    "duration": 83,
    "start_time": "2024-12-08T05:46:14.386Z"
   },
   {
    "duration": 467594,
    "start_time": "2024-12-08T05:46:15.681Z"
   },
   {
    "duration": 3,
    "start_time": "2024-12-08T06:09:59.074Z"
   },
   {
    "duration": 6,
    "start_time": "2024-12-08T06:10:01.248Z"
   },
   {
    "duration": 4,
    "start_time": "2024-12-08T06:10:02.038Z"
   },
   {
    "duration": 2,
    "start_time": "2024-12-08T06:10:02.644Z"
   },
   {
    "duration": 509897,
    "start_time": "2024-12-08T06:10:04.183Z"
   },
   {
    "duration": 0,
    "start_time": "2024-12-08T06:18:34.082Z"
   },
   {
    "duration": 2945,
    "start_time": "2024-12-09T05:46:36.166Z"
   },
   {
    "duration": 22021,
    "start_time": "2024-12-09T05:46:39.114Z"
   },
   {
    "duration": 7235,
    "start_time": "2024-12-09T05:47:01.137Z"
   },
   {
    "duration": 1641,
    "start_time": "2024-12-09T05:47:08.375Z"
   },
   {
    "duration": 3,
    "start_time": "2024-12-09T05:47:10.018Z"
   },
   {
    "duration": 3233,
    "start_time": "2024-12-09T05:47:10.022Z"
   },
   {
    "duration": 172,
    "start_time": "2024-12-09T05:47:13.257Z"
   },
   {
    "duration": 33,
    "start_time": "2024-12-09T05:47:13.430Z"
   },
   {
    "duration": 74,
    "start_time": "2024-12-09T05:47:13.464Z"
   },
   {
    "duration": 106,
    "start_time": "2024-12-09T05:47:13.540Z"
   },
   {
    "duration": 167,
    "start_time": "2024-12-09T05:47:13.648Z"
   },
   {
    "duration": 508,
    "start_time": "2024-12-09T05:47:13.816Z"
   },
   {
    "duration": 1126,
    "start_time": "2024-12-09T05:47:14.326Z"
   },
   {
    "duration": 915,
    "start_time": "2024-12-09T05:47:15.454Z"
   },
   {
    "duration": 247,
    "start_time": "2024-12-09T05:47:16.371Z"
   },
   {
    "duration": 110,
    "start_time": "2024-12-09T05:47:16.620Z"
   },
   {
    "duration": 4,
    "start_time": "2024-12-09T05:47:16.732Z"
   },
   {
    "duration": 139,
    "start_time": "2024-12-09T05:47:16.738Z"
   },
   {
    "duration": 144,
    "start_time": "2024-12-09T05:47:16.880Z"
   },
   {
    "duration": 50,
    "start_time": "2024-12-09T05:47:17.026Z"
   },
   {
    "duration": 148,
    "start_time": "2024-12-09T05:47:17.078Z"
   },
   {
    "duration": 43,
    "start_time": "2024-12-09T05:47:17.228Z"
   },
   {
    "duration": 208,
    "start_time": "2024-12-09T05:47:17.274Z"
   },
   {
    "duration": 141,
    "start_time": "2024-12-09T05:47:17.484Z"
   },
   {
    "duration": 133,
    "start_time": "2024-12-09T05:47:17.627Z"
   },
   {
    "duration": 133,
    "start_time": "2024-12-09T05:47:17.762Z"
   },
   {
    "duration": 1903,
    "start_time": "2024-12-09T05:47:17.897Z"
   },
   {
    "duration": 27,
    "start_time": "2024-12-09T05:47:19.804Z"
   },
   {
    "duration": 17,
    "start_time": "2024-12-09T05:47:19.832Z"
   },
   {
    "duration": 54,
    "start_time": "2024-12-09T05:47:19.851Z"
   },
   {
    "duration": 1053,
    "start_time": "2024-12-09T05:47:19.906Z"
   },
   {
    "duration": 494,
    "start_time": "2024-12-09T05:47:20.960Z"
   },
   {
    "duration": 66,
    "start_time": "2024-12-09T05:47:21.455Z"
   },
   {
    "duration": 8,
    "start_time": "2024-12-09T05:47:21.522Z"
   },
   {
    "duration": 79,
    "start_time": "2024-12-09T05:47:21.531Z"
   },
   {
    "duration": 74,
    "start_time": "2024-12-09T05:47:21.612Z"
   },
   {
    "duration": 7,
    "start_time": "2024-12-09T05:47:21.688Z"
   },
   {
    "duration": 18,
    "start_time": "2024-12-09T05:47:21.697Z"
   },
   {
    "duration": 312,
    "start_time": "2024-12-09T05:47:21.717Z"
   },
   {
    "duration": 1046,
    "start_time": "2024-12-09T05:47:22.030Z"
   },
   {
    "duration": 403,
    "start_time": "2024-12-09T05:47:23.079Z"
   },
   {
    "duration": 11,
    "start_time": "2024-12-09T05:47:23.484Z"
   },
   {
    "duration": 245,
    "start_time": "2024-12-09T05:47:23.496Z"
   },
   {
    "duration": 13,
    "start_time": "2024-12-09T05:47:23.742Z"
   },
   {
    "duration": 162,
    "start_time": "2024-12-09T05:47:23.756Z"
   },
   {
    "duration": 141,
    "start_time": "2024-12-09T05:47:23.919Z"
   },
   {
    "duration": 168,
    "start_time": "2024-12-09T05:47:24.062Z"
   },
   {
    "duration": 151,
    "start_time": "2024-12-09T05:47:24.231Z"
   },
   {
    "duration": 125,
    "start_time": "2024-12-09T05:47:24.386Z"
   },
   {
    "duration": 121,
    "start_time": "2024-12-09T05:47:24.513Z"
   },
   {
    "duration": 74,
    "start_time": "2024-12-09T05:47:24.635Z"
   },
   {
    "duration": 33,
    "start_time": "2024-12-09T05:47:24.711Z"
   },
   {
    "duration": 79,
    "start_time": "2024-12-09T05:47:24.746Z"
   },
   {
    "duration": 4,
    "start_time": "2024-12-09T05:47:24.827Z"
   },
   {
    "duration": 13,
    "start_time": "2024-12-09T05:47:24.832Z"
   },
   {
    "duration": 7,
    "start_time": "2024-12-09T05:47:24.847Z"
   },
   {
    "duration": 2,
    "start_time": "2024-12-09T05:47:24.856Z"
   },
   {
    "duration": 11,
    "start_time": "2024-12-09T05:47:24.860Z"
   },
   {
    "duration": 14,
    "start_time": "2024-12-09T05:47:24.874Z"
   },
   {
    "duration": 1089230,
    "start_time": "2024-12-09T05:47:24.890Z"
   },
   {
    "duration": 5,
    "start_time": "2024-12-09T06:05:34.121Z"
   },
   {
    "duration": 41,
    "start_time": "2024-12-09T06:05:34.128Z"
   },
   {
    "duration": 6,
    "start_time": "2024-12-09T06:05:34.171Z"
   },
   {
    "duration": 35,
    "start_time": "2024-12-09T06:05:34.179Z"
   },
   {
    "duration": 18,
    "start_time": "2024-12-09T06:05:34.216Z"
   },
   {
    "duration": 30,
    "start_time": "2024-12-09T06:05:34.236Z"
   },
   {
    "duration": 86,
    "start_time": "2024-12-09T06:05:34.268Z"
   },
   {
    "duration": 0,
    "start_time": "2024-12-09T06:05:34.356Z"
   },
   {
    "duration": 0,
    "start_time": "2024-12-09T06:05:34.357Z"
   },
   {
    "duration": 0,
    "start_time": "2024-12-09T06:05:34.359Z"
   },
   {
    "duration": 0,
    "start_time": "2024-12-09T06:05:34.360Z"
   },
   {
    "duration": 0,
    "start_time": "2024-12-09T06:05:34.362Z"
   },
   {
    "duration": 0,
    "start_time": "2024-12-09T06:05:34.363Z"
   },
   {
    "duration": 0,
    "start_time": "2024-12-09T06:05:34.364Z"
   },
   {
    "duration": 0,
    "start_time": "2024-12-09T06:05:34.366Z"
   },
   {
    "duration": 344,
    "start_time": "2024-12-09T06:20:43.248Z"
   },
   {
    "duration": 483107,
    "start_time": "2024-12-09T06:20:45.638Z"
   },
   {
    "duration": 0,
    "start_time": "2024-12-09T06:28:48.746Z"
   },
   {
    "duration": 0,
    "start_time": "2024-12-09T06:28:48.747Z"
   },
   {
    "duration": 0,
    "start_time": "2024-12-09T06:28:48.749Z"
   },
   {
    "duration": 0,
    "start_time": "2024-12-09T06:28:48.750Z"
   },
   {
    "duration": 0,
    "start_time": "2024-12-09T06:28:48.751Z"
   },
   {
    "duration": 0,
    "start_time": "2024-12-09T06:28:48.752Z"
   },
   {
    "duration": 0,
    "start_time": "2024-12-09T06:28:48.752Z"
   },
   {
    "duration": 2803,
    "start_time": "2024-12-11T07:27:53.295Z"
   },
   {
    "duration": 33073,
    "start_time": "2024-12-11T07:27:56.100Z"
   },
   {
    "duration": 6888,
    "start_time": "2024-12-11T07:28:29.177Z"
   },
   {
    "duration": 1523,
    "start_time": "2024-12-11T07:28:36.068Z"
   },
   {
    "duration": 3,
    "start_time": "2024-12-11T07:28:37.593Z"
   },
   {
    "duration": 3104,
    "start_time": "2024-12-11T07:28:37.598Z"
   },
   {
    "duration": 175,
    "start_time": "2024-12-11T07:28:40.703Z"
   },
   {
    "duration": 16,
    "start_time": "2024-12-11T07:28:40.879Z"
   },
   {
    "duration": 90,
    "start_time": "2024-12-11T07:28:40.898Z"
   },
   {
    "duration": 152,
    "start_time": "2024-12-11T07:28:40.989Z"
   },
   {
    "duration": 160,
    "start_time": "2024-12-11T07:28:41.142Z"
   },
   {
    "duration": 460,
    "start_time": "2024-12-11T07:28:41.304Z"
   },
   {
    "duration": 1466,
    "start_time": "2024-12-11T07:28:41.766Z"
   },
   {
    "duration": 896,
    "start_time": "2024-12-11T07:28:43.235Z"
   },
   {
    "duration": 262,
    "start_time": "2024-12-11T07:28:44.133Z"
   },
   {
    "duration": 124,
    "start_time": "2024-12-11T07:28:44.396Z"
   },
   {
    "duration": 8,
    "start_time": "2024-12-11T07:28:44.522Z"
   },
   {
    "duration": 147,
    "start_time": "2024-12-11T07:28:44.532Z"
   },
   {
    "duration": 156,
    "start_time": "2024-12-11T07:28:44.681Z"
   },
   {
    "duration": 51,
    "start_time": "2024-12-11T07:28:44.839Z"
   },
   {
    "duration": 146,
    "start_time": "2024-12-11T07:28:44.892Z"
   },
   {
    "duration": 41,
    "start_time": "2024-12-11T07:28:45.039Z"
   },
   {
    "duration": 180,
    "start_time": "2024-12-11T07:28:45.082Z"
   },
   {
    "duration": 144,
    "start_time": "2024-12-11T07:28:45.264Z"
   },
   {
    "duration": 138,
    "start_time": "2024-12-11T07:28:45.410Z"
   },
   {
    "duration": 126,
    "start_time": "2024-12-11T07:28:45.551Z"
   },
   {
    "duration": 1043,
    "start_time": "2024-12-11T07:28:45.681Z"
   },
   {
    "duration": 27,
    "start_time": "2024-12-11T07:28:46.729Z"
   },
   {
    "duration": 28,
    "start_time": "2024-12-11T07:28:46.758Z"
   },
   {
    "duration": 57,
    "start_time": "2024-12-11T07:28:46.787Z"
   },
   {
    "duration": 998,
    "start_time": "2024-12-11T07:28:46.847Z"
   },
   {
    "duration": 496,
    "start_time": "2024-12-11T07:28:47.846Z"
   },
   {
    "duration": 61,
    "start_time": "2024-12-11T07:28:48.345Z"
   },
   {
    "duration": 29,
    "start_time": "2024-12-11T07:28:48.407Z"
   },
   {
    "duration": 19,
    "start_time": "2024-12-11T07:28:48.439Z"
   },
   {
    "duration": 18,
    "start_time": "2024-12-11T07:28:48.460Z"
   },
   {
    "duration": 3,
    "start_time": "2024-12-11T07:28:48.480Z"
   },
   {
    "duration": 17,
    "start_time": "2024-12-11T07:28:48.485Z"
   },
   {
    "duration": 307,
    "start_time": "2024-12-11T07:28:48.504Z"
   },
   {
    "duration": 1009,
    "start_time": "2024-12-11T07:28:48.812Z"
   },
   {
    "duration": 376,
    "start_time": "2024-12-11T07:28:49.823Z"
   },
   {
    "duration": 10,
    "start_time": "2024-12-11T07:28:50.201Z"
   },
   {
    "duration": 263,
    "start_time": "2024-12-11T07:28:50.212Z"
   },
   {
    "duration": 11,
    "start_time": "2024-12-11T07:28:50.477Z"
   },
   {
    "duration": 153,
    "start_time": "2024-12-11T07:28:50.490Z"
   },
   {
    "duration": 147,
    "start_time": "2024-12-11T07:28:50.645Z"
   },
   {
    "duration": 160,
    "start_time": "2024-12-11T07:28:50.794Z"
   },
   {
    "duration": 140,
    "start_time": "2024-12-11T07:28:50.956Z"
   },
   {
    "duration": 84,
    "start_time": "2024-12-11T07:28:51.097Z"
   },
   {
    "duration": 111,
    "start_time": "2024-12-11T07:28:51.183Z"
   },
   {
    "duration": 14,
    "start_time": "2024-12-11T07:28:51.296Z"
   },
   {
    "duration": 24,
    "start_time": "2024-12-11T07:28:51.312Z"
   },
   {
    "duration": 81,
    "start_time": "2024-12-11T07:28:51.338Z"
   },
   {
    "duration": 4,
    "start_time": "2024-12-11T07:28:51.421Z"
   },
   {
    "duration": 30,
    "start_time": "2024-12-11T07:28:51.427Z"
   },
   {
    "duration": 16,
    "start_time": "2024-12-11T07:28:51.461Z"
   },
   {
    "duration": 16,
    "start_time": "2024-12-11T07:28:51.479Z"
   },
   {
    "duration": 31,
    "start_time": "2024-12-11T07:28:51.496Z"
   },
   {
    "duration": 93,
    "start_time": "2024-12-11T07:28:51.529Z"
   },
   {
    "duration": 1100758,
    "start_time": "2024-12-11T07:28:51.625Z"
   },
   {
    "duration": 5,
    "start_time": "2024-12-11T07:47:12.384Z"
   },
   {
    "duration": 46,
    "start_time": "2024-12-11T07:47:12.390Z"
   },
   {
    "duration": 3,
    "start_time": "2024-12-11T07:47:12.437Z"
   },
   {
    "duration": 6,
    "start_time": "2024-12-11T07:47:12.442Z"
   },
   {
    "duration": 392,
    "start_time": "2024-12-11T07:47:12.451Z"
   },
   {
    "duration": 7,
    "start_time": "2024-12-11T07:47:12.844Z"
   },
   {
    "duration": 5,
    "start_time": "2024-12-11T07:47:12.852Z"
   },
   {
    "duration": 474661,
    "start_time": "2024-12-11T07:47:12.858Z"
   },
   {
    "duration": 0,
    "start_time": "2024-12-11T07:55:07.521Z"
   },
   {
    "duration": 1,
    "start_time": "2024-12-11T07:55:07.529Z"
   },
   {
    "duration": 0,
    "start_time": "2024-12-11T07:55:07.531Z"
   },
   {
    "duration": 0,
    "start_time": "2024-12-11T07:55:07.532Z"
   },
   {
    "duration": 0,
    "start_time": "2024-12-11T07:55:07.533Z"
   },
   {
    "duration": 0,
    "start_time": "2024-12-11T07:55:07.534Z"
   },
   {
    "duration": 0,
    "start_time": "2024-12-11T07:55:07.535Z"
   },
   {
    "duration": 7,
    "start_time": "2024-12-11T08:17:08.635Z"
   },
   {
    "duration": 4,
    "start_time": "2024-12-11T08:17:12.990Z"
   },
   {
    "duration": 477000,
    "start_time": "2024-12-11T08:17:14.612Z"
   },
   {
    "duration": 0,
    "start_time": "2024-12-11T08:25:11.614Z"
   },
   {
    "duration": 2672,
    "start_time": "2024-12-11T08:32:25.155Z"
   },
   {
    "duration": 2813,
    "start_time": "2024-12-11T08:32:27.829Z"
   },
   {
    "duration": 3068,
    "start_time": "2024-12-11T08:32:30.643Z"
   },
   {
    "duration": 3289,
    "start_time": "2024-12-11T08:32:33.714Z"
   },
   {
    "duration": 1425,
    "start_time": "2024-12-11T08:32:37.005Z"
   },
   {
    "duration": 4,
    "start_time": "2024-12-11T08:32:38.431Z"
   },
   {
    "duration": 980,
    "start_time": "2024-12-11T08:32:38.436Z"
   },
   {
    "duration": 159,
    "start_time": "2024-12-11T08:32:39.417Z"
   },
   {
    "duration": 16,
    "start_time": "2024-12-11T08:32:39.578Z"
   },
   {
    "duration": 87,
    "start_time": "2024-12-11T08:32:39.597Z"
   },
   {
    "duration": 114,
    "start_time": "2024-12-11T08:32:39.686Z"
   },
   {
    "duration": 167,
    "start_time": "2024-12-11T08:32:39.802Z"
   },
   {
    "duration": 513,
    "start_time": "2024-12-11T08:32:39.971Z"
   },
   {
    "duration": 1005,
    "start_time": "2024-12-11T08:32:40.485Z"
   },
   {
    "duration": 950,
    "start_time": "2024-12-11T08:32:41.492Z"
   },
   {
    "duration": 286,
    "start_time": "2024-12-11T08:32:42.444Z"
   },
   {
    "duration": 148,
    "start_time": "2024-12-11T08:32:42.732Z"
   },
   {
    "duration": 4,
    "start_time": "2024-12-11T08:32:42.882Z"
   },
   {
    "duration": 172,
    "start_time": "2024-12-11T08:32:42.887Z"
   },
   {
    "duration": 157,
    "start_time": "2024-12-11T08:32:43.061Z"
   },
   {
    "duration": 40,
    "start_time": "2024-12-11T08:32:43.220Z"
   },
   {
    "duration": 151,
    "start_time": "2024-12-11T08:32:43.261Z"
   },
   {
    "duration": 48,
    "start_time": "2024-12-11T08:32:43.414Z"
   },
   {
    "duration": 147,
    "start_time": "2024-12-11T08:32:43.463Z"
   },
   {
    "duration": 167,
    "start_time": "2024-12-11T08:32:43.611Z"
   },
   {
    "duration": 140,
    "start_time": "2024-12-11T08:32:43.780Z"
   },
   {
    "duration": 119,
    "start_time": "2024-12-11T08:32:43.922Z"
   },
   {
    "duration": 989,
    "start_time": "2024-12-11T08:32:44.045Z"
   },
   {
    "duration": 31,
    "start_time": "2024-12-11T08:32:45.036Z"
   },
   {
    "duration": 41,
    "start_time": "2024-12-11T08:32:45.068Z"
   },
   {
    "duration": 55,
    "start_time": "2024-12-11T08:32:45.111Z"
   },
   {
    "duration": 984,
    "start_time": "2024-12-11T08:32:45.168Z"
   },
   {
    "duration": 477,
    "start_time": "2024-12-11T08:32:46.155Z"
   },
   {
    "duration": 63,
    "start_time": "2024-12-11T08:32:46.634Z"
   },
   {
    "duration": 31,
    "start_time": "2024-12-11T08:32:46.699Z"
   },
   {
    "duration": 16,
    "start_time": "2024-12-11T08:32:46.732Z"
   },
   {
    "duration": 17,
    "start_time": "2024-12-11T08:32:46.750Z"
   },
   {
    "duration": 3,
    "start_time": "2024-12-11T08:32:46.769Z"
   },
   {
    "duration": 3,
    "start_time": "2024-12-11T08:32:46.774Z"
   },
   {
    "duration": 321,
    "start_time": "2024-12-11T08:32:46.779Z"
   },
   {
    "duration": 1003,
    "start_time": "2024-12-11T08:32:47.102Z"
   },
   {
    "duration": 393,
    "start_time": "2024-12-11T08:32:48.107Z"
   },
   {
    "duration": 11,
    "start_time": "2024-12-11T08:32:48.502Z"
   },
   {
    "duration": 229,
    "start_time": "2024-12-11T08:32:48.514Z"
   },
   {
    "duration": 13,
    "start_time": "2024-12-11T08:32:48.744Z"
   },
   {
    "duration": 161,
    "start_time": "2024-12-11T08:32:48.759Z"
   },
   {
    "duration": 139,
    "start_time": "2024-12-11T08:32:48.929Z"
   },
   {
    "duration": 160,
    "start_time": "2024-12-11T08:32:49.070Z"
   },
   {
    "duration": 149,
    "start_time": "2024-12-11T08:32:49.233Z"
   },
   {
    "duration": 81,
    "start_time": "2024-12-11T08:32:49.383Z"
   },
   {
    "duration": 110,
    "start_time": "2024-12-11T08:32:49.466Z"
   },
   {
    "duration": 16,
    "start_time": "2024-12-11T08:32:49.577Z"
   },
   {
    "duration": 2,
    "start_time": "2024-12-11T08:32:49.595Z"
   },
   {
    "duration": 86,
    "start_time": "2024-12-11T08:32:49.599Z"
   },
   {
    "duration": 5,
    "start_time": "2024-12-11T08:32:49.686Z"
   },
   {
    "duration": 5,
    "start_time": "2024-12-11T08:32:49.692Z"
   },
   {
    "duration": 7,
    "start_time": "2024-12-11T08:32:49.698Z"
   },
   {
    "duration": 4,
    "start_time": "2024-12-11T08:32:49.707Z"
   },
   {
    "duration": 24,
    "start_time": "2024-12-11T08:32:49.712Z"
   },
   {
    "duration": 30,
    "start_time": "2024-12-11T08:32:49.738Z"
   },
   {
    "duration": 1116169,
    "start_time": "2024-12-11T08:32:49.770Z"
   },
   {
    "duration": 6,
    "start_time": "2024-12-11T08:51:25.941Z"
   },
   {
    "duration": 37,
    "start_time": "2024-12-11T08:51:25.949Z"
   },
   {
    "duration": 2,
    "start_time": "2024-12-11T08:51:25.988Z"
   },
   {
    "duration": 9,
    "start_time": "2024-12-11T08:51:25.991Z"
   },
   {
    "duration": 402,
    "start_time": "2024-12-11T08:51:26.001Z"
   },
   {
    "duration": 6,
    "start_time": "2024-12-11T08:51:26.404Z"
   },
   {
    "duration": 17,
    "start_time": "2024-12-11T08:51:26.413Z"
   },
   {
    "duration": 112,
    "start_time": "2024-12-11T08:51:26.432Z"
   },
   {
    "duration": 0,
    "start_time": "2024-12-11T08:51:26.547Z"
   },
   {
    "duration": 0,
    "start_time": "2024-12-11T08:51:26.549Z"
   },
   {
    "duration": 0,
    "start_time": "2024-12-11T08:51:26.550Z"
   },
   {
    "duration": 0,
    "start_time": "2024-12-11T08:51:26.551Z"
   },
   {
    "duration": 0,
    "start_time": "2024-12-11T08:51:26.553Z"
   },
   {
    "duration": 0,
    "start_time": "2024-12-11T08:51:26.554Z"
   },
   {
    "duration": 0,
    "start_time": "2024-12-11T08:51:26.555Z"
   },
   {
    "duration": 0,
    "start_time": "2024-12-11T08:51:26.557Z"
   },
   {
    "duration": 0,
    "start_time": "2024-12-11T08:51:26.558Z"
   },
   {
    "duration": 109,
    "start_time": "2024-12-11T09:37:05.055Z"
   },
   {
    "duration": 3351,
    "start_time": "2024-12-11T09:37:13.703Z"
   },
   {
    "duration": 2495,
    "start_time": "2024-12-11T10:25:58.301Z"
   },
   {
    "duration": 2766,
    "start_time": "2024-12-11T10:26:00.799Z"
   },
   {
    "duration": 3127,
    "start_time": "2024-12-11T10:26:03.567Z"
   },
   {
    "duration": 3288,
    "start_time": "2024-12-11T10:26:06.696Z"
   },
   {
    "duration": 1422,
    "start_time": "2024-12-11T10:26:09.987Z"
   },
   {
    "duration": 3,
    "start_time": "2024-12-11T10:26:11.411Z"
   },
   {
    "duration": 981,
    "start_time": "2024-12-11T10:26:11.416Z"
   },
   {
    "duration": 151,
    "start_time": "2024-12-11T10:26:12.399Z"
   },
   {
    "duration": 23,
    "start_time": "2024-12-11T10:26:12.552Z"
   },
   {
    "duration": 153,
    "start_time": "2024-12-11T10:26:12.578Z"
   },
   {
    "duration": 108,
    "start_time": "2024-12-11T10:26:12.733Z"
   },
   {
    "duration": 149,
    "start_time": "2024-12-11T10:26:12.843Z"
   },
   {
    "duration": 500,
    "start_time": "2024-12-11T10:26:12.993Z"
   },
   {
    "duration": 1099,
    "start_time": "2024-12-11T10:26:13.495Z"
   },
   {
    "duration": 846,
    "start_time": "2024-12-11T10:26:14.596Z"
   },
   {
    "duration": 196,
    "start_time": "2024-12-11T10:26:15.444Z"
   },
   {
    "duration": 114,
    "start_time": "2024-12-11T10:26:15.642Z"
   },
   {
    "duration": 4,
    "start_time": "2024-12-11T10:26:15.757Z"
   },
   {
    "duration": 138,
    "start_time": "2024-12-11T10:26:15.763Z"
   },
   {
    "duration": 170,
    "start_time": "2024-12-11T10:26:15.902Z"
   },
   {
    "duration": 56,
    "start_time": "2024-12-11T10:26:16.075Z"
   },
   {
    "duration": 140,
    "start_time": "2024-12-11T10:26:16.132Z"
   },
   {
    "duration": 42,
    "start_time": "2024-12-11T10:26:16.274Z"
   },
   {
    "duration": 165,
    "start_time": "2024-12-11T10:26:16.317Z"
   },
   {
    "duration": 134,
    "start_time": "2024-12-11T10:26:16.484Z"
   },
   {
    "duration": 147,
    "start_time": "2024-12-11T10:26:16.620Z"
   },
   {
    "duration": 119,
    "start_time": "2024-12-11T10:26:16.768Z"
   },
   {
    "duration": 1063,
    "start_time": "2024-12-11T10:26:16.891Z"
   },
   {
    "duration": 32,
    "start_time": "2024-12-11T10:26:17.957Z"
   },
   {
    "duration": 18,
    "start_time": "2024-12-11T10:26:17.991Z"
   },
   {
    "duration": 37,
    "start_time": "2024-12-11T10:26:18.030Z"
   },
   {
    "duration": 997,
    "start_time": "2024-12-11T10:26:18.069Z"
   },
   {
    "duration": 490,
    "start_time": "2024-12-11T10:26:19.068Z"
   },
   {
    "duration": 80,
    "start_time": "2024-12-11T10:26:19.560Z"
   },
   {
    "duration": 9,
    "start_time": "2024-12-11T10:26:19.641Z"
   },
   {
    "duration": 19,
    "start_time": "2024-12-11T10:26:19.651Z"
   },
   {
    "duration": 16,
    "start_time": "2024-12-11T10:26:19.672Z"
   },
   {
    "duration": 5,
    "start_time": "2024-12-11T10:26:19.690Z"
   },
   {
    "duration": 13,
    "start_time": "2024-12-11T10:26:19.697Z"
   },
   {
    "duration": 304,
    "start_time": "2024-12-11T10:26:19.712Z"
   },
   {
    "duration": 1004,
    "start_time": "2024-12-11T10:26:20.018Z"
   },
   {
    "duration": 383,
    "start_time": "2024-12-11T10:26:21.024Z"
   },
   {
    "duration": 21,
    "start_time": "2024-12-11T10:26:21.409Z"
   },
   {
    "duration": 233,
    "start_time": "2024-12-11T10:26:21.431Z"
   },
   {
    "duration": 12,
    "start_time": "2024-12-11T10:26:21.665Z"
   },
   {
    "duration": 164,
    "start_time": "2024-12-11T10:26:21.679Z"
   },
   {
    "duration": 160,
    "start_time": "2024-12-11T10:26:21.845Z"
   },
   {
    "duration": 189,
    "start_time": "2024-12-11T10:26:22.008Z"
   },
   {
    "duration": 156,
    "start_time": "2024-12-11T10:26:22.199Z"
   },
   {
    "duration": 84,
    "start_time": "2024-12-11T10:26:22.357Z"
   },
   {
    "duration": 131,
    "start_time": "2024-12-11T10:26:22.442Z"
   },
   {
    "duration": 15,
    "start_time": "2024-12-11T10:26:22.575Z"
   },
   {
    "duration": 82,
    "start_time": "2024-12-11T10:26:22.592Z"
   },
   {
    "duration": 78,
    "start_time": "2024-12-11T10:26:22.676Z"
   },
   {
    "duration": 4,
    "start_time": "2024-12-11T10:26:22.756Z"
   },
   {
    "duration": 5,
    "start_time": "2024-12-11T10:26:22.762Z"
   },
   {
    "duration": 4,
    "start_time": "2024-12-11T10:26:22.768Z"
   },
   {
    "duration": 3,
    "start_time": "2024-12-11T10:26:22.774Z"
   },
   {
    "duration": 5,
    "start_time": "2024-12-11T10:26:22.779Z"
   },
   {
    "duration": 20,
    "start_time": "2024-12-11T10:26:22.785Z"
   },
   {
    "duration": 1124188,
    "start_time": "2024-12-11T10:26:22.807Z"
   },
   {
    "duration": 6,
    "start_time": "2024-12-11T10:45:07.030Z"
   },
   {
    "duration": 31,
    "start_time": "2024-12-11T10:45:07.038Z"
   },
   {
    "duration": 3,
    "start_time": "2024-12-11T10:45:07.070Z"
   },
   {
    "duration": 8,
    "start_time": "2024-12-11T10:45:07.074Z"
   },
   {
    "duration": 384,
    "start_time": "2024-12-11T10:45:07.084Z"
   },
   {
    "duration": 8,
    "start_time": "2024-12-11T10:45:07.470Z"
   },
   {
    "duration": 39,
    "start_time": "2024-12-11T10:45:07.479Z"
   },
   {
    "duration": 3339,
    "start_time": "2024-12-11T10:45:07.520Z"
   },
   {
    "duration": 11158074,
    "start_time": "2024-12-11T10:45:10.861Z"
   },
   {
    "duration": 539970,
    "start_time": "2024-12-11T13:51:08.937Z"
   },
   {
    "duration": 0,
    "start_time": "2024-12-11T14:00:08.908Z"
   },
   {
    "duration": 0,
    "start_time": "2024-12-11T14:00:08.910Z"
   },
   {
    "duration": 0,
    "start_time": "2024-12-11T14:00:08.911Z"
   },
   {
    "duration": 0,
    "start_time": "2024-12-11T14:00:08.912Z"
   },
   {
    "duration": 0,
    "start_time": "2024-12-11T14:00:08.913Z"
   },
   {
    "duration": 0,
    "start_time": "2024-12-11T14:00:08.932Z"
   },
   {
    "duration": 0,
    "start_time": "2024-12-11T14:00:08.939Z"
   },
   {
    "duration": 2694,
    "start_time": "2024-12-12T06:35:55.083Z"
   },
   {
    "duration": 20888,
    "start_time": "2024-12-12T06:35:57.779Z"
   },
   {
    "duration": 10050,
    "start_time": "2024-12-12T06:36:18.670Z"
   },
   {
    "duration": 3242,
    "start_time": "2024-12-12T06:36:28.723Z"
   },
   {
    "duration": 1476,
    "start_time": "2024-12-12T06:36:31.967Z"
   },
   {
    "duration": 3,
    "start_time": "2024-12-12T06:36:33.444Z"
   },
   {
    "duration": 3043,
    "start_time": "2024-12-12T06:36:33.449Z"
   },
   {
    "duration": 154,
    "start_time": "2024-12-12T06:36:36.494Z"
   },
   {
    "duration": 15,
    "start_time": "2024-12-12T06:36:36.650Z"
   },
   {
    "duration": 115,
    "start_time": "2024-12-12T06:36:36.667Z"
   },
   {
    "duration": 97,
    "start_time": "2024-12-12T06:36:36.783Z"
   },
   {
    "duration": 152,
    "start_time": "2024-12-12T06:36:36.882Z"
   },
   {
    "duration": 464,
    "start_time": "2024-12-12T06:36:37.035Z"
   },
   {
    "duration": 996,
    "start_time": "2024-12-12T06:36:37.501Z"
   },
   {
    "duration": 817,
    "start_time": "2024-12-12T06:36:38.499Z"
   },
   {
    "duration": 219,
    "start_time": "2024-12-12T06:36:39.322Z"
   },
   {
    "duration": 106,
    "start_time": "2024-12-12T06:36:39.543Z"
   },
   {
    "duration": 3,
    "start_time": "2024-12-12T06:36:39.651Z"
   },
   {
    "duration": 149,
    "start_time": "2024-12-12T06:36:39.656Z"
   },
   {
    "duration": 136,
    "start_time": "2024-12-12T06:36:39.806Z"
   },
   {
    "duration": 41,
    "start_time": "2024-12-12T06:36:39.944Z"
   },
   {
    "duration": 144,
    "start_time": "2024-12-12T06:36:39.988Z"
   },
   {
    "duration": 40,
    "start_time": "2024-12-12T06:36:40.133Z"
   },
   {
    "duration": 199,
    "start_time": "2024-12-12T06:36:40.175Z"
   },
   {
    "duration": 127,
    "start_time": "2024-12-12T06:36:40.376Z"
   },
   {
    "duration": 134,
    "start_time": "2024-12-12T06:36:40.506Z"
   },
   {
    "duration": 116,
    "start_time": "2024-12-12T06:36:40.642Z"
   },
   {
    "duration": 961,
    "start_time": "2024-12-12T06:36:40.764Z"
   },
   {
    "duration": 35,
    "start_time": "2024-12-12T06:36:41.727Z"
   },
   {
    "duration": 17,
    "start_time": "2024-12-12T06:36:41.764Z"
   },
   {
    "duration": 58,
    "start_time": "2024-12-12T06:36:41.783Z"
   },
   {
    "duration": 932,
    "start_time": "2024-12-12T06:36:41.842Z"
   },
   {
    "duration": 415,
    "start_time": "2024-12-12T06:36:42.776Z"
   },
   {
    "duration": 68,
    "start_time": "2024-12-12T06:36:43.193Z"
   },
   {
    "duration": 10,
    "start_time": "2024-12-12T06:36:43.262Z"
   },
   {
    "duration": 15,
    "start_time": "2024-12-12T06:36:43.274Z"
   },
   {
    "duration": 41,
    "start_time": "2024-12-12T06:36:43.291Z"
   },
   {
    "duration": 16,
    "start_time": "2024-12-12T06:36:43.334Z"
   },
   {
    "duration": 9,
    "start_time": "2024-12-12T06:36:43.352Z"
   },
   {
    "duration": 267,
    "start_time": "2024-12-12T06:36:43.363Z"
   },
   {
    "duration": 952,
    "start_time": "2024-12-12T06:36:43.632Z"
   },
   {
    "duration": 362,
    "start_time": "2024-12-12T06:36:44.586Z"
   },
   {
    "duration": 11,
    "start_time": "2024-12-12T06:36:44.950Z"
   },
   {
    "duration": 230,
    "start_time": "2024-12-12T06:36:44.962Z"
   },
   {
    "duration": 12,
    "start_time": "2024-12-12T06:36:45.194Z"
   },
   {
    "duration": 171,
    "start_time": "2024-12-12T06:36:45.208Z"
   },
   {
    "duration": 137,
    "start_time": "2024-12-12T06:36:45.381Z"
   },
   {
    "duration": 148,
    "start_time": "2024-12-12T06:36:45.522Z"
   },
   {
    "duration": 136,
    "start_time": "2024-12-12T06:36:45.672Z"
   },
   {
    "duration": 78,
    "start_time": "2024-12-12T06:36:45.810Z"
   },
   {
    "duration": 109,
    "start_time": "2024-12-12T06:36:45.890Z"
   },
   {
    "duration": 23,
    "start_time": "2024-12-12T06:36:46.001Z"
   },
   {
    "duration": 2,
    "start_time": "2024-12-12T06:36:46.025Z"
   },
   {
    "duration": 70,
    "start_time": "2024-12-12T06:36:46.029Z"
   },
   {
    "duration": 4,
    "start_time": "2024-12-12T06:36:46.100Z"
   },
   {
    "duration": 3,
    "start_time": "2024-12-12T06:36:46.121Z"
   },
   {
    "duration": 5,
    "start_time": "2024-12-12T06:36:46.125Z"
   },
   {
    "duration": 8,
    "start_time": "2024-12-12T06:36:46.132Z"
   },
   {
    "duration": 10,
    "start_time": "2024-12-12T06:36:46.141Z"
   },
   {
    "duration": 7,
    "start_time": "2024-12-12T06:36:46.153Z"
   },
   {
    "duration": 1147614,
    "start_time": "2024-12-12T06:36:46.161Z"
   },
   {
    "duration": 5,
    "start_time": "2024-12-12T06:55:53.777Z"
   },
   {
    "duration": 41,
    "start_time": "2024-12-12T06:55:53.783Z"
   },
   {
    "duration": 3,
    "start_time": "2024-12-12T06:55:53.825Z"
   },
   {
    "duration": 9,
    "start_time": "2024-12-12T06:55:53.829Z"
   },
   {
    "duration": 366,
    "start_time": "2024-12-12T06:55:53.839Z"
   },
   {
    "duration": 14,
    "start_time": "2024-12-12T06:55:54.207Z"
   },
   {
    "duration": 27,
    "start_time": "2024-12-12T06:55:54.223Z"
   },
   {
    "duration": 3102,
    "start_time": "2024-12-12T06:55:54.251Z"
   },
   {
    "duration": 1038780,
    "start_time": "2024-12-12T06:55:57.355Z"
   },
   {
    "duration": 431630,
    "start_time": "2024-12-12T07:13:16.136Z"
   },
   {
    "duration": 0,
    "start_time": "2024-12-12T07:20:27.767Z"
   },
   {
    "duration": 0,
    "start_time": "2024-12-12T07:20:27.768Z"
   },
   {
    "duration": 0,
    "start_time": "2024-12-12T07:20:27.769Z"
   },
   {
    "duration": 0,
    "start_time": "2024-12-12T07:20:27.770Z"
   },
   {
    "duration": 0,
    "start_time": "2024-12-12T07:20:27.772Z"
   },
   {
    "duration": 0,
    "start_time": "2024-12-12T07:20:27.773Z"
   },
   {
    "duration": 0,
    "start_time": "2024-12-12T07:20:27.774Z"
   },
   {
    "duration": 2467,
    "start_time": "2024-12-12T07:22:00.876Z"
   },
   {
    "duration": 2716,
    "start_time": "2024-12-12T07:22:03.345Z"
   },
   {
    "duration": 2895,
    "start_time": "2024-12-12T07:22:06.063Z"
   },
   {
    "duration": 3199,
    "start_time": "2024-12-12T07:22:08.960Z"
   },
   {
    "duration": 2627,
    "start_time": "2024-12-12T07:22:12.161Z"
   },
   {
    "duration": 3181,
    "start_time": "2024-12-12T07:22:14.790Z"
   },
   {
    "duration": 1289,
    "start_time": "2024-12-12T07:22:17.972Z"
   },
   {
    "duration": 3,
    "start_time": "2024-12-12T07:22:19.262Z"
   },
   {
    "duration": 905,
    "start_time": "2024-12-12T07:22:19.267Z"
   },
   {
    "duration": 151,
    "start_time": "2024-12-12T07:22:20.175Z"
   },
   {
    "duration": 15,
    "start_time": "2024-12-12T07:22:20.327Z"
   },
   {
    "duration": 120,
    "start_time": "2024-12-12T07:22:20.344Z"
   },
   {
    "duration": 99,
    "start_time": "2024-12-12T07:22:20.466Z"
   },
   {
    "duration": 149,
    "start_time": "2024-12-12T07:22:20.567Z"
   },
   {
    "duration": 486,
    "start_time": "2024-12-12T07:22:20.722Z"
   },
   {
    "duration": 949,
    "start_time": "2024-12-12T07:22:21.210Z"
   },
   {
    "duration": 846,
    "start_time": "2024-12-12T07:22:22.161Z"
   },
   {
    "duration": 227,
    "start_time": "2024-12-12T07:22:23.009Z"
   },
   {
    "duration": 104,
    "start_time": "2024-12-12T07:22:23.238Z"
   },
   {
    "duration": 4,
    "start_time": "2024-12-12T07:22:23.344Z"
   },
   {
    "duration": 119,
    "start_time": "2024-12-12T07:22:23.350Z"
   },
   {
    "duration": 135,
    "start_time": "2024-12-12T07:22:23.471Z"
   },
   {
    "duration": 38,
    "start_time": "2024-12-12T07:22:23.608Z"
   },
   {
    "duration": 146,
    "start_time": "2024-12-12T07:22:23.648Z"
   },
   {
    "duration": 45,
    "start_time": "2024-12-12T07:22:23.796Z"
   },
   {
    "duration": 138,
    "start_time": "2024-12-12T07:22:23.842Z"
   },
   {
    "duration": 135,
    "start_time": "2024-12-12T07:22:23.982Z"
   },
   {
    "duration": 136,
    "start_time": "2024-12-12T07:22:24.122Z"
   },
   {
    "duration": 112,
    "start_time": "2024-12-12T07:22:24.260Z"
   },
   {
    "duration": 960,
    "start_time": "2024-12-12T07:22:24.373Z"
   },
   {
    "duration": 34,
    "start_time": "2024-12-12T07:22:25.335Z"
   },
   {
    "duration": 17,
    "start_time": "2024-12-12T07:22:25.371Z"
   },
   {
    "duration": 60,
    "start_time": "2024-12-12T07:22:25.389Z"
   },
   {
    "duration": 905,
    "start_time": "2024-12-12T07:22:25.451Z"
   },
   {
    "duration": 429,
    "start_time": "2024-12-12T07:22:26.358Z"
   },
   {
    "duration": 67,
    "start_time": "2024-12-12T07:22:26.789Z"
   },
   {
    "duration": 8,
    "start_time": "2024-12-12T07:22:26.858Z"
   },
   {
    "duration": 31,
    "start_time": "2024-12-12T07:22:26.868Z"
   },
   {
    "duration": 17,
    "start_time": "2024-12-12T07:22:26.900Z"
   },
   {
    "duration": 9,
    "start_time": "2024-12-12T07:22:26.922Z"
   },
   {
    "duration": 9,
    "start_time": "2024-12-12T07:22:26.932Z"
   },
   {
    "duration": 289,
    "start_time": "2024-12-12T07:22:26.942Z"
   },
   {
    "duration": 950,
    "start_time": "2024-12-12T07:22:27.233Z"
   },
   {
    "duration": 373,
    "start_time": "2024-12-12T07:22:28.185Z"
   },
   {
    "duration": 10,
    "start_time": "2024-12-12T07:22:28.560Z"
   },
   {
    "duration": 235,
    "start_time": "2024-12-12T07:22:28.572Z"
   },
   {
    "duration": 15,
    "start_time": "2024-12-12T07:22:28.808Z"
   },
   {
    "duration": 145,
    "start_time": "2024-12-12T07:22:28.824Z"
   },
   {
    "duration": 137,
    "start_time": "2024-12-12T07:22:28.971Z"
   },
   {
    "duration": 154,
    "start_time": "2024-12-12T07:22:29.109Z"
   },
   {
    "duration": 140,
    "start_time": "2024-12-12T07:22:29.265Z"
   },
   {
    "duration": 75,
    "start_time": "2024-12-12T07:22:29.406Z"
   },
   {
    "duration": 108,
    "start_time": "2024-12-12T07:22:29.482Z"
   },
   {
    "duration": 15,
    "start_time": "2024-12-12T07:22:29.592Z"
   },
   {
    "duration": 14,
    "start_time": "2024-12-12T07:22:29.608Z"
   },
   {
    "duration": 85,
    "start_time": "2024-12-12T07:22:29.623Z"
   },
   {
    "duration": 4,
    "start_time": "2024-12-12T07:22:29.709Z"
   },
   {
    "duration": 33,
    "start_time": "2024-12-12T07:22:29.715Z"
   },
   {
    "duration": 71,
    "start_time": "2024-12-12T07:22:29.749Z"
   },
   {
    "duration": 13,
    "start_time": "2024-12-12T07:22:29.822Z"
   },
   {
    "duration": 5,
    "start_time": "2024-12-12T07:22:29.836Z"
   },
   {
    "duration": 11,
    "start_time": "2024-12-12T07:22:29.842Z"
   },
   {
    "duration": 1148222,
    "start_time": "2024-12-12T07:22:29.854Z"
   },
   {
    "duration": 4,
    "start_time": "2024-12-12T07:41:38.077Z"
   },
   {
    "duration": 39,
    "start_time": "2024-12-12T07:41:38.083Z"
   },
   {
    "duration": 3,
    "start_time": "2024-12-12T07:41:38.123Z"
   },
   {
    "duration": 8,
    "start_time": "2024-12-12T07:41:38.128Z"
   },
   {
    "duration": 384,
    "start_time": "2024-12-12T07:41:38.137Z"
   },
   {
    "duration": 7,
    "start_time": "2024-12-12T07:41:38.523Z"
   },
   {
    "duration": 16,
    "start_time": "2024-12-12T07:41:38.531Z"
   },
   {
    "duration": 2442,
    "start_time": "2024-12-12T08:00:10.817Z"
   },
   {
    "duration": 3397,
    "start_time": "2024-12-12T08:00:13.262Z"
   },
   {
    "duration": 3030,
    "start_time": "2024-12-12T08:00:16.661Z"
   },
   {
    "duration": 3167,
    "start_time": "2024-12-12T08:00:19.693Z"
   },
   {
    "duration": 2709,
    "start_time": "2024-12-12T08:00:22.862Z"
   },
   {
    "duration": 3007,
    "start_time": "2024-12-12T08:00:25.573Z"
   },
   {
    "duration": 1277,
    "start_time": "2024-12-12T08:00:28.582Z"
   },
   {
    "duration": 3,
    "start_time": "2024-12-12T08:00:29.860Z"
   },
   {
    "duration": 941,
    "start_time": "2024-12-12T08:00:29.865Z"
   },
   {
    "duration": 157,
    "start_time": "2024-12-12T08:00:30.808Z"
   },
   {
    "duration": 15,
    "start_time": "2024-12-12T08:00:30.966Z"
   },
   {
    "duration": 87,
    "start_time": "2024-12-12T08:00:30.983Z"
   },
   {
    "duration": 99,
    "start_time": "2024-12-12T08:00:31.071Z"
   },
   {
    "duration": 156,
    "start_time": "2024-12-12T08:00:31.172Z"
   },
   {
    "duration": 464,
    "start_time": "2024-12-12T08:00:31.330Z"
   },
   {
    "duration": 1049,
    "start_time": "2024-12-12T08:00:31.795Z"
   },
   {
    "duration": 851,
    "start_time": "2024-12-12T08:00:32.846Z"
   },
   {
    "duration": 223,
    "start_time": "2024-12-12T08:00:33.699Z"
   },
   {
    "duration": 107,
    "start_time": "2024-12-12T08:00:33.923Z"
   },
   {
    "duration": 4,
    "start_time": "2024-12-12T08:00:34.031Z"
   },
   {
    "duration": 130,
    "start_time": "2024-12-12T08:00:34.037Z"
   },
   {
    "duration": 132,
    "start_time": "2024-12-12T08:00:34.169Z"
   },
   {
    "duration": 38,
    "start_time": "2024-12-12T08:00:34.303Z"
   },
   {
    "duration": 137,
    "start_time": "2024-12-12T08:00:34.342Z"
   },
   {
    "duration": 44,
    "start_time": "2024-12-12T08:00:34.480Z"
   },
   {
    "duration": 163,
    "start_time": "2024-12-12T08:00:34.526Z"
   },
   {
    "duration": 141,
    "start_time": "2024-12-12T08:00:34.691Z"
   },
   {
    "duration": 128,
    "start_time": "2024-12-12T08:00:34.836Z"
   },
   {
    "duration": 116,
    "start_time": "2024-12-12T08:00:34.965Z"
   },
   {
    "duration": 946,
    "start_time": "2024-12-12T08:00:35.083Z"
   },
   {
    "duration": 34,
    "start_time": "2024-12-12T08:00:36.031Z"
   },
   {
    "duration": 30,
    "start_time": "2024-12-12T08:00:36.067Z"
   },
   {
    "duration": 60,
    "start_time": "2024-12-12T08:00:36.098Z"
   },
   {
    "duration": 939,
    "start_time": "2024-12-12T08:00:36.160Z"
   },
   {
    "duration": 443,
    "start_time": "2024-12-12T08:00:37.101Z"
   },
   {
    "duration": 60,
    "start_time": "2024-12-12T08:00:37.546Z"
   },
   {
    "duration": 19,
    "start_time": "2024-12-12T08:00:37.608Z"
   },
   {
    "duration": 23,
    "start_time": "2024-12-12T08:00:37.628Z"
   },
   {
    "duration": 19,
    "start_time": "2024-12-12T08:00:37.653Z"
   },
   {
    "duration": 2,
    "start_time": "2024-12-12T08:00:37.674Z"
   },
   {
    "duration": 17,
    "start_time": "2024-12-12T08:00:37.677Z"
   },
   {
    "duration": 294,
    "start_time": "2024-12-12T08:00:37.695Z"
   },
   {
    "duration": 996,
    "start_time": "2024-12-12T08:00:37.991Z"
   },
   {
    "duration": 368,
    "start_time": "2024-12-12T08:00:38.988Z"
   },
   {
    "duration": 10,
    "start_time": "2024-12-12T08:00:39.358Z"
   },
   {
    "duration": 226,
    "start_time": "2024-12-12T08:00:39.370Z"
   },
   {
    "duration": 12,
    "start_time": "2024-12-12T08:00:39.597Z"
   },
   {
    "duration": 135,
    "start_time": "2024-12-12T08:00:39.622Z"
   },
   {
    "duration": 136,
    "start_time": "2024-12-12T08:00:39.759Z"
   },
   {
    "duration": 160,
    "start_time": "2024-12-12T08:00:39.897Z"
   },
   {
    "duration": 143,
    "start_time": "2024-12-12T08:00:40.059Z"
   },
   {
    "duration": 75,
    "start_time": "2024-12-12T08:00:40.203Z"
   },
   {
    "duration": 109,
    "start_time": "2024-12-12T08:00:40.280Z"
   },
   {
    "duration": 15,
    "start_time": "2024-12-12T08:00:40.391Z"
   },
   {
    "duration": 15,
    "start_time": "2024-12-12T08:00:40.407Z"
   },
   {
    "duration": 85,
    "start_time": "2024-12-12T08:00:40.424Z"
   },
   {
    "duration": 4,
    "start_time": "2024-12-12T08:00:40.511Z"
   },
   {
    "duration": 49,
    "start_time": "2024-12-12T08:00:40.516Z"
   },
   {
    "duration": 17,
    "start_time": "2024-12-12T08:00:40.566Z"
   },
   {
    "duration": 22,
    "start_time": "2024-12-12T08:00:40.585Z"
   },
   {
    "duration": 17,
    "start_time": "2024-12-12T08:00:40.608Z"
   },
   {
    "duration": 20,
    "start_time": "2024-12-12T08:00:40.626Z"
   },
   {
    "duration": 1149826,
    "start_time": "2024-12-12T08:00:40.647Z"
   },
   {
    "duration": 5,
    "start_time": "2024-12-12T08:19:50.474Z"
   },
   {
    "duration": 64,
    "start_time": "2024-12-12T08:19:50.481Z"
   },
   {
    "duration": 70,
    "start_time": "2024-12-12T08:19:50.547Z"
   },
   {
    "duration": 33,
    "start_time": "2024-12-12T08:19:50.618Z"
   },
   {
    "duration": 23,
    "start_time": "2024-12-12T08:19:50.652Z"
   },
   {
    "duration": 49,
    "start_time": "2024-12-12T08:19:50.677Z"
   },
   {
    "duration": 56,
    "start_time": "2024-12-12T08:19:50.727Z"
   },
   {
    "duration": 1072137,
    "start_time": "2024-12-12T08:19:50.786Z"
   },
   {
    "duration": 2437,
    "start_time": "2024-12-12T08:38:24.003Z"
   },
   {
    "duration": 2689,
    "start_time": "2024-12-12T08:38:26.442Z"
   },
   {
    "duration": 3018,
    "start_time": "2024-12-12T08:38:29.133Z"
   },
   {
    "duration": 3172,
    "start_time": "2024-12-12T08:38:32.154Z"
   },
   {
    "duration": 2835,
    "start_time": "2024-12-12T08:38:35.329Z"
   },
   {
    "duration": 2939,
    "start_time": "2024-12-12T08:38:38.166Z"
   },
   {
    "duration": 1351,
    "start_time": "2024-12-12T08:38:41.107Z"
   },
   {
    "duration": 3,
    "start_time": "2024-12-12T08:38:42.460Z"
   },
   {
    "duration": 936,
    "start_time": "2024-12-12T08:38:42.464Z"
   },
   {
    "duration": 147,
    "start_time": "2024-12-12T08:38:43.403Z"
   },
   {
    "duration": 23,
    "start_time": "2024-12-12T08:38:43.551Z"
   },
   {
    "duration": 103,
    "start_time": "2024-12-12T08:38:43.575Z"
   },
   {
    "duration": 93,
    "start_time": "2024-12-12T08:38:43.680Z"
   },
   {
    "duration": 147,
    "start_time": "2024-12-12T08:38:43.775Z"
   },
   {
    "duration": 454,
    "start_time": "2024-12-12T08:38:43.924Z"
   },
   {
    "duration": 976,
    "start_time": "2024-12-12T08:38:44.381Z"
   },
   {
    "duration": 803,
    "start_time": "2024-12-12T08:38:45.358Z"
   },
   {
    "duration": 181,
    "start_time": "2024-12-12T08:38:46.163Z"
   },
   {
    "duration": 106,
    "start_time": "2024-12-12T08:38:46.345Z"
   },
   {
    "duration": 3,
    "start_time": "2024-12-12T08:38:46.453Z"
   },
   {
    "duration": 116,
    "start_time": "2024-12-12T08:38:46.458Z"
   },
   {
    "duration": 134,
    "start_time": "2024-12-12T08:38:46.575Z"
   },
   {
    "duration": 45,
    "start_time": "2024-12-12T08:38:46.711Z"
   },
   {
    "duration": 148,
    "start_time": "2024-12-12T08:38:46.757Z"
   },
   {
    "duration": 48,
    "start_time": "2024-12-12T08:38:46.907Z"
   },
   {
    "duration": 150,
    "start_time": "2024-12-12T08:38:46.957Z"
   },
   {
    "duration": 165,
    "start_time": "2024-12-12T08:38:47.109Z"
   },
   {
    "duration": 140,
    "start_time": "2024-12-12T08:38:47.279Z"
   },
   {
    "duration": 117,
    "start_time": "2024-12-12T08:38:47.420Z"
   },
   {
    "duration": 966,
    "start_time": "2024-12-12T08:38:47.539Z"
   },
   {
    "duration": 34,
    "start_time": "2024-12-12T08:38:48.507Z"
   },
   {
    "duration": 15,
    "start_time": "2024-12-12T08:38:48.543Z"
   },
   {
    "duration": 33,
    "start_time": "2024-12-12T08:38:48.560Z"
   },
   {
    "duration": 922,
    "start_time": "2024-12-12T08:38:48.595Z"
   },
   {
    "duration": 431,
    "start_time": "2024-12-12T08:38:49.521Z"
   },
   {
    "duration": 56,
    "start_time": "2024-12-12T08:38:49.954Z"
   },
   {
    "duration": 16,
    "start_time": "2024-12-12T08:38:50.012Z"
   },
   {
    "duration": 18,
    "start_time": "2024-12-12T08:38:50.030Z"
   },
   {
    "duration": 38,
    "start_time": "2024-12-12T08:38:50.050Z"
   },
   {
    "duration": 47,
    "start_time": "2024-12-12T08:38:50.090Z"
   },
   {
    "duration": 16,
    "start_time": "2024-12-12T08:38:50.138Z"
   },
   {
    "duration": 289,
    "start_time": "2024-12-12T08:38:50.156Z"
   },
   {
    "duration": 952,
    "start_time": "2024-12-12T08:38:50.447Z"
   },
   {
    "duration": 364,
    "start_time": "2024-12-12T08:38:51.401Z"
   },
   {
    "duration": 27,
    "start_time": "2024-12-12T08:38:51.767Z"
   },
   {
    "duration": 230,
    "start_time": "2024-12-12T08:38:51.796Z"
   },
   {
    "duration": 12,
    "start_time": "2024-12-12T08:38:52.028Z"
   },
   {
    "duration": 228,
    "start_time": "2024-12-12T08:38:52.042Z"
   },
   {
    "duration": 173,
    "start_time": "2024-12-12T08:38:52.272Z"
   },
   {
    "duration": 156,
    "start_time": "2024-12-12T08:38:52.447Z"
   },
   {
    "duration": 151,
    "start_time": "2024-12-12T08:38:52.605Z"
   },
   {
    "duration": 83,
    "start_time": "2024-12-12T08:38:52.758Z"
   },
   {
    "duration": 188,
    "start_time": "2024-12-12T08:38:52.842Z"
   },
   {
    "duration": 15,
    "start_time": "2024-12-12T08:38:53.031Z"
   },
   {
    "duration": 2,
    "start_time": "2024-12-12T08:38:53.048Z"
   },
   {
    "duration": 84,
    "start_time": "2024-12-12T08:38:53.051Z"
   },
   {
    "duration": 4,
    "start_time": "2024-12-12T08:38:53.136Z"
   },
   {
    "duration": 4,
    "start_time": "2024-12-12T08:38:53.141Z"
   },
   {
    "duration": 3,
    "start_time": "2024-12-12T08:38:53.147Z"
   },
   {
    "duration": 3,
    "start_time": "2024-12-12T08:38:53.152Z"
   },
   {
    "duration": 3,
    "start_time": "2024-12-12T08:38:53.157Z"
   },
   {
    "duration": 7,
    "start_time": "2024-12-12T08:38:53.161Z"
   },
   {
    "duration": 1138003,
    "start_time": "2024-12-12T08:38:53.169Z"
   },
   {
    "duration": 5,
    "start_time": "2024-12-12T08:57:51.174Z"
   },
   {
    "duration": 25,
    "start_time": "2024-12-12T08:57:51.180Z"
   },
   {
    "duration": 18,
    "start_time": "2024-12-12T08:57:51.206Z"
   },
   {
    "duration": 7,
    "start_time": "2024-12-12T08:57:51.226Z"
   },
   {
    "duration": 9,
    "start_time": "2024-12-12T08:57:51.235Z"
   },
   {
    "duration": 1088908,
    "start_time": "2024-12-12T08:57:51.245Z"
   },
   {
    "duration": 426641,
    "start_time": "2024-12-12T09:16:00.155Z"
   },
   {
    "duration": 0,
    "start_time": "2024-12-12T09:23:06.798Z"
   },
   {
    "duration": 0,
    "start_time": "2024-12-12T09:23:06.799Z"
   },
   {
    "duration": 0,
    "start_time": "2024-12-12T09:23:06.800Z"
   },
   {
    "duration": 0,
    "start_time": "2024-12-12T09:23:06.801Z"
   },
   {
    "duration": 0,
    "start_time": "2024-12-12T09:23:06.802Z"
   },
   {
    "duration": 0,
    "start_time": "2024-12-12T09:23:06.803Z"
   },
   {
    "duration": 0,
    "start_time": "2024-12-12T09:23:06.804Z"
   },
   {
    "duration": 2417,
    "start_time": "2024-12-12T09:28:54.415Z"
   },
   {
    "duration": 3856,
    "start_time": "2024-12-12T09:28:56.834Z"
   },
   {
    "duration": 2915,
    "start_time": "2024-12-12T09:29:00.693Z"
   },
   {
    "duration": 3177,
    "start_time": "2024-12-12T09:29:03.611Z"
   },
   {
    "duration": 3245,
    "start_time": "2024-12-12T09:29:06.790Z"
   },
   {
    "duration": 2934,
    "start_time": "2024-12-12T09:29:10.037Z"
   },
   {
    "duration": 1249,
    "start_time": "2024-12-12T09:29:12.973Z"
   },
   {
    "duration": 4,
    "start_time": "2024-12-12T09:29:14.223Z"
   },
   {
    "duration": 903,
    "start_time": "2024-12-12T09:29:14.229Z"
   },
   {
    "duration": 145,
    "start_time": "2024-12-12T09:29:15.135Z"
   },
   {
    "duration": 40,
    "start_time": "2024-12-12T09:29:15.282Z"
   },
   {
    "duration": 84,
    "start_time": "2024-12-12T09:29:15.323Z"
   },
   {
    "duration": 133,
    "start_time": "2024-12-12T09:29:15.409Z"
   },
   {
    "duration": 150,
    "start_time": "2024-12-12T09:29:15.544Z"
   },
   {
    "duration": 485,
    "start_time": "2024-12-12T09:29:15.695Z"
   },
   {
    "duration": 1721,
    "start_time": "2024-12-12T09:29:16.182Z"
   },
   {
    "duration": 865,
    "start_time": "2024-12-12T09:29:17.905Z"
   },
   {
    "duration": 226,
    "start_time": "2024-12-12T09:29:18.771Z"
   },
   {
    "duration": 102,
    "start_time": "2024-12-12T09:29:18.999Z"
   },
   {
    "duration": 4,
    "start_time": "2024-12-12T09:29:19.102Z"
   },
   {
    "duration": 124,
    "start_time": "2024-12-12T09:29:19.108Z"
   },
   {
    "duration": 139,
    "start_time": "2024-12-12T09:29:19.233Z"
   },
   {
    "duration": 37,
    "start_time": "2024-12-12T09:29:19.374Z"
   },
   {
    "duration": 134,
    "start_time": "2024-12-12T09:29:19.422Z"
   },
   {
    "duration": 38,
    "start_time": "2024-12-12T09:29:19.558Z"
   },
   {
    "duration": 138,
    "start_time": "2024-12-12T09:29:19.598Z"
   },
   {
    "duration": 135,
    "start_time": "2024-12-12T09:29:19.738Z"
   },
   {
    "duration": 132,
    "start_time": "2024-12-12T09:29:19.878Z"
   },
   {
    "duration": 122,
    "start_time": "2024-12-12T09:29:20.013Z"
   },
   {
    "duration": 950,
    "start_time": "2024-12-12T09:29:20.137Z"
   },
   {
    "duration": 34,
    "start_time": "2024-12-12T09:29:21.089Z"
   },
   {
    "duration": 18,
    "start_time": "2024-12-12T09:29:21.125Z"
   },
   {
    "duration": 36,
    "start_time": "2024-12-12T09:29:21.144Z"
   },
   {
    "duration": 951,
    "start_time": "2024-12-12T09:29:21.181Z"
   },
   {
    "duration": 473,
    "start_time": "2024-12-12T09:29:22.133Z"
   },
   {
    "duration": 73,
    "start_time": "2024-12-12T09:29:22.608Z"
   },
   {
    "duration": 8,
    "start_time": "2024-12-12T09:29:22.683Z"
   },
   {
    "duration": 30,
    "start_time": "2024-12-12T09:29:22.692Z"
   },
   {
    "duration": 15,
    "start_time": "2024-12-12T09:29:22.724Z"
   },
   {
    "duration": 2,
    "start_time": "2024-12-12T09:29:22.741Z"
   },
   {
    "duration": 24,
    "start_time": "2024-12-12T09:29:22.745Z"
   },
   {
    "duration": 285,
    "start_time": "2024-12-12T09:29:22.770Z"
   },
   {
    "duration": 968,
    "start_time": "2024-12-12T09:29:23.057Z"
   },
   {
    "duration": 372,
    "start_time": "2024-12-12T09:29:24.027Z"
   },
   {
    "duration": 11,
    "start_time": "2024-12-12T09:29:24.401Z"
   },
   {
    "duration": 209,
    "start_time": "2024-12-12T09:29:24.421Z"
   },
   {
    "duration": 11,
    "start_time": "2024-12-12T09:29:24.631Z"
   },
   {
    "duration": 144,
    "start_time": "2024-12-12T09:29:24.643Z"
   },
   {
    "duration": 134,
    "start_time": "2024-12-12T09:29:24.788Z"
   },
   {
    "duration": 150,
    "start_time": "2024-12-12T09:29:24.924Z"
   },
   {
    "duration": 146,
    "start_time": "2024-12-12T09:29:25.076Z"
   },
   {
    "duration": 77,
    "start_time": "2024-12-12T09:29:25.224Z"
   },
   {
    "duration": 112,
    "start_time": "2024-12-12T09:29:25.303Z"
   },
   {
    "duration": 15,
    "start_time": "2024-12-12T09:29:25.416Z"
   },
   {
    "duration": 2,
    "start_time": "2024-12-12T09:29:25.432Z"
   },
   {
    "duration": 80,
    "start_time": "2024-12-12T09:29:25.436Z"
   },
   {
    "duration": 4,
    "start_time": "2024-12-12T09:29:25.522Z"
   },
   {
    "duration": 12,
    "start_time": "2024-12-12T09:29:25.527Z"
   },
   {
    "duration": 12,
    "start_time": "2024-12-12T09:29:25.541Z"
   },
   {
    "duration": 6,
    "start_time": "2024-12-12T09:29:25.554Z"
   },
   {
    "duration": 12,
    "start_time": "2024-12-12T09:29:25.561Z"
   },
   {
    "duration": 12,
    "start_time": "2024-12-12T09:29:25.574Z"
   },
   {
    "duration": 1134184,
    "start_time": "2024-12-12T09:29:25.588Z"
   },
   {
    "duration": 4,
    "start_time": "2024-12-12T09:48:19.774Z"
   },
   {
    "duration": 42,
    "start_time": "2024-12-12T09:48:19.780Z"
   },
   {
    "duration": 6,
    "start_time": "2024-12-12T09:48:19.823Z"
   },
   {
    "duration": 19,
    "start_time": "2024-12-12T09:48:19.831Z"
   },
   {
    "duration": 137,
    "start_time": "2024-12-12T09:48:19.852Z"
   },
   {
    "duration": 0,
    "start_time": "2024-12-12T09:48:19.990Z"
   },
   {
    "duration": 0,
    "start_time": "2024-12-12T09:48:19.992Z"
   },
   {
    "duration": 0,
    "start_time": "2024-12-12T09:48:19.993Z"
   },
   {
    "duration": 0,
    "start_time": "2024-12-12T09:48:19.994Z"
   },
   {
    "duration": 0,
    "start_time": "2024-12-12T09:48:19.995Z"
   },
   {
    "duration": 0,
    "start_time": "2024-12-12T09:48:19.996Z"
   },
   {
    "duration": 0,
    "start_time": "2024-12-12T09:48:19.997Z"
   },
   {
    "duration": 0,
    "start_time": "2024-12-12T09:48:19.999Z"
   },
   {
    "duration": 0,
    "start_time": "2024-12-12T09:48:20.000Z"
   },
   {
    "duration": 2482,
    "start_time": "2024-12-12T11:08:21.859Z"
   },
   {
    "duration": 2630,
    "start_time": "2024-12-12T11:08:24.343Z"
   },
   {
    "duration": 2958,
    "start_time": "2024-12-12T11:08:26.975Z"
   },
   {
    "duration": 3133,
    "start_time": "2024-12-12T11:08:29.936Z"
   },
   {
    "duration": 2678,
    "start_time": "2024-12-12T11:08:33.071Z"
   },
   {
    "duration": 3042,
    "start_time": "2024-12-12T11:08:35.751Z"
   },
   {
    "duration": 1382,
    "start_time": "2024-12-12T11:08:38.795Z"
   },
   {
    "duration": 3,
    "start_time": "2024-12-12T11:08:40.179Z"
   },
   {
    "duration": 915,
    "start_time": "2024-12-12T11:08:40.183Z"
   },
   {
    "duration": 161,
    "start_time": "2024-12-12T11:08:41.101Z"
   },
   {
    "duration": 15,
    "start_time": "2024-12-12T11:08:41.263Z"
   },
   {
    "duration": 102,
    "start_time": "2024-12-12T11:08:41.280Z"
   },
   {
    "duration": 97,
    "start_time": "2024-12-12T11:08:41.383Z"
   },
   {
    "duration": 152,
    "start_time": "2024-12-12T11:08:41.481Z"
   },
   {
    "duration": 474,
    "start_time": "2024-12-12T11:08:41.634Z"
   },
   {
    "duration": 1050,
    "start_time": "2024-12-12T11:08:42.109Z"
   },
   {
    "duration": 833,
    "start_time": "2024-12-12T11:08:43.161Z"
   },
   {
    "duration": 236,
    "start_time": "2024-12-12T11:08:43.995Z"
   },
   {
    "duration": 111,
    "start_time": "2024-12-12T11:08:44.232Z"
   },
   {
    "duration": 3,
    "start_time": "2024-12-12T11:08:44.345Z"
   },
   {
    "duration": 120,
    "start_time": "2024-12-12T11:08:44.350Z"
   },
   {
    "duration": 136,
    "start_time": "2024-12-12T11:08:44.472Z"
   },
   {
    "duration": 41,
    "start_time": "2024-12-12T11:08:44.610Z"
   },
   {
    "duration": 134,
    "start_time": "2024-12-12T11:08:44.653Z"
   },
   {
    "duration": 42,
    "start_time": "2024-12-12T11:08:44.789Z"
   },
   {
    "duration": 161,
    "start_time": "2024-12-12T11:08:44.832Z"
   },
   {
    "duration": 135,
    "start_time": "2024-12-12T11:08:44.994Z"
   },
   {
    "duration": 146,
    "start_time": "2024-12-12T11:08:45.133Z"
   },
   {
    "duration": 119,
    "start_time": "2024-12-12T11:08:45.280Z"
   },
   {
    "duration": 965,
    "start_time": "2024-12-12T11:08:45.401Z"
   },
   {
    "duration": 33,
    "start_time": "2024-12-12T11:08:46.367Z"
   },
   {
    "duration": 32,
    "start_time": "2024-12-12T11:08:46.402Z"
   },
   {
    "duration": 33,
    "start_time": "2024-12-12T11:08:46.436Z"
   },
   {
    "duration": 921,
    "start_time": "2024-12-12T11:08:46.470Z"
   },
   {
    "duration": 456,
    "start_time": "2024-12-12T11:08:47.393Z"
   },
   {
    "duration": 72,
    "start_time": "2024-12-12T11:08:47.850Z"
   },
   {
    "duration": 10,
    "start_time": "2024-12-12T11:08:47.923Z"
   },
   {
    "duration": 19,
    "start_time": "2024-12-12T11:08:47.935Z"
   },
   {
    "duration": 20,
    "start_time": "2024-12-12T11:08:47.956Z"
   },
   {
    "duration": 3,
    "start_time": "2024-12-12T11:08:47.978Z"
   },
   {
    "duration": 39,
    "start_time": "2024-12-12T11:08:47.983Z"
   },
   {
    "duration": 306,
    "start_time": "2024-12-12T11:08:48.023Z"
   },
   {
    "duration": 975,
    "start_time": "2024-12-12T11:08:48.331Z"
   },
   {
    "duration": 356,
    "start_time": "2024-12-12T11:08:49.307Z"
   },
   {
    "duration": 10,
    "start_time": "2024-12-12T11:08:49.664Z"
   },
   {
    "duration": 222,
    "start_time": "2024-12-12T11:08:49.676Z"
   },
   {
    "duration": 21,
    "start_time": "2024-12-12T11:08:49.900Z"
   },
   {
    "duration": 147,
    "start_time": "2024-12-12T11:08:49.923Z"
   },
   {
    "duration": 138,
    "start_time": "2024-12-12T11:08:50.072Z"
   },
   {
    "duration": 151,
    "start_time": "2024-12-12T11:08:50.212Z"
   },
   {
    "duration": 146,
    "start_time": "2024-12-12T11:08:50.365Z"
   },
   {
    "duration": 84,
    "start_time": "2024-12-12T11:08:50.513Z"
   },
   {
    "duration": 112,
    "start_time": "2024-12-12T11:08:50.599Z"
   },
   {
    "duration": 18,
    "start_time": "2024-12-12T11:08:50.713Z"
   },
   {
    "duration": 3,
    "start_time": "2024-12-12T11:08:50.732Z"
   },
   {
    "duration": 71,
    "start_time": "2024-12-12T11:08:50.737Z"
   },
   {
    "duration": 13,
    "start_time": "2024-12-12T11:08:50.810Z"
   },
   {
    "duration": 86,
    "start_time": "2024-12-12T11:08:50.824Z"
   },
   {
    "duration": 8,
    "start_time": "2024-12-12T11:08:50.911Z"
   },
   {
    "duration": 7,
    "start_time": "2024-12-12T11:08:50.921Z"
   },
   {
    "duration": 17,
    "start_time": "2024-12-12T11:08:50.929Z"
   },
   {
    "duration": 7,
    "start_time": "2024-12-12T11:08:50.947Z"
   },
   {
    "duration": 1122616,
    "start_time": "2024-12-12T11:08:50.955Z"
   },
   {
    "duration": 5,
    "start_time": "2024-12-12T11:27:33.573Z"
   },
   {
    "duration": 34,
    "start_time": "2024-12-12T11:27:33.580Z"
   },
   {
    "duration": 7,
    "start_time": "2024-12-12T11:27:33.622Z"
   },
   {
    "duration": 24,
    "start_time": "2024-12-12T11:27:33.631Z"
   },
   {
    "duration": 29,
    "start_time": "2024-12-12T11:27:33.656Z"
   },
   {
    "duration": 1354051,
    "start_time": "2024-12-12T11:27:33.686Z"
   },
   {
    "duration": 3000006,
    "start_time": "2024-12-12T11:50:07.738Z"
   },
   {
    "duration": 14,
    "start_time": "2024-12-12T12:40:07.745Z"
   },
   {
    "duration": 72,
    "start_time": "2024-12-12T12:40:07.761Z"
   },
   {
    "duration": 41,
    "start_time": "2024-12-12T12:40:07.835Z"
   },
   {
    "duration": 9,
    "start_time": "2024-12-12T12:40:07.878Z"
   },
   {
    "duration": 35,
    "start_time": "2024-12-12T12:40:07.888Z"
   },
   {
    "duration": 38911,
    "start_time": "2024-12-12T12:40:07.925Z"
   },
   {
    "duration": 170,
    "start_time": "2024-12-12T12:40:46.838Z"
   },
   {
    "duration": 2404,
    "start_time": "2024-12-12T15:03:58.688Z"
   },
   {
    "duration": 2718,
    "start_time": "2024-12-12T15:04:01.095Z"
   },
   {
    "duration": 2933,
    "start_time": "2024-12-12T15:04:03.815Z"
   },
   {
    "duration": 3145,
    "start_time": "2024-12-12T15:04:06.750Z"
   },
   {
    "duration": 2569,
    "start_time": "2024-12-12T15:04:09.897Z"
   },
   {
    "duration": 2878,
    "start_time": "2024-12-12T15:04:12.468Z"
   },
   {
    "duration": 1300,
    "start_time": "2024-12-12T15:04:15.348Z"
   },
   {
    "duration": 4,
    "start_time": "2024-12-12T15:04:16.649Z"
   },
   {
    "duration": 917,
    "start_time": "2024-12-12T15:04:16.655Z"
   },
   {
    "duration": 148,
    "start_time": "2024-12-12T15:04:17.575Z"
   },
   {
    "duration": 15,
    "start_time": "2024-12-12T15:04:17.725Z"
   },
   {
    "duration": 81,
    "start_time": "2024-12-12T15:04:17.741Z"
   },
   {
    "duration": 141,
    "start_time": "2024-12-12T15:04:17.824Z"
   },
   {
    "duration": 160,
    "start_time": "2024-12-12T15:04:17.967Z"
   },
   {
    "duration": 471,
    "start_time": "2024-12-12T15:04:18.128Z"
   },
   {
    "duration": 1024,
    "start_time": "2024-12-12T15:04:18.601Z"
   },
   {
    "duration": 861,
    "start_time": "2024-12-12T15:04:19.627Z"
   },
   {
    "duration": 225,
    "start_time": "2024-12-12T15:04:20.490Z"
   },
   {
    "duration": 102,
    "start_time": "2024-12-12T15:04:20.726Z"
   },
   {
    "duration": 4,
    "start_time": "2024-12-12T15:04:20.830Z"
   },
   {
    "duration": 131,
    "start_time": "2024-12-12T15:04:20.836Z"
   },
   {
    "duration": 135,
    "start_time": "2024-12-12T15:04:20.968Z"
   },
   {
    "duration": 40,
    "start_time": "2024-12-12T15:04:21.105Z"
   },
   {
    "duration": 133,
    "start_time": "2024-12-12T15:04:21.147Z"
   },
   {
    "duration": 45,
    "start_time": "2024-12-12T15:04:21.282Z"
   },
   {
    "duration": 151,
    "start_time": "2024-12-12T15:04:21.328Z"
   },
   {
    "duration": 132,
    "start_time": "2024-12-12T15:04:21.481Z"
   },
   {
    "duration": 125,
    "start_time": "2024-12-12T15:04:21.622Z"
   },
   {
    "duration": 114,
    "start_time": "2024-12-12T15:04:21.749Z"
   },
   {
    "duration": 972,
    "start_time": "2024-12-12T15:04:21.864Z"
   },
   {
    "duration": 26,
    "start_time": "2024-12-12T15:04:22.837Z"
   },
   {
    "duration": 16,
    "start_time": "2024-12-12T15:04:22.864Z"
   },
   {
    "duration": 55,
    "start_time": "2024-12-12T15:04:22.881Z"
   },
   {
    "duration": 909,
    "start_time": "2024-12-12T15:04:22.937Z"
   },
   {
    "duration": 435,
    "start_time": "2024-12-12T15:04:23.847Z"
   },
   {
    "duration": 70,
    "start_time": "2024-12-12T15:04:24.284Z"
   },
   {
    "duration": 9,
    "start_time": "2024-12-12T15:04:24.356Z"
   },
   {
    "duration": 82,
    "start_time": "2024-12-12T15:04:24.366Z"
   },
   {
    "duration": 15,
    "start_time": "2024-12-12T15:04:24.449Z"
   },
   {
    "duration": 14,
    "start_time": "2024-12-12T15:04:24.466Z"
   },
   {
    "duration": 4,
    "start_time": "2024-12-12T15:04:24.482Z"
   },
   {
    "duration": 263,
    "start_time": "2024-12-12T15:04:24.488Z"
   },
   {
    "duration": 927,
    "start_time": "2024-12-12T15:04:24.753Z"
   },
   {
    "duration": 361,
    "start_time": "2024-12-12T15:04:25.681Z"
   },
   {
    "duration": 10,
    "start_time": "2024-12-12T15:04:26.044Z"
   },
   {
    "duration": 219,
    "start_time": "2024-12-12T15:04:26.055Z"
   },
   {
    "duration": 10,
    "start_time": "2024-12-12T15:04:26.276Z"
   },
   {
    "duration": 144,
    "start_time": "2024-12-12T15:04:26.288Z"
   },
   {
    "duration": 139,
    "start_time": "2024-12-12T15:04:26.433Z"
   },
   {
    "duration": 156,
    "start_time": "2024-12-12T15:04:26.574Z"
   },
   {
    "duration": 138,
    "start_time": "2024-12-12T15:04:26.732Z"
   },
   {
    "duration": 83,
    "start_time": "2024-12-12T15:04:26.872Z"
   },
   {
    "duration": 110,
    "start_time": "2024-12-12T15:04:26.957Z"
   },
   {
    "duration": 14,
    "start_time": "2024-12-12T15:04:27.069Z"
   },
   {
    "duration": 3,
    "start_time": "2024-12-12T15:04:27.085Z"
   },
   {
    "duration": 83,
    "start_time": "2024-12-12T15:04:27.089Z"
   },
   {
    "duration": 4,
    "start_time": "2024-12-12T15:04:27.173Z"
   },
   {
    "duration": 10,
    "start_time": "2024-12-12T15:04:27.178Z"
   },
   {
    "duration": 4,
    "start_time": "2024-12-12T15:04:27.189Z"
   },
   {
    "duration": 17,
    "start_time": "2024-12-12T15:04:27.195Z"
   },
   {
    "duration": 4,
    "start_time": "2024-12-12T15:04:27.214Z"
   },
   {
    "duration": 3,
    "start_time": "2024-12-12T15:04:27.222Z"
   },
   {
    "duration": 1145349,
    "start_time": "2024-12-12T15:04:27.226Z"
   },
   {
    "duration": 4,
    "start_time": "2024-12-12T15:23:32.577Z"
   },
   {
    "duration": 40,
    "start_time": "2024-12-12T15:23:32.582Z"
   },
   {
    "duration": 20,
    "start_time": "2024-12-12T15:23:32.624Z"
   },
   {
    "duration": 48,
    "start_time": "2024-12-12T15:23:32.646Z"
   },
   {
    "duration": 40,
    "start_time": "2024-12-12T15:23:32.695Z"
   },
   {
    "duration": 1068987,
    "start_time": "2024-12-12T15:23:32.737Z"
   },
   {
    "duration": 13,
    "start_time": "2024-12-12T15:41:21.726Z"
   },
   {
    "duration": 7,
    "start_time": "2024-12-12T15:41:21.740Z"
   },
   {
    "duration": 5,
    "start_time": "2024-12-12T15:41:21.748Z"
   },
   {
    "duration": 7,
    "start_time": "2024-12-12T15:41:21.754Z"
   },
   {
    "duration": 9,
    "start_time": "2024-12-12T15:41:21.762Z"
   },
   {
    "duration": 38648,
    "start_time": "2024-12-12T15:41:21.773Z"
   },
   {
    "duration": 161,
    "start_time": "2024-12-12T15:42:00.423Z"
   }
  ],
  "kernelspec": {
   "display_name": "Python 3 (ipykernel)",
   "language": "python",
   "name": "python3"
  },
  "language_info": {
   "codemirror_mode": {
    "name": "ipython",
    "version": 3
   },
   "file_extension": ".py",
   "mimetype": "text/x-python",
   "name": "python",
   "nbconvert_exporter": "python",
   "pygments_lexer": "ipython3",
   "version": "3.9.5"
  },
  "toc": {
   "base_numbering": 1,
   "nav_menu": {},
   "number_sections": true,
   "sideBar": true,
   "skip_h1_title": true,
   "title_cell": "Table of Contents",
   "title_sidebar": "Contents",
   "toc_cell": false,
   "toc_position": {
    "height": "calc(100% - 180px)",
    "left": "10px",
    "top": "150px",
    "width": "241.179px"
   },
   "toc_section_display": true,
   "toc_window_display": true
  }
 },
 "nbformat": 4,
 "nbformat_minor": 2
}
